{
  "nbformat": 4,
  "nbformat_minor": 0,
  "metadata": {
    "colab": {
      "name": "CRF-Khmer-Segmentation.ipynb",
      "provenance": [],
      "collapsed_sections": [
        "k6fgyuPOBq4u",
        "lgZU6O8itMJb",
        "_nfQK43XQcVC",
        "iRCymsNP6g9t",
        "fEd_Blw4RCVl",
        "bcoBjznTwNmM",
        "BKtS2Ou8a6Kz",
        "JXovYnXja080",
        "fFm396Eu7y0V",
        "xbNmOwSj78Xd",
        "ND7oa9sTXGhc",
        "WBCbZFnBZ0kM",
        "s2ujCri7lUkV"
      ],
      "machine_shape": "hm",
      "include_colab_link": true
    },
    "kernelspec": {
      "name": "python3",
      "display_name": "Python 3"
    },
    "accelerator": "GPU"
  },
  "cells": [
    {
      "cell_type": "markdown",
      "metadata": {
        "id": "view-in-github",
        "colab_type": "text"
      },
      "source": [
        "<a href=\"https://colab.research.google.com/github/hoangdqvn/khmer-segmentation-crf/blob/main/CRF_Khmer_Segmentation.ipynb\" target=\"_parent\"><img src=\"https://colab.research.google.com/assets/colab-badge.svg\" alt=\"Open In Colab\"/></a>"
      ]
    },
    {
      "cell_type": "markdown",
      "metadata": {
        "id": "gFXe9fPQL_Z_"
      },
      "source": [
        "# Building Khmer Word Segmentation using Conditional Random Fields\n",
        "This notebook contains the complete code that can be run to see the results as part of the approach to make this a reproducable research. Instruction is included on how to setup and run in Google Colab or any other python notebook compatible environments.\n",
        "\n",
        "This notebook conains two sections. \n",
        "1. **Report**:  covers the report potion of this study which describe the approach, the algorithm and the results. See \"CRF-Khmer-Segmnt-Report.ipynb\".\n",
        "1. **Code**: shows the code which detail  the setup so you can follow along and see the excution results. You can execute the code in this Python notebook directly from your browser when setup to use Google Colab or other compatible systems.\n",
        "\n",
        "Expand each section and subsection to see detail.\n",
        "\n"
      ]
    },
    {
      "cell_type": "markdown",
      "metadata": {
        "id": "AQRaqS87HlqH"
      },
      "source": [
        "# Code"
      ]
    },
    {
      "cell_type": "markdown",
      "metadata": {
        "id": "aUiclj8VJIiT"
      },
      "source": [
        "## Environment Setup"
      ]
    },
    {
      "cell_type": "markdown",
      "metadata": {
        "id": "nUiyLoMIMJhr"
      },
      "source": [
        "### Use this notebook in Google Colab\n",
        "Google Colab is currently giving free access to run Python notebook. So you can open this notebook in Google Colab and connect to an runtime which allow you to execute the code on the server from your browser. Make sure to enable  GPU as your runtime.\n",
        "\n",
        "If you view this from github, follow the instruction on the simple steps to setup, please see the README in Githubs for detail.\n",
        "\n",
        "https://github.com/phylypo/khmer-crf-segmentation"
      ]
    },
    {
      "cell_type": "markdown",
      "metadata": {
        "id": "jg0RMWAqMaz6"
      },
      "source": [
        "### Install library\n",
        "Every time to freshly connect to runtime you need to update your environment. Some time reconnect will give you previous state (such as idle time out). In this case, you don't need to reinstall the module or download the data. But rerun won't hurt it as we make each step re-runable."
      ]
    },
    {
      "cell_type": "code",
      "metadata": {
        "colab": {
          "base_uri": "https://localhost:8080/"
        },
        "id": "xTZEXuWXNaoz",
        "outputId": "1a65f2d6-1c53-44b2-ca69-9b9ad725e309"
      },
      "source": [
        "!pwd"
      ],
      "execution_count": 1,
      "outputs": [
        {
          "output_type": "stream",
          "text": [
            "/content\n"
          ],
          "name": "stdout"
        }
      ]
    },
    {
      "cell_type": "code",
      "metadata": {
        "id": "ipR91Z5iPhBN",
        "colab": {
          "base_uri": "https://localhost:8080/"
        },
        "outputId": "4ad3fd95-833a-4119-8e1e-9d60f50f70db"
      },
      "source": [
        "from google.colab import drive\n",
        "drive.mount('/content/drive')"
      ],
      "execution_count": 2,
      "outputs": [
        {
          "output_type": "stream",
          "text": [
            "Mounted at /content/drive\n"
          ],
          "name": "stdout"
        }
      ]
    },
    {
      "cell_type": "code",
      "metadata": {
        "colab": {
          "base_uri": "https://localhost:8080/"
        },
        "id": "3uMlzOYcP4Ub",
        "outputId": "64562a5e-6545-441d-da97-69dbf0805525"
      },
      "source": [
        "%cd drive/MyDrive/GR\\ -\\ HEDSPI\\ K61/Khmer/CRFHoang"
      ],
      "execution_count": 3,
      "outputs": [
        {
          "output_type": "stream",
          "text": [
            "/content/drive/MyDrive/GR - HEDSPI K61/Khmer/CRFHoang\n"
          ],
          "name": "stdout"
        }
      ]
    },
    {
      "cell_type": "code",
      "metadata": {
        "id": "L8Q_d77wM1CL",
        "colab": {
          "base_uri": "https://localhost:8080/"
        },
        "outputId": "abc68b08-b0f7-4c90-e8fb-1c34a51d2377"
      },
      "source": [
        "# Character `!` in the beginning of the line indicates a shell command\n",
        "!pip install sklearn_crfsuite\n",
        "\n",
        "# import of the crf library\n",
        "import sklearn_crfsuite\n",
        "from sklearn_crfsuite import scorers\n",
        "from sklearn_crfsuite import metrics"
      ],
      "execution_count": 4,
      "outputs": [
        {
          "output_type": "stream",
          "text": [
            "Collecting sklearn_crfsuite\n",
            "  Downloading https://files.pythonhosted.org/packages/25/74/5b7befa513482e6dee1f3dd68171a6c9dfc14c0eaa00f885ffeba54fe9b0/sklearn_crfsuite-0.3.6-py2.py3-none-any.whl\n",
            "Collecting python-crfsuite>=0.8.3\n",
            "\u001b[?25l  Downloading https://files.pythonhosted.org/packages/95/99/869dde6dbf3e0d07a013c8eebfb0a3d30776334e0097f8432b631a9a3a19/python_crfsuite-0.9.7-cp36-cp36m-manylinux1_x86_64.whl (743kB)\n",
            "\u001b[K     |████████████████████████████████| 747kB 9.6MB/s \n",
            "\u001b[?25hRequirement already satisfied: six in /usr/local/lib/python3.6/dist-packages (from sklearn_crfsuite) (1.15.0)\n",
            "Requirement already satisfied: tqdm>=2.0 in /usr/local/lib/python3.6/dist-packages (from sklearn_crfsuite) (4.41.1)\n",
            "Requirement already satisfied: tabulate in /usr/local/lib/python3.6/dist-packages (from sklearn_crfsuite) (0.8.7)\n",
            "Installing collected packages: python-crfsuite, sklearn-crfsuite\n",
            "Successfully installed python-crfsuite-0.9.7 sklearn-crfsuite-0.3.6\n"
          ],
          "name": "stdout"
        }
      ]
    },
    {
      "cell_type": "markdown",
      "metadata": {
        "id": "FHVGO7orNQkv"
      },
      "source": [
        "### Downloading Data\n",
        "This section shows how to download and extract data to be analyzed. We save our data in github in a compressed format. There are multiple sizes depends on which one you want to analyze. We will start with 100 articles and we run through the whole process. This makes it fast to run the experiment as we fine tune different approaches. At the end we will rerun the full 10k document."
      ]
    },
    {
      "cell_type": "code",
      "metadata": {
        "id": "9HcK8v_-LuZz"
      },
      "source": [
        "sizes = [\"100\",\"500\",\"1000\",\"5000\",\"10000\"]\n",
        "# Select available size (0-4) that you want to use\n",
        "docsize = sizes[0]\n",
        "data_dir = \"kh_alt_\" + docsize\n",
        "file_name = data_dir + \".zip\""
      ],
      "execution_count": 5,
      "outputs": []
    },
    {
      "cell_type": "code",
      "metadata": {
        "id": "q7lKQqtny8Xr",
        "colab": {
          "base_uri": "https://localhost:8080/"
        },
        "outputId": "26c400a7-f6d0-45b0-84a9-38b6f7bc2df2"
      },
      "source": [
        "# Download the file from `url` and save it\n",
        "import urllib.request\n",
        "base_url = \"https://github.com/phylypo/segmentation-crf-khmer/raw/master/data/\"\n",
        "url = base_url + file_name\n",
        "print(\"Downloading from:\", url)\n",
        "urllib.request.urlretrieve(url, file_name)"
      ],
      "execution_count": null,
      "outputs": [
        {
          "output_type": "stream",
          "text": [
            "Downloading from: https://github.com/phylypo/segmentation-crf-khmer/raw/master/data/kh_data_100_200b.zip\n"
          ],
          "name": "stdout"
        },
        {
          "output_type": "execute_result",
          "data": {
            "text/plain": [
              "('kh_data_100_200b.zip', <http.client.HTTPMessage at 0x7f1d111c4a58>)"
            ]
          },
          "metadata": {
            "tags": []
          },
          "execution_count": 8
        }
      ]
    },
    {
      "cell_type": "code",
      "metadata": {
        "id": "_Zj741q6N47y",
        "colab": {
          "base_uri": "https://localhost:8080/"
        },
        "outputId": "69fe43a2-958d-4f04-85c1-8821bef6f739"
      },
      "source": [
        "# Run shell command to extract files\n",
        "\n",
        "# remove previous existing directory for rerun\n",
        "!rm -rf {data_dir}\n",
        "print(\"- Unzipping the file and show last few extracted files:\")\n",
        "!unzip {file_name} | tail -10\n",
        "\n",
        "print(\"- Count the number of files:\")\n",
        "!ls -al {data_dir}/*_seg*.txt | wc -l"
      ],
      "execution_count": 6,
      "outputs": [
        {
          "output_type": "stream",
          "text": [
            "- Unzipping the file and show last few extracted files:\n",
            "  inflating: kh_alt_100/250023_seg.txt  \n",
            "  inflating: kh_alt_100/250074_seg.txt  \n",
            "  inflating: kh_alt_100/250027_orig.txt  \n",
            "  inflating: kh_alt_100/250030_seg.txt  \n",
            "  inflating: kh_alt_100/250017_orig.txt  \n",
            "  inflating: kh_alt_100/250074_orig.txt  \n",
            "  inflating: kh_alt_100/250099_orig.txt  \n",
            "  inflating: kh_alt_100/250088_seg.txt  \n",
            "  inflating: kh_alt_100/250011_seg.txt  \n",
            "  inflating: kh_alt_100/250031_orig.txt  \n",
            "- Count the number of files:\n",
            "100\n"
          ],
          "name": "stdout"
        }
      ]
    },
    {
      "cell_type": "code",
      "metadata": {
        "id": "AG1YvPyQWRoQ",
        "colab": {
          "base_uri": "https://localhost:8080/"
        },
        "outputId": "39a6a7a2-f048-4c4d-8629-726b6b9b1e56"
      },
      "source": [
        "!cat kh_alt_100/250023_seg.txt\n",
        "!cat kh_alt_100/250023_orig.txt"
      ],
      "execution_count": 8,
      "outputs": [
        {
          "output_type": "stream",
          "text": [
            "ក្នុង នាម ជា សមាជិក សាធារណរដ្ឋ ចនសិន ត្រូវ បាន ជ្រើស រើស និង ត្រូវ ជ្រើស រើស ម្តង ទៀត ជា អភិបាល នៃ ញ៉ូវ ម៉ិកស៊ិកកូ នៅ ឆ្នាំ 1994 និង 1998 ។\n",
            "ក្នុង ពេល អភិបាល ខេត្ត របស់ គាត់ គាត់ បដិសេធ របៀប វិរ លើស 750 ដែល ច្រើន ជាង អភិបាល ដទៃ ហើយ ចាក ចេញ ពី រដ្ឋ ដោយ បន្សល់ ប្រាក់ ចំណេញ នៃ គំរោង ហិរញ្ញវត្ថុ ចំនួន 1 ពាន់ លាន ដុល្លារ អាមេរិក ។\n",
            "តាំង ពី ចាក ចេញ ពី ការិយាល័យ នៅ ឆ្នាំ 2003 សំរាប់ កំណត់ ពេល អាណិត គាត់ បាន លើក ពី ការ ទទួល ស្គាល់ កញ្ឆា ស្រប ច្បាប់ ហើយ ឡើង ភ្នំ អេវឺរេស ហើយ បាន ចូល នយោបាយ ជា ប្រធានាធិបតី ។\n",
            "ក្នុង ឆ្នាំ 2008 នៃ បោះ ឆ្នោត បឋម គណ បក្ស សាធារណរដ្ឋ ចនសិន បាន គាំទ្រ លើ សមាជិក នៃ សមាជិក រុន ប៉ូល របស់ គណ បក្ស សេរី និយម នៅ ឆ្នាំ 1988 ជា បេក្ខជន ប្រធានាធិបតី ។\n",
            "នៅ ឆ្នាំ 2012 គាត់ បាន ជ្រើស រើស ឈរ ឈ្មោះ យុទ្ធនា ការ ប្រធានាធិបតី របស់ គាត់ ហើយ ទាម ទារ ការ លើក ឈ្មោះ របស់ គណ បក្ស សាធារណរដ្ឋ នៅ ក្នុង ច្រក មិន អន្តរាគម និយម លើ បញ្ហា ការ ទូត និង ការ កាត់ ដ៏ ធំ លើ គំរោង ថវិការ របស់ សហព័ន្ធ ។\n",
            "ទោះបី គាត់ បាន ចូល រួម ការ ពិភាក្សា របស់ គណ បក្ស សាធារណរដ្ឋ ២ នា ពេល ថ្មី ៗ ចនសិន ត្រូវ បាន ដក ដោយ មូល ហេតុ ធ្លាក់ ការ គាំទ្រ ។\n",
            "ជា លទ្ធ ផល នៅ ខែ ធ្នូ គាត់ សំរេច ចិត្ត បញ្ចប់ យុទ្ធនា ការ សាធារណរដ្ឋ របស់ គាត់ ហើយ ត្រឡប់ ទៅ គណ បក្ស សេរី និយម វិញ ។\n",
            "បន្ទាប់ ពី យុទ្ធនា ការ ច្រើន ខែ ចនសិន បាន ឈ្នះ លើ អ័រ លី រ៉ាយ ដោយ សំលេង ឆ្នោត ដំបូង បាន 70% លើ អ្នក ដំណាង 595 នាក់ ។\n",
            "ផ្ទុយ ទៅ វិញ សមាជិក នៃ សមាជ មុន បូប ប៉ា បាន ឈ្នះ ចំនួន 6 កន្លែង សំរាប់ ធានា ឈរ ឈ្មោះ ម្តង ទៀត នៅ ឆ្នាំ 2008 ។\n",
            "សំរាប់ ជ័យ ជំនះ របស់ គាត់ ចនសិន បាន ប្រកាស ថា \" ខ្ញុំ មាន កិត្តិ យស និង ខ្ញុំ មិន អោយ នរណា ខក ចិត្ត ទេ ។ \"\n",
            "ក្នុងនាមជាសមាជិកសាធារណរដ្ឋ ចនសិនត្រូវបានជ្រើសរើសនិងត្រូវជ្រើសរើសម្តងទៀតជាអភិបាលនៃញ៉ូវ ម៉ិកស៊ិកកូនៅឆ្នាម1994និង1998។\n",
            "ក្នុងពេលអភិបាលខេត្តរបស់គាត់ គាត់បដិសេធរបៀបវិរលើស750 ដែលច្រើនជាងអភិបាលដទៃ ហើយចាកចេញពីរដ្ឋដោយបន្សល់ប្រាក់ចំណេញនៃគំរោងហិរុញ្ញវត្ថុចំនួន1 ពាន់លានដុល្លារអាមេរិក។\n",
            "តាំងពីចាកចេញពីការិយាល័យនៅឆ្នាំ2003សំរាប់កំណត់ពេលអាណិត គាត់បានលើកពីការទទួលស្គាល់កញ្ឆាស្របច្បាប់ ហើយឡើងភ្នំ អេវឺរេស ហើយបានចូលនយោបាយជាប្រធានាតិបតេយ។\n",
            "ក្នុងឆ្នាំ2008នៃបោះឆ្នោតបឋមគណបក្សសាធារណរដ្ឋ ចនសិនបានគាំទ្រលើសមាជិកនៃសមាជន៍រុន ប៉ូល របស់គណបក្សសេរីនិយមនៅឆ្នាំ1988ជាបេក្ខជនប្រធានាធិបតី។\n",
            "នៅឆ្នាំ2012 គាត់បានជ្រើសរើសឈរឈ្មោះយុទ្ថនាកាប្រធានាតិបតីយរបស់គាត់ហើយទាមទារការលើកឈ្មោះរបស់គណបក្សសាធារណរដ្ឋនៅក្នុងច្រកមិនអន្តរាគមនិយមលើបញ្ហាការទូតនិងការកាត់ដ៏ធំលើគំរោងថវិការរបស់សហព័ន្ធ។\n",
            "ទោះបីគាត់បានចូលរួមការពិភាក្សារបស់គណបក្សសាធារណរដ្ឋ២នាពេលថ្មីៗ ចនសិនត្រូវបានដកដោយមូលហេតុធ្លាក់ការគាំទ្រ។\n",
            "ជាលទ្ធផល នៅខែធ្នូ គាត់សំរេចចិត្តបញ្ចប់យុទ្ថនាការសាធារណរដ្ឋរបស់គាត់ហើយត្រឡប់ទៅគណបក្សសេរីនិយមវិញ។\n",
            "បន្ទាប់ពីយុទ្ធនាការច្រើនខែ ចនសិនបានឈ្នះលើអ័រលី រ៉ាយ ដោយសំលេងឆ្នោតដំបូងបាន70%លើអ្នកដំណាង595នាក់។\n",
            "ផ្ទុយទៅវិញសមាជិកនៃសមាជមុនបូប ប៉ាបានឈ្នះចំនួន6កន្លែងសំរាប់ធានាឈរឈ្មោះម្តងទៀតនៅឆ្នាំ2008។\n",
            "សំរាប់ជ័យជំនះរបស់គាត់ ចនសិនបានប្រកាសថា\"ខ្ញុំមានកតិ្តយសនិងខ្ញុំមិនអោយនរណាខកចិត្តទេ។\"\n"
          ],
          "name": "stdout"
        }
      ]
    },
    {
      "cell_type": "markdown",
      "metadata": {
        "id": "QgIsQuj0Ya_M"
      },
      "source": [
        "### Option - map to google drive to get your data file\n",
        "Steps to copy data file from google drive by mount the drive. This required authenticated to your Google account. Follow the prompt."
      ]
    },
    {
      "cell_type": "code",
      "metadata": {
        "id": "OYpSW9-oUZnL"
      },
      "source": [
        "#from google.colab import drive\n",
        "#drive.mount('/content/drive')"
      ],
      "execution_count": null,
      "outputs": []
    },
    {
      "cell_type": "code",
      "metadata": {
        "id": "jCHPM_rGUrqw",
        "colab": {
          "base_uri": "https://localhost:8080/"
        },
        "outputId": "bc74bdc2-52ac-424a-84df-ac66d095faf3"
      },
      "source": [
        "!ls \"/content/drive/MyDrive/GR - HEDSPI K61/Khmer/CRFHoang\"*"
      ],
      "execution_count": 9,
      "outputs": [
        {
          "output_type": "stream",
          "text": [
            "CRF-Khmer-Segmentation.ipynb  kh_alt_100  kh_alt_100.zip\n"
          ],
          "name": "stdout"
        }
      ]
    },
    {
      "cell_type": "markdown",
      "metadata": {
        "id": "zmD019nKJZCv"
      },
      "source": [
        "## Read data files"
      ]
    },
    {
      "cell_type": "markdown",
      "metadata": {
        "id": "2jl9EZoSTsRn"
      },
      "source": [
        "There are two formats in the list of files. \n",
        "- *_orig.txt: are the original content scrape from the website. \n",
        "- *_seg.txt: (old format) are the segmented data using space. Here you lose the original space.\n",
        "- or *_seg_200b.txt: (new format) are the segmented data using   character. \n",
        "\n",
        "There is another file \"meta.txt\" which contain meta data and a corresponding url of the source for each file based on its id.\n",
        "\n",
        "You may not see this invisible character ( ) unless you use specific tool that can view it. 'repr' in python can show this as ' '. In Windows 10, the notebook display as a red middle dot character. \n",
        "\n",
        "Each data file contains mulitple lines of text. Each line may end with a Khmer sentence terminator character.\n",
        "\n",
        "We read all text into variable ***seg_text*** as a list of list string. seg_text[0] is the content of first file. \n",
        "\n",
        "Eg. First line of the third file would be: seg_text[3][0].\n",
        "\n",
        "Similarly we have orig_text which read the orignal article format. This is not used for the training. This can be use to compare the orignal text with the segmented text."
      ]
    },
    {
      "cell_type": "code",
      "metadata": {
        "id": "dzVwXVVpSIOB",
        "colab": {
          "base_uri": "https://localhost:8080/"
        },
        "outputId": "0d200e15-6ae5-4d15-b229-c96436e9ea70"
      },
      "source": [
        "import glob\n",
        "import re\n",
        "\n",
        "path = data_dir + '/*_seg.txt'  #  earlier format: *_seg.txt\n",
        "files=glob.glob(path)\n",
        "\n",
        "# global variables that use through out\n",
        "seg_text = []\n",
        "orig_text = []\n",
        "# unique id of the article that can be matched to docId in meta.txt\n",
        "doc_ids = []\n",
        "for file in files:\n",
        "  filenum = re.search(r'\\d+_', file).group(0)\n",
        "  doc_ids.append(filenum.replace(\"_\",\"\"))\n",
        "  f=open(file, 'r')\n",
        "  lines = f.readlines()\n",
        "  f.close()\n",
        "  seg_text.append(lines)\n",
        "  \n",
        "  # limit to 9K to avoid memory issue\n",
        "  if len(seg_text) >= 9000: break #kcc=9000, char:5000, crash char on 7000\n",
        "  \n",
        "  # read orig text -- comment out (10K docs which do not have orig text)\n",
        "  f=open(file.replace('_seg.txt', '_orig.txt'), 'r')\n",
        "  lines = f.readlines()\n",
        "  f.close()\n",
        "  orig_text.append(lines)\n",
        "  \n",
        "print(\"number of file:\", len(files))\n",
        "print(\"number of doc_ids:\", len(doc_ids)) # can see the origial text\n",
        "print(\"len of seg_text:\", len(seg_text), ' sample data[0][0]:', repr(seg_text[0][0]))\n",
        "print(\"len of orig_text:\", len(orig_text), ' sample data[0][0]:', repr(orig_text[0][0]))"
      ],
      "execution_count": 10,
      "outputs": [
        {
          "output_type": "stream",
          "text": [
            "number of file: 100\n",
            "number of doc_ids: 100\n",
            "len of seg_text: 100  sample data[0][0]: 'ខណៈ ការ ថយ ចុះ នៅ ក្នុង ពន្ធ ទៅ លើ ផលិត ផល ប្រេង ដោយ ភាគី កណ្តាល និង រដ្ឋាភិបាល គឺ ជា ដំណោះ ស្រាយ បណ្តោះ អាសន្ន មួយ ដំណោះ ស្រាយ យូរ អង្វែង គឺ កាត់ បន្ថយ ការ ប្រើប្រាស់ នៃ ផលិត ផល ប្រេង និង លើក កម្ពស់ ការ ស្រាវជ្រាវ ទៅ លើ ផលិត ផល ជំនួស របស់ វា ។\\n'\n",
            "len of orig_text: 100  sample data[0][0]: 'ខណៈការថយចុះនៅក្នុងពន្ធទៅលើផលិតផលប្រេងដោយភាគីកណ្ដាលនិងរដ្ឋាភិបាលគឺជាដំណោះស្រាយបណ្ដោះអាសន្នមួយដំណោះស្រាយយូរអង្វែងគឺកាត់បន្ថយការប្រើប្រាស់នៃផលិតផលប្រេងនិងលើកកម្ពស់ការស្រាវជ្រាវទៅលើផលិតផលជំនួសរបស់វា។\\n'\n"
          ],
          "name": "stdout"
        }
      ]
    },
    {
      "cell_type": "markdown",
      "metadata": {
        "id": "BPfvnLIJVXw-"
      },
      "source": [
        "## Preview the data\n",
        "You can compare the segmented text to the orignal text. Notice that the orignal text may have invisible spaces ( ). Content creators sometimes use this invisible character to separate word internally in their text editor to help with spell check but this is not consistently uses between different organization. So we cannot rely on this character as a word separator.\n",
        "\n",
        "The segment text we choose the compound words."
      ]
    },
    {
      "cell_type": "code",
      "metadata": {
        "id": "unSx5Q-i9qlb",
        "colab": {
          "base_uri": "https://localhost:8080/"
        },
        "outputId": "137e2c6d-b7dd-4951-ac53-2c207d97c4e8"
      },
      "source": [
        "# see other sample data - full first article\n",
        "# (the 100K zip data do not have orig text to save space)\n",
        "idx = 0\n",
        "spacer = '\\u2022'\n",
        "print(\"First segmented text article has %d sentences/lines.\" %len(orig_text[idx]))\n",
        "for i, sentence in enumerate(orig_text[idx]):\n",
        "  print(i, \". Original : %s\" %orig_text[idx][i].strip().replace(' ',spacer))\n",
        "  print(i, \". Segmented: %s\" %seg_text[idx][i].strip().replace(' ',spacer))"
      ],
      "execution_count": 11,
      "outputs": [
        {
          "output_type": "stream",
          "text": [
            "First segmented text article has 10 sentences/lines.\n",
            "0 . Original : ខណៈការថយចុះនៅក្នុងពន្ធទៅលើផលិតផលប្រេងដោយភាគីកណ្ដាលនិងរដ្ឋាភិបាលគឺជាដំណោះស្រាយបណ្ដោះអាសន្នមួយដំណោះស្រាយយូរអង្វែងគឺកាត់បន្ថយការប្រើប្រាស់នៃផលិតផលប្រេងនិងលើកកម្ពស់ការស្រាវជ្រាវទៅលើផលិតផលជំនួសរបស់វា។\n",
            "0 . Segmented: ខណៈ•ការ•ថយ•ចុះ•នៅ•ក្នុង•ពន្ធ•ទៅ•លើ•ផលិត•ផល•ប្រេង•ដោយ•ភាគី•កណ្តាល•និង•រដ្ឋាភិបាល•គឺ•ជា•ដំណោះ•ស្រាយ•បណ្តោះ•អាសន្ន•មួយ•ដំណោះ•ស្រាយ•យូរ•អង្វែង•គឺ•កាត់•បន្ថយ•ការ•ប្រើប្រាស់•នៃ•ផលិត•ផល•ប្រេង•និង•លើក•កម្ពស់•ការ•ស្រាវជ្រាវ•ទៅ•លើ•ផលិត•ផល•ជំនួស•របស់•វា•។\n",
            "1 . Original : នៅក្នុងសេចក្ដីថ្លែងAIADMKអគ្គលេខាធិកាចាយ៉ាឡាលីថាបាននិយាយថារដ្ឋាភិបាលអាចកាត់បន្ថយបញ្ហាតម្លៃដោយកាត់បន្ថយពន្ធលក់ទៅលើប្រេងសាំងនិងប្រេងម៉ាស៊ូត។\n",
            "1 . Segmented: នៅ•ក្នុង•សេចក្តី•ថ្លែង•AIADMK•អគ្គ•លេខាធិការ•ចាយ៉ាឡាលីថា•បាន•និយាយ•ថា•រដ្ឋាភិបាល•អាច•កាត់•បន្ថយ•បញ្ហា•តម្លៃ•ដោយ•កាត់•បន្ថយ•ពន្ធ•លក់•ទៅ•លើ•ប្រេង•សាំង•និង•ប្រេង•ម៉ាស៊ូត•។\n",
            "2 . Original : គ្មានអ្វីដែលមិនជាយោបល់របស់នាងទេប៉ុន្ដែអ្វីដែលលោកការ៉ូណានីហីបានផ្ដល់អោយនៅពេលនាងគឺជាប្រធានរដ្ឋមន្ដ្រីនាងបាននិយាយថាភាគីកណ្ដាលថ្មីៗនេះបាននិយាយថាចលនាបែបនេះអាចកាត់បន្ថយឥទ្ធិពលនៃការកើនតម្លៃប្រេងសាំងនិងប្រេងម៉ាស៊ូត។\n",
            "2 . Segmented: ចាំ•ថា•វា•មិន•មែន•ជា•យោបល់•របស់•នាង•ទេ•ប៉ុន្តែ•អ្វី•ដែល•លោក•ការ៉ូណានីហី•បាន•ផ្តល់•អោយ•នៅ•ពេល•នាង•ជា•ប្រធាន•រដ្ឋ•មន្ត្រី•នាង•បាន•និយាយ•ថា•ភាគី•កណ្តាល•ថ្មី•ៗ•នេះ•បាន•និយាយ•ថា•ចលនា•បែប•នេះ•អាច•កាត់•បន្ថយ•ឥទ្ធិ•ពល•នៃ•ការ•កើន•តម្លៃ•ប្រេង•សាំង•និង•ប្រេង•ម៉ាស៊ូត•។\n",
            "3 . Original : កំណើនខ្យល់ក្តៅដ៏ធំដែលបានញាំញីភាគខាងលិចនិងខាងលិចកណ្តាលកាលពីសប្តាហ៍មុន•ឥលូវបានប្តូរទៅឆ្នេរសមុទ្រខាងកើតនៃសហរដ្ឋអាមេរិក។\n",
            "3 . Segmented: កំណើន•ខ្យល់•ក្តៅ•ដ៏•ធំ•ដែល•បាន•ញាំ•ញី•ភាគ•ខាង•លិច•និង•ខាង•លិច•កណ្តាល•កាល•ពី•សប្តាហ៍•មុន•ឥលូវ•បាន•ប្តូរ•ទៅ•ឆ្នេរ•សមុទ្រ•ខាង•កើត•នៃ•សហ•រដ្ឋ•អាមេរិក•។\n",
            "4 . Original : អ្នកស្រុកបានប្រុងប្រៀបខ្លួនទប់ទល់នឹងសីតុណ្ហភាពដែលក្តៅរហូតដល់បំបែកកំណត់ត្រា។\n",
            "4 . Segmented: អ្នក•ស្រុក•បាន•ប្រុងប្រៀប•ខ្លួន•ទប់•ទល់•នឹង•សីតុណ្ហភាព•ដែល•ក្តៅ•រហូត•ដល់•បំបែក•កំណត់•ត្រា•។\n",
            "5 . Original : ទីក្រុងជាច្រើនបាននឹងកំពុងជួបផលលំបាករួចទៅហើយដោយសារតែគ្មានថាមពលប្រើប្រាស់•ចាប់តាំងពីពេលអាកាសធាតុក្ដៅខ្លាំងនៅពាក់កណ្តាលខែកក្កដា•ជាពិសេសដូចជាទីក្រុងខ្លះនៅកោះឃ្វីននិងស្តេថេនក្នុងក្រុងញ៉ូវយ៉កដែលកំពុងស្ថិតក្នុងស្ថានភាពដូចនេះ។\n",
            "5 . Segmented: ទី•ក្រុង•ជា•ច្រើន•បាន•នឹង•កំពុង•ជួប•ផល•លំបាក•រួច•ទៅ•ហើយ•ដោយសារ•តែ•គ្មាន•ថាមពល•ប្រើប្រាស់•ចាប់•តាំង•ពី•ពេល•អាកាស•ធាតុ•ក្តៅ•ខ្លាំង•នៅ•ពាក់•កណ្តាល•ខែ•កក្កដា•ជា•ពិសេស•ដូច•ជា•ទី•ក្រុង•ខ្លះ•នៅ•កោះ•ឃ្វីន•និង•ស្តេថេន•ក្នុង•ក្រុង•ញ៉ូវ•យ៉ក•ដែល•កំពុង•ស្ថិត•ក្នុង•ស្ថាន•ភាព•ដូច•នេះ•។\n",
            "6 . Original : ខនសូលីឌេតថីតអ៊ីឌីសិន•អ្នកផ្គត់ផ្គង់ថាមពលសំរាប់តំបន់ទីក្រុងញ៉ូវយ៉ក•បានរាយការណ៍ថា•អតិថិជនជាច្រើននៅតែមិនមានថាមពលប្រើប្រាស់។\n",
            "6 . Segmented: ខនសូលីឌេតថីត•អ៊ីឌីសិន•អ្នក•ផ្គត់ផ្គង់•ថាមពល•សំរាប់•តំបន់•ទី•ក្រុង•ញ៉ូវ•យ៉ក•បាន•រាយ•ការណ៍•ថា•អតិថិ•ជន•ជា•ច្រើន•នៅ•តែ•មិន•មាន•ថាមពល•ប្រើប្រាស់•។\n",
            "7 . Original : ពួកគេជំរុញអតិថិជនអោយបន្ថយចំនួនលើការប្រើប្រាស់ថាមពល•ដើម្បីចៀសវាងការរអាក់រអួលលើសេវាកម្មតទៅទៀត។\n",
            "7 . Segmented: ពួក•គេ•ជំរុញ•អតិថិ•ជន•អោយ•បន្ថយ•ចំនួន•លើ•ការ•ប្រើប្រាស់•ថាមពល•ដើម្បី•ចៀស•វាង•ការ•រអាក់រអួល•លើ•សេវា•កម្ម•ត•ទៅ•ទៀត•។\n",
            "8 . Original : បាលធីម៉លវើស៊ីន•តោនឌីស៊ី•និងភីឡាឌេផ្យា•ទាំងអស់អាចនឹងមានសីតុណ្ហភាពកើនលើស100ºF•(37.8ºC)។\n",
            "8 . Segmented: បាលធីម៉ល•វើស៊ីនតោន•ឌីស៊ី•និង•ភីឡាឌេផ្យា•ទាំង•អស់•អាច•នឹង•មាន•សីតុណ្ហភាព•កើន•លើស•100•ºF•(•37.8•ºC•)•។\n",
            "9 . Original : ភ្នាក់ងារសេវាកម្មអាកាសធាតុជាតិ•បានផ្សាយការប្រកាសអាសន្ននូវកម្ដៅហួសប្រមាណ•សំរាប់ទីក្រុងជាច្រើននៅឆ្នេរខាងកើតដែលជាធម្មតាមិនដែលជួបបទពិសោធប្រភេទអាកាសធាតុក្ដៅដែលគ្រោះថ្នាក់នេះទេ។\n",
            "9 . Segmented: ភ្នាក់ងារ•សេវា•កម្ម•អាកាស•ធាតុ•ជាតិ•បាន•ផ្សាយ•ការ•ប្រកាស•អាសន្ន•នូវ•កម្តៅ•ហួស•ប្រមាណ•សំរាប់•ទី•ក្រុង•ជា•ច្រើន•នៅ•ឆ្នេរ•ខាង•កើត•ដែល•ជា•ធម្មតា•មិន•ដែល•ជួប•បទ•ពិសោធ•ប្រភេទ•អាកាស•ធាតុ•ក្តៅ•ដែល•គ្រោះ•ថ្នាក់•នេះ•ទេ•។\n"
          ],
          "name": "stdout"
        }
      ]
    },
    {
      "cell_type": "markdown",
      "metadata": {
        "id": "n11I4kN2CEzl"
      },
      "source": [
        "Look at word count and most frequently used words/terms."
      ]
    },
    {
      "cell_type": "code",
      "metadata": {
        "id": "24MrEUUZS0dk",
        "colab": {
          "base_uri": "https://localhost:8080/"
        },
        "outputId": "76fe0a77-ba77-4d6a-afed-cf8516e4f897"
      },
      "source": [
        "words = {}\n",
        "word_count = 0\n",
        "sentence_count = 0\n",
        "wordspref = {}\n",
        "for i, text in enumerate(seg_text):\n",
        "    #print(\"Document \" + str(doc_ids[i]) + \" num of sentences: \" + str(len(text)))\n",
        "    for sentence in text:\n",
        "        sentence_count += 1\n",
        "        for phrase in sentence.split():\n",
        "          for word in phrase.split(' '):\n",
        "            if len(word)==0 : continue\n",
        "            word_count += 1\n",
        "            words[word] = 1 if word not in words.keys() else words[word] + 1\n",
        "            pref = word.strip(' ')[:1]\n",
        "            if pref in wordspref:\n",
        "              wlist = wordspref[pref]\n",
        "              wlist.add(word)\n",
        "              wordspref[pref] = wlist\n",
        "            else: wordspref[pref] = set(word)\n",
        "print(\"total number of articles:\", len(seg_text))\n",
        "print(\"total number of sentences:\", sentence_count, \" words:\", word_count)\n",
        "print(\"total number of distinct words:\", len(words))\n",
        "print(\"total number of different starts-with characters:\", len(wordspref))\n",
        "\n",
        "print(\"Count number of words begin with: > 100\")\n",
        "for ws in sorted(wordspref):\n",
        "    s = wordspref[ws]\n",
        "    if (len(s)>100) : print(\"letter:\", ws, \" count:\", len(s))\n",
        "\n",
        "from collections import Counter\n",
        "d = Counter(words)\n",
        "print(\"Most frequent words:\", d.most_common()[:20])\n",
        "\n",
        "print(\"Most lease 20 words:\", d.most_common()[-20:])\n",
        "\n",
        "#for c in range(ord('ក'), ord('ឤ')):\n",
        "#  print(chr(c))\n",
        "\n",
        "### For 9K articles\n",
        "#total number of articles: 9000\n",
        "#total number of sentences: 87369\n",
        "#total number of words: 46171\n",
        "### For 100 articles (old *.seg.txt)\n",
        "#total number of sentences: 1028  words: 35359\n",
        "#total number of distinct words: 4628\n",
        "#total number wordspref: 139"
      ],
      "execution_count": 12,
      "outputs": [
        {
          "output_type": "stream",
          "text": [
            "total number of articles: 100\n",
            "total number of sentences: 1000  words: 33349\n",
            "total number of distinct words: 3506\n",
            "total number of different starts-with characters: 114\n",
            "Count number of words begin with: > 100\n",
            "letter: ក  count: 197\n",
            "letter: ច  count: 116\n",
            "letter: ជ  count: 102\n",
            "letter: ប  count: 350\n",
            "letter: ព  count: 106\n",
            "letter: ម  count: 162\n",
            "letter: រ  count: 153\n",
            "letter: ស  count: 357\n",
            "letter: ហ  count: 138\n",
            "letter: អ  count: 261\n",
            "Most frequent words: [('បាន', 1188), ('។', 1001), ('ការ', 887), ('នៅ', 744), ('ដែល', 576), ('ក្នុង', 541), ('\"', 479), ('ជា', 466), ('ថា', 438), ('របស់', 408), ('និង', 384), ('ពី', 372), ('ត្រូវ', 367), ('នៃ', 325), ('អ្នក', 305), ('មាន', 293), ('មួយ', 274), ('ទី', 249), ('ទៅ', 241), ('នេះ', 231)]\n",
            "Most lease 20 words: [('ប្រអប់', 1), ('ចំឡែក', 1), ('ឥសាន', 1), ('ព្រេង', 1), ('និទាន', 1), ('ទទេ', 1), ('ឌីអិនអេ', 1), ('ងងឹត', 1), ('ថាមអនឡាន', 1), ('សំណើច', 1), ('ជែហ្វី', 1), ('ប៉ូលិស', 1), ('លិខិត', 1), ('ជំនឿ', 1), ('សុចរឹត', 1), ('ហ្រង់ស៊ីស', 1), ('កុំប៉ោន', 1), ('ដុំ', 1), ('ធីមូស៊ី', 1), ('ហារ៉ាបេ', 1)]\n"
          ],
          "name": "stdout"
        }
      ]
    },
    {
      "cell_type": "code",
      "metadata": {
        "id": "iTvvEhfRQdah",
        "colab": {
          "base_uri": "https://localhost:8080/"
        },
        "outputId": "37c8fabf-733f-4649-a03f-2f5ef19ac226"
      },
      "source": [
        "# finding some words\n",
        "w = 'ប្រអប់' #'ឧត្តរ' #'ពិពិធកម្ម'#\"អាមេរិក\"\n",
        "if w in words.keys(): print(\"found word \", w, \"count:\", words[w])\n",
        "\n",
        "# test finding string\n",
        "found = []\n",
        "for i, text in enumerate(seg_text):\n",
        "    for sentence in text:\n",
        "        if w in sentence: found.append(sentence)\n",
        "print(\"total # sentences found:\", len(found))\n",
        "for f in found:\n",
        "  print(\"-sentence: %s\" %(repr(f)))"
      ],
      "execution_count": 13,
      "outputs": [
        {
          "output_type": "stream",
          "text": [
            "found word  ប្រអប់ count: 1\n",
            "total # sentences found: 1\n",
            "-sentence: 'ពូក អ្នក ស្រាវជ្រាវ និយាយ ថា បរុស ២ នាក់ អះអាង ជា អ្នក បរ បាញ់ \" ប្រអប់ ជើង ធំ \" នៅ ហ្សកហ្សា សហ រដ្ឋ អាមេរិក ចំពោះ ការ រក ឃើញ ស្នាម នៅ សល់ របស់ សត្វ ចំឡែក នៅ ដើម ខែ នេះ គឺ ជា ផ្នែក មួយ នៃ ការ បោក បញ្ឆោត យ៉ាង ច្បាស់ ។\\n'\n"
          ],
          "name": "stdout"
        }
      ]
    },
    {
      "cell_type": "markdown",
      "metadata": {
        "id": "f_AczcFYQa7T"
      },
      "source": [
        "## Prepare Data\n",
        "Each  seg text contains list of sentences. We want a list of sentences in variable 'sentences'. We also clean up the extra spaces or new line character.\n",
        "\n",
        "Here we allow to fix any known bad segmented data such as names."
      ]
    },
    {
      "cell_type": "markdown",
      "metadata": {
        "id": "JFdTyRWQ4fzb"
      },
      "source": [
        "### Correction list"
      ]
    },
    {
      "cell_type": "code",
      "metadata": {
        "id": "LBsIouA_qB65",
        "colab": {
          "base_uri": "https://localhost:8080/"
        },
        "outputId": "960c37a7-2e59-4c6a-8f4f-5fcfedd7e2ad"
      },
      "source": [
        "# the str assume \\200b wrapped around any spaces -- this can be removed during output\n",
        "# the first set use 200b string that may not visible in the note book. \n",
        "# Windows 10 shows as middle dot in Colab Classic Mode.\n",
        "# the bottom set us   instead for easy to spot\n",
        "def get_correction_list():\n",
        "  fixes=[]\n",
        "  #fix bad segmented data - especially proper noun\n",
        "  fixes.append(['អា​ខោន​','អាខោន​']) #account \n",
        "  fixes.append([\"​ឱវា​ទ\",\"​ឱវាទ\"])\n",
        "  fixes.append([\"នៅ​សប្តា​ហ៏​\",\"នៅ​សប្តាហ៏​\"])\n",
        "  fixes.append(['ស៊ុន​ ​ចាន់​ថុល','ស៊ុន​ ​ចាន់ថុល'])\n",
        "  fixes.append(['សាយ​ ​មក​រា','សាយ​ ​មករា'])\n",
        "  fixes.append(['រោង​កុន','រោងកុន'])\n",
        "  fixes.append(['ដេី​មជ្រៃ','ដេីមជ្រៃ'])\n",
        "  fixes.append(['​ដេី​ម​','​ដេីម​'])\n",
        "  fixes.append(['មន្ទី​ពេទ្យ','មន្ទីពេទ្យ'])\n",
        "  fixes.append(['ជាដរាបត​ទៅ','ជា​ដរាប​តទៅ'])\n",
        "  fixes.append(['ដេី​ម្បី​','ដេីម្បី​'])\n",
        "  fixes.append(['ធ្វេី​ការកាត់​យក','ធ្វេីការ​កាត់​យក']) # interesting!!!!\n",
        "  fixes.append(['ភូមិ​ផ្សារ​ដី​ហុយ','ភូមិ​ផ្សារដីហុយ'])\n",
        "  fixes.append(['សុខ​ ​ពេញ​វុធ','សុខ​ ​ពេញវុធ'])\n",
        "  fixes.append(['ប្រតិបត្តិការបង្ក្រាប','ប្រតិបត្តិការ​បង្ក្រាប'])\n",
        "  fixes.append(['health​.​com​.​kh','health.com.kh'])\n",
        "  fixes.append(['ពួយ​ ​ច័ន្ទ​សុគុណ','ពួយ​ ​ច័ន្ទសុគុណ'])\n",
        "  fixes.append(['ភូមិ​ ​ថ្ម​ដា','ភូមិ​ ​ថ្មដា'])\n",
        "  fixes.append(['សង្កាត់​ ​បឹង​កន្សែង','សង្កាត់​ ​បឹងកន្សែង']) # TODO what is orig text???\n",
        "  fixes.append(['ក្រុង​ ​បាន​លុង','ក្រុង​ ​បានលុង'])\n",
        "  fixes.append(['នុត​ ​សុគន្ធ​ ​ផាន់​នី','នុត​ ​សុគន្ធ​ ​ផាន់នី'])\n",
        "  #fixes.append(['ព្រះរាជាណា ច្រក កម្ពុជា','ព្រះរាជាណាច្រ ក កម្ពុជា']) #bad spelling – no better seg\n",
        "  fixes.append(['កាក​បាត​ក្រហម','កាកបាត​ក្រហម']) # from https://www.redcross.org.kh/ កាកបាទក្រហមកម្ពុជា\n",
        "  fixes.append(['ស្រុក​ ​កំពង់ត្រា​ច','ស្រុក​ ​កំពង់ត្រាច'])\n",
        "  fixes.append(['ឃុំ​ ​ថ្ម​កែវ','ឃុំ​ ​ថ្មកែវ'])\n",
        "  fixes.append(['ស្រុក​ ​អង្គរ​ជ័យ','ស្រុក​ ​អង្គរជ័យ'])\n",
        "  fixes.append(['កោះ​តា​កូវ ឃុំ​ឬ​ស្សី','កោះ​តាកូវ ឃុំ​ឬស្សី'])\n",
        "  fixes.append(['ម៉ាក​ ​សែន​សូនីតា','ម៉ាក​ ​សែនសូនីតា'])\n",
        "  fixes.append(['ជា​ ​ដេី​ម​ ​នោះ','ជា​ ​ដេីម​ ​នោះ'])\n",
        "  fixes.append(['ដេី​ម្បី​ ​ជ្រាប','ដេីម្បី​ ​ជ្រាប']) #prob eiy is two chars េ ⁣ី instead of one char\n",
        "  fixes.append(['ក​រករណី','ករ​ករណី'])\n",
        "  fixes.append(['ទោ​ចក្រ​យានយន្ត','ទោចក្រយានយន្ត'])\n",
        "  fixes.append(['ឃុំ​ ​អន្លង់​វិល','ឃុំ​ ​អន្លង់វិល'])\n",
        "  fixes.append(['​ពោធ៍​សាត់','​ពោធ៍សាត់'])\n",
        "  fixes.append(['ណាក់​ ​ស្រី​ណា','ណាក់​ ​ស្រីណា'])\n",
        "  fixes.append(['ពិធីការ​នីមួយ','ពិធីការនី​មួយ']) #valid both ways, need context\n",
        "  fixes.append(['តូរុន​តូ','តូរុនតូ']) #Toronto\n",
        "  fixes.append(['ដាយ​ណូស័រ','ដាយណូស័រ']) #Dinosaur\n",
        "  fixes.append(['ហ្គារ៉ាល់​ហូស','ហ្គារ៉ាល់ហូស']) #Guarulhos in Sao Paulo\n",
        "  fixes.append(['ខេមរៈ​ ​សិរី​មន្ត','ខេមរៈ​ ​សិរីមន្ត'])#ខេមរៈ  សិរី មន្ត\n",
        "  fixes.append(['ឱម​ ​យ៉ិន​ទៀង','ឱម​ ​យ៉ិនទៀង'])\n",
        "  fixes.append(['មហា​លាប','មហាលាប'])\n",
        "  fixes.append(['ការចាប់អារម្ម​ណ៏​','ការចាប់អារម្មណ៏​'])\n",
        "  fixes.append(['វ៉ិច​ទ័រ​','វ៉ិចទ័រ​']) #rector\n",
        "  fixes.append(['សុវណ្ណ​ ​ឬ​ទ្ធី','សុវណ្ណ​ ​ឬទ្ធី'])\n",
        "  fixes.append(['ខាន់​ ​ចាន់​សុផល','ខាន់​ ​ចាន់សុផល'])\n",
        "  fixes.append(['ទំនួលខុសត្រូវ​','ទំនួល​ខុសត្រូវ​'])\n",
        "  fixes.append(['ឯ​ណេះ','ឯណេះ']) #confirm with Chuon Nath Dict\n",
        "  fixes.append(['ហេយ៍​វ៉ិន','ហេយ៍វ៉ិន']) #heaven\n",
        "  fixes.append(['សុខ​ ​ពេញ​វុធ','សុខ​ ​ពេញវុធ'])\n",
        "  fixes.append(['វ៉ុល​កា','វ៉ុលកា']) #vulgar\n",
        "  fixes.append(['ជា​ម​ ​ហុី​ម','ជាម​ ​ហុីម'])\n",
        "  fixes.append(['​ការ​ប្រកាស​','​ការប្រកាស​'])\n",
        "  fixes.append(['អនុ​ប្រធាន','អនុប្រធាន'])\n",
        "  fixes.append(['កិច្ចខិតខំប្រឹងប្រែង','កិច្ច​ខិតខំ​ប្រឹងប្រែង']) #???\n",
        "  fixes.append(['សស្អាត','ស​ស្អាត'])\n",
        "  fixes.append(['ហាន់​ ​ជី​អ៊ុន','ហាន់​ ​ជីអ៊ុន'])\n",
        "  fixes.append(['ស៊ុន​ ​ចាន់​ថុល','ស៊ុន​ ​ចាន់ថុល'])\n",
        "  fixes.append(['លីន​ដា​','លីនដា​'])\n",
        "  fixes.append(['យានយន្តបន្ទាប់ពី','យានយន្ត​បន្ទាប់ពី'])\n",
        "  fixes.append(['ព្រៃ​ស្អាក​ស្រុក​អន្លង់​វែង','ព្រៃស្អាក​ស្រុក​អន្លង់វែង'])\n",
        "  fixes.append(['​ប៉ា​កុង​','​ប៉ាកុង​']) # first 50 articles\n",
        "  fixes.append(['ឈើ​ ​អុស​ក្រាក់','ឈើ​ ​អុសក្រាក់'])\n",
        "  fixes.append(['រតនៈ​គីរី​','រតនៈគីរី​'])\n",
        "  fixes.append(['ឯក​ឧត្តម','ឯកឧត្តម'])\n",
        "  fixes.append(['ឱម​ ​យិន​ទៀង','ឱម​ ​យិនទៀង'])\n",
        "  fixes.append(['​ចំដែនដី​','​ចំ​ដែនដី​']) # orig has space after រៀប\n",
        "  fixes.append(['ឱវា​ទ','ឱវាទ']) # correct spelling\n",
        "  fixes.append(['អ៊ិន​វេស​មិន','អ៊ិនវេសមិន']) #investment\n",
        "  fixes.append(['សហគម​ន៏','សហគមន៏'])\n",
        "  fixes.append(['​គ្រូ​សារ​','​គ្រូសារ​']) # orig has bad ub, mispelled but should be removed before seg\n",
        "  fixes.append(['សុផុនពេល​សួរ','សុផុន​ពេល​សួរ'])\n",
        "  fixes.append(['ស្រុក​កែវ​សីម៉ា','ស្រុក​កែវសីម៉ា'])\n",
        "  fixes.append(['ហាន់​ជ័យ','ហាន់ជ័យ'])\n",
        "  fixes.append(['បូរី​ ​ស​ចនសុន','បូរីស​ ​ចនសុន'])\n",
        "  fixes.append(['បូរី​ ​ស​ចន​សុន','បូរីស​ ​ចនសុន'])\n",
        "  fixes.append(['បូរីស​ ​ចន​សុន','បូរីស​ ​ចនសុន'])\n",
        "  fixes.append(['អំណ​រ​គុណ','អំណរ​គុណ']) # bad orig\n",
        "  fixes.append(['ផលប៉ះពាល់​','ផល​ប៉ះពាល់​']) # ???\n",
        "  fixes.append(['អ្នកវិនិយោគ​','អ្នក​វិនិយោគ​']) #???\n",
        "  fixes.append(['ភូមិ​ ​ស្រះ​ជ្រៃ​','ភូមិ​ ​ស្រះជ្រៃ​'])\n",
        "  fixes.append(['ឃុំ​ ​បន្ទាយ​ឆ្មា​','ឃុំ​ ​បន្ទាយឆ្មា​'])\n",
        "  fixes.append(['ស្រុក​ ​ថ្ម​ពួក​','ស្រុក​ ​ថ្មពួក​'])\n",
        "  fixes.append(['ទ្វីត​ធឺ','ទ្វីតធឺ']) #twitter\n",
        "  fixes.append(['​ធំ​ដុំ','​ធំដុំ'])\n",
        "  fixes.append(['​រួមមាន​','​រួម​មាន​']) #?\n",
        "  fixes.append(['គុយ​វ៉ែត','គុយវ៉ែត'])\n",
        "  fixes.append(['ងងុយគេង','ងងុយ​គេង'])\n",
        "  fixes.append(['ស​ម​ ​រង្ស៊ី','សម​ ​រង្ស៊ី'])\n",
        "  fixes.append(['សោ​ ​ចាន់​ដេត','សោ​ ​ចាន់ដេត'])\n",
        "  fixes.append(['ជាលាយលក្ខណ៍អក្សរ','ជា​លាយលក្ខណ៍​អក្សរ'])\n",
        "  fixes.append(['ផលិតកម្មវិធី','ផលិតកម្ម​វិធី'])\n",
        "  fixes.append(['​សាជាថ្មី​','​សា​ជា​ថ្មី​']) # ???\n",
        "  fixes.append(['ឧកញ៉ា​ស្រី​ ​ចាន់​ថន','ឧកញ៉ា​ ​ស្រី​ ​ចាន់ថន'])\n",
        "  fixes.append(['ភូមិ​ ​ព្រៃ​ល្វា','ភូមិ​ ​ព្រៃល្វា'])\n",
        "  fixes.append(['សង្កាត់​ ​ចោម​ចៅ ','សង្កាត់​ ​ចោមចៅ'])\n",
        "  fixes.append(['ខណ្ឌ​ ​ពោធិ៍​សែន','ខណ្ឌ​ ​ពោធិ៍សែន'])\n",
        "  fixes.append(['ឃុំ​ ​ព្រែក​តា​មាក់','ឃុំ​ ​ព្រែកតាមាក់'])\n",
        "  fixes.append(['​បាត់បង្ក','​បាត់​បង្ក'])\n",
        "  fixes.append(['កើតមានឡើង','កើត​មាន​ឡើង'])\n",
        "  fixes.append(['លូក​លាន់','លូកលាន់'])\n",
        "  fixes.append(['លោក​ ​ជិន​ ​ម៉ាលី​ន','លោក​ ​ជិន​ ​ម៉ាលីន'])\n",
        "  fixes.append(['អ្នករាយការណ៍','អ្នក​រាយការណ៍'])\n",
        "  fixes.append(['គង់​ ​រ៉ៃ​យ៉ា','គង់​ ​រ៉ៃយ៉ា'])\n",
        "  fixes.append(['លោក​ ​សួង​ ​នាគ​ព័ន្ធ','លោក​ ​សួង​ ​នាគព័ន្ធ'])\n",
        "  fixes.append(['ធ្វើទុក្ខបុកម្នេញ','ធ្វើ​ទុក្ខបុកម្នេញ'])  # doc 75 mark\n",
        "  fixes.append(['បោះបង់ចោល','បោះបង់​ចោល'])\n",
        "  fixes.append(['ខ្លួនឯង','ខ្លួន​ឯង']) # ???\n",
        "  fixes.append(['សប្បាយចិត្ត','សប្បាយ​ចិត្ត'])\n",
        "  fixes.append(['មើលទៅ','មើល​ទៅ']) # ??? if\n",
        "  fixes.append(['សោយសុខ','សោយ​សុខ'])\n",
        "  fixes.append(['ទៅលើ','ទៅ​លើ'])\n",
        "  fixes.append(['ឃុំខ្លួន','ឃុំ​ខ្លួន'])\n",
        "  fixes.append(['ជាប់ឃុំ','ជាប់​ឃុំ'])\n",
        "  fixes.append(['លោក​ ​ហេង​ ​ដូន​នី','លោក​ ​ហេង​ ​ដូននី'])\n",
        "  fixes.append(['លោក​ ​កែម​ ​គិម​ស្រន់','លោក​ ​កែម​ ​គិមស្រន់'])\n",
        "  fixes.append(['ស្រុក​ ​វាល​វែង','ស្រុក​ ​វាលវែង'])\n",
        "  fixes.append(['ចោទប្រកាន់តែ','ចោទប្រកាន់​តែ']) # doc 80 mark\n",
        "  fixes.append(['ឈិញ​ ​ស៊ី​ថា','ឈិញ​ ​ស៊ីថា'])\n",
        "  fixes.append(['ដាក់ពាក្យបណ្តឹង','ដាក់​ពាក្យ​បណ្តឹង'])\n",
        "  fixes.append(['ម៉ាក​ ​ណូ​គា','ម៉ាក​ ​ណូគា'])\n",
        "  fixes.append(['ធូ​ ​ស្រី​ទូច','ធូ​ ​ស្រីទូច'])\n",
        "  fixes.append(['ម៉ូតូកង់​បី','ម៉ូតូ​កង់​បី'])\n",
        "  fixes.append(['ឃុំ មង់​រៀវ','ឃុំ មង់រៀវ'])\n",
        "  fixes.append(['លោក​ ​ជា​ ​ចាន់​តូ','លោក​ ​ជា​ ​ចាន់តូ'])\n",
        "  fixes.append(['ស៊ែ​ស្វី​ច','ស៊ែ​ស្វីច']) #shared switch\n",
        "  fixes.append(['ប្រតិបត្តិការផ្ទេរ','ប្រតិបត្តិការ​ផ្ទេរ'])\n",
        "  fixes.append(['បញ្ជាការស្រាល','បញ្ជាការ​ស្រាល'])\n",
        "  fixes.append(['F​-​16','F-16'])\n",
        "  fixes.append(['C​-​17','C-17'])\n",
        "  fixes.append(['គោលនយោបាយ','គោល​នយោបាយ']) # id 90 mark\n",
        "  fixes.append(['ហាន​ ​សុខ​ន','ហាន​ ​សុខន'])\n",
        "  fixes.append(['ខៀវ​ ​ទេ​ព','ខៀវ​ ​ទេព'])\n",
        "  fixes.append(['កាញារី​ទ្ធ','កាញារីទ្ធ'])\n",
        "  fixes.append(['ជី​ហែ','ជីហែ']) # ផ្សារជីហែ\n",
        "  fixes.append(['វិទ្យាល័យ​ ​ជី​ហែរ','វិទ្យាល័យ​ ​ជីហែរ'])\n",
        "  fixes.append(['ស្រុកោះ​កោះ​សូទិន','ស្រុកោះ​កោះសូទិន'])\n",
        "  fixes.append(['ជំរុញឲ្យ','ជំរុញ​ឲ្យ'])\n",
        "  fixes.append(['ការបាក់ទឹកចិត្ត','ការបាក់​ទឹកចិត្ត'])\n",
        "  fixes.append(['ហង់ ជួន​ណារីតា','ហង់ ជួនណារីតា'])\n",
        "  fixes.append(['ជាទីមោទនៈ','ជា​ទី​មោទនៈ'])\n",
        "  fixes.append(['សឿ សុជា​តា','សឿ សុជាតា'])\n",
        "  fixes.append(['ហង់​ ​ជួន​ណារ៉ុន','ហង់​ ​ជួនណារ៉ុន'])\n",
        "  fixes.append(['ក​សាង​ធនធាន','កសាង​ធនធាន'])\n",
        "  fixes.append(['ស្នង​ឬ​ស្សី','ស្នង​ឬស្សី'])\n",
        "  fixes.append(['ខៀវ​ ​កាញារី​ទ្ធ','ខៀវ​ ​កាញារីទ្ធ'])\n",
        "  fixes.append(['ត្រេន​ ​ដី​ង','ត្រេនដីង']) #trending\n",
        "  fixes.append(['ទៅវិញទៅមក','ទៅ​វិញ​ទៅ​មក']) # ??\n",
        "  fixes.append(['ក្ដី​ស្រមៃ','ក្ដីស្រមៃ']) #prob mispell jerg da\n",
        "  fixes.append(['ឬ​ស្សីកែវ','ឬស្សីកែវ'])\n",
        "  fixes.append(['អេង​ ​សុវណ្ណ​តារា','អេង​ ​សុវណ្ណតារា'])\n",
        "  fixes.append(['កុង​ទីន​រ័','កុងទីនរ័'])\n",
        "  fixes.append(['ជាបន្តបន្ទាប់','ជា​បន្តបន្ទាប់'])\n",
        "  fixes.append(['ចលត័ជាប្រចាំ','ចលត័​ជា​ប្រចាំ'])\n",
        "  fixes.append(['ឃុំ​ដី​ឥដ្ឋ','ឃុំ​ដីឥដ្ឋ'])\n",
        "  fixes.append(['វី​ដែ​អូ','វីដែអូ']) #misspell វីដេអូ \n",
        "  fixes.append(['ត្រី​ខ​','ត្រីខ​'])\n",
        "  fixes.append(['ទឹក​ត្រី​','ទឹកត្រី​'])\n",
        "  fixes.append(['បង្ខំឲ្យ','បង្ខំ​ឲ្យ']) # first hundred docs\n",
        "  fixes.append(['ស្ដុក ប្រវឹក','ស្ដុកប្រវឹក'])\n",
        "  fixes.append(['វាល រិញ ','វាលរិញ '])\n",
        "  fixes.append(['ណៃ   វង្ស ដា','ណៃ   វង្សដា'])\n",
        "  fixes.append(['លោក   ឃ ន  ជឺ ','លោក   ឃន   ជឺ '])\n",
        "  fixes.append(['បុត   ចាន់ ណា','បុត   ចាន់ណា'])\n",
        "  fixes.append(['ឯ ម   ច័ន្ទ មក រា','ឯម   ច័ន្ទមករា'])\n",
        "  fixes.append(['សង់ ដ្រី ន   ឌុយ រី','សង់ដ្រីន   ឌុយរី'])\n",
        "  fixes.append(['សុខ   ពេញ វុធ','សុខ   ពេញវុធ'])\n",
        "  fixes.append(['សោម  ពុទ្ធ តារា','សោម  ពុទ្ធតារា'])\n",
        "  fixes.append(['ម៉ៅ  ច័ន្ទ មធុរិទ្ធ','ម៉ៅ  ច័ន្ទមធុរិទ្ធ'])\n",
        "  fixes.append(['បូពិន្ទ  ណា រ័ត្ន','បូពិន្ទ  ណារ័ត្ន'])\n",
        "  fixes.append(['ជា   ប៊ុន ហេង','ជា   ប៊ុនហេង'])\n",
        "  fixes.append(['ណារិក ដ្រា   មូឌី','ណារិកដ្រា   មូឌី'])\n",
        "  fixes.append(['ស្រុក ព្រៃ នប់','ស្រុក ព្រៃនប់'])\n",
        "  fixes.append(['ស្រុក ព្រៃ នប់','ស្រុក ព្រៃនប់'])\n",
        "  fixes.append(['ខណ្ឌ ចំការ មន','ខណ្ឌ ចំការមន'])\n",
        "  fixes.append(['ខណ្ឌ ពោធិ៍ សែន ជ័យ','ខណ្ឌ ពោធិ៍សែនជ័យ'])\n",
        "  fixes.append(['សង្កាត់ ទឹក ល្អក់','សង្កាត់ ទឹកល្អក់'])\n",
        "  fixes.append(['សង្កាត់ ផ្សារ ថ្មី','សង្កាត់ ផ្សារថ្មី'])\n",
        "  fixes.append(['សង្កាត់ ជ្រោយ ចង្វារ','សង្កាត់ ជ្រោយចង្វារ'])\n",
        "  fixes.append(['សង្កាត់ វាល វង់','សង្កាត់ វាលវង់'])\n",
        "  fixes.append(['សង្កាត់ កោះ ដាច់','សង្កាត់ កោះដាច់'])\n",
        "  fixes.append(['សង្កាត់ ចាក់អង្រែ លើ','សង្កាត់ ចាក់អង្រែលើ'])\n",
        "  fixes.append(['សង្កាត់ ទន្លេ បាសាក់','សង្កាត់ ទន្លេបាសាក់'])\n",
        "  fixes.append(['ឃុំ ត្រពាំង ជោ','ឃុំ ត្រពាំងជោ'])\n",
        "  fixes.append(['ឃុំ ក្រាំង ល្វា','ឃុំ ក្រាំងល្វា'])\n",
        "  fixes.append(['ឃុំ ដូន សរ','ឃុំ ដូនសរ'])\n",
        "  fixes.append(['ឃុំ អូរ តាប៉ោង','ឃុំ អូរតាប៉ោង'])\n",
        "  fixes.append(['ឃុំ ក្បាល ដំរី','ឃុំ ក្បាលដំរី'])\n",
        "  fixes.append(['ឃុំ ត្រពាំង គង','ឃុំត្រពាំងគង'])\n",
        "  fixes.append(['ភូមិ ច្រក ទៀក','ភូមិ ច្រកទៀក'])\n",
        "  fixes.append(['ភូមិ ខ្សាច់ ស','ភូមិ ខ្សាច់ស'])\n",
        "  fixes.append(['ភូមិ អូរ ត្រូន','ភូមិ អូរត្រូន'])\n",
        "  fixes.append(['ភូមិ ថ្ម ធំ','ភូមិ ថ្មធំ'])\n",
        "  fixes.append(['ភូមិ ចំការ ដូង','ភូមិ ចំការដូង'])\n",
        "  fixes.append(['ភូមិ ព្រៃ ផ្តៅ','ភូមិ ព្រៃផ្តៅ'])\n",
        "  fixes.append(['ភូមិ បឹង វែង','ភូមិ បឹងវែង'])\n",
        "  fixes.append(['   .   com ','.com '])\n",
        "  fixes.append(['ចូ   បាយ ដិន','ចូ   បាយដិន'])\n",
        "  fixes.append([' ណាន់ ស៊ី ',' ណាន់ស៊ី '])\n",
        "  fixes.append(['លោក ត្រាំតទៅទៀត','លោក ត្រាំ តទៅទៀត'])\n",
        "\n",
        "  #fixes.append(['','']) #u200bប៊ុល ហ្គារី  ,   ហុង គ្រី  Hungary\n",
        "  return fixes\n",
        "\n",
        "\n",
        "fixes = get_correction_list()\n",
        "print(\"count\", len(fixes), \" data[0]:\", fixes[0])"
      ],
      "execution_count": 14,
      "outputs": [
        {
          "output_type": "stream",
          "text": [
            "count 199  data[0]: ['អា\\u200bខោន\\u200b', 'អាខោន\\u200b']\n"
          ],
          "name": "stdout"
        }
      ]
    },
    {
      "cell_type": "markdown",
      "metadata": {
        "id": "vy86r_jO4lwR"
      },
      "source": [
        "### Parse and correct sentences"
      ]
    },
    {
      "cell_type": "code",
      "metadata": {
        "id": "PXJrVDA3TLPh",
        "cellView": "both",
        "colab": {
          "base_uri": "https://localhost:8080/"
        },
        "outputId": "1817497b-3a96-443e-8f8c-97613d2a93ee"
      },
      "source": [
        "def correct_str(str):\n",
        "  for f in fixes:\n",
        "    str = str.replace(f[0], f[1])\n",
        "  return str\n",
        "\n",
        "def cleanup_str(str):\n",
        "  str = str.strip(' ').strip()\n",
        "  str = str.replace(\"  \", \" \") # clean up 2 spaces to 1\n",
        "  str = str.replace(\" \", \"   \")   # ensure 200b around space\n",
        "  # clean up\n",
        "  str = str.replace(\"  \", ' ')   # clean up dupe 200b\n",
        "  str = str.replace(\"  \", ' ')   # in case multiple\n",
        "  str = correct_str(str) # assume space has 200b wrapped around\n",
        "  \n",
        "  # remove special characters\n",
        "  str = str.replace(u\"\\u2028\", \"\") # line separator\n",
        "  str = str.replace(u\"\\u200a\", \"\")  # hair space\n",
        "  str = str.strip().replace('\\n','').replace('  ',' ')\n",
        "  return str\n",
        "\n",
        "# setup training data using seg\n",
        "sentences = list()\n",
        "for i, text in enumerate(seg_text):\n",
        "    for sentence in text:\n",
        "        sentences.append(cleanup_str(sentence))\n",
        "print(\"total len of sentences:\", len(sentences))\n",
        "\n",
        "# id=99\n",
        "# print(\"id:\",doc_ids[id])\n",
        "# for i,s in enumerate(seg_text[id]):\n",
        "#   print(\"sample sentence: %s\" %(cleanup_str(s)))\n",
        "#   print(\"orig sentence: %s\" %(repr(orig_text[id][i])))\n"
      ],
      "execution_count": 15,
      "outputs": [
        {
          "output_type": "stream",
          "text": [
            "total len of sentences: 1000\n"
          ],
          "name": "stdout"
        }
      ]
    },
    {
      "cell_type": "markdown",
      "metadata": {
        "id": "p8XTRpt5sRUc"
      },
      "source": [
        "### Check count and searching"
      ]
    },
    {
      "cell_type": "code",
      "metadata": {
        "id": "PiVBnbUiS3Xp",
        "colab": {
          "base_uri": "https://localhost:8080/"
        },
        "outputId": "0a95aca8-4bc4-4f6b-caad-b403cc1251b9"
      },
      "source": [
        "# search more match text in the correction list\n",
        "import re\n",
        "total = 0\n",
        "for sen in sentences[0:813]: #todo search small set only\n",
        "  for f in fixes:\n",
        "    m = [m.start() for m in re.finditer(f[0], sen)]\n",
        "    n = [m.start() for m in re.finditer(f[1], sen)]\n",
        "    if len(m) >0:\n",
        "      total += len(m)\n",
        "      s = sen[m[0]:(m[0]+20)]\n",
        "      #if (len(m)) > 0: print(total, \"len:\", len(m), \" str:\", repr(f[0]), \"sen:\", sen)\n",
        "      #print(\"match: search=\", repr(f[0]), \"fix:\", repr(f[1]), \" sen:\", repr(s))\n",
        "      \n",
        "print(\"total corrections:\",total, \" total sen:\", len(sentences)) #127 -> 147/871\n",
        "\n"
      ],
      "execution_count": 16,
      "outputs": [
        {
          "output_type": "stream",
          "text": [
            "total corrections: 0  total sen: 1000\n"
          ],
          "name": "stdout"
        }
      ]
    },
    {
      "cell_type": "code",
      "metadata": {
        "id": "ISXQ3smiOXQF",
        "colab": {
          "base_uri": "https://localhost:8080/"
        },
        "outputId": "2ffcbecc-41c2-47ff-fff6-91bf9974d032"
      },
      "source": [
        "# search Orig text\n",
        "found = []\n",
        "s = \"អាក្រក់\".strip()\n",
        "#s = \"លោក\".strip()\n",
        "for i, text in enumerate(orig_text): #seg_text\n",
        "    #print(\"Document \" + str(doc_ids[i]) + \" num of sentences: \" + str(len(text)))\n",
        "    for sentence in text:\n",
        "        if s in sentence: found.append(sentence)\n",
        "print(\"total len of found:\", len(found))\n",
        "for sen in found:\n",
        "  idx = sen.find(s)\n",
        "  sidx = idx - 10 if idx>10 else 0\n",
        "  eidx = idx + 45 if idx+45<len(sen) else len(sen)\n",
        "  #print(\"start idx:\", sidx, eidx, \"len:\", len(sen))\n",
        "  #print(\"Found s:\", repr(sen[sidx:eidx]))\n",
        "  print(\"Found s:\", sen[sidx:eidx].replace(' ', spacer))"
      ],
      "execution_count": 17,
      "outputs": [
        {
          "output_type": "stream",
          "text": [
            "total len of found: 5\n",
            "Found s: \"គ្រាប់បែកអាក្រក់។\"\n",
            "\n",
            "Found s: ្រឹត្តអំពើអាក្រក់ប៉ុន្តែត្រូវបានដោះលែងដោយគ្មានការចោទប្រ\n",
            "Found s: ហ្រ្វិកដែលអាក្រក់ជាងជនជាតិអាមេរិកស្បែកសរ។\n",
            "\n",
            "Found s: ង្គិចនេះគឺអាក្រក់បំផុតនៅតំបន់•តាំងពីមហន្តរាយមួយនៅខែមេសា\n",
            "Found s: ត៌មានគឺមិនអាក្រក់ទាំងស្រុងទេក៏ប៉ុន្តែដូចដែលនាវាដឹងប្រេង\n"
          ],
          "name": "stdout"
        }
      ]
    },
    {
      "cell_type": "code",
      "metadata": {
        "id": "hZRgWsBlt2LG",
        "colab": {
          "base_uri": "https://localhost:8080/"
        },
        "outputId": "d110e22a-d9e4-4e7c-d52b-da1bbecbf45f"
      },
      "source": [
        "#search segmented text\n",
        "\n",
        "#អ្នក ក្តៅ ចិត្ត  <= អ្នកក្តៅចិត្ត, តួរ ចិត្ត អាក្រក់<= តួរចិត្ត អាក្រក់,  ថាមពល<=ថា មពល, ម្យ៉ាងទៀត<=ម្យ៉ាង ទៀត, កិច្ចការពារ <=កិច្ច ការពារ, \n",
        "#មហា អំណាច <= មហាអំណាច , អំពើហិង្សា<=អំពើ ហិង្សា, ញាំ ក្រូច ថ្លុង<=ញាំក្រូចថ្លុង , ខ ប៉េងប៉ោះ<=ខ ប៉េងប៉ោះ, \n",
        "# ម តិ , ម៉ៅ•សេ•ទុង=>ម៉ៅ•សេទុង•\n",
        "\n",
        "# search final text\n",
        "s = \"ម្អ\"\n",
        "spacer = '\\u2022'\n",
        "found = []\n",
        "for i, text in enumerate(sentences): #enumerate(seg_text):\n",
        "    if s in text: found.append(text)\n",
        "print(\"total len of found:\", len(found))\n",
        "for sen in found:\n",
        "  idx = sen.find(s)\n",
        "  sidx = idx - 10 if idx>10 else 0\n",
        "  eidx = idx + 45 if idx+45<len(sen) else len(sen)\n",
        "  print(\"Found s:\", sen[sidx:eidx].replace(' ',spacer))"
      ],
      "execution_count": 18,
      "outputs": [
        {
          "output_type": "stream",
          "text": [
            "total len of found: 1\n",
            "Found s: ំរាប់•កែ•លម្អ•រដ្ឋាភិបាល•អៀរឡង់•ខាង•ជើង•។\n"
          ],
          "name": "stdout"
        }
      ]
    },
    {
      "cell_type": "markdown",
      "metadata": {
        "id": "mkSnaXP3UAi_"
      },
      "source": [
        "## Create Features\n",
        "This section implements different methods to generate KCC and features for CRF."
      ]
    },
    {
      "cell_type": "markdown",
      "metadata": {
        "id": "54UzJ-z0ZKE0"
      },
      "source": [
        "### KCC\n",
        "\n",
        "We implementated the segmentation of Khmer orthographic or Khmer character cluster (KCC) in a simpler way. Instead of check for all possible rules from the start of each character, we just check the next character and determine whether it is a type that start a new KCC. So the current character is the end of the current KCC. If there are series of invalid KCC string, this approach does not separate those. But segmented it would leave the next segment invalid any way.\n",
        "\n",
        "In addition, we take advantage of this cluster and cluster non segmentable characters like number and non-Khmer word."
      ]
    },
    {
      "cell_type": "code",
      "metadata": {
        "id": "SC7yNH4eUno7",
        "colab": {
          "base_uri": "https://localhost:8080/"
        },
        "cellView": "form",
        "outputId": "0e9a502c-a217-46c2-e4f6-c37739f6c03b"
      },
      "source": [
        "#@title Segment into KCCs \n",
        "\n",
        "# list of constants needed for KCC and feature generation\n",
        "# consonant and independent vowels\n",
        "KHCONST = set(u'កខគឃងចឆជឈញដឋឌឍណតថទធនបផពភមយរលវឝឞសហឡអឣឤឥឦឧឨឩឪឫឬឭឮឯឰឱឲឳ')\n",
        "KHVOWEL = set(u'឴឵ាិីឹឺុូួើឿៀេែៃោៅ\\u17c6\\u17c7\\u17c8')\n",
        "# subscript, diacritics\n",
        "KHSUB = set(u'្')\n",
        "KHDIAC = set(u\"\\u17c9\\u17ca\\u17cb\\u17cc\\u17cd\\u17ce\\u17cf\\u17d0\") #MUUSIKATOAN, TRIISAP, BANTOC,ROBAT,\n",
        "KHSYM = set('៕។៛ៗ៚៙៘,.? ') # add space\n",
        "KHNUMBER = set(u'០១២៣៤៥៦៧៨៩0123456789') # remove 0123456789\n",
        "# lunar date:  U+19E0 to U+19FF ᧠...᧿\n",
        "KHLUNAR = set('᧠᧡᧢᧣᧤᧥᧦᧧᧨᧩᧪᧫᧬᧭᧮᧯᧰᧱᧲᧳᧴᧵᧶᧷᧸᧹᧺᧻᧼᧽᧾᧿')\n",
        "\n",
        "def is_khmer_char(ch):\n",
        "  if (ch >= '\\u1780') and (ch <= '\\u17ff'): return True\n",
        "  if ch in KHSYM: return True\n",
        "  if ch in KHLUNAR: return True\n",
        "  return False\n",
        "\n",
        "def is_start_of_kcc(ch):\n",
        "  if is_khmer_char(ch):\n",
        "    if ch in KHCONST: return True\n",
        "    if ch in KHSYM: return True\n",
        "    if ch in KHNUMBER: return True\n",
        "    if ch in KHLUNAR: return True\n",
        "    return False\n",
        "  return True\n",
        "\n",
        "# kcc base - must surround space with   using cleanupstr()\n",
        "def seg_kcc(str_sentence):\n",
        "    segs = []\n",
        "    cur = \"\"\n",
        "    sentence = str_sentence\n",
        "    #for phr in str_sentence.split(): #no longer split by space, use 200b\n",
        "    #    print(\"phr: '\", phr,\"'\")\n",
        "    for word in sentence.split(' '):\n",
        "      #print(\"PHR:[%s] len:%d\" %(phr, len(phr)))\n",
        "      for i,c in enumerate(word):\n",
        "          #print(i,\" c:\", c)\n",
        "          cur += c\n",
        "          nextchar = word[i+1] if (i+1 < len(word)) else \"\"\n",
        "          \n",
        "          # cluster non-khmer chars together\n",
        "          if not is_khmer_char(c) and nextchar != \" \" and nextchar != \"\" and not is_khmer_char(nextchar): \n",
        "            continue\n",
        "          # cluster number together\n",
        "          if c in KHNUMBER and nextchar in KHNUMBER: \n",
        "            continue\n",
        "            \n",
        "          # cluster non-khmer together\n",
        "          # non-khmer character has no cluster\n",
        "          if not is_khmer_char(c) or nextchar==\" \" or nextchar==\"\":\n",
        "              segs.append(cur)\n",
        "              cur=\"\"\n",
        "          elif is_start_of_kcc(nextchar) and not (c in KHSUB):\n",
        "              segs.append(cur)\n",
        "              cur=\"\" \n",
        "        # add space back after split\n",
        "        #segs.append(\" \")   \n",
        "    return segs # [:-1] # trim last space\n",
        "\n",
        "# testing some text\n",
        "t1 = \"យោងតាមប្រភពព័ត៌មានបានឱ្យដឹងថា កាលពីពេលថ្មីៗនេះក្រុមចក្រភពអង់គ្លេស Royal Marines ដែលមានមូលដ្ឋាននៅ Gibraltar បានរឹបអូសយកនាវាដឹកប្រេងឆៅរបស់អ៊ីរ៉ង់ដែលធ្វើដំណើរទៅកាន់រោងចក្រចម្រាញ់ប្រេងនៅក្នុងប្រទេសស៊ីរី ដោយក្រុងឡុងដ៍អះអាងថា ការរឹបអូសត្រូវបានគេសំដៅអនុវត្ត៕\"\n",
        "t2 = \"ខែThis is a test. N.B. ខែ? Test?\"\n",
        "t3 = \"នៅរសៀលថ្ងៃទី២២ ខែ កក្កដា ឆ្នាំ២០១៩ ឯកឧត្តម គួច ចំរើន អភិបាលខេត្តព្រះសីហនុ\"\n",
        "t4 = \"This. 11,12 ២២.២២២.២២២,២២\"\n",
        "t5 = \" ក \"\n",
        "print(\"kcc:\", seg_kcc(t1))\n",
        "print(\"kcc:\", seg_kcc(t2))\n",
        "print(\"kcc:\", seg_kcc(t3))\n",
        "print(\"kcc:\", seg_kcc(t4))\n",
        "print(\"kcc:\", seg_kcc(t5))"
      ],
      "execution_count": 19,
      "outputs": [
        {
          "output_type": "stream",
          "text": [
            "kcc: ['យោ', 'ង', 'តា', 'ម', 'ប្រ', 'ភ', 'ព', 'ព័', 'ត៌', 'មា', 'ន', 'បា', 'ន', 'ឱ្យ', 'ដឹ', 'ង', 'ថា', 'កា', 'ល', 'ពី', 'ពេ', 'ល', 'ថ្មី', 'ៗ', 'នេះ', 'ក្រុ', 'ម', 'ច', 'ក្រ', 'ភ', 'ព', 'អ', 'ង់', 'គ្លេ', 'ស', 'Royal', 'Marines', 'ដែ', 'ល', 'មា', 'ន', 'មូ', 'ល', 'ដ្ឋា', 'ន', 'នៅ', 'Gibraltar', 'បា', 'ន', 'រឹ', 'ប', 'អូ', 'ស', 'យ', 'ក', 'នា', 'វា', 'ដឹ', 'ក', 'ប្រេ', 'ង', 'ឆៅ', 'រ', 'ប', 'ស់', 'អ៊ី', 'រ៉', 'ង់', 'ដែ', 'ល', 'ធ្វើ', 'ដំ', 'ណើ', 'រ', 'ទៅ', 'កា', 'ន់', 'រោ', 'ង', 'ច', 'ក្រ', 'ច', 'ម្រា', 'ញ់', 'ប្រេ', 'ង', 'នៅ', 'ក្នុ', 'ង', 'ប្រ', 'ទេ', 'ស', 'ស៊ី', 'រី', 'ដោ', 'យ', 'ក្រុ', 'ង', 'ឡុ', 'ង', 'ដ៍', 'អះ', 'អា', 'ង', 'ថា', 'កា', 'រ', 'រឹ', 'ប', 'អូ', 'ស', 'ត្រូ', 'វ', 'បា', 'ន', 'គេ', 'សំ', 'ដៅ', 'អ', 'នុ', 'វ', 'ត្ត', '៕']\n",
            "kcc: ['ខែ', 'This', 'is', 'a', 'test', '.', 'N', '.', 'B', '.', 'ខែ', '?', 'Test', '?']\n",
            "kcc: ['នៅ', 'រ', 'សៀ', 'ល', 'ថ្ងៃ', 'ទី', '២២', 'ខែ', 'ក', 'ក្ក', 'ដា', 'ឆ្នាំ', '២០១៩', 'ឯ', 'ក', 'ឧ', 'ត្ត', 'ម', 'គួ', 'ច', 'ចំ', 'រើ', 'ន', 'អ', 'ភិ', 'បា', 'ល', 'ខេ', 'ត្ត', 'ព្រះ', 'សី', 'ហ', 'នុ']\n",
            "kcc: ['This', '.', '11', ',', '12', '២២', '.', '២២២', '.', '២២២', ',', '២២']\n",
            "kcc: ['ក']\n"
          ],
          "name": "stdout"
        }
      ]
    },
    {
      "cell_type": "code",
      "metadata": {
        "id": "kphD4IQdUr5k",
        "colab": {
          "base_uri": "https://localhost:8080/"
        },
        "outputId": "9bff2080-84c8-4a3e-e7db-689f18607fa9"
      },
      "source": [
        "# generate list of (word, label), not splitting into phrases, just remove spaces\n",
        "def gen_kcc_with_label(sentence):\n",
        "    sentence = cleanup_str(sentence) # add 200b between space\n",
        "    final_kccs = []\n",
        "    #for ph in sentence.split():\n",
        "    for w in sentence.split(' '):\n",
        "        kccs = seg_kcc(w)\n",
        "        labels = [1 if (i==0 or k==\" \") else 0 for i, k in enumerate(kccs)]\n",
        "        final_kccs.extend(list(zip(kccs,labels)))\n",
        "    return final_kccs\n",
        "\n",
        "# test label\n",
        "ts = \"This is a test\"\n",
        "ts = \"នៅ រសៀល ថ្ងៃ ទី ២២ ខែ កក្កដា ឆ្នាំ ២០១៩ ។\"\n",
        "#ts = cleanup_str(ts)\n",
        "kccs = seg_kcc(ts)\n",
        "kl = gen_kcc_with_label(ts)\n",
        "print(\"sen:\", repr(ts))\n",
        "print(\"len of kcc:\", len(kccs), \" data:\", kccs)\n",
        "print(\"kcc with label len:\", len(kl), \" data:\", kl)"
      ],
      "execution_count": 20,
      "outputs": [
        {
          "output_type": "stream",
          "text": [
            "sen: 'នៅ រសៀល ថ្ងៃ ទី ២២ ខែ កក្កដា ឆ្នាំ ២០១៩ ។'\n",
            "len of kcc: 14  data: ['នៅ', 'រ', 'សៀ', 'ល', 'ថ្ងៃ', 'ទី', '២២', 'ខែ', 'ក', 'ក្ក', 'ដា', 'ឆ្នាំ', '២០១៩', '។']\n",
            "kcc with label len: 14  data: [('នៅ', 1), ('រ', 1), ('សៀ', 0), ('ល', 0), ('ថ្ងៃ', 1), ('ទី', 1), ('២២', 1), ('ខែ', 1), ('ក', 1), ('ក្ក', 0), ('ដា', 0), ('ឆ្នាំ', 1), ('២០១៩', 1), ('។', 1)]\n"
          ],
          "name": "stdout"
        }
      ]
    },
    {
      "cell_type": "code",
      "metadata": {
        "id": "4FrArr08UzL_",
        "colab": {
          "base_uri": "https://localhost:8080/"
        },
        "outputId": "34318191-6921-4f1d-e039-4d9199b049e3"
      },
      "source": [
        "EN = set(u'abcdefghijklmnopqrstuvwxyz0123456789')\n",
        "\n",
        "# E=English, C=Consonant, W=wowel, N=number, O=Other, S=subcript, D=Diacritic, NS=no_space(same E)\n",
        "# roll up to: NS, C, W, S, D\n",
        "NS = 'NS'\n",
        "def get_type(chr):\n",
        "  if chr.lower() in EN: return NS\n",
        "  if chr in KHCONST: return \"C\"\n",
        "  if chr in KHVOWEL: return \"W\"\n",
        "  if chr in KHNUMBER: return NS\n",
        "  if chr in KHSUB: return \"S\"\n",
        "  if chr in KHDIAC: return \"D\"\n",
        "  return NS\n",
        "\n",
        "# non-khmer character that we should not separate like number\n",
        "# multiple characters are false\n",
        "def is_no_space(k):\n",
        "  if get_type(k[0])==NS: return True\n",
        "  return False\n",
        "\n",
        "def kcc_type(k):\n",
        "  if len(k)==1: return get_type(k)\n",
        "  else: return \"K\" + str(len(k))\n",
        "\n",
        "print(\"kcc_type for u'\\u17cb'\", kcc_type(u'\\u17cb'))\n",
        "print(\"kcc_type for u'A'\", kcc_type('A'))\n",
        "print(\"kcc_type for u'២'\", kcc_type('C'))\n",
        "print(\"kcc_type for 'ថ្ងៃ'\", kcc_type('ថ្ងៃ'))\n",
        "print(\"is NS for 'A':\", is_no_space(\"Apple\"))\n",
        "print(\"is NS for '២២២':\", is_no_space(\"២២២\"))\n",
        "print(\"is NS for 'ថ្ងៃ':\", is_no_space('ថ្ងៃ'))"
      ],
      "execution_count": 21,
      "outputs": [
        {
          "output_type": "stream",
          "text": [
            "kcc_type for u'់' D\n",
            "kcc_type for u'A' NS\n",
            "kcc_type for u'២' NS\n",
            "kcc_type for 'ថ្ងៃ' K4\n",
            "is NS for 'A': True\n",
            "is NS for '២២២': True\n",
            "is NS for 'ថ្ងៃ': False\n"
          ],
          "name": "stdout"
        }
      ]
    },
    {
      "cell_type": "code",
      "metadata": {
        "id": "qenu6dCOU7-A",
        "colab": {
          "base_uri": "https://localhost:8080/"
        },
        "cellView": "form",
        "outputId": "2278de91-7133-4eda-b0c2-248c15ee571c"
      },
      "source": [
        "#@title Define CRF features\n",
        "# only pass in kccs list (without labels)\n",
        "def kcc_to_features(kccs, i):\n",
        "    maxi = len(kccs)\n",
        "    kcc = kccs[i]\n",
        "\n",
        "    features = {\n",
        "        'kcc': kcc,\n",
        "        't': kcc_type(kcc),\n",
        "        'ns': is_no_space(kcc)\n",
        "    }\n",
        "    if i >= 1:\n",
        "        features.update({\n",
        "            'kcc[-1]'  : kccs[i-1],\n",
        "            'kcc[-1]t' : kcc_type(kccs[i-1]),\n",
        "            'kcc[-1:0]': kccs[i-1] + kccs[i],\n",
        "            'ns-1' : is_no_space(kccs[i-1])\n",
        "        })\n",
        "    else:\n",
        "        features['BOS'] = True\n",
        "\n",
        "    if i >= 2:\n",
        "        features.update({\n",
        "            'kcc[-2]'   : kccs[i-2],\n",
        "            'kcc[-2]t'  : kcc_type(kccs[i-2]),\n",
        "            'kcc[-2:-1]': kccs[i-2] + kccs[i-1],\n",
        "            'kcc[-2:0]' : kccs[i-2] + kccs[i-1] + kccs[i],\n",
        "        })\n",
        "    if i >= 3:\n",
        "        features.update({\n",
        "            'kcc[-3]'   : kccs[i-3],\n",
        "            'kcc[-3]t'  : kcc_type(kccs[i-3]),\n",
        "            'kcc[-3:0]' : kccs[i-3] + kccs[i-2] + kccs[i-1] + kccs[i],\n",
        "            'kcc[-3:-1]': kccs[i-3] + kccs[i-2] + kccs[i-1],\n",
        "            'kcc[-3:-2]': kccs[i-3] + kccs[i-2],\n",
        "        })\n",
        "\n",
        "    if i < maxi-1:\n",
        "        features.update({\n",
        "            'kcc[+1]'  : kccs[i+1],\n",
        "            'kcc[+1]t'  : kcc_type(kccs[i+1]),\n",
        "            'kcc[+1:0]': kccs[i] + kccs[i+1],\n",
        "            'ns+1' : is_no_space(kccs[i+1])\n",
        "\n",
        "        })\n",
        "    else:\n",
        "        features['EOS'] = True\n",
        "\n",
        "    if i < maxi-2:\n",
        "        features.update({\n",
        "            'kcc[+2]'   : kccs[i+2],\n",
        "            'kcc[+2]t'   : kcc_type(kccs[i+2]),\n",
        "            'kcc[+1:+2]': kccs[i+1] + kccs[i+2],\n",
        "            'kcc[0:+2]' : kccs[i+0] + kccs[i+1] + kccs[i+2],\n",
        "            'ns+2' : is_no_space(kccs[i+2])\n",
        "        })\n",
        "    if i < maxi-3:\n",
        "        features.update({\n",
        "            'kcc[+3]'   : kccs[i+3],\n",
        "            'kcc[+3]t'   : kcc_type(kccs[i+3]),\n",
        "            'kcc[+2:+3]': kccs[i+2] + kccs[i+3],\n",
        "            'kcc[+1:+3]': kccs[i+1] + kccs[i+2] + kccs[i+3],\n",
        "            'kcc[0:+3]' : kccs[i+0] + kccs[i+1] + kccs[i+2] + kccs[i+3],\n",
        "        })\n",
        "\n",
        "    return features\n",
        "\n",
        "def generate_kccs_label_per_phrase(sentence):\n",
        "    phrases = sentence.split()\n",
        "    print(\"prep_kcc_labels -- number of phrases:\", len(phrases))\n",
        "    final_kccs = []\n",
        "    for phrase in phrases:\n",
        "        kccs = seg_kcc(phrase)\n",
        "        labels = [1 if (i==0) else 0 for i, k in enumerate(kccs)]\n",
        "        final_kccs.extend(list(zip(kccs,labels)))\n",
        "    return final_kccs\n",
        "\n",
        "def create_kcc_features(kccs):\n",
        "    return [kcc_to_features(kccs, i) for i in range(len(kccs))]\n",
        "\n",
        "# take label in second element from kcc with label\n",
        "def create_labels_from_kccs(kccs_label):\n",
        "    return [str(part[1]) for part in kccs_label]\n",
        "\n",
        "# test\n",
        "ts = \"នៅ រសៀល ថ្ងៃ ទី ២២ ខែ កក្កដា ឆ្នាំ ២០១៩ ។\"\n",
        "#ts = ' ប្រភព ៖  Kenh   14   អត្ថបទ ដោយ ៖  Trassi   '\n",
        "ts = cleanup_str(ts)\n",
        "kccs = seg_kcc(ts)\n",
        "kccs_label = gen_kcc_with_label(ts) # only need for training\n",
        "print(\"kcc with label:\", len(kccs_label), \" :\", kccs_label )\n",
        "fs = create_kcc_features(kccs)\n",
        "print(\"format features:\", len(fs), \" :\", fs[0:1])\n",
        "labels = create_labels_from_kccs(kccs_label)\n",
        "print(\"create labels:\", len(labels), \" :\", labels)\n",
        "\n",
        "print(\"create labels 'test 123':\", create_kcc_features(seg_kcc(\"test 123\")))\n",
        "print(\"create labels 'កខ':\", create_kcc_features(seg_kcc(\"កខ\")))"
      ],
      "execution_count": 22,
      "outputs": [
        {
          "output_type": "stream",
          "text": [
            "kcc with label: 14  : [('នៅ', 1), ('រ', 1), ('សៀ', 0), ('ល', 0), ('ថ្ងៃ', 1), ('ទី', 1), ('២២', 1), ('ខែ', 1), ('ក', 1), ('ក្ក', 0), ('ដា', 0), ('ឆ្នាំ', 1), ('២០១៩', 1), ('។', 1)]\n",
            "format features: 14  : [{'kcc': 'នៅ', 't': 'K2', 'ns': False, 'BOS': True, 'kcc[+1]': 'រ', 'kcc[+1]t': 'C', 'kcc[+1:0]': 'នៅរ', 'ns+1': False, 'kcc[+2]': 'សៀ', 'kcc[+2]t': 'K2', 'kcc[+1:+2]': 'រសៀ', 'kcc[0:+2]': 'នៅរសៀ', 'ns+2': False, 'kcc[+3]': 'ល', 'kcc[+3]t': 'C', 'kcc[+2:+3]': 'សៀល', 'kcc[+1:+3]': 'រសៀល', 'kcc[0:+3]': 'នៅរសៀល'}]\n",
            "create labels: 14  : ['1', '1', '0', '0', '1', '1', '1', '1', '1', '0', '0', '1', '1', '1']\n",
            "create labels 'test 123': [{'kcc': 'test', 't': 'K4', 'ns': True, 'BOS': True, 'kcc[+1]': '123', 'kcc[+1]t': 'K3', 'kcc[+1:0]': 'test123', 'ns+1': True}, {'kcc': '123', 't': 'K3', 'ns': True, 'kcc[-1]': 'test', 'kcc[-1]t': 'K4', 'kcc[-1:0]': 'test123', 'ns-1': True, 'EOS': True}]\n",
            "create labels 'កខ': [{'kcc': 'ក', 't': 'C', 'ns': False, 'BOS': True, 'kcc[+1]': 'ខ', 'kcc[+1]t': 'C', 'kcc[+1:0]': 'កខ', 'ns+1': False}, {'kcc': 'ខ', 't': 'C', 'ns': False, 'kcc[-1]': 'ក', 'kcc[-1]t': 'C', 'kcc[-1:0]': 'កខ', 'ns-1': False, 'EOS': True}]\n"
          ],
          "name": "stdout"
        }
      ]
    },
    {
      "cell_type": "markdown",
      "metadata": {
        "id": "yeZmmD95ZSxV"
      },
      "source": [
        "### Prepare data with KCC based"
      ]
    },
    {
      "cell_type": "code",
      "metadata": {
        "id": "0c97hlUYc34-",
        "colab": {
          "base_uri": "https://localhost:8080/"
        },
        "outputId": "53e49238-6cb1-426d-9eb2-c21136b10188"
      },
      "source": [
        "# create kccs, feature and labels for training for KCC based\n",
        "kccs_label = []\n",
        "kccs_only = []\n",
        "labels = []\n",
        "i=0\n",
        "for sen in sentences:\n",
        "    kcc_with_label = gen_kcc_with_label(sen)\n",
        "    kccs_label.append(kcc_with_label)\n",
        "    kccs_only.append(seg_kcc(sen))\n",
        "    labels.append(create_labels_from_kccs(kcc_with_label))\n",
        "    i = i+1\n",
        "\n",
        "print(\"len sentences:\", len(sentences))\n",
        "print(\"kccs_label[0]:\", len(kccs_label[0]), \"\\t[0]:\", kccs_label[0][0:20])\n",
        "print(\"labels[0]:\", len(labels[0]), \"\\t\\t[0]:\", labels[0][0:20])\n",
        "print(\"kccs_only[0]:\", len(kccs_only[0]), \"\\t[0]:\", kccs_only[0][0:20])\n"
      ],
      "execution_count": 23,
      "outputs": [
        {
          "output_type": "stream",
          "text": [
            "len sentences: 1000\n",
            "kccs_label[0]: 104 \t[0]: [('ខ', 1), ('ណៈ', 0), ('កា', 1), ('រ', 0), ('ថ', 1), ('យ', 0), ('ចុះ', 1), ('នៅ', 1), ('ក្នុ', 1), ('ង', 0), ('ព', 1), ('ន្ធ', 0), ('ទៅ', 1), ('លើ', 1), ('ផ', 1), ('លិ', 0), ('ត', 0), ('ផ', 1), ('ល', 0), ('ប្រេ', 1)]\n",
            "labels[0]: 104 \t\t[0]: ['1', '0', '1', '0', '1', '0', '1', '1', '1', '0', '1', '0', '1', '1', '1', '0', '0', '1', '0', '1']\n",
            "kccs_only[0]: 104 \t[0]: ['ខ', 'ណៈ', 'កា', 'រ', 'ថ', 'យ', 'ចុះ', 'នៅ', 'ក្នុ', 'ង', 'ព', 'ន្ធ', 'ទៅ', 'លើ', 'ផ', 'លិ', 'ត', 'ផ', 'ល', 'ប្រេ']\n"
          ],
          "name": "stdout"
        }
      ]
    },
    {
      "cell_type": "code",
      "metadata": {
        "id": "Qu7kmcyfvyx3",
        "colab": {
          "base_uri": "https://localhost:8080/"
        },
        "outputId": "a496ac1f-8110-409e-d21a-5ddeb911b2a4"
      },
      "source": [
        "print(kccs_only[860])\n",
        "print(\"<\",repr(sentences[860]))\n",
        "print(\"<\",repr(sentences[860].strip(' ').strip()))"
      ],
      "execution_count": 24,
      "outputs": [
        {
          "output_type": "stream",
          "text": [
            "['អា', 'ណា', 'ព្យា', 'បា', 'ល', 'បា', 'ន', 'ប', 'ញ្ចេ', 'ញ', 'នូ', 'វ', 'ក', 'ង្វ', 'ល់', 'រ', 'ប', 'ស់', 'ពួ', 'ក', 'គេ', 'ទៅ', 'លើ', 'ប', 'ញ្ហា', 'សុ', 'ខ', 'ភា', 'ព', 'នៅ', 'សា', 'លា', 'និ', 'ង', 'ក', 'ន្លែ', 'ង', 'ធ្វើ', 'កា', 'រ', 'រួ', 'ម', 'មា', 'ន', 'ចំ', 'នួ', 'ន', 'ច្រើ', 'ន', 'នៃ', 'ក', 'រ', 'ណី', 'ជំ', 'ងឺ', 'ម', 'ហា', 'រី', 'ក', 'ឈា', 'ម', 'នៅ', 'ក្នុ', 'ង', 'ក្រុ', 'ម', 'សិ', 'ស្ស', 'ហើ', 'យ', 'បា', 'ន', 'ចា', 'ប់', 'ផ្តើ', 'ម', 'កិ', 'ច្ច', 'ស', 'ន្ទ', 'នា', 'មួ', 'យ', 'ដែ', 'ល', 'ពួ', 'ក', 'គេ', 'កំ', 'ពុ', 'ង', 'ធ្វើ', 'កា', 'រ', 'ជា', 'មួ', 'យ', 'អ', 'ស់', 'រ', 'យៈ', 'ពេ', 'ល', 'ជា', 'ច្រើ', 'ន', 'ឆ្នាំ', '។']\n",
            "< 'អាណា ព្យាបាល បាន បញ្ចេញ នូវ កង្វល់ របស់ ពួក គេ ទៅ លើ បញ្ហា សុខ ភាព នៅ សាលា និង កន្លែង ធ្វើ ការ រួម មាន ចំនួន ច្រើន នៃ ករណី ជំងឺ មហារីក ឈាម នៅ ក្នុង ក្រុម សិស្ស ហើយ បាន ចាប់ ផ្តើម កិច្ច សន្ទនា មួយ ដែល ពួក គេ កំពុង ធ្វើ ការ ជាមួយ អស់ រយៈ ពេល ជា ច្រើន ឆ្នាំ ។'\n",
            "< 'អាណា ព្យាបាល បាន បញ្ចេញ នូវ កង្វល់ របស់ ពួក គេ ទៅ លើ បញ្ហា សុខ ភាព នៅ សាលា និង កន្លែង ធ្វើ ការ រួម មាន ចំនួន ច្រើន នៃ ករណី ជំងឺ មហារីក ឈាម នៅ ក្នុង ក្រុម សិស្ស ហើយ បាន ចាប់ ផ្តើម កិច្ច សន្ទនា មួយ ដែល ពួក គេ កំពុង ធ្វើ ការ ជាមួយ អស់ រយៈ ពេល ជា ច្រើន ឆ្នាំ ។'\n"
          ],
          "name": "stdout"
        }
      ]
    },
    {
      "cell_type": "code",
      "metadata": {
        "id": "BQqeIA9yVPYz",
        "colab": {
          "base_uri": "https://localhost:8080/"
        },
        "outputId": "c500d886-2efb-4c6e-f295-3d70f869419c"
      },
      "source": [
        "# check for matching count between label and kcss -- there are cases where some speical character are not remove correctly\n",
        "bad_count = 0\n",
        "for i,kccs in enumerate(kccs_only):\n",
        "  labels_count = len(labels[i])\n",
        "  if len(kccs) != labels_count:\n",
        "    print(\"i\",i, \"entry didn't match. len kccs\", len(kccs), 'len labels', labels_count)\n",
        "    print(kccs)\n",
        "    print(labels[i])\n",
        "    bad_count = bad_count + 1\n",
        "if bad_count == 0: \n",
        "  print(\"No entry means we are good to go.\\nIf there are entries, need to see which characters was not removed correctly.\")\n",
        "else: print(\"total count:\", len(kccs_only), \" bad count:\", bad_count)"
      ],
      "execution_count": 25,
      "outputs": [
        {
          "output_type": "stream",
          "text": [
            "No entry means we are good to go.\n",
            "If there are entries, need to see which characters was not removed correctly.\n"
          ],
          "name": "stdout"
        }
      ]
    },
    {
      "cell_type": "markdown",
      "metadata": {
        "id": "k6fgyuPOBq4u"
      },
      "source": [
        "### Prepare data using character based"
      ]
    },
    {
      "cell_type": "code",
      "metadata": {
        "id": "GG5BMNFBjTso",
        "colab": {
          "base_uri": "https://localhost:8080/"
        },
        "outputId": "3e84e9b8-c705-437a-889a-30640ab89076"
      },
      "source": [
        "# character base segmentation\n",
        "def seg_char(str_sentence):\n",
        "  #str_sentence = str_sentence.replace(u' ','')\n",
        "  segs = []\n",
        "  for phr in str_sentence.split(' '):\n",
        "      #phr_char = phr.replace(' ','')\n",
        "      for c in phr:\n",
        "          segs.append(c)\n",
        "  return segs\n",
        "\n",
        "# generate list of (word, label), not splitting into phrases, just remove spaces\n",
        "def gen_char_with_label(sentence):\n",
        "    sentence = cleanup_str(sentence) # add 200b between space\n",
        "    words = sentence.split(' ')\n",
        "    final_kccs = []\n",
        "    for word in words:\n",
        "        kccs = seg_char(word)\n",
        "        labels = [1 if (i==0 or k==\" \") else 0 for i, k in enumerate(kccs)]\n",
        "        final_kccs.extend(list(zip(kccs,labels)))\n",
        "    return final_kccs\n",
        "\n",
        "# test label\n",
        "ts = \"This is a test\"\n",
        "ts = \"នៅ រសៀល ថ្ងៃ ទី ២២ ខែ កក្កដា ឆ្នាំ ២០១៩ ។\"\n",
        "kccs = seg_char(ts)\n",
        "kl = gen_char_with_label(ts)\n",
        "print(\"len of chars:\", len(kccs), \" data:\", kccs)\n",
        "print(\"chars with label len:\", len(kl), \" data:\", kl)\n"
      ],
      "execution_count": 26,
      "outputs": [
        {
          "output_type": "stream",
          "text": [
            "len of chars: 32  data: ['ន', 'ៅ', 'រ', 'ស', 'ៀ', 'ល', 'ថ', '្', 'ង', 'ៃ', 'ទ', 'ី', '២', '២', 'ខ', 'ែ', 'ក', 'ក', '្', 'ក', 'ដ', 'ា', 'ឆ', '្', 'ន', 'ា', 'ំ', '២', '០', '១', '៩', '។']\n",
            "chars with label len: 32  data: [('ន', 1), ('ៅ', 0), ('រ', 1), ('ស', 0), ('ៀ', 0), ('ល', 0), ('ថ', 1), ('្', 0), ('ង', 0), ('ៃ', 0), ('ទ', 1), ('ី', 0), ('២', 1), ('២', 0), ('ខ', 1), ('ែ', 0), ('ក', 1), ('ក', 0), ('្', 0), ('ក', 0), ('ដ', 0), ('ា', 0), ('ឆ', 1), ('្', 0), ('ន', 0), ('ា', 0), ('ំ', 0), ('២', 1), ('០', 0), ('១', 0), ('៩', 0), ('។', 1)]\n"
          ],
          "name": "stdout"
        }
      ]
    },
    {
      "cell_type": "code",
      "metadata": {
        "id": "OmnkMYdeHY9M",
        "colab": {
          "base_uri": "https://localhost:8080/"
        },
        "outputId": "2d4fbb6e-e8f7-45ef-d34e-11f6ec8ebf7a"
      },
      "source": [
        "# create kccs and its labels for training for char based\n",
        "chars_label = []\n",
        "chars_only = []\n",
        "labels_char = []\n",
        "\n",
        "for sen in sentences:\n",
        "  chars_with_label = gen_char_with_label(sen)\n",
        "  chars_label.append(chars_with_label)\n",
        "  chars_only.append(seg_char(sen))\n",
        "  labels_char.append(create_labels_from_kccs(chars_with_label))\n",
        "print(\"char_label:\", len(chars_label), \"[0]:\", chars_label[0])\n",
        "print(\"labels_char:\", len(labels_char), \"[0]:\", labels_char[0])\n",
        "print(\"char_only:\", len(chars_only), \"[0]:\", chars_only[0])\n",
        "\n",
        "ts = \"នៅ រសៀល ថ្ងៃ ទី ២២ ខែ កក្កដា ឆ្នាំ ២០១៩ ។\"\n",
        "char = seg_char(ts)\n",
        "kl = gen_char_with_label(ts)\n",
        "print(\"\\ntest text len of char:\", len(char), \" data:\", char)\n",
        "print(\"char with label len:\", len(kl), \" data:\", kl)"
      ],
      "execution_count": 27,
      "outputs": [
        {
          "output_type": "stream",
          "text": [
            "char_label: 1000 [0]: [('ខ', 1), ('ណ', 0), ('ៈ', 0), ('ក', 1), ('ា', 0), ('រ', 0), ('ថ', 1), ('យ', 0), ('ច', 1), ('ុ', 0), ('ះ', 0), ('ន', 1), ('ៅ', 0), ('ក', 1), ('្', 0), ('ន', 0), ('ុ', 0), ('ង', 0), ('ព', 1), ('ន', 0), ('្', 0), ('ធ', 0), ('ទ', 1), ('ៅ', 0), ('ល', 1), ('ើ', 0), ('ផ', 1), ('ល', 0), ('ិ', 0), ('ត', 0), ('ផ', 1), ('ល', 0), ('ប', 1), ('្', 0), ('រ', 0), ('េ', 0), ('ង', 0), ('ដ', 1), ('ោ', 0), ('យ', 0), ('ភ', 1), ('ា', 0), ('គ', 0), ('ី', 0), ('ក', 1), ('ណ', 0), ('្', 0), ('ត', 0), ('ា', 0), ('ល', 0), ('ន', 1), ('ិ', 0), ('ង', 0), ('រ', 1), ('ដ', 0), ('្', 0), ('ឋ', 0), ('ា', 0), ('ភ', 0), ('ិ', 0), ('ប', 0), ('ា', 0), ('ល', 0), ('គ', 1), ('ឺ', 0), ('ជ', 1), ('ា', 0), ('ដ', 1), ('ំ', 0), ('ណ', 0), ('ោ', 0), ('ះ', 0), ('ស', 1), ('្', 0), ('រ', 0), ('ា', 0), ('យ', 0), ('ប', 1), ('ណ', 0), ('្', 0), ('ត', 0), ('ោ', 0), ('ះ', 0), ('អ', 1), ('ា', 0), ('ស', 0), ('ន', 0), ('្', 0), ('ន', 0), ('ម', 1), ('ួ', 0), ('យ', 0), ('ដ', 1), ('ំ', 0), ('ណ', 0), ('ោ', 0), ('ះ', 0), ('ស', 1), ('្', 0), ('រ', 0), ('ា', 0), ('យ', 0), ('យ', 1), ('ូ', 0), ('រ', 0), ('អ', 1), ('ង', 0), ('្', 0), ('វ', 0), ('ែ', 0), ('ង', 0), ('គ', 1), ('ឺ', 0), ('ក', 1), ('ា', 0), ('ត', 0), ('់', 0), ('ប', 1), ('ន', 0), ('្', 0), ('ថ', 0), ('យ', 0), ('ក', 1), ('ា', 0), ('រ', 0), ('ប', 1), ('្', 0), ('រ', 0), ('ើ', 0), ('ប', 0), ('្', 0), ('រ', 0), ('ា', 0), ('ស', 0), ('់', 0), ('ន', 1), ('ៃ', 0), ('ផ', 1), ('ល', 0), ('ិ', 0), ('ត', 0), ('ផ', 1), ('ល', 0), ('ប', 1), ('្', 0), ('រ', 0), ('េ', 0), ('ង', 0), ('ន', 1), ('ិ', 0), ('ង', 0), ('ល', 1), ('ើ', 0), ('ក', 0), ('ក', 1), ('ម', 0), ('្', 0), ('ព', 0), ('ស', 0), ('់', 0), ('ក', 1), ('ា', 0), ('រ', 0), ('ស', 1), ('្', 0), ('រ', 0), ('ា', 0), ('វ', 0), ('ជ', 0), ('្', 0), ('រ', 0), ('ា', 0), ('វ', 0), ('ទ', 1), ('ៅ', 0), ('ល', 1), ('ើ', 0), ('ផ', 1), ('ល', 0), ('ិ', 0), ('ត', 0), ('ផ', 1), ('ល', 0), ('ជ', 1), ('ំ', 0), ('ន', 0), ('ួ', 0), ('ស', 0), ('រ', 1), ('ប', 0), ('ស', 0), ('់', 0), ('វ', 1), ('ា', 0), ('។', 1)]\n",
            "labels_char: 1000 [0]: ['1', '0', '0', '1', '0', '0', '1', '0', '1', '0', '0', '1', '0', '1', '0', '0', '0', '0', '1', '0', '0', '0', '1', '0', '1', '0', '1', '0', '0', '0', '1', '0', '1', '0', '0', '0', '0', '1', '0', '0', '1', '0', '0', '0', '1', '0', '0', '0', '0', '0', '1', '0', '0', '1', '0', '0', '0', '0', '0', '0', '0', '0', '0', '1', '0', '1', '0', '1', '0', '0', '0', '0', '1', '0', '0', '0', '0', '1', '0', '0', '0', '0', '0', '1', '0', '0', '0', '0', '0', '1', '0', '0', '1', '0', '0', '0', '0', '1', '0', '0', '0', '0', '1', '0', '0', '1', '0', '0', '0', '0', '0', '1', '0', '1', '0', '0', '0', '1', '0', '0', '0', '0', '1', '0', '0', '1', '0', '0', '0', '0', '0', '0', '0', '0', '0', '1', '0', '1', '0', '0', '0', '1', '0', '1', '0', '0', '0', '0', '1', '0', '0', '1', '0', '0', '1', '0', '0', '0', '0', '0', '1', '0', '0', '1', '0', '0', '0', '0', '0', '0', '0', '0', '0', '1', '0', '1', '0', '1', '0', '0', '0', '1', '0', '1', '0', '0', '0', '0', '1', '0', '0', '0', '1', '0', '1']\n",
            "char_only: 1000 [0]: ['ខ', 'ណ', 'ៈ', 'ក', 'ា', 'រ', 'ថ', 'យ', 'ច', 'ុ', 'ះ', 'ន', 'ៅ', 'ក', '្', 'ន', 'ុ', 'ង', 'ព', 'ន', '្', 'ធ', 'ទ', 'ៅ', 'ល', 'ើ', 'ផ', 'ល', 'ិ', 'ត', 'ផ', 'ល', 'ប', '្', 'រ', 'េ', 'ង', 'ដ', 'ោ', 'យ', 'ភ', 'ា', 'គ', 'ី', 'ក', 'ណ', '្', 'ត', 'ា', 'ល', 'ន', 'ិ', 'ង', 'រ', 'ដ', '្', 'ឋ', 'ា', 'ភ', 'ិ', 'ប', 'ា', 'ល', 'គ', 'ឺ', 'ជ', 'ា', 'ដ', 'ំ', 'ណ', 'ោ', 'ះ', 'ស', '្', 'រ', 'ា', 'យ', 'ប', 'ណ', '្', 'ត', 'ោ', 'ះ', 'អ', 'ា', 'ស', 'ន', '្', 'ន', 'ម', 'ួ', 'យ', 'ដ', 'ំ', 'ណ', 'ោ', 'ះ', 'ស', '្', 'រ', 'ា', 'យ', 'យ', 'ូ', 'រ', 'អ', 'ង', '្', 'វ', 'ែ', 'ង', 'គ', 'ឺ', 'ក', 'ា', 'ត', '់', 'ប', 'ន', '្', 'ថ', 'យ', 'ក', 'ា', 'រ', 'ប', '្', 'រ', 'ើ', 'ប', '្', 'រ', 'ា', 'ស', '់', 'ន', 'ៃ', 'ផ', 'ល', 'ិ', 'ត', 'ផ', 'ល', 'ប', '្', 'រ', 'េ', 'ង', 'ន', 'ិ', 'ង', 'ល', 'ើ', 'ក', 'ក', 'ម', '្', 'ព', 'ស', '់', 'ក', 'ា', 'រ', 'ស', '្', 'រ', 'ា', 'វ', 'ជ', '្', 'រ', 'ា', 'វ', 'ទ', 'ៅ', 'ល', 'ើ', 'ផ', 'ល', 'ិ', 'ត', 'ផ', 'ល', 'ជ', 'ំ', 'ន', 'ួ', 'ស', 'រ', 'ប', 'ស', '់', 'វ', 'ា', '។']\n",
            "\n",
            "test text len of char: 32  data: ['ន', 'ៅ', 'រ', 'ស', 'ៀ', 'ល', 'ថ', '្', 'ង', 'ៃ', 'ទ', 'ី', '២', '២', 'ខ', 'ែ', 'ក', 'ក', '្', 'ក', 'ដ', 'ា', 'ឆ', '្', 'ន', 'ា', 'ំ', '២', '០', '១', '៩', '។']\n",
            "char with label len: 32  data: [('ន', 1), ('ៅ', 0), ('រ', 1), ('ស', 0), ('ៀ', 0), ('ល', 0), ('ថ', 1), ('្', 0), ('ង', 0), ('ៃ', 0), ('ទ', 1), ('ី', 0), ('២', 1), ('២', 0), ('ខ', 1), ('ែ', 0), ('ក', 1), ('ក', 0), ('្', 0), ('ក', 0), ('ដ', 0), ('ា', 0), ('ឆ', 1), ('្', 0), ('ន', 0), ('ា', 0), ('ំ', 0), ('២', 1), ('០', 0), ('១', 0), ('៩', 0), ('។', 1)]\n"
          ],
          "name": "stdout"
        }
      ]
    },
    {
      "cell_type": "code",
      "metadata": {
        "id": "o_uFAr1wBwb_",
        "colab": {
          "base_uri": "https://localhost:8080/"
        },
        "outputId": "d7765283-185d-4d66-8e2b-8b8ad165774f"
      },
      "source": [
        "# use list of character based chars_only to create feature\n",
        "X_char = [create_kcc_features(kcc_line) for kcc_line in chars_only]\n",
        "y_char = labels_char\n",
        "print(\"X\",len(X_char), \"X[0]\", X_char[0])\n",
        "print(\"y\",len(y_char), \"y[0]\", y_char[0])\n",
        "\n",
        "\n",
        "from sklearn.model_selection import train_test_split\n",
        "X_train_char, X_test_char, y_train_char, y_test_char = train_test_split(X_char, y_char, test_size=0.20, random_state=1)\n",
        "print(\"len X_train_char:\", len(X_train_char), \" data:\", X_train_char[0])\n",
        "print(\"len y_train_char:\", len(y_train_char), \" data:\", y_train_char[0])\n",
        "print(\"len X_test_char:\", len(X_test_char), \" data:\", X_test_char[0])\n",
        "print(\"len y_test_char:\", len(y_test_char), \" data:\", y_test_char[0])\n",
        "# used 19GB/25 for 5K docs"
      ],
      "execution_count": 28,
      "outputs": [
        {
          "output_type": "stream",
          "text": [
            "X 1000 X[0] [{'kcc': 'ខ', 't': 'C', 'ns': False, 'BOS': True, 'kcc[+1]': 'ណ', 'kcc[+1]t': 'C', 'kcc[+1:0]': 'ខណ', 'ns+1': False, 'kcc[+2]': 'ៈ', 'kcc[+2]t': 'W', 'kcc[+1:+2]': 'ណៈ', 'kcc[0:+2]': 'ខណៈ', 'ns+2': False, 'kcc[+3]': 'ក', 'kcc[+3]t': 'C', 'kcc[+2:+3]': 'ៈក', 'kcc[+1:+3]': 'ណៈក', 'kcc[0:+3]': 'ខណៈក'}, {'kcc': 'ណ', 't': 'C', 'ns': False, 'kcc[-1]': 'ខ', 'kcc[-1]t': 'C', 'kcc[-1:0]': 'ខណ', 'ns-1': False, 'kcc[+1]': 'ៈ', 'kcc[+1]t': 'W', 'kcc[+1:0]': 'ណៈ', 'ns+1': False, 'kcc[+2]': 'ក', 'kcc[+2]t': 'C', 'kcc[+1:+2]': 'ៈក', 'kcc[0:+2]': 'ណៈក', 'ns+2': False, 'kcc[+3]': 'ា', 'kcc[+3]t': 'W', 'kcc[+2:+3]': 'កា', 'kcc[+1:+3]': 'ៈកា', 'kcc[0:+3]': 'ណៈកា'}, {'kcc': 'ៈ', 't': 'W', 'ns': False, 'kcc[-1]': 'ណ', 'kcc[-1]t': 'C', 'kcc[-1:0]': 'ណៈ', 'ns-1': False, 'kcc[-2]': 'ខ', 'kcc[-2]t': 'C', 'kcc[-2:-1]': 'ខណ', 'kcc[-2:0]': 'ខណៈ', 'kcc[+1]': 'ក', 'kcc[+1]t': 'C', 'kcc[+1:0]': 'ៈក', 'ns+1': False, 'kcc[+2]': 'ា', 'kcc[+2]t': 'W', 'kcc[+1:+2]': 'កា', 'kcc[0:+2]': 'ៈកា', 'ns+2': False, 'kcc[+3]': 'រ', 'kcc[+3]t': 'C', 'kcc[+2:+3]': 'ារ', 'kcc[+1:+3]': 'ការ', 'kcc[0:+3]': 'ៈការ'}, {'kcc': 'ក', 't': 'C', 'ns': False, 'kcc[-1]': 'ៈ', 'kcc[-1]t': 'W', 'kcc[-1:0]': 'ៈក', 'ns-1': False, 'kcc[-2]': 'ណ', 'kcc[-2]t': 'C', 'kcc[-2:-1]': 'ណៈ', 'kcc[-2:0]': 'ណៈក', 'kcc[-3]': 'ខ', 'kcc[-3]t': 'C', 'kcc[-3:0]': 'ខណៈក', 'kcc[-3:-1]': 'ខណៈ', 'kcc[-3:-2]': 'ខណ', 'kcc[+1]': 'ា', 'kcc[+1]t': 'W', 'kcc[+1:0]': 'កា', 'ns+1': False, 'kcc[+2]': 'រ', 'kcc[+2]t': 'C', 'kcc[+1:+2]': 'ារ', 'kcc[0:+2]': 'ការ', 'ns+2': False, 'kcc[+3]': 'ថ', 'kcc[+3]t': 'C', 'kcc[+2:+3]': 'រថ', 'kcc[+1:+3]': 'ារថ', 'kcc[0:+3]': 'ការថ'}, {'kcc': 'ា', 't': 'W', 'ns': False, 'kcc[-1]': 'ក', 'kcc[-1]t': 'C', 'kcc[-1:0]': 'កា', 'ns-1': False, 'kcc[-2]': 'ៈ', 'kcc[-2]t': 'W', 'kcc[-2:-1]': 'ៈក', 'kcc[-2:0]': 'ៈកា', 'kcc[-3]': 'ណ', 'kcc[-3]t': 'C', 'kcc[-3:0]': 'ណៈកា', 'kcc[-3:-1]': 'ណៈក', 'kcc[-3:-2]': 'ណៈ', 'kcc[+1]': 'រ', 'kcc[+1]t': 'C', 'kcc[+1:0]': 'ារ', 'ns+1': False, 'kcc[+2]': 'ថ', 'kcc[+2]t': 'C', 'kcc[+1:+2]': 'រថ', 'kcc[0:+2]': 'ារថ', 'ns+2': False, 'kcc[+3]': 'យ', 'kcc[+3]t': 'C', 'kcc[+2:+3]': 'ថយ', 'kcc[+1:+3]': 'រថយ', 'kcc[0:+3]': 'ារថយ'}, {'kcc': 'រ', 't': 'C', 'ns': False, 'kcc[-1]': 'ា', 'kcc[-1]t': 'W', 'kcc[-1:0]': 'ារ', 'ns-1': False, 'kcc[-2]': 'ក', 'kcc[-2]t': 'C', 'kcc[-2:-1]': 'កា', 'kcc[-2:0]': 'ការ', 'kcc[-3]': 'ៈ', 'kcc[-3]t': 'W', 'kcc[-3:0]': 'ៈការ', 'kcc[-3:-1]': 'ៈកា', 'kcc[-3:-2]': 'ៈក', 'kcc[+1]': 'ថ', 'kcc[+1]t': 'C', 'kcc[+1:0]': 'រថ', 'ns+1': False, 'kcc[+2]': 'យ', 'kcc[+2]t': 'C', 'kcc[+1:+2]': 'ថយ', 'kcc[0:+2]': 'រថយ', 'ns+2': False, 'kcc[+3]': 'ច', 'kcc[+3]t': 'C', 'kcc[+2:+3]': 'យច', 'kcc[+1:+3]': 'ថយច', 'kcc[0:+3]': 'រថយច'}, {'kcc': 'ថ', 't': 'C', 'ns': False, 'kcc[-1]': 'រ', 'kcc[-1]t': 'C', 'kcc[-1:0]': 'រថ', 'ns-1': False, 'kcc[-2]': 'ា', 'kcc[-2]t': 'W', 'kcc[-2:-1]': 'ារ', 'kcc[-2:0]': 'ារថ', 'kcc[-3]': 'ក', 'kcc[-3]t': 'C', 'kcc[-3:0]': 'ការថ', 'kcc[-3:-1]': 'ការ', 'kcc[-3:-2]': 'កា', 'kcc[+1]': 'យ', 'kcc[+1]t': 'C', 'kcc[+1:0]': 'ថយ', 'ns+1': False, 'kcc[+2]': 'ច', 'kcc[+2]t': 'C', 'kcc[+1:+2]': 'យច', 'kcc[0:+2]': 'ថយច', 'ns+2': False, 'kcc[+3]': 'ុ', 'kcc[+3]t': 'W', 'kcc[+2:+3]': 'ចុ', 'kcc[+1:+3]': 'យចុ', 'kcc[0:+3]': 'ថយចុ'}, {'kcc': 'យ', 't': 'C', 'ns': False, 'kcc[-1]': 'ថ', 'kcc[-1]t': 'C', 'kcc[-1:0]': 'ថយ', 'ns-1': False, 'kcc[-2]': 'រ', 'kcc[-2]t': 'C', 'kcc[-2:-1]': 'រថ', 'kcc[-2:0]': 'រថយ', 'kcc[-3]': 'ា', 'kcc[-3]t': 'W', 'kcc[-3:0]': 'ារថយ', 'kcc[-3:-1]': 'ារថ', 'kcc[-3:-2]': 'ារ', 'kcc[+1]': 'ច', 'kcc[+1]t': 'C', 'kcc[+1:0]': 'យច', 'ns+1': False, 'kcc[+2]': 'ុ', 'kcc[+2]t': 'W', 'kcc[+1:+2]': 'ចុ', 'kcc[0:+2]': 'យចុ', 'ns+2': False, 'kcc[+3]': 'ះ', 'kcc[+3]t': 'W', 'kcc[+2:+3]': 'ុះ', 'kcc[+1:+3]': 'ចុះ', 'kcc[0:+3]': 'យចុះ'}, {'kcc': 'ច', 't': 'C', 'ns': False, 'kcc[-1]': 'យ', 'kcc[-1]t': 'C', 'kcc[-1:0]': 'យច', 'ns-1': False, 'kcc[-2]': 'ថ', 'kcc[-2]t': 'C', 'kcc[-2:-1]': 'ថយ', 'kcc[-2:0]': 'ថយច', 'kcc[-3]': 'រ', 'kcc[-3]t': 'C', 'kcc[-3:0]': 'រថយច', 'kcc[-3:-1]': 'រថយ', 'kcc[-3:-2]': 'រថ', 'kcc[+1]': 'ុ', 'kcc[+1]t': 'W', 'kcc[+1:0]': 'ចុ', 'ns+1': False, 'kcc[+2]': 'ះ', 'kcc[+2]t': 'W', 'kcc[+1:+2]': 'ុះ', 'kcc[0:+2]': 'ចុះ', 'ns+2': False, 'kcc[+3]': 'ន', 'kcc[+3]t': 'C', 'kcc[+2:+3]': 'ះន', 'kcc[+1:+3]': 'ុះន', 'kcc[0:+3]': 'ចុះន'}, {'kcc': 'ុ', 't': 'W', 'ns': False, 'kcc[-1]': 'ច', 'kcc[-1]t': 'C', 'kcc[-1:0]': 'ចុ', 'ns-1': False, 'kcc[-2]': 'យ', 'kcc[-2]t': 'C', 'kcc[-2:-1]': 'យច', 'kcc[-2:0]': 'យចុ', 'kcc[-3]': 'ថ', 'kcc[-3]t': 'C', 'kcc[-3:0]': 'ថយចុ', 'kcc[-3:-1]': 'ថយច', 'kcc[-3:-2]': 'ថយ', 'kcc[+1]': 'ះ', 'kcc[+1]t': 'W', 'kcc[+1:0]': 'ុះ', 'ns+1': False, 'kcc[+2]': 'ន', 'kcc[+2]t': 'C', 'kcc[+1:+2]': 'ះន', 'kcc[0:+2]': 'ុះន', 'ns+2': False, 'kcc[+3]': 'ៅ', 'kcc[+3]t': 'W', 'kcc[+2:+3]': 'នៅ', 'kcc[+1:+3]': 'ះនៅ', 'kcc[0:+3]': 'ុះនៅ'}, {'kcc': 'ះ', 't': 'W', 'ns': False, 'kcc[-1]': 'ុ', 'kcc[-1]t': 'W', 'kcc[-1:0]': 'ុះ', 'ns-1': False, 'kcc[-2]': 'ច', 'kcc[-2]t': 'C', 'kcc[-2:-1]': 'ចុ', 'kcc[-2:0]': 'ចុះ', 'kcc[-3]': 'យ', 'kcc[-3]t': 'C', 'kcc[-3:0]': 'យចុះ', 'kcc[-3:-1]': 'យចុ', 'kcc[-3:-2]': 'យច', 'kcc[+1]': 'ន', 'kcc[+1]t': 'C', 'kcc[+1:0]': 'ះន', 'ns+1': False, 'kcc[+2]': 'ៅ', 'kcc[+2]t': 'W', 'kcc[+1:+2]': 'នៅ', 'kcc[0:+2]': 'ះនៅ', 'ns+2': False, 'kcc[+3]': 'ក', 'kcc[+3]t': 'C', 'kcc[+2:+3]': 'ៅក', 'kcc[+1:+3]': 'នៅក', 'kcc[0:+3]': 'ះនៅក'}, {'kcc': 'ន', 't': 'C', 'ns': False, 'kcc[-1]': 'ះ', 'kcc[-1]t': 'W', 'kcc[-1:0]': 'ះន', 'ns-1': False, 'kcc[-2]': 'ុ', 'kcc[-2]t': 'W', 'kcc[-2:-1]': 'ុះ', 'kcc[-2:0]': 'ុះន', 'kcc[-3]': 'ច', 'kcc[-3]t': 'C', 'kcc[-3:0]': 'ចុះន', 'kcc[-3:-1]': 'ចុះ', 'kcc[-3:-2]': 'ចុ', 'kcc[+1]': 'ៅ', 'kcc[+1]t': 'W', 'kcc[+1:0]': 'នៅ', 'ns+1': False, 'kcc[+2]': 'ក', 'kcc[+2]t': 'C', 'kcc[+1:+2]': 'ៅក', 'kcc[0:+2]': 'នៅក', 'ns+2': False, 'kcc[+3]': '្', 'kcc[+3]t': 'S', 'kcc[+2:+3]': 'ក្', 'kcc[+1:+3]': 'ៅក្', 'kcc[0:+3]': 'នៅក្'}, {'kcc': 'ៅ', 't': 'W', 'ns': False, 'kcc[-1]': 'ន', 'kcc[-1]t': 'C', 'kcc[-1:0]': 'នៅ', 'ns-1': False, 'kcc[-2]': 'ះ', 'kcc[-2]t': 'W', 'kcc[-2:-1]': 'ះន', 'kcc[-2:0]': 'ះនៅ', 'kcc[-3]': 'ុ', 'kcc[-3]t': 'W', 'kcc[-3:0]': 'ុះនៅ', 'kcc[-3:-1]': 'ុះន', 'kcc[-3:-2]': 'ុះ', 'kcc[+1]': 'ក', 'kcc[+1]t': 'C', 'kcc[+1:0]': 'ៅក', 'ns+1': False, 'kcc[+2]': '្', 'kcc[+2]t': 'S', 'kcc[+1:+2]': 'ក្', 'kcc[0:+2]': 'ៅក្', 'ns+2': False, 'kcc[+3]': 'ន', 'kcc[+3]t': 'C', 'kcc[+2:+3]': '្ន', 'kcc[+1:+3]': 'ក្ន', 'kcc[0:+3]': 'ៅក្ន'}, {'kcc': 'ក', 't': 'C', 'ns': False, 'kcc[-1]': 'ៅ', 'kcc[-1]t': 'W', 'kcc[-1:0]': 'ៅក', 'ns-1': False, 'kcc[-2]': 'ន', 'kcc[-2]t': 'C', 'kcc[-2:-1]': 'នៅ', 'kcc[-2:0]': 'នៅក', 'kcc[-3]': 'ះ', 'kcc[-3]t': 'W', 'kcc[-3:0]': 'ះនៅក', 'kcc[-3:-1]': 'ះនៅ', 'kcc[-3:-2]': 'ះន', 'kcc[+1]': '្', 'kcc[+1]t': 'S', 'kcc[+1:0]': 'ក្', 'ns+1': False, 'kcc[+2]': 'ន', 'kcc[+2]t': 'C', 'kcc[+1:+2]': '្ន', 'kcc[0:+2]': 'ក្ន', 'ns+2': False, 'kcc[+3]': 'ុ', 'kcc[+3]t': 'W', 'kcc[+2:+3]': 'នុ', 'kcc[+1:+3]': '្នុ', 'kcc[0:+3]': 'ក្នុ'}, {'kcc': '្', 't': 'S', 'ns': False, 'kcc[-1]': 'ក', 'kcc[-1]t': 'C', 'kcc[-1:0]': 'ក្', 'ns-1': False, 'kcc[-2]': 'ៅ', 'kcc[-2]t': 'W', 'kcc[-2:-1]': 'ៅក', 'kcc[-2:0]': 'ៅក្', 'kcc[-3]': 'ន', 'kcc[-3]t': 'C', 'kcc[-3:0]': 'នៅក្', 'kcc[-3:-1]': 'នៅក', 'kcc[-3:-2]': 'នៅ', 'kcc[+1]': 'ន', 'kcc[+1]t': 'C', 'kcc[+1:0]': '្ន', 'ns+1': False, 'kcc[+2]': 'ុ', 'kcc[+2]t': 'W', 'kcc[+1:+2]': 'នុ', 'kcc[0:+2]': '្នុ', 'ns+2': False, 'kcc[+3]': 'ង', 'kcc[+3]t': 'C', 'kcc[+2:+3]': 'ុង', 'kcc[+1:+3]': 'នុង', 'kcc[0:+3]': '្នុង'}, {'kcc': 'ន', 't': 'C', 'ns': False, 'kcc[-1]': '្', 'kcc[-1]t': 'S', 'kcc[-1:0]': '្ន', 'ns-1': False, 'kcc[-2]': 'ក', 'kcc[-2]t': 'C', 'kcc[-2:-1]': 'ក្', 'kcc[-2:0]': 'ក្ន', 'kcc[-3]': 'ៅ', 'kcc[-3]t': 'W', 'kcc[-3:0]': 'ៅក្ន', 'kcc[-3:-1]': 'ៅក្', 'kcc[-3:-2]': 'ៅក', 'kcc[+1]': 'ុ', 'kcc[+1]t': 'W', 'kcc[+1:0]': 'នុ', 'ns+1': False, 'kcc[+2]': 'ង', 'kcc[+2]t': 'C', 'kcc[+1:+2]': 'ុង', 'kcc[0:+2]': 'នុង', 'ns+2': False, 'kcc[+3]': 'ព', 'kcc[+3]t': 'C', 'kcc[+2:+3]': 'ងព', 'kcc[+1:+3]': 'ុងព', 'kcc[0:+3]': 'នុងព'}, {'kcc': 'ុ', 't': 'W', 'ns': False, 'kcc[-1]': 'ន', 'kcc[-1]t': 'C', 'kcc[-1:0]': 'នុ', 'ns-1': False, 'kcc[-2]': '្', 'kcc[-2]t': 'S', 'kcc[-2:-1]': '្ន', 'kcc[-2:0]': '្នុ', 'kcc[-3]': 'ក', 'kcc[-3]t': 'C', 'kcc[-3:0]': 'ក្នុ', 'kcc[-3:-1]': 'ក្ន', 'kcc[-3:-2]': 'ក្', 'kcc[+1]': 'ង', 'kcc[+1]t': 'C', 'kcc[+1:0]': 'ុង', 'ns+1': False, 'kcc[+2]': 'ព', 'kcc[+2]t': 'C', 'kcc[+1:+2]': 'ងព', 'kcc[0:+2]': 'ុងព', 'ns+2': False, 'kcc[+3]': 'ន', 'kcc[+3]t': 'C', 'kcc[+2:+3]': 'ពន', 'kcc[+1:+3]': 'ងពន', 'kcc[0:+3]': 'ុងពន'}, {'kcc': 'ង', 't': 'C', 'ns': False, 'kcc[-1]': 'ុ', 'kcc[-1]t': 'W', 'kcc[-1:0]': 'ុង', 'ns-1': False, 'kcc[-2]': 'ន', 'kcc[-2]t': 'C', 'kcc[-2:-1]': 'នុ', 'kcc[-2:0]': 'នុង', 'kcc[-3]': '្', 'kcc[-3]t': 'S', 'kcc[-3:0]': '្នុង', 'kcc[-3:-1]': '្នុ', 'kcc[-3:-2]': '្ន', 'kcc[+1]': 'ព', 'kcc[+1]t': 'C', 'kcc[+1:0]': 'ងព', 'ns+1': False, 'kcc[+2]': 'ន', 'kcc[+2]t': 'C', 'kcc[+1:+2]': 'ពន', 'kcc[0:+2]': 'ងពន', 'ns+2': False, 'kcc[+3]': '្', 'kcc[+3]t': 'S', 'kcc[+2:+3]': 'ន្', 'kcc[+1:+3]': 'ពន្', 'kcc[0:+3]': 'ងពន្'}, {'kcc': 'ព', 't': 'C', 'ns': False, 'kcc[-1]': 'ង', 'kcc[-1]t': 'C', 'kcc[-1:0]': 'ងព', 'ns-1': False, 'kcc[-2]': 'ុ', 'kcc[-2]t': 'W', 'kcc[-2:-1]': 'ុង', 'kcc[-2:0]': 'ុងព', 'kcc[-3]': 'ន', 'kcc[-3]t': 'C', 'kcc[-3:0]': 'នុងព', 'kcc[-3:-1]': 'នុង', 'kcc[-3:-2]': 'នុ', 'kcc[+1]': 'ន', 'kcc[+1]t': 'C', 'kcc[+1:0]': 'ពន', 'ns+1': False, 'kcc[+2]': '្', 'kcc[+2]t': 'S', 'kcc[+1:+2]': 'ន្', 'kcc[0:+2]': 'ពន្', 'ns+2': False, 'kcc[+3]': 'ធ', 'kcc[+3]t': 'C', 'kcc[+2:+3]': '្ធ', 'kcc[+1:+3]': 'ន្ធ', 'kcc[0:+3]': 'ពន្ធ'}, {'kcc': 'ន', 't': 'C', 'ns': False, 'kcc[-1]': 'ព', 'kcc[-1]t': 'C', 'kcc[-1:0]': 'ពន', 'ns-1': False, 'kcc[-2]': 'ង', 'kcc[-2]t': 'C', 'kcc[-2:-1]': 'ងព', 'kcc[-2:0]': 'ងពន', 'kcc[-3]': 'ុ', 'kcc[-3]t': 'W', 'kcc[-3:0]': 'ុងពន', 'kcc[-3:-1]': 'ុងព', 'kcc[-3:-2]': 'ុង', 'kcc[+1]': '្', 'kcc[+1]t': 'S', 'kcc[+1:0]': 'ន្', 'ns+1': False, 'kcc[+2]': 'ធ', 'kcc[+2]t': 'C', 'kcc[+1:+2]': '្ធ', 'kcc[0:+2]': 'ន្ធ', 'ns+2': False, 'kcc[+3]': 'ទ', 'kcc[+3]t': 'C', 'kcc[+2:+3]': 'ធទ', 'kcc[+1:+3]': '្ធទ', 'kcc[0:+3]': 'ន្ធទ'}, {'kcc': '្', 't': 'S', 'ns': False, 'kcc[-1]': 'ន', 'kcc[-1]t': 'C', 'kcc[-1:0]': 'ន្', 'ns-1': False, 'kcc[-2]': 'ព', 'kcc[-2]t': 'C', 'kcc[-2:-1]': 'ពន', 'kcc[-2:0]': 'ពន្', 'kcc[-3]': 'ង', 'kcc[-3]t': 'C', 'kcc[-3:0]': 'ងពន្', 'kcc[-3:-1]': 'ងពន', 'kcc[-3:-2]': 'ងព', 'kcc[+1]': 'ធ', 'kcc[+1]t': 'C', 'kcc[+1:0]': '្ធ', 'ns+1': False, 'kcc[+2]': 'ទ', 'kcc[+2]t': 'C', 'kcc[+1:+2]': 'ធទ', 'kcc[0:+2]': '្ធទ', 'ns+2': False, 'kcc[+3]': 'ៅ', 'kcc[+3]t': 'W', 'kcc[+2:+3]': 'ទៅ', 'kcc[+1:+3]': 'ធទៅ', 'kcc[0:+3]': '្ធទៅ'}, {'kcc': 'ធ', 't': 'C', 'ns': False, 'kcc[-1]': '្', 'kcc[-1]t': 'S', 'kcc[-1:0]': '្ធ', 'ns-1': False, 'kcc[-2]': 'ន', 'kcc[-2]t': 'C', 'kcc[-2:-1]': 'ន្', 'kcc[-2:0]': 'ន្ធ', 'kcc[-3]': 'ព', 'kcc[-3]t': 'C', 'kcc[-3:0]': 'ពន្ធ', 'kcc[-3:-1]': 'ពន្', 'kcc[-3:-2]': 'ពន', 'kcc[+1]': 'ទ', 'kcc[+1]t': 'C', 'kcc[+1:0]': 'ធទ', 'ns+1': False, 'kcc[+2]': 'ៅ', 'kcc[+2]t': 'W', 'kcc[+1:+2]': 'ទៅ', 'kcc[0:+2]': 'ធទៅ', 'ns+2': False, 'kcc[+3]': 'ល', 'kcc[+3]t': 'C', 'kcc[+2:+3]': 'ៅល', 'kcc[+1:+3]': 'ទៅល', 'kcc[0:+3]': 'ធទៅល'}, {'kcc': 'ទ', 't': 'C', 'ns': False, 'kcc[-1]': 'ធ', 'kcc[-1]t': 'C', 'kcc[-1:0]': 'ធទ', 'ns-1': False, 'kcc[-2]': '្', 'kcc[-2]t': 'S', 'kcc[-2:-1]': '្ធ', 'kcc[-2:0]': '្ធទ', 'kcc[-3]': 'ន', 'kcc[-3]t': 'C', 'kcc[-3:0]': 'ន្ធទ', 'kcc[-3:-1]': 'ន្ធ', 'kcc[-3:-2]': 'ន្', 'kcc[+1]': 'ៅ', 'kcc[+1]t': 'W', 'kcc[+1:0]': 'ទៅ', 'ns+1': False, 'kcc[+2]': 'ល', 'kcc[+2]t': 'C', 'kcc[+1:+2]': 'ៅល', 'kcc[0:+2]': 'ទៅល', 'ns+2': False, 'kcc[+3]': 'ើ', 'kcc[+3]t': 'W', 'kcc[+2:+3]': 'លើ', 'kcc[+1:+3]': 'ៅលើ', 'kcc[0:+3]': 'ទៅលើ'}, {'kcc': 'ៅ', 't': 'W', 'ns': False, 'kcc[-1]': 'ទ', 'kcc[-1]t': 'C', 'kcc[-1:0]': 'ទៅ', 'ns-1': False, 'kcc[-2]': 'ធ', 'kcc[-2]t': 'C', 'kcc[-2:-1]': 'ធទ', 'kcc[-2:0]': 'ធទៅ', 'kcc[-3]': '្', 'kcc[-3]t': 'S', 'kcc[-3:0]': '្ធទៅ', 'kcc[-3:-1]': '្ធទ', 'kcc[-3:-2]': '្ធ', 'kcc[+1]': 'ល', 'kcc[+1]t': 'C', 'kcc[+1:0]': 'ៅល', 'ns+1': False, 'kcc[+2]': 'ើ', 'kcc[+2]t': 'W', 'kcc[+1:+2]': 'លើ', 'kcc[0:+2]': 'ៅលើ', 'ns+2': False, 'kcc[+3]': 'ផ', 'kcc[+3]t': 'C', 'kcc[+2:+3]': 'ើផ', 'kcc[+1:+3]': 'លើផ', 'kcc[0:+3]': 'ៅលើផ'}, {'kcc': 'ល', 't': 'C', 'ns': False, 'kcc[-1]': 'ៅ', 'kcc[-1]t': 'W', 'kcc[-1:0]': 'ៅល', 'ns-1': False, 'kcc[-2]': 'ទ', 'kcc[-2]t': 'C', 'kcc[-2:-1]': 'ទៅ', 'kcc[-2:0]': 'ទៅល', 'kcc[-3]': 'ធ', 'kcc[-3]t': 'C', 'kcc[-3:0]': 'ធទៅល', 'kcc[-3:-1]': 'ធទៅ', 'kcc[-3:-2]': 'ធទ', 'kcc[+1]': 'ើ', 'kcc[+1]t': 'W', 'kcc[+1:0]': 'លើ', 'ns+1': False, 'kcc[+2]': 'ផ', 'kcc[+2]t': 'C', 'kcc[+1:+2]': 'ើផ', 'kcc[0:+2]': 'លើផ', 'ns+2': False, 'kcc[+3]': 'ល', 'kcc[+3]t': 'C', 'kcc[+2:+3]': 'ផល', 'kcc[+1:+3]': 'ើផល', 'kcc[0:+3]': 'លើផល'}, {'kcc': 'ើ', 't': 'W', 'ns': False, 'kcc[-1]': 'ល', 'kcc[-1]t': 'C', 'kcc[-1:0]': 'លើ', 'ns-1': False, 'kcc[-2]': 'ៅ', 'kcc[-2]t': 'W', 'kcc[-2:-1]': 'ៅល', 'kcc[-2:0]': 'ៅលើ', 'kcc[-3]': 'ទ', 'kcc[-3]t': 'C', 'kcc[-3:0]': 'ទៅលើ', 'kcc[-3:-1]': 'ទៅល', 'kcc[-3:-2]': 'ទៅ', 'kcc[+1]': 'ផ', 'kcc[+1]t': 'C', 'kcc[+1:0]': 'ើផ', 'ns+1': False, 'kcc[+2]': 'ល', 'kcc[+2]t': 'C', 'kcc[+1:+2]': 'ផល', 'kcc[0:+2]': 'ើផល', 'ns+2': False, 'kcc[+3]': 'ិ', 'kcc[+3]t': 'W', 'kcc[+2:+3]': 'លិ', 'kcc[+1:+3]': 'ផលិ', 'kcc[0:+3]': 'ើផលិ'}, {'kcc': 'ផ', 't': 'C', 'ns': False, 'kcc[-1]': 'ើ', 'kcc[-1]t': 'W', 'kcc[-1:0]': 'ើផ', 'ns-1': False, 'kcc[-2]': 'ល', 'kcc[-2]t': 'C', 'kcc[-2:-1]': 'លើ', 'kcc[-2:0]': 'លើផ', 'kcc[-3]': 'ៅ', 'kcc[-3]t': 'W', 'kcc[-3:0]': 'ៅលើផ', 'kcc[-3:-1]': 'ៅលើ', 'kcc[-3:-2]': 'ៅល', 'kcc[+1]': 'ល', 'kcc[+1]t': 'C', 'kcc[+1:0]': 'ផល', 'ns+1': False, 'kcc[+2]': 'ិ', 'kcc[+2]t': 'W', 'kcc[+1:+2]': 'លិ', 'kcc[0:+2]': 'ផលិ', 'ns+2': False, 'kcc[+3]': 'ត', 'kcc[+3]t': 'C', 'kcc[+2:+3]': 'ិត', 'kcc[+1:+3]': 'លិត', 'kcc[0:+3]': 'ផលិត'}, {'kcc': 'ល', 't': 'C', 'ns': False, 'kcc[-1]': 'ផ', 'kcc[-1]t': 'C', 'kcc[-1:0]': 'ផល', 'ns-1': False, 'kcc[-2]': 'ើ', 'kcc[-2]t': 'W', 'kcc[-2:-1]': 'ើផ', 'kcc[-2:0]': 'ើផល', 'kcc[-3]': 'ល', 'kcc[-3]t': 'C', 'kcc[-3:0]': 'លើផល', 'kcc[-3:-1]': 'លើផ', 'kcc[-3:-2]': 'លើ', 'kcc[+1]': 'ិ', 'kcc[+1]t': 'W', 'kcc[+1:0]': 'លិ', 'ns+1': False, 'kcc[+2]': 'ត', 'kcc[+2]t': 'C', 'kcc[+1:+2]': 'ិត', 'kcc[0:+2]': 'លិត', 'ns+2': False, 'kcc[+3]': 'ផ', 'kcc[+3]t': 'C', 'kcc[+2:+3]': 'តផ', 'kcc[+1:+3]': 'ិតផ', 'kcc[0:+3]': 'លិតផ'}, {'kcc': 'ិ', 't': 'W', 'ns': False, 'kcc[-1]': 'ល', 'kcc[-1]t': 'C', 'kcc[-1:0]': 'លិ', 'ns-1': False, 'kcc[-2]': 'ផ', 'kcc[-2]t': 'C', 'kcc[-2:-1]': 'ផល', 'kcc[-2:0]': 'ផលិ', 'kcc[-3]': 'ើ', 'kcc[-3]t': 'W', 'kcc[-3:0]': 'ើផលិ', 'kcc[-3:-1]': 'ើផល', 'kcc[-3:-2]': 'ើផ', 'kcc[+1]': 'ត', 'kcc[+1]t': 'C', 'kcc[+1:0]': 'ិត', 'ns+1': False, 'kcc[+2]': 'ផ', 'kcc[+2]t': 'C', 'kcc[+1:+2]': 'តផ', 'kcc[0:+2]': 'ិតផ', 'ns+2': False, 'kcc[+3]': 'ល', 'kcc[+3]t': 'C', 'kcc[+2:+3]': 'ផល', 'kcc[+1:+3]': 'តផល', 'kcc[0:+3]': 'ិតផល'}, {'kcc': 'ត', 't': 'C', 'ns': False, 'kcc[-1]': 'ិ', 'kcc[-1]t': 'W', 'kcc[-1:0]': 'ិត', 'ns-1': False, 'kcc[-2]': 'ល', 'kcc[-2]t': 'C', 'kcc[-2:-1]': 'លិ', 'kcc[-2:0]': 'លិត', 'kcc[-3]': 'ផ', 'kcc[-3]t': 'C', 'kcc[-3:0]': 'ផលិត', 'kcc[-3:-1]': 'ផលិ', 'kcc[-3:-2]': 'ផល', 'kcc[+1]': 'ផ', 'kcc[+1]t': 'C', 'kcc[+1:0]': 'តផ', 'ns+1': False, 'kcc[+2]': 'ល', 'kcc[+2]t': 'C', 'kcc[+1:+2]': 'ផល', 'kcc[0:+2]': 'តផល', 'ns+2': False, 'kcc[+3]': 'ប', 'kcc[+3]t': 'C', 'kcc[+2:+3]': 'លប', 'kcc[+1:+3]': 'ផលប', 'kcc[0:+3]': 'តផលប'}, {'kcc': 'ផ', 't': 'C', 'ns': False, 'kcc[-1]': 'ត', 'kcc[-1]t': 'C', 'kcc[-1:0]': 'តផ', 'ns-1': False, 'kcc[-2]': 'ិ', 'kcc[-2]t': 'W', 'kcc[-2:-1]': 'ិត', 'kcc[-2:0]': 'ិតផ', 'kcc[-3]': 'ល', 'kcc[-3]t': 'C', 'kcc[-3:0]': 'លិតផ', 'kcc[-3:-1]': 'លិត', 'kcc[-3:-2]': 'លិ', 'kcc[+1]': 'ល', 'kcc[+1]t': 'C', 'kcc[+1:0]': 'ផល', 'ns+1': False, 'kcc[+2]': 'ប', 'kcc[+2]t': 'C', 'kcc[+1:+2]': 'លប', 'kcc[0:+2]': 'ផលប', 'ns+2': False, 'kcc[+3]': '្', 'kcc[+3]t': 'S', 'kcc[+2:+3]': 'ប្', 'kcc[+1:+3]': 'លប្', 'kcc[0:+3]': 'ផលប្'}, {'kcc': 'ល', 't': 'C', 'ns': False, 'kcc[-1]': 'ផ', 'kcc[-1]t': 'C', 'kcc[-1:0]': 'ផល', 'ns-1': False, 'kcc[-2]': 'ត', 'kcc[-2]t': 'C', 'kcc[-2:-1]': 'តផ', 'kcc[-2:0]': 'តផល', 'kcc[-3]': 'ិ', 'kcc[-3]t': 'W', 'kcc[-3:0]': 'ិតផល', 'kcc[-3:-1]': 'ិតផ', 'kcc[-3:-2]': 'ិត', 'kcc[+1]': 'ប', 'kcc[+1]t': 'C', 'kcc[+1:0]': 'លប', 'ns+1': False, 'kcc[+2]': '្', 'kcc[+2]t': 'S', 'kcc[+1:+2]': 'ប្', 'kcc[0:+2]': 'លប្', 'ns+2': False, 'kcc[+3]': 'រ', 'kcc[+3]t': 'C', 'kcc[+2:+3]': '្រ', 'kcc[+1:+3]': 'ប្រ', 'kcc[0:+3]': 'លប្រ'}, {'kcc': 'ប', 't': 'C', 'ns': False, 'kcc[-1]': 'ល', 'kcc[-1]t': 'C', 'kcc[-1:0]': 'លប', 'ns-1': False, 'kcc[-2]': 'ផ', 'kcc[-2]t': 'C', 'kcc[-2:-1]': 'ផល', 'kcc[-2:0]': 'ផលប', 'kcc[-3]': 'ត', 'kcc[-3]t': 'C', 'kcc[-3:0]': 'តផលប', 'kcc[-3:-1]': 'តផល', 'kcc[-3:-2]': 'តផ', 'kcc[+1]': '្', 'kcc[+1]t': 'S', 'kcc[+1:0]': 'ប្', 'ns+1': False, 'kcc[+2]': 'រ', 'kcc[+2]t': 'C', 'kcc[+1:+2]': '្រ', 'kcc[0:+2]': 'ប្រ', 'ns+2': False, 'kcc[+3]': 'េ', 'kcc[+3]t': 'W', 'kcc[+2:+3]': 'រេ', 'kcc[+1:+3]': '្រេ', 'kcc[0:+3]': 'ប្រេ'}, {'kcc': '្', 't': 'S', 'ns': False, 'kcc[-1]': 'ប', 'kcc[-1]t': 'C', 'kcc[-1:0]': 'ប្', 'ns-1': False, 'kcc[-2]': 'ល', 'kcc[-2]t': 'C', 'kcc[-2:-1]': 'លប', 'kcc[-2:0]': 'លប្', 'kcc[-3]': 'ផ', 'kcc[-3]t': 'C', 'kcc[-3:0]': 'ផលប្', 'kcc[-3:-1]': 'ផលប', 'kcc[-3:-2]': 'ផល', 'kcc[+1]': 'រ', 'kcc[+1]t': 'C', 'kcc[+1:0]': '្រ', 'ns+1': False, 'kcc[+2]': 'េ', 'kcc[+2]t': 'W', 'kcc[+1:+2]': 'រេ', 'kcc[0:+2]': '្រេ', 'ns+2': False, 'kcc[+3]': 'ង', 'kcc[+3]t': 'C', 'kcc[+2:+3]': 'េង', 'kcc[+1:+3]': 'រេង', 'kcc[0:+3]': '្រេង'}, {'kcc': 'រ', 't': 'C', 'ns': False, 'kcc[-1]': '្', 'kcc[-1]t': 'S', 'kcc[-1:0]': '្រ', 'ns-1': False, 'kcc[-2]': 'ប', 'kcc[-2]t': 'C', 'kcc[-2:-1]': 'ប្', 'kcc[-2:0]': 'ប្រ', 'kcc[-3]': 'ល', 'kcc[-3]t': 'C', 'kcc[-3:0]': 'លប្រ', 'kcc[-3:-1]': 'លប្', 'kcc[-3:-2]': 'លប', 'kcc[+1]': 'េ', 'kcc[+1]t': 'W', 'kcc[+1:0]': 'រេ', 'ns+1': False, 'kcc[+2]': 'ង', 'kcc[+2]t': 'C', 'kcc[+1:+2]': 'េង', 'kcc[0:+2]': 'រេង', 'ns+2': False, 'kcc[+3]': 'ដ', 'kcc[+3]t': 'C', 'kcc[+2:+3]': 'ងដ', 'kcc[+1:+3]': 'េងដ', 'kcc[0:+3]': 'រេងដ'}, {'kcc': 'េ', 't': 'W', 'ns': False, 'kcc[-1]': 'រ', 'kcc[-1]t': 'C', 'kcc[-1:0]': 'រេ', 'ns-1': False, 'kcc[-2]': '្', 'kcc[-2]t': 'S', 'kcc[-2:-1]': '្រ', 'kcc[-2:0]': '្រេ', 'kcc[-3]': 'ប', 'kcc[-3]t': 'C', 'kcc[-3:0]': 'ប្រេ', 'kcc[-3:-1]': 'ប្រ', 'kcc[-3:-2]': 'ប្', 'kcc[+1]': 'ង', 'kcc[+1]t': 'C', 'kcc[+1:0]': 'េង', 'ns+1': False, 'kcc[+2]': 'ដ', 'kcc[+2]t': 'C', 'kcc[+1:+2]': 'ងដ', 'kcc[0:+2]': 'េងដ', 'ns+2': False, 'kcc[+3]': 'ោ', 'kcc[+3]t': 'W', 'kcc[+2:+3]': 'ដោ', 'kcc[+1:+3]': 'ងដោ', 'kcc[0:+3]': 'េងដោ'}, {'kcc': 'ង', 't': 'C', 'ns': False, 'kcc[-1]': 'េ', 'kcc[-1]t': 'W', 'kcc[-1:0]': 'េង', 'ns-1': False, 'kcc[-2]': 'រ', 'kcc[-2]t': 'C', 'kcc[-2:-1]': 'រេ', 'kcc[-2:0]': 'រេង', 'kcc[-3]': '្', 'kcc[-3]t': 'S', 'kcc[-3:0]': '្រេង', 'kcc[-3:-1]': '្រេ', 'kcc[-3:-2]': '្រ', 'kcc[+1]': 'ដ', 'kcc[+1]t': 'C', 'kcc[+1:0]': 'ងដ', 'ns+1': False, 'kcc[+2]': 'ោ', 'kcc[+2]t': 'W', 'kcc[+1:+2]': 'ដោ', 'kcc[0:+2]': 'ងដោ', 'ns+2': False, 'kcc[+3]': 'យ', 'kcc[+3]t': 'C', 'kcc[+2:+3]': 'ោយ', 'kcc[+1:+3]': 'ដោយ', 'kcc[0:+3]': 'ងដោយ'}, {'kcc': 'ដ', 't': 'C', 'ns': False, 'kcc[-1]': 'ង', 'kcc[-1]t': 'C', 'kcc[-1:0]': 'ងដ', 'ns-1': False, 'kcc[-2]': 'េ', 'kcc[-2]t': 'W', 'kcc[-2:-1]': 'េង', 'kcc[-2:0]': 'េងដ', 'kcc[-3]': 'រ', 'kcc[-3]t': 'C', 'kcc[-3:0]': 'រេងដ', 'kcc[-3:-1]': 'រេង', 'kcc[-3:-2]': 'រេ', 'kcc[+1]': 'ោ', 'kcc[+1]t': 'W', 'kcc[+1:0]': 'ដោ', 'ns+1': False, 'kcc[+2]': 'យ', 'kcc[+2]t': 'C', 'kcc[+1:+2]': 'ោយ', 'kcc[0:+2]': 'ដោយ', 'ns+2': False, 'kcc[+3]': 'ភ', 'kcc[+3]t': 'C', 'kcc[+2:+3]': 'យភ', 'kcc[+1:+3]': 'ោយភ', 'kcc[0:+3]': 'ដោយភ'}, {'kcc': 'ោ', 't': 'W', 'ns': False, 'kcc[-1]': 'ដ', 'kcc[-1]t': 'C', 'kcc[-1:0]': 'ដោ', 'ns-1': False, 'kcc[-2]': 'ង', 'kcc[-2]t': 'C', 'kcc[-2:-1]': 'ងដ', 'kcc[-2:0]': 'ងដោ', 'kcc[-3]': 'េ', 'kcc[-3]t': 'W', 'kcc[-3:0]': 'េងដោ', 'kcc[-3:-1]': 'េងដ', 'kcc[-3:-2]': 'េង', 'kcc[+1]': 'យ', 'kcc[+1]t': 'C', 'kcc[+1:0]': 'ោយ', 'ns+1': False, 'kcc[+2]': 'ភ', 'kcc[+2]t': 'C', 'kcc[+1:+2]': 'យភ', 'kcc[0:+2]': 'ោយភ', 'ns+2': False, 'kcc[+3]': 'ា', 'kcc[+3]t': 'W', 'kcc[+2:+3]': 'ភា', 'kcc[+1:+3]': 'យភា', 'kcc[0:+3]': 'ោយភា'}, {'kcc': 'យ', 't': 'C', 'ns': False, 'kcc[-1]': 'ោ', 'kcc[-1]t': 'W', 'kcc[-1:0]': 'ោយ', 'ns-1': False, 'kcc[-2]': 'ដ', 'kcc[-2]t': 'C', 'kcc[-2:-1]': 'ដោ', 'kcc[-2:0]': 'ដោយ', 'kcc[-3]': 'ង', 'kcc[-3]t': 'C', 'kcc[-3:0]': 'ងដោយ', 'kcc[-3:-1]': 'ងដោ', 'kcc[-3:-2]': 'ងដ', 'kcc[+1]': 'ភ', 'kcc[+1]t': 'C', 'kcc[+1:0]': 'យភ', 'ns+1': False, 'kcc[+2]': 'ា', 'kcc[+2]t': 'W', 'kcc[+1:+2]': 'ភា', 'kcc[0:+2]': 'យភា', 'ns+2': False, 'kcc[+3]': 'គ', 'kcc[+3]t': 'C', 'kcc[+2:+3]': 'ាគ', 'kcc[+1:+3]': 'ភាគ', 'kcc[0:+3]': 'យភាគ'}, {'kcc': 'ភ', 't': 'C', 'ns': False, 'kcc[-1]': 'យ', 'kcc[-1]t': 'C', 'kcc[-1:0]': 'យភ', 'ns-1': False, 'kcc[-2]': 'ោ', 'kcc[-2]t': 'W', 'kcc[-2:-1]': 'ោយ', 'kcc[-2:0]': 'ោយភ', 'kcc[-3]': 'ដ', 'kcc[-3]t': 'C', 'kcc[-3:0]': 'ដោយភ', 'kcc[-3:-1]': 'ដោយ', 'kcc[-3:-2]': 'ដោ', 'kcc[+1]': 'ា', 'kcc[+1]t': 'W', 'kcc[+1:0]': 'ភា', 'ns+1': False, 'kcc[+2]': 'គ', 'kcc[+2]t': 'C', 'kcc[+1:+2]': 'ាគ', 'kcc[0:+2]': 'ភាគ', 'ns+2': False, 'kcc[+3]': 'ី', 'kcc[+3]t': 'W', 'kcc[+2:+3]': 'គី', 'kcc[+1:+3]': 'ាគី', 'kcc[0:+3]': 'ភាគី'}, {'kcc': 'ា', 't': 'W', 'ns': False, 'kcc[-1]': 'ភ', 'kcc[-1]t': 'C', 'kcc[-1:0]': 'ភា', 'ns-1': False, 'kcc[-2]': 'យ', 'kcc[-2]t': 'C', 'kcc[-2:-1]': 'យភ', 'kcc[-2:0]': 'យភា', 'kcc[-3]': 'ោ', 'kcc[-3]t': 'W', 'kcc[-3:0]': 'ោយភា', 'kcc[-3:-1]': 'ោយភ', 'kcc[-3:-2]': 'ោយ', 'kcc[+1]': 'គ', 'kcc[+1]t': 'C', 'kcc[+1:0]': 'ាគ', 'ns+1': False, 'kcc[+2]': 'ី', 'kcc[+2]t': 'W', 'kcc[+1:+2]': 'គី', 'kcc[0:+2]': 'ាគី', 'ns+2': False, 'kcc[+3]': 'ក', 'kcc[+3]t': 'C', 'kcc[+2:+3]': 'ីក', 'kcc[+1:+3]': 'គីក', 'kcc[0:+3]': 'ាគីក'}, {'kcc': 'គ', 't': 'C', 'ns': False, 'kcc[-1]': 'ា', 'kcc[-1]t': 'W', 'kcc[-1:0]': 'ាគ', 'ns-1': False, 'kcc[-2]': 'ភ', 'kcc[-2]t': 'C', 'kcc[-2:-1]': 'ភា', 'kcc[-2:0]': 'ភាគ', 'kcc[-3]': 'យ', 'kcc[-3]t': 'C', 'kcc[-3:0]': 'យភាគ', 'kcc[-3:-1]': 'យភា', 'kcc[-3:-2]': 'យភ', 'kcc[+1]': 'ី', 'kcc[+1]t': 'W', 'kcc[+1:0]': 'គី', 'ns+1': False, 'kcc[+2]': 'ក', 'kcc[+2]t': 'C', 'kcc[+1:+2]': 'ីក', 'kcc[0:+2]': 'គីក', 'ns+2': False, 'kcc[+3]': 'ណ', 'kcc[+3]t': 'C', 'kcc[+2:+3]': 'កណ', 'kcc[+1:+3]': 'ីកណ', 'kcc[0:+3]': 'គីកណ'}, {'kcc': 'ី', 't': 'W', 'ns': False, 'kcc[-1]': 'គ', 'kcc[-1]t': 'C', 'kcc[-1:0]': 'គី', 'ns-1': False, 'kcc[-2]': 'ា', 'kcc[-2]t': 'W', 'kcc[-2:-1]': 'ាគ', 'kcc[-2:0]': 'ាគី', 'kcc[-3]': 'ភ', 'kcc[-3]t': 'C', 'kcc[-3:0]': 'ភាគី', 'kcc[-3:-1]': 'ភាគ', 'kcc[-3:-2]': 'ភា', 'kcc[+1]': 'ក', 'kcc[+1]t': 'C', 'kcc[+1:0]': 'ីក', 'ns+1': False, 'kcc[+2]': 'ណ', 'kcc[+2]t': 'C', 'kcc[+1:+2]': 'កណ', 'kcc[0:+2]': 'ីកណ', 'ns+2': False, 'kcc[+3]': '្', 'kcc[+3]t': 'S', 'kcc[+2:+3]': 'ណ្', 'kcc[+1:+3]': 'កណ្', 'kcc[0:+3]': 'ីកណ្'}, {'kcc': 'ក', 't': 'C', 'ns': False, 'kcc[-1]': 'ី', 'kcc[-1]t': 'W', 'kcc[-1:0]': 'ីក', 'ns-1': False, 'kcc[-2]': 'គ', 'kcc[-2]t': 'C', 'kcc[-2:-1]': 'គី', 'kcc[-2:0]': 'គីក', 'kcc[-3]': 'ា', 'kcc[-3]t': 'W', 'kcc[-3:0]': 'ាគីក', 'kcc[-3:-1]': 'ាគី', 'kcc[-3:-2]': 'ាគ', 'kcc[+1]': 'ណ', 'kcc[+1]t': 'C', 'kcc[+1:0]': 'កណ', 'ns+1': False, 'kcc[+2]': '្', 'kcc[+2]t': 'S', 'kcc[+1:+2]': 'ណ្', 'kcc[0:+2]': 'កណ្', 'ns+2': False, 'kcc[+3]': 'ត', 'kcc[+3]t': 'C', 'kcc[+2:+3]': '្ត', 'kcc[+1:+3]': 'ណ្ត', 'kcc[0:+3]': 'កណ្ត'}, {'kcc': 'ណ', 't': 'C', 'ns': False, 'kcc[-1]': 'ក', 'kcc[-1]t': 'C', 'kcc[-1:0]': 'កណ', 'ns-1': False, 'kcc[-2]': 'ី', 'kcc[-2]t': 'W', 'kcc[-2:-1]': 'ីក', 'kcc[-2:0]': 'ីកណ', 'kcc[-3]': 'គ', 'kcc[-3]t': 'C', 'kcc[-3:0]': 'គីកណ', 'kcc[-3:-1]': 'គីក', 'kcc[-3:-2]': 'គី', 'kcc[+1]': '្', 'kcc[+1]t': 'S', 'kcc[+1:0]': 'ណ្', 'ns+1': False, 'kcc[+2]': 'ត', 'kcc[+2]t': 'C', 'kcc[+1:+2]': '្ត', 'kcc[0:+2]': 'ណ្ត', 'ns+2': False, 'kcc[+3]': 'ា', 'kcc[+3]t': 'W', 'kcc[+2:+3]': 'តា', 'kcc[+1:+3]': '្តា', 'kcc[0:+3]': 'ណ្តា'}, {'kcc': '្', 't': 'S', 'ns': False, 'kcc[-1]': 'ណ', 'kcc[-1]t': 'C', 'kcc[-1:0]': 'ណ្', 'ns-1': False, 'kcc[-2]': 'ក', 'kcc[-2]t': 'C', 'kcc[-2:-1]': 'កណ', 'kcc[-2:0]': 'កណ្', 'kcc[-3]': 'ី', 'kcc[-3]t': 'W', 'kcc[-3:0]': 'ីកណ្', 'kcc[-3:-1]': 'ីកណ', 'kcc[-3:-2]': 'ីក', 'kcc[+1]': 'ត', 'kcc[+1]t': 'C', 'kcc[+1:0]': '្ត', 'ns+1': False, 'kcc[+2]': 'ា', 'kcc[+2]t': 'W', 'kcc[+1:+2]': 'តា', 'kcc[0:+2]': '្តា', 'ns+2': False, 'kcc[+3]': 'ល', 'kcc[+3]t': 'C', 'kcc[+2:+3]': 'ាល', 'kcc[+1:+3]': 'តាល', 'kcc[0:+3]': '្តាល'}, {'kcc': 'ត', 't': 'C', 'ns': False, 'kcc[-1]': '្', 'kcc[-1]t': 'S', 'kcc[-1:0]': '្ត', 'ns-1': False, 'kcc[-2]': 'ណ', 'kcc[-2]t': 'C', 'kcc[-2:-1]': 'ណ្', 'kcc[-2:0]': 'ណ្ត', 'kcc[-3]': 'ក', 'kcc[-3]t': 'C', 'kcc[-3:0]': 'កណ្ត', 'kcc[-3:-1]': 'កណ្', 'kcc[-3:-2]': 'កណ', 'kcc[+1]': 'ា', 'kcc[+1]t': 'W', 'kcc[+1:0]': 'តា', 'ns+1': False, 'kcc[+2]': 'ល', 'kcc[+2]t': 'C', 'kcc[+1:+2]': 'ាល', 'kcc[0:+2]': 'តាល', 'ns+2': False, 'kcc[+3]': 'ន', 'kcc[+3]t': 'C', 'kcc[+2:+3]': 'លន', 'kcc[+1:+3]': 'ាលន', 'kcc[0:+3]': 'តាលន'}, {'kcc': 'ា', 't': 'W', 'ns': False, 'kcc[-1]': 'ត', 'kcc[-1]t': 'C', 'kcc[-1:0]': 'តា', 'ns-1': False, 'kcc[-2]': '្', 'kcc[-2]t': 'S', 'kcc[-2:-1]': '្ត', 'kcc[-2:0]': '្តា', 'kcc[-3]': 'ណ', 'kcc[-3]t': 'C', 'kcc[-3:0]': 'ណ្តា', 'kcc[-3:-1]': 'ណ្ត', 'kcc[-3:-2]': 'ណ្', 'kcc[+1]': 'ល', 'kcc[+1]t': 'C', 'kcc[+1:0]': 'ាល', 'ns+1': False, 'kcc[+2]': 'ន', 'kcc[+2]t': 'C', 'kcc[+1:+2]': 'លន', 'kcc[0:+2]': 'ាលន', 'ns+2': False, 'kcc[+3]': 'ិ', 'kcc[+3]t': 'W', 'kcc[+2:+3]': 'និ', 'kcc[+1:+3]': 'លនិ', 'kcc[0:+3]': 'ាលនិ'}, {'kcc': 'ល', 't': 'C', 'ns': False, 'kcc[-1]': 'ា', 'kcc[-1]t': 'W', 'kcc[-1:0]': 'ាល', 'ns-1': False, 'kcc[-2]': 'ត', 'kcc[-2]t': 'C', 'kcc[-2:-1]': 'តា', 'kcc[-2:0]': 'តាល', 'kcc[-3]': '្', 'kcc[-3]t': 'S', 'kcc[-3:0]': '្តាល', 'kcc[-3:-1]': '្តា', 'kcc[-3:-2]': '្ត', 'kcc[+1]': 'ន', 'kcc[+1]t': 'C', 'kcc[+1:0]': 'លន', 'ns+1': False, 'kcc[+2]': 'ិ', 'kcc[+2]t': 'W', 'kcc[+1:+2]': 'និ', 'kcc[0:+2]': 'លនិ', 'ns+2': False, 'kcc[+3]': 'ង', 'kcc[+3]t': 'C', 'kcc[+2:+3]': 'ិង', 'kcc[+1:+3]': 'និង', 'kcc[0:+3]': 'លនិង'}, {'kcc': 'ន', 't': 'C', 'ns': False, 'kcc[-1]': 'ល', 'kcc[-1]t': 'C', 'kcc[-1:0]': 'លន', 'ns-1': False, 'kcc[-2]': 'ា', 'kcc[-2]t': 'W', 'kcc[-2:-1]': 'ាល', 'kcc[-2:0]': 'ាលន', 'kcc[-3]': 'ត', 'kcc[-3]t': 'C', 'kcc[-3:0]': 'តាលន', 'kcc[-3:-1]': 'តាល', 'kcc[-3:-2]': 'តា', 'kcc[+1]': 'ិ', 'kcc[+1]t': 'W', 'kcc[+1:0]': 'និ', 'ns+1': False, 'kcc[+2]': 'ង', 'kcc[+2]t': 'C', 'kcc[+1:+2]': 'ិង', 'kcc[0:+2]': 'និង', 'ns+2': False, 'kcc[+3]': 'រ', 'kcc[+3]t': 'C', 'kcc[+2:+3]': 'ងរ', 'kcc[+1:+3]': 'ិងរ', 'kcc[0:+3]': 'និងរ'}, {'kcc': 'ិ', 't': 'W', 'ns': False, 'kcc[-1]': 'ន', 'kcc[-1]t': 'C', 'kcc[-1:0]': 'និ', 'ns-1': False, 'kcc[-2]': 'ល', 'kcc[-2]t': 'C', 'kcc[-2:-1]': 'លន', 'kcc[-2:0]': 'លនិ', 'kcc[-3]': 'ា', 'kcc[-3]t': 'W', 'kcc[-3:0]': 'ាលនិ', 'kcc[-3:-1]': 'ាលន', 'kcc[-3:-2]': 'ាល', 'kcc[+1]': 'ង', 'kcc[+1]t': 'C', 'kcc[+1:0]': 'ិង', 'ns+1': False, 'kcc[+2]': 'រ', 'kcc[+2]t': 'C', 'kcc[+1:+2]': 'ងរ', 'kcc[0:+2]': 'ិងរ', 'ns+2': False, 'kcc[+3]': 'ដ', 'kcc[+3]t': 'C', 'kcc[+2:+3]': 'រដ', 'kcc[+1:+3]': 'ងរដ', 'kcc[0:+3]': 'ិងរដ'}, {'kcc': 'ង', 't': 'C', 'ns': False, 'kcc[-1]': 'ិ', 'kcc[-1]t': 'W', 'kcc[-1:0]': 'ិង', 'ns-1': False, 'kcc[-2]': 'ន', 'kcc[-2]t': 'C', 'kcc[-2:-1]': 'និ', 'kcc[-2:0]': 'និង', 'kcc[-3]': 'ល', 'kcc[-3]t': 'C', 'kcc[-3:0]': 'លនិង', 'kcc[-3:-1]': 'លនិ', 'kcc[-3:-2]': 'លន', 'kcc[+1]': 'រ', 'kcc[+1]t': 'C', 'kcc[+1:0]': 'ងរ', 'ns+1': False, 'kcc[+2]': 'ដ', 'kcc[+2]t': 'C', 'kcc[+1:+2]': 'រដ', 'kcc[0:+2]': 'ងរដ', 'ns+2': False, 'kcc[+3]': '្', 'kcc[+3]t': 'S', 'kcc[+2:+3]': 'ដ្', 'kcc[+1:+3]': 'រដ្', 'kcc[0:+3]': 'ងរដ្'}, {'kcc': 'រ', 't': 'C', 'ns': False, 'kcc[-1]': 'ង', 'kcc[-1]t': 'C', 'kcc[-1:0]': 'ងរ', 'ns-1': False, 'kcc[-2]': 'ិ', 'kcc[-2]t': 'W', 'kcc[-2:-1]': 'ិង', 'kcc[-2:0]': 'ិងរ', 'kcc[-3]': 'ន', 'kcc[-3]t': 'C', 'kcc[-3:0]': 'និងរ', 'kcc[-3:-1]': 'និង', 'kcc[-3:-2]': 'និ', 'kcc[+1]': 'ដ', 'kcc[+1]t': 'C', 'kcc[+1:0]': 'រដ', 'ns+1': False, 'kcc[+2]': '្', 'kcc[+2]t': 'S', 'kcc[+1:+2]': 'ដ្', 'kcc[0:+2]': 'រដ្', 'ns+2': False, 'kcc[+3]': 'ឋ', 'kcc[+3]t': 'C', 'kcc[+2:+3]': '្ឋ', 'kcc[+1:+3]': 'ដ្ឋ', 'kcc[0:+3]': 'រដ្ឋ'}, {'kcc': 'ដ', 't': 'C', 'ns': False, 'kcc[-1]': 'រ', 'kcc[-1]t': 'C', 'kcc[-1:0]': 'រដ', 'ns-1': False, 'kcc[-2]': 'ង', 'kcc[-2]t': 'C', 'kcc[-2:-1]': 'ងរ', 'kcc[-2:0]': 'ងរដ', 'kcc[-3]': 'ិ', 'kcc[-3]t': 'W', 'kcc[-3:0]': 'ិងរដ', 'kcc[-3:-1]': 'ិងរ', 'kcc[-3:-2]': 'ិង', 'kcc[+1]': '្', 'kcc[+1]t': 'S', 'kcc[+1:0]': 'ដ្', 'ns+1': False, 'kcc[+2]': 'ឋ', 'kcc[+2]t': 'C', 'kcc[+1:+2]': '្ឋ', 'kcc[0:+2]': 'ដ្ឋ', 'ns+2': False, 'kcc[+3]': 'ា', 'kcc[+3]t': 'W', 'kcc[+2:+3]': 'ឋា', 'kcc[+1:+3]': '្ឋា', 'kcc[0:+3]': 'ដ្ឋា'}, {'kcc': '្', 't': 'S', 'ns': False, 'kcc[-1]': 'ដ', 'kcc[-1]t': 'C', 'kcc[-1:0]': 'ដ្', 'ns-1': False, 'kcc[-2]': 'រ', 'kcc[-2]t': 'C', 'kcc[-2:-1]': 'រដ', 'kcc[-2:0]': 'រដ្', 'kcc[-3]': 'ង', 'kcc[-3]t': 'C', 'kcc[-3:0]': 'ងរដ្', 'kcc[-3:-1]': 'ងរដ', 'kcc[-3:-2]': 'ងរ', 'kcc[+1]': 'ឋ', 'kcc[+1]t': 'C', 'kcc[+1:0]': '្ឋ', 'ns+1': False, 'kcc[+2]': 'ា', 'kcc[+2]t': 'W', 'kcc[+1:+2]': 'ឋា', 'kcc[0:+2]': '្ឋា', 'ns+2': False, 'kcc[+3]': 'ភ', 'kcc[+3]t': 'C', 'kcc[+2:+3]': 'ាភ', 'kcc[+1:+3]': 'ឋាភ', 'kcc[0:+3]': '្ឋាភ'}, {'kcc': 'ឋ', 't': 'C', 'ns': False, 'kcc[-1]': '្', 'kcc[-1]t': 'S', 'kcc[-1:0]': '្ឋ', 'ns-1': False, 'kcc[-2]': 'ដ', 'kcc[-2]t': 'C', 'kcc[-2:-1]': 'ដ្', 'kcc[-2:0]': 'ដ្ឋ', 'kcc[-3]': 'រ', 'kcc[-3]t': 'C', 'kcc[-3:0]': 'រដ្ឋ', 'kcc[-3:-1]': 'រដ្', 'kcc[-3:-2]': 'រដ', 'kcc[+1]': 'ា', 'kcc[+1]t': 'W', 'kcc[+1:0]': 'ឋា', 'ns+1': False, 'kcc[+2]': 'ភ', 'kcc[+2]t': 'C', 'kcc[+1:+2]': 'ាភ', 'kcc[0:+2]': 'ឋាភ', 'ns+2': False, 'kcc[+3]': 'ិ', 'kcc[+3]t': 'W', 'kcc[+2:+3]': 'ភិ', 'kcc[+1:+3]': 'ាភិ', 'kcc[0:+3]': 'ឋាភិ'}, {'kcc': 'ា', 't': 'W', 'ns': False, 'kcc[-1]': 'ឋ', 'kcc[-1]t': 'C', 'kcc[-1:0]': 'ឋា', 'ns-1': False, 'kcc[-2]': '្', 'kcc[-2]t': 'S', 'kcc[-2:-1]': '្ឋ', 'kcc[-2:0]': '្ឋា', 'kcc[-3]': 'ដ', 'kcc[-3]t': 'C', 'kcc[-3:0]': 'ដ្ឋា', 'kcc[-3:-1]': 'ដ្ឋ', 'kcc[-3:-2]': 'ដ្', 'kcc[+1]': 'ភ', 'kcc[+1]t': 'C', 'kcc[+1:0]': 'ាភ', 'ns+1': False, 'kcc[+2]': 'ិ', 'kcc[+2]t': 'W', 'kcc[+1:+2]': 'ភិ', 'kcc[0:+2]': 'ាភិ', 'ns+2': False, 'kcc[+3]': 'ប', 'kcc[+3]t': 'C', 'kcc[+2:+3]': 'ិប', 'kcc[+1:+3]': 'ភិប', 'kcc[0:+3]': 'ាភិប'}, {'kcc': 'ភ', 't': 'C', 'ns': False, 'kcc[-1]': 'ា', 'kcc[-1]t': 'W', 'kcc[-1:0]': 'ាភ', 'ns-1': False, 'kcc[-2]': 'ឋ', 'kcc[-2]t': 'C', 'kcc[-2:-1]': 'ឋា', 'kcc[-2:0]': 'ឋាភ', 'kcc[-3]': '្', 'kcc[-3]t': 'S', 'kcc[-3:0]': '្ឋាភ', 'kcc[-3:-1]': '្ឋា', 'kcc[-3:-2]': '្ឋ', 'kcc[+1]': 'ិ', 'kcc[+1]t': 'W', 'kcc[+1:0]': 'ភិ', 'ns+1': False, 'kcc[+2]': 'ប', 'kcc[+2]t': 'C', 'kcc[+1:+2]': 'ិប', 'kcc[0:+2]': 'ភិប', 'ns+2': False, 'kcc[+3]': 'ា', 'kcc[+3]t': 'W', 'kcc[+2:+3]': 'បា', 'kcc[+1:+3]': 'ិបា', 'kcc[0:+3]': 'ភិបា'}, {'kcc': 'ិ', 't': 'W', 'ns': False, 'kcc[-1]': 'ភ', 'kcc[-1]t': 'C', 'kcc[-1:0]': 'ភិ', 'ns-1': False, 'kcc[-2]': 'ា', 'kcc[-2]t': 'W', 'kcc[-2:-1]': 'ាភ', 'kcc[-2:0]': 'ាភិ', 'kcc[-3]': 'ឋ', 'kcc[-3]t': 'C', 'kcc[-3:0]': 'ឋាភិ', 'kcc[-3:-1]': 'ឋាភ', 'kcc[-3:-2]': 'ឋា', 'kcc[+1]': 'ប', 'kcc[+1]t': 'C', 'kcc[+1:0]': 'ិប', 'ns+1': False, 'kcc[+2]': 'ា', 'kcc[+2]t': 'W', 'kcc[+1:+2]': 'បា', 'kcc[0:+2]': 'ិបា', 'ns+2': False, 'kcc[+3]': 'ល', 'kcc[+3]t': 'C', 'kcc[+2:+3]': 'ាល', 'kcc[+1:+3]': 'បាល', 'kcc[0:+3]': 'ិបាល'}, {'kcc': 'ប', 't': 'C', 'ns': False, 'kcc[-1]': 'ិ', 'kcc[-1]t': 'W', 'kcc[-1:0]': 'ិប', 'ns-1': False, 'kcc[-2]': 'ភ', 'kcc[-2]t': 'C', 'kcc[-2:-1]': 'ភិ', 'kcc[-2:0]': 'ភិប', 'kcc[-3]': 'ា', 'kcc[-3]t': 'W', 'kcc[-3:0]': 'ាភិប', 'kcc[-3:-1]': 'ាភិ', 'kcc[-3:-2]': 'ាភ', 'kcc[+1]': 'ា', 'kcc[+1]t': 'W', 'kcc[+1:0]': 'បា', 'ns+1': False, 'kcc[+2]': 'ល', 'kcc[+2]t': 'C', 'kcc[+1:+2]': 'ាល', 'kcc[0:+2]': 'បាល', 'ns+2': False, 'kcc[+3]': 'គ', 'kcc[+3]t': 'C', 'kcc[+2:+3]': 'លគ', 'kcc[+1:+3]': 'ាលគ', 'kcc[0:+3]': 'បាលគ'}, {'kcc': 'ា', 't': 'W', 'ns': False, 'kcc[-1]': 'ប', 'kcc[-1]t': 'C', 'kcc[-1:0]': 'បា', 'ns-1': False, 'kcc[-2]': 'ិ', 'kcc[-2]t': 'W', 'kcc[-2:-1]': 'ិប', 'kcc[-2:0]': 'ិបា', 'kcc[-3]': 'ភ', 'kcc[-3]t': 'C', 'kcc[-3:0]': 'ភិបា', 'kcc[-3:-1]': 'ភិប', 'kcc[-3:-2]': 'ភិ', 'kcc[+1]': 'ល', 'kcc[+1]t': 'C', 'kcc[+1:0]': 'ាល', 'ns+1': False, 'kcc[+2]': 'គ', 'kcc[+2]t': 'C', 'kcc[+1:+2]': 'លគ', 'kcc[0:+2]': 'ាលគ', 'ns+2': False, 'kcc[+3]': 'ឺ', 'kcc[+3]t': 'W', 'kcc[+2:+3]': 'គឺ', 'kcc[+1:+3]': 'លគឺ', 'kcc[0:+3]': 'ាលគឺ'}, {'kcc': 'ល', 't': 'C', 'ns': False, 'kcc[-1]': 'ា', 'kcc[-1]t': 'W', 'kcc[-1:0]': 'ាល', 'ns-1': False, 'kcc[-2]': 'ប', 'kcc[-2]t': 'C', 'kcc[-2:-1]': 'បា', 'kcc[-2:0]': 'បាល', 'kcc[-3]': 'ិ', 'kcc[-3]t': 'W', 'kcc[-3:0]': 'ិបាល', 'kcc[-3:-1]': 'ិបា', 'kcc[-3:-2]': 'ិប', 'kcc[+1]': 'គ', 'kcc[+1]t': 'C', 'kcc[+1:0]': 'លគ', 'ns+1': False, 'kcc[+2]': 'ឺ', 'kcc[+2]t': 'W', 'kcc[+1:+2]': 'គឺ', 'kcc[0:+2]': 'លគឺ', 'ns+2': False, 'kcc[+3]': 'ជ', 'kcc[+3]t': 'C', 'kcc[+2:+3]': 'ឺជ', 'kcc[+1:+3]': 'គឺជ', 'kcc[0:+3]': 'លគឺជ'}, {'kcc': 'គ', 't': 'C', 'ns': False, 'kcc[-1]': 'ល', 'kcc[-1]t': 'C', 'kcc[-1:0]': 'លគ', 'ns-1': False, 'kcc[-2]': 'ា', 'kcc[-2]t': 'W', 'kcc[-2:-1]': 'ាល', 'kcc[-2:0]': 'ាលគ', 'kcc[-3]': 'ប', 'kcc[-3]t': 'C', 'kcc[-3:0]': 'បាលគ', 'kcc[-3:-1]': 'បាល', 'kcc[-3:-2]': 'បា', 'kcc[+1]': 'ឺ', 'kcc[+1]t': 'W', 'kcc[+1:0]': 'គឺ', 'ns+1': False, 'kcc[+2]': 'ជ', 'kcc[+2]t': 'C', 'kcc[+1:+2]': 'ឺជ', 'kcc[0:+2]': 'គឺជ', 'ns+2': False, 'kcc[+3]': 'ា', 'kcc[+3]t': 'W', 'kcc[+2:+3]': 'ជា', 'kcc[+1:+3]': 'ឺជា', 'kcc[0:+3]': 'គឺជា'}, {'kcc': 'ឺ', 't': 'W', 'ns': False, 'kcc[-1]': 'គ', 'kcc[-1]t': 'C', 'kcc[-1:0]': 'គឺ', 'ns-1': False, 'kcc[-2]': 'ល', 'kcc[-2]t': 'C', 'kcc[-2:-1]': 'លគ', 'kcc[-2:0]': 'លគឺ', 'kcc[-3]': 'ា', 'kcc[-3]t': 'W', 'kcc[-3:0]': 'ាលគឺ', 'kcc[-3:-1]': 'ាលគ', 'kcc[-3:-2]': 'ាល', 'kcc[+1]': 'ជ', 'kcc[+1]t': 'C', 'kcc[+1:0]': 'ឺជ', 'ns+1': False, 'kcc[+2]': 'ា', 'kcc[+2]t': 'W', 'kcc[+1:+2]': 'ជា', 'kcc[0:+2]': 'ឺជា', 'ns+2': False, 'kcc[+3]': 'ដ', 'kcc[+3]t': 'C', 'kcc[+2:+3]': 'ាដ', 'kcc[+1:+3]': 'ជាដ', 'kcc[0:+3]': 'ឺជាដ'}, {'kcc': 'ជ', 't': 'C', 'ns': False, 'kcc[-1]': 'ឺ', 'kcc[-1]t': 'W', 'kcc[-1:0]': 'ឺជ', 'ns-1': False, 'kcc[-2]': 'គ', 'kcc[-2]t': 'C', 'kcc[-2:-1]': 'គឺ', 'kcc[-2:0]': 'គឺជ', 'kcc[-3]': 'ល', 'kcc[-3]t': 'C', 'kcc[-3:0]': 'លគឺជ', 'kcc[-3:-1]': 'លគឺ', 'kcc[-3:-2]': 'លគ', 'kcc[+1]': 'ា', 'kcc[+1]t': 'W', 'kcc[+1:0]': 'ជា', 'ns+1': False, 'kcc[+2]': 'ដ', 'kcc[+2]t': 'C', 'kcc[+1:+2]': 'ាដ', 'kcc[0:+2]': 'ជាដ', 'ns+2': False, 'kcc[+3]': 'ំ', 'kcc[+3]t': 'W', 'kcc[+2:+3]': 'ដំ', 'kcc[+1:+3]': 'ាដំ', 'kcc[0:+3]': 'ជាដំ'}, {'kcc': 'ា', 't': 'W', 'ns': False, 'kcc[-1]': 'ជ', 'kcc[-1]t': 'C', 'kcc[-1:0]': 'ជា', 'ns-1': False, 'kcc[-2]': 'ឺ', 'kcc[-2]t': 'W', 'kcc[-2:-1]': 'ឺជ', 'kcc[-2:0]': 'ឺជា', 'kcc[-3]': 'គ', 'kcc[-3]t': 'C', 'kcc[-3:0]': 'គឺជា', 'kcc[-3:-1]': 'គឺជ', 'kcc[-3:-2]': 'គឺ', 'kcc[+1]': 'ដ', 'kcc[+1]t': 'C', 'kcc[+1:0]': 'ាដ', 'ns+1': False, 'kcc[+2]': 'ំ', 'kcc[+2]t': 'W', 'kcc[+1:+2]': 'ដំ', 'kcc[0:+2]': 'ាដំ', 'ns+2': False, 'kcc[+3]': 'ណ', 'kcc[+3]t': 'C', 'kcc[+2:+3]': 'ំណ', 'kcc[+1:+3]': 'ដំណ', 'kcc[0:+3]': 'ាដំណ'}, {'kcc': 'ដ', 't': 'C', 'ns': False, 'kcc[-1]': 'ា', 'kcc[-1]t': 'W', 'kcc[-1:0]': 'ាដ', 'ns-1': False, 'kcc[-2]': 'ជ', 'kcc[-2]t': 'C', 'kcc[-2:-1]': 'ជា', 'kcc[-2:0]': 'ជាដ', 'kcc[-3]': 'ឺ', 'kcc[-3]t': 'W', 'kcc[-3:0]': 'ឺជាដ', 'kcc[-3:-1]': 'ឺជា', 'kcc[-3:-2]': 'ឺជ', 'kcc[+1]': 'ំ', 'kcc[+1]t': 'W', 'kcc[+1:0]': 'ដំ', 'ns+1': False, 'kcc[+2]': 'ណ', 'kcc[+2]t': 'C', 'kcc[+1:+2]': 'ំណ', 'kcc[0:+2]': 'ដំណ', 'ns+2': False, 'kcc[+3]': 'ោ', 'kcc[+3]t': 'W', 'kcc[+2:+3]': 'ណោ', 'kcc[+1:+3]': 'ំណោ', 'kcc[0:+3]': 'ដំណោ'}, {'kcc': 'ំ', 't': 'W', 'ns': False, 'kcc[-1]': 'ដ', 'kcc[-1]t': 'C', 'kcc[-1:0]': 'ដំ', 'ns-1': False, 'kcc[-2]': 'ា', 'kcc[-2]t': 'W', 'kcc[-2:-1]': 'ាដ', 'kcc[-2:0]': 'ាដំ', 'kcc[-3]': 'ជ', 'kcc[-3]t': 'C', 'kcc[-3:0]': 'ជាដំ', 'kcc[-3:-1]': 'ជាដ', 'kcc[-3:-2]': 'ជា', 'kcc[+1]': 'ណ', 'kcc[+1]t': 'C', 'kcc[+1:0]': 'ំណ', 'ns+1': False, 'kcc[+2]': 'ោ', 'kcc[+2]t': 'W', 'kcc[+1:+2]': 'ណោ', 'kcc[0:+2]': 'ំណោ', 'ns+2': False, 'kcc[+3]': 'ះ', 'kcc[+3]t': 'W', 'kcc[+2:+3]': 'ោះ', 'kcc[+1:+3]': 'ណោះ', 'kcc[0:+3]': 'ំណោះ'}, {'kcc': 'ណ', 't': 'C', 'ns': False, 'kcc[-1]': 'ំ', 'kcc[-1]t': 'W', 'kcc[-1:0]': 'ំណ', 'ns-1': False, 'kcc[-2]': 'ដ', 'kcc[-2]t': 'C', 'kcc[-2:-1]': 'ដំ', 'kcc[-2:0]': 'ដំណ', 'kcc[-3]': 'ា', 'kcc[-3]t': 'W', 'kcc[-3:0]': 'ាដំណ', 'kcc[-3:-1]': 'ាដំ', 'kcc[-3:-2]': 'ាដ', 'kcc[+1]': 'ោ', 'kcc[+1]t': 'W', 'kcc[+1:0]': 'ណោ', 'ns+1': False, 'kcc[+2]': 'ះ', 'kcc[+2]t': 'W', 'kcc[+1:+2]': 'ោះ', 'kcc[0:+2]': 'ណោះ', 'ns+2': False, 'kcc[+3]': 'ស', 'kcc[+3]t': 'C', 'kcc[+2:+3]': 'ះស', 'kcc[+1:+3]': 'ោះស', 'kcc[0:+3]': 'ណោះស'}, {'kcc': 'ោ', 't': 'W', 'ns': False, 'kcc[-1]': 'ណ', 'kcc[-1]t': 'C', 'kcc[-1:0]': 'ណោ', 'ns-1': False, 'kcc[-2]': 'ំ', 'kcc[-2]t': 'W', 'kcc[-2:-1]': 'ំណ', 'kcc[-2:0]': 'ំណោ', 'kcc[-3]': 'ដ', 'kcc[-3]t': 'C', 'kcc[-3:0]': 'ដំណោ', 'kcc[-3:-1]': 'ដំណ', 'kcc[-3:-2]': 'ដំ', 'kcc[+1]': 'ះ', 'kcc[+1]t': 'W', 'kcc[+1:0]': 'ោះ', 'ns+1': False, 'kcc[+2]': 'ស', 'kcc[+2]t': 'C', 'kcc[+1:+2]': 'ះស', 'kcc[0:+2]': 'ោះស', 'ns+2': False, 'kcc[+3]': '្', 'kcc[+3]t': 'S', 'kcc[+2:+3]': 'ស្', 'kcc[+1:+3]': 'ះស្', 'kcc[0:+3]': 'ោះស្'}, {'kcc': 'ះ', 't': 'W', 'ns': False, 'kcc[-1]': 'ោ', 'kcc[-1]t': 'W', 'kcc[-1:0]': 'ោះ', 'ns-1': False, 'kcc[-2]': 'ណ', 'kcc[-2]t': 'C', 'kcc[-2:-1]': 'ណោ', 'kcc[-2:0]': 'ណោះ', 'kcc[-3]': 'ំ', 'kcc[-3]t': 'W', 'kcc[-3:0]': 'ំណោះ', 'kcc[-3:-1]': 'ំណោ', 'kcc[-3:-2]': 'ំណ', 'kcc[+1]': 'ស', 'kcc[+1]t': 'C', 'kcc[+1:0]': 'ះស', 'ns+1': False, 'kcc[+2]': '្', 'kcc[+2]t': 'S', 'kcc[+1:+2]': 'ស្', 'kcc[0:+2]': 'ះស្', 'ns+2': False, 'kcc[+3]': 'រ', 'kcc[+3]t': 'C', 'kcc[+2:+3]': '្រ', 'kcc[+1:+3]': 'ស្រ', 'kcc[0:+3]': 'ះស្រ'}, {'kcc': 'ស', 't': 'C', 'ns': False, 'kcc[-1]': 'ះ', 'kcc[-1]t': 'W', 'kcc[-1:0]': 'ះស', 'ns-1': False, 'kcc[-2]': 'ោ', 'kcc[-2]t': 'W', 'kcc[-2:-1]': 'ោះ', 'kcc[-2:0]': 'ោះស', 'kcc[-3]': 'ណ', 'kcc[-3]t': 'C', 'kcc[-3:0]': 'ណោះស', 'kcc[-3:-1]': 'ណោះ', 'kcc[-3:-2]': 'ណោ', 'kcc[+1]': '្', 'kcc[+1]t': 'S', 'kcc[+1:0]': 'ស្', 'ns+1': False, 'kcc[+2]': 'រ', 'kcc[+2]t': 'C', 'kcc[+1:+2]': '្រ', 'kcc[0:+2]': 'ស្រ', 'ns+2': False, 'kcc[+3]': 'ា', 'kcc[+3]t': 'W', 'kcc[+2:+3]': 'រា', 'kcc[+1:+3]': '្រា', 'kcc[0:+3]': 'ស្រា'}, {'kcc': '្', 't': 'S', 'ns': False, 'kcc[-1]': 'ស', 'kcc[-1]t': 'C', 'kcc[-1:0]': 'ស្', 'ns-1': False, 'kcc[-2]': 'ះ', 'kcc[-2]t': 'W', 'kcc[-2:-1]': 'ះស', 'kcc[-2:0]': 'ះស្', 'kcc[-3]': 'ោ', 'kcc[-3]t': 'W', 'kcc[-3:0]': 'ោះស្', 'kcc[-3:-1]': 'ោះស', 'kcc[-3:-2]': 'ោះ', 'kcc[+1]': 'រ', 'kcc[+1]t': 'C', 'kcc[+1:0]': '្រ', 'ns+1': False, 'kcc[+2]': 'ា', 'kcc[+2]t': 'W', 'kcc[+1:+2]': 'រា', 'kcc[0:+2]': '្រា', 'ns+2': False, 'kcc[+3]': 'យ', 'kcc[+3]t': 'C', 'kcc[+2:+3]': 'ាយ', 'kcc[+1:+3]': 'រាយ', 'kcc[0:+3]': '្រាយ'}, {'kcc': 'រ', 't': 'C', 'ns': False, 'kcc[-1]': '្', 'kcc[-1]t': 'S', 'kcc[-1:0]': '្រ', 'ns-1': False, 'kcc[-2]': 'ស', 'kcc[-2]t': 'C', 'kcc[-2:-1]': 'ស្', 'kcc[-2:0]': 'ស្រ', 'kcc[-3]': 'ះ', 'kcc[-3]t': 'W', 'kcc[-3:0]': 'ះស្រ', 'kcc[-3:-1]': 'ះស្', 'kcc[-3:-2]': 'ះស', 'kcc[+1]': 'ា', 'kcc[+1]t': 'W', 'kcc[+1:0]': 'រា', 'ns+1': False, 'kcc[+2]': 'យ', 'kcc[+2]t': 'C', 'kcc[+1:+2]': 'ាយ', 'kcc[0:+2]': 'រាយ', 'ns+2': False, 'kcc[+3]': 'ប', 'kcc[+3]t': 'C', 'kcc[+2:+3]': 'យប', 'kcc[+1:+3]': 'ាយប', 'kcc[0:+3]': 'រាយប'}, {'kcc': 'ា', 't': 'W', 'ns': False, 'kcc[-1]': 'រ', 'kcc[-1]t': 'C', 'kcc[-1:0]': 'រា', 'ns-1': False, 'kcc[-2]': '្', 'kcc[-2]t': 'S', 'kcc[-2:-1]': '្រ', 'kcc[-2:0]': '្រា', 'kcc[-3]': 'ស', 'kcc[-3]t': 'C', 'kcc[-3:0]': 'ស្រា', 'kcc[-3:-1]': 'ស្រ', 'kcc[-3:-2]': 'ស្', 'kcc[+1]': 'យ', 'kcc[+1]t': 'C', 'kcc[+1:0]': 'ាយ', 'ns+1': False, 'kcc[+2]': 'ប', 'kcc[+2]t': 'C', 'kcc[+1:+2]': 'យប', 'kcc[0:+2]': 'ាយប', 'ns+2': False, 'kcc[+3]': 'ណ', 'kcc[+3]t': 'C', 'kcc[+2:+3]': 'បណ', 'kcc[+1:+3]': 'យបណ', 'kcc[0:+3]': 'ាយបណ'}, {'kcc': 'យ', 't': 'C', 'ns': False, 'kcc[-1]': 'ា', 'kcc[-1]t': 'W', 'kcc[-1:0]': 'ាយ', 'ns-1': False, 'kcc[-2]': 'រ', 'kcc[-2]t': 'C', 'kcc[-2:-1]': 'រា', 'kcc[-2:0]': 'រាយ', 'kcc[-3]': '្', 'kcc[-3]t': 'S', 'kcc[-3:0]': '្រាយ', 'kcc[-3:-1]': '្រា', 'kcc[-3:-2]': '្រ', 'kcc[+1]': 'ប', 'kcc[+1]t': 'C', 'kcc[+1:0]': 'យប', 'ns+1': False, 'kcc[+2]': 'ណ', 'kcc[+2]t': 'C', 'kcc[+1:+2]': 'បណ', 'kcc[0:+2]': 'យបណ', 'ns+2': False, 'kcc[+3]': '្', 'kcc[+3]t': 'S', 'kcc[+2:+3]': 'ណ្', 'kcc[+1:+3]': 'បណ្', 'kcc[0:+3]': 'យបណ្'}, {'kcc': 'ប', 't': 'C', 'ns': False, 'kcc[-1]': 'យ', 'kcc[-1]t': 'C', 'kcc[-1:0]': 'យប', 'ns-1': False, 'kcc[-2]': 'ា', 'kcc[-2]t': 'W', 'kcc[-2:-1]': 'ាយ', 'kcc[-2:0]': 'ាយប', 'kcc[-3]': 'រ', 'kcc[-3]t': 'C', 'kcc[-3:0]': 'រាយប', 'kcc[-3:-1]': 'រាយ', 'kcc[-3:-2]': 'រា', 'kcc[+1]': 'ណ', 'kcc[+1]t': 'C', 'kcc[+1:0]': 'បណ', 'ns+1': False, 'kcc[+2]': '្', 'kcc[+2]t': 'S', 'kcc[+1:+2]': 'ណ្', 'kcc[0:+2]': 'បណ្', 'ns+2': False, 'kcc[+3]': 'ត', 'kcc[+3]t': 'C', 'kcc[+2:+3]': '្ត', 'kcc[+1:+3]': 'ណ្ត', 'kcc[0:+3]': 'បណ្ត'}, {'kcc': 'ណ', 't': 'C', 'ns': False, 'kcc[-1]': 'ប', 'kcc[-1]t': 'C', 'kcc[-1:0]': 'បណ', 'ns-1': False, 'kcc[-2]': 'យ', 'kcc[-2]t': 'C', 'kcc[-2:-1]': 'យប', 'kcc[-2:0]': 'យបណ', 'kcc[-3]': 'ា', 'kcc[-3]t': 'W', 'kcc[-3:0]': 'ាយបណ', 'kcc[-3:-1]': 'ាយប', 'kcc[-3:-2]': 'ាយ', 'kcc[+1]': '្', 'kcc[+1]t': 'S', 'kcc[+1:0]': 'ណ្', 'ns+1': False, 'kcc[+2]': 'ត', 'kcc[+2]t': 'C', 'kcc[+1:+2]': '្ត', 'kcc[0:+2]': 'ណ្ត', 'ns+2': False, 'kcc[+3]': 'ោ', 'kcc[+3]t': 'W', 'kcc[+2:+3]': 'តោ', 'kcc[+1:+3]': '្តោ', 'kcc[0:+3]': 'ណ្តោ'}, {'kcc': '្', 't': 'S', 'ns': False, 'kcc[-1]': 'ណ', 'kcc[-1]t': 'C', 'kcc[-1:0]': 'ណ្', 'ns-1': False, 'kcc[-2]': 'ប', 'kcc[-2]t': 'C', 'kcc[-2:-1]': 'បណ', 'kcc[-2:0]': 'បណ្', 'kcc[-3]': 'យ', 'kcc[-3]t': 'C', 'kcc[-3:0]': 'យបណ្', 'kcc[-3:-1]': 'យបណ', 'kcc[-3:-2]': 'យប', 'kcc[+1]': 'ត', 'kcc[+1]t': 'C', 'kcc[+1:0]': '្ត', 'ns+1': False, 'kcc[+2]': 'ោ', 'kcc[+2]t': 'W', 'kcc[+1:+2]': 'តោ', 'kcc[0:+2]': '្តោ', 'ns+2': False, 'kcc[+3]': 'ះ', 'kcc[+3]t': 'W', 'kcc[+2:+3]': 'ោះ', 'kcc[+1:+3]': 'តោះ', 'kcc[0:+3]': '្តោះ'}, {'kcc': 'ត', 't': 'C', 'ns': False, 'kcc[-1]': '្', 'kcc[-1]t': 'S', 'kcc[-1:0]': '្ត', 'ns-1': False, 'kcc[-2]': 'ណ', 'kcc[-2]t': 'C', 'kcc[-2:-1]': 'ណ្', 'kcc[-2:0]': 'ណ្ត', 'kcc[-3]': 'ប', 'kcc[-3]t': 'C', 'kcc[-3:0]': 'បណ្ត', 'kcc[-3:-1]': 'បណ្', 'kcc[-3:-2]': 'បណ', 'kcc[+1]': 'ោ', 'kcc[+1]t': 'W', 'kcc[+1:0]': 'តោ', 'ns+1': False, 'kcc[+2]': 'ះ', 'kcc[+2]t': 'W', 'kcc[+1:+2]': 'ោះ', 'kcc[0:+2]': 'តោះ', 'ns+2': False, 'kcc[+3]': 'អ', 'kcc[+3]t': 'C', 'kcc[+2:+3]': 'ះអ', 'kcc[+1:+3]': 'ោះអ', 'kcc[0:+3]': 'តោះអ'}, {'kcc': 'ោ', 't': 'W', 'ns': False, 'kcc[-1]': 'ត', 'kcc[-1]t': 'C', 'kcc[-1:0]': 'តោ', 'ns-1': False, 'kcc[-2]': '្', 'kcc[-2]t': 'S', 'kcc[-2:-1]': '្ត', 'kcc[-2:0]': '្តោ', 'kcc[-3]': 'ណ', 'kcc[-3]t': 'C', 'kcc[-3:0]': 'ណ្តោ', 'kcc[-3:-1]': 'ណ្ត', 'kcc[-3:-2]': 'ណ្', 'kcc[+1]': 'ះ', 'kcc[+1]t': 'W', 'kcc[+1:0]': 'ោះ', 'ns+1': False, 'kcc[+2]': 'អ', 'kcc[+2]t': 'C', 'kcc[+1:+2]': 'ះអ', 'kcc[0:+2]': 'ោះអ', 'ns+2': False, 'kcc[+3]': 'ា', 'kcc[+3]t': 'W', 'kcc[+2:+3]': 'អា', 'kcc[+1:+3]': 'ះអា', 'kcc[0:+3]': 'ោះអា'}, {'kcc': 'ះ', 't': 'W', 'ns': False, 'kcc[-1]': 'ោ', 'kcc[-1]t': 'W', 'kcc[-1:0]': 'ោះ', 'ns-1': False, 'kcc[-2]': 'ត', 'kcc[-2]t': 'C', 'kcc[-2:-1]': 'តោ', 'kcc[-2:0]': 'តោះ', 'kcc[-3]': '្', 'kcc[-3]t': 'S', 'kcc[-3:0]': '្តោះ', 'kcc[-3:-1]': '្តោ', 'kcc[-3:-2]': '្ត', 'kcc[+1]': 'អ', 'kcc[+1]t': 'C', 'kcc[+1:0]': 'ះអ', 'ns+1': False, 'kcc[+2]': 'ា', 'kcc[+2]t': 'W', 'kcc[+1:+2]': 'អា', 'kcc[0:+2]': 'ះអា', 'ns+2': False, 'kcc[+3]': 'ស', 'kcc[+3]t': 'C', 'kcc[+2:+3]': 'ាស', 'kcc[+1:+3]': 'អាស', 'kcc[0:+3]': 'ះអាស'}, {'kcc': 'អ', 't': 'C', 'ns': False, 'kcc[-1]': 'ះ', 'kcc[-1]t': 'W', 'kcc[-1:0]': 'ះអ', 'ns-1': False, 'kcc[-2]': 'ោ', 'kcc[-2]t': 'W', 'kcc[-2:-1]': 'ោះ', 'kcc[-2:0]': 'ោះអ', 'kcc[-3]': 'ត', 'kcc[-3]t': 'C', 'kcc[-3:0]': 'តោះអ', 'kcc[-3:-1]': 'តោះ', 'kcc[-3:-2]': 'តោ', 'kcc[+1]': 'ា', 'kcc[+1]t': 'W', 'kcc[+1:0]': 'អា', 'ns+1': False, 'kcc[+2]': 'ស', 'kcc[+2]t': 'C', 'kcc[+1:+2]': 'ាស', 'kcc[0:+2]': 'អាស', 'ns+2': False, 'kcc[+3]': 'ន', 'kcc[+3]t': 'C', 'kcc[+2:+3]': 'សន', 'kcc[+1:+3]': 'ាសន', 'kcc[0:+3]': 'អាសន'}, {'kcc': 'ា', 't': 'W', 'ns': False, 'kcc[-1]': 'អ', 'kcc[-1]t': 'C', 'kcc[-1:0]': 'អា', 'ns-1': False, 'kcc[-2]': 'ះ', 'kcc[-2]t': 'W', 'kcc[-2:-1]': 'ះអ', 'kcc[-2:0]': 'ះអា', 'kcc[-3]': 'ោ', 'kcc[-3]t': 'W', 'kcc[-3:0]': 'ោះអា', 'kcc[-3:-1]': 'ោះអ', 'kcc[-3:-2]': 'ោះ', 'kcc[+1]': 'ស', 'kcc[+1]t': 'C', 'kcc[+1:0]': 'ាស', 'ns+1': False, 'kcc[+2]': 'ន', 'kcc[+2]t': 'C', 'kcc[+1:+2]': 'សន', 'kcc[0:+2]': 'ាសន', 'ns+2': False, 'kcc[+3]': '្', 'kcc[+3]t': 'S', 'kcc[+2:+3]': 'ន្', 'kcc[+1:+3]': 'សន្', 'kcc[0:+3]': 'ាសន្'}, {'kcc': 'ស', 't': 'C', 'ns': False, 'kcc[-1]': 'ា', 'kcc[-1]t': 'W', 'kcc[-1:0]': 'ាស', 'ns-1': False, 'kcc[-2]': 'អ', 'kcc[-2]t': 'C', 'kcc[-2:-1]': 'អា', 'kcc[-2:0]': 'អាស', 'kcc[-3]': 'ះ', 'kcc[-3]t': 'W', 'kcc[-3:0]': 'ះអាស', 'kcc[-3:-1]': 'ះអា', 'kcc[-3:-2]': 'ះអ', 'kcc[+1]': 'ន', 'kcc[+1]t': 'C', 'kcc[+1:0]': 'សន', 'ns+1': False, 'kcc[+2]': '្', 'kcc[+2]t': 'S', 'kcc[+1:+2]': 'ន្', 'kcc[0:+2]': 'សន្', 'ns+2': False, 'kcc[+3]': 'ន', 'kcc[+3]t': 'C', 'kcc[+2:+3]': '្ន', 'kcc[+1:+3]': 'ន្ន', 'kcc[0:+3]': 'សន្ន'}, {'kcc': 'ន', 't': 'C', 'ns': False, 'kcc[-1]': 'ស', 'kcc[-1]t': 'C', 'kcc[-1:0]': 'សន', 'ns-1': False, 'kcc[-2]': 'ា', 'kcc[-2]t': 'W', 'kcc[-2:-1]': 'ាស', 'kcc[-2:0]': 'ាសន', 'kcc[-3]': 'អ', 'kcc[-3]t': 'C', 'kcc[-3:0]': 'អាសន', 'kcc[-3:-1]': 'អាស', 'kcc[-3:-2]': 'អា', 'kcc[+1]': '្', 'kcc[+1]t': 'S', 'kcc[+1:0]': 'ន្', 'ns+1': False, 'kcc[+2]': 'ន', 'kcc[+2]t': 'C', 'kcc[+1:+2]': '្ន', 'kcc[0:+2]': 'ន្ន', 'ns+2': False, 'kcc[+3]': 'ម', 'kcc[+3]t': 'C', 'kcc[+2:+3]': 'នម', 'kcc[+1:+3]': '្នម', 'kcc[0:+3]': 'ន្នម'}, {'kcc': '្', 't': 'S', 'ns': False, 'kcc[-1]': 'ន', 'kcc[-1]t': 'C', 'kcc[-1:0]': 'ន្', 'ns-1': False, 'kcc[-2]': 'ស', 'kcc[-2]t': 'C', 'kcc[-2:-1]': 'សន', 'kcc[-2:0]': 'សន្', 'kcc[-3]': 'ា', 'kcc[-3]t': 'W', 'kcc[-3:0]': 'ាសន្', 'kcc[-3:-1]': 'ាសន', 'kcc[-3:-2]': 'ាស', 'kcc[+1]': 'ន', 'kcc[+1]t': 'C', 'kcc[+1:0]': '្ន', 'ns+1': False, 'kcc[+2]': 'ម', 'kcc[+2]t': 'C', 'kcc[+1:+2]': 'នម', 'kcc[0:+2]': '្នម', 'ns+2': False, 'kcc[+3]': 'ួ', 'kcc[+3]t': 'W', 'kcc[+2:+3]': 'មួ', 'kcc[+1:+3]': 'នមួ', 'kcc[0:+3]': '្នមួ'}, {'kcc': 'ន', 't': 'C', 'ns': False, 'kcc[-1]': '្', 'kcc[-1]t': 'S', 'kcc[-1:0]': '្ន', 'ns-1': False, 'kcc[-2]': 'ន', 'kcc[-2]t': 'C', 'kcc[-2:-1]': 'ន្', 'kcc[-2:0]': 'ន្ន', 'kcc[-3]': 'ស', 'kcc[-3]t': 'C', 'kcc[-3:0]': 'សន្ន', 'kcc[-3:-1]': 'សន្', 'kcc[-3:-2]': 'សន', 'kcc[+1]': 'ម', 'kcc[+1]t': 'C', 'kcc[+1:0]': 'នម', 'ns+1': False, 'kcc[+2]': 'ួ', 'kcc[+2]t': 'W', 'kcc[+1:+2]': 'មួ', 'kcc[0:+2]': 'នមួ', 'ns+2': False, 'kcc[+3]': 'យ', 'kcc[+3]t': 'C', 'kcc[+2:+3]': 'ួយ', 'kcc[+1:+3]': 'មួយ', 'kcc[0:+3]': 'នមួយ'}, {'kcc': 'ម', 't': 'C', 'ns': False, 'kcc[-1]': 'ន', 'kcc[-1]t': 'C', 'kcc[-1:0]': 'នម', 'ns-1': False, 'kcc[-2]': '្', 'kcc[-2]t': 'S', 'kcc[-2:-1]': '្ន', 'kcc[-2:0]': '្នម', 'kcc[-3]': 'ន', 'kcc[-3]t': 'C', 'kcc[-3:0]': 'ន្នម', 'kcc[-3:-1]': 'ន្ន', 'kcc[-3:-2]': 'ន្', 'kcc[+1]': 'ួ', 'kcc[+1]t': 'W', 'kcc[+1:0]': 'មួ', 'ns+1': False, 'kcc[+2]': 'យ', 'kcc[+2]t': 'C', 'kcc[+1:+2]': 'ួយ', 'kcc[0:+2]': 'មួយ', 'ns+2': False, 'kcc[+3]': 'ដ', 'kcc[+3]t': 'C', 'kcc[+2:+3]': 'យដ', 'kcc[+1:+3]': 'ួយដ', 'kcc[0:+3]': 'មួយដ'}, {'kcc': 'ួ', 't': 'W', 'ns': False, 'kcc[-1]': 'ម', 'kcc[-1]t': 'C', 'kcc[-1:0]': 'មួ', 'ns-1': False, 'kcc[-2]': 'ន', 'kcc[-2]t': 'C', 'kcc[-2:-1]': 'នម', 'kcc[-2:0]': 'នមួ', 'kcc[-3]': '្', 'kcc[-3]t': 'S', 'kcc[-3:0]': '្នមួ', 'kcc[-3:-1]': '្នម', 'kcc[-3:-2]': '្ន', 'kcc[+1]': 'យ', 'kcc[+1]t': 'C', 'kcc[+1:0]': 'ួយ', 'ns+1': False, 'kcc[+2]': 'ដ', 'kcc[+2]t': 'C', 'kcc[+1:+2]': 'យដ', 'kcc[0:+2]': 'ួយដ', 'ns+2': False, 'kcc[+3]': 'ំ', 'kcc[+3]t': 'W', 'kcc[+2:+3]': 'ដំ', 'kcc[+1:+3]': 'យដំ', 'kcc[0:+3]': 'ួយដំ'}, {'kcc': 'យ', 't': 'C', 'ns': False, 'kcc[-1]': 'ួ', 'kcc[-1]t': 'W', 'kcc[-1:0]': 'ួយ', 'ns-1': False, 'kcc[-2]': 'ម', 'kcc[-2]t': 'C', 'kcc[-2:-1]': 'មួ', 'kcc[-2:0]': 'មួយ', 'kcc[-3]': 'ន', 'kcc[-3]t': 'C', 'kcc[-3:0]': 'នមួយ', 'kcc[-3:-1]': 'នមួ', 'kcc[-3:-2]': 'នម', 'kcc[+1]': 'ដ', 'kcc[+1]t': 'C', 'kcc[+1:0]': 'យដ', 'ns+1': False, 'kcc[+2]': 'ំ', 'kcc[+2]t': 'W', 'kcc[+1:+2]': 'ដំ', 'kcc[0:+2]': 'យដំ', 'ns+2': False, 'kcc[+3]': 'ណ', 'kcc[+3]t': 'C', 'kcc[+2:+3]': 'ំណ', 'kcc[+1:+3]': 'ដំណ', 'kcc[0:+3]': 'យដំណ'}, {'kcc': 'ដ', 't': 'C', 'ns': False, 'kcc[-1]': 'យ', 'kcc[-1]t': 'C', 'kcc[-1:0]': 'យដ', 'ns-1': False, 'kcc[-2]': 'ួ', 'kcc[-2]t': 'W', 'kcc[-2:-1]': 'ួយ', 'kcc[-2:0]': 'ួយដ', 'kcc[-3]': 'ម', 'kcc[-3]t': 'C', 'kcc[-3:0]': 'មួយដ', 'kcc[-3:-1]': 'មួយ', 'kcc[-3:-2]': 'មួ', 'kcc[+1]': 'ំ', 'kcc[+1]t': 'W', 'kcc[+1:0]': 'ដំ', 'ns+1': False, 'kcc[+2]': 'ណ', 'kcc[+2]t': 'C', 'kcc[+1:+2]': 'ំណ', 'kcc[0:+2]': 'ដំណ', 'ns+2': False, 'kcc[+3]': 'ោ', 'kcc[+3]t': 'W', 'kcc[+2:+3]': 'ណោ', 'kcc[+1:+3]': 'ំណោ', 'kcc[0:+3]': 'ដំណោ'}, {'kcc': 'ំ', 't': 'W', 'ns': False, 'kcc[-1]': 'ដ', 'kcc[-1]t': 'C', 'kcc[-1:0]': 'ដំ', 'ns-1': False, 'kcc[-2]': 'យ', 'kcc[-2]t': 'C', 'kcc[-2:-1]': 'យដ', 'kcc[-2:0]': 'យដំ', 'kcc[-3]': 'ួ', 'kcc[-3]t': 'W', 'kcc[-3:0]': 'ួយដំ', 'kcc[-3:-1]': 'ួយដ', 'kcc[-3:-2]': 'ួយ', 'kcc[+1]': 'ណ', 'kcc[+1]t': 'C', 'kcc[+1:0]': 'ំណ', 'ns+1': False, 'kcc[+2]': 'ោ', 'kcc[+2]t': 'W', 'kcc[+1:+2]': 'ណោ', 'kcc[0:+2]': 'ំណោ', 'ns+2': False, 'kcc[+3]': 'ះ', 'kcc[+3]t': 'W', 'kcc[+2:+3]': 'ោះ', 'kcc[+1:+3]': 'ណោះ', 'kcc[0:+3]': 'ំណោះ'}, {'kcc': 'ណ', 't': 'C', 'ns': False, 'kcc[-1]': 'ំ', 'kcc[-1]t': 'W', 'kcc[-1:0]': 'ំណ', 'ns-1': False, 'kcc[-2]': 'ដ', 'kcc[-2]t': 'C', 'kcc[-2:-1]': 'ដំ', 'kcc[-2:0]': 'ដំណ', 'kcc[-3]': 'យ', 'kcc[-3]t': 'C', 'kcc[-3:0]': 'យដំណ', 'kcc[-3:-1]': 'យដំ', 'kcc[-3:-2]': 'យដ', 'kcc[+1]': 'ោ', 'kcc[+1]t': 'W', 'kcc[+1:0]': 'ណោ', 'ns+1': False, 'kcc[+2]': 'ះ', 'kcc[+2]t': 'W', 'kcc[+1:+2]': 'ោះ', 'kcc[0:+2]': 'ណោះ', 'ns+2': False, 'kcc[+3]': 'ស', 'kcc[+3]t': 'C', 'kcc[+2:+3]': 'ះស', 'kcc[+1:+3]': 'ោះស', 'kcc[0:+3]': 'ណោះស'}, {'kcc': 'ោ', 't': 'W', 'ns': False, 'kcc[-1]': 'ណ', 'kcc[-1]t': 'C', 'kcc[-1:0]': 'ណោ', 'ns-1': False, 'kcc[-2]': 'ំ', 'kcc[-2]t': 'W', 'kcc[-2:-1]': 'ំណ', 'kcc[-2:0]': 'ំណោ', 'kcc[-3]': 'ដ', 'kcc[-3]t': 'C', 'kcc[-3:0]': 'ដំណោ', 'kcc[-3:-1]': 'ដំណ', 'kcc[-3:-2]': 'ដំ', 'kcc[+1]': 'ះ', 'kcc[+1]t': 'W', 'kcc[+1:0]': 'ោះ', 'ns+1': False, 'kcc[+2]': 'ស', 'kcc[+2]t': 'C', 'kcc[+1:+2]': 'ះស', 'kcc[0:+2]': 'ោះស', 'ns+2': False, 'kcc[+3]': '្', 'kcc[+3]t': 'S', 'kcc[+2:+3]': 'ស្', 'kcc[+1:+3]': 'ះស្', 'kcc[0:+3]': 'ោះស្'}, {'kcc': 'ះ', 't': 'W', 'ns': False, 'kcc[-1]': 'ោ', 'kcc[-1]t': 'W', 'kcc[-1:0]': 'ោះ', 'ns-1': False, 'kcc[-2]': 'ណ', 'kcc[-2]t': 'C', 'kcc[-2:-1]': 'ណោ', 'kcc[-2:0]': 'ណោះ', 'kcc[-3]': 'ំ', 'kcc[-3]t': 'W', 'kcc[-3:0]': 'ំណោះ', 'kcc[-3:-1]': 'ំណោ', 'kcc[-3:-2]': 'ំណ', 'kcc[+1]': 'ស', 'kcc[+1]t': 'C', 'kcc[+1:0]': 'ះស', 'ns+1': False, 'kcc[+2]': '្', 'kcc[+2]t': 'S', 'kcc[+1:+2]': 'ស្', 'kcc[0:+2]': 'ះស្', 'ns+2': False, 'kcc[+3]': 'រ', 'kcc[+3]t': 'C', 'kcc[+2:+3]': '្រ', 'kcc[+1:+3]': 'ស្រ', 'kcc[0:+3]': 'ះស្រ'}, {'kcc': 'ស', 't': 'C', 'ns': False, 'kcc[-1]': 'ះ', 'kcc[-1]t': 'W', 'kcc[-1:0]': 'ះស', 'ns-1': False, 'kcc[-2]': 'ោ', 'kcc[-2]t': 'W', 'kcc[-2:-1]': 'ោះ', 'kcc[-2:0]': 'ោះស', 'kcc[-3]': 'ណ', 'kcc[-3]t': 'C', 'kcc[-3:0]': 'ណោះស', 'kcc[-3:-1]': 'ណោះ', 'kcc[-3:-2]': 'ណោ', 'kcc[+1]': '្', 'kcc[+1]t': 'S', 'kcc[+1:0]': 'ស្', 'ns+1': False, 'kcc[+2]': 'រ', 'kcc[+2]t': 'C', 'kcc[+1:+2]': '្រ', 'kcc[0:+2]': 'ស្រ', 'ns+2': False, 'kcc[+3]': 'ា', 'kcc[+3]t': 'W', 'kcc[+2:+3]': 'រា', 'kcc[+1:+3]': '្រា', 'kcc[0:+3]': 'ស្រា'}, {'kcc': '្', 't': 'S', 'ns': False, 'kcc[-1]': 'ស', 'kcc[-1]t': 'C', 'kcc[-1:0]': 'ស្', 'ns-1': False, 'kcc[-2]': 'ះ', 'kcc[-2]t': 'W', 'kcc[-2:-1]': 'ះស', 'kcc[-2:0]': 'ះស្', 'kcc[-3]': 'ោ', 'kcc[-3]t': 'W', 'kcc[-3:0]': 'ោះស្', 'kcc[-3:-1]': 'ោះស', 'kcc[-3:-2]': 'ោះ', 'kcc[+1]': 'រ', 'kcc[+1]t': 'C', 'kcc[+1:0]': '្រ', 'ns+1': False, 'kcc[+2]': 'ា', 'kcc[+2]t': 'W', 'kcc[+1:+2]': 'រា', 'kcc[0:+2]': '្រា', 'ns+2': False, 'kcc[+3]': 'យ', 'kcc[+3]t': 'C', 'kcc[+2:+3]': 'ាយ', 'kcc[+1:+3]': 'រាយ', 'kcc[0:+3]': '្រាយ'}, {'kcc': 'រ', 't': 'C', 'ns': False, 'kcc[-1]': '្', 'kcc[-1]t': 'S', 'kcc[-1:0]': '្រ', 'ns-1': False, 'kcc[-2]': 'ស', 'kcc[-2]t': 'C', 'kcc[-2:-1]': 'ស្', 'kcc[-2:0]': 'ស្រ', 'kcc[-3]': 'ះ', 'kcc[-3]t': 'W', 'kcc[-3:0]': 'ះស្រ', 'kcc[-3:-1]': 'ះស្', 'kcc[-3:-2]': 'ះស', 'kcc[+1]': 'ា', 'kcc[+1]t': 'W', 'kcc[+1:0]': 'រា', 'ns+1': False, 'kcc[+2]': 'យ', 'kcc[+2]t': 'C', 'kcc[+1:+2]': 'ាយ', 'kcc[0:+2]': 'រាយ', 'ns+2': False, 'kcc[+3]': 'យ', 'kcc[+3]t': 'C', 'kcc[+2:+3]': 'យយ', 'kcc[+1:+3]': 'ាយយ', 'kcc[0:+3]': 'រាយយ'}, {'kcc': 'ា', 't': 'W', 'ns': False, 'kcc[-1]': 'រ', 'kcc[-1]t': 'C', 'kcc[-1:0]': 'រា', 'ns-1': False, 'kcc[-2]': '្', 'kcc[-2]t': 'S', 'kcc[-2:-1]': '្រ', 'kcc[-2:0]': '្រា', 'kcc[-3]': 'ស', 'kcc[-3]t': 'C', 'kcc[-3:0]': 'ស្រា', 'kcc[-3:-1]': 'ស្រ', 'kcc[-3:-2]': 'ស្', 'kcc[+1]': 'យ', 'kcc[+1]t': 'C', 'kcc[+1:0]': 'ាយ', 'ns+1': False, 'kcc[+2]': 'យ', 'kcc[+2]t': 'C', 'kcc[+1:+2]': 'យយ', 'kcc[0:+2]': 'ាយយ', 'ns+2': False, 'kcc[+3]': 'ូ', 'kcc[+3]t': 'W', 'kcc[+2:+3]': 'យូ', 'kcc[+1:+3]': 'យយូ', 'kcc[0:+3]': 'ាយយូ'}, {'kcc': 'យ', 't': 'C', 'ns': False, 'kcc[-1]': 'ា', 'kcc[-1]t': 'W', 'kcc[-1:0]': 'ាយ', 'ns-1': False, 'kcc[-2]': 'រ', 'kcc[-2]t': 'C', 'kcc[-2:-1]': 'រា', 'kcc[-2:0]': 'រាយ', 'kcc[-3]': '្', 'kcc[-3]t': 'S', 'kcc[-3:0]': '្រាយ', 'kcc[-3:-1]': '្រា', 'kcc[-3:-2]': '្រ', 'kcc[+1]': 'យ', 'kcc[+1]t': 'C', 'kcc[+1:0]': 'យយ', 'ns+1': False, 'kcc[+2]': 'ូ', 'kcc[+2]t': 'W', 'kcc[+1:+2]': 'យូ', 'kcc[0:+2]': 'យយូ', 'ns+2': False, 'kcc[+3]': 'រ', 'kcc[+3]t': 'C', 'kcc[+2:+3]': 'ូរ', 'kcc[+1:+3]': 'យូរ', 'kcc[0:+3]': 'យយូរ'}, {'kcc': 'យ', 't': 'C', 'ns': False, 'kcc[-1]': 'យ', 'kcc[-1]t': 'C', 'kcc[-1:0]': 'យយ', 'ns-1': False, 'kcc[-2]': 'ា', 'kcc[-2]t': 'W', 'kcc[-2:-1]': 'ាយ', 'kcc[-2:0]': 'ាយយ', 'kcc[-3]': 'រ', 'kcc[-3]t': 'C', 'kcc[-3:0]': 'រាយយ', 'kcc[-3:-1]': 'រាយ', 'kcc[-3:-2]': 'រា', 'kcc[+1]': 'ូ', 'kcc[+1]t': 'W', 'kcc[+1:0]': 'យូ', 'ns+1': False, 'kcc[+2]': 'រ', 'kcc[+2]t': 'C', 'kcc[+1:+2]': 'ូរ', 'kcc[0:+2]': 'យូរ', 'ns+2': False, 'kcc[+3]': 'អ', 'kcc[+3]t': 'C', 'kcc[+2:+3]': 'រអ', 'kcc[+1:+3]': 'ូរអ', 'kcc[0:+3]': 'យូរអ'}, {'kcc': 'ូ', 't': 'W', 'ns': False, 'kcc[-1]': 'យ', 'kcc[-1]t': 'C', 'kcc[-1:0]': 'យូ', 'ns-1': False, 'kcc[-2]': 'យ', 'kcc[-2]t': 'C', 'kcc[-2:-1]': 'យយ', 'kcc[-2:0]': 'យយូ', 'kcc[-3]': 'ា', 'kcc[-3]t': 'W', 'kcc[-3:0]': 'ាយយូ', 'kcc[-3:-1]': 'ាយយ', 'kcc[-3:-2]': 'ាយ', 'kcc[+1]': 'រ', 'kcc[+1]t': 'C', 'kcc[+1:0]': 'ូរ', 'ns+1': False, 'kcc[+2]': 'អ', 'kcc[+2]t': 'C', 'kcc[+1:+2]': 'រអ', 'kcc[0:+2]': 'ូរអ', 'ns+2': False, 'kcc[+3]': 'ង', 'kcc[+3]t': 'C', 'kcc[+2:+3]': 'អង', 'kcc[+1:+3]': 'រអង', 'kcc[0:+3]': 'ូរអង'}, {'kcc': 'រ', 't': 'C', 'ns': False, 'kcc[-1]': 'ូ', 'kcc[-1]t': 'W', 'kcc[-1:0]': 'ូរ', 'ns-1': False, 'kcc[-2]': 'យ', 'kcc[-2]t': 'C', 'kcc[-2:-1]': 'យូ', 'kcc[-2:0]': 'យូរ', 'kcc[-3]': 'យ', 'kcc[-3]t': 'C', 'kcc[-3:0]': 'យយូរ', 'kcc[-3:-1]': 'យយូ', 'kcc[-3:-2]': 'យយ', 'kcc[+1]': 'អ', 'kcc[+1]t': 'C', 'kcc[+1:0]': 'រអ', 'ns+1': False, 'kcc[+2]': 'ង', 'kcc[+2]t': 'C', 'kcc[+1:+2]': 'អង', 'kcc[0:+2]': 'រអង', 'ns+2': False, 'kcc[+3]': '្', 'kcc[+3]t': 'S', 'kcc[+2:+3]': 'ង្', 'kcc[+1:+3]': 'អង្', 'kcc[0:+3]': 'រអង្'}, {'kcc': 'អ', 't': 'C', 'ns': False, 'kcc[-1]': 'រ', 'kcc[-1]t': 'C', 'kcc[-1:0]': 'រអ', 'ns-1': False, 'kcc[-2]': 'ូ', 'kcc[-2]t': 'W', 'kcc[-2:-1]': 'ូរ', 'kcc[-2:0]': 'ូរអ', 'kcc[-3]': 'យ', 'kcc[-3]t': 'C', 'kcc[-3:0]': 'យូរអ', 'kcc[-3:-1]': 'យូរ', 'kcc[-3:-2]': 'យូ', 'kcc[+1]': 'ង', 'kcc[+1]t': 'C', 'kcc[+1:0]': 'អង', 'ns+1': False, 'kcc[+2]': '្', 'kcc[+2]t': 'S', 'kcc[+1:+2]': 'ង្', 'kcc[0:+2]': 'អង្', 'ns+2': False, 'kcc[+3]': 'វ', 'kcc[+3]t': 'C', 'kcc[+2:+3]': '្វ', 'kcc[+1:+3]': 'ង្វ', 'kcc[0:+3]': 'អង្វ'}, {'kcc': 'ង', 't': 'C', 'ns': False, 'kcc[-1]': 'អ', 'kcc[-1]t': 'C', 'kcc[-1:0]': 'អង', 'ns-1': False, 'kcc[-2]': 'រ', 'kcc[-2]t': 'C', 'kcc[-2:-1]': 'រអ', 'kcc[-2:0]': 'រអង', 'kcc[-3]': 'ូ', 'kcc[-3]t': 'W', 'kcc[-3:0]': 'ូរអង', 'kcc[-3:-1]': 'ូរអ', 'kcc[-3:-2]': 'ូរ', 'kcc[+1]': '្', 'kcc[+1]t': 'S', 'kcc[+1:0]': 'ង្', 'ns+1': False, 'kcc[+2]': 'វ', 'kcc[+2]t': 'C', 'kcc[+1:+2]': '្វ', 'kcc[0:+2]': 'ង្វ', 'ns+2': False, 'kcc[+3]': 'ែ', 'kcc[+3]t': 'W', 'kcc[+2:+3]': 'វែ', 'kcc[+1:+3]': '្វែ', 'kcc[0:+3]': 'ង្វែ'}, {'kcc': '្', 't': 'S', 'ns': False, 'kcc[-1]': 'ង', 'kcc[-1]t': 'C', 'kcc[-1:0]': 'ង្', 'ns-1': False, 'kcc[-2]': 'អ', 'kcc[-2]t': 'C', 'kcc[-2:-1]': 'អង', 'kcc[-2:0]': 'អង្', 'kcc[-3]': 'រ', 'kcc[-3]t': 'C', 'kcc[-3:0]': 'រអង្', 'kcc[-3:-1]': 'រអង', 'kcc[-3:-2]': 'រអ', 'kcc[+1]': 'វ', 'kcc[+1]t': 'C', 'kcc[+1:0]': '្វ', 'ns+1': False, 'kcc[+2]': 'ែ', 'kcc[+2]t': 'W', 'kcc[+1:+2]': 'វែ', 'kcc[0:+2]': '្វែ', 'ns+2': False, 'kcc[+3]': 'ង', 'kcc[+3]t': 'C', 'kcc[+2:+3]': 'ែង', 'kcc[+1:+3]': 'វែង', 'kcc[0:+3]': '្វែង'}, {'kcc': 'វ', 't': 'C', 'ns': False, 'kcc[-1]': '្', 'kcc[-1]t': 'S', 'kcc[-1:0]': '្វ', 'ns-1': False, 'kcc[-2]': 'ង', 'kcc[-2]t': 'C', 'kcc[-2:-1]': 'ង្', 'kcc[-2:0]': 'ង្វ', 'kcc[-3]': 'អ', 'kcc[-3]t': 'C', 'kcc[-3:0]': 'អង្វ', 'kcc[-3:-1]': 'អង្', 'kcc[-3:-2]': 'អង', 'kcc[+1]': 'ែ', 'kcc[+1]t': 'W', 'kcc[+1:0]': 'វែ', 'ns+1': False, 'kcc[+2]': 'ង', 'kcc[+2]t': 'C', 'kcc[+1:+2]': 'ែង', 'kcc[0:+2]': 'វែង', 'ns+2': False, 'kcc[+3]': 'គ', 'kcc[+3]t': 'C', 'kcc[+2:+3]': 'ងគ', 'kcc[+1:+3]': 'ែងគ', 'kcc[0:+3]': 'វែងគ'}, {'kcc': 'ែ', 't': 'W', 'ns': False, 'kcc[-1]': 'វ', 'kcc[-1]t': 'C', 'kcc[-1:0]': 'វែ', 'ns-1': False, 'kcc[-2]': '្', 'kcc[-2]t': 'S', 'kcc[-2:-1]': '្វ', 'kcc[-2:0]': '្វែ', 'kcc[-3]': 'ង', 'kcc[-3]t': 'C', 'kcc[-3:0]': 'ង្វែ', 'kcc[-3:-1]': 'ង្វ', 'kcc[-3:-2]': 'ង្', 'kcc[+1]': 'ង', 'kcc[+1]t': 'C', 'kcc[+1:0]': 'ែង', 'ns+1': False, 'kcc[+2]': 'គ', 'kcc[+2]t': 'C', 'kcc[+1:+2]': 'ងគ', 'kcc[0:+2]': 'ែងគ', 'ns+2': False, 'kcc[+3]': 'ឺ', 'kcc[+3]t': 'W', 'kcc[+2:+3]': 'គឺ', 'kcc[+1:+3]': 'ងគឺ', 'kcc[0:+3]': 'ែងគឺ'}, {'kcc': 'ង', 't': 'C', 'ns': False, 'kcc[-1]': 'ែ', 'kcc[-1]t': 'W', 'kcc[-1:0]': 'ែង', 'ns-1': False, 'kcc[-2]': 'វ', 'kcc[-2]t': 'C', 'kcc[-2:-1]': 'វែ', 'kcc[-2:0]': 'វែង', 'kcc[-3]': '្', 'kcc[-3]t': 'S', 'kcc[-3:0]': '្វែង', 'kcc[-3:-1]': '្វែ', 'kcc[-3:-2]': '្វ', 'kcc[+1]': 'គ', 'kcc[+1]t': 'C', 'kcc[+1:0]': 'ងគ', 'ns+1': False, 'kcc[+2]': 'ឺ', 'kcc[+2]t': 'W', 'kcc[+1:+2]': 'គឺ', 'kcc[0:+2]': 'ងគឺ', 'ns+2': False, 'kcc[+3]': 'ក', 'kcc[+3]t': 'C', 'kcc[+2:+3]': 'ឺក', 'kcc[+1:+3]': 'គឺក', 'kcc[0:+3]': 'ងគឺក'}, {'kcc': 'គ', 't': 'C', 'ns': False, 'kcc[-1]': 'ង', 'kcc[-1]t': 'C', 'kcc[-1:0]': 'ងគ', 'ns-1': False, 'kcc[-2]': 'ែ', 'kcc[-2]t': 'W', 'kcc[-2:-1]': 'ែង', 'kcc[-2:0]': 'ែងគ', 'kcc[-3]': 'វ', 'kcc[-3]t': 'C', 'kcc[-3:0]': 'វែងគ', 'kcc[-3:-1]': 'វែង', 'kcc[-3:-2]': 'វែ', 'kcc[+1]': 'ឺ', 'kcc[+1]t': 'W', 'kcc[+1:0]': 'គឺ', 'ns+1': False, 'kcc[+2]': 'ក', 'kcc[+2]t': 'C', 'kcc[+1:+2]': 'ឺក', 'kcc[0:+2]': 'គឺក', 'ns+2': False, 'kcc[+3]': 'ា', 'kcc[+3]t': 'W', 'kcc[+2:+3]': 'កា', 'kcc[+1:+3]': 'ឺកា', 'kcc[0:+3]': 'គឺកា'}, {'kcc': 'ឺ', 't': 'W', 'ns': False, 'kcc[-1]': 'គ', 'kcc[-1]t': 'C', 'kcc[-1:0]': 'គឺ', 'ns-1': False, 'kcc[-2]': 'ង', 'kcc[-2]t': 'C', 'kcc[-2:-1]': 'ងគ', 'kcc[-2:0]': 'ងគឺ', 'kcc[-3]': 'ែ', 'kcc[-3]t': 'W', 'kcc[-3:0]': 'ែងគឺ', 'kcc[-3:-1]': 'ែងគ', 'kcc[-3:-2]': 'ែង', 'kcc[+1]': 'ក', 'kcc[+1]t': 'C', 'kcc[+1:0]': 'ឺក', 'ns+1': False, 'kcc[+2]': 'ា', 'kcc[+2]t': 'W', 'kcc[+1:+2]': 'កា', 'kcc[0:+2]': 'ឺកា', 'ns+2': False, 'kcc[+3]': 'ត', 'kcc[+3]t': 'C', 'kcc[+2:+3]': 'ាត', 'kcc[+1:+3]': 'កាត', 'kcc[0:+3]': 'ឺកាត'}, {'kcc': 'ក', 't': 'C', 'ns': False, 'kcc[-1]': 'ឺ', 'kcc[-1]t': 'W', 'kcc[-1:0]': 'ឺក', 'ns-1': False, 'kcc[-2]': 'គ', 'kcc[-2]t': 'C', 'kcc[-2:-1]': 'គឺ', 'kcc[-2:0]': 'គឺក', 'kcc[-3]': 'ង', 'kcc[-3]t': 'C', 'kcc[-3:0]': 'ងគឺក', 'kcc[-3:-1]': 'ងគឺ', 'kcc[-3:-2]': 'ងគ', 'kcc[+1]': 'ា', 'kcc[+1]t': 'W', 'kcc[+1:0]': 'កា', 'ns+1': False, 'kcc[+2]': 'ត', 'kcc[+2]t': 'C', 'kcc[+1:+2]': 'ាត', 'kcc[0:+2]': 'កាត', 'ns+2': False, 'kcc[+3]': '់', 'kcc[+3]t': 'D', 'kcc[+2:+3]': 'ត់', 'kcc[+1:+3]': 'ាត់', 'kcc[0:+3]': 'កាត់'}, {'kcc': 'ា', 't': 'W', 'ns': False, 'kcc[-1]': 'ក', 'kcc[-1]t': 'C', 'kcc[-1:0]': 'កា', 'ns-1': False, 'kcc[-2]': 'ឺ', 'kcc[-2]t': 'W', 'kcc[-2:-1]': 'ឺក', 'kcc[-2:0]': 'ឺកា', 'kcc[-3]': 'គ', 'kcc[-3]t': 'C', 'kcc[-3:0]': 'គឺកា', 'kcc[-3:-1]': 'គឺក', 'kcc[-3:-2]': 'គឺ', 'kcc[+1]': 'ត', 'kcc[+1]t': 'C', 'kcc[+1:0]': 'ាត', 'ns+1': False, 'kcc[+2]': '់', 'kcc[+2]t': 'D', 'kcc[+1:+2]': 'ត់', 'kcc[0:+2]': 'ាត់', 'ns+2': False, 'kcc[+3]': 'ប', 'kcc[+3]t': 'C', 'kcc[+2:+3]': '់ប', 'kcc[+1:+3]': 'ត់ប', 'kcc[0:+3]': 'ាត់ប'}, {'kcc': 'ត', 't': 'C', 'ns': False, 'kcc[-1]': 'ា', 'kcc[-1]t': 'W', 'kcc[-1:0]': 'ាត', 'ns-1': False, 'kcc[-2]': 'ក', 'kcc[-2]t': 'C', 'kcc[-2:-1]': 'កា', 'kcc[-2:0]': 'កាត', 'kcc[-3]': 'ឺ', 'kcc[-3]t': 'W', 'kcc[-3:0]': 'ឺកាត', 'kcc[-3:-1]': 'ឺកា', 'kcc[-3:-2]': 'ឺក', 'kcc[+1]': '់', 'kcc[+1]t': 'D', 'kcc[+1:0]': 'ត់', 'ns+1': False, 'kcc[+2]': 'ប', 'kcc[+2]t': 'C', 'kcc[+1:+2]': '់ប', 'kcc[0:+2]': 'ត់ប', 'ns+2': False, 'kcc[+3]': 'ន', 'kcc[+3]t': 'C', 'kcc[+2:+3]': 'បន', 'kcc[+1:+3]': '់បន', 'kcc[0:+3]': 'ត់បន'}, {'kcc': '់', 't': 'D', 'ns': False, 'kcc[-1]': 'ត', 'kcc[-1]t': 'C', 'kcc[-1:0]': 'ត់', 'ns-1': False, 'kcc[-2]': 'ា', 'kcc[-2]t': 'W', 'kcc[-2:-1]': 'ាត', 'kcc[-2:0]': 'ាត់', 'kcc[-3]': 'ក', 'kcc[-3]t': 'C', 'kcc[-3:0]': 'កាត់', 'kcc[-3:-1]': 'កាត', 'kcc[-3:-2]': 'កា', 'kcc[+1]': 'ប', 'kcc[+1]t': 'C', 'kcc[+1:0]': '់ប', 'ns+1': False, 'kcc[+2]': 'ន', 'kcc[+2]t': 'C', 'kcc[+1:+2]': 'បន', 'kcc[0:+2]': '់បន', 'ns+2': False, 'kcc[+3]': '្', 'kcc[+3]t': 'S', 'kcc[+2:+3]': 'ន្', 'kcc[+1:+3]': 'បន្', 'kcc[0:+3]': '់បន្'}, {'kcc': 'ប', 't': 'C', 'ns': False, 'kcc[-1]': '់', 'kcc[-1]t': 'D', 'kcc[-1:0]': '់ប', 'ns-1': False, 'kcc[-2]': 'ត', 'kcc[-2]t': 'C', 'kcc[-2:-1]': 'ត់', 'kcc[-2:0]': 'ត់ប', 'kcc[-3]': 'ា', 'kcc[-3]t': 'W', 'kcc[-3:0]': 'ាត់ប', 'kcc[-3:-1]': 'ាត់', 'kcc[-3:-2]': 'ាត', 'kcc[+1]': 'ន', 'kcc[+1]t': 'C', 'kcc[+1:0]': 'បន', 'ns+1': False, 'kcc[+2]': '្', 'kcc[+2]t': 'S', 'kcc[+1:+2]': 'ន្', 'kcc[0:+2]': 'បន្', 'ns+2': False, 'kcc[+3]': 'ថ', 'kcc[+3]t': 'C', 'kcc[+2:+3]': '្ថ', 'kcc[+1:+3]': 'ន្ថ', 'kcc[0:+3]': 'បន្ថ'}, {'kcc': 'ន', 't': 'C', 'ns': False, 'kcc[-1]': 'ប', 'kcc[-1]t': 'C', 'kcc[-1:0]': 'បន', 'ns-1': False, 'kcc[-2]': '់', 'kcc[-2]t': 'D', 'kcc[-2:-1]': '់ប', 'kcc[-2:0]': '់បន', 'kcc[-3]': 'ត', 'kcc[-3]t': 'C', 'kcc[-3:0]': 'ត់បន', 'kcc[-3:-1]': 'ត់ប', 'kcc[-3:-2]': 'ត់', 'kcc[+1]': '្', 'kcc[+1]t': 'S', 'kcc[+1:0]': 'ន្', 'ns+1': False, 'kcc[+2]': 'ថ', 'kcc[+2]t': 'C', 'kcc[+1:+2]': '្ថ', 'kcc[0:+2]': 'ន្ថ', 'ns+2': False, 'kcc[+3]': 'យ', 'kcc[+3]t': 'C', 'kcc[+2:+3]': 'ថយ', 'kcc[+1:+3]': '្ថយ', 'kcc[0:+3]': 'ន្ថយ'}, {'kcc': '្', 't': 'S', 'ns': False, 'kcc[-1]': 'ន', 'kcc[-1]t': 'C', 'kcc[-1:0]': 'ន្', 'ns-1': False, 'kcc[-2]': 'ប', 'kcc[-2]t': 'C', 'kcc[-2:-1]': 'បន', 'kcc[-2:0]': 'បន្', 'kcc[-3]': '់', 'kcc[-3]t': 'D', 'kcc[-3:0]': '់បន្', 'kcc[-3:-1]': '់បន', 'kcc[-3:-2]': '់ប', 'kcc[+1]': 'ថ', 'kcc[+1]t': 'C', 'kcc[+1:0]': '្ថ', 'ns+1': False, 'kcc[+2]': 'យ', 'kcc[+2]t': 'C', 'kcc[+1:+2]': 'ថយ', 'kcc[0:+2]': '្ថយ', 'ns+2': False, 'kcc[+3]': 'ក', 'kcc[+3]t': 'C', 'kcc[+2:+3]': 'យក', 'kcc[+1:+3]': 'ថយក', 'kcc[0:+3]': '្ថយក'}, {'kcc': 'ថ', 't': 'C', 'ns': False, 'kcc[-1]': '្', 'kcc[-1]t': 'S', 'kcc[-1:0]': '្ថ', 'ns-1': False, 'kcc[-2]': 'ន', 'kcc[-2]t': 'C', 'kcc[-2:-1]': 'ន្', 'kcc[-2:0]': 'ន្ថ', 'kcc[-3]': 'ប', 'kcc[-3]t': 'C', 'kcc[-3:0]': 'បន្ថ', 'kcc[-3:-1]': 'បន្', 'kcc[-3:-2]': 'បន', 'kcc[+1]': 'យ', 'kcc[+1]t': 'C', 'kcc[+1:0]': 'ថយ', 'ns+1': False, 'kcc[+2]': 'ក', 'kcc[+2]t': 'C', 'kcc[+1:+2]': 'យក', 'kcc[0:+2]': 'ថយក', 'ns+2': False, 'kcc[+3]': 'ា', 'kcc[+3]t': 'W', 'kcc[+2:+3]': 'កា', 'kcc[+1:+3]': 'យកា', 'kcc[0:+3]': 'ថយកា'}, {'kcc': 'យ', 't': 'C', 'ns': False, 'kcc[-1]': 'ថ', 'kcc[-1]t': 'C', 'kcc[-1:0]': 'ថយ', 'ns-1': False, 'kcc[-2]': '្', 'kcc[-2]t': 'S', 'kcc[-2:-1]': '្ថ', 'kcc[-2:0]': '្ថយ', 'kcc[-3]': 'ន', 'kcc[-3]t': 'C', 'kcc[-3:0]': 'ន្ថយ', 'kcc[-3:-1]': 'ន្ថ', 'kcc[-3:-2]': 'ន្', 'kcc[+1]': 'ក', 'kcc[+1]t': 'C', 'kcc[+1:0]': 'យក', 'ns+1': False, 'kcc[+2]': 'ា', 'kcc[+2]t': 'W', 'kcc[+1:+2]': 'កា', 'kcc[0:+2]': 'យកា', 'ns+2': False, 'kcc[+3]': 'រ', 'kcc[+3]t': 'C', 'kcc[+2:+3]': 'ារ', 'kcc[+1:+3]': 'ការ', 'kcc[0:+3]': 'យការ'}, {'kcc': 'ក', 't': 'C', 'ns': False, 'kcc[-1]': 'យ', 'kcc[-1]t': 'C', 'kcc[-1:0]': 'យក', 'ns-1': False, 'kcc[-2]': 'ថ', 'kcc[-2]t': 'C', 'kcc[-2:-1]': 'ថយ', 'kcc[-2:0]': 'ថយក', 'kcc[-3]': '្', 'kcc[-3]t': 'S', 'kcc[-3:0]': '្ថយក', 'kcc[-3:-1]': '្ថយ', 'kcc[-3:-2]': '្ថ', 'kcc[+1]': 'ា', 'kcc[+1]t': 'W', 'kcc[+1:0]': 'កា', 'ns+1': False, 'kcc[+2]': 'រ', 'kcc[+2]t': 'C', 'kcc[+1:+2]': 'ារ', 'kcc[0:+2]': 'ការ', 'ns+2': False, 'kcc[+3]': 'ប', 'kcc[+3]t': 'C', 'kcc[+2:+3]': 'រប', 'kcc[+1:+3]': 'ារប', 'kcc[0:+3]': 'ការប'}, {'kcc': 'ា', 't': 'W', 'ns': False, 'kcc[-1]': 'ក', 'kcc[-1]t': 'C', 'kcc[-1:0]': 'កា', 'ns-1': False, 'kcc[-2]': 'យ', 'kcc[-2]t': 'C', 'kcc[-2:-1]': 'យក', 'kcc[-2:0]': 'យកា', 'kcc[-3]': 'ថ', 'kcc[-3]t': 'C', 'kcc[-3:0]': 'ថយកា', 'kcc[-3:-1]': 'ថយក', 'kcc[-3:-2]': 'ថយ', 'kcc[+1]': 'រ', 'kcc[+1]t': 'C', 'kcc[+1:0]': 'ារ', 'ns+1': False, 'kcc[+2]': 'ប', 'kcc[+2]t': 'C', 'kcc[+1:+2]': 'រប', 'kcc[0:+2]': 'ារប', 'ns+2': False, 'kcc[+3]': '្', 'kcc[+3]t': 'S', 'kcc[+2:+3]': 'ប្', 'kcc[+1:+3]': 'រប្', 'kcc[0:+3]': 'ារប្'}, {'kcc': 'រ', 't': 'C', 'ns': False, 'kcc[-1]': 'ា', 'kcc[-1]t': 'W', 'kcc[-1:0]': 'ារ', 'ns-1': False, 'kcc[-2]': 'ក', 'kcc[-2]t': 'C', 'kcc[-2:-1]': 'កា', 'kcc[-2:0]': 'ការ', 'kcc[-3]': 'យ', 'kcc[-3]t': 'C', 'kcc[-3:0]': 'យការ', 'kcc[-3:-1]': 'យកា', 'kcc[-3:-2]': 'យក', 'kcc[+1]': 'ប', 'kcc[+1]t': 'C', 'kcc[+1:0]': 'រប', 'ns+1': False, 'kcc[+2]': '្', 'kcc[+2]t': 'S', 'kcc[+1:+2]': 'ប្', 'kcc[0:+2]': 'រប្', 'ns+2': False, 'kcc[+3]': 'រ', 'kcc[+3]t': 'C', 'kcc[+2:+3]': '្រ', 'kcc[+1:+3]': 'ប្រ', 'kcc[0:+3]': 'រប្រ'}, {'kcc': 'ប', 't': 'C', 'ns': False, 'kcc[-1]': 'រ', 'kcc[-1]t': 'C', 'kcc[-1:0]': 'រប', 'ns-1': False, 'kcc[-2]': 'ា', 'kcc[-2]t': 'W', 'kcc[-2:-1]': 'ារ', 'kcc[-2:0]': 'ារប', 'kcc[-3]': 'ក', 'kcc[-3]t': 'C', 'kcc[-3:0]': 'ការប', 'kcc[-3:-1]': 'ការ', 'kcc[-3:-2]': 'កា', 'kcc[+1]': '្', 'kcc[+1]t': 'S', 'kcc[+1:0]': 'ប្', 'ns+1': False, 'kcc[+2]': 'រ', 'kcc[+2]t': 'C', 'kcc[+1:+2]': '្រ', 'kcc[0:+2]': 'ប្រ', 'ns+2': False, 'kcc[+3]': 'ើ', 'kcc[+3]t': 'W', 'kcc[+2:+3]': 'រើ', 'kcc[+1:+3]': '្រើ', 'kcc[0:+3]': 'ប្រើ'}, {'kcc': '្', 't': 'S', 'ns': False, 'kcc[-1]': 'ប', 'kcc[-1]t': 'C', 'kcc[-1:0]': 'ប្', 'ns-1': False, 'kcc[-2]': 'រ', 'kcc[-2]t': 'C', 'kcc[-2:-1]': 'រប', 'kcc[-2:0]': 'រប្', 'kcc[-3]': 'ា', 'kcc[-3]t': 'W', 'kcc[-3:0]': 'ារប្', 'kcc[-3:-1]': 'ារប', 'kcc[-3:-2]': 'ារ', 'kcc[+1]': 'រ', 'kcc[+1]t': 'C', 'kcc[+1:0]': '្រ', 'ns+1': False, 'kcc[+2]': 'ើ', 'kcc[+2]t': 'W', 'kcc[+1:+2]': 'រើ', 'kcc[0:+2]': '្រើ', 'ns+2': False, 'kcc[+3]': 'ប', 'kcc[+3]t': 'C', 'kcc[+2:+3]': 'ើប', 'kcc[+1:+3]': 'រើប', 'kcc[0:+3]': '្រើប'}, {'kcc': 'រ', 't': 'C', 'ns': False, 'kcc[-1]': '្', 'kcc[-1]t': 'S', 'kcc[-1:0]': '្រ', 'ns-1': False, 'kcc[-2]': 'ប', 'kcc[-2]t': 'C', 'kcc[-2:-1]': 'ប្', 'kcc[-2:0]': 'ប្រ', 'kcc[-3]': 'រ', 'kcc[-3]t': 'C', 'kcc[-3:0]': 'រប្រ', 'kcc[-3:-1]': 'រប្', 'kcc[-3:-2]': 'រប', 'kcc[+1]': 'ើ', 'kcc[+1]t': 'W', 'kcc[+1:0]': 'រើ', 'ns+1': False, 'kcc[+2]': 'ប', 'kcc[+2]t': 'C', 'kcc[+1:+2]': 'ើប', 'kcc[0:+2]': 'រើប', 'ns+2': False, 'kcc[+3]': '្', 'kcc[+3]t': 'S', 'kcc[+2:+3]': 'ប្', 'kcc[+1:+3]': 'ើប្', 'kcc[0:+3]': 'រើប្'}, {'kcc': 'ើ', 't': 'W', 'ns': False, 'kcc[-1]': 'រ', 'kcc[-1]t': 'C', 'kcc[-1:0]': 'រើ', 'ns-1': False, 'kcc[-2]': '្', 'kcc[-2]t': 'S', 'kcc[-2:-1]': '្រ', 'kcc[-2:0]': '្រើ', 'kcc[-3]': 'ប', 'kcc[-3]t': 'C', 'kcc[-3:0]': 'ប្រើ', 'kcc[-3:-1]': 'ប្រ', 'kcc[-3:-2]': 'ប្', 'kcc[+1]': 'ប', 'kcc[+1]t': 'C', 'kcc[+1:0]': 'ើប', 'ns+1': False, 'kcc[+2]': '្', 'kcc[+2]t': 'S', 'kcc[+1:+2]': 'ប្', 'kcc[0:+2]': 'ើប្', 'ns+2': False, 'kcc[+3]': 'រ', 'kcc[+3]t': 'C', 'kcc[+2:+3]': '្រ', 'kcc[+1:+3]': 'ប្រ', 'kcc[0:+3]': 'ើប្រ'}, {'kcc': 'ប', 't': 'C', 'ns': False, 'kcc[-1]': 'ើ', 'kcc[-1]t': 'W', 'kcc[-1:0]': 'ើប', 'ns-1': False, 'kcc[-2]': 'រ', 'kcc[-2]t': 'C', 'kcc[-2:-1]': 'រើ', 'kcc[-2:0]': 'រើប', 'kcc[-3]': '្', 'kcc[-3]t': 'S', 'kcc[-3:0]': '្រើប', 'kcc[-3:-1]': '្រើ', 'kcc[-3:-2]': '្រ', 'kcc[+1]': '្', 'kcc[+1]t': 'S', 'kcc[+1:0]': 'ប្', 'ns+1': False, 'kcc[+2]': 'រ', 'kcc[+2]t': 'C', 'kcc[+1:+2]': '្រ', 'kcc[0:+2]': 'ប្រ', 'ns+2': False, 'kcc[+3]': 'ា', 'kcc[+3]t': 'W', 'kcc[+2:+3]': 'រា', 'kcc[+1:+3]': '្រា', 'kcc[0:+3]': 'ប្រា'}, {'kcc': '្', 't': 'S', 'ns': False, 'kcc[-1]': 'ប', 'kcc[-1]t': 'C', 'kcc[-1:0]': 'ប្', 'ns-1': False, 'kcc[-2]': 'ើ', 'kcc[-2]t': 'W', 'kcc[-2:-1]': 'ើប', 'kcc[-2:0]': 'ើប្', 'kcc[-3]': 'រ', 'kcc[-3]t': 'C', 'kcc[-3:0]': 'រើប្', 'kcc[-3:-1]': 'រើប', 'kcc[-3:-2]': 'រើ', 'kcc[+1]': 'រ', 'kcc[+1]t': 'C', 'kcc[+1:0]': '្រ', 'ns+1': False, 'kcc[+2]': 'ា', 'kcc[+2]t': 'W', 'kcc[+1:+2]': 'រា', 'kcc[0:+2]': '្រា', 'ns+2': False, 'kcc[+3]': 'ស', 'kcc[+3]t': 'C', 'kcc[+2:+3]': 'ាស', 'kcc[+1:+3]': 'រាស', 'kcc[0:+3]': '្រាស'}, {'kcc': 'រ', 't': 'C', 'ns': False, 'kcc[-1]': '្', 'kcc[-1]t': 'S', 'kcc[-1:0]': '្រ', 'ns-1': False, 'kcc[-2]': 'ប', 'kcc[-2]t': 'C', 'kcc[-2:-1]': 'ប្', 'kcc[-2:0]': 'ប្រ', 'kcc[-3]': 'ើ', 'kcc[-3]t': 'W', 'kcc[-3:0]': 'ើប្រ', 'kcc[-3:-1]': 'ើប្', 'kcc[-3:-2]': 'ើប', 'kcc[+1]': 'ា', 'kcc[+1]t': 'W', 'kcc[+1:0]': 'រា', 'ns+1': False, 'kcc[+2]': 'ស', 'kcc[+2]t': 'C', 'kcc[+1:+2]': 'ាស', 'kcc[0:+2]': 'រាស', 'ns+2': False, 'kcc[+3]': '់', 'kcc[+3]t': 'D', 'kcc[+2:+3]': 'ស់', 'kcc[+1:+3]': 'ាស់', 'kcc[0:+3]': 'រាស់'}, {'kcc': 'ា', 't': 'W', 'ns': False, 'kcc[-1]': 'រ', 'kcc[-1]t': 'C', 'kcc[-1:0]': 'រា', 'ns-1': False, 'kcc[-2]': '្', 'kcc[-2]t': 'S', 'kcc[-2:-1]': '្រ', 'kcc[-2:0]': '្រា', 'kcc[-3]': 'ប', 'kcc[-3]t': 'C', 'kcc[-3:0]': 'ប្រា', 'kcc[-3:-1]': 'ប្រ', 'kcc[-3:-2]': 'ប្', 'kcc[+1]': 'ស', 'kcc[+1]t': 'C', 'kcc[+1:0]': 'ាស', 'ns+1': False, 'kcc[+2]': '់', 'kcc[+2]t': 'D', 'kcc[+1:+2]': 'ស់', 'kcc[0:+2]': 'ាស់', 'ns+2': False, 'kcc[+3]': 'ន', 'kcc[+3]t': 'C', 'kcc[+2:+3]': '់ន', 'kcc[+1:+3]': 'ស់ន', 'kcc[0:+3]': 'ាស់ន'}, {'kcc': 'ស', 't': 'C', 'ns': False, 'kcc[-1]': 'ា', 'kcc[-1]t': 'W', 'kcc[-1:0]': 'ាស', 'ns-1': False, 'kcc[-2]': 'រ', 'kcc[-2]t': 'C', 'kcc[-2:-1]': 'រា', 'kcc[-2:0]': 'រាស', 'kcc[-3]': '្', 'kcc[-3]t': 'S', 'kcc[-3:0]': '្រាស', 'kcc[-3:-1]': '្រា', 'kcc[-3:-2]': '្រ', 'kcc[+1]': '់', 'kcc[+1]t': 'D', 'kcc[+1:0]': 'ស់', 'ns+1': False, 'kcc[+2]': 'ន', 'kcc[+2]t': 'C', 'kcc[+1:+2]': '់ន', 'kcc[0:+2]': 'ស់ន', 'ns+2': False, 'kcc[+3]': 'ៃ', 'kcc[+3]t': 'W', 'kcc[+2:+3]': 'នៃ', 'kcc[+1:+3]': '់នៃ', 'kcc[0:+3]': 'ស់នៃ'}, {'kcc': '់', 't': 'D', 'ns': False, 'kcc[-1]': 'ស', 'kcc[-1]t': 'C', 'kcc[-1:0]': 'ស់', 'ns-1': False, 'kcc[-2]': 'ា', 'kcc[-2]t': 'W', 'kcc[-2:-1]': 'ាស', 'kcc[-2:0]': 'ាស់', 'kcc[-3]': 'រ', 'kcc[-3]t': 'C', 'kcc[-3:0]': 'រាស់', 'kcc[-3:-1]': 'រាស', 'kcc[-3:-2]': 'រា', 'kcc[+1]': 'ន', 'kcc[+1]t': 'C', 'kcc[+1:0]': '់ន', 'ns+1': False, 'kcc[+2]': 'ៃ', 'kcc[+2]t': 'W', 'kcc[+1:+2]': 'នៃ', 'kcc[0:+2]': '់នៃ', 'ns+2': False, 'kcc[+3]': 'ផ', 'kcc[+3]t': 'C', 'kcc[+2:+3]': 'ៃផ', 'kcc[+1:+3]': 'នៃផ', 'kcc[0:+3]': '់នៃផ'}, {'kcc': 'ន', 't': 'C', 'ns': False, 'kcc[-1]': '់', 'kcc[-1]t': 'D', 'kcc[-1:0]': '់ន', 'ns-1': False, 'kcc[-2]': 'ស', 'kcc[-2]t': 'C', 'kcc[-2:-1]': 'ស់', 'kcc[-2:0]': 'ស់ន', 'kcc[-3]': 'ា', 'kcc[-3]t': 'W', 'kcc[-3:0]': 'ាស់ន', 'kcc[-3:-1]': 'ាស់', 'kcc[-3:-2]': 'ាស', 'kcc[+1]': 'ៃ', 'kcc[+1]t': 'W', 'kcc[+1:0]': 'នៃ', 'ns+1': False, 'kcc[+2]': 'ផ', 'kcc[+2]t': 'C', 'kcc[+1:+2]': 'ៃផ', 'kcc[0:+2]': 'នៃផ', 'ns+2': False, 'kcc[+3]': 'ល', 'kcc[+3]t': 'C', 'kcc[+2:+3]': 'ផល', 'kcc[+1:+3]': 'ៃផល', 'kcc[0:+3]': 'នៃផល'}, {'kcc': 'ៃ', 't': 'W', 'ns': False, 'kcc[-1]': 'ន', 'kcc[-1]t': 'C', 'kcc[-1:0]': 'នៃ', 'ns-1': False, 'kcc[-2]': '់', 'kcc[-2]t': 'D', 'kcc[-2:-1]': '់ន', 'kcc[-2:0]': '់នៃ', 'kcc[-3]': 'ស', 'kcc[-3]t': 'C', 'kcc[-3:0]': 'ស់នៃ', 'kcc[-3:-1]': 'ស់ន', 'kcc[-3:-2]': 'ស់', 'kcc[+1]': 'ផ', 'kcc[+1]t': 'C', 'kcc[+1:0]': 'ៃផ', 'ns+1': False, 'kcc[+2]': 'ល', 'kcc[+2]t': 'C', 'kcc[+1:+2]': 'ផល', 'kcc[0:+2]': 'ៃផល', 'ns+2': False, 'kcc[+3]': 'ិ', 'kcc[+3]t': 'W', 'kcc[+2:+3]': 'លិ', 'kcc[+1:+3]': 'ផលិ', 'kcc[0:+3]': 'ៃផលិ'}, {'kcc': 'ផ', 't': 'C', 'ns': False, 'kcc[-1]': 'ៃ', 'kcc[-1]t': 'W', 'kcc[-1:0]': 'ៃផ', 'ns-1': False, 'kcc[-2]': 'ន', 'kcc[-2]t': 'C', 'kcc[-2:-1]': 'នៃ', 'kcc[-2:0]': 'នៃផ', 'kcc[-3]': '់', 'kcc[-3]t': 'D', 'kcc[-3:0]': '់នៃផ', 'kcc[-3:-1]': '់នៃ', 'kcc[-3:-2]': '់ន', 'kcc[+1]': 'ល', 'kcc[+1]t': 'C', 'kcc[+1:0]': 'ផល', 'ns+1': False, 'kcc[+2]': 'ិ', 'kcc[+2]t': 'W', 'kcc[+1:+2]': 'លិ', 'kcc[0:+2]': 'ផលិ', 'ns+2': False, 'kcc[+3]': 'ត', 'kcc[+3]t': 'C', 'kcc[+2:+3]': 'ិត', 'kcc[+1:+3]': 'លិត', 'kcc[0:+3]': 'ផលិត'}, {'kcc': 'ល', 't': 'C', 'ns': False, 'kcc[-1]': 'ផ', 'kcc[-1]t': 'C', 'kcc[-1:0]': 'ផល', 'ns-1': False, 'kcc[-2]': 'ៃ', 'kcc[-2]t': 'W', 'kcc[-2:-1]': 'ៃផ', 'kcc[-2:0]': 'ៃផល', 'kcc[-3]': 'ន', 'kcc[-3]t': 'C', 'kcc[-3:0]': 'នៃផល', 'kcc[-3:-1]': 'នៃផ', 'kcc[-3:-2]': 'នៃ', 'kcc[+1]': 'ិ', 'kcc[+1]t': 'W', 'kcc[+1:0]': 'លិ', 'ns+1': False, 'kcc[+2]': 'ត', 'kcc[+2]t': 'C', 'kcc[+1:+2]': 'ិត', 'kcc[0:+2]': 'លិត', 'ns+2': False, 'kcc[+3]': 'ផ', 'kcc[+3]t': 'C', 'kcc[+2:+3]': 'តផ', 'kcc[+1:+3]': 'ិតផ', 'kcc[0:+3]': 'លិតផ'}, {'kcc': 'ិ', 't': 'W', 'ns': False, 'kcc[-1]': 'ល', 'kcc[-1]t': 'C', 'kcc[-1:0]': 'លិ', 'ns-1': False, 'kcc[-2]': 'ផ', 'kcc[-2]t': 'C', 'kcc[-2:-1]': 'ផល', 'kcc[-2:0]': 'ផលិ', 'kcc[-3]': 'ៃ', 'kcc[-3]t': 'W', 'kcc[-3:0]': 'ៃផលិ', 'kcc[-3:-1]': 'ៃផល', 'kcc[-3:-2]': 'ៃផ', 'kcc[+1]': 'ត', 'kcc[+1]t': 'C', 'kcc[+1:0]': 'ិត', 'ns+1': False, 'kcc[+2]': 'ផ', 'kcc[+2]t': 'C', 'kcc[+1:+2]': 'តផ', 'kcc[0:+2]': 'ិតផ', 'ns+2': False, 'kcc[+3]': 'ល', 'kcc[+3]t': 'C', 'kcc[+2:+3]': 'ផល', 'kcc[+1:+3]': 'តផល', 'kcc[0:+3]': 'ិតផល'}, {'kcc': 'ត', 't': 'C', 'ns': False, 'kcc[-1]': 'ិ', 'kcc[-1]t': 'W', 'kcc[-1:0]': 'ិត', 'ns-1': False, 'kcc[-2]': 'ល', 'kcc[-2]t': 'C', 'kcc[-2:-1]': 'លិ', 'kcc[-2:0]': 'លិត', 'kcc[-3]': 'ផ', 'kcc[-3]t': 'C', 'kcc[-3:0]': 'ផលិត', 'kcc[-3:-1]': 'ផលិ', 'kcc[-3:-2]': 'ផល', 'kcc[+1]': 'ផ', 'kcc[+1]t': 'C', 'kcc[+1:0]': 'តផ', 'ns+1': False, 'kcc[+2]': 'ល', 'kcc[+2]t': 'C', 'kcc[+1:+2]': 'ផល', 'kcc[0:+2]': 'តផល', 'ns+2': False, 'kcc[+3]': 'ប', 'kcc[+3]t': 'C', 'kcc[+2:+3]': 'លប', 'kcc[+1:+3]': 'ផលប', 'kcc[0:+3]': 'តផលប'}, {'kcc': 'ផ', 't': 'C', 'ns': False, 'kcc[-1]': 'ត', 'kcc[-1]t': 'C', 'kcc[-1:0]': 'តផ', 'ns-1': False, 'kcc[-2]': 'ិ', 'kcc[-2]t': 'W', 'kcc[-2:-1]': 'ិត', 'kcc[-2:0]': 'ិតផ', 'kcc[-3]': 'ល', 'kcc[-3]t': 'C', 'kcc[-3:0]': 'លិតផ', 'kcc[-3:-1]': 'លិត', 'kcc[-3:-2]': 'លិ', 'kcc[+1]': 'ល', 'kcc[+1]t': 'C', 'kcc[+1:0]': 'ផល', 'ns+1': False, 'kcc[+2]': 'ប', 'kcc[+2]t': 'C', 'kcc[+1:+2]': 'លប', 'kcc[0:+2]': 'ផលប', 'ns+2': False, 'kcc[+3]': '្', 'kcc[+3]t': 'S', 'kcc[+2:+3]': 'ប្', 'kcc[+1:+3]': 'លប្', 'kcc[0:+3]': 'ផលប្'}, {'kcc': 'ល', 't': 'C', 'ns': False, 'kcc[-1]': 'ផ', 'kcc[-1]t': 'C', 'kcc[-1:0]': 'ផល', 'ns-1': False, 'kcc[-2]': 'ត', 'kcc[-2]t': 'C', 'kcc[-2:-1]': 'តផ', 'kcc[-2:0]': 'តផល', 'kcc[-3]': 'ិ', 'kcc[-3]t': 'W', 'kcc[-3:0]': 'ិតផល', 'kcc[-3:-1]': 'ិតផ', 'kcc[-3:-2]': 'ិត', 'kcc[+1]': 'ប', 'kcc[+1]t': 'C', 'kcc[+1:0]': 'លប', 'ns+1': False, 'kcc[+2]': '្', 'kcc[+2]t': 'S', 'kcc[+1:+2]': 'ប្', 'kcc[0:+2]': 'លប្', 'ns+2': False, 'kcc[+3]': 'រ', 'kcc[+3]t': 'C', 'kcc[+2:+3]': '្រ', 'kcc[+1:+3]': 'ប្រ', 'kcc[0:+3]': 'លប្រ'}, {'kcc': 'ប', 't': 'C', 'ns': False, 'kcc[-1]': 'ល', 'kcc[-1]t': 'C', 'kcc[-1:0]': 'លប', 'ns-1': False, 'kcc[-2]': 'ផ', 'kcc[-2]t': 'C', 'kcc[-2:-1]': 'ផល', 'kcc[-2:0]': 'ផលប', 'kcc[-3]': 'ត', 'kcc[-3]t': 'C', 'kcc[-3:0]': 'តផលប', 'kcc[-3:-1]': 'តផល', 'kcc[-3:-2]': 'តផ', 'kcc[+1]': '្', 'kcc[+1]t': 'S', 'kcc[+1:0]': 'ប្', 'ns+1': False, 'kcc[+2]': 'រ', 'kcc[+2]t': 'C', 'kcc[+1:+2]': '្រ', 'kcc[0:+2]': 'ប្រ', 'ns+2': False, 'kcc[+3]': 'េ', 'kcc[+3]t': 'W', 'kcc[+2:+3]': 'រេ', 'kcc[+1:+3]': '្រេ', 'kcc[0:+3]': 'ប្រេ'}, {'kcc': '្', 't': 'S', 'ns': False, 'kcc[-1]': 'ប', 'kcc[-1]t': 'C', 'kcc[-1:0]': 'ប្', 'ns-1': False, 'kcc[-2]': 'ល', 'kcc[-2]t': 'C', 'kcc[-2:-1]': 'លប', 'kcc[-2:0]': 'លប្', 'kcc[-3]': 'ផ', 'kcc[-3]t': 'C', 'kcc[-3:0]': 'ផលប្', 'kcc[-3:-1]': 'ផលប', 'kcc[-3:-2]': 'ផល', 'kcc[+1]': 'រ', 'kcc[+1]t': 'C', 'kcc[+1:0]': '្រ', 'ns+1': False, 'kcc[+2]': 'េ', 'kcc[+2]t': 'W', 'kcc[+1:+2]': 'រេ', 'kcc[0:+2]': '្រេ', 'ns+2': False, 'kcc[+3]': 'ង', 'kcc[+3]t': 'C', 'kcc[+2:+3]': 'េង', 'kcc[+1:+3]': 'រេង', 'kcc[0:+3]': '្រេង'}, {'kcc': 'រ', 't': 'C', 'ns': False, 'kcc[-1]': '្', 'kcc[-1]t': 'S', 'kcc[-1:0]': '្រ', 'ns-1': False, 'kcc[-2]': 'ប', 'kcc[-2]t': 'C', 'kcc[-2:-1]': 'ប្', 'kcc[-2:0]': 'ប្រ', 'kcc[-3]': 'ល', 'kcc[-3]t': 'C', 'kcc[-3:0]': 'លប្រ', 'kcc[-3:-1]': 'លប្', 'kcc[-3:-2]': 'លប', 'kcc[+1]': 'េ', 'kcc[+1]t': 'W', 'kcc[+1:0]': 'រេ', 'ns+1': False, 'kcc[+2]': 'ង', 'kcc[+2]t': 'C', 'kcc[+1:+2]': 'េង', 'kcc[0:+2]': 'រេង', 'ns+2': False, 'kcc[+3]': 'ន', 'kcc[+3]t': 'C', 'kcc[+2:+3]': 'ងន', 'kcc[+1:+3]': 'េងន', 'kcc[0:+3]': 'រេងន'}, {'kcc': 'េ', 't': 'W', 'ns': False, 'kcc[-1]': 'រ', 'kcc[-1]t': 'C', 'kcc[-1:0]': 'រេ', 'ns-1': False, 'kcc[-2]': '្', 'kcc[-2]t': 'S', 'kcc[-2:-1]': '្រ', 'kcc[-2:0]': '្រេ', 'kcc[-3]': 'ប', 'kcc[-3]t': 'C', 'kcc[-3:0]': 'ប្រេ', 'kcc[-3:-1]': 'ប្រ', 'kcc[-3:-2]': 'ប្', 'kcc[+1]': 'ង', 'kcc[+1]t': 'C', 'kcc[+1:0]': 'េង', 'ns+1': False, 'kcc[+2]': 'ន', 'kcc[+2]t': 'C', 'kcc[+1:+2]': 'ងន', 'kcc[0:+2]': 'េងន', 'ns+2': False, 'kcc[+3]': 'ិ', 'kcc[+3]t': 'W', 'kcc[+2:+3]': 'និ', 'kcc[+1:+3]': 'ងនិ', 'kcc[0:+3]': 'េងនិ'}, {'kcc': 'ង', 't': 'C', 'ns': False, 'kcc[-1]': 'េ', 'kcc[-1]t': 'W', 'kcc[-1:0]': 'េង', 'ns-1': False, 'kcc[-2]': 'រ', 'kcc[-2]t': 'C', 'kcc[-2:-1]': 'រេ', 'kcc[-2:0]': 'រេង', 'kcc[-3]': '្', 'kcc[-3]t': 'S', 'kcc[-3:0]': '្រេង', 'kcc[-3:-1]': '្រេ', 'kcc[-3:-2]': '្រ', 'kcc[+1]': 'ន', 'kcc[+1]t': 'C', 'kcc[+1:0]': 'ងន', 'ns+1': False, 'kcc[+2]': 'ិ', 'kcc[+2]t': 'W', 'kcc[+1:+2]': 'និ', 'kcc[0:+2]': 'ងនិ', 'ns+2': False, 'kcc[+3]': 'ង', 'kcc[+3]t': 'C', 'kcc[+2:+3]': 'ិង', 'kcc[+1:+3]': 'និង', 'kcc[0:+3]': 'ងនិង'}, {'kcc': 'ន', 't': 'C', 'ns': False, 'kcc[-1]': 'ង', 'kcc[-1]t': 'C', 'kcc[-1:0]': 'ងន', 'ns-1': False, 'kcc[-2]': 'េ', 'kcc[-2]t': 'W', 'kcc[-2:-1]': 'េង', 'kcc[-2:0]': 'េងន', 'kcc[-3]': 'រ', 'kcc[-3]t': 'C', 'kcc[-3:0]': 'រេងន', 'kcc[-3:-1]': 'រេង', 'kcc[-3:-2]': 'រេ', 'kcc[+1]': 'ិ', 'kcc[+1]t': 'W', 'kcc[+1:0]': 'និ', 'ns+1': False, 'kcc[+2]': 'ង', 'kcc[+2]t': 'C', 'kcc[+1:+2]': 'ិង', 'kcc[0:+2]': 'និង', 'ns+2': False, 'kcc[+3]': 'ល', 'kcc[+3]t': 'C', 'kcc[+2:+3]': 'ងល', 'kcc[+1:+3]': 'ិងល', 'kcc[0:+3]': 'និងល'}, {'kcc': 'ិ', 't': 'W', 'ns': False, 'kcc[-1]': 'ន', 'kcc[-1]t': 'C', 'kcc[-1:0]': 'និ', 'ns-1': False, 'kcc[-2]': 'ង', 'kcc[-2]t': 'C', 'kcc[-2:-1]': 'ងន', 'kcc[-2:0]': 'ងនិ', 'kcc[-3]': 'េ', 'kcc[-3]t': 'W', 'kcc[-3:0]': 'េងនិ', 'kcc[-3:-1]': 'េងន', 'kcc[-3:-2]': 'េង', 'kcc[+1]': 'ង', 'kcc[+1]t': 'C', 'kcc[+1:0]': 'ិង', 'ns+1': False, 'kcc[+2]': 'ល', 'kcc[+2]t': 'C', 'kcc[+1:+2]': 'ងល', 'kcc[0:+2]': 'ិងល', 'ns+2': False, 'kcc[+3]': 'ើ', 'kcc[+3]t': 'W', 'kcc[+2:+3]': 'លើ', 'kcc[+1:+3]': 'ងលើ', 'kcc[0:+3]': 'ិងលើ'}, {'kcc': 'ង', 't': 'C', 'ns': False, 'kcc[-1]': 'ិ', 'kcc[-1]t': 'W', 'kcc[-1:0]': 'ិង', 'ns-1': False, 'kcc[-2]': 'ន', 'kcc[-2]t': 'C', 'kcc[-2:-1]': 'និ', 'kcc[-2:0]': 'និង', 'kcc[-3]': 'ង', 'kcc[-3]t': 'C', 'kcc[-3:0]': 'ងនិង', 'kcc[-3:-1]': 'ងនិ', 'kcc[-3:-2]': 'ងន', 'kcc[+1]': 'ល', 'kcc[+1]t': 'C', 'kcc[+1:0]': 'ងល', 'ns+1': False, 'kcc[+2]': 'ើ', 'kcc[+2]t': 'W', 'kcc[+1:+2]': 'លើ', 'kcc[0:+2]': 'ងលើ', 'ns+2': False, 'kcc[+3]': 'ក', 'kcc[+3]t': 'C', 'kcc[+2:+3]': 'ើក', 'kcc[+1:+3]': 'លើក', 'kcc[0:+3]': 'ងលើក'}, {'kcc': 'ល', 't': 'C', 'ns': False, 'kcc[-1]': 'ង', 'kcc[-1]t': 'C', 'kcc[-1:0]': 'ងល', 'ns-1': False, 'kcc[-2]': 'ិ', 'kcc[-2]t': 'W', 'kcc[-2:-1]': 'ិង', 'kcc[-2:0]': 'ិងល', 'kcc[-3]': 'ន', 'kcc[-3]t': 'C', 'kcc[-3:0]': 'និងល', 'kcc[-3:-1]': 'និង', 'kcc[-3:-2]': 'និ', 'kcc[+1]': 'ើ', 'kcc[+1]t': 'W', 'kcc[+1:0]': 'លើ', 'ns+1': False, 'kcc[+2]': 'ក', 'kcc[+2]t': 'C', 'kcc[+1:+2]': 'ើក', 'kcc[0:+2]': 'លើក', 'ns+2': False, 'kcc[+3]': 'ក', 'kcc[+3]t': 'C', 'kcc[+2:+3]': 'កក', 'kcc[+1:+3]': 'ើកក', 'kcc[0:+3]': 'លើកក'}, {'kcc': 'ើ', 't': 'W', 'ns': False, 'kcc[-1]': 'ល', 'kcc[-1]t': 'C', 'kcc[-1:0]': 'លើ', 'ns-1': False, 'kcc[-2]': 'ង', 'kcc[-2]t': 'C', 'kcc[-2:-1]': 'ងល', 'kcc[-2:0]': 'ងលើ', 'kcc[-3]': 'ិ', 'kcc[-3]t': 'W', 'kcc[-3:0]': 'ិងលើ', 'kcc[-3:-1]': 'ិងល', 'kcc[-3:-2]': 'ិង', 'kcc[+1]': 'ក', 'kcc[+1]t': 'C', 'kcc[+1:0]': 'ើក', 'ns+1': False, 'kcc[+2]': 'ក', 'kcc[+2]t': 'C', 'kcc[+1:+2]': 'កក', 'kcc[0:+2]': 'ើកក', 'ns+2': False, 'kcc[+3]': 'ម', 'kcc[+3]t': 'C', 'kcc[+2:+3]': 'កម', 'kcc[+1:+3]': 'កកម', 'kcc[0:+3]': 'ើកកម'}, {'kcc': 'ក', 't': 'C', 'ns': False, 'kcc[-1]': 'ើ', 'kcc[-1]t': 'W', 'kcc[-1:0]': 'ើក', 'ns-1': False, 'kcc[-2]': 'ល', 'kcc[-2]t': 'C', 'kcc[-2:-1]': 'លើ', 'kcc[-2:0]': 'លើក', 'kcc[-3]': 'ង', 'kcc[-3]t': 'C', 'kcc[-3:0]': 'ងលើក', 'kcc[-3:-1]': 'ងលើ', 'kcc[-3:-2]': 'ងល', 'kcc[+1]': 'ក', 'kcc[+1]t': 'C', 'kcc[+1:0]': 'កក', 'ns+1': False, 'kcc[+2]': 'ម', 'kcc[+2]t': 'C', 'kcc[+1:+2]': 'កម', 'kcc[0:+2]': 'កកម', 'ns+2': False, 'kcc[+3]': '្', 'kcc[+3]t': 'S', 'kcc[+2:+3]': 'ម្', 'kcc[+1:+3]': 'កម្', 'kcc[0:+3]': 'កកម្'}, {'kcc': 'ក', 't': 'C', 'ns': False, 'kcc[-1]': 'ក', 'kcc[-1]t': 'C', 'kcc[-1:0]': 'កក', 'ns-1': False, 'kcc[-2]': 'ើ', 'kcc[-2]t': 'W', 'kcc[-2:-1]': 'ើក', 'kcc[-2:0]': 'ើកក', 'kcc[-3]': 'ល', 'kcc[-3]t': 'C', 'kcc[-3:0]': 'លើកក', 'kcc[-3:-1]': 'លើក', 'kcc[-3:-2]': 'លើ', 'kcc[+1]': 'ម', 'kcc[+1]t': 'C', 'kcc[+1:0]': 'កម', 'ns+1': False, 'kcc[+2]': '្', 'kcc[+2]t': 'S', 'kcc[+1:+2]': 'ម្', 'kcc[0:+2]': 'កម្', 'ns+2': False, 'kcc[+3]': 'ព', 'kcc[+3]t': 'C', 'kcc[+2:+3]': '្ព', 'kcc[+1:+3]': 'ម្ព', 'kcc[0:+3]': 'កម្ព'}, {'kcc': 'ម', 't': 'C', 'ns': False, 'kcc[-1]': 'ក', 'kcc[-1]t': 'C', 'kcc[-1:0]': 'កម', 'ns-1': False, 'kcc[-2]': 'ក', 'kcc[-2]t': 'C', 'kcc[-2:-1]': 'កក', 'kcc[-2:0]': 'កកម', 'kcc[-3]': 'ើ', 'kcc[-3]t': 'W', 'kcc[-3:0]': 'ើកកម', 'kcc[-3:-1]': 'ើកក', 'kcc[-3:-2]': 'ើក', 'kcc[+1]': '្', 'kcc[+1]t': 'S', 'kcc[+1:0]': 'ម្', 'ns+1': False, 'kcc[+2]': 'ព', 'kcc[+2]t': 'C', 'kcc[+1:+2]': '្ព', 'kcc[0:+2]': 'ម្ព', 'ns+2': False, 'kcc[+3]': 'ស', 'kcc[+3]t': 'C', 'kcc[+2:+3]': 'ពស', 'kcc[+1:+3]': '្ពស', 'kcc[0:+3]': 'ម្ពស'}, {'kcc': '្', 't': 'S', 'ns': False, 'kcc[-1]': 'ម', 'kcc[-1]t': 'C', 'kcc[-1:0]': 'ម្', 'ns-1': False, 'kcc[-2]': 'ក', 'kcc[-2]t': 'C', 'kcc[-2:-1]': 'កម', 'kcc[-2:0]': 'កម្', 'kcc[-3]': 'ក', 'kcc[-3]t': 'C', 'kcc[-3:0]': 'កកម្', 'kcc[-3:-1]': 'កកម', 'kcc[-3:-2]': 'កក', 'kcc[+1]': 'ព', 'kcc[+1]t': 'C', 'kcc[+1:0]': '្ព', 'ns+1': False, 'kcc[+2]': 'ស', 'kcc[+2]t': 'C', 'kcc[+1:+2]': 'ពស', 'kcc[0:+2]': '្ពស', 'ns+2': False, 'kcc[+3]': '់', 'kcc[+3]t': 'D', 'kcc[+2:+3]': 'ស់', 'kcc[+1:+3]': 'ពស់', 'kcc[0:+3]': '្ពស់'}, {'kcc': 'ព', 't': 'C', 'ns': False, 'kcc[-1]': '្', 'kcc[-1]t': 'S', 'kcc[-1:0]': '្ព', 'ns-1': False, 'kcc[-2]': 'ម', 'kcc[-2]t': 'C', 'kcc[-2:-1]': 'ម្', 'kcc[-2:0]': 'ម្ព', 'kcc[-3]': 'ក', 'kcc[-3]t': 'C', 'kcc[-3:0]': 'កម្ព', 'kcc[-3:-1]': 'កម្', 'kcc[-3:-2]': 'កម', 'kcc[+1]': 'ស', 'kcc[+1]t': 'C', 'kcc[+1:0]': 'ពស', 'ns+1': False, 'kcc[+2]': '់', 'kcc[+2]t': 'D', 'kcc[+1:+2]': 'ស់', 'kcc[0:+2]': 'ពស់', 'ns+2': False, 'kcc[+3]': 'ក', 'kcc[+3]t': 'C', 'kcc[+2:+3]': '់ក', 'kcc[+1:+3]': 'ស់ក', 'kcc[0:+3]': 'ពស់ក'}, {'kcc': 'ស', 't': 'C', 'ns': False, 'kcc[-1]': 'ព', 'kcc[-1]t': 'C', 'kcc[-1:0]': 'ពស', 'ns-1': False, 'kcc[-2]': '្', 'kcc[-2]t': 'S', 'kcc[-2:-1]': '្ព', 'kcc[-2:0]': '្ពស', 'kcc[-3]': 'ម', 'kcc[-3]t': 'C', 'kcc[-3:0]': 'ម្ពស', 'kcc[-3:-1]': 'ម្ព', 'kcc[-3:-2]': 'ម្', 'kcc[+1]': '់', 'kcc[+1]t': 'D', 'kcc[+1:0]': 'ស់', 'ns+1': False, 'kcc[+2]': 'ក', 'kcc[+2]t': 'C', 'kcc[+1:+2]': '់ក', 'kcc[0:+2]': 'ស់ក', 'ns+2': False, 'kcc[+3]': 'ា', 'kcc[+3]t': 'W', 'kcc[+2:+3]': 'កា', 'kcc[+1:+3]': '់កា', 'kcc[0:+3]': 'ស់កា'}, {'kcc': '់', 't': 'D', 'ns': False, 'kcc[-1]': 'ស', 'kcc[-1]t': 'C', 'kcc[-1:0]': 'ស់', 'ns-1': False, 'kcc[-2]': 'ព', 'kcc[-2]t': 'C', 'kcc[-2:-1]': 'ពស', 'kcc[-2:0]': 'ពស់', 'kcc[-3]': '្', 'kcc[-3]t': 'S', 'kcc[-3:0]': '្ពស់', 'kcc[-3:-1]': '្ពស', 'kcc[-3:-2]': '្ព', 'kcc[+1]': 'ក', 'kcc[+1]t': 'C', 'kcc[+1:0]': '់ក', 'ns+1': False, 'kcc[+2]': 'ា', 'kcc[+2]t': 'W', 'kcc[+1:+2]': 'កា', 'kcc[0:+2]': '់កា', 'ns+2': False, 'kcc[+3]': 'រ', 'kcc[+3]t': 'C', 'kcc[+2:+3]': 'ារ', 'kcc[+1:+3]': 'ការ', 'kcc[0:+3]': '់ការ'}, {'kcc': 'ក', 't': 'C', 'ns': False, 'kcc[-1]': '់', 'kcc[-1]t': 'D', 'kcc[-1:0]': '់ក', 'ns-1': False, 'kcc[-2]': 'ស', 'kcc[-2]t': 'C', 'kcc[-2:-1]': 'ស់', 'kcc[-2:0]': 'ស់ក', 'kcc[-3]': 'ព', 'kcc[-3]t': 'C', 'kcc[-3:0]': 'ពស់ក', 'kcc[-3:-1]': 'ពស់', 'kcc[-3:-2]': 'ពស', 'kcc[+1]': 'ា', 'kcc[+1]t': 'W', 'kcc[+1:0]': 'កា', 'ns+1': False, 'kcc[+2]': 'រ', 'kcc[+2]t': 'C', 'kcc[+1:+2]': 'ារ', 'kcc[0:+2]': 'ការ', 'ns+2': False, 'kcc[+3]': 'ស', 'kcc[+3]t': 'C', 'kcc[+2:+3]': 'រស', 'kcc[+1:+3]': 'ារស', 'kcc[0:+3]': 'ការស'}, {'kcc': 'ា', 't': 'W', 'ns': False, 'kcc[-1]': 'ក', 'kcc[-1]t': 'C', 'kcc[-1:0]': 'កា', 'ns-1': False, 'kcc[-2]': '់', 'kcc[-2]t': 'D', 'kcc[-2:-1]': '់ក', 'kcc[-2:0]': '់កា', 'kcc[-3]': 'ស', 'kcc[-3]t': 'C', 'kcc[-3:0]': 'ស់កា', 'kcc[-3:-1]': 'ស់ក', 'kcc[-3:-2]': 'ស់', 'kcc[+1]': 'រ', 'kcc[+1]t': 'C', 'kcc[+1:0]': 'ារ', 'ns+1': False, 'kcc[+2]': 'ស', 'kcc[+2]t': 'C', 'kcc[+1:+2]': 'រស', 'kcc[0:+2]': 'ារស', 'ns+2': False, 'kcc[+3]': '្', 'kcc[+3]t': 'S', 'kcc[+2:+3]': 'ស្', 'kcc[+1:+3]': 'រស្', 'kcc[0:+3]': 'ារស្'}, {'kcc': 'រ', 't': 'C', 'ns': False, 'kcc[-1]': 'ា', 'kcc[-1]t': 'W', 'kcc[-1:0]': 'ារ', 'ns-1': False, 'kcc[-2]': 'ក', 'kcc[-2]t': 'C', 'kcc[-2:-1]': 'កា', 'kcc[-2:0]': 'ការ', 'kcc[-3]': '់', 'kcc[-3]t': 'D', 'kcc[-3:0]': '់ការ', 'kcc[-3:-1]': '់កា', 'kcc[-3:-2]': '់ក', 'kcc[+1]': 'ស', 'kcc[+1]t': 'C', 'kcc[+1:0]': 'រស', 'ns+1': False, 'kcc[+2]': '្', 'kcc[+2]t': 'S', 'kcc[+1:+2]': 'ស្', 'kcc[0:+2]': 'រស្', 'ns+2': False, 'kcc[+3]': 'រ', 'kcc[+3]t': 'C', 'kcc[+2:+3]': '្រ', 'kcc[+1:+3]': 'ស្រ', 'kcc[0:+3]': 'រស្រ'}, {'kcc': 'ស', 't': 'C', 'ns': False, 'kcc[-1]': 'រ', 'kcc[-1]t': 'C', 'kcc[-1:0]': 'រស', 'ns-1': False, 'kcc[-2]': 'ា', 'kcc[-2]t': 'W', 'kcc[-2:-1]': 'ារ', 'kcc[-2:0]': 'ារស', 'kcc[-3]': 'ក', 'kcc[-3]t': 'C', 'kcc[-3:0]': 'ការស', 'kcc[-3:-1]': 'ការ', 'kcc[-3:-2]': 'កា', 'kcc[+1]': '្', 'kcc[+1]t': 'S', 'kcc[+1:0]': 'ស្', 'ns+1': False, 'kcc[+2]': 'រ', 'kcc[+2]t': 'C', 'kcc[+1:+2]': '្រ', 'kcc[0:+2]': 'ស្រ', 'ns+2': False, 'kcc[+3]': 'ា', 'kcc[+3]t': 'W', 'kcc[+2:+3]': 'រា', 'kcc[+1:+3]': '្រា', 'kcc[0:+3]': 'ស្រា'}, {'kcc': '្', 't': 'S', 'ns': False, 'kcc[-1]': 'ស', 'kcc[-1]t': 'C', 'kcc[-1:0]': 'ស្', 'ns-1': False, 'kcc[-2]': 'រ', 'kcc[-2]t': 'C', 'kcc[-2:-1]': 'រស', 'kcc[-2:0]': 'រស្', 'kcc[-3]': 'ា', 'kcc[-3]t': 'W', 'kcc[-3:0]': 'ារស្', 'kcc[-3:-1]': 'ារស', 'kcc[-3:-2]': 'ារ', 'kcc[+1]': 'រ', 'kcc[+1]t': 'C', 'kcc[+1:0]': '្រ', 'ns+1': False, 'kcc[+2]': 'ា', 'kcc[+2]t': 'W', 'kcc[+1:+2]': 'រា', 'kcc[0:+2]': '្រា', 'ns+2': False, 'kcc[+3]': 'វ', 'kcc[+3]t': 'C', 'kcc[+2:+3]': 'ាវ', 'kcc[+1:+3]': 'រាវ', 'kcc[0:+3]': '្រាវ'}, {'kcc': 'រ', 't': 'C', 'ns': False, 'kcc[-1]': '្', 'kcc[-1]t': 'S', 'kcc[-1:0]': '្រ', 'ns-1': False, 'kcc[-2]': 'ស', 'kcc[-2]t': 'C', 'kcc[-2:-1]': 'ស្', 'kcc[-2:0]': 'ស្រ', 'kcc[-3]': 'រ', 'kcc[-3]t': 'C', 'kcc[-3:0]': 'រស្រ', 'kcc[-3:-1]': 'រស្', 'kcc[-3:-2]': 'រស', 'kcc[+1]': 'ា', 'kcc[+1]t': 'W', 'kcc[+1:0]': 'រា', 'ns+1': False, 'kcc[+2]': 'វ', 'kcc[+2]t': 'C', 'kcc[+1:+2]': 'ាវ', 'kcc[0:+2]': 'រាវ', 'ns+2': False, 'kcc[+3]': 'ជ', 'kcc[+3]t': 'C', 'kcc[+2:+3]': 'វជ', 'kcc[+1:+3]': 'ាវជ', 'kcc[0:+3]': 'រាវជ'}, {'kcc': 'ា', 't': 'W', 'ns': False, 'kcc[-1]': 'រ', 'kcc[-1]t': 'C', 'kcc[-1:0]': 'រា', 'ns-1': False, 'kcc[-2]': '្', 'kcc[-2]t': 'S', 'kcc[-2:-1]': '្រ', 'kcc[-2:0]': '្រា', 'kcc[-3]': 'ស', 'kcc[-3]t': 'C', 'kcc[-3:0]': 'ស្រា', 'kcc[-3:-1]': 'ស្រ', 'kcc[-3:-2]': 'ស្', 'kcc[+1]': 'វ', 'kcc[+1]t': 'C', 'kcc[+1:0]': 'ាវ', 'ns+1': False, 'kcc[+2]': 'ជ', 'kcc[+2]t': 'C', 'kcc[+1:+2]': 'វជ', 'kcc[0:+2]': 'ាវជ', 'ns+2': False, 'kcc[+3]': '្', 'kcc[+3]t': 'S', 'kcc[+2:+3]': 'ជ្', 'kcc[+1:+3]': 'វជ្', 'kcc[0:+3]': 'ាវជ្'}, {'kcc': 'វ', 't': 'C', 'ns': False, 'kcc[-1]': 'ា', 'kcc[-1]t': 'W', 'kcc[-1:0]': 'ាវ', 'ns-1': False, 'kcc[-2]': 'រ', 'kcc[-2]t': 'C', 'kcc[-2:-1]': 'រា', 'kcc[-2:0]': 'រាវ', 'kcc[-3]': '្', 'kcc[-3]t': 'S', 'kcc[-3:0]': '្រាវ', 'kcc[-3:-1]': '្រា', 'kcc[-3:-2]': '្រ', 'kcc[+1]': 'ជ', 'kcc[+1]t': 'C', 'kcc[+1:0]': 'វជ', 'ns+1': False, 'kcc[+2]': '្', 'kcc[+2]t': 'S', 'kcc[+1:+2]': 'ជ្', 'kcc[0:+2]': 'វជ្', 'ns+2': False, 'kcc[+3]': 'រ', 'kcc[+3]t': 'C', 'kcc[+2:+3]': '្រ', 'kcc[+1:+3]': 'ជ្រ', 'kcc[0:+3]': 'វជ្រ'}, {'kcc': 'ជ', 't': 'C', 'ns': False, 'kcc[-1]': 'វ', 'kcc[-1]t': 'C', 'kcc[-1:0]': 'វជ', 'ns-1': False, 'kcc[-2]': 'ា', 'kcc[-2]t': 'W', 'kcc[-2:-1]': 'ាវ', 'kcc[-2:0]': 'ាវជ', 'kcc[-3]': 'រ', 'kcc[-3]t': 'C', 'kcc[-3:0]': 'រាវជ', 'kcc[-3:-1]': 'រាវ', 'kcc[-3:-2]': 'រា', 'kcc[+1]': '្', 'kcc[+1]t': 'S', 'kcc[+1:0]': 'ជ្', 'ns+1': False, 'kcc[+2]': 'រ', 'kcc[+2]t': 'C', 'kcc[+1:+2]': '្រ', 'kcc[0:+2]': 'ជ្រ', 'ns+2': False, 'kcc[+3]': 'ា', 'kcc[+3]t': 'W', 'kcc[+2:+3]': 'រា', 'kcc[+1:+3]': '្រា', 'kcc[0:+3]': 'ជ្រា'}, {'kcc': '្', 't': 'S', 'ns': False, 'kcc[-1]': 'ជ', 'kcc[-1]t': 'C', 'kcc[-1:0]': 'ជ្', 'ns-1': False, 'kcc[-2]': 'វ', 'kcc[-2]t': 'C', 'kcc[-2:-1]': 'វជ', 'kcc[-2:0]': 'វជ្', 'kcc[-3]': 'ា', 'kcc[-3]t': 'W', 'kcc[-3:0]': 'ាវជ្', 'kcc[-3:-1]': 'ាវជ', 'kcc[-3:-2]': 'ាវ', 'kcc[+1]': 'រ', 'kcc[+1]t': 'C', 'kcc[+1:0]': '្រ', 'ns+1': False, 'kcc[+2]': 'ា', 'kcc[+2]t': 'W', 'kcc[+1:+2]': 'រា', 'kcc[0:+2]': '្រា', 'ns+2': False, 'kcc[+3]': 'វ', 'kcc[+3]t': 'C', 'kcc[+2:+3]': 'ាវ', 'kcc[+1:+3]': 'រាវ', 'kcc[0:+3]': '្រាវ'}, {'kcc': 'រ', 't': 'C', 'ns': False, 'kcc[-1]': '្', 'kcc[-1]t': 'S', 'kcc[-1:0]': '្រ', 'ns-1': False, 'kcc[-2]': 'ជ', 'kcc[-2]t': 'C', 'kcc[-2:-1]': 'ជ្', 'kcc[-2:0]': 'ជ្រ', 'kcc[-3]': 'វ', 'kcc[-3]t': 'C', 'kcc[-3:0]': 'វជ្រ', 'kcc[-3:-1]': 'វជ្', 'kcc[-3:-2]': 'វជ', 'kcc[+1]': 'ា', 'kcc[+1]t': 'W', 'kcc[+1:0]': 'រា', 'ns+1': False, 'kcc[+2]': 'វ', 'kcc[+2]t': 'C', 'kcc[+1:+2]': 'ាវ', 'kcc[0:+2]': 'រាវ', 'ns+2': False, 'kcc[+3]': 'ទ', 'kcc[+3]t': 'C', 'kcc[+2:+3]': 'វទ', 'kcc[+1:+3]': 'ាវទ', 'kcc[0:+3]': 'រាវទ'}, {'kcc': 'ា', 't': 'W', 'ns': False, 'kcc[-1]': 'រ', 'kcc[-1]t': 'C', 'kcc[-1:0]': 'រា', 'ns-1': False, 'kcc[-2]': '្', 'kcc[-2]t': 'S', 'kcc[-2:-1]': '្រ', 'kcc[-2:0]': '្រា', 'kcc[-3]': 'ជ', 'kcc[-3]t': 'C', 'kcc[-3:0]': 'ជ្រា', 'kcc[-3:-1]': 'ជ្រ', 'kcc[-3:-2]': 'ជ្', 'kcc[+1]': 'វ', 'kcc[+1]t': 'C', 'kcc[+1:0]': 'ាវ', 'ns+1': False, 'kcc[+2]': 'ទ', 'kcc[+2]t': 'C', 'kcc[+1:+2]': 'វទ', 'kcc[0:+2]': 'ាវទ', 'ns+2': False, 'kcc[+3]': 'ៅ', 'kcc[+3]t': 'W', 'kcc[+2:+3]': 'ទៅ', 'kcc[+1:+3]': 'វទៅ', 'kcc[0:+3]': 'ាវទៅ'}, {'kcc': 'វ', 't': 'C', 'ns': False, 'kcc[-1]': 'ា', 'kcc[-1]t': 'W', 'kcc[-1:0]': 'ាវ', 'ns-1': False, 'kcc[-2]': 'រ', 'kcc[-2]t': 'C', 'kcc[-2:-1]': 'រា', 'kcc[-2:0]': 'រាវ', 'kcc[-3]': '្', 'kcc[-3]t': 'S', 'kcc[-3:0]': '្រាវ', 'kcc[-3:-1]': '្រា', 'kcc[-3:-2]': '្រ', 'kcc[+1]': 'ទ', 'kcc[+1]t': 'C', 'kcc[+1:0]': 'វទ', 'ns+1': False, 'kcc[+2]': 'ៅ', 'kcc[+2]t': 'W', 'kcc[+1:+2]': 'ទៅ', 'kcc[0:+2]': 'វទៅ', 'ns+2': False, 'kcc[+3]': 'ល', 'kcc[+3]t': 'C', 'kcc[+2:+3]': 'ៅល', 'kcc[+1:+3]': 'ទៅល', 'kcc[0:+3]': 'វទៅល'}, {'kcc': 'ទ', 't': 'C', 'ns': False, 'kcc[-1]': 'វ', 'kcc[-1]t': 'C', 'kcc[-1:0]': 'វទ', 'ns-1': False, 'kcc[-2]': 'ា', 'kcc[-2]t': 'W', 'kcc[-2:-1]': 'ាវ', 'kcc[-2:0]': 'ាវទ', 'kcc[-3]': 'រ', 'kcc[-3]t': 'C', 'kcc[-3:0]': 'រាវទ', 'kcc[-3:-1]': 'រាវ', 'kcc[-3:-2]': 'រា', 'kcc[+1]': 'ៅ', 'kcc[+1]t': 'W', 'kcc[+1:0]': 'ទៅ', 'ns+1': False, 'kcc[+2]': 'ល', 'kcc[+2]t': 'C', 'kcc[+1:+2]': 'ៅល', 'kcc[0:+2]': 'ទៅល', 'ns+2': False, 'kcc[+3]': 'ើ', 'kcc[+3]t': 'W', 'kcc[+2:+3]': 'លើ', 'kcc[+1:+3]': 'ៅលើ', 'kcc[0:+3]': 'ទៅលើ'}, {'kcc': 'ៅ', 't': 'W', 'ns': False, 'kcc[-1]': 'ទ', 'kcc[-1]t': 'C', 'kcc[-1:0]': 'ទៅ', 'ns-1': False, 'kcc[-2]': 'វ', 'kcc[-2]t': 'C', 'kcc[-2:-1]': 'វទ', 'kcc[-2:0]': 'វទៅ', 'kcc[-3]': 'ា', 'kcc[-3]t': 'W', 'kcc[-3:0]': 'ាវទៅ', 'kcc[-3:-1]': 'ាវទ', 'kcc[-3:-2]': 'ាវ', 'kcc[+1]': 'ល', 'kcc[+1]t': 'C', 'kcc[+1:0]': 'ៅល', 'ns+1': False, 'kcc[+2]': 'ើ', 'kcc[+2]t': 'W', 'kcc[+1:+2]': 'លើ', 'kcc[0:+2]': 'ៅលើ', 'ns+2': False, 'kcc[+3]': 'ផ', 'kcc[+3]t': 'C', 'kcc[+2:+3]': 'ើផ', 'kcc[+1:+3]': 'លើផ', 'kcc[0:+3]': 'ៅលើផ'}, {'kcc': 'ល', 't': 'C', 'ns': False, 'kcc[-1]': 'ៅ', 'kcc[-1]t': 'W', 'kcc[-1:0]': 'ៅល', 'ns-1': False, 'kcc[-2]': 'ទ', 'kcc[-2]t': 'C', 'kcc[-2:-1]': 'ទៅ', 'kcc[-2:0]': 'ទៅល', 'kcc[-3]': 'វ', 'kcc[-3]t': 'C', 'kcc[-3:0]': 'វទៅល', 'kcc[-3:-1]': 'វទៅ', 'kcc[-3:-2]': 'វទ', 'kcc[+1]': 'ើ', 'kcc[+1]t': 'W', 'kcc[+1:0]': 'លើ', 'ns+1': False, 'kcc[+2]': 'ផ', 'kcc[+2]t': 'C', 'kcc[+1:+2]': 'ើផ', 'kcc[0:+2]': 'លើផ', 'ns+2': False, 'kcc[+3]': 'ល', 'kcc[+3]t': 'C', 'kcc[+2:+3]': 'ផល', 'kcc[+1:+3]': 'ើផល', 'kcc[0:+3]': 'លើផល'}, {'kcc': 'ើ', 't': 'W', 'ns': False, 'kcc[-1]': 'ល', 'kcc[-1]t': 'C', 'kcc[-1:0]': 'លើ', 'ns-1': False, 'kcc[-2]': 'ៅ', 'kcc[-2]t': 'W', 'kcc[-2:-1]': 'ៅល', 'kcc[-2:0]': 'ៅលើ', 'kcc[-3]': 'ទ', 'kcc[-3]t': 'C', 'kcc[-3:0]': 'ទៅលើ', 'kcc[-3:-1]': 'ទៅល', 'kcc[-3:-2]': 'ទៅ', 'kcc[+1]': 'ផ', 'kcc[+1]t': 'C', 'kcc[+1:0]': 'ើផ', 'ns+1': False, 'kcc[+2]': 'ល', 'kcc[+2]t': 'C', 'kcc[+1:+2]': 'ផល', 'kcc[0:+2]': 'ើផល', 'ns+2': False, 'kcc[+3]': 'ិ', 'kcc[+3]t': 'W', 'kcc[+2:+3]': 'លិ', 'kcc[+1:+3]': 'ផលិ', 'kcc[0:+3]': 'ើផលិ'}, {'kcc': 'ផ', 't': 'C', 'ns': False, 'kcc[-1]': 'ើ', 'kcc[-1]t': 'W', 'kcc[-1:0]': 'ើផ', 'ns-1': False, 'kcc[-2]': 'ល', 'kcc[-2]t': 'C', 'kcc[-2:-1]': 'លើ', 'kcc[-2:0]': 'លើផ', 'kcc[-3]': 'ៅ', 'kcc[-3]t': 'W', 'kcc[-3:0]': 'ៅលើផ', 'kcc[-3:-1]': 'ៅលើ', 'kcc[-3:-2]': 'ៅល', 'kcc[+1]': 'ល', 'kcc[+1]t': 'C', 'kcc[+1:0]': 'ផល', 'ns+1': False, 'kcc[+2]': 'ិ', 'kcc[+2]t': 'W', 'kcc[+1:+2]': 'លិ', 'kcc[0:+2]': 'ផលិ', 'ns+2': False, 'kcc[+3]': 'ត', 'kcc[+3]t': 'C', 'kcc[+2:+3]': 'ិត', 'kcc[+1:+3]': 'លិត', 'kcc[0:+3]': 'ផលិត'}, {'kcc': 'ល', 't': 'C', 'ns': False, 'kcc[-1]': 'ផ', 'kcc[-1]t': 'C', 'kcc[-1:0]': 'ផល', 'ns-1': False, 'kcc[-2]': 'ើ', 'kcc[-2]t': 'W', 'kcc[-2:-1]': 'ើផ', 'kcc[-2:0]': 'ើផល', 'kcc[-3]': 'ល', 'kcc[-3]t': 'C', 'kcc[-3:0]': 'លើផល', 'kcc[-3:-1]': 'លើផ', 'kcc[-3:-2]': 'លើ', 'kcc[+1]': 'ិ', 'kcc[+1]t': 'W', 'kcc[+1:0]': 'លិ', 'ns+1': False, 'kcc[+2]': 'ត', 'kcc[+2]t': 'C', 'kcc[+1:+2]': 'ិត', 'kcc[0:+2]': 'លិត', 'ns+2': False, 'kcc[+3]': 'ផ', 'kcc[+3]t': 'C', 'kcc[+2:+3]': 'តផ', 'kcc[+1:+3]': 'ិតផ', 'kcc[0:+3]': 'លិតផ'}, {'kcc': 'ិ', 't': 'W', 'ns': False, 'kcc[-1]': 'ល', 'kcc[-1]t': 'C', 'kcc[-1:0]': 'លិ', 'ns-1': False, 'kcc[-2]': 'ផ', 'kcc[-2]t': 'C', 'kcc[-2:-1]': 'ផល', 'kcc[-2:0]': 'ផលិ', 'kcc[-3]': 'ើ', 'kcc[-3]t': 'W', 'kcc[-3:0]': 'ើផលិ', 'kcc[-3:-1]': 'ើផល', 'kcc[-3:-2]': 'ើផ', 'kcc[+1]': 'ត', 'kcc[+1]t': 'C', 'kcc[+1:0]': 'ិត', 'ns+1': False, 'kcc[+2]': 'ផ', 'kcc[+2]t': 'C', 'kcc[+1:+2]': 'តផ', 'kcc[0:+2]': 'ិតផ', 'ns+2': False, 'kcc[+3]': 'ល', 'kcc[+3]t': 'C', 'kcc[+2:+3]': 'ផល', 'kcc[+1:+3]': 'តផល', 'kcc[0:+3]': 'ិតផល'}, {'kcc': 'ត', 't': 'C', 'ns': False, 'kcc[-1]': 'ិ', 'kcc[-1]t': 'W', 'kcc[-1:0]': 'ិត', 'ns-1': False, 'kcc[-2]': 'ល', 'kcc[-2]t': 'C', 'kcc[-2:-1]': 'លិ', 'kcc[-2:0]': 'លិត', 'kcc[-3]': 'ផ', 'kcc[-3]t': 'C', 'kcc[-3:0]': 'ផលិត', 'kcc[-3:-1]': 'ផលិ', 'kcc[-3:-2]': 'ផល', 'kcc[+1]': 'ផ', 'kcc[+1]t': 'C', 'kcc[+1:0]': 'តផ', 'ns+1': False, 'kcc[+2]': 'ល', 'kcc[+2]t': 'C', 'kcc[+1:+2]': 'ផល', 'kcc[0:+2]': 'តផល', 'ns+2': False, 'kcc[+3]': 'ជ', 'kcc[+3]t': 'C', 'kcc[+2:+3]': 'លជ', 'kcc[+1:+3]': 'ផលជ', 'kcc[0:+3]': 'តផលជ'}, {'kcc': 'ផ', 't': 'C', 'ns': False, 'kcc[-1]': 'ត', 'kcc[-1]t': 'C', 'kcc[-1:0]': 'តផ', 'ns-1': False, 'kcc[-2]': 'ិ', 'kcc[-2]t': 'W', 'kcc[-2:-1]': 'ិត', 'kcc[-2:0]': 'ិតផ', 'kcc[-3]': 'ល', 'kcc[-3]t': 'C', 'kcc[-3:0]': 'លិតផ', 'kcc[-3:-1]': 'លិត', 'kcc[-3:-2]': 'លិ', 'kcc[+1]': 'ល', 'kcc[+1]t': 'C', 'kcc[+1:0]': 'ផល', 'ns+1': False, 'kcc[+2]': 'ជ', 'kcc[+2]t': 'C', 'kcc[+1:+2]': 'លជ', 'kcc[0:+2]': 'ផលជ', 'ns+2': False, 'kcc[+3]': 'ំ', 'kcc[+3]t': 'W', 'kcc[+2:+3]': 'ជំ', 'kcc[+1:+3]': 'លជំ', 'kcc[0:+3]': 'ផលជំ'}, {'kcc': 'ល', 't': 'C', 'ns': False, 'kcc[-1]': 'ផ', 'kcc[-1]t': 'C', 'kcc[-1:0]': 'ផល', 'ns-1': False, 'kcc[-2]': 'ត', 'kcc[-2]t': 'C', 'kcc[-2:-1]': 'តផ', 'kcc[-2:0]': 'តផល', 'kcc[-3]': 'ិ', 'kcc[-3]t': 'W', 'kcc[-3:0]': 'ិតផល', 'kcc[-3:-1]': 'ិតផ', 'kcc[-3:-2]': 'ិត', 'kcc[+1]': 'ជ', 'kcc[+1]t': 'C', 'kcc[+1:0]': 'លជ', 'ns+1': False, 'kcc[+2]': 'ំ', 'kcc[+2]t': 'W', 'kcc[+1:+2]': 'ជំ', 'kcc[0:+2]': 'លជំ', 'ns+2': False, 'kcc[+3]': 'ន', 'kcc[+3]t': 'C', 'kcc[+2:+3]': 'ំន', 'kcc[+1:+3]': 'ជំន', 'kcc[0:+3]': 'លជំន'}, {'kcc': 'ជ', 't': 'C', 'ns': False, 'kcc[-1]': 'ល', 'kcc[-1]t': 'C', 'kcc[-1:0]': 'លជ', 'ns-1': False, 'kcc[-2]': 'ផ', 'kcc[-2]t': 'C', 'kcc[-2:-1]': 'ផល', 'kcc[-2:0]': 'ផលជ', 'kcc[-3]': 'ត', 'kcc[-3]t': 'C', 'kcc[-3:0]': 'តផលជ', 'kcc[-3:-1]': 'តផល', 'kcc[-3:-2]': 'តផ', 'kcc[+1]': 'ំ', 'kcc[+1]t': 'W', 'kcc[+1:0]': 'ជំ', 'ns+1': False, 'kcc[+2]': 'ន', 'kcc[+2]t': 'C', 'kcc[+1:+2]': 'ំន', 'kcc[0:+2]': 'ជំន', 'ns+2': False, 'kcc[+3]': 'ួ', 'kcc[+3]t': 'W', 'kcc[+2:+3]': 'នួ', 'kcc[+1:+3]': 'ំនួ', 'kcc[0:+3]': 'ជំនួ'}, {'kcc': 'ំ', 't': 'W', 'ns': False, 'kcc[-1]': 'ជ', 'kcc[-1]t': 'C', 'kcc[-1:0]': 'ជំ', 'ns-1': False, 'kcc[-2]': 'ល', 'kcc[-2]t': 'C', 'kcc[-2:-1]': 'លជ', 'kcc[-2:0]': 'លជំ', 'kcc[-3]': 'ផ', 'kcc[-3]t': 'C', 'kcc[-3:0]': 'ផលជំ', 'kcc[-3:-1]': 'ផលជ', 'kcc[-3:-2]': 'ផល', 'kcc[+1]': 'ន', 'kcc[+1]t': 'C', 'kcc[+1:0]': 'ំន', 'ns+1': False, 'kcc[+2]': 'ួ', 'kcc[+2]t': 'W', 'kcc[+1:+2]': 'នួ', 'kcc[0:+2]': 'ំនួ', 'ns+2': False, 'kcc[+3]': 'ស', 'kcc[+3]t': 'C', 'kcc[+2:+3]': 'ួស', 'kcc[+1:+3]': 'នួស', 'kcc[0:+3]': 'ំនួស'}, {'kcc': 'ន', 't': 'C', 'ns': False, 'kcc[-1]': 'ំ', 'kcc[-1]t': 'W', 'kcc[-1:0]': 'ំន', 'ns-1': False, 'kcc[-2]': 'ជ', 'kcc[-2]t': 'C', 'kcc[-2:-1]': 'ជំ', 'kcc[-2:0]': 'ជំន', 'kcc[-3]': 'ល', 'kcc[-3]t': 'C', 'kcc[-3:0]': 'លជំន', 'kcc[-3:-1]': 'លជំ', 'kcc[-3:-2]': 'លជ', 'kcc[+1]': 'ួ', 'kcc[+1]t': 'W', 'kcc[+1:0]': 'នួ', 'ns+1': False, 'kcc[+2]': 'ស', 'kcc[+2]t': 'C', 'kcc[+1:+2]': 'ួស', 'kcc[0:+2]': 'នួស', 'ns+2': False, 'kcc[+3]': 'រ', 'kcc[+3]t': 'C', 'kcc[+2:+3]': 'សរ', 'kcc[+1:+3]': 'ួសរ', 'kcc[0:+3]': 'នួសរ'}, {'kcc': 'ួ', 't': 'W', 'ns': False, 'kcc[-1]': 'ន', 'kcc[-1]t': 'C', 'kcc[-1:0]': 'នួ', 'ns-1': False, 'kcc[-2]': 'ំ', 'kcc[-2]t': 'W', 'kcc[-2:-1]': 'ំន', 'kcc[-2:0]': 'ំនួ', 'kcc[-3]': 'ជ', 'kcc[-3]t': 'C', 'kcc[-3:0]': 'ជំនួ', 'kcc[-3:-1]': 'ជំន', 'kcc[-3:-2]': 'ជំ', 'kcc[+1]': 'ស', 'kcc[+1]t': 'C', 'kcc[+1:0]': 'ួស', 'ns+1': False, 'kcc[+2]': 'រ', 'kcc[+2]t': 'C', 'kcc[+1:+2]': 'សរ', 'kcc[0:+2]': 'ួសរ', 'ns+2': False, 'kcc[+3]': 'ប', 'kcc[+3]t': 'C', 'kcc[+2:+3]': 'រប', 'kcc[+1:+3]': 'សរប', 'kcc[0:+3]': 'ួសរប'}, {'kcc': 'ស', 't': 'C', 'ns': False, 'kcc[-1]': 'ួ', 'kcc[-1]t': 'W', 'kcc[-1:0]': 'ួស', 'ns-1': False, 'kcc[-2]': 'ន', 'kcc[-2]t': 'C', 'kcc[-2:-1]': 'នួ', 'kcc[-2:0]': 'នួស', 'kcc[-3]': 'ំ', 'kcc[-3]t': 'W', 'kcc[-3:0]': 'ំនួស', 'kcc[-3:-1]': 'ំនួ', 'kcc[-3:-2]': 'ំន', 'kcc[+1]': 'រ', 'kcc[+1]t': 'C', 'kcc[+1:0]': 'សរ', 'ns+1': False, 'kcc[+2]': 'ប', 'kcc[+2]t': 'C', 'kcc[+1:+2]': 'រប', 'kcc[0:+2]': 'សរប', 'ns+2': False, 'kcc[+3]': 'ស', 'kcc[+3]t': 'C', 'kcc[+2:+3]': 'បស', 'kcc[+1:+3]': 'របស', 'kcc[0:+3]': 'សរបស'}, {'kcc': 'រ', 't': 'C', 'ns': False, 'kcc[-1]': 'ស', 'kcc[-1]t': 'C', 'kcc[-1:0]': 'សរ', 'ns-1': False, 'kcc[-2]': 'ួ', 'kcc[-2]t': 'W', 'kcc[-2:-1]': 'ួស', 'kcc[-2:0]': 'ួសរ', 'kcc[-3]': 'ន', 'kcc[-3]t': 'C', 'kcc[-3:0]': 'នួសរ', 'kcc[-3:-1]': 'នួស', 'kcc[-3:-2]': 'នួ', 'kcc[+1]': 'ប', 'kcc[+1]t': 'C', 'kcc[+1:0]': 'រប', 'ns+1': False, 'kcc[+2]': 'ស', 'kcc[+2]t': 'C', 'kcc[+1:+2]': 'បស', 'kcc[0:+2]': 'របស', 'ns+2': False, 'kcc[+3]': '់', 'kcc[+3]t': 'D', 'kcc[+2:+3]': 'ស់', 'kcc[+1:+3]': 'បស់', 'kcc[0:+3]': 'របស់'}, {'kcc': 'ប', 't': 'C', 'ns': False, 'kcc[-1]': 'រ', 'kcc[-1]t': 'C', 'kcc[-1:0]': 'រប', 'ns-1': False, 'kcc[-2]': 'ស', 'kcc[-2]t': 'C', 'kcc[-2:-1]': 'សរ', 'kcc[-2:0]': 'សរប', 'kcc[-3]': 'ួ', 'kcc[-3]t': 'W', 'kcc[-3:0]': 'ួសរប', 'kcc[-3:-1]': 'ួសរ', 'kcc[-3:-2]': 'ួស', 'kcc[+1]': 'ស', 'kcc[+1]t': 'C', 'kcc[+1:0]': 'បស', 'ns+1': False, 'kcc[+2]': '់', 'kcc[+2]t': 'D', 'kcc[+1:+2]': 'ស់', 'kcc[0:+2]': 'បស់', 'ns+2': False, 'kcc[+3]': 'វ', 'kcc[+3]t': 'C', 'kcc[+2:+3]': '់វ', 'kcc[+1:+3]': 'ស់វ', 'kcc[0:+3]': 'បស់វ'}, {'kcc': 'ស', 't': 'C', 'ns': False, 'kcc[-1]': 'ប', 'kcc[-1]t': 'C', 'kcc[-1:0]': 'បស', 'ns-1': False, 'kcc[-2]': 'រ', 'kcc[-2]t': 'C', 'kcc[-2:-1]': 'រប', 'kcc[-2:0]': 'របស', 'kcc[-3]': 'ស', 'kcc[-3]t': 'C', 'kcc[-3:0]': 'សរបស', 'kcc[-3:-1]': 'សរប', 'kcc[-3:-2]': 'សរ', 'kcc[+1]': '់', 'kcc[+1]t': 'D', 'kcc[+1:0]': 'ស់', 'ns+1': False, 'kcc[+2]': 'វ', 'kcc[+2]t': 'C', 'kcc[+1:+2]': '់វ', 'kcc[0:+2]': 'ស់វ', 'ns+2': False, 'kcc[+3]': 'ា', 'kcc[+3]t': 'W', 'kcc[+2:+3]': 'វា', 'kcc[+1:+3]': '់វា', 'kcc[0:+3]': 'ស់វា'}, {'kcc': '់', 't': 'D', 'ns': False, 'kcc[-1]': 'ស', 'kcc[-1]t': 'C', 'kcc[-1:0]': 'ស់', 'ns-1': False, 'kcc[-2]': 'ប', 'kcc[-2]t': 'C', 'kcc[-2:-1]': 'បស', 'kcc[-2:0]': 'បស់', 'kcc[-3]': 'រ', 'kcc[-3]t': 'C', 'kcc[-3:0]': 'របស់', 'kcc[-3:-1]': 'របស', 'kcc[-3:-2]': 'រប', 'kcc[+1]': 'វ', 'kcc[+1]t': 'C', 'kcc[+1:0]': '់វ', 'ns+1': False, 'kcc[+2]': 'ា', 'kcc[+2]t': 'W', 'kcc[+1:+2]': 'វា', 'kcc[0:+2]': '់វា', 'ns+2': False, 'kcc[+3]': '។', 'kcc[+3]t': 'NS', 'kcc[+2:+3]': 'ា។', 'kcc[+1:+3]': 'វា។', 'kcc[0:+3]': '់វា។'}, {'kcc': 'វ', 't': 'C', 'ns': False, 'kcc[-1]': '់', 'kcc[-1]t': 'D', 'kcc[-1:0]': '់វ', 'ns-1': False, 'kcc[-2]': 'ស', 'kcc[-2]t': 'C', 'kcc[-2:-1]': 'ស់', 'kcc[-2:0]': 'ស់វ', 'kcc[-3]': 'ប', 'kcc[-3]t': 'C', 'kcc[-3:0]': 'បស់វ', 'kcc[-3:-1]': 'បស់', 'kcc[-3:-2]': 'បស', 'kcc[+1]': 'ា', 'kcc[+1]t': 'W', 'kcc[+1:0]': 'វា', 'ns+1': False, 'kcc[+2]': '។', 'kcc[+2]t': 'NS', 'kcc[+1:+2]': 'ា។', 'kcc[0:+2]': 'វា។', 'ns+2': True}, {'kcc': 'ា', 't': 'W', 'ns': False, 'kcc[-1]': 'វ', 'kcc[-1]t': 'C', 'kcc[-1:0]': 'វា', 'ns-1': False, 'kcc[-2]': '់', 'kcc[-2]t': 'D', 'kcc[-2:-1]': '់វ', 'kcc[-2:0]': '់វា', 'kcc[-3]': 'ស', 'kcc[-3]t': 'C', 'kcc[-3:0]': 'ស់វា', 'kcc[-3:-1]': 'ស់វ', 'kcc[-3:-2]': 'ស់', 'kcc[+1]': '។', 'kcc[+1]t': 'NS', 'kcc[+1:0]': 'ា។', 'ns+1': True}, {'kcc': '។', 't': 'NS', 'ns': True, 'kcc[-1]': 'ា', 'kcc[-1]t': 'W', 'kcc[-1:0]': 'ា។', 'ns-1': False, 'kcc[-2]': 'វ', 'kcc[-2]t': 'C', 'kcc[-2:-1]': 'វា', 'kcc[-2:0]': 'វា។', 'kcc[-3]': '់', 'kcc[-3]t': 'D', 'kcc[-3:0]': '់វា។', 'kcc[-3:-1]': '់វា', 'kcc[-3:-2]': '់វ', 'EOS': True}]\n",
            "y 1000 y[0] ['1', '0', '0', '1', '0', '0', '1', '0', '1', '0', '0', '1', '0', '1', '0', '0', '0', '0', '1', '0', '0', '0', '1', '0', '1', '0', '1', '0', '0', '0', '1', '0', '1', '0', '0', '0', '0', '1', '0', '0', '1', '0', '0', '0', '1', '0', '0', '0', '0', '0', '1', '0', '0', '1', '0', '0', '0', '0', '0', '0', '0', '0', '0', '1', '0', '1', '0', '1', '0', '0', '0', '0', '1', '0', '0', '0', '0', '1', '0', '0', '0', '0', '0', '1', '0', '0', '0', '0', '0', '1', '0', '0', '1', '0', '0', '0', '0', '1', '0', '0', '0', '0', '1', '0', '0', '1', '0', '0', '0', '0', '0', '1', '0', '1', '0', '0', '0', '1', '0', '0', '0', '0', '1', '0', '0', '1', '0', '0', '0', '0', '0', '0', '0', '0', '0', '1', '0', '1', '0', '0', '0', '1', '0', '1', '0', '0', '0', '0', '1', '0', '0', '1', '0', '0', '1', '0', '0', '0', '0', '0', '1', '0', '0', '1', '0', '0', '0', '0', '0', '0', '0', '0', '0', '1', '0', '1', '0', '1', '0', '0', '0', '1', '0', '1', '0', '0', '0', '0', '1', '0', '0', '0', '1', '0', '1']\n",
            "len X_train_char: 800  data: [{'kcc': 'គ', 't': 'C', 'ns': False, 'BOS': True, 'kcc[+1]': 'ា', 'kcc[+1]t': 'W', 'kcc[+1:0]': 'គា', 'ns+1': False, 'kcc[+2]': 'ត', 'kcc[+2]t': 'C', 'kcc[+1:+2]': 'ាត', 'kcc[0:+2]': 'គាត', 'ns+2': False, 'kcc[+3]': '់', 'kcc[+3]t': 'D', 'kcc[+2:+3]': 'ត់', 'kcc[+1:+3]': 'ាត់', 'kcc[0:+3]': 'គាត់'}, {'kcc': 'ា', 't': 'W', 'ns': False, 'kcc[-1]': 'គ', 'kcc[-1]t': 'C', 'kcc[-1:0]': 'គា', 'ns-1': False, 'kcc[+1]': 'ត', 'kcc[+1]t': 'C', 'kcc[+1:0]': 'ាត', 'ns+1': False, 'kcc[+2]': '់', 'kcc[+2]t': 'D', 'kcc[+1:+2]': 'ត់', 'kcc[0:+2]': 'ាត់', 'ns+2': False, 'kcc[+3]': 'ប', 'kcc[+3]t': 'C', 'kcc[+2:+3]': '់ប', 'kcc[+1:+3]': 'ត់ប', 'kcc[0:+3]': 'ាត់ប'}, {'kcc': 'ត', 't': 'C', 'ns': False, 'kcc[-1]': 'ា', 'kcc[-1]t': 'W', 'kcc[-1:0]': 'ាត', 'ns-1': False, 'kcc[-2]': 'គ', 'kcc[-2]t': 'C', 'kcc[-2:-1]': 'គា', 'kcc[-2:0]': 'គាត', 'kcc[+1]': '់', 'kcc[+1]t': 'D', 'kcc[+1:0]': 'ត់', 'ns+1': False, 'kcc[+2]': 'ប', 'kcc[+2]t': 'C', 'kcc[+1:+2]': '់ប', 'kcc[0:+2]': 'ត់ប', 'ns+2': False, 'kcc[+3]': 'ា', 'kcc[+3]t': 'W', 'kcc[+2:+3]': 'បា', 'kcc[+1:+3]': '់បា', 'kcc[0:+3]': 'ត់បា'}, {'kcc': '់', 't': 'D', 'ns': False, 'kcc[-1]': 'ត', 'kcc[-1]t': 'C', 'kcc[-1:0]': 'ត់', 'ns-1': False, 'kcc[-2]': 'ា', 'kcc[-2]t': 'W', 'kcc[-2:-1]': 'ាត', 'kcc[-2:0]': 'ាត់', 'kcc[-3]': 'គ', 'kcc[-3]t': 'C', 'kcc[-3:0]': 'គាត់', 'kcc[-3:-1]': 'គាត', 'kcc[-3:-2]': 'គា', 'kcc[+1]': 'ប', 'kcc[+1]t': 'C', 'kcc[+1:0]': '់ប', 'ns+1': False, 'kcc[+2]': 'ា', 'kcc[+2]t': 'W', 'kcc[+1:+2]': 'បា', 'kcc[0:+2]': '់បា', 'ns+2': False, 'kcc[+3]': 'ន', 'kcc[+3]t': 'C', 'kcc[+2:+3]': 'ាន', 'kcc[+1:+3]': 'បាន', 'kcc[0:+3]': '់បាន'}, {'kcc': 'ប', 't': 'C', 'ns': False, 'kcc[-1]': '់', 'kcc[-1]t': 'D', 'kcc[-1:0]': '់ប', 'ns-1': False, 'kcc[-2]': 'ត', 'kcc[-2]t': 'C', 'kcc[-2:-1]': 'ត់', 'kcc[-2:0]': 'ត់ប', 'kcc[-3]': 'ា', 'kcc[-3]t': 'W', 'kcc[-3:0]': 'ាត់ប', 'kcc[-3:-1]': 'ាត់', 'kcc[-3:-2]': 'ាត', 'kcc[+1]': 'ា', 'kcc[+1]t': 'W', 'kcc[+1:0]': 'បា', 'ns+1': False, 'kcc[+2]': 'ន', 'kcc[+2]t': 'C', 'kcc[+1:+2]': 'ាន', 'kcc[0:+2]': 'បាន', 'ns+2': False, 'kcc[+3]': 'ឈ', 'kcc[+3]t': 'C', 'kcc[+2:+3]': 'នឈ', 'kcc[+1:+3]': 'ានឈ', 'kcc[0:+3]': 'បានឈ'}, {'kcc': 'ា', 't': 'W', 'ns': False, 'kcc[-1]': 'ប', 'kcc[-1]t': 'C', 'kcc[-1:0]': 'បា', 'ns-1': False, 'kcc[-2]': '់', 'kcc[-2]t': 'D', 'kcc[-2:-1]': '់ប', 'kcc[-2:0]': '់បា', 'kcc[-3]': 'ត', 'kcc[-3]t': 'C', 'kcc[-3:0]': 'ត់បា', 'kcc[-3:-1]': 'ត់ប', 'kcc[-3:-2]': 'ត់', 'kcc[+1]': 'ន', 'kcc[+1]t': 'C', 'kcc[+1:0]': 'ាន', 'ns+1': False, 'kcc[+2]': 'ឈ', 'kcc[+2]t': 'C', 'kcc[+1:+2]': 'នឈ', 'kcc[0:+2]': 'ានឈ', 'ns+2': False, 'kcc[+3]': 'រ', 'kcc[+3]t': 'C', 'kcc[+2:+3]': 'ឈរ', 'kcc[+1:+3]': 'នឈរ', 'kcc[0:+3]': 'ានឈរ'}, {'kcc': 'ន', 't': 'C', 'ns': False, 'kcc[-1]': 'ា', 'kcc[-1]t': 'W', 'kcc[-1:0]': 'ាន', 'ns-1': False, 'kcc[-2]': 'ប', 'kcc[-2]t': 'C', 'kcc[-2:-1]': 'បា', 'kcc[-2:0]': 'បាន', 'kcc[-3]': '់', 'kcc[-3]t': 'D', 'kcc[-3:0]': '់បាន', 'kcc[-3:-1]': '់បា', 'kcc[-3:-2]': '់ប', 'kcc[+1]': 'ឈ', 'kcc[+1]t': 'C', 'kcc[+1:0]': 'នឈ', 'ns+1': False, 'kcc[+2]': 'រ', 'kcc[+2]t': 'C', 'kcc[+1:+2]': 'ឈរ', 'kcc[0:+2]': 'នឈរ', 'ns+2': False, 'kcc[+3]': 'ឈ', 'kcc[+3]t': 'C', 'kcc[+2:+3]': 'រឈ', 'kcc[+1:+3]': 'ឈរឈ', 'kcc[0:+3]': 'នឈរឈ'}, {'kcc': 'ឈ', 't': 'C', 'ns': False, 'kcc[-1]': 'ន', 'kcc[-1]t': 'C', 'kcc[-1:0]': 'នឈ', 'ns-1': False, 'kcc[-2]': 'ា', 'kcc[-2]t': 'W', 'kcc[-2:-1]': 'ាន', 'kcc[-2:0]': 'ានឈ', 'kcc[-3]': 'ប', 'kcc[-3]t': 'C', 'kcc[-3:0]': 'បានឈ', 'kcc[-3:-1]': 'បាន', 'kcc[-3:-2]': 'បា', 'kcc[+1]': 'រ', 'kcc[+1]t': 'C', 'kcc[+1:0]': 'ឈរ', 'ns+1': False, 'kcc[+2]': 'ឈ', 'kcc[+2]t': 'C', 'kcc[+1:+2]': 'រឈ', 'kcc[0:+2]': 'ឈរឈ', 'ns+2': False, 'kcc[+3]': '្', 'kcc[+3]t': 'S', 'kcc[+2:+3]': 'ឈ្', 'kcc[+1:+3]': 'រឈ្', 'kcc[0:+3]': 'ឈរឈ្'}, {'kcc': 'រ', 't': 'C', 'ns': False, 'kcc[-1]': 'ឈ', 'kcc[-1]t': 'C', 'kcc[-1:0]': 'ឈរ', 'ns-1': False, 'kcc[-2]': 'ន', 'kcc[-2]t': 'C', 'kcc[-2:-1]': 'នឈ', 'kcc[-2:0]': 'នឈរ', 'kcc[-3]': 'ា', 'kcc[-3]t': 'W', 'kcc[-3:0]': 'ានឈរ', 'kcc[-3:-1]': 'ានឈ', 'kcc[-3:-2]': 'ាន', 'kcc[+1]': 'ឈ', 'kcc[+1]t': 'C', 'kcc[+1:0]': 'រឈ', 'ns+1': False, 'kcc[+2]': '្', 'kcc[+2]t': 'S', 'kcc[+1:+2]': 'ឈ្', 'kcc[0:+2]': 'រឈ្', 'ns+2': False, 'kcc[+3]': 'ម', 'kcc[+3]t': 'C', 'kcc[+2:+3]': '្ម', 'kcc[+1:+3]': 'ឈ្ម', 'kcc[0:+3]': 'រឈ្ម'}, {'kcc': 'ឈ', 't': 'C', 'ns': False, 'kcc[-1]': 'រ', 'kcc[-1]t': 'C', 'kcc[-1:0]': 'រឈ', 'ns-1': False, 'kcc[-2]': 'ឈ', 'kcc[-2]t': 'C', 'kcc[-2:-1]': 'ឈរ', 'kcc[-2:0]': 'ឈរឈ', 'kcc[-3]': 'ន', 'kcc[-3]t': 'C', 'kcc[-3:0]': 'នឈរឈ', 'kcc[-3:-1]': 'នឈរ', 'kcc[-3:-2]': 'នឈ', 'kcc[+1]': '្', 'kcc[+1]t': 'S', 'kcc[+1:0]': 'ឈ្', 'ns+1': False, 'kcc[+2]': 'ម', 'kcc[+2]t': 'C', 'kcc[+1:+2]': '្ម', 'kcc[0:+2]': 'ឈ្ម', 'ns+2': False, 'kcc[+3]': 'ោ', 'kcc[+3]t': 'W', 'kcc[+2:+3]': 'មោ', 'kcc[+1:+3]': '្មោ', 'kcc[0:+3]': 'ឈ្មោ'}, {'kcc': '្', 't': 'S', 'ns': False, 'kcc[-1]': 'ឈ', 'kcc[-1]t': 'C', 'kcc[-1:0]': 'ឈ្', 'ns-1': False, 'kcc[-2]': 'រ', 'kcc[-2]t': 'C', 'kcc[-2:-1]': 'រឈ', 'kcc[-2:0]': 'រឈ្', 'kcc[-3]': 'ឈ', 'kcc[-3]t': 'C', 'kcc[-3:0]': 'ឈរឈ្', 'kcc[-3:-1]': 'ឈរឈ', 'kcc[-3:-2]': 'ឈរ', 'kcc[+1]': 'ម', 'kcc[+1]t': 'C', 'kcc[+1:0]': '្ម', 'ns+1': False, 'kcc[+2]': 'ោ', 'kcc[+2]t': 'W', 'kcc[+1:+2]': 'មោ', 'kcc[0:+2]': '្មោ', 'ns+2': False, 'kcc[+3]': 'ះ', 'kcc[+3]t': 'W', 'kcc[+2:+3]': 'ោះ', 'kcc[+1:+3]': 'មោះ', 'kcc[0:+3]': '្មោះ'}, {'kcc': 'ម', 't': 'C', 'ns': False, 'kcc[-1]': '្', 'kcc[-1]t': 'S', 'kcc[-1:0]': '្ម', 'ns-1': False, 'kcc[-2]': 'ឈ', 'kcc[-2]t': 'C', 'kcc[-2:-1]': 'ឈ្', 'kcc[-2:0]': 'ឈ្ម', 'kcc[-3]': 'រ', 'kcc[-3]t': 'C', 'kcc[-3:0]': 'រឈ្ម', 'kcc[-3:-1]': 'រឈ្', 'kcc[-3:-2]': 'រឈ', 'kcc[+1]': 'ោ', 'kcc[+1]t': 'W', 'kcc[+1:0]': 'មោ', 'ns+1': False, 'kcc[+2]': 'ះ', 'kcc[+2]t': 'W', 'kcc[+1:+2]': 'ោះ', 'kcc[0:+2]': 'មោះ', 'ns+2': False, 'kcc[+3]': 'ជ', 'kcc[+3]t': 'C', 'kcc[+2:+3]': 'ះជ', 'kcc[+1:+3]': 'ោះជ', 'kcc[0:+3]': 'មោះជ'}, {'kcc': 'ោ', 't': 'W', 'ns': False, 'kcc[-1]': 'ម', 'kcc[-1]t': 'C', 'kcc[-1:0]': 'មោ', 'ns-1': False, 'kcc[-2]': '្', 'kcc[-2]t': 'S', 'kcc[-2:-1]': '្ម', 'kcc[-2:0]': '្មោ', 'kcc[-3]': 'ឈ', 'kcc[-3]t': 'C', 'kcc[-3:0]': 'ឈ្មោ', 'kcc[-3:-1]': 'ឈ្ម', 'kcc[-3:-2]': 'ឈ្', 'kcc[+1]': 'ះ', 'kcc[+1]t': 'W', 'kcc[+1:0]': 'ោះ', 'ns+1': False, 'kcc[+2]': 'ជ', 'kcc[+2]t': 'C', 'kcc[+1:+2]': 'ះជ', 'kcc[0:+2]': 'ោះជ', 'ns+2': False, 'kcc[+3]': 'ា', 'kcc[+3]t': 'W', 'kcc[+2:+3]': 'ជា', 'kcc[+1:+3]': 'ះជា', 'kcc[0:+3]': 'ោះជា'}, {'kcc': 'ះ', 't': 'W', 'ns': False, 'kcc[-1]': 'ោ', 'kcc[-1]t': 'W', 'kcc[-1:0]': 'ោះ', 'ns-1': False, 'kcc[-2]': 'ម', 'kcc[-2]t': 'C', 'kcc[-2:-1]': 'មោ', 'kcc[-2:0]': 'មោះ', 'kcc[-3]': '្', 'kcc[-3]t': 'S', 'kcc[-3:0]': '្មោះ', 'kcc[-3:-1]': '្មោ', 'kcc[-3:-2]': '្ម', 'kcc[+1]': 'ជ', 'kcc[+1]t': 'C', 'kcc[+1:0]': 'ះជ', 'ns+1': False, 'kcc[+2]': 'ា', 'kcc[+2]t': 'W', 'kcc[+1:+2]': 'ជា', 'kcc[0:+2]': 'ះជា', 'ns+2': False, 'kcc[+3]': 'ប', 'kcc[+3]t': 'C', 'kcc[+2:+3]': 'ាប', 'kcc[+1:+3]': 'ជាប', 'kcc[0:+3]': 'ះជាប'}, {'kcc': 'ជ', 't': 'C', 'ns': False, 'kcc[-1]': 'ះ', 'kcc[-1]t': 'W', 'kcc[-1:0]': 'ះជ', 'ns-1': False, 'kcc[-2]': 'ោ', 'kcc[-2]t': 'W', 'kcc[-2:-1]': 'ោះ', 'kcc[-2:0]': 'ោះជ', 'kcc[-3]': 'ម', 'kcc[-3]t': 'C', 'kcc[-3:0]': 'មោះជ', 'kcc[-3:-1]': 'មោះ', 'kcc[-3:-2]': 'មោ', 'kcc[+1]': 'ា', 'kcc[+1]t': 'W', 'kcc[+1:0]': 'ជា', 'ns+1': False, 'kcc[+2]': 'ប', 'kcc[+2]t': 'C', 'kcc[+1:+2]': 'ាប', 'kcc[0:+2]': 'ជាប', 'ns+2': False, 'kcc[+3]': 'េ', 'kcc[+3]t': 'W', 'kcc[+2:+3]': 'បេ', 'kcc[+1:+3]': 'ាបេ', 'kcc[0:+3]': 'ជាបេ'}, {'kcc': 'ា', 't': 'W', 'ns': False, 'kcc[-1]': 'ជ', 'kcc[-1]t': 'C', 'kcc[-1:0]': 'ជា', 'ns-1': False, 'kcc[-2]': 'ះ', 'kcc[-2]t': 'W', 'kcc[-2:-1]': 'ះជ', 'kcc[-2:0]': 'ះជា', 'kcc[-3]': 'ោ', 'kcc[-3]t': 'W', 'kcc[-3:0]': 'ោះជា', 'kcc[-3:-1]': 'ោះជ', 'kcc[-3:-2]': 'ោះ', 'kcc[+1]': 'ប', 'kcc[+1]t': 'C', 'kcc[+1:0]': 'ាប', 'ns+1': False, 'kcc[+2]': 'េ', 'kcc[+2]t': 'W', 'kcc[+1:+2]': 'បេ', 'kcc[0:+2]': 'ាបេ', 'ns+2': False, 'kcc[+3]': 'ក', 'kcc[+3]t': 'C', 'kcc[+2:+3]': 'េក', 'kcc[+1:+3]': 'បេក', 'kcc[0:+3]': 'ាបេក'}, {'kcc': 'ប', 't': 'C', 'ns': False, 'kcc[-1]': 'ា', 'kcc[-1]t': 'W', 'kcc[-1:0]': 'ាប', 'ns-1': False, 'kcc[-2]': 'ជ', 'kcc[-2]t': 'C', 'kcc[-2:-1]': 'ជា', 'kcc[-2:0]': 'ជាប', 'kcc[-3]': 'ះ', 'kcc[-3]t': 'W', 'kcc[-3:0]': 'ះជាប', 'kcc[-3:-1]': 'ះជា', 'kcc[-3:-2]': 'ះជ', 'kcc[+1]': 'េ', 'kcc[+1]t': 'W', 'kcc[+1:0]': 'បេ', 'ns+1': False, 'kcc[+2]': 'ក', 'kcc[+2]t': 'C', 'kcc[+1:+2]': 'េក', 'kcc[0:+2]': 'បេក', 'ns+2': False, 'kcc[+3]': '្', 'kcc[+3]t': 'S', 'kcc[+2:+3]': 'ក្', 'kcc[+1:+3]': 'េក្', 'kcc[0:+3]': 'បេក្'}, {'kcc': 'េ', 't': 'W', 'ns': False, 'kcc[-1]': 'ប', 'kcc[-1]t': 'C', 'kcc[-1:0]': 'បេ', 'ns-1': False, 'kcc[-2]': 'ា', 'kcc[-2]t': 'W', 'kcc[-2:-1]': 'ាប', 'kcc[-2:0]': 'ាបេ', 'kcc[-3]': 'ជ', 'kcc[-3]t': 'C', 'kcc[-3:0]': 'ជាបេ', 'kcc[-3:-1]': 'ជាប', 'kcc[-3:-2]': 'ជា', 'kcc[+1]': 'ក', 'kcc[+1]t': 'C', 'kcc[+1:0]': 'េក', 'ns+1': False, 'kcc[+2]': '្', 'kcc[+2]t': 'S', 'kcc[+1:+2]': 'ក្', 'kcc[0:+2]': 'េក្', 'ns+2': False, 'kcc[+3]': 'ខ', 'kcc[+3]t': 'C', 'kcc[+2:+3]': '្ខ', 'kcc[+1:+3]': 'ក្ខ', 'kcc[0:+3]': 'េក្ខ'}, {'kcc': 'ក', 't': 'C', 'ns': False, 'kcc[-1]': 'េ', 'kcc[-1]t': 'W', 'kcc[-1:0]': 'េក', 'ns-1': False, 'kcc[-2]': 'ប', 'kcc[-2]t': 'C', 'kcc[-2:-1]': 'បេ', 'kcc[-2:0]': 'បេក', 'kcc[-3]': 'ា', 'kcc[-3]t': 'W', 'kcc[-3:0]': 'ាបេក', 'kcc[-3:-1]': 'ាបេ', 'kcc[-3:-2]': 'ាប', 'kcc[+1]': '្', 'kcc[+1]t': 'S', 'kcc[+1:0]': 'ក្', 'ns+1': False, 'kcc[+2]': 'ខ', 'kcc[+2]t': 'C', 'kcc[+1:+2]': '្ខ', 'kcc[0:+2]': 'ក្ខ', 'ns+2': False, 'kcc[+3]': 'ជ', 'kcc[+3]t': 'C', 'kcc[+2:+3]': 'ខជ', 'kcc[+1:+3]': '្ខជ', 'kcc[0:+3]': 'ក្ខជ'}, {'kcc': '្', 't': 'S', 'ns': False, 'kcc[-1]': 'ក', 'kcc[-1]t': 'C', 'kcc[-1:0]': 'ក្', 'ns-1': False, 'kcc[-2]': 'េ', 'kcc[-2]t': 'W', 'kcc[-2:-1]': 'េក', 'kcc[-2:0]': 'េក្', 'kcc[-3]': 'ប', 'kcc[-3]t': 'C', 'kcc[-3:0]': 'បេក្', 'kcc[-3:-1]': 'បេក', 'kcc[-3:-2]': 'បេ', 'kcc[+1]': 'ខ', 'kcc[+1]t': 'C', 'kcc[+1:0]': '្ខ', 'ns+1': False, 'kcc[+2]': 'ជ', 'kcc[+2]t': 'C', 'kcc[+1:+2]': 'ខជ', 'kcc[0:+2]': '្ខជ', 'ns+2': False, 'kcc[+3]': 'ន', 'kcc[+3]t': 'C', 'kcc[+2:+3]': 'ជន', 'kcc[+1:+3]': 'ខជន', 'kcc[0:+3]': '្ខជន'}, {'kcc': 'ខ', 't': 'C', 'ns': False, 'kcc[-1]': '្', 'kcc[-1]t': 'S', 'kcc[-1:0]': '្ខ', 'ns-1': False, 'kcc[-2]': 'ក', 'kcc[-2]t': 'C', 'kcc[-2:-1]': 'ក្', 'kcc[-2:0]': 'ក្ខ', 'kcc[-3]': 'េ', 'kcc[-3]t': 'W', 'kcc[-3:0]': 'េក្ខ', 'kcc[-3:-1]': 'េក្', 'kcc[-3:-2]': 'េក', 'kcc[+1]': 'ជ', 'kcc[+1]t': 'C', 'kcc[+1:0]': 'ខជ', 'ns+1': False, 'kcc[+2]': 'ន', 'kcc[+2]t': 'C', 'kcc[+1:+2]': 'ជន', 'kcc[0:+2]': 'ខជន', 'ns+2': False, 'kcc[+3]': 'ស', 'kcc[+3]t': 'C', 'kcc[+2:+3]': 'នស', 'kcc[+1:+3]': 'ជនស', 'kcc[0:+3]': 'ខជនស'}, {'kcc': 'ជ', 't': 'C', 'ns': False, 'kcc[-1]': 'ខ', 'kcc[-1]t': 'C', 'kcc[-1:0]': 'ខជ', 'ns-1': False, 'kcc[-2]': '្', 'kcc[-2]t': 'S', 'kcc[-2:-1]': '្ខ', 'kcc[-2:0]': '្ខជ', 'kcc[-3]': 'ក', 'kcc[-3]t': 'C', 'kcc[-3:0]': 'ក្ខជ', 'kcc[-3:-1]': 'ក្ខ', 'kcc[-3:-2]': 'ក្', 'kcc[+1]': 'ន', 'kcc[+1]t': 'C', 'kcc[+1:0]': 'ជន', 'ns+1': False, 'kcc[+2]': 'ស', 'kcc[+2]t': 'C', 'kcc[+1:+2]': 'នស', 'kcc[0:+2]': 'ជនស', 'ns+2': False, 'kcc[+3]': 'ា', 'kcc[+3]t': 'W', 'kcc[+2:+3]': 'សា', 'kcc[+1:+3]': 'នសា', 'kcc[0:+3]': 'ជនសា'}, {'kcc': 'ន', 't': 'C', 'ns': False, 'kcc[-1]': 'ជ', 'kcc[-1]t': 'C', 'kcc[-1:0]': 'ជន', 'ns-1': False, 'kcc[-2]': 'ខ', 'kcc[-2]t': 'C', 'kcc[-2:-1]': 'ខជ', 'kcc[-2:0]': 'ខជន', 'kcc[-3]': '្', 'kcc[-3]t': 'S', 'kcc[-3:0]': '្ខជន', 'kcc[-3:-1]': '្ខជ', 'kcc[-3:-2]': '្ខ', 'kcc[+1]': 'ស', 'kcc[+1]t': 'C', 'kcc[+1:0]': 'នស', 'ns+1': False, 'kcc[+2]': 'ា', 'kcc[+2]t': 'W', 'kcc[+1:+2]': 'សា', 'kcc[0:+2]': 'នសា', 'ns+2': False, 'kcc[+3]': 'ធ', 'kcc[+3]t': 'C', 'kcc[+2:+3]': 'ាធ', 'kcc[+1:+3]': 'សាធ', 'kcc[0:+3]': 'នសាធ'}, {'kcc': 'ស', 't': 'C', 'ns': False, 'kcc[-1]': 'ន', 'kcc[-1]t': 'C', 'kcc[-1:0]': 'នស', 'ns-1': False, 'kcc[-2]': 'ជ', 'kcc[-2]t': 'C', 'kcc[-2:-1]': 'ជន', 'kcc[-2:0]': 'ជនស', 'kcc[-3]': 'ខ', 'kcc[-3]t': 'C', 'kcc[-3:0]': 'ខជនស', 'kcc[-3:-1]': 'ខជន', 'kcc[-3:-2]': 'ខជ', 'kcc[+1]': 'ា', 'kcc[+1]t': 'W', 'kcc[+1:0]': 'សា', 'ns+1': False, 'kcc[+2]': 'ធ', 'kcc[+2]t': 'C', 'kcc[+1:+2]': 'ាធ', 'kcc[0:+2]': 'សាធ', 'ns+2': False, 'kcc[+3]': 'ា', 'kcc[+3]t': 'W', 'kcc[+2:+3]': 'ធា', 'kcc[+1:+3]': 'ាធា', 'kcc[0:+3]': 'សាធា'}, {'kcc': 'ា', 't': 'W', 'ns': False, 'kcc[-1]': 'ស', 'kcc[-1]t': 'C', 'kcc[-1:0]': 'សា', 'ns-1': False, 'kcc[-2]': 'ន', 'kcc[-2]t': 'C', 'kcc[-2:-1]': 'នស', 'kcc[-2:0]': 'នសា', 'kcc[-3]': 'ជ', 'kcc[-3]t': 'C', 'kcc[-3:0]': 'ជនសា', 'kcc[-3:-1]': 'ជនស', 'kcc[-3:-2]': 'ជន', 'kcc[+1]': 'ធ', 'kcc[+1]t': 'C', 'kcc[+1:0]': 'ាធ', 'ns+1': False, 'kcc[+2]': 'ា', 'kcc[+2]t': 'W', 'kcc[+1:+2]': 'ធា', 'kcc[0:+2]': 'ាធា', 'ns+2': False, 'kcc[+3]': 'រ', 'kcc[+3]t': 'C', 'kcc[+2:+3]': 'ារ', 'kcc[+1:+3]': 'ធារ', 'kcc[0:+3]': 'ាធារ'}, {'kcc': 'ធ', 't': 'C', 'ns': False, 'kcc[-1]': 'ា', 'kcc[-1]t': 'W', 'kcc[-1:0]': 'ាធ', 'ns-1': False, 'kcc[-2]': 'ស', 'kcc[-2]t': 'C', 'kcc[-2:-1]': 'សា', 'kcc[-2:0]': 'សាធ', 'kcc[-3]': 'ន', 'kcc[-3]t': 'C', 'kcc[-3:0]': 'នសាធ', 'kcc[-3:-1]': 'នសា', 'kcc[-3:-2]': 'នស', 'kcc[+1]': 'ា', 'kcc[+1]t': 'W', 'kcc[+1:0]': 'ធា', 'ns+1': False, 'kcc[+2]': 'រ', 'kcc[+2]t': 'C', 'kcc[+1:+2]': 'ារ', 'kcc[0:+2]': 'ធារ', 'ns+2': False, 'kcc[+3]': 'ណ', 'kcc[+3]t': 'C', 'kcc[+2:+3]': 'រណ', 'kcc[+1:+3]': 'ារណ', 'kcc[0:+3]': 'ធារណ'}, {'kcc': 'ា', 't': 'W', 'ns': False, 'kcc[-1]': 'ធ', 'kcc[-1]t': 'C', 'kcc[-1:0]': 'ធា', 'ns-1': False, 'kcc[-2]': 'ា', 'kcc[-2]t': 'W', 'kcc[-2:-1]': 'ាធ', 'kcc[-2:0]': 'ាធា', 'kcc[-3]': 'ស', 'kcc[-3]t': 'C', 'kcc[-3:0]': 'សាធា', 'kcc[-3:-1]': 'សាធ', 'kcc[-3:-2]': 'សា', 'kcc[+1]': 'រ', 'kcc[+1]t': 'C', 'kcc[+1:0]': 'ារ', 'ns+1': False, 'kcc[+2]': 'ណ', 'kcc[+2]t': 'C', 'kcc[+1:+2]': 'រណ', 'kcc[0:+2]': 'ារណ', 'ns+2': False, 'kcc[+3]': 'រ', 'kcc[+3]t': 'C', 'kcc[+2:+3]': 'ណរ', 'kcc[+1:+3]': 'រណរ', 'kcc[0:+3]': 'ារណរ'}, {'kcc': 'រ', 't': 'C', 'ns': False, 'kcc[-1]': 'ា', 'kcc[-1]t': 'W', 'kcc[-1:0]': 'ារ', 'ns-1': False, 'kcc[-2]': 'ធ', 'kcc[-2]t': 'C', 'kcc[-2:-1]': 'ធា', 'kcc[-2:0]': 'ធារ', 'kcc[-3]': 'ា', 'kcc[-3]t': 'W', 'kcc[-3:0]': 'ាធារ', 'kcc[-3:-1]': 'ាធា', 'kcc[-3:-2]': 'ាធ', 'kcc[+1]': 'ណ', 'kcc[+1]t': 'C', 'kcc[+1:0]': 'រណ', 'ns+1': False, 'kcc[+2]': 'រ', 'kcc[+2]t': 'C', 'kcc[+1:+2]': 'ណរ', 'kcc[0:+2]': 'រណរ', 'ns+2': False, 'kcc[+3]': 'ដ', 'kcc[+3]t': 'C', 'kcc[+2:+3]': 'រដ', 'kcc[+1:+3]': 'ណរដ', 'kcc[0:+3]': 'រណរដ'}, {'kcc': 'ណ', 't': 'C', 'ns': False, 'kcc[-1]': 'រ', 'kcc[-1]t': 'C', 'kcc[-1:0]': 'រណ', 'ns-1': False, 'kcc[-2]': 'ា', 'kcc[-2]t': 'W', 'kcc[-2:-1]': 'ារ', 'kcc[-2:0]': 'ារណ', 'kcc[-3]': 'ធ', 'kcc[-3]t': 'C', 'kcc[-3:0]': 'ធារណ', 'kcc[-3:-1]': 'ធារ', 'kcc[-3:-2]': 'ធា', 'kcc[+1]': 'រ', 'kcc[+1]t': 'C', 'kcc[+1:0]': 'ណរ', 'ns+1': False, 'kcc[+2]': 'ដ', 'kcc[+2]t': 'C', 'kcc[+1:+2]': 'រដ', 'kcc[0:+2]': 'ណរដ', 'ns+2': False, 'kcc[+3]': '្', 'kcc[+3]t': 'S', 'kcc[+2:+3]': 'ដ្', 'kcc[+1:+3]': 'រដ្', 'kcc[0:+3]': 'ណរដ្'}, {'kcc': 'រ', 't': 'C', 'ns': False, 'kcc[-1]': 'ណ', 'kcc[-1]t': 'C', 'kcc[-1:0]': 'ណរ', 'ns-1': False, 'kcc[-2]': 'រ', 'kcc[-2]t': 'C', 'kcc[-2:-1]': 'រណ', 'kcc[-2:0]': 'រណរ', 'kcc[-3]': 'ា', 'kcc[-3]t': 'W', 'kcc[-3:0]': 'ារណរ', 'kcc[-3:-1]': 'ារណ', 'kcc[-3:-2]': 'ារ', 'kcc[+1]': 'ដ', 'kcc[+1]t': 'C', 'kcc[+1:0]': 'រដ', 'ns+1': False, 'kcc[+2]': '្', 'kcc[+2]t': 'S', 'kcc[+1:+2]': 'ដ្', 'kcc[0:+2]': 'រដ្', 'ns+2': False, 'kcc[+3]': 'ឋ', 'kcc[+3]t': 'C', 'kcc[+2:+3]': '្ឋ', 'kcc[+1:+3]': 'ដ្ឋ', 'kcc[0:+3]': 'រដ្ឋ'}, {'kcc': 'ដ', 't': 'C', 'ns': False, 'kcc[-1]': 'រ', 'kcc[-1]t': 'C', 'kcc[-1:0]': 'រដ', 'ns-1': False, 'kcc[-2]': 'ណ', 'kcc[-2]t': 'C', 'kcc[-2:-1]': 'ណរ', 'kcc[-2:0]': 'ណរដ', 'kcc[-3]': 'រ', 'kcc[-3]t': 'C', 'kcc[-3:0]': 'រណរដ', 'kcc[-3:-1]': 'រណរ', 'kcc[-3:-2]': 'រណ', 'kcc[+1]': '្', 'kcc[+1]t': 'S', 'kcc[+1:0]': 'ដ្', 'ns+1': False, 'kcc[+2]': 'ឋ', 'kcc[+2]t': 'C', 'kcc[+1:+2]': '្ឋ', 'kcc[0:+2]': 'ដ្ឋ', 'ns+2': False, 'kcc[+3]': 'ន', 'kcc[+3]t': 'C', 'kcc[+2:+3]': 'ឋន', 'kcc[+1:+3]': '្ឋន', 'kcc[0:+3]': 'ដ្ឋន'}, {'kcc': '្', 't': 'S', 'ns': False, 'kcc[-1]': 'ដ', 'kcc[-1]t': 'C', 'kcc[-1:0]': 'ដ្', 'ns-1': False, 'kcc[-2]': 'រ', 'kcc[-2]t': 'C', 'kcc[-2:-1]': 'រដ', 'kcc[-2:0]': 'រដ្', 'kcc[-3]': 'ណ', 'kcc[-3]t': 'C', 'kcc[-3:0]': 'ណរដ្', 'kcc[-3:-1]': 'ណរដ', 'kcc[-3:-2]': 'ណរ', 'kcc[+1]': 'ឋ', 'kcc[+1]t': 'C', 'kcc[+1:0]': '្ឋ', 'ns+1': False, 'kcc[+2]': 'ន', 'kcc[+2]t': 'C', 'kcc[+1:+2]': 'ឋន', 'kcc[0:+2]': '្ឋន', 'ns+2': False, 'kcc[+3]': 'ៅ', 'kcc[+3]t': 'W', 'kcc[+2:+3]': 'នៅ', 'kcc[+1:+3]': 'ឋនៅ', 'kcc[0:+3]': '្ឋនៅ'}, {'kcc': 'ឋ', 't': 'C', 'ns': False, 'kcc[-1]': '្', 'kcc[-1]t': 'S', 'kcc[-1:0]': '្ឋ', 'ns-1': False, 'kcc[-2]': 'ដ', 'kcc[-2]t': 'C', 'kcc[-2:-1]': 'ដ្', 'kcc[-2:0]': 'ដ្ឋ', 'kcc[-3]': 'រ', 'kcc[-3]t': 'C', 'kcc[-3:0]': 'រដ្ឋ', 'kcc[-3:-1]': 'រដ្', 'kcc[-3:-2]': 'រដ', 'kcc[+1]': 'ន', 'kcc[+1]t': 'C', 'kcc[+1:0]': 'ឋន', 'ns+1': False, 'kcc[+2]': 'ៅ', 'kcc[+2]t': 'W', 'kcc[+1:+2]': 'នៅ', 'kcc[0:+2]': 'ឋនៅ', 'ns+2': False, 'kcc[+3]': 'ឆ', 'kcc[+3]t': 'C', 'kcc[+2:+3]': 'ៅឆ', 'kcc[+1:+3]': 'នៅឆ', 'kcc[0:+3]': 'ឋនៅឆ'}, {'kcc': 'ន', 't': 'C', 'ns': False, 'kcc[-1]': 'ឋ', 'kcc[-1]t': 'C', 'kcc[-1:0]': 'ឋន', 'ns-1': False, 'kcc[-2]': '្', 'kcc[-2]t': 'S', 'kcc[-2:-1]': '្ឋ', 'kcc[-2:0]': '្ឋន', 'kcc[-3]': 'ដ', 'kcc[-3]t': 'C', 'kcc[-3:0]': 'ដ្ឋន', 'kcc[-3:-1]': 'ដ្ឋ', 'kcc[-3:-2]': 'ដ្', 'kcc[+1]': 'ៅ', 'kcc[+1]t': 'W', 'kcc[+1:0]': 'នៅ', 'ns+1': False, 'kcc[+2]': 'ឆ', 'kcc[+2]t': 'C', 'kcc[+1:+2]': 'ៅឆ', 'kcc[0:+2]': 'នៅឆ', 'ns+2': False, 'kcc[+3]': '្', 'kcc[+3]t': 'S', 'kcc[+2:+3]': 'ឆ្', 'kcc[+1:+3]': 'ៅឆ្', 'kcc[0:+3]': 'នៅឆ្'}, {'kcc': 'ៅ', 't': 'W', 'ns': False, 'kcc[-1]': 'ន', 'kcc[-1]t': 'C', 'kcc[-1:0]': 'នៅ', 'ns-1': False, 'kcc[-2]': 'ឋ', 'kcc[-2]t': 'C', 'kcc[-2:-1]': 'ឋន', 'kcc[-2:0]': 'ឋនៅ', 'kcc[-3]': '្', 'kcc[-3]t': 'S', 'kcc[-3:0]': '្ឋនៅ', 'kcc[-3:-1]': '្ឋន', 'kcc[-3:-2]': '្ឋ', 'kcc[+1]': 'ឆ', 'kcc[+1]t': 'C', 'kcc[+1:0]': 'ៅឆ', 'ns+1': False, 'kcc[+2]': '្', 'kcc[+2]t': 'S', 'kcc[+1:+2]': 'ឆ្', 'kcc[0:+2]': 'ៅឆ្', 'ns+2': False, 'kcc[+3]': 'ន', 'kcc[+3]t': 'C', 'kcc[+2:+3]': '្ន', 'kcc[+1:+3]': 'ឆ្ន', 'kcc[0:+3]': 'ៅឆ្ន'}, {'kcc': 'ឆ', 't': 'C', 'ns': False, 'kcc[-1]': 'ៅ', 'kcc[-1]t': 'W', 'kcc[-1:0]': 'ៅឆ', 'ns-1': False, 'kcc[-2]': 'ន', 'kcc[-2]t': 'C', 'kcc[-2:-1]': 'នៅ', 'kcc[-2:0]': 'នៅឆ', 'kcc[-3]': 'ឋ', 'kcc[-3]t': 'C', 'kcc[-3:0]': 'ឋនៅឆ', 'kcc[-3:-1]': 'ឋនៅ', 'kcc[-3:-2]': 'ឋន', 'kcc[+1]': '្', 'kcc[+1]t': 'S', 'kcc[+1:0]': 'ឆ្', 'ns+1': False, 'kcc[+2]': 'ន', 'kcc[+2]t': 'C', 'kcc[+1:+2]': '្ន', 'kcc[0:+2]': 'ឆ្ន', 'ns+2': False, 'kcc[+3]': 'ា', 'kcc[+3]t': 'W', 'kcc[+2:+3]': 'នា', 'kcc[+1:+3]': '្នា', 'kcc[0:+3]': 'ឆ្នា'}, {'kcc': '្', 't': 'S', 'ns': False, 'kcc[-1]': 'ឆ', 'kcc[-1]t': 'C', 'kcc[-1:0]': 'ឆ្', 'ns-1': False, 'kcc[-2]': 'ៅ', 'kcc[-2]t': 'W', 'kcc[-2:-1]': 'ៅឆ', 'kcc[-2:0]': 'ៅឆ្', 'kcc[-3]': 'ន', 'kcc[-3]t': 'C', 'kcc[-3:0]': 'នៅឆ្', 'kcc[-3:-1]': 'នៅឆ', 'kcc[-3:-2]': 'នៅ', 'kcc[+1]': 'ន', 'kcc[+1]t': 'C', 'kcc[+1:0]': '្ន', 'ns+1': False, 'kcc[+2]': 'ា', 'kcc[+2]t': 'W', 'kcc[+1:+2]': 'នា', 'kcc[0:+2]': '្នា', 'ns+2': False, 'kcc[+3]': 'ំ', 'kcc[+3]t': 'W', 'kcc[+2:+3]': 'ាំ', 'kcc[+1:+3]': 'នាំ', 'kcc[0:+3]': '្នាំ'}, {'kcc': 'ន', 't': 'C', 'ns': False, 'kcc[-1]': '្', 'kcc[-1]t': 'S', 'kcc[-1:0]': '្ន', 'ns-1': False, 'kcc[-2]': 'ឆ', 'kcc[-2]t': 'C', 'kcc[-2:-1]': 'ឆ្', 'kcc[-2:0]': 'ឆ្ន', 'kcc[-3]': 'ៅ', 'kcc[-3]t': 'W', 'kcc[-3:0]': 'ៅឆ្ន', 'kcc[-3:-1]': 'ៅឆ្', 'kcc[-3:-2]': 'ៅឆ', 'kcc[+1]': 'ា', 'kcc[+1]t': 'W', 'kcc[+1:0]': 'នា', 'ns+1': False, 'kcc[+2]': 'ំ', 'kcc[+2]t': 'W', 'kcc[+1:+2]': 'ាំ', 'kcc[0:+2]': 'នាំ', 'ns+2': False, 'kcc[+3]': '1', 'kcc[+3]t': 'NS', 'kcc[+2:+3]': 'ំ1', 'kcc[+1:+3]': 'ាំ1', 'kcc[0:+3]': 'នាំ1'}, {'kcc': 'ា', 't': 'W', 'ns': False, 'kcc[-1]': 'ន', 'kcc[-1]t': 'C', 'kcc[-1:0]': 'នា', 'ns-1': False, 'kcc[-2]': '្', 'kcc[-2]t': 'S', 'kcc[-2:-1]': '្ន', 'kcc[-2:0]': '្នា', 'kcc[-3]': 'ឆ', 'kcc[-3]t': 'C', 'kcc[-3:0]': 'ឆ្នា', 'kcc[-3:-1]': 'ឆ្ន', 'kcc[-3:-2]': 'ឆ្', 'kcc[+1]': 'ំ', 'kcc[+1]t': 'W', 'kcc[+1:0]': 'ាំ', 'ns+1': False, 'kcc[+2]': '1', 'kcc[+2]t': 'NS', 'kcc[+1:+2]': 'ំ1', 'kcc[0:+2]': 'ាំ1', 'ns+2': True, 'kcc[+3]': '9', 'kcc[+3]t': 'NS', 'kcc[+2:+3]': '19', 'kcc[+1:+3]': 'ំ19', 'kcc[0:+3]': 'ាំ19'}, {'kcc': 'ំ', 't': 'W', 'ns': False, 'kcc[-1]': 'ា', 'kcc[-1]t': 'W', 'kcc[-1:0]': 'ាំ', 'ns-1': False, 'kcc[-2]': 'ន', 'kcc[-2]t': 'C', 'kcc[-2:-1]': 'នា', 'kcc[-2:0]': 'នាំ', 'kcc[-3]': '្', 'kcc[-3]t': 'S', 'kcc[-3:0]': '្នាំ', 'kcc[-3:-1]': '្នា', 'kcc[-3:-2]': '្ន', 'kcc[+1]': '1', 'kcc[+1]t': 'NS', 'kcc[+1:0]': 'ំ1', 'ns+1': True, 'kcc[+2]': '9', 'kcc[+2]t': 'NS', 'kcc[+1:+2]': '19', 'kcc[0:+2]': 'ំ19', 'ns+2': True, 'kcc[+3]': '9', 'kcc[+3]t': 'NS', 'kcc[+2:+3]': '99', 'kcc[+1:+3]': '199', 'kcc[0:+3]': 'ំ199'}, {'kcc': '1', 't': 'NS', 'ns': True, 'kcc[-1]': 'ំ', 'kcc[-1]t': 'W', 'kcc[-1:0]': 'ំ1', 'ns-1': False, 'kcc[-2]': 'ា', 'kcc[-2]t': 'W', 'kcc[-2:-1]': 'ាំ', 'kcc[-2:0]': 'ាំ1', 'kcc[-3]': 'ន', 'kcc[-3]t': 'C', 'kcc[-3:0]': 'នាំ1', 'kcc[-3:-1]': 'នាំ', 'kcc[-3:-2]': 'នា', 'kcc[+1]': '9', 'kcc[+1]t': 'NS', 'kcc[+1:0]': '19', 'ns+1': True, 'kcc[+2]': '9', 'kcc[+2]t': 'NS', 'kcc[+1:+2]': '99', 'kcc[0:+2]': '199', 'ns+2': True, 'kcc[+3]': '8', 'kcc[+3]t': 'NS', 'kcc[+2:+3]': '98', 'kcc[+1:+3]': '998', 'kcc[0:+3]': '1998'}, {'kcc': '9', 't': 'NS', 'ns': True, 'kcc[-1]': '1', 'kcc[-1]t': 'NS', 'kcc[-1:0]': '19', 'ns-1': True, 'kcc[-2]': 'ំ', 'kcc[-2]t': 'W', 'kcc[-2:-1]': 'ំ1', 'kcc[-2:0]': 'ំ19', 'kcc[-3]': 'ា', 'kcc[-3]t': 'W', 'kcc[-3:0]': 'ាំ19', 'kcc[-3:-1]': 'ាំ1', 'kcc[-3:-2]': 'ាំ', 'kcc[+1]': '9', 'kcc[+1]t': 'NS', 'kcc[+1:0]': '99', 'ns+1': True, 'kcc[+2]': '8', 'kcc[+2]t': 'NS', 'kcc[+1:+2]': '98', 'kcc[0:+2]': '998', 'ns+2': True, 'kcc[+3]': 'ហ', 'kcc[+3]t': 'C', 'kcc[+2:+3]': '8ហ', 'kcc[+1:+3]': '98ហ', 'kcc[0:+3]': '998ហ'}, {'kcc': '9', 't': 'NS', 'ns': True, 'kcc[-1]': '9', 'kcc[-1]t': 'NS', 'kcc[-1:0]': '99', 'ns-1': True, 'kcc[-2]': '1', 'kcc[-2]t': 'NS', 'kcc[-2:-1]': '19', 'kcc[-2:0]': '199', 'kcc[-3]': 'ំ', 'kcc[-3]t': 'W', 'kcc[-3:0]': 'ំ199', 'kcc[-3:-1]': 'ំ19', 'kcc[-3:-2]': 'ំ1', 'kcc[+1]': '8', 'kcc[+1]t': 'NS', 'kcc[+1:0]': '98', 'ns+1': True, 'kcc[+2]': 'ហ', 'kcc[+2]t': 'C', 'kcc[+1:+2]': '8ហ', 'kcc[0:+2]': '98ហ', 'ns+2': False, 'kcc[+3]': 'ើ', 'kcc[+3]t': 'W', 'kcc[+2:+3]': 'ហើ', 'kcc[+1:+3]': '8ហើ', 'kcc[0:+3]': '98ហើ'}, {'kcc': '8', 't': 'NS', 'ns': True, 'kcc[-1]': '9', 'kcc[-1]t': 'NS', 'kcc[-1:0]': '98', 'ns-1': True, 'kcc[-2]': '9', 'kcc[-2]t': 'NS', 'kcc[-2:-1]': '99', 'kcc[-2:0]': '998', 'kcc[-3]': '1', 'kcc[-3]t': 'NS', 'kcc[-3:0]': '1998', 'kcc[-3:-1]': '199', 'kcc[-3:-2]': '19', 'kcc[+1]': 'ហ', 'kcc[+1]t': 'C', 'kcc[+1:0]': '8ហ', 'ns+1': False, 'kcc[+2]': 'ើ', 'kcc[+2]t': 'W', 'kcc[+1:+2]': 'ហើ', 'kcc[0:+2]': '8ហើ', 'ns+2': False, 'kcc[+3]': 'យ', 'kcc[+3]t': 'C', 'kcc[+2:+3]': 'ើយ', 'kcc[+1:+3]': 'ហើយ', 'kcc[0:+3]': '8ហើយ'}, {'kcc': 'ហ', 't': 'C', 'ns': False, 'kcc[-1]': '8', 'kcc[-1]t': 'NS', 'kcc[-1:0]': '8ហ', 'ns-1': True, 'kcc[-2]': '9', 'kcc[-2]t': 'NS', 'kcc[-2:-1]': '98', 'kcc[-2:0]': '98ហ', 'kcc[-3]': '9', 'kcc[-3]t': 'NS', 'kcc[-3:0]': '998ហ', 'kcc[-3:-1]': '998', 'kcc[-3:-2]': '99', 'kcc[+1]': 'ើ', 'kcc[+1]t': 'W', 'kcc[+1:0]': 'ហើ', 'ns+1': False, 'kcc[+2]': 'យ', 'kcc[+2]t': 'C', 'kcc[+1:+2]': 'ើយ', 'kcc[0:+2]': 'ហើយ', 'ns+2': False, 'kcc[+3]': 'ប', 'kcc[+3]t': 'C', 'kcc[+2:+3]': 'យប', 'kcc[+1:+3]': 'ើយប', 'kcc[0:+3]': 'ហើយប'}, {'kcc': 'ើ', 't': 'W', 'ns': False, 'kcc[-1]': 'ហ', 'kcc[-1]t': 'C', 'kcc[-1:0]': 'ហើ', 'ns-1': False, 'kcc[-2]': '8', 'kcc[-2]t': 'NS', 'kcc[-2:-1]': '8ហ', 'kcc[-2:0]': '8ហើ', 'kcc[-3]': '9', 'kcc[-3]t': 'NS', 'kcc[-3:0]': '98ហើ', 'kcc[-3:-1]': '98ហ', 'kcc[-3:-2]': '98', 'kcc[+1]': 'យ', 'kcc[+1]t': 'C', 'kcc[+1:0]': 'ើយ', 'ns+1': False, 'kcc[+2]': 'ប', 'kcc[+2]t': 'C', 'kcc[+1:+2]': 'យប', 'kcc[0:+2]': 'ើយប', 'ns+2': False, 'kcc[+3]': 'ា', 'kcc[+3]t': 'W', 'kcc[+2:+3]': 'បា', 'kcc[+1:+3]': 'យបា', 'kcc[0:+3]': 'ើយបា'}, {'kcc': 'យ', 't': 'C', 'ns': False, 'kcc[-1]': 'ើ', 'kcc[-1]t': 'W', 'kcc[-1:0]': 'ើយ', 'ns-1': False, 'kcc[-2]': 'ហ', 'kcc[-2]t': 'C', 'kcc[-2:-1]': 'ហើ', 'kcc[-2:0]': 'ហើយ', 'kcc[-3]': '8', 'kcc[-3]t': 'NS', 'kcc[-3:0]': '8ហើយ', 'kcc[-3:-1]': '8ហើ', 'kcc[-3:-2]': '8ហ', 'kcc[+1]': 'ប', 'kcc[+1]t': 'C', 'kcc[+1:0]': 'យប', 'ns+1': False, 'kcc[+2]': 'ា', 'kcc[+2]t': 'W', 'kcc[+1:+2]': 'បា', 'kcc[0:+2]': 'យបា', 'ns+2': False, 'kcc[+3]': 'ន', 'kcc[+3]t': 'C', 'kcc[+2:+3]': 'ាន', 'kcc[+1:+3]': 'បាន', 'kcc[0:+3]': 'យបាន'}, {'kcc': 'ប', 't': 'C', 'ns': False, 'kcc[-1]': 'យ', 'kcc[-1]t': 'C', 'kcc[-1:0]': 'យប', 'ns-1': False, 'kcc[-2]': 'ើ', 'kcc[-2]t': 'W', 'kcc[-2:-1]': 'ើយ', 'kcc[-2:0]': 'ើយប', 'kcc[-3]': 'ហ', 'kcc[-3]t': 'C', 'kcc[-3:0]': 'ហើយប', 'kcc[-3:-1]': 'ហើយ', 'kcc[-3:-2]': 'ហើ', 'kcc[+1]': 'ា', 'kcc[+1]t': 'W', 'kcc[+1:0]': 'បា', 'ns+1': False, 'kcc[+2]': 'ន', 'kcc[+2]t': 'C', 'kcc[+1:+2]': 'ាន', 'kcc[0:+2]': 'បាន', 'ns+2': False, 'kcc[+3]': 'ជ', 'kcc[+3]t': 'C', 'kcc[+2:+3]': 'នជ', 'kcc[+1:+3]': 'ានជ', 'kcc[0:+3]': 'បានជ'}, {'kcc': 'ា', 't': 'W', 'ns': False, 'kcc[-1]': 'ប', 'kcc[-1]t': 'C', 'kcc[-1:0]': 'បា', 'ns-1': False, 'kcc[-2]': 'យ', 'kcc[-2]t': 'C', 'kcc[-2:-1]': 'យប', 'kcc[-2:0]': 'យបា', 'kcc[-3]': 'ើ', 'kcc[-3]t': 'W', 'kcc[-3:0]': 'ើយបា', 'kcc[-3:-1]': 'ើយប', 'kcc[-3:-2]': 'ើយ', 'kcc[+1]': 'ន', 'kcc[+1]t': 'C', 'kcc[+1:0]': 'ាន', 'ns+1': False, 'kcc[+2]': 'ជ', 'kcc[+2]t': 'C', 'kcc[+1:+2]': 'នជ', 'kcc[0:+2]': 'ានជ', 'ns+2': False, 'kcc[+3]': 'ា', 'kcc[+3]t': 'W', 'kcc[+2:+3]': 'ជា', 'kcc[+1:+3]': 'នជា', 'kcc[0:+3]': 'ានជា'}, {'kcc': 'ន', 't': 'C', 'ns': False, 'kcc[-1]': 'ា', 'kcc[-1]t': 'W', 'kcc[-1:0]': 'ាន', 'ns-1': False, 'kcc[-2]': 'ប', 'kcc[-2]t': 'C', 'kcc[-2:-1]': 'បា', 'kcc[-2:0]': 'បាន', 'kcc[-3]': 'យ', 'kcc[-3]t': 'C', 'kcc[-3:0]': 'យបាន', 'kcc[-3:-1]': 'យបា', 'kcc[-3:-2]': 'យប', 'kcc[+1]': 'ជ', 'kcc[+1]t': 'C', 'kcc[+1:0]': 'នជ', 'ns+1': False, 'kcc[+2]': 'ា', 'kcc[+2]t': 'W', 'kcc[+1:+2]': 'ជា', 'kcc[0:+2]': 'នជា', 'ns+2': False, 'kcc[+3]': 'គ', 'kcc[+3]t': 'C', 'kcc[+2:+3]': 'ាគ', 'kcc[+1:+3]': 'ជាគ', 'kcc[0:+3]': 'នជាគ'}, {'kcc': 'ជ', 't': 'C', 'ns': False, 'kcc[-1]': 'ន', 'kcc[-1]t': 'C', 'kcc[-1:0]': 'នជ', 'ns-1': False, 'kcc[-2]': 'ា', 'kcc[-2]t': 'W', 'kcc[-2:-1]': 'ាន', 'kcc[-2:0]': 'ានជ', 'kcc[-3]': 'ប', 'kcc[-3]t': 'C', 'kcc[-3:0]': 'បានជ', 'kcc[-3:-1]': 'បាន', 'kcc[-3:-2]': 'បា', 'kcc[+1]': 'ា', 'kcc[+1]t': 'W', 'kcc[+1:0]': 'ជា', 'ns+1': False, 'kcc[+2]': 'គ', 'kcc[+2]t': 'C', 'kcc[+1:+2]': 'ាគ', 'kcc[0:+2]': 'ជាគ', 'ns+2': False, 'kcc[+3]': 'ណ', 'kcc[+3]t': 'C', 'kcc[+2:+3]': 'គណ', 'kcc[+1:+3]': 'ាគណ', 'kcc[0:+3]': 'ជាគណ'}, {'kcc': 'ា', 't': 'W', 'ns': False, 'kcc[-1]': 'ជ', 'kcc[-1]t': 'C', 'kcc[-1:0]': 'ជា', 'ns-1': False, 'kcc[-2]': 'ន', 'kcc[-2]t': 'C', 'kcc[-2:-1]': 'នជ', 'kcc[-2:0]': 'នជា', 'kcc[-3]': 'ា', 'kcc[-3]t': 'W', 'kcc[-3:0]': 'ានជា', 'kcc[-3:-1]': 'ានជ', 'kcc[-3:-2]': 'ាន', 'kcc[+1]': 'គ', 'kcc[+1]t': 'C', 'kcc[+1:0]': 'ាគ', 'ns+1': False, 'kcc[+2]': 'ណ', 'kcc[+2]t': 'C', 'kcc[+1:+2]': 'គណ', 'kcc[0:+2]': 'ាគណ', 'ns+2': False, 'kcc[+3]': 'ប', 'kcc[+3]t': 'C', 'kcc[+2:+3]': 'ណប', 'kcc[+1:+3]': 'គណប', 'kcc[0:+3]': 'ាគណប'}, {'kcc': 'គ', 't': 'C', 'ns': False, 'kcc[-1]': 'ា', 'kcc[-1]t': 'W', 'kcc[-1:0]': 'ាគ', 'ns-1': False, 'kcc[-2]': 'ជ', 'kcc[-2]t': 'C', 'kcc[-2:-1]': 'ជា', 'kcc[-2:0]': 'ជាគ', 'kcc[-3]': 'ន', 'kcc[-3]t': 'C', 'kcc[-3:0]': 'នជាគ', 'kcc[-3:-1]': 'នជា', 'kcc[-3:-2]': 'នជ', 'kcc[+1]': 'ណ', 'kcc[+1]t': 'C', 'kcc[+1:0]': 'គណ', 'ns+1': False, 'kcc[+2]': 'ប', 'kcc[+2]t': 'C', 'kcc[+1:+2]': 'ណប', 'kcc[0:+2]': 'គណប', 'ns+2': False, 'kcc[+3]': 'ក', 'kcc[+3]t': 'C', 'kcc[+2:+3]': 'បក', 'kcc[+1:+3]': 'ណបក', 'kcc[0:+3]': 'គណបក'}, {'kcc': 'ណ', 't': 'C', 'ns': False, 'kcc[-1]': 'គ', 'kcc[-1]t': 'C', 'kcc[-1:0]': 'គណ', 'ns-1': False, 'kcc[-2]': 'ា', 'kcc[-2]t': 'W', 'kcc[-2:-1]': 'ាគ', 'kcc[-2:0]': 'ាគណ', 'kcc[-3]': 'ជ', 'kcc[-3]t': 'C', 'kcc[-3:0]': 'ជាគណ', 'kcc[-3:-1]': 'ជាគ', 'kcc[-3:-2]': 'ជា', 'kcc[+1]': 'ប', 'kcc[+1]t': 'C', 'kcc[+1:0]': 'ណប', 'ns+1': False, 'kcc[+2]': 'ក', 'kcc[+2]t': 'C', 'kcc[+1:+2]': 'បក', 'kcc[0:+2]': 'ណបក', 'ns+2': False, 'kcc[+3]': '្', 'kcc[+3]t': 'S', 'kcc[+2:+3]': 'ក្', 'kcc[+1:+3]': 'បក្', 'kcc[0:+3]': 'ណបក្'}, {'kcc': 'ប', 't': 'C', 'ns': False, 'kcc[-1]': 'ណ', 'kcc[-1]t': 'C', 'kcc[-1:0]': 'ណប', 'ns-1': False, 'kcc[-2]': 'គ', 'kcc[-2]t': 'C', 'kcc[-2:-1]': 'គណ', 'kcc[-2:0]': 'គណប', 'kcc[-3]': 'ា', 'kcc[-3]t': 'W', 'kcc[-3:0]': 'ាគណប', 'kcc[-3:-1]': 'ាគណ', 'kcc[-3:-2]': 'ាគ', 'kcc[+1]': 'ក', 'kcc[+1]t': 'C', 'kcc[+1:0]': 'បក', 'ns+1': False, 'kcc[+2]': '្', 'kcc[+2]t': 'S', 'kcc[+1:+2]': 'ក្', 'kcc[0:+2]': 'បក្', 'ns+2': False, 'kcc[+3]': 'ស', 'kcc[+3]t': 'C', 'kcc[+2:+3]': '្ស', 'kcc[+1:+3]': 'ក្ស', 'kcc[0:+3]': 'បក្ស'}, {'kcc': 'ក', 't': 'C', 'ns': False, 'kcc[-1]': 'ប', 'kcc[-1]t': 'C', 'kcc[-1:0]': 'បក', 'ns-1': False, 'kcc[-2]': 'ណ', 'kcc[-2]t': 'C', 'kcc[-2:-1]': 'ណប', 'kcc[-2:0]': 'ណបក', 'kcc[-3]': 'គ', 'kcc[-3]t': 'C', 'kcc[-3:0]': 'គណបក', 'kcc[-3:-1]': 'គណប', 'kcc[-3:-2]': 'គណ', 'kcc[+1]': '្', 'kcc[+1]t': 'S', 'kcc[+1:0]': 'ក្', 'ns+1': False, 'kcc[+2]': 'ស', 'kcc[+2]t': 'C', 'kcc[+1:+2]': '្ស', 'kcc[0:+2]': 'ក្ស', 'ns+2': False, 'kcc[+3]': 'ស', 'kcc[+3]t': 'C', 'kcc[+2:+3]': 'សស', 'kcc[+1:+3]': '្សស', 'kcc[0:+3]': 'ក្សស'}, {'kcc': '្', 't': 'S', 'ns': False, 'kcc[-1]': 'ក', 'kcc[-1]t': 'C', 'kcc[-1:0]': 'ក្', 'ns-1': False, 'kcc[-2]': 'ប', 'kcc[-2]t': 'C', 'kcc[-2:-1]': 'បក', 'kcc[-2:0]': 'បក្', 'kcc[-3]': 'ណ', 'kcc[-3]t': 'C', 'kcc[-3:0]': 'ណបក្', 'kcc[-3:-1]': 'ណបក', 'kcc[-3:-2]': 'ណប', 'kcc[+1]': 'ស', 'kcc[+1]t': 'C', 'kcc[+1:0]': '្ស', 'ns+1': False, 'kcc[+2]': 'ស', 'kcc[+2]t': 'C', 'kcc[+1:+2]': 'សស', 'kcc[0:+2]': '្សស', 'ns+2': False, 'kcc[+3]': 'េ', 'kcc[+3]t': 'W', 'kcc[+2:+3]': 'សេ', 'kcc[+1:+3]': 'សសេ', 'kcc[0:+3]': '្សសេ'}, {'kcc': 'ស', 't': 'C', 'ns': False, 'kcc[-1]': '្', 'kcc[-1]t': 'S', 'kcc[-1:0]': '្ស', 'ns-1': False, 'kcc[-2]': 'ក', 'kcc[-2]t': 'C', 'kcc[-2:-1]': 'ក្', 'kcc[-2:0]': 'ក្ស', 'kcc[-3]': 'ប', 'kcc[-3]t': 'C', 'kcc[-3:0]': 'បក្ស', 'kcc[-3:-1]': 'បក្', 'kcc[-3:-2]': 'បក', 'kcc[+1]': 'ស', 'kcc[+1]t': 'C', 'kcc[+1:0]': 'សស', 'ns+1': False, 'kcc[+2]': 'េ', 'kcc[+2]t': 'W', 'kcc[+1:+2]': 'សេ', 'kcc[0:+2]': 'សសេ', 'ns+2': False, 'kcc[+3]': 'រ', 'kcc[+3]t': 'C', 'kcc[+2:+3]': 'េរ', 'kcc[+1:+3]': 'សេរ', 'kcc[0:+3]': 'សសេរ'}, {'kcc': 'ស', 't': 'C', 'ns': False, 'kcc[-1]': 'ស', 'kcc[-1]t': 'C', 'kcc[-1:0]': 'សស', 'ns-1': False, 'kcc[-2]': '្', 'kcc[-2]t': 'S', 'kcc[-2:-1]': '្ស', 'kcc[-2:0]': '្សស', 'kcc[-3]': 'ក', 'kcc[-3]t': 'C', 'kcc[-3:0]': 'ក្សស', 'kcc[-3:-1]': 'ក្ស', 'kcc[-3:-2]': 'ក្', 'kcc[+1]': 'េ', 'kcc[+1]t': 'W', 'kcc[+1:0]': 'សេ', 'ns+1': False, 'kcc[+2]': 'រ', 'kcc[+2]t': 'C', 'kcc[+1:+2]': 'េរ', 'kcc[0:+2]': 'សេរ', 'ns+2': False, 'kcc[+3]': 'ី', 'kcc[+3]t': 'W', 'kcc[+2:+3]': 'រី', 'kcc[+1:+3]': 'េរី', 'kcc[0:+3]': 'សេរី'}, {'kcc': 'េ', 't': 'W', 'ns': False, 'kcc[-1]': 'ស', 'kcc[-1]t': 'C', 'kcc[-1:0]': 'សេ', 'ns-1': False, 'kcc[-2]': 'ស', 'kcc[-2]t': 'C', 'kcc[-2:-1]': 'សស', 'kcc[-2:0]': 'សសេ', 'kcc[-3]': '្', 'kcc[-3]t': 'S', 'kcc[-3:0]': '្សសេ', 'kcc[-3:-1]': '្សស', 'kcc[-3:-2]': '្ស', 'kcc[+1]': 'រ', 'kcc[+1]t': 'C', 'kcc[+1:0]': 'េរ', 'ns+1': False, 'kcc[+2]': 'ី', 'kcc[+2]t': 'W', 'kcc[+1:+2]': 'រី', 'kcc[0:+2]': 'េរី', 'ns+2': False, 'kcc[+3]': 'ន', 'kcc[+3]t': 'C', 'kcc[+2:+3]': 'ីន', 'kcc[+1:+3]': 'រីន', 'kcc[0:+3]': 'េរីន'}, {'kcc': 'រ', 't': 'C', 'ns': False, 'kcc[-1]': 'េ', 'kcc[-1]t': 'W', 'kcc[-1:0]': 'េរ', 'ns-1': False, 'kcc[-2]': 'ស', 'kcc[-2]t': 'C', 'kcc[-2:-1]': 'សេ', 'kcc[-2:0]': 'សេរ', 'kcc[-3]': 'ស', 'kcc[-3]t': 'C', 'kcc[-3:0]': 'សសេរ', 'kcc[-3:-1]': 'សសេ', 'kcc[-3:-2]': 'សស', 'kcc[+1]': 'ី', 'kcc[+1]t': 'W', 'kcc[+1:0]': 'រី', 'ns+1': False, 'kcc[+2]': 'ន', 'kcc[+2]t': 'C', 'kcc[+1:+2]': 'ីន', 'kcc[0:+2]': 'រីន', 'ns+2': False, 'kcc[+3]': 'ិ', 'kcc[+3]t': 'W', 'kcc[+2:+3]': 'និ', 'kcc[+1:+3]': 'ីនិ', 'kcc[0:+3]': 'រីនិ'}, {'kcc': 'ី', 't': 'W', 'ns': False, 'kcc[-1]': 'រ', 'kcc[-1]t': 'C', 'kcc[-1:0]': 'រី', 'ns-1': False, 'kcc[-2]': 'េ', 'kcc[-2]t': 'W', 'kcc[-2:-1]': 'េរ', 'kcc[-2:0]': 'េរី', 'kcc[-3]': 'ស', 'kcc[-3]t': 'C', 'kcc[-3:0]': 'សេរី', 'kcc[-3:-1]': 'សេរ', 'kcc[-3:-2]': 'សេ', 'kcc[+1]': 'ន', 'kcc[+1]t': 'C', 'kcc[+1:0]': 'ីន', 'ns+1': False, 'kcc[+2]': 'ិ', 'kcc[+2]t': 'W', 'kcc[+1:+2]': 'និ', 'kcc[0:+2]': 'ីនិ', 'ns+2': False, 'kcc[+3]': 'យ', 'kcc[+3]t': 'C', 'kcc[+2:+3]': 'ិយ', 'kcc[+1:+3]': 'និយ', 'kcc[0:+3]': 'ីនិយ'}, {'kcc': 'ន', 't': 'C', 'ns': False, 'kcc[-1]': 'ី', 'kcc[-1]t': 'W', 'kcc[-1:0]': 'ីន', 'ns-1': False, 'kcc[-2]': 'រ', 'kcc[-2]t': 'C', 'kcc[-2:-1]': 'រី', 'kcc[-2:0]': 'រីន', 'kcc[-3]': 'េ', 'kcc[-3]t': 'W', 'kcc[-3:0]': 'េរីន', 'kcc[-3:-1]': 'េរី', 'kcc[-3:-2]': 'េរ', 'kcc[+1]': 'ិ', 'kcc[+1]t': 'W', 'kcc[+1:0]': 'និ', 'ns+1': False, 'kcc[+2]': 'យ', 'kcc[+2]t': 'C', 'kcc[+1:+2]': 'ិយ', 'kcc[0:+2]': 'និយ', 'ns+2': False, 'kcc[+3]': 'ម', 'kcc[+3]t': 'C', 'kcc[+2:+3]': 'យម', 'kcc[+1:+3]': 'ិយម', 'kcc[0:+3]': 'និយម'}, {'kcc': 'ិ', 't': 'W', 'ns': False, 'kcc[-1]': 'ន', 'kcc[-1]t': 'C', 'kcc[-1:0]': 'និ', 'ns-1': False, 'kcc[-2]': 'ី', 'kcc[-2]t': 'W', 'kcc[-2:-1]': 'ីន', 'kcc[-2:0]': 'ីនិ', 'kcc[-3]': 'រ', 'kcc[-3]t': 'C', 'kcc[-3:0]': 'រីនិ', 'kcc[-3:-1]': 'រីន', 'kcc[-3:-2]': 'រី', 'kcc[+1]': 'យ', 'kcc[+1]t': 'C', 'kcc[+1:0]': 'ិយ', 'ns+1': False, 'kcc[+2]': 'ម', 'kcc[+2]t': 'C', 'kcc[+1:+2]': 'យម', 'kcc[0:+2]': 'ិយម', 'ns+2': False, 'kcc[+3]': 'ន', 'kcc[+3]t': 'C', 'kcc[+2:+3]': 'មន', 'kcc[+1:+3]': 'យមន', 'kcc[0:+3]': 'ិយមន'}, {'kcc': 'យ', 't': 'C', 'ns': False, 'kcc[-1]': 'ិ', 'kcc[-1]t': 'W', 'kcc[-1:0]': 'ិយ', 'ns-1': False, 'kcc[-2]': 'ន', 'kcc[-2]t': 'C', 'kcc[-2:-1]': 'និ', 'kcc[-2:0]': 'និយ', 'kcc[-3]': 'ី', 'kcc[-3]t': 'W', 'kcc[-3:0]': 'ីនិយ', 'kcc[-3:-1]': 'ីនិ', 'kcc[-3:-2]': 'ីន', 'kcc[+1]': 'ម', 'kcc[+1]t': 'C', 'kcc[+1:0]': 'យម', 'ns+1': False, 'kcc[+2]': 'ន', 'kcc[+2]t': 'C', 'kcc[+1:+2]': 'មន', 'kcc[0:+2]': 'យមន', 'ns+2': False, 'kcc[+3]': 'ៅ', 'kcc[+3]t': 'W', 'kcc[+2:+3]': 'នៅ', 'kcc[+1:+3]': 'មនៅ', 'kcc[0:+3]': 'យមនៅ'}, {'kcc': 'ម', 't': 'C', 'ns': False, 'kcc[-1]': 'យ', 'kcc[-1]t': 'C', 'kcc[-1:0]': 'យម', 'ns-1': False, 'kcc[-2]': 'ិ', 'kcc[-2]t': 'W', 'kcc[-2:-1]': 'ិយ', 'kcc[-2:0]': 'ិយម', 'kcc[-3]': 'ន', 'kcc[-3]t': 'C', 'kcc[-3:0]': 'និយម', 'kcc[-3:-1]': 'និយ', 'kcc[-3:-2]': 'និ', 'kcc[+1]': 'ន', 'kcc[+1]t': 'C', 'kcc[+1:0]': 'មន', 'ns+1': False, 'kcc[+2]': 'ៅ', 'kcc[+2]t': 'W', 'kcc[+1:+2]': 'នៅ', 'kcc[0:+2]': 'មនៅ', 'ns+2': False, 'kcc[+3]': 'ឆ', 'kcc[+3]t': 'C', 'kcc[+2:+3]': 'ៅឆ', 'kcc[+1:+3]': 'នៅឆ', 'kcc[0:+3]': 'មនៅឆ'}, {'kcc': 'ន', 't': 'C', 'ns': False, 'kcc[-1]': 'ម', 'kcc[-1]t': 'C', 'kcc[-1:0]': 'មន', 'ns-1': False, 'kcc[-2]': 'យ', 'kcc[-2]t': 'C', 'kcc[-2:-1]': 'យម', 'kcc[-2:0]': 'យមន', 'kcc[-3]': 'ិ', 'kcc[-3]t': 'W', 'kcc[-3:0]': 'ិយមន', 'kcc[-3:-1]': 'ិយម', 'kcc[-3:-2]': 'ិយ', 'kcc[+1]': 'ៅ', 'kcc[+1]t': 'W', 'kcc[+1:0]': 'នៅ', 'ns+1': False, 'kcc[+2]': 'ឆ', 'kcc[+2]t': 'C', 'kcc[+1:+2]': 'ៅឆ', 'kcc[0:+2]': 'នៅឆ', 'ns+2': False, 'kcc[+3]': '្', 'kcc[+3]t': 'S', 'kcc[+2:+3]': 'ឆ្', 'kcc[+1:+3]': 'ៅឆ្', 'kcc[0:+3]': 'នៅឆ្'}, {'kcc': 'ៅ', 't': 'W', 'ns': False, 'kcc[-1]': 'ន', 'kcc[-1]t': 'C', 'kcc[-1:0]': 'នៅ', 'ns-1': False, 'kcc[-2]': 'ម', 'kcc[-2]t': 'C', 'kcc[-2:-1]': 'មន', 'kcc[-2:0]': 'មនៅ', 'kcc[-3]': 'យ', 'kcc[-3]t': 'C', 'kcc[-3:0]': 'យមនៅ', 'kcc[-3:-1]': 'យមន', 'kcc[-3:-2]': 'យម', 'kcc[+1]': 'ឆ', 'kcc[+1]t': 'C', 'kcc[+1:0]': 'ៅឆ', 'ns+1': False, 'kcc[+2]': '្', 'kcc[+2]t': 'S', 'kcc[+1:+2]': 'ឆ្', 'kcc[0:+2]': 'ៅឆ្', 'ns+2': False, 'kcc[+3]': 'ន', 'kcc[+3]t': 'C', 'kcc[+2:+3]': '្ន', 'kcc[+1:+3]': 'ឆ្ន', 'kcc[0:+3]': 'ៅឆ្ន'}, {'kcc': 'ឆ', 't': 'C', 'ns': False, 'kcc[-1]': 'ៅ', 'kcc[-1]t': 'W', 'kcc[-1:0]': 'ៅឆ', 'ns-1': False, 'kcc[-2]': 'ន', 'kcc[-2]t': 'C', 'kcc[-2:-1]': 'នៅ', 'kcc[-2:0]': 'នៅឆ', 'kcc[-3]': 'ម', 'kcc[-3]t': 'C', 'kcc[-3:0]': 'មនៅឆ', 'kcc[-3:-1]': 'មនៅ', 'kcc[-3:-2]': 'មន', 'kcc[+1]': '្', 'kcc[+1]t': 'S', 'kcc[+1:0]': 'ឆ្', 'ns+1': False, 'kcc[+2]': 'ន', 'kcc[+2]t': 'C', 'kcc[+1:+2]': '្ន', 'kcc[0:+2]': 'ឆ្ន', 'ns+2': False, 'kcc[+3]': 'ា', 'kcc[+3]t': 'W', 'kcc[+2:+3]': 'នា', 'kcc[+1:+3]': '្នា', 'kcc[0:+3]': 'ឆ្នា'}, {'kcc': '្', 't': 'S', 'ns': False, 'kcc[-1]': 'ឆ', 'kcc[-1]t': 'C', 'kcc[-1:0]': 'ឆ្', 'ns-1': False, 'kcc[-2]': 'ៅ', 'kcc[-2]t': 'W', 'kcc[-2:-1]': 'ៅឆ', 'kcc[-2:0]': 'ៅឆ្', 'kcc[-3]': 'ន', 'kcc[-3]t': 'C', 'kcc[-3:0]': 'នៅឆ្', 'kcc[-3:-1]': 'នៅឆ', 'kcc[-3:-2]': 'នៅ', 'kcc[+1]': 'ន', 'kcc[+1]t': 'C', 'kcc[+1:0]': '្ន', 'ns+1': False, 'kcc[+2]': 'ា', 'kcc[+2]t': 'W', 'kcc[+1:+2]': 'នា', 'kcc[0:+2]': '្នា', 'ns+2': False, 'kcc[+3]': 'ំ', 'kcc[+3]t': 'W', 'kcc[+2:+3]': 'ាំ', 'kcc[+1:+3]': 'នាំ', 'kcc[0:+3]': '្នាំ'}, {'kcc': 'ន', 't': 'C', 'ns': False, 'kcc[-1]': '្', 'kcc[-1]t': 'S', 'kcc[-1:0]': '្ន', 'ns-1': False, 'kcc[-2]': 'ឆ', 'kcc[-2]t': 'C', 'kcc[-2:-1]': 'ឆ្', 'kcc[-2:0]': 'ឆ្ន', 'kcc[-3]': 'ៅ', 'kcc[-3]t': 'W', 'kcc[-3:0]': 'ៅឆ្ន', 'kcc[-3:-1]': 'ៅឆ្', 'kcc[-3:-2]': 'ៅឆ', 'kcc[+1]': 'ា', 'kcc[+1]t': 'W', 'kcc[+1:0]': 'នា', 'ns+1': False, 'kcc[+2]': 'ំ', 'kcc[+2]t': 'W', 'kcc[+1:+2]': 'ាំ', 'kcc[0:+2]': 'នាំ', 'ns+2': False, 'kcc[+3]': '2', 'kcc[+3]t': 'NS', 'kcc[+2:+3]': 'ំ2', 'kcc[+1:+3]': 'ាំ2', 'kcc[0:+3]': 'នាំ2'}, {'kcc': 'ា', 't': 'W', 'ns': False, 'kcc[-1]': 'ន', 'kcc[-1]t': 'C', 'kcc[-1:0]': 'នា', 'ns-1': False, 'kcc[-2]': '្', 'kcc[-2]t': 'S', 'kcc[-2:-1]': '្ន', 'kcc[-2:0]': '្នា', 'kcc[-3]': 'ឆ', 'kcc[-3]t': 'C', 'kcc[-3:0]': 'ឆ្នា', 'kcc[-3:-1]': 'ឆ្ន', 'kcc[-3:-2]': 'ឆ្', 'kcc[+1]': 'ំ', 'kcc[+1]t': 'W', 'kcc[+1:0]': 'ាំ', 'ns+1': False, 'kcc[+2]': '2', 'kcc[+2]t': 'NS', 'kcc[+1:+2]': 'ំ2', 'kcc[0:+2]': 'ាំ2', 'ns+2': True, 'kcc[+3]': '0', 'kcc[+3]t': 'NS', 'kcc[+2:+3]': '20', 'kcc[+1:+3]': 'ំ20', 'kcc[0:+3]': 'ាំ20'}, {'kcc': 'ំ', 't': 'W', 'ns': False, 'kcc[-1]': 'ា', 'kcc[-1]t': 'W', 'kcc[-1:0]': 'ាំ', 'ns-1': False, 'kcc[-2]': 'ន', 'kcc[-2]t': 'C', 'kcc[-2:-1]': 'នា', 'kcc[-2:0]': 'នាំ', 'kcc[-3]': '្', 'kcc[-3]t': 'S', 'kcc[-3:0]': '្នាំ', 'kcc[-3:-1]': '្នា', 'kcc[-3:-2]': '្ន', 'kcc[+1]': '2', 'kcc[+1]t': 'NS', 'kcc[+1:0]': 'ំ2', 'ns+1': True, 'kcc[+2]': '0', 'kcc[+2]t': 'NS', 'kcc[+1:+2]': '20', 'kcc[0:+2]': 'ំ20', 'ns+2': True, 'kcc[+3]': '0', 'kcc[+3]t': 'NS', 'kcc[+2:+3]': '00', 'kcc[+1:+3]': '200', 'kcc[0:+3]': 'ំ200'}, {'kcc': '2', 't': 'NS', 'ns': True, 'kcc[-1]': 'ំ', 'kcc[-1]t': 'W', 'kcc[-1:0]': 'ំ2', 'ns-1': False, 'kcc[-2]': 'ា', 'kcc[-2]t': 'W', 'kcc[-2:-1]': 'ាំ', 'kcc[-2:0]': 'ាំ2', 'kcc[-3]': 'ន', 'kcc[-3]t': 'C', 'kcc[-3:0]': 'នាំ2', 'kcc[-3:-1]': 'នាំ', 'kcc[-3:-2]': 'នា', 'kcc[+1]': '0', 'kcc[+1]t': 'NS', 'kcc[+1:0]': '20', 'ns+1': True, 'kcc[+2]': '0', 'kcc[+2]t': 'NS', 'kcc[+1:+2]': '00', 'kcc[0:+2]': '200', 'ns+2': True, 'kcc[+3]': '4', 'kcc[+3]t': 'NS', 'kcc[+2:+3]': '04', 'kcc[+1:+3]': '004', 'kcc[0:+3]': '2004'}, {'kcc': '0', 't': 'NS', 'ns': True, 'kcc[-1]': '2', 'kcc[-1]t': 'NS', 'kcc[-1:0]': '20', 'ns-1': True, 'kcc[-2]': 'ំ', 'kcc[-2]t': 'W', 'kcc[-2:-1]': 'ំ2', 'kcc[-2:0]': 'ំ20', 'kcc[-3]': 'ា', 'kcc[-3]t': 'W', 'kcc[-3:0]': 'ាំ20', 'kcc[-3:-1]': 'ាំ2', 'kcc[-3:-2]': 'ាំ', 'kcc[+1]': '0', 'kcc[+1]t': 'NS', 'kcc[+1:0]': '00', 'ns+1': True, 'kcc[+2]': '4', 'kcc[+2]t': 'NS', 'kcc[+1:+2]': '04', 'kcc[0:+2]': '004', 'ns+2': True, 'kcc[+3]': 'ដ', 'kcc[+3]t': 'C', 'kcc[+2:+3]': '4ដ', 'kcc[+1:+3]': '04ដ', 'kcc[0:+3]': '004ដ'}, {'kcc': '0', 't': 'NS', 'ns': True, 'kcc[-1]': '0', 'kcc[-1]t': 'NS', 'kcc[-1:0]': '00', 'ns-1': True, 'kcc[-2]': '2', 'kcc[-2]t': 'NS', 'kcc[-2:-1]': '20', 'kcc[-2:0]': '200', 'kcc[-3]': 'ំ', 'kcc[-3]t': 'W', 'kcc[-3:0]': 'ំ200', 'kcc[-3:-1]': 'ំ20', 'kcc[-3:-2]': 'ំ2', 'kcc[+1]': '4', 'kcc[+1]t': 'NS', 'kcc[+1:0]': '04', 'ns+1': True, 'kcc[+2]': 'ដ', 'kcc[+2]t': 'C', 'kcc[+1:+2]': '4ដ', 'kcc[0:+2]': '04ដ', 'ns+2': False, 'kcc[+3]': 'ែ', 'kcc[+3]t': 'W', 'kcc[+2:+3]': 'ដែ', 'kcc[+1:+3]': '4ដែ', 'kcc[0:+3]': '04ដែ'}, {'kcc': '4', 't': 'NS', 'ns': True, 'kcc[-1]': '0', 'kcc[-1]t': 'NS', 'kcc[-1:0]': '04', 'ns-1': True, 'kcc[-2]': '0', 'kcc[-2]t': 'NS', 'kcc[-2:-1]': '00', 'kcc[-2:0]': '004', 'kcc[-3]': '2', 'kcc[-3]t': 'NS', 'kcc[-3:0]': '2004', 'kcc[-3:-1]': '200', 'kcc[-3:-2]': '20', 'kcc[+1]': 'ដ', 'kcc[+1]t': 'C', 'kcc[+1:0]': '4ដ', 'ns+1': False, 'kcc[+2]': 'ែ', 'kcc[+2]t': 'W', 'kcc[+1:+2]': 'ដែ', 'kcc[0:+2]': '4ដែ', 'ns+2': False, 'kcc[+3]': 'ល', 'kcc[+3]t': 'C', 'kcc[+2:+3]': 'ែល', 'kcc[+1:+3]': 'ដែល', 'kcc[0:+3]': '4ដែល'}, {'kcc': 'ដ', 't': 'C', 'ns': False, 'kcc[-1]': '4', 'kcc[-1]t': 'NS', 'kcc[-1:0]': '4ដ', 'ns-1': True, 'kcc[-2]': '0', 'kcc[-2]t': 'NS', 'kcc[-2:-1]': '04', 'kcc[-2:0]': '04ដ', 'kcc[-3]': '0', 'kcc[-3]t': 'NS', 'kcc[-3:0]': '004ដ', 'kcc[-3:-1]': '004', 'kcc[-3:-2]': '00', 'kcc[+1]': 'ែ', 'kcc[+1]t': 'W', 'kcc[+1:0]': 'ដែ', 'ns+1': False, 'kcc[+2]': 'ល', 'kcc[+2]t': 'C', 'kcc[+1:+2]': 'ែល', 'kcc[0:+2]': 'ដែល', 'ns+2': False, 'kcc[+3]': 'ត', 'kcc[+3]t': 'C', 'kcc[+2:+3]': 'លត', 'kcc[+1:+3]': 'ែលត', 'kcc[0:+3]': 'ដែលត'}, {'kcc': 'ែ', 't': 'W', 'ns': False, 'kcc[-1]': 'ដ', 'kcc[-1]t': 'C', 'kcc[-1:0]': 'ដែ', 'ns-1': False, 'kcc[-2]': '4', 'kcc[-2]t': 'NS', 'kcc[-2:-1]': '4ដ', 'kcc[-2:0]': '4ដែ', 'kcc[-3]': '0', 'kcc[-3]t': 'NS', 'kcc[-3:0]': '04ដែ', 'kcc[-3:-1]': '04ដ', 'kcc[-3:-2]': '04', 'kcc[+1]': 'ល', 'kcc[+1]t': 'C', 'kcc[+1:0]': 'ែល', 'ns+1': False, 'kcc[+2]': 'ត', 'kcc[+2]t': 'C', 'kcc[+1:+2]': 'លត', 'kcc[0:+2]': 'ែលត', 'ns+2': False, 'kcc[+3]': '្', 'kcc[+3]t': 'S', 'kcc[+2:+3]': 'ត្', 'kcc[+1:+3]': 'លត្', 'kcc[0:+3]': 'ែលត្'}, {'kcc': 'ល', 't': 'C', 'ns': False, 'kcc[-1]': 'ែ', 'kcc[-1]t': 'W', 'kcc[-1:0]': 'ែល', 'ns-1': False, 'kcc[-2]': 'ដ', 'kcc[-2]t': 'C', 'kcc[-2:-1]': 'ដែ', 'kcc[-2:0]': 'ដែល', 'kcc[-3]': '4', 'kcc[-3]t': 'NS', 'kcc[-3:0]': '4ដែល', 'kcc[-3:-1]': '4ដែ', 'kcc[-3:-2]': '4ដ', 'kcc[+1]': 'ត', 'kcc[+1]t': 'C', 'kcc[+1:0]': 'លត', 'ns+1': False, 'kcc[+2]': '្', 'kcc[+2]t': 'S', 'kcc[+1:+2]': 'ត្', 'kcc[0:+2]': 'លត្', 'ns+2': False, 'kcc[+3]': 'រ', 'kcc[+3]t': 'C', 'kcc[+2:+3]': '្រ', 'kcc[+1:+3]': 'ត្រ', 'kcc[0:+3]': 'លត្រ'}, {'kcc': 'ត', 't': 'C', 'ns': False, 'kcc[-1]': 'ល', 'kcc[-1]t': 'C', 'kcc[-1:0]': 'លត', 'ns-1': False, 'kcc[-2]': 'ែ', 'kcc[-2]t': 'W', 'kcc[-2:-1]': 'ែល', 'kcc[-2:0]': 'ែលត', 'kcc[-3]': 'ដ', 'kcc[-3]t': 'C', 'kcc[-3:0]': 'ដែលត', 'kcc[-3:-1]': 'ដែល', 'kcc[-3:-2]': 'ដែ', 'kcc[+1]': '្', 'kcc[+1]t': 'S', 'kcc[+1:0]': 'ត្', 'ns+1': False, 'kcc[+2]': 'រ', 'kcc[+2]t': 'C', 'kcc[+1:+2]': '្រ', 'kcc[0:+2]': 'ត្រ', 'ns+2': False, 'kcc[+3]': 'ូ', 'kcc[+3]t': 'W', 'kcc[+2:+3]': 'រូ', 'kcc[+1:+3]': '្រូ', 'kcc[0:+3]': 'ត្រូ'}, {'kcc': '្', 't': 'S', 'ns': False, 'kcc[-1]': 'ត', 'kcc[-1]t': 'C', 'kcc[-1:0]': 'ត្', 'ns-1': False, 'kcc[-2]': 'ល', 'kcc[-2]t': 'C', 'kcc[-2:-1]': 'លត', 'kcc[-2:0]': 'លត្', 'kcc[-3]': 'ែ', 'kcc[-3]t': 'W', 'kcc[-3:0]': 'ែលត្', 'kcc[-3:-1]': 'ែលត', 'kcc[-3:-2]': 'ែល', 'kcc[+1]': 'រ', 'kcc[+1]t': 'C', 'kcc[+1:0]': '្រ', 'ns+1': False, 'kcc[+2]': 'ូ', 'kcc[+2]t': 'W', 'kcc[+1:+2]': 'រូ', 'kcc[0:+2]': '្រូ', 'ns+2': False, 'kcc[+3]': 'វ', 'kcc[+3]t': 'C', 'kcc[+2:+3]': 'ូវ', 'kcc[+1:+3]': 'រូវ', 'kcc[0:+3]': '្រូវ'}, {'kcc': 'រ', 't': 'C', 'ns': False, 'kcc[-1]': '្', 'kcc[-1]t': 'S', 'kcc[-1:0]': '្រ', 'ns-1': False, 'kcc[-2]': 'ត', 'kcc[-2]t': 'C', 'kcc[-2:-1]': 'ត្', 'kcc[-2:0]': 'ត្រ', 'kcc[-3]': 'ល', 'kcc[-3]t': 'C', 'kcc[-3:0]': 'លត្រ', 'kcc[-3:-1]': 'លត្', 'kcc[-3:-2]': 'លត', 'kcc[+1]': 'ូ', 'kcc[+1]t': 'W', 'kcc[+1:0]': 'រូ', 'ns+1': False, 'kcc[+2]': 'វ', 'kcc[+2]t': 'C', 'kcc[+1:+2]': 'ូវ', 'kcc[0:+2]': 'រូវ', 'ns+2': False, 'kcc[+3]': 'ឈ', 'kcc[+3]t': 'C', 'kcc[+2:+3]': 'វឈ', 'kcc[+1:+3]': 'ូវឈ', 'kcc[0:+3]': 'រូវឈ'}, {'kcc': 'ូ', 't': 'W', 'ns': False, 'kcc[-1]': 'រ', 'kcc[-1]t': 'C', 'kcc[-1:0]': 'រូ', 'ns-1': False, 'kcc[-2]': '្', 'kcc[-2]t': 'S', 'kcc[-2:-1]': '្រ', 'kcc[-2:0]': '្រូ', 'kcc[-3]': 'ត', 'kcc[-3]t': 'C', 'kcc[-3:0]': 'ត្រូ', 'kcc[-3:-1]': 'ត្រ', 'kcc[-3:-2]': 'ត្', 'kcc[+1]': 'វ', 'kcc[+1]t': 'C', 'kcc[+1:0]': 'ូវ', 'ns+1': False, 'kcc[+2]': 'ឈ', 'kcc[+2]t': 'C', 'kcc[+1:+2]': 'វឈ', 'kcc[0:+2]': 'ូវឈ', 'ns+2': False, 'kcc[+3]': 'រ', 'kcc[+3]t': 'C', 'kcc[+2:+3]': 'ឈរ', 'kcc[+1:+3]': 'វឈរ', 'kcc[0:+3]': 'ូវឈរ'}, {'kcc': 'វ', 't': 'C', 'ns': False, 'kcc[-1]': 'ូ', 'kcc[-1]t': 'W', 'kcc[-1:0]': 'ូវ', 'ns-1': False, 'kcc[-2]': 'រ', 'kcc[-2]t': 'C', 'kcc[-2:-1]': 'រូ', 'kcc[-2:0]': 'រូវ', 'kcc[-3]': '្', 'kcc[-3]t': 'S', 'kcc[-3:0]': '្រូវ', 'kcc[-3:-1]': '្រូ', 'kcc[-3:-2]': '្រ', 'kcc[+1]': 'ឈ', 'kcc[+1]t': 'C', 'kcc[+1:0]': 'វឈ', 'ns+1': False, 'kcc[+2]': 'រ', 'kcc[+2]t': 'C', 'kcc[+1:+2]': 'ឈរ', 'kcc[0:+2]': 'វឈរ', 'ns+2': False, 'kcc[+3]': 'ឈ', 'kcc[+3]t': 'C', 'kcc[+2:+3]': 'រឈ', 'kcc[+1:+3]': 'ឈរឈ', 'kcc[0:+3]': 'វឈរឈ'}, {'kcc': 'ឈ', 't': 'C', 'ns': False, 'kcc[-1]': 'វ', 'kcc[-1]t': 'C', 'kcc[-1:0]': 'វឈ', 'ns-1': False, 'kcc[-2]': 'ូ', 'kcc[-2]t': 'W', 'kcc[-2:-1]': 'ូវ', 'kcc[-2:0]': 'ូវឈ', 'kcc[-3]': 'រ', 'kcc[-3]t': 'C', 'kcc[-3:0]': 'រូវឈ', 'kcc[-3:-1]': 'រូវ', 'kcc[-3:-2]': 'រូ', 'kcc[+1]': 'រ', 'kcc[+1]t': 'C', 'kcc[+1:0]': 'ឈរ', 'ns+1': False, 'kcc[+2]': 'ឈ', 'kcc[+2]t': 'C', 'kcc[+1:+2]': 'រឈ', 'kcc[0:+2]': 'ឈរឈ', 'ns+2': False, 'kcc[+3]': '្', 'kcc[+3]t': 'S', 'kcc[+2:+3]': 'ឈ្', 'kcc[+1:+3]': 'រឈ្', 'kcc[0:+3]': 'ឈរឈ្'}, {'kcc': 'រ', 't': 'C', 'ns': False, 'kcc[-1]': 'ឈ', 'kcc[-1]t': 'C', 'kcc[-1:0]': 'ឈរ', 'ns-1': False, 'kcc[-2]': 'វ', 'kcc[-2]t': 'C', 'kcc[-2:-1]': 'វឈ', 'kcc[-2:0]': 'វឈរ', 'kcc[-3]': 'ូ', 'kcc[-3]t': 'W', 'kcc[-3:0]': 'ូវឈរ', 'kcc[-3:-1]': 'ូវឈ', 'kcc[-3:-2]': 'ូវ', 'kcc[+1]': 'ឈ', 'kcc[+1]t': 'C', 'kcc[+1:0]': 'រឈ', 'ns+1': False, 'kcc[+2]': '្', 'kcc[+2]t': 'S', 'kcc[+1:+2]': 'ឈ្', 'kcc[0:+2]': 'រឈ្', 'ns+2': False, 'kcc[+3]': 'ម', 'kcc[+3]t': 'C', 'kcc[+2:+3]': '្ម', 'kcc[+1:+3]': 'ឈ្ម', 'kcc[0:+3]': 'រឈ្ម'}, {'kcc': 'ឈ', 't': 'C', 'ns': False, 'kcc[-1]': 'រ', 'kcc[-1]t': 'C', 'kcc[-1:0]': 'រឈ', 'ns-1': False, 'kcc[-2]': 'ឈ', 'kcc[-2]t': 'C', 'kcc[-2:-1]': 'ឈរ', 'kcc[-2:0]': 'ឈរឈ', 'kcc[-3]': 'វ', 'kcc[-3]t': 'C', 'kcc[-3:0]': 'វឈរឈ', 'kcc[-3:-1]': 'វឈរ', 'kcc[-3:-2]': 'វឈ', 'kcc[+1]': '្', 'kcc[+1]t': 'S', 'kcc[+1:0]': 'ឈ្', 'ns+1': False, 'kcc[+2]': 'ម', 'kcc[+2]t': 'C', 'kcc[+1:+2]': '្ម', 'kcc[0:+2]': 'ឈ្ម', 'ns+2': False, 'kcc[+3]': 'ោ', 'kcc[+3]t': 'W', 'kcc[+2:+3]': 'មោ', 'kcc[+1:+3]': '្មោ', 'kcc[0:+3]': 'ឈ្មោ'}, {'kcc': '្', 't': 'S', 'ns': False, 'kcc[-1]': 'ឈ', 'kcc[-1]t': 'C', 'kcc[-1:0]': 'ឈ្', 'ns-1': False, 'kcc[-2]': 'រ', 'kcc[-2]t': 'C', 'kcc[-2:-1]': 'រឈ', 'kcc[-2:0]': 'រឈ្', 'kcc[-3]': 'ឈ', 'kcc[-3]t': 'C', 'kcc[-3:0]': 'ឈរឈ្', 'kcc[-3:-1]': 'ឈរឈ', 'kcc[-3:-2]': 'ឈរ', 'kcc[+1]': 'ម', 'kcc[+1]t': 'C', 'kcc[+1:0]': '្ម', 'ns+1': False, 'kcc[+2]': 'ោ', 'kcc[+2]t': 'W', 'kcc[+1:+2]': 'មោ', 'kcc[0:+2]': '្មោ', 'ns+2': False, 'kcc[+3]': 'ះ', 'kcc[+3]t': 'W', 'kcc[+2:+3]': 'ោះ', 'kcc[+1:+3]': 'មោះ', 'kcc[0:+3]': '្មោះ'}, {'kcc': 'ម', 't': 'C', 'ns': False, 'kcc[-1]': '្', 'kcc[-1]t': 'S', 'kcc[-1:0]': '្ម', 'ns-1': False, 'kcc[-2]': 'ឈ', 'kcc[-2]t': 'C', 'kcc[-2:-1]': 'ឈ្', 'kcc[-2:0]': 'ឈ្ម', 'kcc[-3]': 'រ', 'kcc[-3]t': 'C', 'kcc[-3:0]': 'រឈ្ម', 'kcc[-3:-1]': 'រឈ្', 'kcc[-3:-2]': 'រឈ', 'kcc[+1]': 'ោ', 'kcc[+1]t': 'W', 'kcc[+1:0]': 'មោ', 'ns+1': False, 'kcc[+2]': 'ះ', 'kcc[+2]t': 'W', 'kcc[+1:+2]': 'ោះ', 'kcc[0:+2]': 'មោះ', 'ns+2': False, 'kcc[+3]': 'ស', 'kcc[+3]t': 'C', 'kcc[+2:+3]': 'ះស', 'kcc[+1:+3]': 'ោះស', 'kcc[0:+3]': 'មោះស'}, {'kcc': 'ោ', 't': 'W', 'ns': False, 'kcc[-1]': 'ម', 'kcc[-1]t': 'C', 'kcc[-1:0]': 'មោ', 'ns-1': False, 'kcc[-2]': '្', 'kcc[-2]t': 'S', 'kcc[-2:-1]': '្ម', 'kcc[-2:0]': '្មោ', 'kcc[-3]': 'ឈ', 'kcc[-3]t': 'C', 'kcc[-3:0]': 'ឈ្មោ', 'kcc[-3:-1]': 'ឈ្ម', 'kcc[-3:-2]': 'ឈ្', 'kcc[+1]': 'ះ', 'kcc[+1]t': 'W', 'kcc[+1:0]': 'ោះ', 'ns+1': False, 'kcc[+2]': 'ស', 'kcc[+2]t': 'C', 'kcc[+1:+2]': 'ះស', 'kcc[0:+2]': 'ោះស', 'ns+2': False, 'kcc[+3]': 'ម', 'kcc[+3]t': 'C', 'kcc[+2:+3]': 'សម', 'kcc[+1:+3]': 'ះសម', 'kcc[0:+3]': 'ោះសម'}, {'kcc': 'ះ', 't': 'W', 'ns': False, 'kcc[-1]': 'ោ', 'kcc[-1]t': 'W', 'kcc[-1:0]': 'ោះ', 'ns-1': False, 'kcc[-2]': 'ម', 'kcc[-2]t': 'C', 'kcc[-2:-1]': 'មោ', 'kcc[-2:0]': 'មោះ', 'kcc[-3]': '្', 'kcc[-3]t': 'S', 'kcc[-3:0]': '្មោះ', 'kcc[-3:-1]': '្មោ', 'kcc[-3:-2]': '្ម', 'kcc[+1]': 'ស', 'kcc[+1]t': 'C', 'kcc[+1:0]': 'ះស', 'ns+1': False, 'kcc[+2]': 'ម', 'kcc[+2]t': 'C', 'kcc[+1:+2]': 'សម', 'kcc[0:+2]': 'ះសម', 'ns+2': False, 'kcc[+3]': '្', 'kcc[+3]t': 'S', 'kcc[+2:+3]': 'ម្', 'kcc[+1:+3]': 'សម្', 'kcc[0:+3]': 'ះសម្'}, {'kcc': 'ស', 't': 'C', 'ns': False, 'kcc[-1]': 'ះ', 'kcc[-1]t': 'W', 'kcc[-1:0]': 'ះស', 'ns-1': False, 'kcc[-2]': 'ោ', 'kcc[-2]t': 'W', 'kcc[-2:-1]': 'ោះ', 'kcc[-2:0]': 'ោះស', 'kcc[-3]': 'ម', 'kcc[-3]t': 'C', 'kcc[-3:0]': 'មោះស', 'kcc[-3:-1]': 'មោះ', 'kcc[-3:-2]': 'មោ', 'kcc[+1]': 'ម', 'kcc[+1]t': 'C', 'kcc[+1:0]': 'សម', 'ns+1': False, 'kcc[+2]': '្', 'kcc[+2]t': 'S', 'kcc[+1:+2]': 'ម្', 'kcc[0:+2]': 'សម្', 'ns+2': False, 'kcc[+3]': 'រ', 'kcc[+3]t': 'C', 'kcc[+2:+3]': '្រ', 'kcc[+1:+3]': 'ម្រ', 'kcc[0:+3]': 'សម្រ'}, {'kcc': 'ម', 't': 'C', 'ns': False, 'kcc[-1]': 'ស', 'kcc[-1]t': 'C', 'kcc[-1:0]': 'សម', 'ns-1': False, 'kcc[-2]': 'ះ', 'kcc[-2]t': 'W', 'kcc[-2:-1]': 'ះស', 'kcc[-2:0]': 'ះសម', 'kcc[-3]': 'ោ', 'kcc[-3]t': 'W', 'kcc[-3:0]': 'ោះសម', 'kcc[-3:-1]': 'ោះស', 'kcc[-3:-2]': 'ោះ', 'kcc[+1]': '្', 'kcc[+1]t': 'S', 'kcc[+1:0]': 'ម្', 'ns+1': False, 'kcc[+2]': 'រ', 'kcc[+2]t': 'C', 'kcc[+1:+2]': '្រ', 'kcc[0:+2]': 'ម្រ', 'ns+2': False, 'kcc[+3]': 'ា', 'kcc[+3]t': 'W', 'kcc[+2:+3]': 'រា', 'kcc[+1:+3]': '្រា', 'kcc[0:+3]': 'ម្រា'}, {'kcc': '្', 't': 'S', 'ns': False, 'kcc[-1]': 'ម', 'kcc[-1]t': 'C', 'kcc[-1:0]': 'ម្', 'ns-1': False, 'kcc[-2]': 'ស', 'kcc[-2]t': 'C', 'kcc[-2:-1]': 'សម', 'kcc[-2:0]': 'សម្', 'kcc[-3]': 'ះ', 'kcc[-3]t': 'W', 'kcc[-3:0]': 'ះសម្', 'kcc[-3:-1]': 'ះសម', 'kcc[-3:-2]': 'ះស', 'kcc[+1]': 'រ', 'kcc[+1]t': 'C', 'kcc[+1:0]': '្រ', 'ns+1': False, 'kcc[+2]': 'ា', 'kcc[+2]t': 'W', 'kcc[+1:+2]': 'រា', 'kcc[0:+2]': '្រា', 'ns+2': False, 'kcc[+3]': 'ប', 'kcc[+3]t': 'C', 'kcc[+2:+3]': 'ាប', 'kcc[+1:+3]': 'រាប', 'kcc[0:+3]': '្រាប'}, {'kcc': 'រ', 't': 'C', 'ns': False, 'kcc[-1]': '្', 'kcc[-1]t': 'S', 'kcc[-1:0]': '្រ', 'ns-1': False, 'kcc[-2]': 'ម', 'kcc[-2]t': 'C', 'kcc[-2:-1]': 'ម្', 'kcc[-2:0]': 'ម្រ', 'kcc[-3]': 'ស', 'kcc[-3]t': 'C', 'kcc[-3:0]': 'សម្រ', 'kcc[-3:-1]': 'សម្', 'kcc[-3:-2]': 'សម', 'kcc[+1]': 'ា', 'kcc[+1]t': 'W', 'kcc[+1:0]': 'រា', 'ns+1': False, 'kcc[+2]': 'ប', 'kcc[+2]t': 'C', 'kcc[+1:+2]': 'ាប', 'kcc[0:+2]': 'រាប', 'ns+2': False, 'kcc[+3]': '់', 'kcc[+3]t': 'D', 'kcc[+2:+3]': 'ប់', 'kcc[+1:+3]': 'ាប់', 'kcc[0:+3]': 'រាប់'}, {'kcc': 'ា', 't': 'W', 'ns': False, 'kcc[-1]': 'រ', 'kcc[-1]t': 'C', 'kcc[-1:0]': 'រា', 'ns-1': False, 'kcc[-2]': '្', 'kcc[-2]t': 'S', 'kcc[-2:-1]': '្រ', 'kcc[-2:0]': '្រា', 'kcc[-3]': 'ម', 'kcc[-3]t': 'C', 'kcc[-3:0]': 'ម្រា', 'kcc[-3:-1]': 'ម្រ', 'kcc[-3:-2]': 'ម្', 'kcc[+1]': 'ប', 'kcc[+1]t': 'C', 'kcc[+1:0]': 'ាប', 'ns+1': False, 'kcc[+2]': '់', 'kcc[+2]t': 'D', 'kcc[+1:+2]': 'ប់', 'kcc[0:+2]': 'ាប់', 'ns+2': False, 'kcc[+3]': 'ព', 'kcc[+3]t': 'C', 'kcc[+2:+3]': '់ព', 'kcc[+1:+3]': 'ប់ព', 'kcc[0:+3]': 'ាប់ព'}, {'kcc': 'ប', 't': 'C', 'ns': False, 'kcc[-1]': 'ា', 'kcc[-1]t': 'W', 'kcc[-1:0]': 'ាប', 'ns-1': False, 'kcc[-2]': 'រ', 'kcc[-2]t': 'C', 'kcc[-2:-1]': 'រា', 'kcc[-2:0]': 'រាប', 'kcc[-3]': '្', 'kcc[-3]t': 'S', 'kcc[-3:0]': '្រាប', 'kcc[-3:-1]': '្រា', 'kcc[-3:-2]': '្រ', 'kcc[+1]': '់', 'kcc[+1]t': 'D', 'kcc[+1:0]': 'ប់', 'ns+1': False, 'kcc[+2]': 'ព', 'kcc[+2]t': 'C', 'kcc[+1:+2]': '់ព', 'kcc[0:+2]': 'ប់ព', 'ns+2': False, 'kcc[+3]': '្', 'kcc[+3]t': 'S', 'kcc[+2:+3]': 'ព្', 'kcc[+1:+3]': '់ព្', 'kcc[0:+3]': 'ប់ព្'}, {'kcc': '់', 't': 'D', 'ns': False, 'kcc[-1]': 'ប', 'kcc[-1]t': 'C', 'kcc[-1:0]': 'ប់', 'ns-1': False, 'kcc[-2]': 'ា', 'kcc[-2]t': 'W', 'kcc[-2:-1]': 'ាប', 'kcc[-2:0]': 'ាប់', 'kcc[-3]': 'រ', 'kcc[-3]t': 'C', 'kcc[-3:0]': 'រាប់', 'kcc[-3:-1]': 'រាប', 'kcc[-3:-2]': 'រា', 'kcc[+1]': 'ព', 'kcc[+1]t': 'C', 'kcc[+1:0]': '់ព', 'ns+1': False, 'kcc[+2]': '្', 'kcc[+2]t': 'S', 'kcc[+1:+2]': 'ព្', 'kcc[0:+2]': '់ព្', 'ns+2': False, 'kcc[+3]': 'រ', 'kcc[+3]t': 'C', 'kcc[+2:+3]': '្រ', 'kcc[+1:+3]': 'ព្រ', 'kcc[0:+3]': '់ព្រ'}, {'kcc': 'ព', 't': 'C', 'ns': False, 'kcc[-1]': '់', 'kcc[-1]t': 'D', 'kcc[-1:0]': '់ព', 'ns-1': False, 'kcc[-2]': 'ប', 'kcc[-2]t': 'C', 'kcc[-2:-1]': 'ប់', 'kcc[-2:0]': 'ប់ព', 'kcc[-3]': 'ា', 'kcc[-3]t': 'W', 'kcc[-3:0]': 'ាប់ព', 'kcc[-3:-1]': 'ាប់', 'kcc[-3:-2]': 'ាប', 'kcc[+1]': '្', 'kcc[+1]t': 'S', 'kcc[+1:0]': 'ព្', 'ns+1': False, 'kcc[+2]': 'រ', 'kcc[+2]t': 'C', 'kcc[+1:+2]': '្រ', 'kcc[0:+2]': 'ព្រ', 'ns+2': False, 'kcc[+3]': 'ឹ', 'kcc[+3]t': 'W', 'kcc[+2:+3]': 'រឹ', 'kcc[+1:+3]': '្រឹ', 'kcc[0:+3]': 'ព្រឹ'}, {'kcc': '្', 't': 'S', 'ns': False, 'kcc[-1]': 'ព', 'kcc[-1]t': 'C', 'kcc[-1:0]': 'ព្', 'ns-1': False, 'kcc[-2]': '់', 'kcc[-2]t': 'D', 'kcc[-2:-1]': '់ព', 'kcc[-2:0]': '់ព្', 'kcc[-3]': 'ប', 'kcc[-3]t': 'C', 'kcc[-3:0]': 'ប់ព្', 'kcc[-3:-1]': 'ប់ព', 'kcc[-3:-2]': 'ប់', 'kcc[+1]': 'រ', 'kcc[+1]t': 'C', 'kcc[+1:0]': '្រ', 'ns+1': False, 'kcc[+2]': 'ឹ', 'kcc[+2]t': 'W', 'kcc[+1:+2]': 'រឹ', 'kcc[0:+2]': '្រឹ', 'ns+2': False, 'kcc[+3]': 'ទ', 'kcc[+3]t': 'C', 'kcc[+2:+3]': 'ឹទ', 'kcc[+1:+3]': 'រឹទ', 'kcc[0:+3]': '្រឹទ'}, {'kcc': 'រ', 't': 'C', 'ns': False, 'kcc[-1]': '្', 'kcc[-1]t': 'S', 'kcc[-1:0]': '្រ', 'ns-1': False, 'kcc[-2]': 'ព', 'kcc[-2]t': 'C', 'kcc[-2:-1]': 'ព្', 'kcc[-2:0]': 'ព្រ', 'kcc[-3]': '់', 'kcc[-3]t': 'D', 'kcc[-3:0]': '់ព្រ', 'kcc[-3:-1]': '់ព្', 'kcc[-3:-2]': '់ព', 'kcc[+1]': 'ឹ', 'kcc[+1]t': 'W', 'kcc[+1:0]': 'រឹ', 'ns+1': False, 'kcc[+2]': 'ទ', 'kcc[+2]t': 'C', 'kcc[+1:+2]': 'ឹទ', 'kcc[0:+2]': 'រឹទ', 'ns+2': False, 'kcc[+3]': '្', 'kcc[+3]t': 'S', 'kcc[+2:+3]': 'ទ្', 'kcc[+1:+3]': 'ឹទ្', 'kcc[0:+3]': 'រឹទ្'}, {'kcc': 'ឹ', 't': 'W', 'ns': False, 'kcc[-1]': 'រ', 'kcc[-1]t': 'C', 'kcc[-1:0]': 'រឹ', 'ns-1': False, 'kcc[-2]': '្', 'kcc[-2]t': 'S', 'kcc[-2:-1]': '្រ', 'kcc[-2:0]': '្រឹ', 'kcc[-3]': 'ព', 'kcc[-3]t': 'C', 'kcc[-3:0]': 'ព្រឹ', 'kcc[-3:-1]': 'ព្រ', 'kcc[-3:-2]': 'ព្', 'kcc[+1]': 'ទ', 'kcc[+1]t': 'C', 'kcc[+1:0]': 'ឹទ', 'ns+1': False, 'kcc[+2]': '្', 'kcc[+2]t': 'S', 'kcc[+1:+2]': 'ទ្', 'kcc[0:+2]': 'ឹទ្', 'ns+2': False, 'kcc[+3]': 'ធ', 'kcc[+3]t': 'C', 'kcc[+2:+3]': '្ធ', 'kcc[+1:+3]': 'ទ្ធ', 'kcc[0:+3]': 'ឹទ្ធ'}, {'kcc': 'ទ', 't': 'C', 'ns': False, 'kcc[-1]': 'ឹ', 'kcc[-1]t': 'W', 'kcc[-1:0]': 'ឹទ', 'ns-1': False, 'kcc[-2]': 'រ', 'kcc[-2]t': 'C', 'kcc[-2:-1]': 'រឹ', 'kcc[-2:0]': 'រឹទ', 'kcc[-3]': '្', 'kcc[-3]t': 'S', 'kcc[-3:0]': '្រឹទ', 'kcc[-3:-1]': '្រឹ', 'kcc[-3:-2]': '្រ', 'kcc[+1]': '្', 'kcc[+1]t': 'S', 'kcc[+1:0]': 'ទ្', 'ns+1': False, 'kcc[+2]': 'ធ', 'kcc[+2]t': 'C', 'kcc[+1:+2]': '្ធ', 'kcc[0:+2]': 'ទ្ធ', 'ns+2': False, 'kcc[+3]': 'ស', 'kcc[+3]t': 'C', 'kcc[+2:+3]': 'ធស', 'kcc[+1:+3]': '្ធស', 'kcc[0:+3]': 'ទ្ធស'}, {'kcc': '្', 't': 'S', 'ns': False, 'kcc[-1]': 'ទ', 'kcc[-1]t': 'C', 'kcc[-1:0]': 'ទ្', 'ns-1': False, 'kcc[-2]': 'ឹ', 'kcc[-2]t': 'W', 'kcc[-2:-1]': 'ឹទ', 'kcc[-2:0]': 'ឹទ្', 'kcc[-3]': 'រ', 'kcc[-3]t': 'C', 'kcc[-3:0]': 'រឹទ្', 'kcc[-3:-1]': 'រឹទ', 'kcc[-3:-2]': 'រឹ', 'kcc[+1]': 'ធ', 'kcc[+1]t': 'C', 'kcc[+1:0]': '្ធ', 'ns+1': False, 'kcc[+2]': 'ស', 'kcc[+2]t': 'C', 'kcc[+1:+2]': 'ធស', 'kcc[0:+2]': '្ធស', 'ns+2': False, 'kcc[+3]': 'ភ', 'kcc[+3]t': 'C', 'kcc[+2:+3]': 'សភ', 'kcc[+1:+3]': 'ធសភ', 'kcc[0:+3]': '្ធសភ'}, {'kcc': 'ធ', 't': 'C', 'ns': False, 'kcc[-1]': '្', 'kcc[-1]t': 'S', 'kcc[-1:0]': '្ធ', 'ns-1': False, 'kcc[-2]': 'ទ', 'kcc[-2]t': 'C', 'kcc[-2:-1]': 'ទ្', 'kcc[-2:0]': 'ទ្ធ', 'kcc[-3]': 'ឹ', 'kcc[-3]t': 'W', 'kcc[-3:0]': 'ឹទ្ធ', 'kcc[-3:-1]': 'ឹទ្', 'kcc[-3:-2]': 'ឹទ', 'kcc[+1]': 'ស', 'kcc[+1]t': 'C', 'kcc[+1:0]': 'ធស', 'ns+1': False, 'kcc[+2]': 'ភ', 'kcc[+2]t': 'C', 'kcc[+1:+2]': 'សភ', 'kcc[0:+2]': 'ធសភ', 'ns+2': False, 'kcc[+3]': 'ា', 'kcc[+3]t': 'W', 'kcc[+2:+3]': 'ភា', 'kcc[+1:+3]': 'សភា', 'kcc[0:+3]': 'ធសភា'}, {'kcc': 'ស', 't': 'C', 'ns': False, 'kcc[-1]': 'ធ', 'kcc[-1]t': 'C', 'kcc[-1:0]': 'ធស', 'ns-1': False, 'kcc[-2]': '្', 'kcc[-2]t': 'S', 'kcc[-2:-1]': '្ធ', 'kcc[-2:0]': '្ធស', 'kcc[-3]': 'ទ', 'kcc[-3]t': 'C', 'kcc[-3:0]': 'ទ្ធស', 'kcc[-3:-1]': 'ទ្ធ', 'kcc[-3:-2]': 'ទ្', 'kcc[+1]': 'ភ', 'kcc[+1]t': 'C', 'kcc[+1:0]': 'សភ', 'ns+1': False, 'kcc[+2]': 'ា', 'kcc[+2]t': 'W', 'kcc[+1:+2]': 'ភា', 'kcc[0:+2]': 'សភា', 'ns+2': False, 'kcc[+3]': 'ស', 'kcc[+3]t': 'C', 'kcc[+2:+3]': 'ាស', 'kcc[+1:+3]': 'ភាស', 'kcc[0:+3]': 'សភាស'}, {'kcc': 'ភ', 't': 'C', 'ns': False, 'kcc[-1]': 'ស', 'kcc[-1]t': 'C', 'kcc[-1:0]': 'សភ', 'ns-1': False, 'kcc[-2]': 'ធ', 'kcc[-2]t': 'C', 'kcc[-2:-1]': 'ធស', 'kcc[-2:0]': 'ធសភ', 'kcc[-3]': '្', 'kcc[-3]t': 'S', 'kcc[-3:0]': '្ធសភ', 'kcc[-3:-1]': '្ធស', 'kcc[-3:-2]': '្ធ', 'kcc[+1]': 'ា', 'kcc[+1]t': 'W', 'kcc[+1:0]': 'ភា', 'ns+1': False, 'kcc[+2]': 'ស', 'kcc[+2]t': 'C', 'kcc[+1:+2]': 'ាស', 'kcc[0:+2]': 'ភាស', 'ns+2': False, 'kcc[+3]': 'ហ', 'kcc[+3]t': 'C', 'kcc[+2:+3]': 'សហ', 'kcc[+1:+3]': 'ាសហ', 'kcc[0:+3]': 'ភាសហ'}, {'kcc': 'ា', 't': 'W', 'ns': False, 'kcc[-1]': 'ភ', 'kcc[-1]t': 'C', 'kcc[-1:0]': 'ភា', 'ns-1': False, 'kcc[-2]': 'ស', 'kcc[-2]t': 'C', 'kcc[-2:-1]': 'សភ', 'kcc[-2:0]': 'សភា', 'kcc[-3]': 'ធ', 'kcc[-3]t': 'C', 'kcc[-3:0]': 'ធសភា', 'kcc[-3:-1]': 'ធសភ', 'kcc[-3:-2]': 'ធស', 'kcc[+1]': 'ស', 'kcc[+1]t': 'C', 'kcc[+1:0]': 'ាស', 'ns+1': False, 'kcc[+2]': 'ហ', 'kcc[+2]t': 'C', 'kcc[+1:+2]': 'សហ', 'kcc[0:+2]': 'ាសហ', 'ns+2': False, 'kcc[+3]': 'រ', 'kcc[+3]t': 'C', 'kcc[+2:+3]': 'ហរ', 'kcc[+1:+3]': 'សហរ', 'kcc[0:+3]': 'ាសហរ'}, {'kcc': 'ស', 't': 'C', 'ns': False, 'kcc[-1]': 'ា', 'kcc[-1]t': 'W', 'kcc[-1:0]': 'ាស', 'ns-1': False, 'kcc[-2]': 'ភ', 'kcc[-2]t': 'C', 'kcc[-2:-1]': 'ភា', 'kcc[-2:0]': 'ភាស', 'kcc[-3]': 'ស', 'kcc[-3]t': 'C', 'kcc[-3:0]': 'សភាស', 'kcc[-3:-1]': 'សភា', 'kcc[-3:-2]': 'សភ', 'kcc[+1]': 'ហ', 'kcc[+1]t': 'C', 'kcc[+1:0]': 'សហ', 'ns+1': False, 'kcc[+2]': 'រ', 'kcc[+2]t': 'C', 'kcc[+1:+2]': 'ហរ', 'kcc[0:+2]': 'សហរ', 'ns+2': False, 'kcc[+3]': 'ដ', 'kcc[+3]t': 'C', 'kcc[+2:+3]': 'រដ', 'kcc[+1:+3]': 'ហរដ', 'kcc[0:+3]': 'សហរដ'}, {'kcc': 'ហ', 't': 'C', 'ns': False, 'kcc[-1]': 'ស', 'kcc[-1]t': 'C', 'kcc[-1:0]': 'សហ', 'ns-1': False, 'kcc[-2]': 'ា', 'kcc[-2]t': 'W', 'kcc[-2:-1]': 'ាស', 'kcc[-2:0]': 'ាសហ', 'kcc[-3]': 'ភ', 'kcc[-3]t': 'C', 'kcc[-3:0]': 'ភាសហ', 'kcc[-3:-1]': 'ភាស', 'kcc[-3:-2]': 'ភា', 'kcc[+1]': 'រ', 'kcc[+1]t': 'C', 'kcc[+1:0]': 'ហរ', 'ns+1': False, 'kcc[+2]': 'ដ', 'kcc[+2]t': 'C', 'kcc[+1:+2]': 'រដ', 'kcc[0:+2]': 'ហរដ', 'ns+2': False, 'kcc[+3]': '្', 'kcc[+3]t': 'S', 'kcc[+2:+3]': 'ដ្', 'kcc[+1:+3]': 'រដ្', 'kcc[0:+3]': 'ហរដ្'}, {'kcc': 'រ', 't': 'C', 'ns': False, 'kcc[-1]': 'ហ', 'kcc[-1]t': 'C', 'kcc[-1:0]': 'ហរ', 'ns-1': False, 'kcc[-2]': 'ស', 'kcc[-2]t': 'C', 'kcc[-2:-1]': 'សហ', 'kcc[-2:0]': 'សហរ', 'kcc[-3]': 'ា', 'kcc[-3]t': 'W', 'kcc[-3:0]': 'ាសហរ', 'kcc[-3:-1]': 'ាសហ', 'kcc[-3:-2]': 'ាស', 'kcc[+1]': 'ដ', 'kcc[+1]t': 'C', 'kcc[+1:0]': 'រដ', 'ns+1': False, 'kcc[+2]': '្', 'kcc[+2]t': 'S', 'kcc[+1:+2]': 'ដ្', 'kcc[0:+2]': 'រដ្', 'ns+2': False, 'kcc[+3]': 'ឋ', 'kcc[+3]t': 'C', 'kcc[+2:+3]': '្ឋ', 'kcc[+1:+3]': 'ដ្ឋ', 'kcc[0:+3]': 'រដ្ឋ'}, {'kcc': 'ដ', 't': 'C', 'ns': False, 'kcc[-1]': 'រ', 'kcc[-1]t': 'C', 'kcc[-1:0]': 'រដ', 'ns-1': False, 'kcc[-2]': 'ហ', 'kcc[-2]t': 'C', 'kcc[-2:-1]': 'ហរ', 'kcc[-2:0]': 'ហរដ', 'kcc[-3]': 'ស', 'kcc[-3]t': 'C', 'kcc[-3:0]': 'សហរដ', 'kcc[-3:-1]': 'សហរ', 'kcc[-3:-2]': 'សហ', 'kcc[+1]': '្', 'kcc[+1]t': 'S', 'kcc[+1:0]': 'ដ្', 'ns+1': False, 'kcc[+2]': 'ឋ', 'kcc[+2]t': 'C', 'kcc[+1:+2]': '្ឋ', 'kcc[0:+2]': 'ដ្ឋ', 'ns+2': False, 'kcc[+3]': 'អ', 'kcc[+3]t': 'C', 'kcc[+2:+3]': 'ឋអ', 'kcc[+1:+3]': '្ឋអ', 'kcc[0:+3]': 'ដ្ឋអ'}, {'kcc': '្', 't': 'S', 'ns': False, 'kcc[-1]': 'ដ', 'kcc[-1]t': 'C', 'kcc[-1:0]': 'ដ្', 'ns-1': False, 'kcc[-2]': 'រ', 'kcc[-2]t': 'C', 'kcc[-2:-1]': 'រដ', 'kcc[-2:0]': 'រដ្', 'kcc[-3]': 'ហ', 'kcc[-3]t': 'C', 'kcc[-3:0]': 'ហរដ្', 'kcc[-3:-1]': 'ហរដ', 'kcc[-3:-2]': 'ហរ', 'kcc[+1]': 'ឋ', 'kcc[+1]t': 'C', 'kcc[+1:0]': '្ឋ', 'ns+1': False, 'kcc[+2]': 'អ', 'kcc[+2]t': 'C', 'kcc[+1:+2]': 'ឋអ', 'kcc[0:+2]': '្ឋអ', 'ns+2': False, 'kcc[+3]': 'ា', 'kcc[+3]t': 'W', 'kcc[+2:+3]': 'អា', 'kcc[+1:+3]': 'ឋអា', 'kcc[0:+3]': '្ឋអា'}, {'kcc': 'ឋ', 't': 'C', 'ns': False, 'kcc[-1]': '្', 'kcc[-1]t': 'S', 'kcc[-1:0]': '្ឋ', 'ns-1': False, 'kcc[-2]': 'ដ', 'kcc[-2]t': 'C', 'kcc[-2:-1]': 'ដ្', 'kcc[-2:0]': 'ដ្ឋ', 'kcc[-3]': 'រ', 'kcc[-3]t': 'C', 'kcc[-3:0]': 'រដ្ឋ', 'kcc[-3:-1]': 'រដ្', 'kcc[-3:-2]': 'រដ', 'kcc[+1]': 'អ', 'kcc[+1]t': 'C', 'kcc[+1:0]': 'ឋអ', 'ns+1': False, 'kcc[+2]': 'ា', 'kcc[+2]t': 'W', 'kcc[+1:+2]': 'អា', 'kcc[0:+2]': 'ឋអា', 'ns+2': False, 'kcc[+3]': 'ម', 'kcc[+3]t': 'C', 'kcc[+2:+3]': 'ាម', 'kcc[+1:+3]': 'អាម', 'kcc[0:+3]': 'ឋអាម'}, {'kcc': 'អ', 't': 'C', 'ns': False, 'kcc[-1]': 'ឋ', 'kcc[-1]t': 'C', 'kcc[-1:0]': 'ឋអ', 'ns-1': False, 'kcc[-2]': '្', 'kcc[-2]t': 'S', 'kcc[-2:-1]': '្ឋ', 'kcc[-2:0]': '្ឋអ', 'kcc[-3]': 'ដ', 'kcc[-3]t': 'C', 'kcc[-3:0]': 'ដ្ឋអ', 'kcc[-3:-1]': 'ដ្ឋ', 'kcc[-3:-2]': 'ដ្', 'kcc[+1]': 'ា', 'kcc[+1]t': 'W', 'kcc[+1:0]': 'អា', 'ns+1': False, 'kcc[+2]': 'ម', 'kcc[+2]t': 'C', 'kcc[+1:+2]': 'ាម', 'kcc[0:+2]': 'អាម', 'ns+2': False, 'kcc[+3]': 'េ', 'kcc[+3]t': 'W', 'kcc[+2:+3]': 'មេ', 'kcc[+1:+3]': 'ាមេ', 'kcc[0:+3]': 'អាមេ'}, {'kcc': 'ា', 't': 'W', 'ns': False, 'kcc[-1]': 'អ', 'kcc[-1]t': 'C', 'kcc[-1:0]': 'អា', 'ns-1': False, 'kcc[-2]': 'ឋ', 'kcc[-2]t': 'C', 'kcc[-2:-1]': 'ឋអ', 'kcc[-2:0]': 'ឋអា', 'kcc[-3]': '្', 'kcc[-3]t': 'S', 'kcc[-3:0]': '្ឋអា', 'kcc[-3:-1]': '្ឋអ', 'kcc[-3:-2]': '្ឋ', 'kcc[+1]': 'ម', 'kcc[+1]t': 'C', 'kcc[+1:0]': 'ាម', 'ns+1': False, 'kcc[+2]': 'េ', 'kcc[+2]t': 'W', 'kcc[+1:+2]': 'មេ', 'kcc[0:+2]': 'ាមេ', 'ns+2': False, 'kcc[+3]': 'រ', 'kcc[+3]t': 'C', 'kcc[+2:+3]': 'េរ', 'kcc[+1:+3]': 'មេរ', 'kcc[0:+3]': 'ាមេរ'}, {'kcc': 'ម', 't': 'C', 'ns': False, 'kcc[-1]': 'ា', 'kcc[-1]t': 'W', 'kcc[-1:0]': 'ាម', 'ns-1': False, 'kcc[-2]': 'អ', 'kcc[-2]t': 'C', 'kcc[-2:-1]': 'អា', 'kcc[-2:0]': 'អាម', 'kcc[-3]': 'ឋ', 'kcc[-3]t': 'C', 'kcc[-3:0]': 'ឋអាម', 'kcc[-3:-1]': 'ឋអា', 'kcc[-3:-2]': 'ឋអ', 'kcc[+1]': 'េ', 'kcc[+1]t': 'W', 'kcc[+1:0]': 'មេ', 'ns+1': False, 'kcc[+2]': 'រ', 'kcc[+2]t': 'C', 'kcc[+1:+2]': 'េរ', 'kcc[0:+2]': 'មេរ', 'ns+2': False, 'kcc[+3]': 'ិ', 'kcc[+3]t': 'W', 'kcc[+2:+3]': 'រិ', 'kcc[+1:+3]': 'េរិ', 'kcc[0:+3]': 'មេរិ'}, {'kcc': 'េ', 't': 'W', 'ns': False, 'kcc[-1]': 'ម', 'kcc[-1]t': 'C', 'kcc[-1:0]': 'មេ', 'ns-1': False, 'kcc[-2]': 'ា', 'kcc[-2]t': 'W', 'kcc[-2:-1]': 'ាម', 'kcc[-2:0]': 'ាមេ', 'kcc[-3]': 'អ', 'kcc[-3]t': 'C', 'kcc[-3:0]': 'អាមេ', 'kcc[-3:-1]': 'អាម', 'kcc[-3:-2]': 'អា', 'kcc[+1]': 'រ', 'kcc[+1]t': 'C', 'kcc[+1:0]': 'េរ', 'ns+1': False, 'kcc[+2]': 'ិ', 'kcc[+2]t': 'W', 'kcc[+1:+2]': 'រិ', 'kcc[0:+2]': 'េរិ', 'ns+2': False, 'kcc[+3]': 'ក', 'kcc[+3]t': 'C', 'kcc[+2:+3]': 'ិក', 'kcc[+1:+3]': 'រិក', 'kcc[0:+3]': 'េរិក'}, {'kcc': 'រ', 't': 'C', 'ns': False, 'kcc[-1]': 'េ', 'kcc[-1]t': 'W', 'kcc[-1:0]': 'េរ', 'ns-1': False, 'kcc[-2]': 'ម', 'kcc[-2]t': 'C', 'kcc[-2:-1]': 'មេ', 'kcc[-2:0]': 'មេរ', 'kcc[-3]': 'ា', 'kcc[-3]t': 'W', 'kcc[-3:0]': 'ាមេរ', 'kcc[-3:-1]': 'ាមេ', 'kcc[-3:-2]': 'ាម', 'kcc[+1]': 'ិ', 'kcc[+1]t': 'W', 'kcc[+1:0]': 'រិ', 'ns+1': False, 'kcc[+2]': 'ក', 'kcc[+2]t': 'C', 'kcc[+1:+2]': 'ិក', 'kcc[0:+2]': 'រិក', 'ns+2': False, 'kcc[+3]': 'ន', 'kcc[+3]t': 'C', 'kcc[+2:+3]': 'កន', 'kcc[+1:+3]': 'ិកន', 'kcc[0:+3]': 'រិកន'}, {'kcc': 'ិ', 't': 'W', 'ns': False, 'kcc[-1]': 'រ', 'kcc[-1]t': 'C', 'kcc[-1:0]': 'រិ', 'ns-1': False, 'kcc[-2]': 'េ', 'kcc[-2]t': 'W', 'kcc[-2:-1]': 'េរ', 'kcc[-2:0]': 'េរិ', 'kcc[-3]': 'ម', 'kcc[-3]t': 'C', 'kcc[-3:0]': 'មេរិ', 'kcc[-3:-1]': 'មេរ', 'kcc[-3:-2]': 'មេ', 'kcc[+1]': 'ក', 'kcc[+1]t': 'C', 'kcc[+1:0]': 'ិក', 'ns+1': False, 'kcc[+2]': 'ន', 'kcc[+2]t': 'C', 'kcc[+1:+2]': 'កន', 'kcc[0:+2]': 'ិកន', 'ns+2': False, 'kcc[+3]': 'ៅ', 'kcc[+3]t': 'W', 'kcc[+2:+3]': 'នៅ', 'kcc[+1:+3]': 'កនៅ', 'kcc[0:+3]': 'ិកនៅ'}, {'kcc': 'ក', 't': 'C', 'ns': False, 'kcc[-1]': 'ិ', 'kcc[-1]t': 'W', 'kcc[-1:0]': 'ិក', 'ns-1': False, 'kcc[-2]': 'រ', 'kcc[-2]t': 'C', 'kcc[-2:-1]': 'រិ', 'kcc[-2:0]': 'រិក', 'kcc[-3]': 'េ', 'kcc[-3]t': 'W', 'kcc[-3:0]': 'េរិក', 'kcc[-3:-1]': 'េរិ', 'kcc[-3:-2]': 'េរ', 'kcc[+1]': 'ន', 'kcc[+1]t': 'C', 'kcc[+1:0]': 'កន', 'ns+1': False, 'kcc[+2]': 'ៅ', 'kcc[+2]t': 'W', 'kcc[+1:+2]': 'នៅ', 'kcc[0:+2]': 'កនៅ', 'ns+2': False, 'kcc[+3]': 'ក', 'kcc[+3]t': 'C', 'kcc[+2:+3]': 'ៅក', 'kcc[+1:+3]': 'នៅក', 'kcc[0:+3]': 'កនៅក'}, {'kcc': 'ន', 't': 'C', 'ns': False, 'kcc[-1]': 'ក', 'kcc[-1]t': 'C', 'kcc[-1:0]': 'កន', 'ns-1': False, 'kcc[-2]': 'ិ', 'kcc[-2]t': 'W', 'kcc[-2:-1]': 'ិក', 'kcc[-2:0]': 'ិកន', 'kcc[-3]': 'រ', 'kcc[-3]t': 'C', 'kcc[-3:0]': 'រិកន', 'kcc[-3:-1]': 'រិក', 'kcc[-3:-2]': 'រិ', 'kcc[+1]': 'ៅ', 'kcc[+1]t': 'W', 'kcc[+1:0]': 'នៅ', 'ns+1': False, 'kcc[+2]': 'ក', 'kcc[+2]t': 'C', 'kcc[+1:+2]': 'ៅក', 'kcc[0:+2]': 'នៅក', 'ns+2': False, 'kcc[+3]': 'ា', 'kcc[+3]t': 'W', 'kcc[+2:+3]': 'កា', 'kcc[+1:+3]': 'ៅកា', 'kcc[0:+3]': 'នៅកា'}, {'kcc': 'ៅ', 't': 'W', 'ns': False, 'kcc[-1]': 'ន', 'kcc[-1]t': 'C', 'kcc[-1:0]': 'នៅ', 'ns-1': False, 'kcc[-2]': 'ក', 'kcc[-2]t': 'C', 'kcc[-2:-1]': 'កន', 'kcc[-2:0]': 'កនៅ', 'kcc[-3]': 'ិ', 'kcc[-3]t': 'W', 'kcc[-3:0]': 'ិកនៅ', 'kcc[-3:-1]': 'ិកន', 'kcc[-3:-2]': 'ិក', 'kcc[+1]': 'ក', 'kcc[+1]t': 'C', 'kcc[+1:0]': 'ៅក', 'ns+1': False, 'kcc[+2]': 'ា', 'kcc[+2]t': 'W', 'kcc[+1:+2]': 'កា', 'kcc[0:+2]': 'ៅកា', 'ns+2': False, 'kcc[+3]': 'ល', 'kcc[+3]t': 'C', 'kcc[+2:+3]': 'ាល', 'kcc[+1:+3]': 'កាល', 'kcc[0:+3]': 'ៅកាល'}, {'kcc': 'ក', 't': 'C', 'ns': False, 'kcc[-1]': 'ៅ', 'kcc[-1]t': 'W', 'kcc[-1:0]': 'ៅក', 'ns-1': False, 'kcc[-2]': 'ន', 'kcc[-2]t': 'C', 'kcc[-2:-1]': 'នៅ', 'kcc[-2:0]': 'នៅក', 'kcc[-3]': 'ក', 'kcc[-3]t': 'C', 'kcc[-3:0]': 'កនៅក', 'kcc[-3:-1]': 'កនៅ', 'kcc[-3:-2]': 'កន', 'kcc[+1]': 'ា', 'kcc[+1]t': 'W', 'kcc[+1:0]': 'កា', 'ns+1': False, 'kcc[+2]': 'ល', 'kcc[+2]t': 'C', 'kcc[+1:+2]': 'ាល', 'kcc[0:+2]': 'កាល', 'ns+2': False, 'kcc[+3]': 'ី', 'kcc[+3]t': 'W', 'kcc[+2:+3]': 'លី', 'kcc[+1:+3]': 'ាលី', 'kcc[0:+3]': 'កាលី'}, {'kcc': 'ា', 't': 'W', 'ns': False, 'kcc[-1]': 'ក', 'kcc[-1]t': 'C', 'kcc[-1:0]': 'កា', 'ns-1': False, 'kcc[-2]': 'ៅ', 'kcc[-2]t': 'W', 'kcc[-2:-1]': 'ៅក', 'kcc[-2:0]': 'ៅកា', 'kcc[-3]': 'ន', 'kcc[-3]t': 'C', 'kcc[-3:0]': 'នៅកា', 'kcc[-3:-1]': 'នៅក', 'kcc[-3:-2]': 'នៅ', 'kcc[+1]': 'ល', 'kcc[+1]t': 'C', 'kcc[+1:0]': 'ាល', 'ns+1': False, 'kcc[+2]': 'ី', 'kcc[+2]t': 'W', 'kcc[+1:+2]': 'លី', 'kcc[0:+2]': 'ាលី', 'ns+2': False, 'kcc[+3]': 'ហ', 'kcc[+3]t': 'C', 'kcc[+2:+3]': 'ីហ', 'kcc[+1:+3]': 'លីហ', 'kcc[0:+3]': 'ាលីហ'}, {'kcc': 'ល', 't': 'C', 'ns': False, 'kcc[-1]': 'ា', 'kcc[-1]t': 'W', 'kcc[-1:0]': 'ាល', 'ns-1': False, 'kcc[-2]': 'ក', 'kcc[-2]t': 'C', 'kcc[-2:-1]': 'កា', 'kcc[-2:0]': 'កាល', 'kcc[-3]': 'ៅ', 'kcc[-3]t': 'W', 'kcc[-3:0]': 'ៅកាល', 'kcc[-3:-1]': 'ៅកា', 'kcc[-3:-2]': 'ៅក', 'kcc[+1]': 'ី', 'kcc[+1]t': 'W', 'kcc[+1:0]': 'លី', 'ns+1': False, 'kcc[+2]': 'ហ', 'kcc[+2]t': 'C', 'kcc[+1:+2]': 'ីហ', 'kcc[0:+2]': 'លីហ', 'ns+2': False, 'kcc[+3]': '្', 'kcc[+3]t': 'S', 'kcc[+2:+3]': 'ហ្', 'kcc[+1:+3]': 'ីហ្', 'kcc[0:+3]': 'លីហ្'}, {'kcc': 'ី', 't': 'W', 'ns': False, 'kcc[-1]': 'ល', 'kcc[-1]t': 'C', 'kcc[-1:0]': 'លី', 'ns-1': False, 'kcc[-2]': 'ា', 'kcc[-2]t': 'W', 'kcc[-2:-1]': 'ាល', 'kcc[-2:0]': 'ាលី', 'kcc[-3]': 'ក', 'kcc[-3]t': 'C', 'kcc[-3:0]': 'កាលី', 'kcc[-3:-1]': 'កាល', 'kcc[-3:-2]': 'កា', 'kcc[+1]': 'ហ', 'kcc[+1]t': 'C', 'kcc[+1:0]': 'ីហ', 'ns+1': False, 'kcc[+2]': '្', 'kcc[+2]t': 'S', 'kcc[+1:+2]': 'ហ្', 'kcc[0:+2]': 'ីហ្', 'ns+2': False, 'kcc[+3]': 'វ', 'kcc[+3]t': 'C', 'kcc[+2:+3]': '្វ', 'kcc[+1:+3]': 'ហ្វ', 'kcc[0:+3]': 'ីហ្វ'}, {'kcc': 'ហ', 't': 'C', 'ns': False, 'kcc[-1]': 'ី', 'kcc[-1]t': 'W', 'kcc[-1:0]': 'ីហ', 'ns-1': False, 'kcc[-2]': 'ល', 'kcc[-2]t': 'C', 'kcc[-2:-1]': 'លី', 'kcc[-2:0]': 'លីហ', 'kcc[-3]': 'ា', 'kcc[-3]t': 'W', 'kcc[-3:0]': 'ាលីហ', 'kcc[-3:-1]': 'ាលី', 'kcc[-3:-2]': 'ាល', 'kcc[+1]': '្', 'kcc[+1]t': 'S', 'kcc[+1:0]': 'ហ្', 'ns+1': False, 'kcc[+2]': 'វ', 'kcc[+2]t': 'C', 'kcc[+1:+2]': '្វ', 'kcc[0:+2]': 'ហ្វ', 'ns+2': False, 'kcc[+3]': 'ញ', 'kcc[+3]t': 'C', 'kcc[+2:+3]': 'វញ', 'kcc[+1:+3]': '្វញ', 'kcc[0:+3]': 'ហ្វញ'}, {'kcc': '្', 't': 'S', 'ns': False, 'kcc[-1]': 'ហ', 'kcc[-1]t': 'C', 'kcc[-1:0]': 'ហ្', 'ns-1': False, 'kcc[-2]': 'ី', 'kcc[-2]t': 'W', 'kcc[-2:-1]': 'ីហ', 'kcc[-2:0]': 'ីហ្', 'kcc[-3]': 'ល', 'kcc[-3]t': 'C', 'kcc[-3:0]': 'លីហ្', 'kcc[-3:-1]': 'លីហ', 'kcc[-3:-2]': 'លី', 'kcc[+1]': 'វ', 'kcc[+1]t': 'C', 'kcc[+1:0]': '្វ', 'ns+1': False, 'kcc[+2]': 'ញ', 'kcc[+2]t': 'C', 'kcc[+1:+2]': 'វញ', 'kcc[0:+2]': '្វញ', 'ns+2': False, 'kcc[+3]': '៉', 'kcc[+3]t': 'D', 'kcc[+2:+3]': 'ញ៉', 'kcc[+1:+3]': 'វញ៉', 'kcc[0:+3]': '្វញ៉'}, {'kcc': 'វ', 't': 'C', 'ns': False, 'kcc[-1]': '្', 'kcc[-1]t': 'S', 'kcc[-1:0]': '្វ', 'ns-1': False, 'kcc[-2]': 'ហ', 'kcc[-2]t': 'C', 'kcc[-2:-1]': 'ហ្', 'kcc[-2:0]': 'ហ្វ', 'kcc[-3]': 'ី', 'kcc[-3]t': 'W', 'kcc[-3:0]': 'ីហ្វ', 'kcc[-3:-1]': 'ីហ្', 'kcc[-3:-2]': 'ីហ', 'kcc[+1]': 'ញ', 'kcc[+1]t': 'C', 'kcc[+1:0]': 'វញ', 'ns+1': False, 'kcc[+2]': '៉', 'kcc[+2]t': 'D', 'kcc[+1:+2]': 'ញ៉', 'kcc[0:+2]': 'វញ៉', 'ns+2': False, 'kcc[+3]': 'ា', 'kcc[+3]t': 'W', 'kcc[+2:+3]': '៉ា', 'kcc[+1:+3]': 'ញ៉ា', 'kcc[0:+3]': 'វញ៉ា'}, {'kcc': 'ញ', 't': 'C', 'ns': False, 'kcc[-1]': 'វ', 'kcc[-1]t': 'C', 'kcc[-1:0]': 'វញ', 'ns-1': False, 'kcc[-2]': '្', 'kcc[-2]t': 'S', 'kcc[-2:-1]': '្វ', 'kcc[-2:0]': '្វញ', 'kcc[-3]': 'ហ', 'kcc[-3]t': 'C', 'kcc[-3:0]': 'ហ្វញ', 'kcc[-3:-1]': 'ហ្វ', 'kcc[-3:-2]': 'ហ្', 'kcc[+1]': '៉', 'kcc[+1]t': 'D', 'kcc[+1:0]': 'ញ៉', 'ns+1': False, 'kcc[+2]': 'ា', 'kcc[+2]t': 'W', 'kcc[+1:+2]': '៉ា', 'kcc[0:+2]': 'ញ៉ា', 'ns+2': False, 'kcc[+3]': '។', 'kcc[+3]t': 'NS', 'kcc[+2:+3]': 'ា។', 'kcc[+1:+3]': '៉ា។', 'kcc[0:+3]': 'ញ៉ា។'}, {'kcc': '៉', 't': 'D', 'ns': False, 'kcc[-1]': 'ញ', 'kcc[-1]t': 'C', 'kcc[-1:0]': 'ញ៉', 'ns-1': False, 'kcc[-2]': 'វ', 'kcc[-2]t': 'C', 'kcc[-2:-1]': 'វញ', 'kcc[-2:0]': 'វញ៉', 'kcc[-3]': '្', 'kcc[-3]t': 'S', 'kcc[-3:0]': '្វញ៉', 'kcc[-3:-1]': '្វញ', 'kcc[-3:-2]': '្វ', 'kcc[+1]': 'ា', 'kcc[+1]t': 'W', 'kcc[+1:0]': '៉ា', 'ns+1': False, 'kcc[+2]': '។', 'kcc[+2]t': 'NS', 'kcc[+1:+2]': 'ា។', 'kcc[0:+2]': '៉ា។', 'ns+2': True}, {'kcc': 'ា', 't': 'W', 'ns': False, 'kcc[-1]': '៉', 'kcc[-1]t': 'D', 'kcc[-1:0]': '៉ា', 'ns-1': False, 'kcc[-2]': 'ញ', 'kcc[-2]t': 'C', 'kcc[-2:-1]': 'ញ៉', 'kcc[-2:0]': 'ញ៉ា', 'kcc[-3]': 'វ', 'kcc[-3]t': 'C', 'kcc[-3:0]': 'វញ៉ា', 'kcc[-3:-1]': 'វញ៉', 'kcc[-3:-2]': 'វញ', 'kcc[+1]': '។', 'kcc[+1]t': 'NS', 'kcc[+1:0]': 'ា។', 'ns+1': True}, {'kcc': '។', 't': 'NS', 'ns': True, 'kcc[-1]': 'ា', 'kcc[-1]t': 'W', 'kcc[-1:0]': 'ា។', 'ns-1': False, 'kcc[-2]': '៉', 'kcc[-2]t': 'D', 'kcc[-2:-1]': '៉ា', 'kcc[-2:0]': '៉ា។', 'kcc[-3]': 'ញ', 'kcc[-3]t': 'C', 'kcc[-3:0]': 'ញ៉ា។', 'kcc[-3:-1]': 'ញ៉ា', 'kcc[-3:-2]': 'ញ៉', 'EOS': True}]\n",
            "len y_train_char: 800  data: ['1', '0', '0', '0', '1', '0', '0', '1', '0', '1', '0', '0', '0', '0', '1', '0', '1', '0', '0', '0', '0', '0', '0', '1', '0', '0', '0', '0', '0', '0', '0', '0', '0', '1', '0', '1', '0', '0', '0', '0', '1', '0', '0', '0', '1', '0', '0', '1', '0', '0', '1', '0', '1', '0', '1', '0', '0', '0', '1', '0', '0', '0', '1', '0', '0', '0', '1', '0', '1', '0', '0', '0', '0', '1', '0', '0', '0', '1', '0', '0', '1', '0', '0', '0', '0', '1', '0', '1', '0', '0', '0', '0', '1', '0', '0', '0', '0', '0', '0', '1', '0', '0', '0', '0', '0', '0', '1', '0', '0', '1', '0', '1', '0', '0', '0', '1', '0', '0', '0', '0', '0', '0', '1', '0', '1', '0', '0', '0', '0', '0', '0', '0', '0', '0', '1']\n",
            "len X_test_char: 200  data: [{'kcc': 'ក', 't': 'C', 'ns': False, 'BOS': True, 'kcc[+1]': 'ា', 'kcc[+1]t': 'W', 'kcc[+1:0]': 'កា', 'ns+1': False, 'kcc[+2]': 'រ', 'kcc[+2]t': 'C', 'kcc[+1:+2]': 'ារ', 'kcc[0:+2]': 'ការ', 'ns+2': False, 'kcc[+3]': 'ឈ', 'kcc[+3]t': 'C', 'kcc[+2:+3]': 'រឈ', 'kcc[+1:+3]': 'ារឈ', 'kcc[0:+3]': 'ការឈ'}, {'kcc': 'ា', 't': 'W', 'ns': False, 'kcc[-1]': 'ក', 'kcc[-1]t': 'C', 'kcc[-1:0]': 'កា', 'ns-1': False, 'kcc[+1]': 'រ', 'kcc[+1]t': 'C', 'kcc[+1:0]': 'ារ', 'ns+1': False, 'kcc[+2]': 'ឈ', 'kcc[+2]t': 'C', 'kcc[+1:+2]': 'រឈ', 'kcc[0:+2]': 'ារឈ', 'ns+2': False, 'kcc[+3]': '្', 'kcc[+3]t': 'S', 'kcc[+2:+3]': 'ឈ្', 'kcc[+1:+3]': 'រឈ្', 'kcc[0:+3]': 'ារឈ្'}, {'kcc': 'រ', 't': 'C', 'ns': False, 'kcc[-1]': 'ា', 'kcc[-1]t': 'W', 'kcc[-1:0]': 'ារ', 'ns-1': False, 'kcc[-2]': 'ក', 'kcc[-2]t': 'C', 'kcc[-2:-1]': 'កា', 'kcc[-2:0]': 'ការ', 'kcc[+1]': 'ឈ', 'kcc[+1]t': 'C', 'kcc[+1:0]': 'រឈ', 'ns+1': False, 'kcc[+2]': '្', 'kcc[+2]t': 'S', 'kcc[+1:+2]': 'ឈ្', 'kcc[0:+2]': 'រឈ្', 'ns+2': False, 'kcc[+3]': 'ន', 'kcc[+3]t': 'C', 'kcc[+2:+3]': '្ន', 'kcc[+1:+3]': 'ឈ្ន', 'kcc[0:+3]': 'រឈ្ន'}, {'kcc': 'ឈ', 't': 'C', 'ns': False, 'kcc[-1]': 'រ', 'kcc[-1]t': 'C', 'kcc[-1:0]': 'រឈ', 'ns-1': False, 'kcc[-2]': 'ា', 'kcc[-2]t': 'W', 'kcc[-2:-1]': 'ារ', 'kcc[-2:0]': 'ារឈ', 'kcc[-3]': 'ក', 'kcc[-3]t': 'C', 'kcc[-3:0]': 'ការឈ', 'kcc[-3:-1]': 'ការ', 'kcc[-3:-2]': 'កា', 'kcc[+1]': '្', 'kcc[+1]t': 'S', 'kcc[+1:0]': 'ឈ្', 'ns+1': False, 'kcc[+2]': 'ន', 'kcc[+2]t': 'C', 'kcc[+1:+2]': '្ន', 'kcc[0:+2]': 'ឈ្ន', 'ns+2': False, 'kcc[+3]': 'ះ', 'kcc[+3]t': 'W', 'kcc[+2:+3]': 'នះ', 'kcc[+1:+3]': '្នះ', 'kcc[0:+3]': 'ឈ្នះ'}, {'kcc': '្', 't': 'S', 'ns': False, 'kcc[-1]': 'ឈ', 'kcc[-1]t': 'C', 'kcc[-1:0]': 'ឈ្', 'ns-1': False, 'kcc[-2]': 'រ', 'kcc[-2]t': 'C', 'kcc[-2:-1]': 'រឈ', 'kcc[-2:0]': 'រឈ្', 'kcc[-3]': 'ា', 'kcc[-3]t': 'W', 'kcc[-3:0]': 'ារឈ្', 'kcc[-3:-1]': 'ារឈ', 'kcc[-3:-2]': 'ារ', 'kcc[+1]': 'ន', 'kcc[+1]t': 'C', 'kcc[+1:0]': '្ន', 'ns+1': False, 'kcc[+2]': 'ះ', 'kcc[+2]t': 'W', 'kcc[+1:+2]': 'នះ', 'kcc[0:+2]': '្នះ', 'ns+2': False, 'kcc[+3]': 'ធ', 'kcc[+3]t': 'C', 'kcc[+2:+3]': 'ះធ', 'kcc[+1:+3]': 'នះធ', 'kcc[0:+3]': '្នះធ'}, {'kcc': 'ន', 't': 'C', 'ns': False, 'kcc[-1]': '្', 'kcc[-1]t': 'S', 'kcc[-1:0]': '្ន', 'ns-1': False, 'kcc[-2]': 'ឈ', 'kcc[-2]t': 'C', 'kcc[-2:-1]': 'ឈ្', 'kcc[-2:0]': 'ឈ្ន', 'kcc[-3]': 'រ', 'kcc[-3]t': 'C', 'kcc[-3:0]': 'រឈ្ន', 'kcc[-3:-1]': 'រឈ្', 'kcc[-3:-2]': 'រឈ', 'kcc[+1]': 'ះ', 'kcc[+1]t': 'W', 'kcc[+1:0]': 'នះ', 'ns+1': False, 'kcc[+2]': 'ធ', 'kcc[+2]t': 'C', 'kcc[+1:+2]': 'ះធ', 'kcc[0:+2]': 'នះធ', 'ns+2': False, 'kcc[+3]': '្', 'kcc[+3]t': 'S', 'kcc[+2:+3]': 'ធ្', 'kcc[+1:+3]': 'ះធ្', 'kcc[0:+3]': 'នះធ្'}, {'kcc': 'ះ', 't': 'W', 'ns': False, 'kcc[-1]': 'ន', 'kcc[-1]t': 'C', 'kcc[-1:0]': 'នះ', 'ns-1': False, 'kcc[-2]': '្', 'kcc[-2]t': 'S', 'kcc[-2:-1]': '្ន', 'kcc[-2:0]': '្នះ', 'kcc[-3]': 'ឈ', 'kcc[-3]t': 'C', 'kcc[-3:0]': 'ឈ្នះ', 'kcc[-3:-1]': 'ឈ្ន', 'kcc[-3:-2]': 'ឈ្', 'kcc[+1]': 'ធ', 'kcc[+1]t': 'C', 'kcc[+1:0]': 'ះធ', 'ns+1': False, 'kcc[+2]': '្', 'kcc[+2]t': 'S', 'kcc[+1:+2]': 'ធ្', 'kcc[0:+2]': 'ះធ្', 'ns+2': False, 'kcc[+3]': 'វ', 'kcc[+3]t': 'C', 'kcc[+2:+3]': '្វ', 'kcc[+1:+3]': 'ធ្វ', 'kcc[0:+3]': 'ះធ្វ'}, {'kcc': 'ធ', 't': 'C', 'ns': False, 'kcc[-1]': 'ះ', 'kcc[-1]t': 'W', 'kcc[-1:0]': 'ះធ', 'ns-1': False, 'kcc[-2]': 'ន', 'kcc[-2]t': 'C', 'kcc[-2:-1]': 'នះ', 'kcc[-2:0]': 'នះធ', 'kcc[-3]': '្', 'kcc[-3]t': 'S', 'kcc[-3:0]': '្នះធ', 'kcc[-3:-1]': '្នះ', 'kcc[-3:-2]': '្ន', 'kcc[+1]': '្', 'kcc[+1]t': 'S', 'kcc[+1:0]': 'ធ្', 'ns+1': False, 'kcc[+2]': 'វ', 'kcc[+2]t': 'C', 'kcc[+1:+2]': '្វ', 'kcc[0:+2]': 'ធ្វ', 'ns+2': False, 'kcc[+3]': 'ើ', 'kcc[+3]t': 'W', 'kcc[+2:+3]': 'វើ', 'kcc[+1:+3]': '្វើ', 'kcc[0:+3]': 'ធ្វើ'}, {'kcc': '្', 't': 'S', 'ns': False, 'kcc[-1]': 'ធ', 'kcc[-1]t': 'C', 'kcc[-1:0]': 'ធ្', 'ns-1': False, 'kcc[-2]': 'ះ', 'kcc[-2]t': 'W', 'kcc[-2:-1]': 'ះធ', 'kcc[-2:0]': 'ះធ្', 'kcc[-3]': 'ន', 'kcc[-3]t': 'C', 'kcc[-3:0]': 'នះធ្', 'kcc[-3:-1]': 'នះធ', 'kcc[-3:-2]': 'នះ', 'kcc[+1]': 'វ', 'kcc[+1]t': 'C', 'kcc[+1:0]': '្វ', 'ns+1': False, 'kcc[+2]': 'ើ', 'kcc[+2]t': 'W', 'kcc[+1:+2]': 'វើ', 'kcc[0:+2]': '្វើ', 'ns+2': False, 'kcc[+3]': 'ឲ', 'kcc[+3]t': 'C', 'kcc[+2:+3]': 'ើឲ', 'kcc[+1:+3]': 'វើឲ', 'kcc[0:+3]': '្វើឲ'}, {'kcc': 'វ', 't': 'C', 'ns': False, 'kcc[-1]': '្', 'kcc[-1]t': 'S', 'kcc[-1:0]': '្វ', 'ns-1': False, 'kcc[-2]': 'ធ', 'kcc[-2]t': 'C', 'kcc[-2:-1]': 'ធ្', 'kcc[-2:0]': 'ធ្វ', 'kcc[-3]': 'ះ', 'kcc[-3]t': 'W', 'kcc[-3:0]': 'ះធ្វ', 'kcc[-3:-1]': 'ះធ្', 'kcc[-3:-2]': 'ះធ', 'kcc[+1]': 'ើ', 'kcc[+1]t': 'W', 'kcc[+1:0]': 'វើ', 'ns+1': False, 'kcc[+2]': 'ឲ', 'kcc[+2]t': 'C', 'kcc[+1:+2]': 'ើឲ', 'kcc[0:+2]': 'វើឲ', 'ns+2': False, 'kcc[+3]': '្', 'kcc[+3]t': 'S', 'kcc[+2:+3]': 'ឲ្', 'kcc[+1:+3]': 'ើឲ្', 'kcc[0:+3]': 'វើឲ្'}, {'kcc': 'ើ', 't': 'W', 'ns': False, 'kcc[-1]': 'វ', 'kcc[-1]t': 'C', 'kcc[-1:0]': 'វើ', 'ns-1': False, 'kcc[-2]': '្', 'kcc[-2]t': 'S', 'kcc[-2:-1]': '្វ', 'kcc[-2:0]': '្វើ', 'kcc[-3]': 'ធ', 'kcc[-3]t': 'C', 'kcc[-3:0]': 'ធ្វើ', 'kcc[-3:-1]': 'ធ្វ', 'kcc[-3:-2]': 'ធ្', 'kcc[+1]': 'ឲ', 'kcc[+1]t': 'C', 'kcc[+1:0]': 'ើឲ', 'ns+1': False, 'kcc[+2]': '្', 'kcc[+2]t': 'S', 'kcc[+1:+2]': 'ឲ្', 'kcc[0:+2]': 'ើឲ្', 'ns+2': False, 'kcc[+3]': 'យ', 'kcc[+3]t': 'C', 'kcc[+2:+3]': '្យ', 'kcc[+1:+3]': 'ឲ្យ', 'kcc[0:+3]': 'ើឲ្យ'}, {'kcc': 'ឲ', 't': 'C', 'ns': False, 'kcc[-1]': 'ើ', 'kcc[-1]t': 'W', 'kcc[-1:0]': 'ើឲ', 'ns-1': False, 'kcc[-2]': 'វ', 'kcc[-2]t': 'C', 'kcc[-2:-1]': 'វើ', 'kcc[-2:0]': 'វើឲ', 'kcc[-3]': '្', 'kcc[-3]t': 'S', 'kcc[-3:0]': '្វើឲ', 'kcc[-3:-1]': '្វើ', 'kcc[-3:-2]': '្វ', 'kcc[+1]': '្', 'kcc[+1]t': 'S', 'kcc[+1:0]': 'ឲ្', 'ns+1': False, 'kcc[+2]': 'យ', 'kcc[+2]t': 'C', 'kcc[+1:+2]': '្យ', 'kcc[0:+2]': 'ឲ្យ', 'ns+2': False, 'kcc[+3]': 'ច', 'kcc[+3]t': 'C', 'kcc[+2:+3]': 'យច', 'kcc[+1:+3]': '្យច', 'kcc[0:+3]': 'ឲ្យច'}, {'kcc': '្', 't': 'S', 'ns': False, 'kcc[-1]': 'ឲ', 'kcc[-1]t': 'C', 'kcc[-1:0]': 'ឲ្', 'ns-1': False, 'kcc[-2]': 'ើ', 'kcc[-2]t': 'W', 'kcc[-2:-1]': 'ើឲ', 'kcc[-2:0]': 'ើឲ្', 'kcc[-3]': 'វ', 'kcc[-3]t': 'C', 'kcc[-3:0]': 'វើឲ្', 'kcc[-3:-1]': 'វើឲ', 'kcc[-3:-2]': 'វើ', 'kcc[+1]': 'យ', 'kcc[+1]t': 'C', 'kcc[+1:0]': '្យ', 'ns+1': False, 'kcc[+2]': 'ច', 'kcc[+2]t': 'C', 'kcc[+1:+2]': 'យច', 'kcc[0:+2]': '្យច', 'ns+2': False, 'kcc[+3]': 'ន', 'kcc[+3]t': 'C', 'kcc[+2:+3]': 'ចន', 'kcc[+1:+3]': 'យចន', 'kcc[0:+3]': '្យចន'}, {'kcc': 'យ', 't': 'C', 'ns': False, 'kcc[-1]': '្', 'kcc[-1]t': 'S', 'kcc[-1:0]': '្យ', 'ns-1': False, 'kcc[-2]': 'ឲ', 'kcc[-2]t': 'C', 'kcc[-2:-1]': 'ឲ្', 'kcc[-2:0]': 'ឲ្យ', 'kcc[-3]': 'ើ', 'kcc[-3]t': 'W', 'kcc[-3:0]': 'ើឲ្យ', 'kcc[-3:-1]': 'ើឲ្', 'kcc[-3:-2]': 'ើឲ', 'kcc[+1]': 'ច', 'kcc[+1]t': 'C', 'kcc[+1:0]': 'យច', 'ns+1': False, 'kcc[+2]': 'ន', 'kcc[+2]t': 'C', 'kcc[+1:+2]': 'ចន', 'kcc[0:+2]': 'យចន', 'ns+2': False, 'kcc[+3]': 'ស', 'kcc[+3]t': 'C', 'kcc[+2:+3]': 'នស', 'kcc[+1:+3]': 'ចនស', 'kcc[0:+3]': 'យចនស'}, {'kcc': 'ច', 't': 'C', 'ns': False, 'kcc[-1]': 'យ', 'kcc[-1]t': 'C', 'kcc[-1:0]': 'យច', 'ns-1': False, 'kcc[-2]': '្', 'kcc[-2]t': 'S', 'kcc[-2:-1]': '្យ', 'kcc[-2:0]': '្យច', 'kcc[-3]': 'ឲ', 'kcc[-3]t': 'C', 'kcc[-3:0]': 'ឲ្យច', 'kcc[-3:-1]': 'ឲ្យ', 'kcc[-3:-2]': 'ឲ្', 'kcc[+1]': 'ន', 'kcc[+1]t': 'C', 'kcc[+1:0]': 'ចន', 'ns+1': False, 'kcc[+2]': 'ស', 'kcc[+2]t': 'C', 'kcc[+1:+2]': 'នស', 'kcc[0:+2]': 'ចនស', 'ns+2': False, 'kcc[+3]': 'ុ', 'kcc[+3]t': 'W', 'kcc[+2:+3]': 'សុ', 'kcc[+1:+3]': 'នសុ', 'kcc[0:+3]': 'ចនសុ'}, {'kcc': 'ន', 't': 'C', 'ns': False, 'kcc[-1]': 'ច', 'kcc[-1]t': 'C', 'kcc[-1:0]': 'ចន', 'ns-1': False, 'kcc[-2]': 'យ', 'kcc[-2]t': 'C', 'kcc[-2:-1]': 'យច', 'kcc[-2:0]': 'យចន', 'kcc[-3]': '្', 'kcc[-3]t': 'S', 'kcc[-3:0]': '្យចន', 'kcc[-3:-1]': '្យច', 'kcc[-3:-2]': '្យ', 'kcc[+1]': 'ស', 'kcc[+1]t': 'C', 'kcc[+1:0]': 'នស', 'ns+1': False, 'kcc[+2]': 'ុ', 'kcc[+2]t': 'W', 'kcc[+1:+2]': 'សុ', 'kcc[0:+2]': 'នសុ', 'ns+2': False, 'kcc[+3]': 'ន', 'kcc[+3]t': 'C', 'kcc[+2:+3]': 'ុន', 'kcc[+1:+3]': 'សុន', 'kcc[0:+3]': 'នសុន'}, {'kcc': 'ស', 't': 'C', 'ns': False, 'kcc[-1]': 'ន', 'kcc[-1]t': 'C', 'kcc[-1:0]': 'នស', 'ns-1': False, 'kcc[-2]': 'ច', 'kcc[-2]t': 'C', 'kcc[-2:-1]': 'ចន', 'kcc[-2:0]': 'ចនស', 'kcc[-3]': 'យ', 'kcc[-3]t': 'C', 'kcc[-3:0]': 'យចនស', 'kcc[-3:-1]': 'យចន', 'kcc[-3:-2]': 'យច', 'kcc[+1]': 'ុ', 'kcc[+1]t': 'W', 'kcc[+1:0]': 'សុ', 'ns+1': False, 'kcc[+2]': 'ន', 'kcc[+2]t': 'C', 'kcc[+1:+2]': 'ុន', 'kcc[0:+2]': 'សុន', 'ns+2': False, 'kcc[+3]': 'ទ', 'kcc[+3]t': 'C', 'kcc[+2:+3]': 'នទ', 'kcc[+1:+3]': 'ុនទ', 'kcc[0:+3]': 'សុនទ'}, {'kcc': 'ុ', 't': 'W', 'ns': False, 'kcc[-1]': 'ស', 'kcc[-1]t': 'C', 'kcc[-1:0]': 'សុ', 'ns-1': False, 'kcc[-2]': 'ន', 'kcc[-2]t': 'C', 'kcc[-2:-1]': 'នស', 'kcc[-2:0]': 'នសុ', 'kcc[-3]': 'ច', 'kcc[-3]t': 'C', 'kcc[-3:0]': 'ចនសុ', 'kcc[-3:-1]': 'ចនស', 'kcc[-3:-2]': 'ចន', 'kcc[+1]': 'ន', 'kcc[+1]t': 'C', 'kcc[+1:0]': 'ុន', 'ns+1': False, 'kcc[+2]': 'ទ', 'kcc[+2]t': 'C', 'kcc[+1:+2]': 'នទ', 'kcc[0:+2]': 'ុនទ', 'ns+2': False, 'kcc[+3]': 'ទ', 'kcc[+3]t': 'C', 'kcc[+2:+3]': 'ទទ', 'kcc[+1:+3]': 'នទទ', 'kcc[0:+3]': 'ុនទទ'}, {'kcc': 'ន', 't': 'C', 'ns': False, 'kcc[-1]': 'ុ', 'kcc[-1]t': 'W', 'kcc[-1:0]': 'ុន', 'ns-1': False, 'kcc[-2]': 'ស', 'kcc[-2]t': 'C', 'kcc[-2:-1]': 'សុ', 'kcc[-2:0]': 'សុន', 'kcc[-3]': 'ន', 'kcc[-3]t': 'C', 'kcc[-3:0]': 'នសុន', 'kcc[-3:-1]': 'នសុ', 'kcc[-3:-2]': 'នស', 'kcc[+1]': 'ទ', 'kcc[+1]t': 'C', 'kcc[+1:0]': 'នទ', 'ns+1': False, 'kcc[+2]': 'ទ', 'kcc[+2]t': 'C', 'kcc[+1:+2]': 'ទទ', 'kcc[0:+2]': 'នទទ', 'ns+2': False, 'kcc[+3]': 'ួ', 'kcc[+3]t': 'W', 'kcc[+2:+3]': 'ទួ', 'kcc[+1:+3]': 'ទទួ', 'kcc[0:+3]': 'នទទួ'}, {'kcc': 'ទ', 't': 'C', 'ns': False, 'kcc[-1]': 'ន', 'kcc[-1]t': 'C', 'kcc[-1:0]': 'នទ', 'ns-1': False, 'kcc[-2]': 'ុ', 'kcc[-2]t': 'W', 'kcc[-2:-1]': 'ុន', 'kcc[-2:0]': 'ុនទ', 'kcc[-3]': 'ស', 'kcc[-3]t': 'C', 'kcc[-3:0]': 'សុនទ', 'kcc[-3:-1]': 'សុន', 'kcc[-3:-2]': 'សុ', 'kcc[+1]': 'ទ', 'kcc[+1]t': 'C', 'kcc[+1:0]': 'ទទ', 'ns+1': False, 'kcc[+2]': 'ួ', 'kcc[+2]t': 'W', 'kcc[+1:+2]': 'ទួ', 'kcc[0:+2]': 'ទទួ', 'ns+2': False, 'kcc[+3]': 'ល', 'kcc[+3]t': 'C', 'kcc[+2:+3]': 'ួល', 'kcc[+1:+3]': 'ទួល', 'kcc[0:+3]': 'ទទួល'}, {'kcc': 'ទ', 't': 'C', 'ns': False, 'kcc[-1]': 'ទ', 'kcc[-1]t': 'C', 'kcc[-1:0]': 'ទទ', 'ns-1': False, 'kcc[-2]': 'ន', 'kcc[-2]t': 'C', 'kcc[-2:-1]': 'នទ', 'kcc[-2:0]': 'នទទ', 'kcc[-3]': 'ុ', 'kcc[-3]t': 'W', 'kcc[-3:0]': 'ុនទទ', 'kcc[-3:-1]': 'ុនទ', 'kcc[-3:-2]': 'ុន', 'kcc[+1]': 'ួ', 'kcc[+1]t': 'W', 'kcc[+1:0]': 'ទួ', 'ns+1': False, 'kcc[+2]': 'ល', 'kcc[+2]t': 'C', 'kcc[+1:+2]': 'ួល', 'kcc[0:+2]': 'ទួល', 'ns+2': False, 'kcc[+3]': 'ប', 'kcc[+3]t': 'C', 'kcc[+2:+3]': 'លប', 'kcc[+1:+3]': 'ួលប', 'kcc[0:+3]': 'ទួលប'}, {'kcc': 'ួ', 't': 'W', 'ns': False, 'kcc[-1]': 'ទ', 'kcc[-1]t': 'C', 'kcc[-1:0]': 'ទួ', 'ns-1': False, 'kcc[-2]': 'ទ', 'kcc[-2]t': 'C', 'kcc[-2:-1]': 'ទទ', 'kcc[-2:0]': 'ទទួ', 'kcc[-3]': 'ន', 'kcc[-3]t': 'C', 'kcc[-3:0]': 'នទទួ', 'kcc[-3:-1]': 'នទទ', 'kcc[-3:-2]': 'នទ', 'kcc[+1]': 'ល', 'kcc[+1]t': 'C', 'kcc[+1:0]': 'ួល', 'ns+1': False, 'kcc[+2]': 'ប', 'kcc[+2]t': 'C', 'kcc[+1:+2]': 'លប', 'kcc[0:+2]': 'ួលប', 'ns+2': False, 'kcc[+3]': 'ា', 'kcc[+3]t': 'W', 'kcc[+2:+3]': 'បា', 'kcc[+1:+3]': 'លបា', 'kcc[0:+3]': 'ួលបា'}, {'kcc': 'ល', 't': 'C', 'ns': False, 'kcc[-1]': 'ួ', 'kcc[-1]t': 'W', 'kcc[-1:0]': 'ួល', 'ns-1': False, 'kcc[-2]': 'ទ', 'kcc[-2]t': 'C', 'kcc[-2:-1]': 'ទួ', 'kcc[-2:0]': 'ទួល', 'kcc[-3]': 'ទ', 'kcc[-3]t': 'C', 'kcc[-3:0]': 'ទទួល', 'kcc[-3:-1]': 'ទទួ', 'kcc[-3:-2]': 'ទទ', 'kcc[+1]': 'ប', 'kcc[+1]t': 'C', 'kcc[+1:0]': 'លប', 'ns+1': False, 'kcc[+2]': 'ា', 'kcc[+2]t': 'W', 'kcc[+1:+2]': 'បា', 'kcc[0:+2]': 'លបា', 'ns+2': False, 'kcc[+3]': 'ន', 'kcc[+3]t': 'C', 'kcc[+2:+3]': 'ាន', 'kcc[+1:+3]': 'បាន', 'kcc[0:+3]': 'លបាន'}, {'kcc': 'ប', 't': 'C', 'ns': False, 'kcc[-1]': 'ល', 'kcc[-1]t': 'C', 'kcc[-1:0]': 'លប', 'ns-1': False, 'kcc[-2]': 'ួ', 'kcc[-2]t': 'W', 'kcc[-2:-1]': 'ួល', 'kcc[-2:0]': 'ួលប', 'kcc[-3]': 'ទ', 'kcc[-3]t': 'C', 'kcc[-3:0]': 'ទួលប', 'kcc[-3:-1]': 'ទួល', 'kcc[-3:-2]': 'ទួ', 'kcc[+1]': 'ា', 'kcc[+1]t': 'W', 'kcc[+1:0]': 'បា', 'ns+1': False, 'kcc[+2]': 'ន', 'kcc[+2]t': 'C', 'kcc[+1:+2]': 'ាន', 'kcc[0:+2]': 'បាន', 'ns+2': False, 'kcc[+3]': '1', 'kcc[+3]t': 'NS', 'kcc[+2:+3]': 'ន1', 'kcc[+1:+3]': 'ាន1', 'kcc[0:+3]': 'បាន1'}, {'kcc': 'ា', 't': 'W', 'ns': False, 'kcc[-1]': 'ប', 'kcc[-1]t': 'C', 'kcc[-1:0]': 'បា', 'ns-1': False, 'kcc[-2]': 'ល', 'kcc[-2]t': 'C', 'kcc[-2:-1]': 'លប', 'kcc[-2:0]': 'លបា', 'kcc[-3]': 'ួ', 'kcc[-3]t': 'W', 'kcc[-3:0]': 'ួលបា', 'kcc[-3:-1]': 'ួលប', 'kcc[-3:-2]': 'ួល', 'kcc[+1]': 'ន', 'kcc[+1]t': 'C', 'kcc[+1:0]': 'ាន', 'ns+1': False, 'kcc[+2]': '1', 'kcc[+2]t': 'NS', 'kcc[+1:+2]': 'ន1', 'kcc[0:+2]': 'ាន1', 'ns+2': True, 'kcc[+3]': '9', 'kcc[+3]t': 'NS', 'kcc[+2:+3]': '19', 'kcc[+1:+3]': 'ន19', 'kcc[0:+3]': 'ាន19'}, {'kcc': 'ន', 't': 'C', 'ns': False, 'kcc[-1]': 'ា', 'kcc[-1]t': 'W', 'kcc[-1:0]': 'ាន', 'ns-1': False, 'kcc[-2]': 'ប', 'kcc[-2]t': 'C', 'kcc[-2:-1]': 'បា', 'kcc[-2:0]': 'បាន', 'kcc[-3]': 'ល', 'kcc[-3]t': 'C', 'kcc[-3:0]': 'លបាន', 'kcc[-3:-1]': 'លបា', 'kcc[-3:-2]': 'លប', 'kcc[+1]': '1', 'kcc[+1]t': 'NS', 'kcc[+1:0]': 'ន1', 'ns+1': True, 'kcc[+2]': '9', 'kcc[+2]t': 'NS', 'kcc[+1:+2]': '19', 'kcc[0:+2]': 'ន19', 'ns+2': True, 'kcc[+3]': '0', 'kcc[+3]t': 'NS', 'kcc[+2:+3]': '90', 'kcc[+1:+3]': '190', 'kcc[0:+3]': 'ន190'}, {'kcc': '1', 't': 'NS', 'ns': True, 'kcc[-1]': 'ន', 'kcc[-1]t': 'C', 'kcc[-1:0]': 'ន1', 'ns-1': False, 'kcc[-2]': 'ា', 'kcc[-2]t': 'W', 'kcc[-2:-1]': 'ាន', 'kcc[-2:0]': 'ាន1', 'kcc[-3]': 'ប', 'kcc[-3]t': 'C', 'kcc[-3:0]': 'បាន1', 'kcc[-3:-1]': 'បាន', 'kcc[-3:-2]': 'បា', 'kcc[+1]': '9', 'kcc[+1]t': 'NS', 'kcc[+1:0]': '19', 'ns+1': True, 'kcc[+2]': '0', 'kcc[+2]t': 'NS', 'kcc[+1:+2]': '90', 'kcc[0:+2]': '190', 'ns+2': True, 'kcc[+3]': 'ព', 'kcc[+3]t': 'C', 'kcc[+2:+3]': '0ព', 'kcc[+1:+3]': '90ព', 'kcc[0:+3]': '190ព'}, {'kcc': '9', 't': 'NS', 'ns': True, 'kcc[-1]': '1', 'kcc[-1]t': 'NS', 'kcc[-1:0]': '19', 'ns-1': True, 'kcc[-2]': 'ន', 'kcc[-2]t': 'C', 'kcc[-2:-1]': 'ន1', 'kcc[-2:0]': 'ន19', 'kcc[-3]': 'ា', 'kcc[-3]t': 'W', 'kcc[-3:0]': 'ាន19', 'kcc[-3:-1]': 'ាន1', 'kcc[-3:-2]': 'ាន', 'kcc[+1]': '0', 'kcc[+1]t': 'NS', 'kcc[+1:0]': '90', 'ns+1': True, 'kcc[+2]': 'ព', 'kcc[+2]t': 'C', 'kcc[+1:+2]': '0ព', 'kcc[0:+2]': '90ព', 'ns+2': False, 'kcc[+3]': 'ិ', 'kcc[+3]t': 'W', 'kcc[+2:+3]': 'ពិ', 'kcc[+1:+3]': '0ពិ', 'kcc[0:+3]': '90ពិ'}, {'kcc': '0', 't': 'NS', 'ns': True, 'kcc[-1]': '9', 'kcc[-1]t': 'NS', 'kcc[-1:0]': '90', 'ns-1': True, 'kcc[-2]': '1', 'kcc[-2]t': 'NS', 'kcc[-2:-1]': '19', 'kcc[-2:0]': '190', 'kcc[-3]': 'ន', 'kcc[-3]t': 'C', 'kcc[-3:0]': 'ន190', 'kcc[-3:-1]': 'ន19', 'kcc[-3:-2]': 'ន1', 'kcc[+1]': 'ព', 'kcc[+1]t': 'C', 'kcc[+1:0]': '0ព', 'ns+1': False, 'kcc[+2]': 'ិ', 'kcc[+2]t': 'W', 'kcc[+1:+2]': 'ពិ', 'kcc[0:+2]': '0ពិ', 'ns+2': False, 'kcc[+3]': 'ន', 'kcc[+3]t': 'C', 'kcc[+2:+3]': 'ិន', 'kcc[+1:+3]': 'ពិន', 'kcc[0:+3]': '0ពិន'}, {'kcc': 'ព', 't': 'C', 'ns': False, 'kcc[-1]': '0', 'kcc[-1]t': 'NS', 'kcc[-1:0]': '0ព', 'ns-1': True, 'kcc[-2]': '9', 'kcc[-2]t': 'NS', 'kcc[-2:-1]': '90', 'kcc[-2:0]': '90ព', 'kcc[-3]': '1', 'kcc[-3]t': 'NS', 'kcc[-3:0]': '190ព', 'kcc[-3:-1]': '190', 'kcc[-3:-2]': '19', 'kcc[+1]': 'ិ', 'kcc[+1]t': 'W', 'kcc[+1:0]': 'ពិ', 'ns+1': False, 'kcc[+2]': 'ន', 'kcc[+2]t': 'C', 'kcc[+1:+2]': 'ិន', 'kcc[0:+2]': 'ពិន', 'ns+2': False, 'kcc[+3]': '្', 'kcc[+3]t': 'S', 'kcc[+2:+3]': 'ន្', 'kcc[+1:+3]': 'ិន្', 'kcc[0:+3]': 'ពិន្'}, {'kcc': 'ិ', 't': 'W', 'ns': False, 'kcc[-1]': 'ព', 'kcc[-1]t': 'C', 'kcc[-1:0]': 'ពិ', 'ns-1': False, 'kcc[-2]': '0', 'kcc[-2]t': 'NS', 'kcc[-2:-1]': '0ព', 'kcc[-2:0]': '0ពិ', 'kcc[-3]': '9', 'kcc[-3]t': 'NS', 'kcc[-3:0]': '90ពិ', 'kcc[-3:-1]': '90ព', 'kcc[-3:-2]': '90', 'kcc[+1]': 'ន', 'kcc[+1]t': 'C', 'kcc[+1:0]': 'ិន', 'ns+1': False, 'kcc[+2]': '្', 'kcc[+2]t': 'S', 'kcc[+1:+2]': 'ន្', 'kcc[0:+2]': 'ិន្', 'ns+2': False, 'kcc[+3]': 'ទ', 'kcc[+3]t': 'C', 'kcc[+2:+3]': '្ទ', 'kcc[+1:+3]': 'ន្ទ', 'kcc[0:+3]': 'ិន្ទ'}, {'kcc': 'ន', 't': 'C', 'ns': False, 'kcc[-1]': 'ិ', 'kcc[-1]t': 'W', 'kcc[-1:0]': 'ិន', 'ns-1': False, 'kcc[-2]': 'ព', 'kcc[-2]t': 'C', 'kcc[-2:-1]': 'ពិ', 'kcc[-2:0]': 'ពិន', 'kcc[-3]': '0', 'kcc[-3]t': 'NS', 'kcc[-3:0]': '0ពិន', 'kcc[-3:-1]': '0ពិ', 'kcc[-3:-2]': '0ព', 'kcc[+1]': '្', 'kcc[+1]t': 'S', 'kcc[+1:0]': 'ន្', 'ns+1': False, 'kcc[+2]': 'ទ', 'kcc[+2]t': 'C', 'kcc[+1:+2]': '្ទ', 'kcc[0:+2]': 'ន្ទ', 'ns+2': False, 'kcc[+3]': 'ុ', 'kcc[+3]t': 'W', 'kcc[+2:+3]': 'ទុ', 'kcc[+1:+3]': '្ទុ', 'kcc[0:+3]': 'ន្ទុ'}, {'kcc': '្', 't': 'S', 'ns': False, 'kcc[-1]': 'ន', 'kcc[-1]t': 'C', 'kcc[-1:0]': 'ន្', 'ns-1': False, 'kcc[-2]': 'ិ', 'kcc[-2]t': 'W', 'kcc[-2:-1]': 'ិន', 'kcc[-2:0]': 'ិន្', 'kcc[-3]': 'ព', 'kcc[-3]t': 'C', 'kcc[-3:0]': 'ពិន្', 'kcc[-3:-1]': 'ពិន', 'kcc[-3:-2]': 'ពិ', 'kcc[+1]': 'ទ', 'kcc[+1]t': 'C', 'kcc[+1:0]': '្ទ', 'ns+1': False, 'kcc[+2]': 'ុ', 'kcc[+2]t': 'W', 'kcc[+1:+2]': 'ទុ', 'kcc[0:+2]': '្ទុ', 'ns+2': False, 'kcc[+3]': '(', 'kcc[+3]t': 'NS', 'kcc[+2:+3]': 'ុ(', 'kcc[+1:+3]': 'ទុ(', 'kcc[0:+3]': '្ទុ('}, {'kcc': 'ទ', 't': 'C', 'ns': False, 'kcc[-1]': '្', 'kcc[-1]t': 'S', 'kcc[-1:0]': '្ទ', 'ns-1': False, 'kcc[-2]': 'ន', 'kcc[-2]t': 'C', 'kcc[-2:-1]': 'ន្', 'kcc[-2:0]': 'ន្ទ', 'kcc[-3]': 'ិ', 'kcc[-3]t': 'W', 'kcc[-3:0]': 'ិន្ទ', 'kcc[-3:-1]': 'ិន្', 'kcc[-3:-2]': 'ិន', 'kcc[+1]': 'ុ', 'kcc[+1]t': 'W', 'kcc[+1:0]': 'ទុ', 'ns+1': False, 'kcc[+2]': '(', 'kcc[+2]t': 'NS', 'kcc[+1:+2]': 'ុ(', 'kcc[0:+2]': 'ទុ(', 'ns+2': True, 'kcc[+3]': 'រ', 'kcc[+3]t': 'C', 'kcc[+2:+3]': '(រ', 'kcc[+1:+3]': 'ុ(រ', 'kcc[0:+3]': 'ទុ(រ'}, {'kcc': 'ុ', 't': 'W', 'ns': False, 'kcc[-1]': 'ទ', 'kcc[-1]t': 'C', 'kcc[-1:0]': 'ទុ', 'ns-1': False, 'kcc[-2]': '្', 'kcc[-2]t': 'S', 'kcc[-2:-1]': '្ទ', 'kcc[-2:0]': '្ទុ', 'kcc[-3]': 'ន', 'kcc[-3]t': 'C', 'kcc[-3:0]': 'ន្ទុ', 'kcc[-3:-1]': 'ន្ទ', 'kcc[-3:-2]': 'ន្', 'kcc[+1]': '(', 'kcc[+1]t': 'NS', 'kcc[+1:0]': 'ុ(', 'ns+1': True, 'kcc[+2]': 'រ', 'kcc[+2]t': 'C', 'kcc[+1:+2]': '(រ', 'kcc[0:+2]': 'ុ(រ', 'ns+2': False, 'kcc[+3]': 'ូ', 'kcc[+3]t': 'W', 'kcc[+2:+3]': 'រូ', 'kcc[+1:+3]': '(រូ', 'kcc[0:+3]': 'ុ(រូ'}, {'kcc': '(', 't': 'NS', 'ns': True, 'kcc[-1]': 'ុ', 'kcc[-1]t': 'W', 'kcc[-1:0]': 'ុ(', 'ns-1': False, 'kcc[-2]': 'ទ', 'kcc[-2]t': 'C', 'kcc[-2:-1]': 'ទុ', 'kcc[-2:0]': 'ទុ(', 'kcc[-3]': '្', 'kcc[-3]t': 'S', 'kcc[-3:0]': '្ទុ(', 'kcc[-3:-1]': '្ទុ', 'kcc[-3:-2]': '្ទ', 'kcc[+1]': 'រ', 'kcc[+1]t': 'C', 'kcc[+1:0]': '(រ', 'ns+1': False, 'kcc[+2]': 'ូ', 'kcc[+2]t': 'W', 'kcc[+1:+2]': 'រូ', 'kcc[0:+2]': '(រូ', 'ns+2': False, 'kcc[+3]': 'ម', 'kcc[+3]t': 'C', 'kcc[+2:+3]': 'ូម', 'kcc[+1:+3]': 'រូម', 'kcc[0:+3]': '(រូម'}, {'kcc': 'រ', 't': 'C', 'ns': False, 'kcc[-1]': '(', 'kcc[-1]t': 'NS', 'kcc[-1:0]': '(រ', 'ns-1': True, 'kcc[-2]': 'ុ', 'kcc[-2]t': 'W', 'kcc[-2:-1]': 'ុ(', 'kcc[-2:0]': 'ុ(រ', 'kcc[-3]': 'ទ', 'kcc[-3]t': 'C', 'kcc[-3:0]': 'ទុ(រ', 'kcc[-3:-1]': 'ទុ(', 'kcc[-3:-2]': 'ទុ', 'kcc[+1]': 'ូ', 'kcc[+1]t': 'W', 'kcc[+1:0]': 'រូ', 'ns+1': False, 'kcc[+2]': 'ម', 'kcc[+2]t': 'C', 'kcc[+1:+2]': 'ូម', 'kcc[0:+2]': 'រូម', 'ns+2': False, 'kcc[+3]': 'ទ', 'kcc[+3]t': 'C', 'kcc[+2:+3]': 'មទ', 'kcc[+1:+3]': 'ូមទ', 'kcc[0:+3]': 'រូមទ'}, {'kcc': 'ូ', 't': 'W', 'ns': False, 'kcc[-1]': 'រ', 'kcc[-1]t': 'C', 'kcc[-1:0]': 'រូ', 'ns-1': False, 'kcc[-2]': '(', 'kcc[-2]t': 'NS', 'kcc[-2:-1]': '(រ', 'kcc[-2:0]': '(រូ', 'kcc[-3]': 'ុ', 'kcc[-3]t': 'W', 'kcc[-3:0]': 'ុ(រូ', 'kcc[-3:-1]': 'ុ(រ', 'kcc[-3:-2]': 'ុ(', 'kcc[+1]': 'ម', 'kcc[+1]t': 'C', 'kcc[+1:0]': 'ូម', 'ns+1': False, 'kcc[+2]': 'ទ', 'kcc[+2]t': 'C', 'kcc[+1:+2]': 'មទ', 'kcc[0:+2]': 'ូមទ', 'ns+2': False, 'kcc[+3]': 'ា', 'kcc[+3]t': 'W', 'kcc[+2:+3]': 'ទា', 'kcc[+1:+3]': 'មទា', 'kcc[0:+3]': 'ូមទា'}, {'kcc': 'ម', 't': 'C', 'ns': False, 'kcc[-1]': 'ូ', 'kcc[-1]t': 'W', 'kcc[-1:0]': 'ូម', 'ns-1': False, 'kcc[-2]': 'រ', 'kcc[-2]t': 'C', 'kcc[-2:-1]': 'រូ', 'kcc[-2:0]': 'រូម', 'kcc[-3]': '(', 'kcc[-3]t': 'NS', 'kcc[-3:0]': '(រូម', 'kcc[-3:-1]': '(រូ', 'kcc[-3:-2]': '(រ', 'kcc[+1]': 'ទ', 'kcc[+1]t': 'C', 'kcc[+1:0]': 'មទ', 'ns+1': False, 'kcc[+2]': 'ា', 'kcc[+2]t': 'W', 'kcc[+1:+2]': 'ទា', 'kcc[0:+2]': 'មទា', 'ns+2': False, 'kcc[+3]': 'ំ', 'kcc[+3]t': 'W', 'kcc[+2:+3]': 'ាំ', 'kcc[+1:+3]': 'ទាំ', 'kcc[0:+3]': 'មទាំ'}, {'kcc': 'ទ', 't': 'C', 'ns': False, 'kcc[-1]': 'ម', 'kcc[-1]t': 'C', 'kcc[-1:0]': 'មទ', 'ns-1': False, 'kcc[-2]': 'ូ', 'kcc[-2]t': 'W', 'kcc[-2:-1]': 'ូម', 'kcc[-2:0]': 'ូមទ', 'kcc[-3]': 'រ', 'kcc[-3]t': 'C', 'kcc[-3:0]': 'រូមទ', 'kcc[-3:-1]': 'រូម', 'kcc[-3:-2]': 'រូ', 'kcc[+1]': 'ា', 'kcc[+1]t': 'W', 'kcc[+1:0]': 'ទា', 'ns+1': False, 'kcc[+2]': 'ំ', 'kcc[+2]t': 'W', 'kcc[+1:+2]': 'ាំ', 'kcc[0:+2]': 'ទាំ', 'ns+2': False, 'kcc[+3]': 'ង', 'kcc[+3]t': 'C', 'kcc[+2:+3]': 'ំង', 'kcc[+1:+3]': 'ាំង', 'kcc[0:+3]': 'ទាំង'}, {'kcc': 'ា', 't': 'W', 'ns': False, 'kcc[-1]': 'ទ', 'kcc[-1]t': 'C', 'kcc[-1:0]': 'ទា', 'ns-1': False, 'kcc[-2]': 'ម', 'kcc[-2]t': 'C', 'kcc[-2:-1]': 'មទ', 'kcc[-2:0]': 'មទា', 'kcc[-3]': 'ូ', 'kcc[-3]t': 'W', 'kcc[-3:0]': 'ូមទា', 'kcc[-3:-1]': 'ូមទ', 'kcc[-3:-2]': 'ូម', 'kcc[+1]': 'ំ', 'kcc[+1]t': 'W', 'kcc[+1:0]': 'ាំ', 'ns+1': False, 'kcc[+2]': 'ង', 'kcc[+2]t': 'C', 'kcc[+1:+2]': 'ំង', 'kcc[0:+2]': 'ាំង', 'ns+2': False, 'kcc[+3]': '5', 'kcc[+3]t': 'NS', 'kcc[+2:+3]': 'ង5', 'kcc[+1:+3]': 'ំង5', 'kcc[0:+3]': 'ាំង5'}, {'kcc': 'ំ', 't': 'W', 'ns': False, 'kcc[-1]': 'ា', 'kcc[-1]t': 'W', 'kcc[-1:0]': 'ាំ', 'ns-1': False, 'kcc[-2]': 'ទ', 'kcc[-2]t': 'C', 'kcc[-2:-1]': 'ទា', 'kcc[-2:0]': 'ទាំ', 'kcc[-3]': 'ម', 'kcc[-3]t': 'C', 'kcc[-3:0]': 'មទាំ', 'kcc[-3:-1]': 'មទា', 'kcc[-3:-2]': 'មទ', 'kcc[+1]': 'ង', 'kcc[+1]t': 'C', 'kcc[+1:0]': 'ំង', 'ns+1': False, 'kcc[+2]': '5', 'kcc[+2]t': 'NS', 'kcc[+1:+2]': 'ង5', 'kcc[0:+2]': 'ំង5', 'ns+2': True, 'kcc[+3]': 'ព', 'kcc[+3]t': 'C', 'kcc[+2:+3]': '5ព', 'kcc[+1:+3]': 'ង5ព', 'kcc[0:+3]': 'ំង5ព'}, {'kcc': 'ង', 't': 'C', 'ns': False, 'kcc[-1]': 'ំ', 'kcc[-1]t': 'W', 'kcc[-1:0]': 'ំង', 'ns-1': False, 'kcc[-2]': 'ា', 'kcc[-2]t': 'W', 'kcc[-2:-1]': 'ាំ', 'kcc[-2:0]': 'ាំង', 'kcc[-3]': 'ទ', 'kcc[-3]t': 'C', 'kcc[-3:0]': 'ទាំង', 'kcc[-3:-1]': 'ទាំ', 'kcc[-3:-2]': 'ទា', 'kcc[+1]': '5', 'kcc[+1]t': 'NS', 'kcc[+1:0]': 'ង5', 'ns+1': True, 'kcc[+2]': 'ព', 'kcc[+2]t': 'C', 'kcc[+1:+2]': '5ព', 'kcc[0:+2]': 'ង5ព', 'ns+2': False, 'kcc[+3]': 'ិ', 'kcc[+3]t': 'W', 'kcc[+2:+3]': 'ពិ', 'kcc[+1:+3]': '5ពិ', 'kcc[0:+3]': 'ង5ពិ'}, {'kcc': '5', 't': 'NS', 'ns': True, 'kcc[-1]': 'ង', 'kcc[-1]t': 'C', 'kcc[-1:0]': 'ង5', 'ns-1': False, 'kcc[-2]': 'ំ', 'kcc[-2]t': 'W', 'kcc[-2:-1]': 'ំង', 'kcc[-2:0]': 'ំង5', 'kcc[-3]': 'ា', 'kcc[-3]t': 'W', 'kcc[-3:0]': 'ាំង5', 'kcc[-3:-1]': 'ាំង', 'kcc[-3:-2]': 'ាំ', 'kcc[+1]': 'ព', 'kcc[+1]t': 'C', 'kcc[+1:0]': '5ព', 'ns+1': False, 'kcc[+2]': 'ិ', 'kcc[+2]t': 'W', 'kcc[+1:+2]': 'ពិ', 'kcc[0:+2]': '5ពិ', 'ns+2': False, 'kcc[+3]': 'ន', 'kcc[+3]t': 'C', 'kcc[+2:+3]': 'ិន', 'kcc[+1:+3]': 'ពិន', 'kcc[0:+3]': '5ពិន'}, {'kcc': 'ព', 't': 'C', 'ns': False, 'kcc[-1]': '5', 'kcc[-1]t': 'NS', 'kcc[-1:0]': '5ព', 'ns-1': True, 'kcc[-2]': 'ង', 'kcc[-2]t': 'C', 'kcc[-2:-1]': 'ង5', 'kcc[-2:0]': 'ង5ព', 'kcc[-3]': 'ំ', 'kcc[-3]t': 'W', 'kcc[-3:0]': 'ំង5ព', 'kcc[-3:-1]': 'ំង5', 'kcc[-3:-2]': 'ំង', 'kcc[+1]': 'ិ', 'kcc[+1]t': 'W', 'kcc[+1:0]': 'ពិ', 'ns+1': False, 'kcc[+2]': 'ន', 'kcc[+2]t': 'C', 'kcc[+1:+2]': 'ិន', 'kcc[0:+2]': 'ពិន', 'ns+2': False, 'kcc[+3]': '្', 'kcc[+3]t': 'S', 'kcc[+2:+3]': 'ន្', 'kcc[+1:+3]': 'ិន្', 'kcc[0:+3]': 'ពិន្'}, {'kcc': 'ិ', 't': 'W', 'ns': False, 'kcc[-1]': 'ព', 'kcc[-1]t': 'C', 'kcc[-1:0]': 'ពិ', 'ns-1': False, 'kcc[-2]': '5', 'kcc[-2]t': 'NS', 'kcc[-2:-1]': '5ព', 'kcc[-2:0]': '5ពិ', 'kcc[-3]': 'ង', 'kcc[-3]t': 'C', 'kcc[-3:0]': 'ង5ពិ', 'kcc[-3:-1]': 'ង5ព', 'kcc[-3:-2]': 'ង5', 'kcc[+1]': 'ន', 'kcc[+1]t': 'C', 'kcc[+1:0]': 'ិន', 'ns+1': False, 'kcc[+2]': '្', 'kcc[+2]t': 'S', 'kcc[+1:+2]': 'ន្', 'kcc[0:+2]': 'ិន្', 'ns+2': False, 'kcc[+3]': 'ទ', 'kcc[+3]t': 'C', 'kcc[+2:+3]': '្ទ', 'kcc[+1:+3]': 'ន្ទ', 'kcc[0:+3]': 'ិន្ទ'}, {'kcc': 'ន', 't': 'C', 'ns': False, 'kcc[-1]': 'ិ', 'kcc[-1]t': 'W', 'kcc[-1:0]': 'ិន', 'ns-1': False, 'kcc[-2]': 'ព', 'kcc[-2]t': 'C', 'kcc[-2:-1]': 'ពិ', 'kcc[-2:0]': 'ពិន', 'kcc[-3]': '5', 'kcc[-3]t': 'NS', 'kcc[-3:0]': '5ពិន', 'kcc[-3:-1]': '5ពិ', 'kcc[-3:-2]': '5ព', 'kcc[+1]': '្', 'kcc[+1]t': 'S', 'kcc[+1:0]': 'ន្', 'ns+1': False, 'kcc[+2]': 'ទ', 'kcc[+2]t': 'C', 'kcc[+1:+2]': '្ទ', 'kcc[0:+2]': 'ន្ទ', 'ns+2': False, 'kcc[+3]': 'ុ', 'kcc[+3]t': 'W', 'kcc[+2:+3]': 'ទុ', 'kcc[+1:+3]': '្ទុ', 'kcc[0:+3]': 'ន្ទុ'}, {'kcc': '្', 't': 'S', 'ns': False, 'kcc[-1]': 'ន', 'kcc[-1]t': 'C', 'kcc[-1:0]': 'ន្', 'ns-1': False, 'kcc[-2]': 'ិ', 'kcc[-2]t': 'W', 'kcc[-2:-1]': 'ិន', 'kcc[-2:0]': 'ិន្', 'kcc[-3]': 'ព', 'kcc[-3]t': 'C', 'kcc[-3:0]': 'ពិន្', 'kcc[-3:-1]': 'ពិន', 'kcc[-3:-2]': 'ពិ', 'kcc[+1]': 'ទ', 'kcc[+1]t': 'C', 'kcc[+1:0]': '្ទ', 'ns+1': False, 'kcc[+2]': 'ុ', 'kcc[+2]t': 'W', 'kcc[+1:+2]': 'ទុ', 'kcc[0:+2]': '្ទុ', 'ns+2': False, 'kcc[+3]': 'ជ', 'kcc[+3]t': 'C', 'kcc[+2:+3]': 'ុជ', 'kcc[+1:+3]': 'ទុជ', 'kcc[0:+3]': '្ទុជ'}, {'kcc': 'ទ', 't': 'C', 'ns': False, 'kcc[-1]': '្', 'kcc[-1]t': 'S', 'kcc[-1:0]': '្ទ', 'ns-1': False, 'kcc[-2]': 'ន', 'kcc[-2]t': 'C', 'kcc[-2:-1]': 'ន្', 'kcc[-2:0]': 'ន្ទ', 'kcc[-3]': 'ិ', 'kcc[-3]t': 'W', 'kcc[-3:0]': 'ិន្ទ', 'kcc[-3:-1]': 'ិន្', 'kcc[-3:-2]': 'ិន', 'kcc[+1]': 'ុ', 'kcc[+1]t': 'W', 'kcc[+1:0]': 'ទុ', 'ns+1': False, 'kcc[+2]': 'ជ', 'kcc[+2]t': 'C', 'kcc[+1:+2]': 'ុជ', 'kcc[0:+2]': 'ទុជ', 'ns+2': False, 'kcc[+3]': 'ា', 'kcc[+3]t': 'W', 'kcc[+2:+3]': 'ជា', 'kcc[+1:+3]': 'ុជា', 'kcc[0:+3]': 'ទុជា'}, {'kcc': 'ុ', 't': 'W', 'ns': False, 'kcc[-1]': 'ទ', 'kcc[-1]t': 'C', 'kcc[-1:0]': 'ទុ', 'ns-1': False, 'kcc[-2]': '្', 'kcc[-2]t': 'S', 'kcc[-2:-1]': '្ទ', 'kcc[-2:0]': '្ទុ', 'kcc[-3]': 'ន', 'kcc[-3]t': 'C', 'kcc[-3:0]': 'ន្ទុ', 'kcc[-3:-1]': 'ន្ទ', 'kcc[-3:-2]': 'ន្', 'kcc[+1]': 'ជ', 'kcc[+1]t': 'C', 'kcc[+1:0]': 'ុជ', 'ns+1': False, 'kcc[+2]': 'ា', 'kcc[+2]t': 'W', 'kcc[+1:+2]': 'ជា', 'kcc[0:+2]': 'ុជា', 'ns+2': False, 'kcc[+3]': 'រ', 'kcc[+3]t': 'C', 'kcc[+2:+3]': 'ារ', 'kcc[+1:+3]': 'ជារ', 'kcc[0:+3]': 'ុជារ'}, {'kcc': 'ជ', 't': 'C', 'ns': False, 'kcc[-1]': 'ុ', 'kcc[-1]t': 'W', 'kcc[-1:0]': 'ុជ', 'ns-1': False, 'kcc[-2]': 'ទ', 'kcc[-2]t': 'C', 'kcc[-2:-1]': 'ទុ', 'kcc[-2:0]': 'ទុជ', 'kcc[-3]': '្', 'kcc[-3]t': 'S', 'kcc[-3:0]': '្ទុជ', 'kcc[-3:-1]': '្ទុ', 'kcc[-3:-2]': '្ទ', 'kcc[+1]': 'ា', 'kcc[+1]t': 'W', 'kcc[+1:0]': 'ជា', 'ns+1': False, 'kcc[+2]': 'រ', 'kcc[+2]t': 'C', 'kcc[+1:+2]': 'ារ', 'kcc[0:+2]': 'ជារ', 'ns+2': False, 'kcc[+3]': 'ង', 'kcc[+3]t': 'C', 'kcc[+2:+3]': 'រង', 'kcc[+1:+3]': 'ារង', 'kcc[0:+3]': 'ជារង'}, {'kcc': 'ា', 't': 'W', 'ns': False, 'kcc[-1]': 'ជ', 'kcc[-1]t': 'C', 'kcc[-1:0]': 'ជា', 'ns-1': False, 'kcc[-2]': 'ុ', 'kcc[-2]t': 'W', 'kcc[-2:-1]': 'ុជ', 'kcc[-2:0]': 'ុជា', 'kcc[-3]': 'ទ', 'kcc[-3]t': 'C', 'kcc[-3:0]': 'ទុជា', 'kcc[-3:-1]': 'ទុជ', 'kcc[-3:-2]': 'ទុ', 'kcc[+1]': 'រ', 'kcc[+1]t': 'C', 'kcc[+1:0]': 'ារ', 'ns+1': False, 'kcc[+2]': 'ង', 'kcc[+2]t': 'C', 'kcc[+1:+2]': 'រង', 'kcc[0:+2]': 'ារង', 'ns+2': False, 'kcc[+3]': '្', 'kcc[+3]t': 'S', 'kcc[+2:+3]': 'ង្', 'kcc[+1:+3]': 'រង្', 'kcc[0:+3]': 'ារង្'}, {'kcc': 'រ', 't': 'C', 'ns': False, 'kcc[-1]': 'ា', 'kcc[-1]t': 'W', 'kcc[-1:0]': 'ារ', 'ns-1': False, 'kcc[-2]': 'ជ', 'kcc[-2]t': 'C', 'kcc[-2:-1]': 'ជា', 'kcc[-2:0]': 'ជារ', 'kcc[-3]': 'ុ', 'kcc[-3]t': 'W', 'kcc[-3:0]': 'ុជារ', 'kcc[-3:-1]': 'ុជា', 'kcc[-3:-2]': 'ុជ', 'kcc[+1]': 'ង', 'kcc[+1]t': 'C', 'kcc[+1:0]': 'រង', 'ns+1': False, 'kcc[+2]': '្', 'kcc[+2]t': 'S', 'kcc[+1:+2]': 'ង្', 'kcc[0:+2]': 'រង្', 'ns+2': False, 'kcc[+3]': 'វ', 'kcc[+3]t': 'C', 'kcc[+2:+3]': '្វ', 'kcc[+1:+3]': 'ង្វ', 'kcc[0:+3]': 'រង្វ'}, {'kcc': 'ង', 't': 'C', 'ns': False, 'kcc[-1]': 'រ', 'kcc[-1]t': 'C', 'kcc[-1:0]': 'រង', 'ns-1': False, 'kcc[-2]': 'ា', 'kcc[-2]t': 'W', 'kcc[-2:-1]': 'ារ', 'kcc[-2:0]': 'ារង', 'kcc[-3]': 'ជ', 'kcc[-3]t': 'C', 'kcc[-3:0]': 'ជារង', 'kcc[-3:-1]': 'ជារ', 'kcc[-3:-2]': 'ជា', 'kcc[+1]': '្', 'kcc[+1]t': 'S', 'kcc[+1:0]': 'ង្', 'ns+1': False, 'kcc[+2]': 'វ', 'kcc[+2]t': 'C', 'kcc[+1:+2]': '្វ', 'kcc[0:+2]': 'ង្វ', 'ns+2': False, 'kcc[+3]': 'ា', 'kcc[+3]t': 'W', 'kcc[+2:+3]': 'វា', 'kcc[+1:+3]': '្វា', 'kcc[0:+3]': 'ង្វា'}, {'kcc': '្', 't': 'S', 'ns': False, 'kcc[-1]': 'ង', 'kcc[-1]t': 'C', 'kcc[-1:0]': 'ង្', 'ns-1': False, 'kcc[-2]': 'រ', 'kcc[-2]t': 'C', 'kcc[-2:-1]': 'រង', 'kcc[-2:0]': 'រង្', 'kcc[-3]': 'ា', 'kcc[-3]t': 'W', 'kcc[-3:0]': 'ារង្', 'kcc[-3:-1]': 'ារង', 'kcc[-3:-2]': 'ារ', 'kcc[+1]': 'វ', 'kcc[+1]t': 'C', 'kcc[+1:0]': '្វ', 'ns+1': False, 'kcc[+2]': 'ា', 'kcc[+2]t': 'W', 'kcc[+1:+2]': 'វា', 'kcc[0:+2]': '្វា', 'ns+2': False, 'kcc[+3]': 'ន', 'kcc[+3]t': 'C', 'kcc[+2:+3]': 'ាន', 'kcc[+1:+3]': 'វាន', 'kcc[0:+3]': '្វាន'}, {'kcc': 'វ', 't': 'C', 'ns': False, 'kcc[-1]': '្', 'kcc[-1]t': 'S', 'kcc[-1:0]': '្វ', 'ns-1': False, 'kcc[-2]': 'ង', 'kcc[-2]t': 'C', 'kcc[-2:-1]': 'ង្', 'kcc[-2:0]': 'ង្វ', 'kcc[-3]': 'រ', 'kcc[-3]t': 'C', 'kcc[-3:0]': 'រង្វ', 'kcc[-3:-1]': 'រង្', 'kcc[-3:-2]': 'រង', 'kcc[+1]': 'ា', 'kcc[+1]t': 'W', 'kcc[+1:0]': 'វា', 'ns+1': False, 'kcc[+2]': 'ន', 'kcc[+2]t': 'C', 'kcc[+1:+2]': 'ាន', 'kcc[0:+2]': 'វាន', 'ns+2': False, 'kcc[+3]': '់', 'kcc[+3]t': 'D', 'kcc[+2:+3]': 'ន់', 'kcc[+1:+3]': 'ាន់', 'kcc[0:+3]': 'វាន់'}, {'kcc': 'ា', 't': 'W', 'ns': False, 'kcc[-1]': 'វ', 'kcc[-1]t': 'C', 'kcc[-1:0]': 'វា', 'ns-1': False, 'kcc[-2]': '្', 'kcc[-2]t': 'S', 'kcc[-2:-1]': '្វ', 'kcc[-2:0]': '្វា', 'kcc[-3]': 'ង', 'kcc[-3]t': 'C', 'kcc[-3:0]': 'ង្វា', 'kcc[-3:-1]': 'ង្វ', 'kcc[-3:-2]': 'ង្', 'kcc[+1]': 'ន', 'kcc[+1]t': 'C', 'kcc[+1:0]': 'ាន', 'ns+1': False, 'kcc[+2]': '់', 'kcc[+2]t': 'D', 'kcc[+1:+2]': 'ន់', 'kcc[0:+2]': 'ាន់', 'ns+2': False, 'kcc[+3]': ')', 'kcc[+3]t': 'NS', 'kcc[+2:+3]': '់)', 'kcc[+1:+3]': 'ន់)', 'kcc[0:+3]': 'ាន់)'}, {'kcc': 'ន', 't': 'C', 'ns': False, 'kcc[-1]': 'ា', 'kcc[-1]t': 'W', 'kcc[-1:0]': 'ាន', 'ns-1': False, 'kcc[-2]': 'វ', 'kcc[-2]t': 'C', 'kcc[-2:-1]': 'វា', 'kcc[-2:0]': 'វាន', 'kcc[-3]': '្', 'kcc[-3]t': 'S', 'kcc[-3:0]': '្វាន', 'kcc[-3:-1]': '្វា', 'kcc[-3:-2]': '្វ', 'kcc[+1]': '់', 'kcc[+1]t': 'D', 'kcc[+1:0]': 'ន់', 'ns+1': False, 'kcc[+2]': ')', 'kcc[+2]t': 'NS', 'kcc[+1:+2]': '់)', 'kcc[0:+2]': 'ន់)', 'ns+2': True, 'kcc[+3]': 'ធ', 'kcc[+3]t': 'C', 'kcc[+2:+3]': ')ធ', 'kcc[+1:+3]': '់)ធ', 'kcc[0:+3]': 'ន់)ធ'}, {'kcc': '់', 't': 'D', 'ns': False, 'kcc[-1]': 'ន', 'kcc[-1]t': 'C', 'kcc[-1:0]': 'ន់', 'ns-1': False, 'kcc[-2]': 'ា', 'kcc[-2]t': 'W', 'kcc[-2:-1]': 'ាន', 'kcc[-2:0]': 'ាន់', 'kcc[-3]': 'វ', 'kcc[-3]t': 'C', 'kcc[-3:0]': 'វាន់', 'kcc[-3:-1]': 'វាន', 'kcc[-3:-2]': 'វា', 'kcc[+1]': ')', 'kcc[+1]t': 'NS', 'kcc[+1:0]': '់)', 'ns+1': True, 'kcc[+2]': 'ធ', 'kcc[+2]t': 'C', 'kcc[+1:+2]': ')ធ', 'kcc[0:+2]': '់)ធ', 'ns+2': False, 'kcc[+3]': '្', 'kcc[+3]t': 'S', 'kcc[+2:+3]': 'ធ្', 'kcc[+1:+3]': ')ធ្', 'kcc[0:+3]': '់)ធ្'}, {'kcc': ')', 't': 'NS', 'ns': True, 'kcc[-1]': '់', 'kcc[-1]t': 'D', 'kcc[-1:0]': '់)', 'ns-1': False, 'kcc[-2]': 'ន', 'kcc[-2]t': 'C', 'kcc[-2:-1]': 'ន់', 'kcc[-2:0]': 'ន់)', 'kcc[-3]': 'ា', 'kcc[-3]t': 'W', 'kcc[-3:0]': 'ាន់)', 'kcc[-3:-1]': 'ាន់', 'kcc[-3:-2]': 'ាន', 'kcc[+1]': 'ធ', 'kcc[+1]t': 'C', 'kcc[+1:0]': ')ធ', 'ns+1': False, 'kcc[+2]': '្', 'kcc[+2]t': 'S', 'kcc[+1:+2]': 'ធ្', 'kcc[0:+2]': ')ធ្', 'ns+2': False, 'kcc[+3]': 'វ', 'kcc[+3]t': 'C', 'kcc[+2:+3]': '្វ', 'kcc[+1:+3]': 'ធ្វ', 'kcc[0:+3]': ')ធ្វ'}, {'kcc': 'ធ', 't': 'C', 'ns': False, 'kcc[-1]': ')', 'kcc[-1]t': 'NS', 'kcc[-1:0]': ')ធ', 'ns-1': True, 'kcc[-2]': '់', 'kcc[-2]t': 'D', 'kcc[-2:-1]': '់)', 'kcc[-2:0]': '់)ធ', 'kcc[-3]': 'ន', 'kcc[-3]t': 'C', 'kcc[-3:0]': 'ន់)ធ', 'kcc[-3:-1]': 'ន់)', 'kcc[-3:-2]': 'ន់', 'kcc[+1]': '្', 'kcc[+1]t': 'S', 'kcc[+1:0]': 'ធ្', 'ns+1': False, 'kcc[+2]': 'វ', 'kcc[+2]t': 'C', 'kcc[+1:+2]': '្វ', 'kcc[0:+2]': 'ធ្វ', 'ns+2': False, 'kcc[+3]': 'ើ', 'kcc[+3]t': 'W', 'kcc[+2:+3]': 'វើ', 'kcc[+1:+3]': '្វើ', 'kcc[0:+3]': 'ធ្វើ'}, {'kcc': '្', 't': 'S', 'ns': False, 'kcc[-1]': 'ធ', 'kcc[-1]t': 'C', 'kcc[-1:0]': 'ធ្', 'ns-1': False, 'kcc[-2]': ')', 'kcc[-2]t': 'NS', 'kcc[-2:-1]': ')ធ', 'kcc[-2:0]': ')ធ្', 'kcc[-3]': '់', 'kcc[-3]t': 'D', 'kcc[-3:0]': '់)ធ្', 'kcc[-3:-1]': '់)ធ', 'kcc[-3:-2]': '់)', 'kcc[+1]': 'វ', 'kcc[+1]t': 'C', 'kcc[+1:0]': '្វ', 'ns+1': False, 'kcc[+2]': 'ើ', 'kcc[+2]t': 'W', 'kcc[+1:+2]': 'វើ', 'kcc[0:+2]': '្វើ', 'ns+2': False, 'kcc[+3]': 'ឲ', 'kcc[+3]t': 'C', 'kcc[+2:+3]': 'ើឲ', 'kcc[+1:+3]': 'វើឲ', 'kcc[0:+3]': '្វើឲ'}, {'kcc': 'វ', 't': 'C', 'ns': False, 'kcc[-1]': '្', 'kcc[-1]t': 'S', 'kcc[-1:0]': '្វ', 'ns-1': False, 'kcc[-2]': 'ធ', 'kcc[-2]t': 'C', 'kcc[-2:-1]': 'ធ្', 'kcc[-2:0]': 'ធ្វ', 'kcc[-3]': ')', 'kcc[-3]t': 'NS', 'kcc[-3:0]': ')ធ្វ', 'kcc[-3:-1]': ')ធ្', 'kcc[-3:-2]': ')ធ', 'kcc[+1]': 'ើ', 'kcc[+1]t': 'W', 'kcc[+1:0]': 'វើ', 'ns+1': False, 'kcc[+2]': 'ឲ', 'kcc[+2]t': 'C', 'kcc[+1:+2]': 'ើឲ', 'kcc[0:+2]': 'វើឲ', 'ns+2': False, 'kcc[+3]': '្', 'kcc[+3]t': 'S', 'kcc[+2:+3]': 'ឲ្', 'kcc[+1:+3]': 'ើឲ្', 'kcc[0:+3]': 'វើឲ្'}, {'kcc': 'ើ', 't': 'W', 'ns': False, 'kcc[-1]': 'វ', 'kcc[-1]t': 'C', 'kcc[-1:0]': 'វើ', 'ns-1': False, 'kcc[-2]': '្', 'kcc[-2]t': 'S', 'kcc[-2:-1]': '្វ', 'kcc[-2:0]': '្វើ', 'kcc[-3]': 'ធ', 'kcc[-3]t': 'C', 'kcc[-3:0]': 'ធ្វើ', 'kcc[-3:-1]': 'ធ្វ', 'kcc[-3:-2]': 'ធ្', 'kcc[+1]': 'ឲ', 'kcc[+1]t': 'C', 'kcc[+1:0]': 'ើឲ', 'ns+1': False, 'kcc[+2]': '្', 'kcc[+2]t': 'S', 'kcc[+1:+2]': 'ឲ្', 'kcc[0:+2]': 'ើឲ្', 'ns+2': False, 'kcc[+3]': 'យ', 'kcc[+3]t': 'C', 'kcc[+2:+3]': '្យ', 'kcc[+1:+3]': 'ឲ្យ', 'kcc[0:+3]': 'ើឲ្យ'}, {'kcc': 'ឲ', 't': 'C', 'ns': False, 'kcc[-1]': 'ើ', 'kcc[-1]t': 'W', 'kcc[-1:0]': 'ើឲ', 'ns-1': False, 'kcc[-2]': 'វ', 'kcc[-2]t': 'C', 'kcc[-2:-1]': 'វើ', 'kcc[-2:0]': 'វើឲ', 'kcc[-3]': '្', 'kcc[-3]t': 'S', 'kcc[-3:0]': '្វើឲ', 'kcc[-3:-1]': '្វើ', 'kcc[-3:-2]': '្វ', 'kcc[+1]': '្', 'kcc[+1]t': 'S', 'kcc[+1:0]': 'ឲ្', 'ns+1': False, 'kcc[+2]': 'យ', 'kcc[+2]t': 'C', 'kcc[+1:+2]': '្យ', 'kcc[0:+2]': 'ឲ្យ', 'ns+2': False, 'kcc[+3]': 'គ', 'kcc[+3]t': 'C', 'kcc[+2:+3]': 'យគ', 'kcc[+1:+3]': '្យគ', 'kcc[0:+3]': 'ឲ្យគ'}, {'kcc': '្', 't': 'S', 'ns': False, 'kcc[-1]': 'ឲ', 'kcc[-1]t': 'C', 'kcc[-1:0]': 'ឲ្', 'ns-1': False, 'kcc[-2]': 'ើ', 'kcc[-2]t': 'W', 'kcc[-2:-1]': 'ើឲ', 'kcc[-2:0]': 'ើឲ្', 'kcc[-3]': 'វ', 'kcc[-3]t': 'C', 'kcc[-3:0]': 'វើឲ្', 'kcc[-3:-1]': 'វើឲ', 'kcc[-3:-2]': 'វើ', 'kcc[+1]': 'យ', 'kcc[+1]t': 'C', 'kcc[+1:0]': '្យ', 'ns+1': False, 'kcc[+2]': 'គ', 'kcc[+2]t': 'C', 'kcc[+1:+2]': 'យគ', 'kcc[0:+2]': '្យគ', 'ns+2': False, 'kcc[+3]': 'ា', 'kcc[+3]t': 'W', 'kcc[+2:+3]': 'គា', 'kcc[+1:+3]': 'យគា', 'kcc[0:+3]': '្យគា'}, {'kcc': 'យ', 't': 'C', 'ns': False, 'kcc[-1]': '្', 'kcc[-1]t': 'S', 'kcc[-1:0]': '្យ', 'ns-1': False, 'kcc[-2]': 'ឲ', 'kcc[-2]t': 'C', 'kcc[-2:-1]': 'ឲ្', 'kcc[-2:0]': 'ឲ្យ', 'kcc[-3]': 'ើ', 'kcc[-3]t': 'W', 'kcc[-3:0]': 'ើឲ្យ', 'kcc[-3:-1]': 'ើឲ្', 'kcc[-3:-2]': 'ើឲ', 'kcc[+1]': 'គ', 'kcc[+1]t': 'C', 'kcc[+1:0]': 'យគ', 'ns+1': False, 'kcc[+2]': 'ា', 'kcc[+2]t': 'W', 'kcc[+1:+2]': 'គា', 'kcc[0:+2]': 'យគា', 'ns+2': False, 'kcc[+3]': 'ត', 'kcc[+3]t': 'C', 'kcc[+2:+3]': 'ាត', 'kcc[+1:+3]': 'គាត', 'kcc[0:+3]': 'យគាត'}, {'kcc': 'គ', 't': 'C', 'ns': False, 'kcc[-1]': 'យ', 'kcc[-1]t': 'C', 'kcc[-1:0]': 'យគ', 'ns-1': False, 'kcc[-2]': '្', 'kcc[-2]t': 'S', 'kcc[-2:-1]': '្យ', 'kcc[-2:0]': '្យគ', 'kcc[-3]': 'ឲ', 'kcc[-3]t': 'C', 'kcc[-3:0]': 'ឲ្យគ', 'kcc[-3:-1]': 'ឲ្យ', 'kcc[-3:-2]': 'ឲ្', 'kcc[+1]': 'ា', 'kcc[+1]t': 'W', 'kcc[+1:0]': 'គា', 'ns+1': False, 'kcc[+2]': 'ត', 'kcc[+2]t': 'C', 'kcc[+1:+2]': 'ាត', 'kcc[0:+2]': 'គាត', 'ns+2': False, 'kcc[+3]': '់', 'kcc[+3]t': 'D', 'kcc[+2:+3]': 'ត់', 'kcc[+1:+3]': 'ាត់', 'kcc[0:+3]': 'គាត់'}, {'kcc': 'ា', 't': 'W', 'ns': False, 'kcc[-1]': 'គ', 'kcc[-1]t': 'C', 'kcc[-1:0]': 'គា', 'ns-1': False, 'kcc[-2]': 'យ', 'kcc[-2]t': 'C', 'kcc[-2:-1]': 'យគ', 'kcc[-2:0]': 'យគា', 'kcc[-3]': '្', 'kcc[-3]t': 'S', 'kcc[-3:0]': '្យគា', 'kcc[-3:-1]': '្យគ', 'kcc[-3:-2]': '្យ', 'kcc[+1]': 'ត', 'kcc[+1]t': 'C', 'kcc[+1:0]': 'ាត', 'ns+1': False, 'kcc[+2]': '់', 'kcc[+2]t': 'D', 'kcc[+1:+2]': 'ត់', 'kcc[0:+2]': 'ាត់', 'ns+2': False, 'kcc[+3]': 'ឡ', 'kcc[+3]t': 'C', 'kcc[+2:+3]': '់ឡ', 'kcc[+1:+3]': 'ត់ឡ', 'kcc[0:+3]': 'ាត់ឡ'}, {'kcc': 'ត', 't': 'C', 'ns': False, 'kcc[-1]': 'ា', 'kcc[-1]t': 'W', 'kcc[-1:0]': 'ាត', 'ns-1': False, 'kcc[-2]': 'គ', 'kcc[-2]t': 'C', 'kcc[-2:-1]': 'គា', 'kcc[-2:0]': 'គាត', 'kcc[-3]': 'យ', 'kcc[-3]t': 'C', 'kcc[-3:0]': 'យគាត', 'kcc[-3:-1]': 'យគា', 'kcc[-3:-2]': 'យគ', 'kcc[+1]': '់', 'kcc[+1]t': 'D', 'kcc[+1:0]': 'ត់', 'ns+1': False, 'kcc[+2]': 'ឡ', 'kcc[+2]t': 'C', 'kcc[+1:+2]': '់ឡ', 'kcc[0:+2]': 'ត់ឡ', 'ns+2': False, 'kcc[+3]': 'ើ', 'kcc[+3]t': 'W', 'kcc[+2:+3]': 'ឡើ', 'kcc[+1:+3]': '់ឡើ', 'kcc[0:+3]': 'ត់ឡើ'}, {'kcc': '់', 't': 'D', 'ns': False, 'kcc[-1]': 'ត', 'kcc[-1]t': 'C', 'kcc[-1:0]': 'ត់', 'ns-1': False, 'kcc[-2]': 'ា', 'kcc[-2]t': 'W', 'kcc[-2:-1]': 'ាត', 'kcc[-2:0]': 'ាត់', 'kcc[-3]': 'គ', 'kcc[-3]t': 'C', 'kcc[-3:0]': 'គាត់', 'kcc[-3:-1]': 'គាត', 'kcc[-3:-2]': 'គា', 'kcc[+1]': 'ឡ', 'kcc[+1]t': 'C', 'kcc[+1:0]': '់ឡ', 'ns+1': False, 'kcc[+2]': 'ើ', 'kcc[+2]t': 'W', 'kcc[+1:+2]': 'ឡើ', 'kcc[0:+2]': '់ឡើ', 'ns+2': False, 'kcc[+3]': 'ង', 'kcc[+3]t': 'C', 'kcc[+2:+3]': 'ើង', 'kcc[+1:+3]': 'ឡើង', 'kcc[0:+3]': '់ឡើង'}, {'kcc': 'ឡ', 't': 'C', 'ns': False, 'kcc[-1]': '់', 'kcc[-1]t': 'D', 'kcc[-1:0]': '់ឡ', 'ns-1': False, 'kcc[-2]': 'ត', 'kcc[-2]t': 'C', 'kcc[-2:-1]': 'ត់', 'kcc[-2:0]': 'ត់ឡ', 'kcc[-3]': 'ា', 'kcc[-3]t': 'W', 'kcc[-3:0]': 'ាត់ឡ', 'kcc[-3:-1]': 'ាត់', 'kcc[-3:-2]': 'ាត', 'kcc[+1]': 'ើ', 'kcc[+1]t': 'W', 'kcc[+1:0]': 'ឡើ', 'ns+1': False, 'kcc[+2]': 'ង', 'kcc[+2]t': 'C', 'kcc[+1:+2]': 'ើង', 'kcc[0:+2]': 'ឡើង', 'ns+2': False, 'kcc[+3]': 'ជ', 'kcc[+3]t': 'C', 'kcc[+2:+3]': 'ងជ', 'kcc[+1:+3]': 'ើងជ', 'kcc[0:+3]': 'ឡើងជ'}, {'kcc': 'ើ', 't': 'W', 'ns': False, 'kcc[-1]': 'ឡ', 'kcc[-1]t': 'C', 'kcc[-1:0]': 'ឡើ', 'ns-1': False, 'kcc[-2]': '់', 'kcc[-2]t': 'D', 'kcc[-2:-1]': '់ឡ', 'kcc[-2:0]': '់ឡើ', 'kcc[-3]': 'ត', 'kcc[-3]t': 'C', 'kcc[-3:0]': 'ត់ឡើ', 'kcc[-3:-1]': 'ត់ឡ', 'kcc[-3:-2]': 'ត់', 'kcc[+1]': 'ង', 'kcc[+1]t': 'C', 'kcc[+1:0]': 'ើង', 'ns+1': False, 'kcc[+2]': 'ជ', 'kcc[+2]t': 'C', 'kcc[+1:+2]': 'ងជ', 'kcc[0:+2]': 'ើងជ', 'ns+2': False, 'kcc[+3]': 'ិ', 'kcc[+3]t': 'W', 'kcc[+2:+3]': 'ជិ', 'kcc[+1:+3]': 'ងជិ', 'kcc[0:+3]': 'ើងជិ'}, {'kcc': 'ង', 't': 'C', 'ns': False, 'kcc[-1]': 'ើ', 'kcc[-1]t': 'W', 'kcc[-1:0]': 'ើង', 'ns-1': False, 'kcc[-2]': 'ឡ', 'kcc[-2]t': 'C', 'kcc[-2:-1]': 'ឡើ', 'kcc[-2:0]': 'ឡើង', 'kcc[-3]': '់', 'kcc[-3]t': 'D', 'kcc[-3:0]': '់ឡើង', 'kcc[-3:-1]': '់ឡើ', 'kcc[-3:-2]': '់ឡ', 'kcc[+1]': 'ជ', 'kcc[+1]t': 'C', 'kcc[+1:0]': 'ងជ', 'ns+1': False, 'kcc[+2]': 'ិ', 'kcc[+2]t': 'W', 'kcc[+1:+2]': 'ជិ', 'kcc[0:+2]': 'ងជិ', 'ns+2': False, 'kcc[+3]': 'ត', 'kcc[+3]t': 'C', 'kcc[+2:+3]': 'ិត', 'kcc[+1:+3]': 'ជិត', 'kcc[0:+3]': 'ងជិត'}, {'kcc': 'ជ', 't': 'C', 'ns': False, 'kcc[-1]': 'ង', 'kcc[-1]t': 'C', 'kcc[-1:0]': 'ងជ', 'ns-1': False, 'kcc[-2]': 'ើ', 'kcc[-2]t': 'W', 'kcc[-2:-1]': 'ើង', 'kcc[-2:0]': 'ើងជ', 'kcc[-3]': 'ឡ', 'kcc[-3]t': 'C', 'kcc[-3:0]': 'ឡើងជ', 'kcc[-3:-1]': 'ឡើង', 'kcc[-3:-2]': 'ឡើ', 'kcc[+1]': 'ិ', 'kcc[+1]t': 'W', 'kcc[+1:0]': 'ជិ', 'ns+1': False, 'kcc[+2]': 'ត', 'kcc[+2]t': 'C', 'kcc[+1:+2]': 'ិត', 'kcc[0:+2]': 'ជិត', 'ns+2': False, 'kcc[+3]': 'ដ', 'kcc[+3]t': 'C', 'kcc[+2:+3]': 'តដ', 'kcc[+1:+3]': 'ិតដ', 'kcc[0:+3]': 'ជិតដ'}, {'kcc': 'ិ', 't': 'W', 'ns': False, 'kcc[-1]': 'ជ', 'kcc[-1]t': 'C', 'kcc[-1:0]': 'ជិ', 'ns-1': False, 'kcc[-2]': 'ង', 'kcc[-2]t': 'C', 'kcc[-2:-1]': 'ងជ', 'kcc[-2:0]': 'ងជិ', 'kcc[-3]': 'ើ', 'kcc[-3]t': 'W', 'kcc[-3:0]': 'ើងជិ', 'kcc[-3:-1]': 'ើងជ', 'kcc[-3:-2]': 'ើង', 'kcc[+1]': 'ត', 'kcc[+1]t': 'C', 'kcc[+1:0]': 'ិត', 'ns+1': False, 'kcc[+2]': 'ដ', 'kcc[+2]t': 'C', 'kcc[+1:+2]': 'តដ', 'kcc[0:+2]': 'ិតដ', 'ns+2': False, 'kcc[+3]': 'ល', 'kcc[+3]t': 'C', 'kcc[+2:+3]': 'ដល', 'kcc[+1:+3]': 'តដល', 'kcc[0:+3]': 'ិតដល'}, {'kcc': 'ត', 't': 'C', 'ns': False, 'kcc[-1]': 'ិ', 'kcc[-1]t': 'W', 'kcc[-1:0]': 'ិត', 'ns-1': False, 'kcc[-2]': 'ជ', 'kcc[-2]t': 'C', 'kcc[-2:-1]': 'ជិ', 'kcc[-2:0]': 'ជិត', 'kcc[-3]': 'ង', 'kcc[-3]t': 'C', 'kcc[-3:0]': 'ងជិត', 'kcc[-3:-1]': 'ងជិ', 'kcc[-3:-2]': 'ងជ', 'kcc[+1]': 'ដ', 'kcc[+1]t': 'C', 'kcc[+1:0]': 'តដ', 'ns+1': False, 'kcc[+2]': 'ល', 'kcc[+2]t': 'C', 'kcc[+1:+2]': 'ដល', 'kcc[0:+2]': 'តដល', 'ns+2': False, 'kcc[+3]': '់', 'kcc[+3]t': 'D', 'kcc[+2:+3]': 'ល់', 'kcc[+1:+3]': 'ដល់', 'kcc[0:+3]': 'តដល់'}, {'kcc': 'ដ', 't': 'C', 'ns': False, 'kcc[-1]': 'ត', 'kcc[-1]t': 'C', 'kcc[-1:0]': 'តដ', 'ns-1': False, 'kcc[-2]': 'ិ', 'kcc[-2]t': 'W', 'kcc[-2:-1]': 'ិត', 'kcc[-2:0]': 'ិតដ', 'kcc[-3]': 'ជ', 'kcc[-3]t': 'C', 'kcc[-3:0]': 'ជិតដ', 'kcc[-3:-1]': 'ជិត', 'kcc[-3:-2]': 'ជិ', 'kcc[+1]': 'ល', 'kcc[+1]t': 'C', 'kcc[+1:0]': 'ដល', 'ns+1': False, 'kcc[+2]': '់', 'kcc[+2]t': 'D', 'kcc[+1:+2]': 'ល់', 'kcc[0:+2]': 'ដល់', 'ns+2': False, 'kcc[+3]': 'ខ', 'kcc[+3]t': 'C', 'kcc[+2:+3]': '់ខ', 'kcc[+1:+3]': 'ល់ខ', 'kcc[0:+3]': 'ដល់ខ'}, {'kcc': 'ល', 't': 'C', 'ns': False, 'kcc[-1]': 'ដ', 'kcc[-1]t': 'C', 'kcc[-1:0]': 'ដល', 'ns-1': False, 'kcc[-2]': 'ត', 'kcc[-2]t': 'C', 'kcc[-2:-1]': 'តដ', 'kcc[-2:0]': 'តដល', 'kcc[-3]': 'ិ', 'kcc[-3]t': 'W', 'kcc[-3:0]': 'ិតដល', 'kcc[-3:-1]': 'ិតដ', 'kcc[-3:-2]': 'ិត', 'kcc[+1]': '់', 'kcc[+1]t': 'D', 'kcc[+1:0]': 'ល់', 'ns+1': False, 'kcc[+2]': 'ខ', 'kcc[+2]t': 'C', 'kcc[+1:+2]': '់ខ', 'kcc[0:+2]': 'ល់ខ', 'ns+2': False, 'kcc[+3]': 'េ', 'kcc[+3]t': 'W', 'kcc[+2:+3]': 'ខេ', 'kcc[+1:+3]': '់ខេ', 'kcc[0:+3]': 'ល់ខេ'}, {'kcc': '់', 't': 'D', 'ns': False, 'kcc[-1]': 'ល', 'kcc[-1]t': 'C', 'kcc[-1:0]': 'ល់', 'ns-1': False, 'kcc[-2]': 'ដ', 'kcc[-2]t': 'C', 'kcc[-2:-1]': 'ដល', 'kcc[-2:0]': 'ដល់', 'kcc[-3]': 'ត', 'kcc[-3]t': 'C', 'kcc[-3:0]': 'តដល់', 'kcc[-3:-1]': 'តដល', 'kcc[-3:-2]': 'តដ', 'kcc[+1]': 'ខ', 'kcc[+1]t': 'C', 'kcc[+1:0]': '់ខ', 'ns+1': False, 'kcc[+2]': 'េ', 'kcc[+2]t': 'W', 'kcc[+1:+2]': 'ខេ', 'kcc[0:+2]': '់ខេ', 'ns+2': False, 'kcc[+3]': 'វ', 'kcc[+3]t': 'C', 'kcc[+2:+3]': 'េវ', 'kcc[+1:+3]': 'ខេវ', 'kcc[0:+3]': '់ខេវ'}, {'kcc': 'ខ', 't': 'C', 'ns': False, 'kcc[-1]': '់', 'kcc[-1]t': 'D', 'kcc[-1:0]': '់ខ', 'ns-1': False, 'kcc[-2]': 'ល', 'kcc[-2]t': 'C', 'kcc[-2:-1]': 'ល់', 'kcc[-2:0]': 'ល់ខ', 'kcc[-3]': 'ដ', 'kcc[-3]t': 'C', 'kcc[-3:0]': 'ដល់ខ', 'kcc[-3:-1]': 'ដល់', 'kcc[-3:-2]': 'ដល', 'kcc[+1]': 'េ', 'kcc[+1]t': 'W', 'kcc[+1:0]': 'ខេ', 'ns+1': False, 'kcc[+2]': 'វ', 'kcc[+2]t': 'C', 'kcc[+1:+2]': 'េវ', 'kcc[0:+2]': 'ខេវ', 'ns+2': False, 'kcc[+3]': 'ិ', 'kcc[+3]t': 'W', 'kcc[+2:+3]': 'វិ', 'kcc[+1:+3]': 'េវិ', 'kcc[0:+3]': 'ខេវិ'}, {'kcc': 'េ', 't': 'W', 'ns': False, 'kcc[-1]': 'ខ', 'kcc[-1]t': 'C', 'kcc[-1:0]': 'ខេ', 'ns-1': False, 'kcc[-2]': '់', 'kcc[-2]t': 'D', 'kcc[-2:-1]': '់ខ', 'kcc[-2:0]': '់ខេ', 'kcc[-3]': 'ល', 'kcc[-3]t': 'C', 'kcc[-3:0]': 'ល់ខេ', 'kcc[-3:-1]': 'ល់ខ', 'kcc[-3:-2]': 'ល់', 'kcc[+1]': 'វ', 'kcc[+1]t': 'C', 'kcc[+1:0]': 'េវ', 'ns+1': False, 'kcc[+2]': 'ិ', 'kcc[+2]t': 'W', 'kcc[+1:+2]': 'វិ', 'kcc[0:+2]': 'េវិ', 'ns+2': False, 'kcc[+3]': 'ន', 'kcc[+3]t': 'C', 'kcc[+2:+3]': 'ិន', 'kcc[+1:+3]': 'វិន', 'kcc[0:+3]': 'េវិន'}, {'kcc': 'វ', 't': 'C', 'ns': False, 'kcc[-1]': 'េ', 'kcc[-1]t': 'W', 'kcc[-1:0]': 'េវ', 'ns-1': False, 'kcc[-2]': 'ខ', 'kcc[-2]t': 'C', 'kcc[-2:-1]': 'ខេ', 'kcc[-2:0]': 'ខេវ', 'kcc[-3]': '់', 'kcc[-3]t': 'D', 'kcc[-3:0]': '់ខេវ', 'kcc[-3:-1]': '់ខេ', 'kcc[-3:-2]': '់ខ', 'kcc[+1]': 'ិ', 'kcc[+1]t': 'W', 'kcc[+1:0]': 'វិ', 'ns+1': False, 'kcc[+2]': 'ន', 'kcc[+2]t': 'C', 'kcc[+1:+2]': 'ិន', 'kcc[0:+2]': 'វិន', 'ns+2': False, 'kcc[+3]': 'ហ', 'kcc[+3]t': 'C', 'kcc[+2:+3]': 'នហ', 'kcc[+1:+3]': 'ិនហ', 'kcc[0:+3]': 'វិនហ'}, {'kcc': 'ិ', 't': 'W', 'ns': False, 'kcc[-1]': 'វ', 'kcc[-1]t': 'C', 'kcc[-1:0]': 'វិ', 'ns-1': False, 'kcc[-2]': 'េ', 'kcc[-2]t': 'W', 'kcc[-2:-1]': 'េវ', 'kcc[-2:0]': 'េវិ', 'kcc[-3]': 'ខ', 'kcc[-3]t': 'C', 'kcc[-3:0]': 'ខេវិ', 'kcc[-3:-1]': 'ខេវ', 'kcc[-3:-2]': 'ខេ', 'kcc[+1]': 'ន', 'kcc[+1]t': 'C', 'kcc[+1:0]': 'ិន', 'ns+1': False, 'kcc[+2]': 'ហ', 'kcc[+2]t': 'C', 'kcc[+1:+2]': 'នហ', 'kcc[0:+2]': 'ិនហ', 'ns+2': False, 'kcc[+3]': 'ា', 'kcc[+3]t': 'W', 'kcc[+2:+3]': 'ហា', 'kcc[+1:+3]': 'នហា', 'kcc[0:+3]': 'ិនហា'}, {'kcc': 'ន', 't': 'C', 'ns': False, 'kcc[-1]': 'ិ', 'kcc[-1]t': 'W', 'kcc[-1:0]': 'ិន', 'ns-1': False, 'kcc[-2]': 'វ', 'kcc[-2]t': 'C', 'kcc[-2:-1]': 'វិ', 'kcc[-2:0]': 'វិន', 'kcc[-3]': 'េ', 'kcc[-3]t': 'W', 'kcc[-3:0]': 'េវិន', 'kcc[-3:-1]': 'េវិ', 'kcc[-3:-2]': 'េវ', 'kcc[+1]': 'ហ', 'kcc[+1]t': 'C', 'kcc[+1:0]': 'នហ', 'ns+1': False, 'kcc[+2]': 'ា', 'kcc[+2]t': 'W', 'kcc[+1:+2]': 'ហា', 'kcc[0:+2]': 'នហា', 'ns+2': False, 'kcc[+3]': 'វ', 'kcc[+3]t': 'C', 'kcc[+2:+3]': 'ាវ', 'kcc[+1:+3]': 'ហាវ', 'kcc[0:+3]': 'នហាវ'}, {'kcc': 'ហ', 't': 'C', 'ns': False, 'kcc[-1]': 'ន', 'kcc[-1]t': 'C', 'kcc[-1:0]': 'នហ', 'ns-1': False, 'kcc[-2]': 'ិ', 'kcc[-2]t': 'W', 'kcc[-2:-1]': 'ិន', 'kcc[-2:0]': 'ិនហ', 'kcc[-3]': 'វ', 'kcc[-3]t': 'C', 'kcc[-3:0]': 'វិនហ', 'kcc[-3:-1]': 'វិន', 'kcc[-3:-2]': 'វិ', 'kcc[+1]': 'ា', 'kcc[+1]t': 'W', 'kcc[+1:0]': 'ហា', 'ns+1': False, 'kcc[+2]': 'វ', 'kcc[+2]t': 'C', 'kcc[+1:+2]': 'ាវ', 'kcc[0:+2]': 'ហាវ', 'ns+2': False, 'kcc[+3]': 'ិ', 'kcc[+3]t': 'W', 'kcc[+2:+3]': 'វិ', 'kcc[+1:+3]': 'ាវិ', 'kcc[0:+3]': 'ហាវិ'}, {'kcc': 'ា', 't': 'W', 'ns': False, 'kcc[-1]': 'ហ', 'kcc[-1]t': 'C', 'kcc[-1:0]': 'ហា', 'ns-1': False, 'kcc[-2]': 'ន', 'kcc[-2]t': 'C', 'kcc[-2:-1]': 'នហ', 'kcc[-2:0]': 'នហា', 'kcc[-3]': 'ិ', 'kcc[-3]t': 'W', 'kcc[-3:0]': 'ិនហា', 'kcc[-3:-1]': 'ិនហ', 'kcc[-3:-2]': 'ិន', 'kcc[+1]': 'វ', 'kcc[+1]t': 'C', 'kcc[+1:0]': 'ាវ', 'ns+1': False, 'kcc[+2]': 'ិ', 'kcc[+2]t': 'W', 'kcc[+1:+2]': 'វិ', 'kcc[0:+2]': 'ាវិ', 'ns+2': False, 'kcc[+3]': 'ក', 'kcc[+3]t': 'C', 'kcc[+2:+3]': 'ិក', 'kcc[+1:+3]': 'វិក', 'kcc[0:+3]': 'ាវិក'}, {'kcc': 'វ', 't': 'C', 'ns': False, 'kcc[-1]': 'ា', 'kcc[-1]t': 'W', 'kcc[-1:0]': 'ាវ', 'ns-1': False, 'kcc[-2]': 'ហ', 'kcc[-2]t': 'C', 'kcc[-2:-1]': 'ហា', 'kcc[-2:0]': 'ហាវ', 'kcc[-3]': 'ន', 'kcc[-3]t': 'C', 'kcc[-3:0]': 'នហាវ', 'kcc[-3:-1]': 'នហា', 'kcc[-3:-2]': 'នហ', 'kcc[+1]': 'ិ', 'kcc[+1]t': 'W', 'kcc[+1:0]': 'វិ', 'ns+1': False, 'kcc[+2]': 'ក', 'kcc[+2]t': 'C', 'kcc[+1:+2]': 'ិក', 'kcc[0:+2]': 'វិក', 'ns+2': False, 'kcc[+3]': 'អ', 'kcc[+3]t': 'C', 'kcc[+2:+3]': 'កអ', 'kcc[+1:+3]': 'ិកអ', 'kcc[0:+3]': 'វិកអ'}, {'kcc': 'ិ', 't': 'W', 'ns': False, 'kcc[-1]': 'វ', 'kcc[-1]t': 'C', 'kcc[-1:0]': 'វិ', 'ns-1': False, 'kcc[-2]': 'ា', 'kcc[-2]t': 'W', 'kcc[-2:-1]': 'ាវ', 'kcc[-2:0]': 'ាវិ', 'kcc[-3]': 'ហ', 'kcc[-3]t': 'C', 'kcc[-3:0]': 'ហាវិ', 'kcc[-3:-1]': 'ហាវ', 'kcc[-3:-2]': 'ហា', 'kcc[+1]': 'ក', 'kcc[+1]t': 'C', 'kcc[+1:0]': 'ិក', 'ns+1': False, 'kcc[+2]': 'អ', 'kcc[+2]t': 'C', 'kcc[+1:+2]': 'កអ', 'kcc[0:+2]': 'ិកអ', 'ns+2': False, 'kcc[+3]': '្', 'kcc[+3]t': 'S', 'kcc[+2:+3]': 'អ្', 'kcc[+1:+3]': 'កអ្', 'kcc[0:+3]': 'ិកអ្'}, {'kcc': 'ក', 't': 'C', 'ns': False, 'kcc[-1]': 'ិ', 'kcc[-1]t': 'W', 'kcc[-1:0]': 'ិក', 'ns-1': False, 'kcc[-2]': 'វ', 'kcc[-2]t': 'C', 'kcc[-2:-1]': 'វិ', 'kcc[-2:0]': 'វិក', 'kcc[-3]': 'ា', 'kcc[-3]t': 'W', 'kcc[-3:0]': 'ាវិក', 'kcc[-3:-1]': 'ាវិ', 'kcc[-3:-2]': 'ាវ', 'kcc[+1]': 'អ', 'kcc[+1]t': 'C', 'kcc[+1:0]': 'កអ', 'ns+1': False, 'kcc[+2]': '្', 'kcc[+2]t': 'S', 'kcc[+1:+2]': 'អ្', 'kcc[0:+2]': 'កអ្', 'ns+2': False, 'kcc[+3]': 'ន', 'kcc[+3]t': 'C', 'kcc[+2:+3]': '្ន', 'kcc[+1:+3]': 'អ្ន', 'kcc[0:+3]': 'កអ្ន'}, {'kcc': 'អ', 't': 'C', 'ns': False, 'kcc[-1]': 'ក', 'kcc[-1]t': 'C', 'kcc[-1:0]': 'កអ', 'ns-1': False, 'kcc[-2]': 'ិ', 'kcc[-2]t': 'W', 'kcc[-2:-1]': 'ិក', 'kcc[-2:0]': 'ិកអ', 'kcc[-3]': 'វ', 'kcc[-3]t': 'C', 'kcc[-3:0]': 'វិកអ', 'kcc[-3:-1]': 'វិក', 'kcc[-3:-2]': 'វិ', 'kcc[+1]': '្', 'kcc[+1]t': 'S', 'kcc[+1:0]': 'អ្', 'ns+1': False, 'kcc[+2]': 'ន', 'kcc[+2]t': 'C', 'kcc[+1:+2]': '្ន', 'kcc[0:+2]': 'អ្ន', 'ns+2': False, 'kcc[+3]': 'ក', 'kcc[+3]t': 'C', 'kcc[+2:+3]': 'នក', 'kcc[+1:+3]': '្នក', 'kcc[0:+3]': 'អ្នក'}, {'kcc': '្', 't': 'S', 'ns': False, 'kcc[-1]': 'អ', 'kcc[-1]t': 'C', 'kcc[-1:0]': 'អ្', 'ns-1': False, 'kcc[-2]': 'ក', 'kcc[-2]t': 'C', 'kcc[-2:-1]': 'កអ', 'kcc[-2:0]': 'កអ្', 'kcc[-3]': 'ិ', 'kcc[-3]t': 'W', 'kcc[-3:0]': 'ិកអ្', 'kcc[-3:-1]': 'ិកអ', 'kcc[-3:-2]': 'ិក', 'kcc[+1]': 'ន', 'kcc[+1]t': 'C', 'kcc[+1:0]': '្ន', 'ns+1': False, 'kcc[+2]': 'ក', 'kcc[+2]t': 'C', 'kcc[+1:+2]': 'នក', 'kcc[0:+2]': '្នក', 'ns+2': False, 'kcc[+3]': 'ម', 'kcc[+3]t': 'C', 'kcc[+2:+3]': 'កម', 'kcc[+1:+3]': 'នកម', 'kcc[0:+3]': '្នកម'}, {'kcc': 'ន', 't': 'C', 'ns': False, 'kcc[-1]': '្', 'kcc[-1]t': 'S', 'kcc[-1:0]': '្ន', 'ns-1': False, 'kcc[-2]': 'អ', 'kcc[-2]t': 'C', 'kcc[-2:-1]': 'អ្', 'kcc[-2:0]': 'អ្ន', 'kcc[-3]': 'ក', 'kcc[-3]t': 'C', 'kcc[-3:0]': 'កអ្ន', 'kcc[-3:-1]': 'កអ្', 'kcc[-3:-2]': 'កអ', 'kcc[+1]': 'ក', 'kcc[+1]t': 'C', 'kcc[+1:0]': 'នក', 'ns+1': False, 'kcc[+2]': 'ម', 'kcc[+2]t': 'C', 'kcc[+1:+2]': 'កម', 'kcc[0:+2]': 'នកម', 'ns+2': False, 'kcc[+3]': 'ា', 'kcc[+3]t': 'W', 'kcc[+2:+3]': 'មា', 'kcc[+1:+3]': 'កមា', 'kcc[0:+3]': 'នកមា'}, {'kcc': 'ក', 't': 'C', 'ns': False, 'kcc[-1]': 'ន', 'kcc[-1]t': 'C', 'kcc[-1:0]': 'នក', 'ns-1': False, 'kcc[-2]': '្', 'kcc[-2]t': 'S', 'kcc[-2:-1]': '្ន', 'kcc[-2:0]': '្នក', 'kcc[-3]': 'អ', 'kcc[-3]t': 'C', 'kcc[-3:0]': 'អ្នក', 'kcc[-3:-1]': 'អ្ន', 'kcc[-3:-2]': 'អ្', 'kcc[+1]': 'ម', 'kcc[+1]t': 'C', 'kcc[+1:0]': 'កម', 'ns+1': False, 'kcc[+2]': 'ា', 'kcc[+2]t': 'W', 'kcc[+1:+2]': 'មា', 'kcc[0:+2]': 'កមា', 'ns+2': False, 'kcc[+3]': 'ន', 'kcc[+3]t': 'C', 'kcc[+2:+3]': 'ាន', 'kcc[+1:+3]': 'មាន', 'kcc[0:+3]': 'កមាន'}, {'kcc': 'ម', 't': 'C', 'ns': False, 'kcc[-1]': 'ក', 'kcc[-1]t': 'C', 'kcc[-1:0]': 'កម', 'ns-1': False, 'kcc[-2]': 'ន', 'kcc[-2]t': 'C', 'kcc[-2:-1]': 'នក', 'kcc[-2:0]': 'នកម', 'kcc[-3]': '្', 'kcc[-3]t': 'S', 'kcc[-3:0]': '្នកម', 'kcc[-3:-1]': '្នក', 'kcc[-3:-2]': '្ន', 'kcc[+1]': 'ា', 'kcc[+1]t': 'W', 'kcc[+1:0]': 'មា', 'ns+1': False, 'kcc[+2]': 'ន', 'kcc[+2]t': 'C', 'kcc[+1:+2]': 'ាន', 'kcc[0:+2]': 'មាន', 'ns+2': False, 'kcc[+3]': 'ព', 'kcc[+3]t': 'C', 'kcc[+2:+3]': 'នព', 'kcc[+1:+3]': 'ានព', 'kcc[0:+3]': 'មានព'}, {'kcc': 'ា', 't': 'W', 'ns': False, 'kcc[-1]': 'ម', 'kcc[-1]t': 'C', 'kcc[-1:0]': 'មា', 'ns-1': False, 'kcc[-2]': 'ក', 'kcc[-2]t': 'C', 'kcc[-2:-1]': 'កម', 'kcc[-2:0]': 'កមា', 'kcc[-3]': 'ន', 'kcc[-3]t': 'C', 'kcc[-3:0]': 'នកមា', 'kcc[-3:-1]': 'នកម', 'kcc[-3:-2]': 'នក', 'kcc[+1]': 'ន', 'kcc[+1]t': 'C', 'kcc[+1:0]': 'ាន', 'ns+1': False, 'kcc[+2]': 'ព', 'kcc[+2]t': 'C', 'kcc[+1:+2]': 'នព', 'kcc[0:+2]': 'ានព', 'ns+2': False, 'kcc[+3]': 'ិ', 'kcc[+3]t': 'W', 'kcc[+2:+3]': 'ពិ', 'kcc[+1:+3]': 'នពិ', 'kcc[0:+3]': 'ានពិ'}, {'kcc': 'ន', 't': 'C', 'ns': False, 'kcc[-1]': 'ា', 'kcc[-1]t': 'W', 'kcc[-1:0]': 'ាន', 'ns-1': False, 'kcc[-2]': 'ម', 'kcc[-2]t': 'C', 'kcc[-2:-1]': 'មា', 'kcc[-2:0]': 'មាន', 'kcc[-3]': 'ក', 'kcc[-3]t': 'C', 'kcc[-3:0]': 'កមាន', 'kcc[-3:-1]': 'កមា', 'kcc[-3:-2]': 'កម', 'kcc[+1]': 'ព', 'kcc[+1]t': 'C', 'kcc[+1:0]': 'នព', 'ns+1': False, 'kcc[+2]': 'ិ', 'kcc[+2]t': 'W', 'kcc[+1:+2]': 'ពិ', 'kcc[0:+2]': 'នពិ', 'ns+2': False, 'kcc[+3]': 'ន', 'kcc[+3]t': 'C', 'kcc[+2:+3]': 'ិន', 'kcc[+1:+3]': 'ពិន', 'kcc[0:+3]': 'នពិន'}, {'kcc': 'ព', 't': 'C', 'ns': False, 'kcc[-1]': 'ន', 'kcc[-1]t': 'C', 'kcc[-1:0]': 'នព', 'ns-1': False, 'kcc[-2]': 'ា', 'kcc[-2]t': 'W', 'kcc[-2:-1]': 'ាន', 'kcc[-2:0]': 'ានព', 'kcc[-3]': 'ម', 'kcc[-3]t': 'C', 'kcc[-3:0]': 'មានព', 'kcc[-3:-1]': 'មាន', 'kcc[-3:-2]': 'មា', 'kcc[+1]': 'ិ', 'kcc[+1]t': 'W', 'kcc[+1:0]': 'ពិ', 'ns+1': False, 'kcc[+2]': 'ន', 'kcc[+2]t': 'C', 'kcc[+1:+2]': 'ិន', 'kcc[0:+2]': 'ពិន', 'ns+2': False, 'kcc[+3]': '្', 'kcc[+3]t': 'S', 'kcc[+2:+3]': 'ន្', 'kcc[+1:+3]': 'ិន្', 'kcc[0:+3]': 'ពិន្'}, {'kcc': 'ិ', 't': 'W', 'ns': False, 'kcc[-1]': 'ព', 'kcc[-1]t': 'C', 'kcc[-1:0]': 'ពិ', 'ns-1': False, 'kcc[-2]': 'ន', 'kcc[-2]t': 'C', 'kcc[-2:-1]': 'នព', 'kcc[-2:0]': 'នពិ', 'kcc[-3]': 'ា', 'kcc[-3]t': 'W', 'kcc[-3:0]': 'ានពិ', 'kcc[-3:-1]': 'ានព', 'kcc[-3:-2]': 'ាន', 'kcc[+1]': 'ន', 'kcc[+1]t': 'C', 'kcc[+1:0]': 'ិន', 'ns+1': False, 'kcc[+2]': '្', 'kcc[+2]t': 'S', 'kcc[+1:+2]': 'ន្', 'kcc[0:+2]': 'ិន្', 'ns+2': False, 'kcc[+3]': 'ទ', 'kcc[+3]t': 'C', 'kcc[+2:+3]': '្ទ', 'kcc[+1:+3]': 'ន្ទ', 'kcc[0:+3]': 'ិន្ទ'}, {'kcc': 'ន', 't': 'C', 'ns': False, 'kcc[-1]': 'ិ', 'kcc[-1]t': 'W', 'kcc[-1:0]': 'ិន', 'ns-1': False, 'kcc[-2]': 'ព', 'kcc[-2]t': 'C', 'kcc[-2:-1]': 'ពិ', 'kcc[-2:0]': 'ពិន', 'kcc[-3]': 'ន', 'kcc[-3]t': 'C', 'kcc[-3:0]': 'នពិន', 'kcc[-3:-1]': 'នពិ', 'kcc[-3:-2]': 'នព', 'kcc[+1]': '្', 'kcc[+1]t': 'S', 'kcc[+1:0]': 'ន្', 'ns+1': False, 'kcc[+2]': 'ទ', 'kcc[+2]t': 'C', 'kcc[+1:+2]': '្ទ', 'kcc[0:+2]': 'ន្ទ', 'ns+2': False, 'kcc[+3]': 'ុ', 'kcc[+3]t': 'W', 'kcc[+2:+3]': 'ទុ', 'kcc[+1:+3]': '្ទុ', 'kcc[0:+3]': 'ន្ទុ'}, {'kcc': '្', 't': 'S', 'ns': False, 'kcc[-1]': 'ន', 'kcc[-1]t': 'C', 'kcc[-1:0]': 'ន្', 'ns-1': False, 'kcc[-2]': 'ិ', 'kcc[-2]t': 'W', 'kcc[-2:-1]': 'ិន', 'kcc[-2:0]': 'ិន្', 'kcc[-3]': 'ព', 'kcc[-3]t': 'C', 'kcc[-3:0]': 'ពិន្', 'kcc[-3:-1]': 'ពិន', 'kcc[-3:-2]': 'ពិ', 'kcc[+1]': 'ទ', 'kcc[+1]t': 'C', 'kcc[+1:0]': '្ទ', 'ns+1': False, 'kcc[+2]': 'ុ', 'kcc[+2]t': 'W', 'kcc[+1:+2]': 'ទុ', 'kcc[0:+2]': '្ទុ', 'ns+2': False, 'kcc[+3]': 'ន', 'kcc[+3]t': 'C', 'kcc[+2:+3]': 'ុន', 'kcc[+1:+3]': 'ទុន', 'kcc[0:+3]': '្ទុន'}, {'kcc': 'ទ', 't': 'C', 'ns': False, 'kcc[-1]': '្', 'kcc[-1]t': 'S', 'kcc[-1:0]': '្ទ', 'ns-1': False, 'kcc[-2]': 'ន', 'kcc[-2]t': 'C', 'kcc[-2:-1]': 'ន្', 'kcc[-2:0]': 'ន្ទ', 'kcc[-3]': 'ិ', 'kcc[-3]t': 'W', 'kcc[-3:0]': 'ិន្ទ', 'kcc[-3:-1]': 'ិន្', 'kcc[-3:-2]': 'ិន', 'kcc[+1]': 'ុ', 'kcc[+1]t': 'W', 'kcc[+1:0]': 'ទុ', 'ns+1': False, 'kcc[+2]': 'ន', 'kcc[+2]t': 'C', 'kcc[+1:+2]': 'ុន', 'kcc[0:+2]': 'ទុន', 'ns+2': False, 'kcc[+3]': 'ា', 'kcc[+3]t': 'W', 'kcc[+2:+3]': 'នា', 'kcc[+1:+3]': 'ុនា', 'kcc[0:+3]': 'ទុនា'}, {'kcc': 'ុ', 't': 'W', 'ns': False, 'kcc[-1]': 'ទ', 'kcc[-1]t': 'C', 'kcc[-1:0]': 'ទុ', 'ns-1': False, 'kcc[-2]': '្', 'kcc[-2]t': 'S', 'kcc[-2:-1]': '្ទ', 'kcc[-2:0]': '្ទុ', 'kcc[-3]': 'ន', 'kcc[-3]t': 'C', 'kcc[-3:0]': 'ន្ទុ', 'kcc[-3:-1]': 'ន្ទ', 'kcc[-3:-2]': 'ន្', 'kcc[+1]': 'ន', 'kcc[+1]t': 'C', 'kcc[+1:0]': 'ុន', 'ns+1': False, 'kcc[+2]': 'ា', 'kcc[+2]t': 'W', 'kcc[+1:+2]': 'នា', 'kcc[0:+2]': 'ុនា', 'ns+2': False, 'kcc[+3]': 'ំ', 'kcc[+3]t': 'W', 'kcc[+2:+3]': 'ាំ', 'kcc[+1:+3]': 'នាំ', 'kcc[0:+3]': 'ុនាំ'}, {'kcc': 'ន', 't': 'C', 'ns': False, 'kcc[-1]': 'ុ', 'kcc[-1]t': 'W', 'kcc[-1:0]': 'ុន', 'ns-1': False, 'kcc[-2]': 'ទ', 'kcc[-2]t': 'C', 'kcc[-2:-1]': 'ទុ', 'kcc[-2:0]': 'ទុន', 'kcc[-3]': '្', 'kcc[-3]t': 'S', 'kcc[-3:0]': '្ទុន', 'kcc[-3:-1]': '្ទុ', 'kcc[-3:-2]': '្ទ', 'kcc[+1]': 'ា', 'kcc[+1]t': 'W', 'kcc[+1:0]': 'នា', 'ns+1': False, 'kcc[+2]': 'ំ', 'kcc[+2]t': 'W', 'kcc[+1:+2]': 'ាំ', 'kcc[0:+2]': 'នាំ', 'ns+2': False, 'kcc[+3]': 'ម', 'kcc[+3]t': 'C', 'kcc[+2:+3]': 'ំម', 'kcc[+1:+3]': 'ាំម', 'kcc[0:+3]': 'នាំម'}, {'kcc': 'ា', 't': 'W', 'ns': False, 'kcc[-1]': 'ន', 'kcc[-1]t': 'C', 'kcc[-1:0]': 'នា', 'ns-1': False, 'kcc[-2]': 'ុ', 'kcc[-2]t': 'W', 'kcc[-2:-1]': 'ុន', 'kcc[-2:0]': 'ុនា', 'kcc[-3]': 'ទ', 'kcc[-3]t': 'C', 'kcc[-3:0]': 'ទុនា', 'kcc[-3:-1]': 'ទុន', 'kcc[-3:-2]': 'ទុ', 'kcc[+1]': 'ំ', 'kcc[+1]t': 'W', 'kcc[+1:0]': 'ាំ', 'ns+1': False, 'kcc[+2]': 'ម', 'kcc[+2]t': 'C', 'kcc[+1:+2]': 'ំម', 'kcc[0:+2]': 'ាំម', 'ns+2': False, 'kcc[+3]': 'ុ', 'kcc[+3]t': 'W', 'kcc[+2:+3]': 'មុ', 'kcc[+1:+3]': 'ំមុ', 'kcc[0:+3]': 'ាំមុ'}, {'kcc': 'ំ', 't': 'W', 'ns': False, 'kcc[-1]': 'ា', 'kcc[-1]t': 'W', 'kcc[-1:0]': 'ាំ', 'ns-1': False, 'kcc[-2]': 'ន', 'kcc[-2]t': 'C', 'kcc[-2:-1]': 'នា', 'kcc[-2:0]': 'នាំ', 'kcc[-3]': 'ុ', 'kcc[-3]t': 'W', 'kcc[-3:0]': 'ុនាំ', 'kcc[-3:-1]': 'ុនា', 'kcc[-3:-2]': 'ុន', 'kcc[+1]': 'ម', 'kcc[+1]t': 'C', 'kcc[+1:0]': 'ំម', 'ns+1': False, 'kcc[+2]': 'ុ', 'kcc[+2]t': 'W', 'kcc[+1:+2]': 'មុ', 'kcc[0:+2]': 'ំមុ', 'ns+2': False, 'kcc[+3]': 'ខ', 'kcc[+3]t': 'C', 'kcc[+2:+3]': 'ុខ', 'kcc[+1:+3]': 'មុខ', 'kcc[0:+3]': 'ំមុខ'}, {'kcc': 'ម', 't': 'C', 'ns': False, 'kcc[-1]': 'ំ', 'kcc[-1]t': 'W', 'kcc[-1:0]': 'ំម', 'ns-1': False, 'kcc[-2]': 'ា', 'kcc[-2]t': 'W', 'kcc[-2:-1]': 'ាំ', 'kcc[-2:0]': 'ាំម', 'kcc[-3]': 'ន', 'kcc[-3]t': 'C', 'kcc[-3:0]': 'នាំម', 'kcc[-3:-1]': 'នាំ', 'kcc[-3:-2]': 'នា', 'kcc[+1]': 'ុ', 'kcc[+1]t': 'W', 'kcc[+1:0]': 'មុ', 'ns+1': False, 'kcc[+2]': 'ខ', 'kcc[+2]t': 'C', 'kcc[+1:+2]': 'ុខ', 'kcc[0:+2]': 'មុខ', 'ns+2': False, 'kcc[+3]': 'គ', 'kcc[+3]t': 'C', 'kcc[+2:+3]': 'ខគ', 'kcc[+1:+3]': 'ុខគ', 'kcc[0:+3]': 'មុខគ'}, {'kcc': 'ុ', 't': 'W', 'ns': False, 'kcc[-1]': 'ម', 'kcc[-1]t': 'C', 'kcc[-1:0]': 'មុ', 'ns-1': False, 'kcc[-2]': 'ំ', 'kcc[-2]t': 'W', 'kcc[-2:-1]': 'ំម', 'kcc[-2:0]': 'ំមុ', 'kcc[-3]': 'ា', 'kcc[-3]t': 'W', 'kcc[-3:0]': 'ាំមុ', 'kcc[-3:-1]': 'ាំម', 'kcc[-3:-2]': 'ាំ', 'kcc[+1]': 'ខ', 'kcc[+1]t': 'C', 'kcc[+1:0]': 'ុខ', 'ns+1': False, 'kcc[+2]': 'គ', 'kcc[+2]t': 'C', 'kcc[+1:+2]': 'ខគ', 'kcc[0:+2]': 'ុខគ', 'ns+2': False, 'kcc[+3]': 'េ', 'kcc[+3]t': 'W', 'kcc[+2:+3]': 'គេ', 'kcc[+1:+3]': 'ខគេ', 'kcc[0:+3]': 'ុខគេ'}, {'kcc': 'ខ', 't': 'C', 'ns': False, 'kcc[-1]': 'ុ', 'kcc[-1]t': 'W', 'kcc[-1:0]': 'ុខ', 'ns-1': False, 'kcc[-2]': 'ម', 'kcc[-2]t': 'C', 'kcc[-2:-1]': 'មុ', 'kcc[-2:0]': 'មុខ', 'kcc[-3]': 'ំ', 'kcc[-3]t': 'W', 'kcc[-3:0]': 'ំមុខ', 'kcc[-3:-1]': 'ំមុ', 'kcc[-3:-2]': 'ំម', 'kcc[+1]': 'គ', 'kcc[+1]t': 'C', 'kcc[+1:0]': 'ខគ', 'ns+1': False, 'kcc[+2]': 'េ', 'kcc[+2]t': 'W', 'kcc[+1:+2]': 'គេ', 'kcc[0:+2]': 'ខគេ', 'ns+2': False, 'kcc[+3]': 'ប', 'kcc[+3]t': 'C', 'kcc[+2:+3]': 'េប', 'kcc[+1:+3]': 'គេប', 'kcc[0:+3]': 'ខគេប'}, {'kcc': 'គ', 't': 'C', 'ns': False, 'kcc[-1]': 'ខ', 'kcc[-1]t': 'C', 'kcc[-1:0]': 'ខគ', 'ns-1': False, 'kcc[-2]': 'ុ', 'kcc[-2]t': 'W', 'kcc[-2:-1]': 'ុខ', 'kcc[-2:0]': 'ុខគ', 'kcc[-3]': 'ម', 'kcc[-3]t': 'C', 'kcc[-3:0]': 'មុខគ', 'kcc[-3:-1]': 'មុខ', 'kcc[-3:-2]': 'មុ', 'kcc[+1]': 'េ', 'kcc[+1]t': 'W', 'kcc[+1:0]': 'គេ', 'ns+1': False, 'kcc[+2]': 'ប', 'kcc[+2]t': 'C', 'kcc[+1:+2]': 'េប', 'kcc[0:+2]': 'គេប', 'ns+2': False, 'kcc[+3]': '៉', 'kcc[+3]t': 'D', 'kcc[+2:+3]': 'ប៉', 'kcc[+1:+3]': 'េប៉', 'kcc[0:+3]': 'គេប៉'}, {'kcc': 'េ', 't': 'W', 'ns': False, 'kcc[-1]': 'គ', 'kcc[-1]t': 'C', 'kcc[-1:0]': 'គេ', 'ns-1': False, 'kcc[-2]': 'ខ', 'kcc[-2]t': 'C', 'kcc[-2:-1]': 'ខគ', 'kcc[-2:0]': 'ខគេ', 'kcc[-3]': 'ុ', 'kcc[-3]t': 'W', 'kcc[-3:0]': 'ុខគេ', 'kcc[-3:-1]': 'ុខគ', 'kcc[-3:-2]': 'ុខ', 'kcc[+1]': 'ប', 'kcc[+1]t': 'C', 'kcc[+1:0]': 'េប', 'ns+1': False, 'kcc[+2]': '៉', 'kcc[+2]t': 'D', 'kcc[+1:+2]': 'ប៉', 'kcc[0:+2]': 'េប៉', 'ns+2': False, 'kcc[+3]': 'ុ', 'kcc[+3]t': 'W', 'kcc[+2:+3]': '៉ុ', 'kcc[+1:+3]': 'ប៉ុ', 'kcc[0:+3]': 'េប៉ុ'}, {'kcc': 'ប', 't': 'C', 'ns': False, 'kcc[-1]': 'េ', 'kcc[-1]t': 'W', 'kcc[-1:0]': 'េប', 'ns-1': False, 'kcc[-2]': 'គ', 'kcc[-2]t': 'C', 'kcc[-2:-1]': 'គេ', 'kcc[-2:0]': 'គេប', 'kcc[-3]': 'ខ', 'kcc[-3]t': 'C', 'kcc[-3:0]': 'ខគេប', 'kcc[-3:-1]': 'ខគេ', 'kcc[-3:-2]': 'ខគ', 'kcc[+1]': '៉', 'kcc[+1]t': 'D', 'kcc[+1:0]': 'ប៉', 'ns+1': False, 'kcc[+2]': 'ុ', 'kcc[+2]t': 'W', 'kcc[+1:+2]': '៉ុ', 'kcc[0:+2]': 'ប៉ុ', 'ns+2': False, 'kcc[+3]': 'ន', 'kcc[+3]t': 'C', 'kcc[+2:+3]': 'ុន', 'kcc[+1:+3]': '៉ុន', 'kcc[0:+3]': 'ប៉ុន'}, {'kcc': '៉', 't': 'D', 'ns': False, 'kcc[-1]': 'ប', 'kcc[-1]t': 'C', 'kcc[-1:0]': 'ប៉', 'ns-1': False, 'kcc[-2]': 'េ', 'kcc[-2]t': 'W', 'kcc[-2:-1]': 'េប', 'kcc[-2:0]': 'េប៉', 'kcc[-3]': 'គ', 'kcc[-3]t': 'C', 'kcc[-3:0]': 'គេប៉', 'kcc[-3:-1]': 'គេប', 'kcc[-3:-2]': 'គេ', 'kcc[+1]': 'ុ', 'kcc[+1]t': 'W', 'kcc[+1:0]': '៉ុ', 'ns+1': False, 'kcc[+2]': 'ន', 'kcc[+2]t': 'C', 'kcc[+1:+2]': 'ុន', 'kcc[0:+2]': '៉ុន', 'ns+2': False, 'kcc[+3]': '្', 'kcc[+3]t': 'S', 'kcc[+2:+3]': 'ន្', 'kcc[+1:+3]': 'ុន្', 'kcc[0:+3]': '៉ុន្'}, {'kcc': 'ុ', 't': 'W', 'ns': False, 'kcc[-1]': '៉', 'kcc[-1]t': 'D', 'kcc[-1:0]': '៉ុ', 'ns-1': False, 'kcc[-2]': 'ប', 'kcc[-2]t': 'C', 'kcc[-2:-1]': 'ប៉', 'kcc[-2:0]': 'ប៉ុ', 'kcc[-3]': 'េ', 'kcc[-3]t': 'W', 'kcc[-3:0]': 'េប៉ុ', 'kcc[-3:-1]': 'េប៉', 'kcc[-3:-2]': 'េប', 'kcc[+1]': 'ន', 'kcc[+1]t': 'C', 'kcc[+1:0]': 'ុន', 'ns+1': False, 'kcc[+2]': '្', 'kcc[+2]t': 'S', 'kcc[+1:+2]': 'ន្', 'kcc[0:+2]': 'ុន្', 'ns+2': False, 'kcc[+3]': 'ត', 'kcc[+3]t': 'C', 'kcc[+2:+3]': '្ត', 'kcc[+1:+3]': 'ន្ត', 'kcc[0:+3]': 'ុន្ត'}, {'kcc': 'ន', 't': 'C', 'ns': False, 'kcc[-1]': 'ុ', 'kcc[-1]t': 'W', 'kcc[-1:0]': 'ុន', 'ns-1': False, 'kcc[-2]': '៉', 'kcc[-2]t': 'D', 'kcc[-2:-1]': '៉ុ', 'kcc[-2:0]': '៉ុន', 'kcc[-3]': 'ប', 'kcc[-3]t': 'C', 'kcc[-3:0]': 'ប៉ុន', 'kcc[-3:-1]': 'ប៉ុ', 'kcc[-3:-2]': 'ប៉', 'kcc[+1]': '្', 'kcc[+1]t': 'S', 'kcc[+1:0]': 'ន្', 'ns+1': False, 'kcc[+2]': 'ត', 'kcc[+2]t': 'C', 'kcc[+1:+2]': '្ត', 'kcc[0:+2]': 'ន្ត', 'ns+2': False, 'kcc[+3]': 'ែ', 'kcc[+3]t': 'W', 'kcc[+2:+3]': 'តែ', 'kcc[+1:+3]': '្តែ', 'kcc[0:+3]': 'ន្តែ'}, {'kcc': '្', 't': 'S', 'ns': False, 'kcc[-1]': 'ន', 'kcc[-1]t': 'C', 'kcc[-1:0]': 'ន្', 'ns-1': False, 'kcc[-2]': 'ុ', 'kcc[-2]t': 'W', 'kcc[-2:-1]': 'ុន', 'kcc[-2:0]': 'ុន្', 'kcc[-3]': '៉', 'kcc[-3]t': 'D', 'kcc[-3:0]': '៉ុន្', 'kcc[-3:-1]': '៉ុន', 'kcc[-3:-2]': '៉ុ', 'kcc[+1]': 'ត', 'kcc[+1]t': 'C', 'kcc[+1:0]': '្ត', 'ns+1': False, 'kcc[+2]': 'ែ', 'kcc[+2]t': 'W', 'kcc[+1:+2]': 'តែ', 'kcc[0:+2]': '្តែ', 'ns+2': False, 'kcc[+3]': 'គ', 'kcc[+3]t': 'C', 'kcc[+2:+3]': 'ែគ', 'kcc[+1:+3]': 'តែគ', 'kcc[0:+3]': '្តែគ'}, {'kcc': 'ត', 't': 'C', 'ns': False, 'kcc[-1]': '្', 'kcc[-1]t': 'S', 'kcc[-1:0]': '្ត', 'ns-1': False, 'kcc[-2]': 'ន', 'kcc[-2]t': 'C', 'kcc[-2:-1]': 'ន្', 'kcc[-2:0]': 'ន្ត', 'kcc[-3]': 'ុ', 'kcc[-3]t': 'W', 'kcc[-3:0]': 'ុន្ត', 'kcc[-3:-1]': 'ុន្', 'kcc[-3:-2]': 'ុន', 'kcc[+1]': 'ែ', 'kcc[+1]t': 'W', 'kcc[+1:0]': 'តែ', 'ns+1': False, 'kcc[+2]': 'គ', 'kcc[+2]t': 'C', 'kcc[+1:+2]': 'ែគ', 'kcc[0:+2]': 'តែគ', 'ns+2': False, 'kcc[+3]': 'ា', 'kcc[+3]t': 'W', 'kcc[+2:+3]': 'គា', 'kcc[+1:+3]': 'ែគា', 'kcc[0:+3]': 'តែគា'}, {'kcc': 'ែ', 't': 'W', 'ns': False, 'kcc[-1]': 'ត', 'kcc[-1]t': 'C', 'kcc[-1:0]': 'តែ', 'ns-1': False, 'kcc[-2]': '្', 'kcc[-2]t': 'S', 'kcc[-2:-1]': '្ត', 'kcc[-2:0]': '្តែ', 'kcc[-3]': 'ន', 'kcc[-3]t': 'C', 'kcc[-3:0]': 'ន្តែ', 'kcc[-3:-1]': 'ន្ត', 'kcc[-3:-2]': 'ន្', 'kcc[+1]': 'គ', 'kcc[+1]t': 'C', 'kcc[+1:0]': 'ែគ', 'ns+1': False, 'kcc[+2]': 'ា', 'kcc[+2]t': 'W', 'kcc[+1:+2]': 'គា', 'kcc[0:+2]': 'ែគា', 'ns+2': False, 'kcc[+3]': 'ត', 'kcc[+3]t': 'C', 'kcc[+2:+3]': 'ាត', 'kcc[+1:+3]': 'គាត', 'kcc[0:+3]': 'ែគាត'}, {'kcc': 'គ', 't': 'C', 'ns': False, 'kcc[-1]': 'ែ', 'kcc[-1]t': 'W', 'kcc[-1:0]': 'ែគ', 'ns-1': False, 'kcc[-2]': 'ត', 'kcc[-2]t': 'C', 'kcc[-2:-1]': 'តែ', 'kcc[-2:0]': 'តែគ', 'kcc[-3]': '្', 'kcc[-3]t': 'S', 'kcc[-3:0]': '្តែគ', 'kcc[-3:-1]': '្តែ', 'kcc[-3:-2]': '្ត', 'kcc[+1]': 'ា', 'kcc[+1]t': 'W', 'kcc[+1:0]': 'គា', 'ns+1': False, 'kcc[+2]': 'ត', 'kcc[+2]t': 'C', 'kcc[+1:+2]': 'ាត', 'kcc[0:+2]': 'គាត', 'ns+2': False, 'kcc[+3]': '់', 'kcc[+3]t': 'D', 'kcc[+2:+3]': 'ត់', 'kcc[+1:+3]': 'ាត់', 'kcc[0:+3]': 'គាត់'}, {'kcc': 'ា', 't': 'W', 'ns': False, 'kcc[-1]': 'គ', 'kcc[-1]t': 'C', 'kcc[-1:0]': 'គា', 'ns-1': False, 'kcc[-2]': 'ែ', 'kcc[-2]t': 'W', 'kcc[-2:-1]': 'ែគ', 'kcc[-2:0]': 'ែគា', 'kcc[-3]': 'ត', 'kcc[-3]t': 'C', 'kcc[-3:0]': 'តែគា', 'kcc[-3:-1]': 'តែគ', 'kcc[-3:-2]': 'តែ', 'kcc[+1]': 'ត', 'kcc[+1]t': 'C', 'kcc[+1:0]': 'ាត', 'ns+1': False, 'kcc[+2]': '់', 'kcc[+2]t': 'D', 'kcc[+1:+2]': 'ត់', 'kcc[0:+2]': 'ាត់', 'ns+2': False, 'kcc[+3]': 'ន', 'kcc[+3]t': 'C', 'kcc[+2:+3]': '់ន', 'kcc[+1:+3]': 'ត់ន', 'kcc[0:+3]': 'ាត់ន'}, {'kcc': 'ត', 't': 'C', 'ns': False, 'kcc[-1]': 'ា', 'kcc[-1]t': 'W', 'kcc[-1:0]': 'ាត', 'ns-1': False, 'kcc[-2]': 'គ', 'kcc[-2]t': 'C', 'kcc[-2:-1]': 'គា', 'kcc[-2:0]': 'គាត', 'kcc[-3]': 'ែ', 'kcc[-3]t': 'W', 'kcc[-3:0]': 'ែគាត', 'kcc[-3:-1]': 'ែគា', 'kcc[-3:-2]': 'ែគ', 'kcc[+1]': '់', 'kcc[+1]t': 'D', 'kcc[+1:0]': 'ត់', 'ns+1': False, 'kcc[+2]': 'ន', 'kcc[+2]t': 'C', 'kcc[+1:+2]': '់ន', 'kcc[0:+2]': 'ត់ន', 'ns+2': False, 'kcc[+3]': 'ៅ', 'kcc[+3]t': 'W', 'kcc[+2:+3]': 'នៅ', 'kcc[+1:+3]': '់នៅ', 'kcc[0:+3]': 'ត់នៅ'}, {'kcc': '់', 't': 'D', 'ns': False, 'kcc[-1]': 'ត', 'kcc[-1]t': 'C', 'kcc[-1:0]': 'ត់', 'ns-1': False, 'kcc[-2]': 'ា', 'kcc[-2]t': 'W', 'kcc[-2:-1]': 'ាត', 'kcc[-2:0]': 'ាត់', 'kcc[-3]': 'គ', 'kcc[-3]t': 'C', 'kcc[-3:0]': 'គាត់', 'kcc[-3:-1]': 'គាត', 'kcc[-3:-2]': 'គា', 'kcc[+1]': 'ន', 'kcc[+1]t': 'C', 'kcc[+1:0]': '់ន', 'ns+1': False, 'kcc[+2]': 'ៅ', 'kcc[+2]t': 'W', 'kcc[+1:+2]': 'នៅ', 'kcc[0:+2]': '់នៅ', 'ns+2': False, 'kcc[+3]': 'ខ', 'kcc[+3]t': 'C', 'kcc[+2:+3]': 'ៅខ', 'kcc[+1:+3]': 'នៅខ', 'kcc[0:+3]': '់នៅខ'}, {'kcc': 'ន', 't': 'C', 'ns': False, 'kcc[-1]': '់', 'kcc[-1]t': 'D', 'kcc[-1:0]': '់ន', 'ns-1': False, 'kcc[-2]': 'ត', 'kcc[-2]t': 'C', 'kcc[-2:-1]': 'ត់', 'kcc[-2:0]': 'ត់ន', 'kcc[-3]': 'ា', 'kcc[-3]t': 'W', 'kcc[-3:0]': 'ាត់ន', 'kcc[-3:-1]': 'ាត់', 'kcc[-3:-2]': 'ាត', 'kcc[+1]': 'ៅ', 'kcc[+1]t': 'W', 'kcc[+1:0]': 'នៅ', 'ns+1': False, 'kcc[+2]': 'ខ', 'kcc[+2]t': 'C', 'kcc[+1:+2]': 'ៅខ', 'kcc[0:+2]': 'នៅខ', 'ns+2': False, 'kcc[+3]': '្', 'kcc[+3]t': 'S', 'kcc[+2:+3]': 'ខ្', 'kcc[+1:+3]': 'ៅខ្', 'kcc[0:+3]': 'នៅខ្'}, {'kcc': 'ៅ', 't': 'W', 'ns': False, 'kcc[-1]': 'ន', 'kcc[-1]t': 'C', 'kcc[-1:0]': 'នៅ', 'ns-1': False, 'kcc[-2]': '់', 'kcc[-2]t': 'D', 'kcc[-2:-1]': '់ន', 'kcc[-2:0]': '់នៅ', 'kcc[-3]': 'ត', 'kcc[-3]t': 'C', 'kcc[-3:0]': 'ត់នៅ', 'kcc[-3:-1]': 'ត់ន', 'kcc[-3:-2]': 'ត់', 'kcc[+1]': 'ខ', 'kcc[+1]t': 'C', 'kcc[+1:0]': 'ៅខ', 'ns+1': False, 'kcc[+2]': '្', 'kcc[+2]t': 'S', 'kcc[+1:+2]': 'ខ្', 'kcc[0:+2]': 'ៅខ្', 'ns+2': False, 'kcc[+3]': 'វ', 'kcc[+3]t': 'C', 'kcc[+2:+3]': '្វ', 'kcc[+1:+3]': 'ខ្វ', 'kcc[0:+3]': 'ៅខ្វ'}, {'kcc': 'ខ', 't': 'C', 'ns': False, 'kcc[-1]': 'ៅ', 'kcc[-1]t': 'W', 'kcc[-1:0]': 'ៅខ', 'ns-1': False, 'kcc[-2]': 'ន', 'kcc[-2]t': 'C', 'kcc[-2:-1]': 'នៅ', 'kcc[-2:0]': 'នៅខ', 'kcc[-3]': '់', 'kcc[-3]t': 'D', 'kcc[-3:0]': '់នៅខ', 'kcc[-3:-1]': '់នៅ', 'kcc[-3:-2]': '់ន', 'kcc[+1]': '្', 'kcc[+1]t': 'S', 'kcc[+1:0]': 'ខ្', 'ns+1': False, 'kcc[+2]': 'វ', 'kcc[+2]t': 'C', 'kcc[+1:+2]': '្វ', 'kcc[0:+2]': 'ខ្វ', 'ns+2': False, 'kcc[+3]': 'ះ', 'kcc[+3]t': 'W', 'kcc[+2:+3]': 'វះ', 'kcc[+1:+3]': '្វះ', 'kcc[0:+3]': 'ខ្វះ'}, {'kcc': '្', 't': 'S', 'ns': False, 'kcc[-1]': 'ខ', 'kcc[-1]t': 'C', 'kcc[-1:0]': 'ខ្', 'ns-1': False, 'kcc[-2]': 'ៅ', 'kcc[-2]t': 'W', 'kcc[-2:-1]': 'ៅខ', 'kcc[-2:0]': 'ៅខ្', 'kcc[-3]': 'ន', 'kcc[-3]t': 'C', 'kcc[-3:0]': 'នៅខ្', 'kcc[-3:-1]': 'នៅខ', 'kcc[-3:-2]': 'នៅ', 'kcc[+1]': 'វ', 'kcc[+1]t': 'C', 'kcc[+1:0]': '្វ', 'ns+1': False, 'kcc[+2]': 'ះ', 'kcc[+2]t': 'W', 'kcc[+1:+2]': 'វះ', 'kcc[0:+2]': '្វះ', 'ns+2': False, 'kcc[+3]': '1', 'kcc[+3]t': 'NS', 'kcc[+2:+3]': 'ះ1', 'kcc[+1:+3]': 'វះ1', 'kcc[0:+3]': '្វះ1'}, {'kcc': 'វ', 't': 'C', 'ns': False, 'kcc[-1]': '្', 'kcc[-1]t': 'S', 'kcc[-1:0]': '្វ', 'ns-1': False, 'kcc[-2]': 'ខ', 'kcc[-2]t': 'C', 'kcc[-2:-1]': 'ខ្', 'kcc[-2:0]': 'ខ្វ', 'kcc[-3]': 'ៅ', 'kcc[-3]t': 'W', 'kcc[-3:0]': 'ៅខ្វ', 'kcc[-3:-1]': 'ៅខ្', 'kcc[-3:-2]': 'ៅខ', 'kcc[+1]': 'ះ', 'kcc[+1]t': 'W', 'kcc[+1:0]': 'វះ', 'ns+1': False, 'kcc[+2]': '1', 'kcc[+2]t': 'NS', 'kcc[+1:+2]': 'ះ1', 'kcc[0:+2]': 'វះ1', 'ns+2': True, 'kcc[+3]': '0', 'kcc[+3]t': 'NS', 'kcc[+2:+3]': '10', 'kcc[+1:+3]': 'ះ10', 'kcc[0:+3]': 'វះ10'}, {'kcc': 'ះ', 't': 'W', 'ns': False, 'kcc[-1]': 'វ', 'kcc[-1]t': 'C', 'kcc[-1:0]': 'វះ', 'ns-1': False, 'kcc[-2]': '្', 'kcc[-2]t': 'S', 'kcc[-2:-1]': '្វ', 'kcc[-2:0]': '្វះ', 'kcc[-3]': 'ខ', 'kcc[-3]t': 'C', 'kcc[-3:0]': 'ខ្វះ', 'kcc[-3:-1]': 'ខ្វ', 'kcc[-3:-2]': 'ខ្', 'kcc[+1]': '1', 'kcc[+1]t': 'NS', 'kcc[+1:0]': 'ះ1', 'ns+1': True, 'kcc[+2]': '0', 'kcc[+2]t': 'NS', 'kcc[+1:+2]': '10', 'kcc[0:+2]': 'ះ10', 'ns+2': True, 'kcc[+3]': '5', 'kcc[+3]t': 'NS', 'kcc[+2:+3]': '05', 'kcc[+1:+3]': '105', 'kcc[0:+3]': 'ះ105'}, {'kcc': '1', 't': 'NS', 'ns': True, 'kcc[-1]': 'ះ', 'kcc[-1]t': 'W', 'kcc[-1:0]': 'ះ1', 'ns-1': False, 'kcc[-2]': 'វ', 'kcc[-2]t': 'C', 'kcc[-2:-1]': 'វះ', 'kcc[-2:0]': 'វះ1', 'kcc[-3]': '្', 'kcc[-3]t': 'S', 'kcc[-3:0]': '្វះ1', 'kcc[-3:-1]': '្វះ', 'kcc[-3:-2]': '្វ', 'kcc[+1]': '0', 'kcc[+1]t': 'NS', 'kcc[+1:0]': '10', 'ns+1': True, 'kcc[+2]': '5', 'kcc[+2]t': 'NS', 'kcc[+1:+2]': '05', 'kcc[0:+2]': '105', 'ns+2': True, 'kcc[+3]': 'ព', 'kcc[+3]t': 'C', 'kcc[+2:+3]': '5ព', 'kcc[+1:+3]': '05ព', 'kcc[0:+3]': '105ព'}, {'kcc': '0', 't': 'NS', 'ns': True, 'kcc[-1]': '1', 'kcc[-1]t': 'NS', 'kcc[-1:0]': '10', 'ns-1': True, 'kcc[-2]': 'ះ', 'kcc[-2]t': 'W', 'kcc[-2:-1]': 'ះ1', 'kcc[-2:0]': 'ះ10', 'kcc[-3]': 'វ', 'kcc[-3]t': 'C', 'kcc[-3:0]': 'វះ10', 'kcc[-3:-1]': 'វះ1', 'kcc[-3:-2]': 'វះ', 'kcc[+1]': '5', 'kcc[+1]t': 'NS', 'kcc[+1:0]': '05', 'ns+1': True, 'kcc[+2]': 'ព', 'kcc[+2]t': 'C', 'kcc[+1:+2]': '5ព', 'kcc[0:+2]': '05ព', 'ns+2': False, 'kcc[+3]': 'ិ', 'kcc[+3]t': 'W', 'kcc[+2:+3]': 'ពិ', 'kcc[+1:+3]': '5ពិ', 'kcc[0:+3]': '05ពិ'}, {'kcc': '5', 't': 'NS', 'ns': True, 'kcc[-1]': '0', 'kcc[-1]t': 'NS', 'kcc[-1:0]': '05', 'ns-1': True, 'kcc[-2]': '1', 'kcc[-2]t': 'NS', 'kcc[-2:-1]': '10', 'kcc[-2:0]': '105', 'kcc[-3]': 'ះ', 'kcc[-3]t': 'W', 'kcc[-3:0]': 'ះ105', 'kcc[-3:-1]': 'ះ10', 'kcc[-3:-2]': 'ះ1', 'kcc[+1]': 'ព', 'kcc[+1]t': 'C', 'kcc[+1:0]': '5ព', 'ns+1': False, 'kcc[+2]': 'ិ', 'kcc[+2]t': 'W', 'kcc[+1:+2]': 'ពិ', 'kcc[0:+2]': '5ពិ', 'ns+2': False, 'kcc[+3]': 'ន', 'kcc[+3]t': 'C', 'kcc[+2:+3]': 'ិន', 'kcc[+1:+3]': 'ពិន', 'kcc[0:+3]': '5ពិន'}, {'kcc': 'ព', 't': 'C', 'ns': False, 'kcc[-1]': '5', 'kcc[-1]t': 'NS', 'kcc[-1:0]': '5ព', 'ns-1': True, 'kcc[-2]': '0', 'kcc[-2]t': 'NS', 'kcc[-2:-1]': '05', 'kcc[-2:0]': '05ព', 'kcc[-3]': '1', 'kcc[-3]t': 'NS', 'kcc[-3:0]': '105ព', 'kcc[-3:-1]': '105', 'kcc[-3:-2]': '10', 'kcc[+1]': 'ិ', 'kcc[+1]t': 'W', 'kcc[+1:0]': 'ពិ', 'ns+1': False, 'kcc[+2]': 'ន', 'kcc[+2]t': 'C', 'kcc[+1:+2]': 'ិន', 'kcc[0:+2]': 'ពិន', 'ns+2': False, 'kcc[+3]': '្', 'kcc[+3]t': 'S', 'kcc[+2:+3]': 'ន្', 'kcc[+1:+3]': 'ិន្', 'kcc[0:+3]': 'ពិន្'}, {'kcc': 'ិ', 't': 'W', 'ns': False, 'kcc[-1]': 'ព', 'kcc[-1]t': 'C', 'kcc[-1:0]': 'ពិ', 'ns-1': False, 'kcc[-2]': '5', 'kcc[-2]t': 'NS', 'kcc[-2:-1]': '5ព', 'kcc[-2:0]': '5ពិ', 'kcc[-3]': '0', 'kcc[-3]t': 'NS', 'kcc[-3:0]': '05ពិ', 'kcc[-3:-1]': '05ព', 'kcc[-3:-2]': '05', 'kcc[+1]': 'ន', 'kcc[+1]t': 'C', 'kcc[+1:0]': 'ិន', 'ns+1': False, 'kcc[+2]': '្', 'kcc[+2]t': 'S', 'kcc[+1:+2]': 'ន្', 'kcc[0:+2]': 'ិន្', 'ns+2': False, 'kcc[+3]': 'ទ', 'kcc[+3]t': 'C', 'kcc[+2:+3]': '្ទ', 'kcc[+1:+3]': 'ន្ទ', 'kcc[0:+3]': 'ិន្ទ'}, {'kcc': 'ន', 't': 'C', 'ns': False, 'kcc[-1]': 'ិ', 'kcc[-1]t': 'W', 'kcc[-1:0]': 'ិន', 'ns-1': False, 'kcc[-2]': 'ព', 'kcc[-2]t': 'C', 'kcc[-2:-1]': 'ពិ', 'kcc[-2:0]': 'ពិន', 'kcc[-3]': '5', 'kcc[-3]t': 'NS', 'kcc[-3:0]': '5ពិន', 'kcc[-3:-1]': '5ពិ', 'kcc[-3:-2]': '5ព', 'kcc[+1]': '្', 'kcc[+1]t': 'S', 'kcc[+1:0]': 'ន្', 'ns+1': False, 'kcc[+2]': 'ទ', 'kcc[+2]t': 'C', 'kcc[+1:+2]': '្ទ', 'kcc[0:+2]': 'ន្ទ', 'ns+2': False, 'kcc[+3]': 'ុ', 'kcc[+3]t': 'W', 'kcc[+2:+3]': 'ទុ', 'kcc[+1:+3]': '្ទុ', 'kcc[0:+3]': 'ន្ទុ'}, {'kcc': '្', 't': 'S', 'ns': False, 'kcc[-1]': 'ន', 'kcc[-1]t': 'C', 'kcc[-1:0]': 'ន្', 'ns-1': False, 'kcc[-2]': 'ិ', 'kcc[-2]t': 'W', 'kcc[-2:-1]': 'ិន', 'kcc[-2:0]': 'ិន្', 'kcc[-3]': 'ព', 'kcc[-3]t': 'C', 'kcc[-3:0]': 'ពិន្', 'kcc[-3:-1]': 'ពិន', 'kcc[-3:-2]': 'ពិ', 'kcc[+1]': 'ទ', 'kcc[+1]t': 'C', 'kcc[+1:0]': '្ទ', 'ns+1': False, 'kcc[+2]': 'ុ', 'kcc[+2]t': 'W', 'kcc[+1:+2]': 'ទុ', 'kcc[0:+2]': '្ទុ', 'ns+2': False, 'kcc[+3]': 'ដ', 'kcc[+3]t': 'C', 'kcc[+2:+3]': 'ុដ', 'kcc[+1:+3]': 'ទុដ', 'kcc[0:+3]': '្ទុដ'}, {'kcc': 'ទ', 't': 'C', 'ns': False, 'kcc[-1]': '្', 'kcc[-1]t': 'S', 'kcc[-1:0]': '្ទ', 'ns-1': False, 'kcc[-2]': 'ន', 'kcc[-2]t': 'C', 'kcc[-2:-1]': 'ន្', 'kcc[-2:0]': 'ន្ទ', 'kcc[-3]': 'ិ', 'kcc[-3]t': 'W', 'kcc[-3:0]': 'ិន្ទ', 'kcc[-3:-1]': 'ិន្', 'kcc[-3:-2]': 'ិន', 'kcc[+1]': 'ុ', 'kcc[+1]t': 'W', 'kcc[+1:0]': 'ទុ', 'ns+1': False, 'kcc[+2]': 'ដ', 'kcc[+2]t': 'C', 'kcc[+1:+2]': 'ុដ', 'kcc[0:+2]': 'ទុដ', 'ns+2': False, 'kcc[+3]': 'ែ', 'kcc[+3]t': 'W', 'kcc[+2:+3]': 'ដែ', 'kcc[+1:+3]': 'ុដែ', 'kcc[0:+3]': 'ទុដែ'}, {'kcc': 'ុ', 't': 'W', 'ns': False, 'kcc[-1]': 'ទ', 'kcc[-1]t': 'C', 'kcc[-1:0]': 'ទុ', 'ns-1': False, 'kcc[-2]': '្', 'kcc[-2]t': 'S', 'kcc[-2:-1]': '្ទ', 'kcc[-2:0]': '្ទុ', 'kcc[-3]': 'ន', 'kcc[-3]t': 'C', 'kcc[-3:0]': 'ន្ទុ', 'kcc[-3:-1]': 'ន្ទ', 'kcc[-3:-2]': 'ន្', 'kcc[+1]': 'ដ', 'kcc[+1]t': 'C', 'kcc[+1:0]': 'ុដ', 'ns+1': False, 'kcc[+2]': 'ែ', 'kcc[+2]t': 'W', 'kcc[+1:+2]': 'ដែ', 'kcc[0:+2]': 'ុដែ', 'ns+2': False, 'kcc[+3]': 'ល', 'kcc[+3]t': 'C', 'kcc[+2:+3]': 'ែល', 'kcc[+1:+3]': 'ដែល', 'kcc[0:+3]': 'ុដែល'}, {'kcc': 'ដ', 't': 'C', 'ns': False, 'kcc[-1]': 'ុ', 'kcc[-1]t': 'W', 'kcc[-1:0]': 'ុដ', 'ns-1': False, 'kcc[-2]': 'ទ', 'kcc[-2]t': 'C', 'kcc[-2:-1]': 'ទុ', 'kcc[-2:0]': 'ទុដ', 'kcc[-3]': '្', 'kcc[-3]t': 'S', 'kcc[-3:0]': '្ទុដ', 'kcc[-3:-1]': '្ទុ', 'kcc[-3:-2]': '្ទ', 'kcc[+1]': 'ែ', 'kcc[+1]t': 'W', 'kcc[+1:0]': 'ដែ', 'ns+1': False, 'kcc[+2]': 'ល', 'kcc[+2]t': 'C', 'kcc[+1:+2]': 'ែល', 'kcc[0:+2]': 'ដែល', 'ns+2': False, 'kcc[+3]': 'ត', 'kcc[+3]t': 'C', 'kcc[+2:+3]': 'លត', 'kcc[+1:+3]': 'ែលត', 'kcc[0:+3]': 'ដែលត'}, {'kcc': 'ែ', 't': 'W', 'ns': False, 'kcc[-1]': 'ដ', 'kcc[-1]t': 'C', 'kcc[-1:0]': 'ដែ', 'ns-1': False, 'kcc[-2]': 'ុ', 'kcc[-2]t': 'W', 'kcc[-2:-1]': 'ុដ', 'kcc[-2:0]': 'ុដែ', 'kcc[-3]': 'ទ', 'kcc[-3]t': 'C', 'kcc[-3:0]': 'ទុដែ', 'kcc[-3:-1]': 'ទុដ', 'kcc[-3:-2]': 'ទុ', 'kcc[+1]': 'ល', 'kcc[+1]t': 'C', 'kcc[+1:0]': 'ែល', 'ns+1': False, 'kcc[+2]': 'ត', 'kcc[+2]t': 'C', 'kcc[+1:+2]': 'លត', 'kcc[0:+2]': 'ែលត', 'ns+2': False, 'kcc[+3]': '្', 'kcc[+3]t': 'S', 'kcc[+2:+3]': 'ត្', 'kcc[+1:+3]': 'លត្', 'kcc[0:+3]': 'ែលត្'}, {'kcc': 'ល', 't': 'C', 'ns': False, 'kcc[-1]': 'ែ', 'kcc[-1]t': 'W', 'kcc[-1:0]': 'ែល', 'ns-1': False, 'kcc[-2]': 'ដ', 'kcc[-2]t': 'C', 'kcc[-2:-1]': 'ដែ', 'kcc[-2:0]': 'ដែល', 'kcc[-3]': 'ុ', 'kcc[-3]t': 'W', 'kcc[-3:0]': 'ុដែល', 'kcc[-3:-1]': 'ុដែ', 'kcc[-3:-2]': 'ុដ', 'kcc[+1]': 'ត', 'kcc[+1]t': 'C', 'kcc[+1:0]': 'លត', 'ns+1': False, 'kcc[+2]': '្', 'kcc[+2]t': 'S', 'kcc[+1:+2]': 'ត្', 'kcc[0:+2]': 'លត្', 'ns+2': False, 'kcc[+3]': 'រ', 'kcc[+3]t': 'C', 'kcc[+2:+3]': '្រ', 'kcc[+1:+3]': 'ត្រ', 'kcc[0:+3]': 'លត្រ'}, {'kcc': 'ត', 't': 'C', 'ns': False, 'kcc[-1]': 'ល', 'kcc[-1]t': 'C', 'kcc[-1:0]': 'លត', 'ns-1': False, 'kcc[-2]': 'ែ', 'kcc[-2]t': 'W', 'kcc[-2:-1]': 'ែល', 'kcc[-2:0]': 'ែលត', 'kcc[-3]': 'ដ', 'kcc[-3]t': 'C', 'kcc[-3:0]': 'ដែលត', 'kcc[-3:-1]': 'ដែល', 'kcc[-3:-2]': 'ដែ', 'kcc[+1]': '្', 'kcc[+1]t': 'S', 'kcc[+1:0]': 'ត្', 'ns+1': False, 'kcc[+2]': 'រ', 'kcc[+2]t': 'C', 'kcc[+1:+2]': '្រ', 'kcc[0:+2]': 'ត្រ', 'ns+2': False, 'kcc[+3]': 'ូ', 'kcc[+3]t': 'W', 'kcc[+2:+3]': 'រូ', 'kcc[+1:+3]': '្រូ', 'kcc[0:+3]': 'ត្រូ'}, {'kcc': '្', 't': 'S', 'ns': False, 'kcc[-1]': 'ត', 'kcc[-1]t': 'C', 'kcc[-1:0]': 'ត្', 'ns-1': False, 'kcc[-2]': 'ល', 'kcc[-2]t': 'C', 'kcc[-2:-1]': 'លត', 'kcc[-2:0]': 'លត្', 'kcc[-3]': 'ែ', 'kcc[-3]t': 'W', 'kcc[-3:0]': 'ែលត្', 'kcc[-3:-1]': 'ែលត', 'kcc[-3:-2]': 'ែល', 'kcc[+1]': 'រ', 'kcc[+1]t': 'C', 'kcc[+1:0]': '្រ', 'ns+1': False, 'kcc[+2]': 'ូ', 'kcc[+2]t': 'W', 'kcc[+1:+2]': 'រូ', 'kcc[0:+2]': '្រូ', 'ns+2': False, 'kcc[+3]': 'វ', 'kcc[+3]t': 'C', 'kcc[+2:+3]': 'ូវ', 'kcc[+1:+3]': 'រូវ', 'kcc[0:+3]': '្រូវ'}, {'kcc': 'រ', 't': 'C', 'ns': False, 'kcc[-1]': '្', 'kcc[-1]t': 'S', 'kcc[-1:0]': '្រ', 'ns-1': False, 'kcc[-2]': 'ត', 'kcc[-2]t': 'C', 'kcc[-2:-1]': 'ត្', 'kcc[-2:0]': 'ត្រ', 'kcc[-3]': 'ល', 'kcc[-3]t': 'C', 'kcc[-3:0]': 'លត្រ', 'kcc[-3:-1]': 'លត្', 'kcc[-3:-2]': 'លត', 'kcc[+1]': 'ូ', 'kcc[+1]t': 'W', 'kcc[+1:0]': 'រូ', 'ns+1': False, 'kcc[+2]': 'វ', 'kcc[+2]t': 'C', 'kcc[+1:+2]': 'ូវ', 'kcc[0:+2]': 'រូវ', 'ns+2': False, 'kcc[+3]': 'ស', 'kcc[+3]t': 'C', 'kcc[+2:+3]': 'វស', 'kcc[+1:+3]': 'ូវស', 'kcc[0:+3]': 'រូវស'}, {'kcc': 'ូ', 't': 'W', 'ns': False, 'kcc[-1]': 'រ', 'kcc[-1]t': 'C', 'kcc[-1:0]': 'រូ', 'ns-1': False, 'kcc[-2]': '្', 'kcc[-2]t': 'S', 'kcc[-2:-1]': '្រ', 'kcc[-2:0]': '្រូ', 'kcc[-3]': 'ត', 'kcc[-3]t': 'C', 'kcc[-3:0]': 'ត្រូ', 'kcc[-3:-1]': 'ត្រ', 'kcc[-3:-2]': 'ត្', 'kcc[+1]': 'វ', 'kcc[+1]t': 'C', 'kcc[+1:0]': 'ូវ', 'ns+1': False, 'kcc[+2]': 'ស', 'kcc[+2]t': 'C', 'kcc[+1:+2]': 'វស', 'kcc[0:+2]': 'ូវស', 'ns+2': False, 'kcc[+3]': '្', 'kcc[+3]t': 'S', 'kcc[+2:+3]': 'ស្', 'kcc[+1:+3]': 'វស្', 'kcc[0:+3]': 'ូវស្'}, {'kcc': 'វ', 't': 'C', 'ns': False, 'kcc[-1]': 'ូ', 'kcc[-1]t': 'W', 'kcc[-1:0]': 'ូវ', 'ns-1': False, 'kcc[-2]': 'រ', 'kcc[-2]t': 'C', 'kcc[-2:-1]': 'រូ', 'kcc[-2:0]': 'រូវ', 'kcc[-3]': '្', 'kcc[-3]t': 'S', 'kcc[-3:0]': '្រូវ', 'kcc[-3:-1]': '្រូ', 'kcc[-3:-2]': '្រ', 'kcc[+1]': 'ស', 'kcc[+1]t': 'C', 'kcc[+1:0]': 'វស', 'ns+1': False, 'kcc[+2]': '្', 'kcc[+2]t': 'S', 'kcc[+1:+2]': 'ស្', 'kcc[0:+2]': 'វស្', 'ns+2': False, 'kcc[+3]': 'ថ', 'kcc[+3]t': 'C', 'kcc[+2:+3]': '្ថ', 'kcc[+1:+3]': 'ស្ថ', 'kcc[0:+3]': 'វស្ថ'}, {'kcc': 'ស', 't': 'C', 'ns': False, 'kcc[-1]': 'វ', 'kcc[-1]t': 'C', 'kcc[-1:0]': 'វស', 'ns-1': False, 'kcc[-2]': 'ូ', 'kcc[-2]t': 'W', 'kcc[-2:-1]': 'ូវ', 'kcc[-2:0]': 'ូវស', 'kcc[-3]': 'រ', 'kcc[-3]t': 'C', 'kcc[-3:0]': 'រូវស', 'kcc[-3:-1]': 'រូវ', 'kcc[-3:-2]': 'រូ', 'kcc[+1]': '្', 'kcc[+1]t': 'S', 'kcc[+1:0]': 'ស្', 'ns+1': False, 'kcc[+2]': 'ថ', 'kcc[+2]t': 'C', 'kcc[+1:+2]': '្ថ', 'kcc[0:+2]': 'ស្ថ', 'ns+2': False, 'kcc[+3]': 'ិ', 'kcc[+3]t': 'W', 'kcc[+2:+3]': 'ថិ', 'kcc[+1:+3]': '្ថិ', 'kcc[0:+3]': 'ស្ថិ'}, {'kcc': '្', 't': 'S', 'ns': False, 'kcc[-1]': 'ស', 'kcc[-1]t': 'C', 'kcc[-1:0]': 'ស្', 'ns-1': False, 'kcc[-2]': 'វ', 'kcc[-2]t': 'C', 'kcc[-2:-1]': 'វស', 'kcc[-2:0]': 'វស្', 'kcc[-3]': 'ូ', 'kcc[-3]t': 'W', 'kcc[-3:0]': 'ូវស្', 'kcc[-3:-1]': 'ូវស', 'kcc[-3:-2]': 'ូវ', 'kcc[+1]': 'ថ', 'kcc[+1]t': 'C', 'kcc[+1:0]': '្ថ', 'ns+1': False, 'kcc[+2]': 'ិ', 'kcc[+2]t': 'W', 'kcc[+1:+2]': 'ថិ', 'kcc[0:+2]': '្ថិ', 'ns+2': False, 'kcc[+3]': 'ត', 'kcc[+3]t': 'C', 'kcc[+2:+3]': 'ិត', 'kcc[+1:+3]': 'ថិត', 'kcc[0:+3]': '្ថិត'}, {'kcc': 'ថ', 't': 'C', 'ns': False, 'kcc[-1]': '្', 'kcc[-1]t': 'S', 'kcc[-1:0]': '្ថ', 'ns-1': False, 'kcc[-2]': 'ស', 'kcc[-2]t': 'C', 'kcc[-2:-1]': 'ស្', 'kcc[-2:0]': 'ស្ថ', 'kcc[-3]': 'វ', 'kcc[-3]t': 'C', 'kcc[-3:0]': 'វស្ថ', 'kcc[-3:-1]': 'វស្', 'kcc[-3:-2]': 'វស', 'kcc[+1]': 'ិ', 'kcc[+1]t': 'W', 'kcc[+1:0]': 'ថិ', 'ns+1': False, 'kcc[+2]': 'ត', 'kcc[+2]t': 'C', 'kcc[+1:+2]': 'ិត', 'kcc[0:+2]': 'ថិត', 'ns+2': False, 'kcc[+3]': 'ច', 'kcc[+3]t': 'C', 'kcc[+2:+3]': 'តច', 'kcc[+1:+3]': 'ិតច', 'kcc[0:+3]': 'ថិតច'}, {'kcc': 'ិ', 't': 'W', 'ns': False, 'kcc[-1]': 'ថ', 'kcc[-1]t': 'C', 'kcc[-1:0]': 'ថិ', 'ns-1': False, 'kcc[-2]': '្', 'kcc[-2]t': 'S', 'kcc[-2:-1]': '្ថ', 'kcc[-2:0]': '្ថិ', 'kcc[-3]': 'ស', 'kcc[-3]t': 'C', 'kcc[-3:0]': 'ស្ថិ', 'kcc[-3:-1]': 'ស្ថ', 'kcc[-3:-2]': 'ស្', 'kcc[+1]': 'ត', 'kcc[+1]t': 'C', 'kcc[+1:0]': 'ិត', 'ns+1': False, 'kcc[+2]': 'ច', 'kcc[+2]t': 'C', 'kcc[+1:+2]': 'តច', 'kcc[0:+2]': 'ិតច', 'ns+2': False, 'kcc[+3]': 'ំ', 'kcc[+3]t': 'W', 'kcc[+2:+3]': 'ចំ', 'kcc[+1:+3]': 'តចំ', 'kcc[0:+3]': 'ិតចំ'}, {'kcc': 'ត', 't': 'C', 'ns': False, 'kcc[-1]': 'ិ', 'kcc[-1]t': 'W', 'kcc[-1:0]': 'ិត', 'ns-1': False, 'kcc[-2]': 'ថ', 'kcc[-2]t': 'C', 'kcc[-2:-1]': 'ថិ', 'kcc[-2:0]': 'ថិត', 'kcc[-3]': '្', 'kcc[-3]t': 'S', 'kcc[-3:0]': '្ថិត', 'kcc[-3:-1]': '្ថិ', 'kcc[-3:-2]': '្ថ', 'kcc[+1]': 'ច', 'kcc[+1]t': 'C', 'kcc[+1:0]': 'តច', 'ns+1': False, 'kcc[+2]': 'ំ', 'kcc[+2]t': 'W', 'kcc[+1:+2]': 'ចំ', 'kcc[0:+2]': 'តចំ', 'ns+2': False, 'kcc[+3]': 'ណ', 'kcc[+3]t': 'C', 'kcc[+2:+3]': 'ំណ', 'kcc[+1:+3]': 'ចំណ', 'kcc[0:+3]': 'តចំណ'}, {'kcc': 'ច', 't': 'C', 'ns': False, 'kcc[-1]': 'ត', 'kcc[-1]t': 'C', 'kcc[-1:0]': 'តច', 'ns-1': False, 'kcc[-2]': 'ិ', 'kcc[-2]t': 'W', 'kcc[-2:-1]': 'ិត', 'kcc[-2:0]': 'ិតច', 'kcc[-3]': 'ថ', 'kcc[-3]t': 'C', 'kcc[-3:0]': 'ថិតច', 'kcc[-3:-1]': 'ថិត', 'kcc[-3:-2]': 'ថិ', 'kcc[+1]': 'ំ', 'kcc[+1]t': 'W', 'kcc[+1:0]': 'ចំ', 'ns+1': False, 'kcc[+2]': 'ណ', 'kcc[+2]t': 'C', 'kcc[+1:+2]': 'ំណ', 'kcc[0:+2]': 'ចំណ', 'ns+2': False, 'kcc[+3]': 'ា', 'kcc[+3]t': 'W', 'kcc[+2:+3]': 'ណា', 'kcc[+1:+3]': 'ំណា', 'kcc[0:+3]': 'ចំណា'}, {'kcc': 'ំ', 't': 'W', 'ns': False, 'kcc[-1]': 'ច', 'kcc[-1]t': 'C', 'kcc[-1:0]': 'ចំ', 'ns-1': False, 'kcc[-2]': 'ត', 'kcc[-2]t': 'C', 'kcc[-2:-1]': 'តច', 'kcc[-2:0]': 'តចំ', 'kcc[-3]': 'ិ', 'kcc[-3]t': 'W', 'kcc[-3:0]': 'ិតចំ', 'kcc[-3:-1]': 'ិតច', 'kcc[-3:-2]': 'ិត', 'kcc[+1]': 'ណ', 'kcc[+1]t': 'C', 'kcc[+1:0]': 'ំណ', 'ns+1': False, 'kcc[+2]': 'ា', 'kcc[+2]t': 'W', 'kcc[+1:+2]': 'ណា', 'kcc[0:+2]': 'ំណា', 'ns+2': False, 'kcc[+3]': 'ត', 'kcc[+3]t': 'C', 'kcc[+2:+3]': 'ាត', 'kcc[+1:+3]': 'ណាត', 'kcc[0:+3]': 'ំណាត'}, {'kcc': 'ណ', 't': 'C', 'ns': False, 'kcc[-1]': 'ំ', 'kcc[-1]t': 'W', 'kcc[-1:0]': 'ំណ', 'ns-1': False, 'kcc[-2]': 'ច', 'kcc[-2]t': 'C', 'kcc[-2:-1]': 'ចំ', 'kcc[-2:0]': 'ចំណ', 'kcc[-3]': 'ត', 'kcc[-3]t': 'C', 'kcc[-3:0]': 'តចំណ', 'kcc[-3:-1]': 'តចំ', 'kcc[-3:-2]': 'តច', 'kcc[+1]': 'ា', 'kcc[+1]t': 'W', 'kcc[+1:0]': 'ណា', 'ns+1': False, 'kcc[+2]': 'ត', 'kcc[+2]t': 'C', 'kcc[+1:+2]': 'ាត', 'kcc[0:+2]': 'ណាត', 'ns+2': False, 'kcc[+3]': '់', 'kcc[+3]t': 'D', 'kcc[+2:+3]': 'ត់', 'kcc[+1:+3]': 'ាត់', 'kcc[0:+3]': 'ណាត់'}, {'kcc': 'ា', 't': 'W', 'ns': False, 'kcc[-1]': 'ណ', 'kcc[-1]t': 'C', 'kcc[-1:0]': 'ណា', 'ns-1': False, 'kcc[-2]': 'ំ', 'kcc[-2]t': 'W', 'kcc[-2:-1]': 'ំណ', 'kcc[-2:0]': 'ំណា', 'kcc[-3]': 'ច', 'kcc[-3]t': 'C', 'kcc[-3:0]': 'ចំណា', 'kcc[-3:-1]': 'ចំណ', 'kcc[-3:-2]': 'ចំ', 'kcc[+1]': 'ត', 'kcc[+1]t': 'C', 'kcc[+1:0]': 'ាត', 'ns+1': False, 'kcc[+2]': '់', 'kcc[+2]t': 'D', 'kcc[+1:+2]': 'ត់', 'kcc[0:+2]': 'ាត់', 'ns+2': False, 'kcc[+3]': 'ថ', 'kcc[+3]t': 'C', 'kcc[+2:+3]': '់ថ', 'kcc[+1:+3]': 'ត់ថ', 'kcc[0:+3]': 'ាត់ថ'}, {'kcc': 'ត', 't': 'C', 'ns': False, 'kcc[-1]': 'ា', 'kcc[-1]t': 'W', 'kcc[-1:0]': 'ាត', 'ns-1': False, 'kcc[-2]': 'ណ', 'kcc[-2]t': 'C', 'kcc[-2:-1]': 'ណា', 'kcc[-2:0]': 'ណាត', 'kcc[-3]': 'ំ', 'kcc[-3]t': 'W', 'kcc[-3:0]': 'ំណាត', 'kcc[-3:-1]': 'ំណា', 'kcc[-3:-2]': 'ំណ', 'kcc[+1]': '់', 'kcc[+1]t': 'D', 'kcc[+1:0]': 'ត់', 'ns+1': False, 'kcc[+2]': 'ថ', 'kcc[+2]t': 'C', 'kcc[+1:+2]': '់ថ', 'kcc[0:+2]': 'ត់ថ', 'ns+2': False, 'kcc[+3]': '្', 'kcc[+3]t': 'S', 'kcc[+2:+3]': 'ថ្', 'kcc[+1:+3]': '់ថ្', 'kcc[0:+3]': 'ត់ថ្'}, {'kcc': '់', 't': 'D', 'ns': False, 'kcc[-1]': 'ត', 'kcc[-1]t': 'C', 'kcc[-1:0]': 'ត់', 'ns-1': False, 'kcc[-2]': 'ា', 'kcc[-2]t': 'W', 'kcc[-2:-1]': 'ាត', 'kcc[-2:0]': 'ាត់', 'kcc[-3]': 'ណ', 'kcc[-3]t': 'C', 'kcc[-3:0]': 'ណាត់', 'kcc[-3:-1]': 'ណាត', 'kcc[-3:-2]': 'ណា', 'kcc[+1]': 'ថ', 'kcc[+1]t': 'C', 'kcc[+1:0]': '់ថ', 'ns+1': False, 'kcc[+2]': '្', 'kcc[+2]t': 'S', 'kcc[+1:+2]': 'ថ្', 'kcc[0:+2]': '់ថ្', 'ns+2': False, 'kcc[+3]': 'ន', 'kcc[+3]t': 'C', 'kcc[+2:+3]': '្ន', 'kcc[+1:+3]': 'ថ្ន', 'kcc[0:+3]': '់ថ្ន'}, {'kcc': 'ថ', 't': 'C', 'ns': False, 'kcc[-1]': '់', 'kcc[-1]t': 'D', 'kcc[-1:0]': '់ថ', 'ns-1': False, 'kcc[-2]': 'ត', 'kcc[-2]t': 'C', 'kcc[-2:-1]': 'ត់', 'kcc[-2:0]': 'ត់ថ', 'kcc[-3]': 'ា', 'kcc[-3]t': 'W', 'kcc[-3:0]': 'ាត់ថ', 'kcc[-3:-1]': 'ាត់', 'kcc[-3:-2]': 'ាត', 'kcc[+1]': '្', 'kcc[+1]t': 'S', 'kcc[+1:0]': 'ថ្', 'ns+1': False, 'kcc[+2]': 'ន', 'kcc[+2]t': 'C', 'kcc[+1:+2]': '្ន', 'kcc[0:+2]': 'ថ្ន', 'ns+2': False, 'kcc[+3]': 'ា', 'kcc[+3]t': 'W', 'kcc[+2:+3]': 'នា', 'kcc[+1:+3]': '្នា', 'kcc[0:+3]': 'ថ្នា'}, {'kcc': '្', 't': 'S', 'ns': False, 'kcc[-1]': 'ថ', 'kcc[-1]t': 'C', 'kcc[-1:0]': 'ថ្', 'ns-1': False, 'kcc[-2]': '់', 'kcc[-2]t': 'D', 'kcc[-2:-1]': '់ថ', 'kcc[-2:0]': '់ថ្', 'kcc[-3]': 'ត', 'kcc[-3]t': 'C', 'kcc[-3:0]': 'ត់ថ្', 'kcc[-3:-1]': 'ត់ថ', 'kcc[-3:-2]': 'ត់', 'kcc[+1]': 'ន', 'kcc[+1]t': 'C', 'kcc[+1:0]': '្ន', 'ns+1': False, 'kcc[+2]': 'ា', 'kcc[+2]t': 'W', 'kcc[+1:+2]': 'នា', 'kcc[0:+2]': '្នា', 'ns+2': False, 'kcc[+3]': 'ក', 'kcc[+3]t': 'C', 'kcc[+2:+3]': 'ាក', 'kcc[+1:+3]': 'នាក', 'kcc[0:+3]': '្នាក'}, {'kcc': 'ន', 't': 'C', 'ns': False, 'kcc[-1]': '្', 'kcc[-1]t': 'S', 'kcc[-1:0]': '្ន', 'ns-1': False, 'kcc[-2]': 'ថ', 'kcc[-2]t': 'C', 'kcc[-2:-1]': 'ថ្', 'kcc[-2:0]': 'ថ្ន', 'kcc[-3]': '់', 'kcc[-3]t': 'D', 'kcc[-3:0]': '់ថ្ន', 'kcc[-3:-1]': '់ថ្', 'kcc[-3:-2]': '់ថ', 'kcc[+1]': 'ា', 'kcc[+1]t': 'W', 'kcc[+1:0]': 'នា', 'ns+1': False, 'kcc[+2]': 'ក', 'kcc[+2]t': 'C', 'kcc[+1:+2]': 'ាក', 'kcc[0:+2]': 'នាក', 'ns+2': False, 'kcc[+3]': 'ទ', 'kcc[+3]t': 'C', 'kcc[+2:+3]': 'កទ', 'kcc[+1:+3]': 'ាកទ', 'kcc[0:+3]': 'នាកទ'}, {'kcc': 'ា', 't': 'W', 'ns': False, 'kcc[-1]': 'ន', 'kcc[-1]t': 'C', 'kcc[-1:0]': 'នា', 'ns-1': False, 'kcc[-2]': '្', 'kcc[-2]t': 'S', 'kcc[-2:-1]': '្ន', 'kcc[-2:0]': '្នា', 'kcc[-3]': 'ថ', 'kcc[-3]t': 'C', 'kcc[-3:0]': 'ថ្នា', 'kcc[-3:-1]': 'ថ្ន', 'kcc[-3:-2]': 'ថ្', 'kcc[+1]': 'ក', 'kcc[+1]t': 'C', 'kcc[+1:0]': 'ាក', 'ns+1': False, 'kcc[+2]': 'ទ', 'kcc[+2]t': 'C', 'kcc[+1:+2]': 'កទ', 'kcc[0:+2]': 'ាកទ', 'ns+2': False, 'kcc[+3]': 'ី', 'kcc[+3]t': 'W', 'kcc[+2:+3]': 'ទី', 'kcc[+1:+3]': 'កទី', 'kcc[0:+3]': 'ាកទី'}, {'kcc': 'ក', 't': 'C', 'ns': False, 'kcc[-1]': 'ា', 'kcc[-1]t': 'W', 'kcc[-1:0]': 'ាក', 'ns-1': False, 'kcc[-2]': 'ន', 'kcc[-2]t': 'C', 'kcc[-2:-1]': 'នា', 'kcc[-2:0]': 'នាក', 'kcc[-3]': '្', 'kcc[-3]t': 'S', 'kcc[-3:0]': '្នាក', 'kcc[-3:-1]': '្នា', 'kcc[-3:-2]': '្ន', 'kcc[+1]': 'ទ', 'kcc[+1]t': 'C', 'kcc[+1:0]': 'កទ', 'ns+1': False, 'kcc[+2]': 'ី', 'kcc[+2]t': 'W', 'kcc[+1:+2]': 'ទី', 'kcc[0:+2]': 'កទី', 'ns+2': False, 'kcc[+3]': 'ព', 'kcc[+3]t': 'C', 'kcc[+2:+3]': 'ីព', 'kcc[+1:+3]': 'ទីព', 'kcc[0:+3]': 'កទីព'}, {'kcc': 'ទ', 't': 'C', 'ns': False, 'kcc[-1]': 'ក', 'kcc[-1]t': 'C', 'kcc[-1:0]': 'កទ', 'ns-1': False, 'kcc[-2]': 'ា', 'kcc[-2]t': 'W', 'kcc[-2:-1]': 'ាក', 'kcc[-2:0]': 'ាកទ', 'kcc[-3]': 'ន', 'kcc[-3]t': 'C', 'kcc[-3:0]': 'នាកទ', 'kcc[-3:-1]': 'នាក', 'kcc[-3:-2]': 'នា', 'kcc[+1]': 'ី', 'kcc[+1]t': 'W', 'kcc[+1:0]': 'ទី', 'ns+1': False, 'kcc[+2]': 'ព', 'kcc[+2]t': 'C', 'kcc[+1:+2]': 'ីព', 'kcc[0:+2]': 'ទីព', 'ns+2': False, 'kcc[+3]': 'ី', 'kcc[+3]t': 'W', 'kcc[+2:+3]': 'ពី', 'kcc[+1:+3]': 'ីពី', 'kcc[0:+3]': 'ទីពី'}, {'kcc': 'ី', 't': 'W', 'ns': False, 'kcc[-1]': 'ទ', 'kcc[-1]t': 'C', 'kcc[-1:0]': 'ទី', 'ns-1': False, 'kcc[-2]': 'ក', 'kcc[-2]t': 'C', 'kcc[-2:-1]': 'កទ', 'kcc[-2:0]': 'កទី', 'kcc[-3]': 'ា', 'kcc[-3]t': 'W', 'kcc[-3:0]': 'ាកទី', 'kcc[-3:-1]': 'ាកទ', 'kcc[-3:-2]': 'ាក', 'kcc[+1]': 'ព', 'kcc[+1]t': 'C', 'kcc[+1:0]': 'ីព', 'ns+1': False, 'kcc[+2]': 'ី', 'kcc[+2]t': 'W', 'kcc[+1:+2]': 'ពី', 'kcc[0:+2]': 'ីពី', 'ns+2': False, 'kcc[+3]': 'រ', 'kcc[+3]t': 'C', 'kcc[+2:+3]': 'ីរ', 'kcc[+1:+3]': 'ពីរ', 'kcc[0:+3]': 'ីពីរ'}, {'kcc': 'ព', 't': 'C', 'ns': False, 'kcc[-1]': 'ី', 'kcc[-1]t': 'W', 'kcc[-1:0]': 'ីព', 'ns-1': False, 'kcc[-2]': 'ទ', 'kcc[-2]t': 'C', 'kcc[-2:-1]': 'ទី', 'kcc[-2:0]': 'ទីព', 'kcc[-3]': 'ក', 'kcc[-3]t': 'C', 'kcc[-3:0]': 'កទីព', 'kcc[-3:-1]': 'កទី', 'kcc[-3:-2]': 'កទ', 'kcc[+1]': 'ី', 'kcc[+1]t': 'W', 'kcc[+1:0]': 'ពី', 'ns+1': False, 'kcc[+2]': 'រ', 'kcc[+2]t': 'C', 'kcc[+1:+2]': 'ីរ', 'kcc[0:+2]': 'ពីរ', 'ns+2': False, 'kcc[+3]': '។', 'kcc[+3]t': 'NS', 'kcc[+2:+3]': 'រ។', 'kcc[+1:+3]': 'ីរ។', 'kcc[0:+3]': 'ពីរ។'}, {'kcc': 'ី', 't': 'W', 'ns': False, 'kcc[-1]': 'ព', 'kcc[-1]t': 'C', 'kcc[-1:0]': 'ពី', 'ns-1': False, 'kcc[-2]': 'ី', 'kcc[-2]t': 'W', 'kcc[-2:-1]': 'ីព', 'kcc[-2:0]': 'ីពី', 'kcc[-3]': 'ទ', 'kcc[-3]t': 'C', 'kcc[-3:0]': 'ទីពី', 'kcc[-3:-1]': 'ទីព', 'kcc[-3:-2]': 'ទី', 'kcc[+1]': 'រ', 'kcc[+1]t': 'C', 'kcc[+1:0]': 'ីរ', 'ns+1': False, 'kcc[+2]': '។', 'kcc[+2]t': 'NS', 'kcc[+1:+2]': 'រ។', 'kcc[0:+2]': 'ីរ។', 'ns+2': True}, {'kcc': 'រ', 't': 'C', 'ns': False, 'kcc[-1]': 'ី', 'kcc[-1]t': 'W', 'kcc[-1:0]': 'ីរ', 'ns-1': False, 'kcc[-2]': 'ព', 'kcc[-2]t': 'C', 'kcc[-2:-1]': 'ពី', 'kcc[-2:0]': 'ពីរ', 'kcc[-3]': 'ី', 'kcc[-3]t': 'W', 'kcc[-3:0]': 'ីពីរ', 'kcc[-3:-1]': 'ីពី', 'kcc[-3:-2]': 'ីព', 'kcc[+1]': '។', 'kcc[+1]t': 'NS', 'kcc[+1:0]': 'រ។', 'ns+1': True}, {'kcc': '។', 't': 'NS', 'ns': True, 'kcc[-1]': 'រ', 'kcc[-1]t': 'C', 'kcc[-1:0]': 'រ។', 'ns-1': False, 'kcc[-2]': 'ី', 'kcc[-2]t': 'W', 'kcc[-2:-1]': 'ីរ', 'kcc[-2:0]': 'ីរ។', 'kcc[-3]': 'ព', 'kcc[-3]t': 'C', 'kcc[-3:0]': 'ពីរ។', 'kcc[-3:-1]': 'ពីរ', 'kcc[-3:-2]': 'ពី', 'EOS': True}]\n",
            "len y_test_char: 200  data: ['1', '0', '0', '1', '0', '0', '0', '1', '0', '0', '0', '1', '0', '0', '1', '0', '0', '0', '0', '1', '0', '0', '0', '1', '0', '0', '1', '0', '0', '1', '0', '0', '0', '0', '0', '1', '1', '0', '0', '1', '0', '0', '0', '1', '1', '0', '0', '0', '0', '0', '1', '0', '1', '0', '0', '0', '0', '0', '0', '1', '1', '0', '0', '0', '1', '0', '0', '1', '0', '0', '0', '1', '0', '0', '1', '0', '0', '1', '0', '0', '1', '0', '0', '0', '0', '0', '0', '0', '0', '0', '1', '0', '0', '0', '1', '0', '0', '1', '0', '0', '0', '0', '0', '1', '0', '0', '1', '0', '0', '1', '0', '1', '0', '0', '0', '0', '0', '0', '1', '0', '0', '0', '1', '0', '1', '0', '0', '0', '1', '0', '0', '1', '0', '0', '0', '0', '0', '1', '0', '0', '1', '0', '0', '0', '0', '1', '0', '0', '0', '0', '1', '0', '0', '0', '0', '0', '1', '0', '0', '0', '0', '1', '0', '1', '0', '0', '1']\n"
          ],
          "name": "stdout"
        }
      ]
    },
    {
      "cell_type": "code",
      "metadata": {
        "id": "A1E4aEgJCj4F",
        "colab": {
          "base_uri": "https://localhost:8080/"
        },
        "outputId": "15410700-4a74-4ac8-d1a6-8776315c2cab"
      },
      "source": [
        "%%time\n",
        "crf_char = sklearn_crfsuite.CRF(\n",
        "    algorithm='lbfgs', #'l2sgd', #'lbfgs', \n",
        "    c1=0.015, # 0.1 not need for 'l2sgd'\n",
        "    c2=0.0037,\n",
        "    max_iterations=100, #100\n",
        "    all_possible_transitions=True,\n",
        "    verbose=False\n",
        ")\n",
        "crf_char.fit(X_train_char, y_train_char)\n",
        "\n",
        "result_char = crf_char.score(X_train_char, y_train_char)\n",
        "print(\"Performance on char training set:\", result_char)\n",
        "\n",
        "result_char = crf_char.score(X_test_char, y_test_char)\n",
        "print(\"Performance on char test set:\", result_char)\n",
        "\n",
        "#char\n",
        "#Performance on char training set: 0.998850666171569\n",
        "#Performance on char test set: 0.9850726241991211\n",
        "  \n",
        "#kcc comparison:\n",
        "#Performance on training set: 0.9998103513671942\n",
        "#Performance on test set: 0.9814875599028425\n",
        "#kcc with 180 iteration: get lower test perf\n",
        "#Performance on training set: 0.9998130014959881\n",
        "#Performance on test set: 0.979876483241968\n",
        "\n",
        "#5000 article\n",
        "#Performance on char training set: 0.9949143688716577\n",
        "#Performance on char test set: 0.9926261545965717\n",
        "# vs kcc\n",
        "#Performance on training set: 0.999446032688189\n",
        "#Performance on test set: 0.99588756247573\n",
        "#10/27 100 docs\n",
        "#Performance on char training set: 0.9988422786602187\n",
        "#Performance on char test set: 0.9887065201023942"
      ],
      "execution_count": 29,
      "outputs": [
        {
          "output_type": "stream",
          "text": [
            "Performance on char training set: 0.9998382000228424\n",
            "Performance on char test set: 0.9930173992673993\n",
            "CPU times: user 16 s, sys: 27.3 ms, total: 16 s\n",
            "Wall time: 16 s\n"
          ],
          "name": "stdout"
        }
      ]
    },
    {
      "cell_type": "markdown",
      "metadata": {
        "id": "lgZU6O8itMJb"
      },
      "source": [
        "### Clean up memory for memory intensive run on large dataset\n",
        "Only need this for mutliple runs on large dataset. Google Cobla offers me a large memory of 25GB after it crashed on16GB. This still not enough to run character based segmentation on 9K docs. We successfully run on only 5K docs."
      ]
    },
    {
      "cell_type": "code",
      "metadata": {
        "id": "QbWnK1jsblB6",
        "colab": {
          "base_uri": "https://localhost:8080/",
          "height": 52
        },
        "outputId": "d3b2b1ef-1319-49ab-a91f-a53759a467c7"
      },
      "source": [
        "# clear memory for heavy run on unneeded X,y --TODO this should go after gen model input\n",
        "\"\"\"\n",
        "try:\n",
        "  if(X is not None): del X\n",
        "  if(y is not None): del y\n",
        "  # for multiple run\n",
        "  if(X_train is not None): del X_train\n",
        "  if(X_test is not None): del X_test\n",
        "except NameError: \n",
        "  print(\"no defined\")\n",
        "\n",
        "print(\"try to clear up some memory\")\n",
        "  \n",
        "import gc\n",
        "gc.collect()\n",
        "\"\"\""
      ],
      "execution_count": 30,
      "outputs": [
        {
          "output_type": "execute_result",
          "data": {
            "application/vnd.google.colaboratory.intrinsic+json": {
              "type": "string"
            },
            "text/plain": [
              "'\\ntry:\\n  if(X is not None): del X\\n  if(y is not None): del y\\n  # for multiple run\\n  if(X_train is not None): del X_train\\n  if(X_test is not None): del X_test\\nexcept NameError: \\n  print(\"no defined\")\\n\\nprint(\"try to clear up some memory\")\\n  \\nimport gc\\ngc.collect()\\n'"
            ]
          },
          "metadata": {
            "tags": []
          },
          "execution_count": 30
        }
      ]
    },
    {
      "cell_type": "markdown",
      "metadata": {
        "id": "qUu4_ErNt5KK"
      },
      "source": [
        "### Generate model inputs and split into training and test set"
      ]
    },
    {
      "cell_type": "code",
      "metadata": {
        "id": "yCY2gOuLQa33",
        "colab": {
          "base_uri": "https://localhost:8080/"
        },
        "outputId": "643e30a4-884d-4f72-a241-a41922e06da4"
      },
      "source": [
        "# this takes the most memory -- keep under 80% for the training to complete 4.4GB/25 => 12/25, 10K took 21.5/25.5\n",
        "\n",
        "# create features per documents\n",
        "def extract_features(kcc_line):\n",
        "    return [kcc_to_features(kcc_line, i) for i in range(len(kcc_line))]\n",
        "\n",
        "# kcc_data is list of kcc\n",
        "X = [extract_features(kcc_line) for kcc_line in kccs_only]\n",
        "y = labels\n",
        "print(\"X\",len(X))\n",
        "print(\"y\",len(y))\n",
        "\n",
        "\n",
        "from sklearn.model_selection import train_test_split\n",
        "indices = range(len(X))\n",
        "X_train, X_test, y_train, y_test,X_train_idx, X_test_idx = train_test_split(X, y, indices, test_size=0.2, random_state=1) #0.20\n",
        "print(\"len X_train:\", len(X_train))\n",
        "print(\"len y_train:\", len(y_train))\n",
        "print(\"len X_test:\", len(X_test))\n",
        "print(\"len y_test:\", len(y_test))\n"
      ],
      "execution_count": 31,
      "outputs": [
        {
          "output_type": "stream",
          "text": [
            "X 1000\n",
            "y 1000\n",
            "len X_train: 800\n",
            "len y_train: 800\n",
            "len X_test: 200\n",
            "len y_test: 200\n"
          ],
          "name": "stdout"
        }
      ]
    },
    {
      "cell_type": "markdown",
      "metadata": {
        "id": "I9R9XLFicD_-"
      },
      "source": [
        "Our data is now format for model training. We have training date X_train and label y_train, and test set: X_test and its correspond label y_test. The test size is 20%.\n",
        "\n",
        "Let's start the training in the next section."
      ]
    },
    {
      "cell_type": "markdown",
      "metadata": {
        "id": "_nfQK43XQcVC"
      },
      "source": [
        "### Data check - after result (colapse me)"
      ]
    },
    {
      "cell_type": "code",
      "metadata": {
        "id": "EMIr-cJDlZD6",
        "colab": {
          "base_uri": "https://localhost:8080/",
          "height": 106
        },
        "outputId": "df880104-8b43-4ef3-bdb8-1aafdc827f6c"
      },
      "source": [
        "print(\"sentences:\", len(sentences))\n",
        "kcc_list = [item for s in kccs_only for item in s]\n",
        "print(\"kcc list len:\", len(kcc_list))\n",
        "kcc_set = set(kcc_list)\n",
        "print(\"kcc set len\", len(kcc_set), \" char:\", sorted(kcc_set))\n",
        "\n",
        "#kcc_list = [item[0] for s in kccs_char_only for item in s]\n",
        "#print(\"char list len:\", len(kcc_list))\n",
        "#kcc_set = set(kcc_list)\n",
        "#print(\"char set len\", len(kcc_set), \" char:\", sorted(kcc_set))\n",
        "\"\"\"\n",
        "2K: kcc list len: 73,235, char list len: 142,920\n",
        "10K: kcc list len: 7,873,961\n",
        "\n",
        "\"\"\""
      ],
      "execution_count": 32,
      "outputs": [
        {
          "output_type": "stream",
          "text": [
            "sentences: 1000\n",
            "kcc list len: 67976\n",
            "kcc set len 1783  char: ['\"', '$', '%', '&', \"'\", \"'s\", '(', ')', ',', '-', '.', '/', '0', '00', '000', '00:17', '02620-00648', '03', '06', '07', '08:17', '0920', '1', '10', '100', '101', '1020', '105', '11', '1100', '110s', '112', '118', '11:00', '11:45', '12', '120', '1220', '1245', '128', '13', '130', '1320', '1345', '14', '1435', '15', '1590', '15:45', '16', '16-5', '160', '17', '1730', '178', '18', '1880', '19', '190', '1900', '1916', '1927', '1952', '1953', '1958', '1960', '1965', '1966', '1968', '1972', '1976', '1980', '1980s', '1982', '1983', '1984', '1988', '1990', '1991', '1992', '1993', '1994', '1995', '1997', '1998', '1999', '2', '2-2', '20', '200', '2000', '2001', '2002', '2003', '2004', '2005', '2006', '2007', '2008', '2009', '2010', '2012', '21', '210', '22', '23', '230', '24', '25', '250', '2500', '2565', '26', '27', '28', '29', '2K8', '3', '3-0', '30', '300', '301', '305', '306', '31', '31-5', '327', '33', '34', '34D', '35', '36', '37', '370', '372', '375', '38', '39', '3:00', '3:35', '3:45', '4', '4-0', '40', '400', '41', '42', '420', '43', '45', '4600', '49', '4:00', '5', '50', '500', '52', '537', '54', '55', '58', '595', '6', '600', '600k', '61', '61:60', '62', '64', '65', '650', '663', '67', '6:00', '6:30', '7', '70', '70%', '700', '70s', '72', '75', '750', '76', '77', '7:15', '7:18', '8', '80', '81', '82', '833', '86', '9', '90', '900', '91', '92', '93', '98', '99', '9:00', ':', ';', 'A', 'AFP', 'AIADMK', 'AP', 'AQMD', 'AWST', 'Abdullah', 'Agarwal', 'Ahmed', 'Alice', 'Amazon', 'Angeles', 'Antarctica', 'Arena', 'Army', 'Arnhem', 'Asia', 'BBC', 'BMW', 'BST', 'Baghdad', 'Balleny', 'Bay', 'Benn', 'Billy', 'Blood', 'Bloomsbury', 'Borders', 'Boulder', 'Bradley', 'Brigade', 'Broadcasting', 'Buffalo', \"Buffalo's\", 'Bulls', 'Bush', 'C', 'C&ED', 'CAAT', 'CFII', 'CIA', 'COTS', 'CPJ', 'Caloundra', 'Caracol', 'Casey', 'Causeway', 'Center', 'Central', 'Ceyhan', 'Championship', 'Chamunda', 'Chicago', 'Children', 'City', 'Clinical', 'Coast', 'Code', 'Colombian', 'Comando', 'Conyers', 'Cooper', 'Corporation', 'County', 'Cyber', 'D-Delware', 'DC', 'DUP', 'Da', 'Dashboard', 'Devi', 'Disney', 'Distractions', 'Dmitry', 'Dragons', 'E', 'ED', 'EDT', 'EFF', 'EST', 'East', 'England', 'Erie', 'Esperance', 'FARC', 'FC', 'FIFA', 'FM', 'Facebook', 'Faisal', 'Feeling', 'Fire', 'Fitzgerald', 'Foundation', 'FreeMediaOnline', 'GEO', 'GMT', 'Galaxy', 'Games', 'Gary', 'George', 'GoM', 'Goldfields', 'Grail', 'Gul', 'H', 'HBHG', \"Health's\", 'Heli-Express', 'Herald', 'Himachal', 'Holy', 'Hospital', 'House', 'Hussien', 'IFA', 'II', 'IIC', 'III', 'IIIC', 'IOC', 'IPs', 'IR', 'IRA', 'ISAF', 'IU', 'IV', 'Illinois', 'Irish', 'Jaroslaw', 'Jodhpur', 'Joel', 'John', 'Judith', 'KPMG', 'Kaczynski', 'Kaczynskis', 'Kaczyski', 'Kagoorlie', 'Kalgoorlie', 'Karbala', 'Katherine', 'Kerry', 'Key', 'Kiriyenko', 'Kowloon', 'LC-40', 'Lahore', 'Lech', 'Light', 'Line', 'Little', 'Live', 'Liverpool', 'London', 'Long', 'Los', 'MOL', 'MP', 'MPs', 'MSN', 'MTV', 'Maharashtra', 'Main', 'Malini', 'Manuel', 'Maria', 'Mary', 'Matthew', 'Medical', 'Medvedev', 'Menzies', 'Mercedes', 'Metro', 'Midland', 'Mike', 'Miller', 'Mineira', 'Mitch', 'More', 'NBA', 'NGOs', 'NOAA', 'NSW', 'NT', 'NXSheep', 'Naina', 'Network', 'New', 'Northern', 'Novak', 'Now', 'On', 'PG&E', 'PPP', 'Paradise', 'Patrick', 'Perth', 'Peterborough', 'Plame', 'Post', 'Pradesh', 'Premier', 'Q', 'Qualifier', 'Queen', 'Queensland', 'Qureshi', 'RDA', 'Radio', 'Rail', 'Rajasthan', 'Random', 'Red', 'Reporters', 'Revolution', 'Riad', 'Robert', 'Robinson', 'Rosales', 'Rosatom', 'Rugby', 'S', 'SAR', 'SEPP1', 'SPL', 'STOMP', 'Sacred', 'Saddam', 'Samsun', 'Santa', 'Saray', 'School', 'Sergey', 'Service', 'Shiite', 'Show', 'Shun', 'Side', 'Solomon', 'South', 'Sports', 'Springs', 'Square', 'Stingrays', 'Stomp', 'Storey', 'Sun-Times', 'Sunnybank', 'Sunshine', 'Taiwan', 'Tak', 'Television', 'Territory', 'The', 'Time', 'Times', 'Tiwi', 'Toowoomba', 'Toronto', 'TrES', 'Trabzon', 'Twitter', 'U', 'USGS', 'UTC', 'United', 'University', 'Utica', 'Valerie', 'Vermelho', 'Victoria', 'Vinci', 'Vision', 'W', 'WFP', 'Wales', 'Walesa', 'Walk', 'Walt', 'Warren', 'West', 'White', 'Wide', 'Wikimedia', 'Wikinews', 'Wikipedia', 'Without', 'World', \"World's\", 'X', 'Yilgarn', 'York', 'Zahid', 'Zealand', 'Zulia', '[', ']', 'a', 'al-Iraqiya', 'al-Mullah', 'al-Saray', 'and', 'are', 'by', 'da', 'morro', 'of', 'org', 'satistical', 'than', 'the', 'x86', '£', 'ºC', 'ºF', 'ក', 'កា', 'កាំ', 'កិ', 'កី', 'កឺ', 'កុ', 'កុំ', 'កូ', 'កួ', 'កើ', 'កេ', 'កែ', 'កៃ', 'កោ', 'កោះ', 'កៅ', 'កំ', 'ក់', 'ក៏', 'ក្ក', 'ក្កា', 'ក្ខ', 'ក្ឌាំ', 'ក្តា', 'ក្តី', 'ក្តៅ', 'ក្ត្រ', 'ក្នុ', 'ក្បា', 'ក្បូ', 'ក្បួ', 'ក្បែ', 'ក្មេ', 'ក្យ', 'ក្យូ', 'ក្រ', 'ក្រា', 'ក្រិ', 'ក្រី', 'ក្រុ', 'ក្រូ', 'ក្រេ', 'ក្រែ', 'ក្រោ', 'ក្រៅ', 'ក្លា', 'ក្លឹ', 'ក្លុ', 'ក្លេ', 'ក្លែ', 'ក្វា', 'ក្ស', 'ក្សា', 'ក្សី', 'ក្ស៍', 'ខ', 'ខា', 'ខិ', 'ខី', 'ខឹ', 'ខឺ', 'ខុ', 'ខូ', 'ខួ', 'ខៀ', 'ខេ', 'ខែ', 'ខោ', 'ខំ', 'ខ័', 'ខ្ញុំ', 'ខ្ញូំ', 'ខ្ញំ', 'ខ្ទី', 'ខ្ទេ', 'ខ្ន', 'ខ្នា', 'ខ្ព', 'ខ្មា', 'ខ្មាំ', 'ខ្មោ', 'ខ្មៅ', 'ខ្យ', 'ខ្លា', 'ខ្លាំ', 'ខ្លី', 'ខ្លូ', 'ខ្លួ', 'ខ្លែ', 'ខ្លះ', 'ខ្វ', 'ខ្វែ', 'ខ្វះ', 'ខ្សែ', 'ខ្សោ', 'គ', 'គា', 'គាំ', 'គិ', 'គី', 'គឹ', 'គឺ', 'គុ', 'គុំ', 'គូ', 'គួ', 'គេ', 'គែ', 'គោ', 'គំ', 'គ្គ', 'គ្គិ', 'គ្គី', 'គ្នា', 'គ្នេ', 'គ្មា', 'គ្យឺ', 'គ្រ', 'គ្រា', 'គ្រិ', 'គ្រី', 'គ្រុ', 'គ្រូ', 'គ្រួ', 'គ្រឿ', 'គ្រេ', 'គ្រោ', 'គ្រោះ', 'គ្លេ', 'គ្វា', 'គ្វី', 'ឃ', 'ឃា', 'ឃាំ', 'ឃី', 'ឃឹ', 'ឃឺ', 'ឃុំ', 'ឃូ', 'ឃើ', 'ឃេ', 'ឃោ', 'ឃ័', 'ឃ្ខី', 'ឃ្លា', 'ឃ្លាំ', 'ឃ្លី', 'ឃ្វ', 'ឃ្វី', 'ង', 'ងា', 'ងឹ', 'ងឺ', 'ងើ', 'ង៉់', 'ង់', 'ង្ក', 'ង្កា', 'ង្កូ', 'ង្កើ', 'ង្កេ', 'ង្កៃ', 'ង្កោ', 'ង្ក្រា', 'ង្ក្រៀ', 'ង្ខាំ', 'ង្ខូ', 'ង្គ', 'ង្គា', 'ង្គិ', 'ង្គុ', 'ង្គូ', 'ង្គោ', 'ង្គ្រា', 'ង្គ្រោះ', 'ង្ឃឹ', 'ង្រា', 'ង្រី', 'ង្រឹ', 'ង្រួ', 'ង្រៀ', 'ង្វ', 'ង្វា', 'ង្វិ', 'ង្វឹ', 'ង្វើ', 'ង្វេ', 'ង្វែ', 'ង្វះ', 'ង្សា', 'ង្ស័', 'ង្ហ', 'ង្ហា', 'ង្ហើ', 'ង្ហោះ', 'ង្អ', 'ង្អុ', 'ង្អៀ', 'ច', 'ចា', 'ចាំ', 'ចិ', 'ចុ', 'ចុះ', 'ចូ', 'ចៀ', 'ចេ', 'ចែ', 'ចោ', 'ចៅ', 'ចំ', 'ច់', 'ច័', 'ច្ច', 'ច្ចា', 'ច្ចុ', 'ច្ចេ', 'ច្ឆិ', 'ច្ឆេ', 'ច្ឆ័', 'ច្នេះ', 'ច្នៃ', 'ច្នោះ', 'ច្បា', 'ច្រ', 'ច្រា', 'ច្រើ', 'ច្រៀ', 'ឆ', 'ឆា', 'ឆាំ', 'ឆី', 'ឆឺ', 'ឆុ', 'ឆេ', 'ឆេះ', 'ឆោ', 'ឆៅ', 'ឆ្កែ', 'ឆ្ង', 'ឆ្ងា', 'ឆ្នាំ', 'ឆ្នុ', 'ឆ្នើ', 'ឆ្នេ', 'ឆ្នោ', 'ឆ្ពោះ', 'ឆ្ល', 'ឆ្លុះ', 'ឆ្លើ', 'ឆ្វេ', 'ឆ្អឹ', 'ជ', 'ជា', 'ជាំ', 'ជិ', 'ជិះ', 'ជី', 'ជឺ', 'ជុ', 'ជុំ', 'ជូ', 'ជួ', 'ជើ', 'ជឿ', 'ជៀ', 'ជេ', 'ជែ', 'ជោ', 'ជំ', 'ជ័', 'ជ្ជ', 'ជ្ជា', 'ជ្ឈ', 'ជ្ឈិ', 'ជ្ញា', 'ជ្យ', 'ជ្រ', 'ជ្រា', 'ជ្រុ', 'ជ្រើ', 'ជ្រៀ', 'ជ្រែ', 'ជ្រោះ', 'ជ្រៅ', 'ជ្វា', 'ឈ', 'ឈា', 'ឈិ', 'ឈី', 'ឈឹ', 'ឈឺ', 'ឈុ', 'ឈូ', 'ឈេ', 'ឈែ', 'ឈ្នះ', 'ឈ្មោះ', 'ឈ្ល', 'ឈ្លា', 'ឈ្លោះ', 'ញ', 'ញា', 'ញាំ', 'ញី', 'ញឹ', 'ញុះ', 'ញូ', 'ញៀ', 'ញ៉ា', 'ញ៉ូ', 'ញ៉េ', 'ញ៉ៃ', 'ញ់', 'ញ័', 'ញ្ច', 'ញ្ចា', 'ញ្ចាំ', 'ញ្ចឹ', 'ញ្ចូ', 'ញ្ចៀ', 'ញ្ចេ', 'ញ្ឆា', 'ញ្ឆាំ', 'ញ្ឆោ', 'ញ្ជា', 'ញ្ជាំ', 'ញ្ជី', 'ញ្ជូ', 'ញ្ជួ', 'ញ្ជើ', 'ញ្ជ្រិ', 'ញ្ឈ', 'ញ្ញ', 'ញ្ញា', 'ញ្ញូ', 'ញ្ញ៉ា', 'ញ្ហា', 'ដ', 'ដា', 'ដិ', 'ដី', 'ដឹ', 'ដឺ', 'ដុ', 'ដុំ', 'ដុះ', 'ដូ', 'ដួ', 'ដើ', 'ដៀ', 'ដេ', 'ដែ', 'ដៃ', 'ដោ', 'ដោះ', 'ដៅ', 'ដំ', 'ដ៍', 'ដ៏', 'ដ្ឋ', 'ដ្ឋា', 'ដ្តី', 'ដ្រា', 'ដ្រូ', 'ដ្រេ', 'ឋ', 'ឋា', 'ឋិ', 'ឌ', 'ឌា', 'ឌិ', 'ឌី', 'ឌឹ', 'ឌឺ', 'ឌុ', 'ឌូ', 'ឌេ', 'ឌែ', 'ឌ្ឍ', 'ឌ្លើ', 'ណ', 'ណា', 'ណាំ', 'ណិ', 'ណី', 'ណឹ', 'ណឺ', 'ណុ', 'ណុំ', 'ណូ', 'ណើ', 'ណេ', 'ណេះ', 'ណែ', 'ណោ', 'ណោះ', 'ណំ', 'ណៈ', 'ណ៌', 'ណ៍', 'ណ័', 'ណ្ឋា', 'ណ្ឌ', 'ណ្ឌា', 'ណ្ឌិ', 'ណ្ឌូ', 'ណ្ណ', 'ណ្ណោះ', 'ណ្ត', 'ណ្តា', 'ណ្តឹ', 'ណ្តុះ', 'ណ្តូ', 'ណ្តើ', 'ណ្តេ', 'ណ្តែ', 'ណ្តោ', 'ណ្តោះ', 'ណ្យ', 'ណ្ហ', 'ត', 'តា', 'តាំ', 'តិ', 'តិ៍', 'តី', 'តឹ', 'តុ', 'តូ', 'តួ', 'តើ', 'តេ', 'តែ', 'តោ', 'តំ', 'ត់', 'ត៌', 'ត៍', 'ត្ត', 'ត្តា', 'ត្តិ', 'ត្តិ៍', 'ត្តុ', 'ត្ថ', 'ត្ថា', 'ត្ថិ', 'ត្ថុ', 'ត្ន', 'ត្ន័', 'ត្បិ', 'ត្បូ', 'ត្បួ', 'ត្យ', 'ត្យា', 'ត្រ', 'ត្រា', 'ត្រី', 'ត្រឹ', 'ត្រឺ', 'ត្រុ', 'ត្រូ', 'ត្រួ', 'ត្រៀ', 'ត្រេ', 'ត្ល', 'ត្វ', 'ត្ស', 'ត្សូ', 'ថ', 'ថា', 'ថិ', 'ថី', 'ថុ', 'ថូ', 'ថើ', 'ថៀ', 'ថេ', 'ថែ', 'ថៃ', 'ថ៌', 'ថ័', 'ថ្កោ', 'ថ្ងៃ', 'ថ្ន', 'ថ្នា', 'ថ្នាំ', 'ថ្ម', 'ថ្មី', 'ថ្មើ', 'ថ្លើ', 'ថ្លែ', 'ថ្លៃ', 'ថ្វី', 'ថ្វេ', 'ទ', 'ទា', 'ទាំ', 'ទិ', 'ទី', 'ទឹ', 'ទឺ', 'ទុ', 'ទូ', 'ទួ', 'ទើ', 'ទៀ', 'ទេ', 'ទេះ', 'ទែ', 'ទៃ', 'ទោ', 'ទោះ', 'ទៅ', 'ទំ', 'ទះ', 'ទ័', 'ទ្ទ', 'ទ្ធ', 'ទ្ធិ', 'ទ្យ', 'ទ្យា', 'ទ្យុ', 'ទ្រ', 'ទ្រា', 'ទ្រី', 'ទ្រឹ', 'ទ្រុ', 'ទ្រូ', 'ទ្រោ', 'ទ្វា', 'ទ្វី', 'ធ', 'ធា', 'ធិ', 'ធី', 'ធុ', 'ធុំ', 'ធូ', 'ធើ', 'ធៀ', 'ធេ', 'ធំ', 'ធ្ង', 'ធ្នូ', 'ធ្ម', 'ធ្យ', 'ធ្យូ', 'ធ្យោ', 'ធ្លា', 'ធ្លី', 'ធ្លុះ', 'ធ្វើ', 'ន', 'នា', 'នាំ', 'និ', 'នី', 'នឹ', 'នឺ', 'នុ', 'នូ', 'នួ', 'នើ', 'នឿ', 'នៀ', 'នេ', 'នេះ', 'នែ', 'នៃ', 'នោ', 'នោះ', 'នៅ', 'នំ', 'នះ', 'នៈ', 'ន់', 'ន៍', 'ន័', 'ន្ឋ', 'ន្ត', 'ន្តិ', 'ន្តឹ', 'ន្តើ', 'ន្តែ', 'ន្តោ', 'ន្ត្រី', 'ន្ថ', 'ន្ថែ', 'ន្ទ', 'ន្ទា', 'ន្ទិ', 'ន្ទី', 'ន្ទុ', 'ន្ទោ', 'ន្ទះ', 'ន្ធ', 'ន្ធិ', 'ន្ធោ', 'ន្ធៅ', 'ន្ន', 'ន្នា', 'ន្និ', 'ន្ន័', 'ន្ម', 'ន្មា', 'ន្យ', 'ន្យា', 'ន្ល', 'ន្លឹ', 'ន្លឹះ', 'ន្លឺ', 'ន្លើ', 'ន្លេ', 'ន្លែ', 'ន្លោះ', 'ន្លះ', 'ន្ស', 'ន្សំ', 'ប', 'បា', 'បាំ', 'បិ', 'បី', 'បឺ', 'បុ', 'បុ័', 'បូ', 'បួ', 'បើ', 'បៀ', 'បេ', 'បេះ', 'បែ', 'បៃ', 'បោ', 'បោះ', 'បៅ', 'បំ', 'បះ', 'ប៉', 'ប៉ា', 'ប៉ុ', 'ប៉ូ', 'ប៉េ', 'ប៉ោ', 'ប៉ះ', 'ប៊', 'ប៊ិ', 'ប៊ី', 'ប៊ឺ', 'ប៊ុ', 'ប៊ូ', 'ប៊ៀ', 'ប៊េ', 'ប៊ែ', 'ប់', 'ប័', 'ប្តា', 'ប្តឹ', 'ប្តូ', 'ប្តេ', 'ប្ប', 'ប្បា', 'ប្រ', 'ប្រា', 'ប្រាំ', 'ប្រិ', 'ប្រី', 'ប្រឹ', 'ប្រឺ', 'ប្រុ', 'ប្រូ', 'ប្រួ', 'ប្រើ', 'ប្រៀ', 'ប្រេ', 'ប្រែ', 'ប្រោ', 'ប្រ៊ី', 'ប្ល', 'ប្លុ', 'ប្លែ', 'ប្ល៊ែ', 'ប្អូ', 'ផ', 'ផា', 'ផី', 'ផុ', 'ផូ', 'ផើ', 'ផេ', 'ផែ', 'ផោ', 'ផ្កា', 'ផ្គ', 'ផ្ញើ', 'ផ្ត', 'ផ្តា', 'ផ្តុំ', 'ផ្តើ', 'ផ្តោ', 'ផ្ទា', 'ផ្ទាំ', 'ផ្ទុ', 'ផ្ទុះ', 'ផ្ទេ', 'ផ្ទៃ', 'ផ្ទះ', 'ផ្នែ', 'ផ្យា', 'ផ្រេ', 'ផ្លា', 'ផ្លិ', 'ផ្លី', 'ផ្លូ', 'ផ្លែ', 'ផ្ស', 'ផ្សា', 'ផ្សេ', 'ផ្សំ', 'ផ្អា', 'ផ្អើ', 'ផ្អែ', 'ព', 'ពា', 'ពិ', 'ពី', 'ពឹ', 'ពឺ', 'ពុ', 'ពូ', 'ពួ', 'ពើ', 'ពេ', 'ពែ', 'ពោ', 'ពោះ', 'ព៌ា', 'ព័', 'ព្ទ', 'ព្ធ', 'ព្ភ', 'ព្យ', 'ព្យា', 'ព្យុះ', 'ព្យូ', 'ព្យួ', 'ព្រ', 'ព្រា', 'ព្រិ', 'ព្រី', 'ព្រឹ', 'ព្រូ', 'ព្រួ', 'ព្រៀ', 'ព្រេ', 'ព្រៃ', 'ព្រោះ', 'ព្រំ', 'ព្រះ', 'ព្លី', 'ព្វ', 'ព្វា', 'ភ', 'ភា', 'ភិ', 'ភី', 'ភូ', 'ភើ', 'ភេ', 'ភៅ', 'ភ័', 'ភ្ជា', 'ភ្ញា', 'ភ្ញៀ', 'ភ្នា', 'ភ្នែ', 'ភ្នំ', 'ភ្លា', 'ភ្លើ', 'ភ្លៀ', 'ភ្លេ', 'ភ្លោះ', 'ម', 'មា', 'មាំ', 'មិ', 'មី', 'មឺ', 'មុ', 'មូ', 'មួ', 'មើ', 'មៀ', 'មេ', 'មែ', 'មៃ', 'មោ', 'ម៉', 'ម៉ា', 'ម៉ិ', 'ម៉ី', 'ម៉ុ', 'ម៉ូ', 'ម៉េ', 'ម៉ែ', 'ម៉ៃ', 'ម៉ោ', 'ម៉ៅ', 'ម៌', 'ម័', 'ម្ខា', 'ម្គា', 'ម្ង', 'ម្ងា', 'ម្ងឺ', 'ម្ចា', 'ម្ញៀ', 'ម្ត', 'ម្តា', 'ម្តី', 'ម្តែ', 'ម្តៅ', 'ម្ទេ', 'ម្នា', 'ម្ប', 'ម្បា', 'ម្បាំ', 'ម្បី', 'ម្បូ', 'ម្បើ', 'ម្ព', 'ម្ពា', 'ម្ព័', 'ម្ភ', 'ម្ភា', 'ម្ភៈ', 'ម្ម', 'ម្មា', 'ម្មុ', 'ម្ម៉', 'ម្យ', 'ម្យើ', 'ម្យ៉ា', 'ម្រ', 'ម្រា', 'ម្រិ', 'ម្រុ', 'ម្រុះ', 'ម្រូ', 'ម្រួ', 'ម្រើ', 'ម្រៀ', 'ម្រេ', 'ម្រៃ', 'ម្រោ', 'ម្រៅ', 'ម្ល', 'ម្លា', 'ម្លាំ', 'ម្លី', 'ម្លឹ', 'ម្លុ', 'ម្លើ', 'ម្លៀ', 'ម្លេ', 'ម្លៃ', 'ម្លោះ', 'ម្សិ', 'ម្ហូ', 'ម្អ', 'យ', 'យា', 'យី', 'យឺ', 'យុ', 'យូ', 'យួ', 'យើ', 'យៀ', 'យេ', 'យោ', 'យៈ', 'យ៉', 'យ៉ា', 'យ៉ូ', 'យ៉េ', 'យ៍', 'យ័', 'យ្យ', 'រ', 'រា', 'រាំ', 'រិ', 'រិះ', 'រី', 'រឹ', 'រឺ', 'រុ', 'រុះ', 'រូ', 'រួ', 'រើ', 'រឿ', 'រៀ', 'រេ', 'រៃ', 'រោ', 'រៅ', 'រំ', 'រះ', 'រៈ', 'រ៉', 'រ៉ា', 'រ៉ុ', 'រ៉ូ', 'រ៉េ', 'រ៉ែ', 'រ៉ៃ', 'រ៍', 'រ្តិ៍', 'រ្យ', 'ល', 'លា', 'លាំ', 'លិ', 'លី', 'លឹ', 'លឺ', 'លុ', 'លុះ', 'លូ', 'លួ', 'លើ', 'លឿ', 'លៀ', 'លេ', 'លែ', 'លៃ', 'លោ', 'លោះ', 'លំ', 'លៈ', 'ល់', 'ល៍', 'ល៏', 'ល័', 'ល្ងា', 'ល្ប', 'ល្បា', 'ល្បី', 'ល្បឿ', 'ល្បែ', 'ល្មើ', 'ល្យ', 'ល្លា', 'ល្លឺ', 'ល្លៀ', 'ល្វែ', 'ល្អ', 'វ', 'វា', 'វាំ', 'វិ', 'វី', 'វឺ', 'វុ', 'វូ', 'វើ', 'វៀ', 'វេ', 'វែ', 'វៃ', 'វ៉ា', 'វ៉ី', 'វ៉ូ', 'វ៉ើ', 'វ៉េ', 'វ៊ូ', 'វ័', 'វ្យូ', 'ស', 'សា', 'សាំ', 'សិ', 'សី', 'សឹ', 'សឺ', 'សុ', 'សុំ', 'សូ', 'សួ', 'សើ', 'សៀ', 'សេ', 'សេះ', 'សែ', 'សៃ', 'សោ', 'សោះ', 'សៅ', 'សំ', 'សៈ', 'ស៊ា', 'ស៊ាំ', 'ស៊ិ', 'ស៊ី', 'ស៊ុ', 'ស៊ូ', 'ស៊ើ', 'ស៊េ', 'ស៊ែ', 'ស់', 'ស៍', 'ស៏', 'ស័', 'ស្ក', 'ស្កា', 'ស្កុ', 'ស្កូ', 'ស្កេ', 'ស្ខឺ', 'ស្គ', 'ស្គា', 'ស្គូ', 'ស្ង', 'ស្ងា', 'ស្ងួ', 'ស្ងៀ', 'ស្ចា', 'ស្ត', 'ស្តា', 'ស្តាំ', 'ស្តិ', 'ស្តិ៍', 'ស្តិ៏', 'ស្តី', 'ស្តុ', 'ស្តូ', 'ស្តើ', 'ស្តៀ', 'ស្តេ', 'ស្តែ', 'ស្ត្រ', 'ស្ត្រា', 'ស្ត្រី', 'ស្ថា', 'ស្ថិ', 'ស្ថេ', 'ស្ថ្រី', 'ស្ទ', 'ស្ទា', 'ស្ទី', 'ស្ទូ', 'ស្ទើ', 'ស្ទៀ', 'ស្ទេ', 'ស្ទះ', 'ស្ទ័', 'ស្ទ្រូ', 'ស្ន', 'ស្នា', 'ស្និ', 'ស្នី', 'ស្នើ', 'ស្នៀ', 'ស្នេ', 'ស្ប', 'ស្បើ', 'ស្បៀ', 'ស្បេ', 'ស្បែ', 'ស្ពា', 'ស្ពី', 'ស្ពេ', 'ស្ព័', 'ស្ព្រា', 'ស្ព្រី', 'ស្មា', 'ស្មូ', 'ស្មើ', 'ស្មោះ', 'ស្ម័', 'ស្រ', 'ស្រា', 'ស្រី', 'ស្រុ', 'ស្រួ', 'ស្រេ', 'ស្រែ', 'ស្រោ', 'ស្រ័', 'ស្ល', 'ស្លា', 'ស្លី', 'ស្លុ', 'ស្លូ', 'ស្លេ', 'ស្លែ', 'ស្វ', 'ស្វា', 'ស្វិ', 'ស្វី', 'ស្វឹ', 'ស្វើ', 'ស្វែ', 'ស្វ៊េ', 'ស្វ៊ែ', 'ស្វ័', 'ស្ស', 'ស្សា', 'ស្សិ', 'ស្សី', 'ស្សឺ', 'ស្សូ', 'ស្ស៊ី', 'ស្អែ', 'ហ', 'ហា', 'ហិ', 'ហី', 'ហឹ', 'ហឺ', 'ហុ', 'ហូ', 'ហួ', 'ហើ', 'ហៀ', 'ហេ', 'ហែ', 'ហៃ', 'ហោ', 'ហោះ', 'ហៅ', 'ហំ', 'ហ៊ា', 'ហ៊ី', 'ហ៊ុ', 'ហ៊ុំ', 'ហ៊ូ', 'ហ៍', 'ហ័', 'ហ្កា', 'ហ្កី', 'ហ្កូ', 'ហ្កេ', 'ហ្ក្រា', 'ហ្ក្រី', 'ហ្ក្រូ', 'ហ្ក្រេ', 'ហ្ក្រែ', 'ហ្គ', 'ហ្គា', 'ហ្គី', 'ហ្គឺ', 'ហ្គូ', 'ហ្គេ', 'ហ្គោ', 'ហ្គ័', 'ហ្គ្រ', 'ហ្គ្រេ', 'ហ្ម', 'ហ្រ', 'ហ្រេ', 'ហ្វ', 'ហ្វា', 'ហ្វិ', 'ហ្វី', 'ហ្វឹ', 'ហ្វឺ', 'ហ្វូ', 'ហ្វើ', 'ហ្វៀ', 'ហ្វេ', 'ហ្វែ', 'ហ្វ័', 'ហ្វ្រ', 'ហ្វ្រា', 'ហ្វ្រិ', 'ហ្វ្រូ', 'ហ្វ្រែ', 'ហ្វ្លី', 'ហ្ស', 'ហ្សា', 'ហ្សី', 'ហ្សូ', 'ហ្សេ', 'ហ្ស៉', 'ហ្ស៊ី', 'ហ្ស៊ូ', 'ឡ', 'ឡា', 'ឡាំ', 'ឡិ', 'ឡឺ', 'ឡុ', 'ឡុំ', 'ឡូ', 'ឡើ', 'ឡេ', 'ឡែ', 'ឡៃ', 'ឡោ', 'ឡៅ', 'អ', 'អា', 'អាំ', 'អិ', 'អី', 'អឹ', 'អឺ', 'អុ', 'អុំ', 'អូ', 'អួ', 'អើ', 'អៀ', 'អេ', 'អែ', 'អោ', 'អំ', 'អះ', 'អ៊ិ', 'អ៊ី', 'អ៊ឺ', 'អ៊ូ', 'អ៊ែ', 'អ័', 'អ្ន', 'អ្វី', 'ឥ', 'ឧ', 'ឪ', 'ឬ', 'ឯ', 'ឱ', 'ឲ្យ', '។', '៖', 'ៗ', '១', '១០', '១២', '១៣', '១៤', '១៥', '១៧', '១៨', '២', '២៨', '៣', '៣៣', '៤', '៥', '៥០', '៦', '៧', '៨', '៩', '–', '€']\n"
          ],
          "name": "stdout"
        },
        {
          "output_type": "execute_result",
          "data": {
            "application/vnd.google.colaboratory.intrinsic+json": {
              "type": "string"
            },
            "text/plain": [
              "'\\n2K: kcc list len: 73,235, char list len: 142,920\\n10K: kcc list len: 7,873,961\\n\\n'"
            ]
          },
          "metadata": {
            "tags": []
          },
          "execution_count": 32
        }
      ]
    },
    {
      "cell_type": "code",
      "metadata": {
        "id": "rQigYWTd2HWQ",
        "colab": {
          "base_uri": "https://localhost:8080/"
        },
        "outputId": "4181d6fb-cc87-4a1d-f032-6e384b3b3e23"
      },
      "source": [
        "# show data size -- check for mismatch X and y\n",
        "print(\"len of X:\", len(X), X[0])\n",
        "print(\"len of y:\", len(y), y[0])\n",
        "print(\"len of X[0]:\", len(X[0]), X[0])\n",
        "print(\"len of y[0]:\", len(y[0]), y[0])\n",
        "print(\"len train X:\", len(X_train), X_train[0])\n",
        "print(\"len train y:\", len(y_train), y_train[0])\n",
        "print(\"len test X:\", len(X_test), X_test[0])\n",
        "print(\"len test y:\", len(y_test), y_test[0])\n",
        "\n",
        "# test bad data where len X[i] not same as y[i]\n",
        "for i in range(len(X)):\n",
        "  if i<50000:\n",
        "    if len(X[i]) != len(y[i]): \n",
        "      print(i, len(X[i]), len(y[i]))\n",
        "      print(X[i])\n",
        "      print(y[i])\n",
        "      print(sentences[i])\n",
        "      print(len(kccs_label[i]), kccs_label[i])\n",
        "      print(len(kccs_only[i]), kccs_only[i])\n",
        "  "
      ],
      "execution_count": 33,
      "outputs": [
        {
          "output_type": "stream",
          "text": [
            "len of X: 1000 [{'kcc': 'ខ', 't': 'C', 'ns': False, 'BOS': True, 'kcc[+1]': 'ណៈ', 'kcc[+1]t': 'K2', 'kcc[+1:0]': 'ខណៈ', 'ns+1': False, 'kcc[+2]': 'កា', 'kcc[+2]t': 'K2', 'kcc[+1:+2]': 'ណៈកា', 'kcc[0:+2]': 'ខណៈកា', 'ns+2': False, 'kcc[+3]': 'រ', 'kcc[+3]t': 'C', 'kcc[+2:+3]': 'ការ', 'kcc[+1:+3]': 'ណៈការ', 'kcc[0:+3]': 'ខណៈការ'}, {'kcc': 'ណៈ', 't': 'K2', 'ns': False, 'kcc[-1]': 'ខ', 'kcc[-1]t': 'C', 'kcc[-1:0]': 'ខណៈ', 'ns-1': False, 'kcc[+1]': 'កា', 'kcc[+1]t': 'K2', 'kcc[+1:0]': 'ណៈកា', 'ns+1': False, 'kcc[+2]': 'រ', 'kcc[+2]t': 'C', 'kcc[+1:+2]': 'ការ', 'kcc[0:+2]': 'ណៈការ', 'ns+2': False, 'kcc[+3]': 'ថ', 'kcc[+3]t': 'C', 'kcc[+2:+3]': 'រថ', 'kcc[+1:+3]': 'ការថ', 'kcc[0:+3]': 'ណៈការថ'}, {'kcc': 'កា', 't': 'K2', 'ns': False, 'kcc[-1]': 'ណៈ', 'kcc[-1]t': 'K2', 'kcc[-1:0]': 'ណៈកា', 'ns-1': False, 'kcc[-2]': 'ខ', 'kcc[-2]t': 'C', 'kcc[-2:-1]': 'ខណៈ', 'kcc[-2:0]': 'ខណៈកា', 'kcc[+1]': 'រ', 'kcc[+1]t': 'C', 'kcc[+1:0]': 'ការ', 'ns+1': False, 'kcc[+2]': 'ថ', 'kcc[+2]t': 'C', 'kcc[+1:+2]': 'រថ', 'kcc[0:+2]': 'ការថ', 'ns+2': False, 'kcc[+3]': 'យ', 'kcc[+3]t': 'C', 'kcc[+2:+3]': 'ថយ', 'kcc[+1:+3]': 'រថយ', 'kcc[0:+3]': 'ការថយ'}, {'kcc': 'រ', 't': 'C', 'ns': False, 'kcc[-1]': 'កា', 'kcc[-1]t': 'K2', 'kcc[-1:0]': 'ការ', 'ns-1': False, 'kcc[-2]': 'ណៈ', 'kcc[-2]t': 'K2', 'kcc[-2:-1]': 'ណៈកា', 'kcc[-2:0]': 'ណៈការ', 'kcc[-3]': 'ខ', 'kcc[-3]t': 'C', 'kcc[-3:0]': 'ខណៈការ', 'kcc[-3:-1]': 'ខណៈកា', 'kcc[-3:-2]': 'ខណៈ', 'kcc[+1]': 'ថ', 'kcc[+1]t': 'C', 'kcc[+1:0]': 'រថ', 'ns+1': False, 'kcc[+2]': 'យ', 'kcc[+2]t': 'C', 'kcc[+1:+2]': 'ថយ', 'kcc[0:+2]': 'រថយ', 'ns+2': False, 'kcc[+3]': 'ចុះ', 'kcc[+3]t': 'K3', 'kcc[+2:+3]': 'យចុះ', 'kcc[+1:+3]': 'ថយចុះ', 'kcc[0:+3]': 'រថយចុះ'}, {'kcc': 'ថ', 't': 'C', 'ns': False, 'kcc[-1]': 'រ', 'kcc[-1]t': 'C', 'kcc[-1:0]': 'រថ', 'ns-1': False, 'kcc[-2]': 'កា', 'kcc[-2]t': 'K2', 'kcc[-2:-1]': 'ការ', 'kcc[-2:0]': 'ការថ', 'kcc[-3]': 'ណៈ', 'kcc[-3]t': 'K2', 'kcc[-3:0]': 'ណៈការថ', 'kcc[-3:-1]': 'ណៈការ', 'kcc[-3:-2]': 'ណៈកា', 'kcc[+1]': 'យ', 'kcc[+1]t': 'C', 'kcc[+1:0]': 'ថយ', 'ns+1': False, 'kcc[+2]': 'ចុះ', 'kcc[+2]t': 'K3', 'kcc[+1:+2]': 'យចុះ', 'kcc[0:+2]': 'ថយចុះ', 'ns+2': False, 'kcc[+3]': 'នៅ', 'kcc[+3]t': 'K2', 'kcc[+2:+3]': 'ចុះនៅ', 'kcc[+1:+3]': 'យចុះនៅ', 'kcc[0:+3]': 'ថយចុះនៅ'}, {'kcc': 'យ', 't': 'C', 'ns': False, 'kcc[-1]': 'ថ', 'kcc[-1]t': 'C', 'kcc[-1:0]': 'ថយ', 'ns-1': False, 'kcc[-2]': 'រ', 'kcc[-2]t': 'C', 'kcc[-2:-1]': 'រថ', 'kcc[-2:0]': 'រថយ', 'kcc[-3]': 'កា', 'kcc[-3]t': 'K2', 'kcc[-3:0]': 'ការថយ', 'kcc[-3:-1]': 'ការថ', 'kcc[-3:-2]': 'ការ', 'kcc[+1]': 'ចុះ', 'kcc[+1]t': 'K3', 'kcc[+1:0]': 'យចុះ', 'ns+1': False, 'kcc[+2]': 'នៅ', 'kcc[+2]t': 'K2', 'kcc[+1:+2]': 'ចុះនៅ', 'kcc[0:+2]': 'យចុះនៅ', 'ns+2': False, 'kcc[+3]': 'ក្នុ', 'kcc[+3]t': 'K4', 'kcc[+2:+3]': 'នៅក្នុ', 'kcc[+1:+3]': 'ចុះនៅក្នុ', 'kcc[0:+3]': 'យចុះនៅក្នុ'}, {'kcc': 'ចុះ', 't': 'K3', 'ns': False, 'kcc[-1]': 'យ', 'kcc[-1]t': 'C', 'kcc[-1:0]': 'យចុះ', 'ns-1': False, 'kcc[-2]': 'ថ', 'kcc[-2]t': 'C', 'kcc[-2:-1]': 'ថយ', 'kcc[-2:0]': 'ថយចុះ', 'kcc[-3]': 'រ', 'kcc[-3]t': 'C', 'kcc[-3:0]': 'រថយចុះ', 'kcc[-3:-1]': 'រថយ', 'kcc[-3:-2]': 'រថ', 'kcc[+1]': 'នៅ', 'kcc[+1]t': 'K2', 'kcc[+1:0]': 'ចុះនៅ', 'ns+1': False, 'kcc[+2]': 'ក្នុ', 'kcc[+2]t': 'K4', 'kcc[+1:+2]': 'នៅក្នុ', 'kcc[0:+2]': 'ចុះនៅក្នុ', 'ns+2': False, 'kcc[+3]': 'ង', 'kcc[+3]t': 'C', 'kcc[+2:+3]': 'ក្នុង', 'kcc[+1:+3]': 'នៅក្នុង', 'kcc[0:+3]': 'ចុះនៅក្នុង'}, {'kcc': 'នៅ', 't': 'K2', 'ns': False, 'kcc[-1]': 'ចុះ', 'kcc[-1]t': 'K3', 'kcc[-1:0]': 'ចុះនៅ', 'ns-1': False, 'kcc[-2]': 'យ', 'kcc[-2]t': 'C', 'kcc[-2:-1]': 'យចុះ', 'kcc[-2:0]': 'យចុះនៅ', 'kcc[-3]': 'ថ', 'kcc[-3]t': 'C', 'kcc[-3:0]': 'ថយចុះនៅ', 'kcc[-3:-1]': 'ថយចុះ', 'kcc[-3:-2]': 'ថយ', 'kcc[+1]': 'ក្នុ', 'kcc[+1]t': 'K4', 'kcc[+1:0]': 'នៅក្នុ', 'ns+1': False, 'kcc[+2]': 'ង', 'kcc[+2]t': 'C', 'kcc[+1:+2]': 'ក្នុង', 'kcc[0:+2]': 'នៅក្នុង', 'ns+2': False, 'kcc[+3]': 'ព', 'kcc[+3]t': 'C', 'kcc[+2:+3]': 'ងព', 'kcc[+1:+3]': 'ក្នុងព', 'kcc[0:+3]': 'នៅក្នុងព'}, {'kcc': 'ក្នុ', 't': 'K4', 'ns': False, 'kcc[-1]': 'នៅ', 'kcc[-1]t': 'K2', 'kcc[-1:0]': 'នៅក្នុ', 'ns-1': False, 'kcc[-2]': 'ចុះ', 'kcc[-2]t': 'K3', 'kcc[-2:-1]': 'ចុះនៅ', 'kcc[-2:0]': 'ចុះនៅក្នុ', 'kcc[-3]': 'យ', 'kcc[-3]t': 'C', 'kcc[-3:0]': 'យចុះនៅក្នុ', 'kcc[-3:-1]': 'យចុះនៅ', 'kcc[-3:-2]': 'យចុះ', 'kcc[+1]': 'ង', 'kcc[+1]t': 'C', 'kcc[+1:0]': 'ក្នុង', 'ns+1': False, 'kcc[+2]': 'ព', 'kcc[+2]t': 'C', 'kcc[+1:+2]': 'ងព', 'kcc[0:+2]': 'ក្នុងព', 'ns+2': False, 'kcc[+3]': 'ន្ធ', 'kcc[+3]t': 'K3', 'kcc[+2:+3]': 'ពន្ធ', 'kcc[+1:+3]': 'ងពន្ធ', 'kcc[0:+3]': 'ក្នុងពន្ធ'}, {'kcc': 'ង', 't': 'C', 'ns': False, 'kcc[-1]': 'ក្នុ', 'kcc[-1]t': 'K4', 'kcc[-1:0]': 'ក្នុង', 'ns-1': False, 'kcc[-2]': 'នៅ', 'kcc[-2]t': 'K2', 'kcc[-2:-1]': 'នៅក្នុ', 'kcc[-2:0]': 'នៅក្នុង', 'kcc[-3]': 'ចុះ', 'kcc[-3]t': 'K3', 'kcc[-3:0]': 'ចុះនៅក្នុង', 'kcc[-3:-1]': 'ចុះនៅក្នុ', 'kcc[-3:-2]': 'ចុះនៅ', 'kcc[+1]': 'ព', 'kcc[+1]t': 'C', 'kcc[+1:0]': 'ងព', 'ns+1': False, 'kcc[+2]': 'ន្ធ', 'kcc[+2]t': 'K3', 'kcc[+1:+2]': 'ពន្ធ', 'kcc[0:+2]': 'ងពន្ធ', 'ns+2': False, 'kcc[+3]': 'ទៅ', 'kcc[+3]t': 'K2', 'kcc[+2:+3]': 'ន្ធទៅ', 'kcc[+1:+3]': 'ពន្ធទៅ', 'kcc[0:+3]': 'ងពន្ធទៅ'}, {'kcc': 'ព', 't': 'C', 'ns': False, 'kcc[-1]': 'ង', 'kcc[-1]t': 'C', 'kcc[-1:0]': 'ងព', 'ns-1': False, 'kcc[-2]': 'ក្នុ', 'kcc[-2]t': 'K4', 'kcc[-2:-1]': 'ក្នុង', 'kcc[-2:0]': 'ក្នុងព', 'kcc[-3]': 'នៅ', 'kcc[-3]t': 'K2', 'kcc[-3:0]': 'នៅក្នុងព', 'kcc[-3:-1]': 'នៅក្នុង', 'kcc[-3:-2]': 'នៅក្នុ', 'kcc[+1]': 'ន្ធ', 'kcc[+1]t': 'K3', 'kcc[+1:0]': 'ពន្ធ', 'ns+1': False, 'kcc[+2]': 'ទៅ', 'kcc[+2]t': 'K2', 'kcc[+1:+2]': 'ន្ធទៅ', 'kcc[0:+2]': 'ពន្ធទៅ', 'ns+2': False, 'kcc[+3]': 'លើ', 'kcc[+3]t': 'K2', 'kcc[+2:+3]': 'ទៅលើ', 'kcc[+1:+3]': 'ន្ធទៅលើ', 'kcc[0:+3]': 'ពន្ធទៅលើ'}, {'kcc': 'ន្ធ', 't': 'K3', 'ns': False, 'kcc[-1]': 'ព', 'kcc[-1]t': 'C', 'kcc[-1:0]': 'ពន្ធ', 'ns-1': False, 'kcc[-2]': 'ង', 'kcc[-2]t': 'C', 'kcc[-2:-1]': 'ងព', 'kcc[-2:0]': 'ងពន្ធ', 'kcc[-3]': 'ក្នុ', 'kcc[-3]t': 'K4', 'kcc[-3:0]': 'ក្នុងពន្ធ', 'kcc[-3:-1]': 'ក្នុងព', 'kcc[-3:-2]': 'ក្នុង', 'kcc[+1]': 'ទៅ', 'kcc[+1]t': 'K2', 'kcc[+1:0]': 'ន្ធទៅ', 'ns+1': False, 'kcc[+2]': 'លើ', 'kcc[+2]t': 'K2', 'kcc[+1:+2]': 'ទៅលើ', 'kcc[0:+2]': 'ន្ធទៅលើ', 'ns+2': False, 'kcc[+3]': 'ផ', 'kcc[+3]t': 'C', 'kcc[+2:+3]': 'លើផ', 'kcc[+1:+3]': 'ទៅលើផ', 'kcc[0:+3]': 'ន្ធទៅលើផ'}, {'kcc': 'ទៅ', 't': 'K2', 'ns': False, 'kcc[-1]': 'ន្ធ', 'kcc[-1]t': 'K3', 'kcc[-1:0]': 'ន្ធទៅ', 'ns-1': False, 'kcc[-2]': 'ព', 'kcc[-2]t': 'C', 'kcc[-2:-1]': 'ពន្ធ', 'kcc[-2:0]': 'ពន្ធទៅ', 'kcc[-3]': 'ង', 'kcc[-3]t': 'C', 'kcc[-3:0]': 'ងពន្ធទៅ', 'kcc[-3:-1]': 'ងពន្ធ', 'kcc[-3:-2]': 'ងព', 'kcc[+1]': 'លើ', 'kcc[+1]t': 'K2', 'kcc[+1:0]': 'ទៅលើ', 'ns+1': False, 'kcc[+2]': 'ផ', 'kcc[+2]t': 'C', 'kcc[+1:+2]': 'លើផ', 'kcc[0:+2]': 'ទៅលើផ', 'ns+2': False, 'kcc[+3]': 'លិ', 'kcc[+3]t': 'K2', 'kcc[+2:+3]': 'ផលិ', 'kcc[+1:+3]': 'លើផលិ', 'kcc[0:+3]': 'ទៅលើផលិ'}, {'kcc': 'លើ', 't': 'K2', 'ns': False, 'kcc[-1]': 'ទៅ', 'kcc[-1]t': 'K2', 'kcc[-1:0]': 'ទៅលើ', 'ns-1': False, 'kcc[-2]': 'ន្ធ', 'kcc[-2]t': 'K3', 'kcc[-2:-1]': 'ន្ធទៅ', 'kcc[-2:0]': 'ន្ធទៅលើ', 'kcc[-3]': 'ព', 'kcc[-3]t': 'C', 'kcc[-3:0]': 'ពន្ធទៅលើ', 'kcc[-3:-1]': 'ពន្ធទៅ', 'kcc[-3:-2]': 'ពន្ធ', 'kcc[+1]': 'ផ', 'kcc[+1]t': 'C', 'kcc[+1:0]': 'លើផ', 'ns+1': False, 'kcc[+2]': 'លិ', 'kcc[+2]t': 'K2', 'kcc[+1:+2]': 'ផលិ', 'kcc[0:+2]': 'លើផលិ', 'ns+2': False, 'kcc[+3]': 'ត', 'kcc[+3]t': 'C', 'kcc[+2:+3]': 'លិត', 'kcc[+1:+3]': 'ផលិត', 'kcc[0:+3]': 'លើផលិត'}, {'kcc': 'ផ', 't': 'C', 'ns': False, 'kcc[-1]': 'លើ', 'kcc[-1]t': 'K2', 'kcc[-1:0]': 'លើផ', 'ns-1': False, 'kcc[-2]': 'ទៅ', 'kcc[-2]t': 'K2', 'kcc[-2:-1]': 'ទៅលើ', 'kcc[-2:0]': 'ទៅលើផ', 'kcc[-3]': 'ន្ធ', 'kcc[-3]t': 'K3', 'kcc[-3:0]': 'ន្ធទៅលើផ', 'kcc[-3:-1]': 'ន្ធទៅលើ', 'kcc[-3:-2]': 'ន្ធទៅ', 'kcc[+1]': 'លិ', 'kcc[+1]t': 'K2', 'kcc[+1:0]': 'ផលិ', 'ns+1': False, 'kcc[+2]': 'ត', 'kcc[+2]t': 'C', 'kcc[+1:+2]': 'លិត', 'kcc[0:+2]': 'ផលិត', 'ns+2': False, 'kcc[+3]': 'ផ', 'kcc[+3]t': 'C', 'kcc[+2:+3]': 'តផ', 'kcc[+1:+3]': 'លិតផ', 'kcc[0:+3]': 'ផលិតផ'}, {'kcc': 'លិ', 't': 'K2', 'ns': False, 'kcc[-1]': 'ផ', 'kcc[-1]t': 'C', 'kcc[-1:0]': 'ផលិ', 'ns-1': False, 'kcc[-2]': 'លើ', 'kcc[-2]t': 'K2', 'kcc[-2:-1]': 'លើផ', 'kcc[-2:0]': 'លើផលិ', 'kcc[-3]': 'ទៅ', 'kcc[-3]t': 'K2', 'kcc[-3:0]': 'ទៅលើផលិ', 'kcc[-3:-1]': 'ទៅលើផ', 'kcc[-3:-2]': 'ទៅលើ', 'kcc[+1]': 'ត', 'kcc[+1]t': 'C', 'kcc[+1:0]': 'លិត', 'ns+1': False, 'kcc[+2]': 'ផ', 'kcc[+2]t': 'C', 'kcc[+1:+2]': 'តផ', 'kcc[0:+2]': 'លិតផ', 'ns+2': False, 'kcc[+3]': 'ល', 'kcc[+3]t': 'C', 'kcc[+2:+3]': 'ផល', 'kcc[+1:+3]': 'តផល', 'kcc[0:+3]': 'លិតផល'}, {'kcc': 'ត', 't': 'C', 'ns': False, 'kcc[-1]': 'លិ', 'kcc[-1]t': 'K2', 'kcc[-1:0]': 'លិត', 'ns-1': False, 'kcc[-2]': 'ផ', 'kcc[-2]t': 'C', 'kcc[-2:-1]': 'ផលិ', 'kcc[-2:0]': 'ផលិត', 'kcc[-3]': 'លើ', 'kcc[-3]t': 'K2', 'kcc[-3:0]': 'លើផលិត', 'kcc[-3:-1]': 'លើផលិ', 'kcc[-3:-2]': 'លើផ', 'kcc[+1]': 'ផ', 'kcc[+1]t': 'C', 'kcc[+1:0]': 'តផ', 'ns+1': False, 'kcc[+2]': 'ល', 'kcc[+2]t': 'C', 'kcc[+1:+2]': 'ផល', 'kcc[0:+2]': 'តផល', 'ns+2': False, 'kcc[+3]': 'ប្រេ', 'kcc[+3]t': 'K4', 'kcc[+2:+3]': 'លប្រេ', 'kcc[+1:+3]': 'ផលប្រេ', 'kcc[0:+3]': 'តផលប្រេ'}, {'kcc': 'ផ', 't': 'C', 'ns': False, 'kcc[-1]': 'ត', 'kcc[-1]t': 'C', 'kcc[-1:0]': 'តផ', 'ns-1': False, 'kcc[-2]': 'លិ', 'kcc[-2]t': 'K2', 'kcc[-2:-1]': 'លិត', 'kcc[-2:0]': 'លិតផ', 'kcc[-3]': 'ផ', 'kcc[-3]t': 'C', 'kcc[-3:0]': 'ផលិតផ', 'kcc[-3:-1]': 'ផលិត', 'kcc[-3:-2]': 'ផលិ', 'kcc[+1]': 'ល', 'kcc[+1]t': 'C', 'kcc[+1:0]': 'ផល', 'ns+1': False, 'kcc[+2]': 'ប្រេ', 'kcc[+2]t': 'K4', 'kcc[+1:+2]': 'លប្រេ', 'kcc[0:+2]': 'ផលប្រេ', 'ns+2': False, 'kcc[+3]': 'ង', 'kcc[+3]t': 'C', 'kcc[+2:+3]': 'ប្រេង', 'kcc[+1:+3]': 'លប្រេង', 'kcc[0:+3]': 'ផលប្រេង'}, {'kcc': 'ល', 't': 'C', 'ns': False, 'kcc[-1]': 'ផ', 'kcc[-1]t': 'C', 'kcc[-1:0]': 'ផល', 'ns-1': False, 'kcc[-2]': 'ត', 'kcc[-2]t': 'C', 'kcc[-2:-1]': 'តផ', 'kcc[-2:0]': 'តផល', 'kcc[-3]': 'លិ', 'kcc[-3]t': 'K2', 'kcc[-3:0]': 'លិតផល', 'kcc[-3:-1]': 'លិតផ', 'kcc[-3:-2]': 'លិត', 'kcc[+1]': 'ប្រេ', 'kcc[+1]t': 'K4', 'kcc[+1:0]': 'លប្រេ', 'ns+1': False, 'kcc[+2]': 'ង', 'kcc[+2]t': 'C', 'kcc[+1:+2]': 'ប្រេង', 'kcc[0:+2]': 'លប្រេង', 'ns+2': False, 'kcc[+3]': 'ដោ', 'kcc[+3]t': 'K2', 'kcc[+2:+3]': 'ងដោ', 'kcc[+1:+3]': 'ប្រេងដោ', 'kcc[0:+3]': 'លប្រេងដោ'}, {'kcc': 'ប្រេ', 't': 'K4', 'ns': False, 'kcc[-1]': 'ល', 'kcc[-1]t': 'C', 'kcc[-1:0]': 'លប្រេ', 'ns-1': False, 'kcc[-2]': 'ផ', 'kcc[-2]t': 'C', 'kcc[-2:-1]': 'ផល', 'kcc[-2:0]': 'ផលប្រេ', 'kcc[-3]': 'ត', 'kcc[-3]t': 'C', 'kcc[-3:0]': 'តផលប្រេ', 'kcc[-3:-1]': 'តផល', 'kcc[-3:-2]': 'តផ', 'kcc[+1]': 'ង', 'kcc[+1]t': 'C', 'kcc[+1:0]': 'ប្រេង', 'ns+1': False, 'kcc[+2]': 'ដោ', 'kcc[+2]t': 'K2', 'kcc[+1:+2]': 'ងដោ', 'kcc[0:+2]': 'ប្រេងដោ', 'ns+2': False, 'kcc[+3]': 'យ', 'kcc[+3]t': 'C', 'kcc[+2:+3]': 'ដោយ', 'kcc[+1:+3]': 'ងដោយ', 'kcc[0:+3]': 'ប្រេងដោយ'}, {'kcc': 'ង', 't': 'C', 'ns': False, 'kcc[-1]': 'ប្រេ', 'kcc[-1]t': 'K4', 'kcc[-1:0]': 'ប្រេង', 'ns-1': False, 'kcc[-2]': 'ល', 'kcc[-2]t': 'C', 'kcc[-2:-1]': 'លប្រេ', 'kcc[-2:0]': 'លប្រេង', 'kcc[-3]': 'ផ', 'kcc[-3]t': 'C', 'kcc[-3:0]': 'ផលប្រេង', 'kcc[-3:-1]': 'ផលប្រេ', 'kcc[-3:-2]': 'ផល', 'kcc[+1]': 'ដោ', 'kcc[+1]t': 'K2', 'kcc[+1:0]': 'ងដោ', 'ns+1': False, 'kcc[+2]': 'យ', 'kcc[+2]t': 'C', 'kcc[+1:+2]': 'ដោយ', 'kcc[0:+2]': 'ងដោយ', 'ns+2': False, 'kcc[+3]': 'ភា', 'kcc[+3]t': 'K2', 'kcc[+2:+3]': 'យភា', 'kcc[+1:+3]': 'ដោយភា', 'kcc[0:+3]': 'ងដោយភា'}, {'kcc': 'ដោ', 't': 'K2', 'ns': False, 'kcc[-1]': 'ង', 'kcc[-1]t': 'C', 'kcc[-1:0]': 'ងដោ', 'ns-1': False, 'kcc[-2]': 'ប្រេ', 'kcc[-2]t': 'K4', 'kcc[-2:-1]': 'ប្រេង', 'kcc[-2:0]': 'ប្រេងដោ', 'kcc[-3]': 'ល', 'kcc[-3]t': 'C', 'kcc[-3:0]': 'លប្រេងដោ', 'kcc[-3:-1]': 'លប្រេង', 'kcc[-3:-2]': 'លប្រេ', 'kcc[+1]': 'យ', 'kcc[+1]t': 'C', 'kcc[+1:0]': 'ដោយ', 'ns+1': False, 'kcc[+2]': 'ភា', 'kcc[+2]t': 'K2', 'kcc[+1:+2]': 'យភា', 'kcc[0:+2]': 'ដោយភា', 'ns+2': False, 'kcc[+3]': 'គី', 'kcc[+3]t': 'K2', 'kcc[+2:+3]': 'ភាគី', 'kcc[+1:+3]': 'យភាគី', 'kcc[0:+3]': 'ដោយភាគី'}, {'kcc': 'យ', 't': 'C', 'ns': False, 'kcc[-1]': 'ដោ', 'kcc[-1]t': 'K2', 'kcc[-1:0]': 'ដោយ', 'ns-1': False, 'kcc[-2]': 'ង', 'kcc[-2]t': 'C', 'kcc[-2:-1]': 'ងដោ', 'kcc[-2:0]': 'ងដោយ', 'kcc[-3]': 'ប្រេ', 'kcc[-3]t': 'K4', 'kcc[-3:0]': 'ប្រេងដោយ', 'kcc[-3:-1]': 'ប្រេងដោ', 'kcc[-3:-2]': 'ប្រេង', 'kcc[+1]': 'ភា', 'kcc[+1]t': 'K2', 'kcc[+1:0]': 'យភា', 'ns+1': False, 'kcc[+2]': 'គី', 'kcc[+2]t': 'K2', 'kcc[+1:+2]': 'ភាគី', 'kcc[0:+2]': 'យភាគី', 'ns+2': False, 'kcc[+3]': 'ក', 'kcc[+3]t': 'C', 'kcc[+2:+3]': 'គីក', 'kcc[+1:+3]': 'ភាគីក', 'kcc[0:+3]': 'យភាគីក'}, {'kcc': 'ភា', 't': 'K2', 'ns': False, 'kcc[-1]': 'យ', 'kcc[-1]t': 'C', 'kcc[-1:0]': 'យភា', 'ns-1': False, 'kcc[-2]': 'ដោ', 'kcc[-2]t': 'K2', 'kcc[-2:-1]': 'ដោយ', 'kcc[-2:0]': 'ដោយភា', 'kcc[-3]': 'ង', 'kcc[-3]t': 'C', 'kcc[-3:0]': 'ងដោយភា', 'kcc[-3:-1]': 'ងដោយ', 'kcc[-3:-2]': 'ងដោ', 'kcc[+1]': 'គី', 'kcc[+1]t': 'K2', 'kcc[+1:0]': 'ភាគី', 'ns+1': False, 'kcc[+2]': 'ក', 'kcc[+2]t': 'C', 'kcc[+1:+2]': 'គីក', 'kcc[0:+2]': 'ភាគីក', 'ns+2': False, 'kcc[+3]': 'ណ្តា', 'kcc[+3]t': 'K4', 'kcc[+2:+3]': 'កណ្តា', 'kcc[+1:+3]': 'គីកណ្តា', 'kcc[0:+3]': 'ភាគីកណ្តា'}, {'kcc': 'គី', 't': 'K2', 'ns': False, 'kcc[-1]': 'ភា', 'kcc[-1]t': 'K2', 'kcc[-1:0]': 'ភាគី', 'ns-1': False, 'kcc[-2]': 'យ', 'kcc[-2]t': 'C', 'kcc[-2:-1]': 'យភា', 'kcc[-2:0]': 'យភាគី', 'kcc[-3]': 'ដោ', 'kcc[-3]t': 'K2', 'kcc[-3:0]': 'ដោយភាគី', 'kcc[-3:-1]': 'ដោយភា', 'kcc[-3:-2]': 'ដោយ', 'kcc[+1]': 'ក', 'kcc[+1]t': 'C', 'kcc[+1:0]': 'គីក', 'ns+1': False, 'kcc[+2]': 'ណ្តា', 'kcc[+2]t': 'K4', 'kcc[+1:+2]': 'កណ្តា', 'kcc[0:+2]': 'គីកណ្តា', 'ns+2': False, 'kcc[+3]': 'ល', 'kcc[+3]t': 'C', 'kcc[+2:+3]': 'ណ្តាល', 'kcc[+1:+3]': 'កណ្តាល', 'kcc[0:+3]': 'គីកណ្តាល'}, {'kcc': 'ក', 't': 'C', 'ns': False, 'kcc[-1]': 'គី', 'kcc[-1]t': 'K2', 'kcc[-1:0]': 'គីក', 'ns-1': False, 'kcc[-2]': 'ភា', 'kcc[-2]t': 'K2', 'kcc[-2:-1]': 'ភាគី', 'kcc[-2:0]': 'ភាគីក', 'kcc[-3]': 'យ', 'kcc[-3]t': 'C', 'kcc[-3:0]': 'យភាគីក', 'kcc[-3:-1]': 'យភាគី', 'kcc[-3:-2]': 'យភា', 'kcc[+1]': 'ណ្តា', 'kcc[+1]t': 'K4', 'kcc[+1:0]': 'កណ្តា', 'ns+1': False, 'kcc[+2]': 'ល', 'kcc[+2]t': 'C', 'kcc[+1:+2]': 'ណ្តាល', 'kcc[0:+2]': 'កណ្តាល', 'ns+2': False, 'kcc[+3]': 'និ', 'kcc[+3]t': 'K2', 'kcc[+2:+3]': 'លនិ', 'kcc[+1:+3]': 'ណ្តាលនិ', 'kcc[0:+3]': 'កណ្តាលនិ'}, {'kcc': 'ណ្តា', 't': 'K4', 'ns': False, 'kcc[-1]': 'ក', 'kcc[-1]t': 'C', 'kcc[-1:0]': 'កណ្តា', 'ns-1': False, 'kcc[-2]': 'គី', 'kcc[-2]t': 'K2', 'kcc[-2:-1]': 'គីក', 'kcc[-2:0]': 'គីកណ្តា', 'kcc[-3]': 'ភា', 'kcc[-3]t': 'K2', 'kcc[-3:0]': 'ភាគីកណ្តា', 'kcc[-3:-1]': 'ភាគីក', 'kcc[-3:-2]': 'ភាគី', 'kcc[+1]': 'ល', 'kcc[+1]t': 'C', 'kcc[+1:0]': 'ណ្តាល', 'ns+1': False, 'kcc[+2]': 'និ', 'kcc[+2]t': 'K2', 'kcc[+1:+2]': 'លនិ', 'kcc[0:+2]': 'ណ្តាលនិ', 'ns+2': False, 'kcc[+3]': 'ង', 'kcc[+3]t': 'C', 'kcc[+2:+3]': 'និង', 'kcc[+1:+3]': 'លនិង', 'kcc[0:+3]': 'ណ្តាលនិង'}, {'kcc': 'ល', 't': 'C', 'ns': False, 'kcc[-1]': 'ណ្តា', 'kcc[-1]t': 'K4', 'kcc[-1:0]': 'ណ្តាល', 'ns-1': False, 'kcc[-2]': 'ក', 'kcc[-2]t': 'C', 'kcc[-2:-1]': 'កណ្តា', 'kcc[-2:0]': 'កណ្តាល', 'kcc[-3]': 'គី', 'kcc[-3]t': 'K2', 'kcc[-3:0]': 'គីកណ្តាល', 'kcc[-3:-1]': 'គីកណ្តា', 'kcc[-3:-2]': 'គីក', 'kcc[+1]': 'និ', 'kcc[+1]t': 'K2', 'kcc[+1:0]': 'លនិ', 'ns+1': False, 'kcc[+2]': 'ង', 'kcc[+2]t': 'C', 'kcc[+1:+2]': 'និង', 'kcc[0:+2]': 'លនិង', 'ns+2': False, 'kcc[+3]': 'រ', 'kcc[+3]t': 'C', 'kcc[+2:+3]': 'ងរ', 'kcc[+1:+3]': 'និងរ', 'kcc[0:+3]': 'លនិងរ'}, {'kcc': 'និ', 't': 'K2', 'ns': False, 'kcc[-1]': 'ល', 'kcc[-1]t': 'C', 'kcc[-1:0]': 'លនិ', 'ns-1': False, 'kcc[-2]': 'ណ្តា', 'kcc[-2]t': 'K4', 'kcc[-2:-1]': 'ណ្តាល', 'kcc[-2:0]': 'ណ្តាលនិ', 'kcc[-3]': 'ក', 'kcc[-3]t': 'C', 'kcc[-3:0]': 'កណ្តាលនិ', 'kcc[-3:-1]': 'កណ្តាល', 'kcc[-3:-2]': 'កណ្តា', 'kcc[+1]': 'ង', 'kcc[+1]t': 'C', 'kcc[+1:0]': 'និង', 'ns+1': False, 'kcc[+2]': 'រ', 'kcc[+2]t': 'C', 'kcc[+1:+2]': 'ងរ', 'kcc[0:+2]': 'និងរ', 'ns+2': False, 'kcc[+3]': 'ដ្ឋា', 'kcc[+3]t': 'K4', 'kcc[+2:+3]': 'រដ្ឋា', 'kcc[+1:+3]': 'ងរដ្ឋា', 'kcc[0:+3]': 'និងរដ្ឋា'}, {'kcc': 'ង', 't': 'C', 'ns': False, 'kcc[-1]': 'និ', 'kcc[-1]t': 'K2', 'kcc[-1:0]': 'និង', 'ns-1': False, 'kcc[-2]': 'ល', 'kcc[-2]t': 'C', 'kcc[-2:-1]': 'លនិ', 'kcc[-2:0]': 'លនិង', 'kcc[-3]': 'ណ្តា', 'kcc[-3]t': 'K4', 'kcc[-3:0]': 'ណ្តាលនិង', 'kcc[-3:-1]': 'ណ្តាលនិ', 'kcc[-3:-2]': 'ណ្តាល', 'kcc[+1]': 'រ', 'kcc[+1]t': 'C', 'kcc[+1:0]': 'ងរ', 'ns+1': False, 'kcc[+2]': 'ដ្ឋា', 'kcc[+2]t': 'K4', 'kcc[+1:+2]': 'រដ្ឋា', 'kcc[0:+2]': 'ងរដ្ឋា', 'ns+2': False, 'kcc[+3]': 'ភិ', 'kcc[+3]t': 'K2', 'kcc[+2:+3]': 'ដ្ឋាភិ', 'kcc[+1:+3]': 'រដ្ឋាភិ', 'kcc[0:+3]': 'ងរដ្ឋាភិ'}, {'kcc': 'រ', 't': 'C', 'ns': False, 'kcc[-1]': 'ង', 'kcc[-1]t': 'C', 'kcc[-1:0]': 'ងរ', 'ns-1': False, 'kcc[-2]': 'និ', 'kcc[-2]t': 'K2', 'kcc[-2:-1]': 'និង', 'kcc[-2:0]': 'និងរ', 'kcc[-3]': 'ល', 'kcc[-3]t': 'C', 'kcc[-3:0]': 'លនិងរ', 'kcc[-3:-1]': 'លនិង', 'kcc[-3:-2]': 'លនិ', 'kcc[+1]': 'ដ្ឋា', 'kcc[+1]t': 'K4', 'kcc[+1:0]': 'រដ្ឋា', 'ns+1': False, 'kcc[+2]': 'ភិ', 'kcc[+2]t': 'K2', 'kcc[+1:+2]': 'ដ្ឋាភិ', 'kcc[0:+2]': 'រដ្ឋាភិ', 'ns+2': False, 'kcc[+3]': 'បា', 'kcc[+3]t': 'K2', 'kcc[+2:+3]': 'ភិបា', 'kcc[+1:+3]': 'ដ្ឋាភិបា', 'kcc[0:+3]': 'រដ្ឋាភិបា'}, {'kcc': 'ដ្ឋា', 't': 'K4', 'ns': False, 'kcc[-1]': 'រ', 'kcc[-1]t': 'C', 'kcc[-1:0]': 'រដ្ឋា', 'ns-1': False, 'kcc[-2]': 'ង', 'kcc[-2]t': 'C', 'kcc[-2:-1]': 'ងរ', 'kcc[-2:0]': 'ងរដ្ឋា', 'kcc[-3]': 'និ', 'kcc[-3]t': 'K2', 'kcc[-3:0]': 'និងរដ្ឋា', 'kcc[-3:-1]': 'និងរ', 'kcc[-3:-2]': 'និង', 'kcc[+1]': 'ភិ', 'kcc[+1]t': 'K2', 'kcc[+1:0]': 'ដ្ឋាភិ', 'ns+1': False, 'kcc[+2]': 'បា', 'kcc[+2]t': 'K2', 'kcc[+1:+2]': 'ភិបា', 'kcc[0:+2]': 'ដ្ឋាភិបា', 'ns+2': False, 'kcc[+3]': 'ល', 'kcc[+3]t': 'C', 'kcc[+2:+3]': 'បាល', 'kcc[+1:+3]': 'ភិបាល', 'kcc[0:+3]': 'ដ្ឋាភិបាល'}, {'kcc': 'ភិ', 't': 'K2', 'ns': False, 'kcc[-1]': 'ដ្ឋា', 'kcc[-1]t': 'K4', 'kcc[-1:0]': 'ដ្ឋាភិ', 'ns-1': False, 'kcc[-2]': 'រ', 'kcc[-2]t': 'C', 'kcc[-2:-1]': 'រដ្ឋា', 'kcc[-2:0]': 'រដ្ឋាភិ', 'kcc[-3]': 'ង', 'kcc[-3]t': 'C', 'kcc[-3:0]': 'ងរដ្ឋាភិ', 'kcc[-3:-1]': 'ងរដ្ឋា', 'kcc[-3:-2]': 'ងរ', 'kcc[+1]': 'បា', 'kcc[+1]t': 'K2', 'kcc[+1:0]': 'ភិបា', 'ns+1': False, 'kcc[+2]': 'ល', 'kcc[+2]t': 'C', 'kcc[+1:+2]': 'បាល', 'kcc[0:+2]': 'ភិបាល', 'ns+2': False, 'kcc[+3]': 'គឺ', 'kcc[+3]t': 'K2', 'kcc[+2:+3]': 'លគឺ', 'kcc[+1:+3]': 'បាលគឺ', 'kcc[0:+3]': 'ភិបាលគឺ'}, {'kcc': 'បា', 't': 'K2', 'ns': False, 'kcc[-1]': 'ភិ', 'kcc[-1]t': 'K2', 'kcc[-1:0]': 'ភិបា', 'ns-1': False, 'kcc[-2]': 'ដ្ឋា', 'kcc[-2]t': 'K4', 'kcc[-2:-1]': 'ដ្ឋាភិ', 'kcc[-2:0]': 'ដ្ឋាភិបា', 'kcc[-3]': 'រ', 'kcc[-3]t': 'C', 'kcc[-3:0]': 'រដ្ឋាភិបា', 'kcc[-3:-1]': 'រដ្ឋាភិ', 'kcc[-3:-2]': 'រដ្ឋា', 'kcc[+1]': 'ល', 'kcc[+1]t': 'C', 'kcc[+1:0]': 'បាល', 'ns+1': False, 'kcc[+2]': 'គឺ', 'kcc[+2]t': 'K2', 'kcc[+1:+2]': 'លគឺ', 'kcc[0:+2]': 'បាលគឺ', 'ns+2': False, 'kcc[+3]': 'ជា', 'kcc[+3]t': 'K2', 'kcc[+2:+3]': 'គឺជា', 'kcc[+1:+3]': 'លគឺជា', 'kcc[0:+3]': 'បាលគឺជា'}, {'kcc': 'ល', 't': 'C', 'ns': False, 'kcc[-1]': 'បា', 'kcc[-1]t': 'K2', 'kcc[-1:0]': 'បាល', 'ns-1': False, 'kcc[-2]': 'ភិ', 'kcc[-2]t': 'K2', 'kcc[-2:-1]': 'ភិបា', 'kcc[-2:0]': 'ភិបាល', 'kcc[-3]': 'ដ្ឋា', 'kcc[-3]t': 'K4', 'kcc[-3:0]': 'ដ្ឋាភិបាល', 'kcc[-3:-1]': 'ដ្ឋាភិបា', 'kcc[-3:-2]': 'ដ្ឋាភិ', 'kcc[+1]': 'គឺ', 'kcc[+1]t': 'K2', 'kcc[+1:0]': 'លគឺ', 'ns+1': False, 'kcc[+2]': 'ជា', 'kcc[+2]t': 'K2', 'kcc[+1:+2]': 'គឺជា', 'kcc[0:+2]': 'លគឺជា', 'ns+2': False, 'kcc[+3]': 'ដំ', 'kcc[+3]t': 'K2', 'kcc[+2:+3]': 'ជាដំ', 'kcc[+1:+3]': 'គឺជាដំ', 'kcc[0:+3]': 'លគឺជាដំ'}, {'kcc': 'គឺ', 't': 'K2', 'ns': False, 'kcc[-1]': 'ល', 'kcc[-1]t': 'C', 'kcc[-1:0]': 'លគឺ', 'ns-1': False, 'kcc[-2]': 'បា', 'kcc[-2]t': 'K2', 'kcc[-2:-1]': 'បាល', 'kcc[-2:0]': 'បាលគឺ', 'kcc[-3]': 'ភិ', 'kcc[-3]t': 'K2', 'kcc[-3:0]': 'ភិបាលគឺ', 'kcc[-3:-1]': 'ភិបាល', 'kcc[-3:-2]': 'ភិបា', 'kcc[+1]': 'ជា', 'kcc[+1]t': 'K2', 'kcc[+1:0]': 'គឺជា', 'ns+1': False, 'kcc[+2]': 'ដំ', 'kcc[+2]t': 'K2', 'kcc[+1:+2]': 'ជាដំ', 'kcc[0:+2]': 'គឺជាដំ', 'ns+2': False, 'kcc[+3]': 'ណោះ', 'kcc[+3]t': 'K3', 'kcc[+2:+3]': 'ដំណោះ', 'kcc[+1:+3]': 'ជាដំណោះ', 'kcc[0:+3]': 'គឺជាដំណោះ'}, {'kcc': 'ជា', 't': 'K2', 'ns': False, 'kcc[-1]': 'គឺ', 'kcc[-1]t': 'K2', 'kcc[-1:0]': 'គឺជា', 'ns-1': False, 'kcc[-2]': 'ល', 'kcc[-2]t': 'C', 'kcc[-2:-1]': 'លគឺ', 'kcc[-2:0]': 'លគឺជា', 'kcc[-3]': 'បា', 'kcc[-3]t': 'K2', 'kcc[-3:0]': 'បាលគឺជា', 'kcc[-3:-1]': 'បាលគឺ', 'kcc[-3:-2]': 'បាល', 'kcc[+1]': 'ដំ', 'kcc[+1]t': 'K2', 'kcc[+1:0]': 'ជាដំ', 'ns+1': False, 'kcc[+2]': 'ណោះ', 'kcc[+2]t': 'K3', 'kcc[+1:+2]': 'ដំណោះ', 'kcc[0:+2]': 'ជាដំណោះ', 'ns+2': False, 'kcc[+3]': 'ស្រា', 'kcc[+3]t': 'K4', 'kcc[+2:+3]': 'ណោះស្រា', 'kcc[+1:+3]': 'ដំណោះស្រា', 'kcc[0:+3]': 'ជាដំណោះស្រា'}, {'kcc': 'ដំ', 't': 'K2', 'ns': False, 'kcc[-1]': 'ជា', 'kcc[-1]t': 'K2', 'kcc[-1:0]': 'ជាដំ', 'ns-1': False, 'kcc[-2]': 'គឺ', 'kcc[-2]t': 'K2', 'kcc[-2:-1]': 'គឺជា', 'kcc[-2:0]': 'គឺជាដំ', 'kcc[-3]': 'ល', 'kcc[-3]t': 'C', 'kcc[-3:0]': 'លគឺជាដំ', 'kcc[-3:-1]': 'លគឺជា', 'kcc[-3:-2]': 'លគឺ', 'kcc[+1]': 'ណោះ', 'kcc[+1]t': 'K3', 'kcc[+1:0]': 'ដំណោះ', 'ns+1': False, 'kcc[+2]': 'ស្រា', 'kcc[+2]t': 'K4', 'kcc[+1:+2]': 'ណោះស្រា', 'kcc[0:+2]': 'ដំណោះស្រា', 'ns+2': False, 'kcc[+3]': 'យ', 'kcc[+3]t': 'C', 'kcc[+2:+3]': 'ស្រាយ', 'kcc[+1:+3]': 'ណោះស្រាយ', 'kcc[0:+3]': 'ដំណោះស្រាយ'}, {'kcc': 'ណោះ', 't': 'K3', 'ns': False, 'kcc[-1]': 'ដំ', 'kcc[-1]t': 'K2', 'kcc[-1:0]': 'ដំណោះ', 'ns-1': False, 'kcc[-2]': 'ជា', 'kcc[-2]t': 'K2', 'kcc[-2:-1]': 'ជាដំ', 'kcc[-2:0]': 'ជាដំណោះ', 'kcc[-3]': 'គឺ', 'kcc[-3]t': 'K2', 'kcc[-3:0]': 'គឺជាដំណោះ', 'kcc[-3:-1]': 'គឺជាដំ', 'kcc[-3:-2]': 'គឺជា', 'kcc[+1]': 'ស្រា', 'kcc[+1]t': 'K4', 'kcc[+1:0]': 'ណោះស្រា', 'ns+1': False, 'kcc[+2]': 'យ', 'kcc[+2]t': 'C', 'kcc[+1:+2]': 'ស្រាយ', 'kcc[0:+2]': 'ណោះស្រាយ', 'ns+2': False, 'kcc[+3]': 'ប', 'kcc[+3]t': 'C', 'kcc[+2:+3]': 'យប', 'kcc[+1:+3]': 'ស្រាយប', 'kcc[0:+3]': 'ណោះស្រាយប'}, {'kcc': 'ស្រា', 't': 'K4', 'ns': False, 'kcc[-1]': 'ណោះ', 'kcc[-1]t': 'K3', 'kcc[-1:0]': 'ណោះស្រា', 'ns-1': False, 'kcc[-2]': 'ដំ', 'kcc[-2]t': 'K2', 'kcc[-2:-1]': 'ដំណោះ', 'kcc[-2:0]': 'ដំណោះស្រា', 'kcc[-3]': 'ជា', 'kcc[-3]t': 'K2', 'kcc[-3:0]': 'ជាដំណោះស្រា', 'kcc[-3:-1]': 'ជាដំណោះ', 'kcc[-3:-2]': 'ជាដំ', 'kcc[+1]': 'យ', 'kcc[+1]t': 'C', 'kcc[+1:0]': 'ស្រាយ', 'ns+1': False, 'kcc[+2]': 'ប', 'kcc[+2]t': 'C', 'kcc[+1:+2]': 'យប', 'kcc[0:+2]': 'ស្រាយប', 'ns+2': False, 'kcc[+3]': 'ណ្តោះ', 'kcc[+3]t': 'K5', 'kcc[+2:+3]': 'បណ្តោះ', 'kcc[+1:+3]': 'យបណ្តោះ', 'kcc[0:+3]': 'ស្រាយបណ្តោះ'}, {'kcc': 'យ', 't': 'C', 'ns': False, 'kcc[-1]': 'ស្រា', 'kcc[-1]t': 'K4', 'kcc[-1:0]': 'ស្រាយ', 'ns-1': False, 'kcc[-2]': 'ណោះ', 'kcc[-2]t': 'K3', 'kcc[-2:-1]': 'ណោះស្រា', 'kcc[-2:0]': 'ណោះស្រាយ', 'kcc[-3]': 'ដំ', 'kcc[-3]t': 'K2', 'kcc[-3:0]': 'ដំណោះស្រាយ', 'kcc[-3:-1]': 'ដំណោះស្រា', 'kcc[-3:-2]': 'ដំណោះ', 'kcc[+1]': 'ប', 'kcc[+1]t': 'C', 'kcc[+1:0]': 'យប', 'ns+1': False, 'kcc[+2]': 'ណ្តោះ', 'kcc[+2]t': 'K5', 'kcc[+1:+2]': 'បណ្តោះ', 'kcc[0:+2]': 'យបណ្តោះ', 'ns+2': False, 'kcc[+3]': 'អា', 'kcc[+3]t': 'K2', 'kcc[+2:+3]': 'ណ្តោះអា', 'kcc[+1:+3]': 'បណ្តោះអា', 'kcc[0:+3]': 'យបណ្តោះអា'}, {'kcc': 'ប', 't': 'C', 'ns': False, 'kcc[-1]': 'យ', 'kcc[-1]t': 'C', 'kcc[-1:0]': 'យប', 'ns-1': False, 'kcc[-2]': 'ស្រា', 'kcc[-2]t': 'K4', 'kcc[-2:-1]': 'ស្រាយ', 'kcc[-2:0]': 'ស្រាយប', 'kcc[-3]': 'ណោះ', 'kcc[-3]t': 'K3', 'kcc[-3:0]': 'ណោះស្រាយប', 'kcc[-3:-1]': 'ណោះស្រាយ', 'kcc[-3:-2]': 'ណោះស្រា', 'kcc[+1]': 'ណ្តោះ', 'kcc[+1]t': 'K5', 'kcc[+1:0]': 'បណ្តោះ', 'ns+1': False, 'kcc[+2]': 'អា', 'kcc[+2]t': 'K2', 'kcc[+1:+2]': 'ណ្តោះអា', 'kcc[0:+2]': 'បណ្តោះអា', 'ns+2': False, 'kcc[+3]': 'ស', 'kcc[+3]t': 'C', 'kcc[+2:+3]': 'អាស', 'kcc[+1:+3]': 'ណ្តោះអាស', 'kcc[0:+3]': 'បណ្តោះអាស'}, {'kcc': 'ណ្តោះ', 't': 'K5', 'ns': False, 'kcc[-1]': 'ប', 'kcc[-1]t': 'C', 'kcc[-1:0]': 'បណ្តោះ', 'ns-1': False, 'kcc[-2]': 'យ', 'kcc[-2]t': 'C', 'kcc[-2:-1]': 'យប', 'kcc[-2:0]': 'យបណ្តោះ', 'kcc[-3]': 'ស្រា', 'kcc[-3]t': 'K4', 'kcc[-3:0]': 'ស្រាយបណ្តោះ', 'kcc[-3:-1]': 'ស្រាយប', 'kcc[-3:-2]': 'ស្រាយ', 'kcc[+1]': 'អា', 'kcc[+1]t': 'K2', 'kcc[+1:0]': 'ណ្តោះអា', 'ns+1': False, 'kcc[+2]': 'ស', 'kcc[+2]t': 'C', 'kcc[+1:+2]': 'អាស', 'kcc[0:+2]': 'ណ្តោះអាស', 'ns+2': False, 'kcc[+3]': 'ន្ន', 'kcc[+3]t': 'K3', 'kcc[+2:+3]': 'សន្ន', 'kcc[+1:+3]': 'អាសន្ន', 'kcc[0:+3]': 'ណ្តោះអាសន្ន'}, {'kcc': 'អា', 't': 'K2', 'ns': False, 'kcc[-1]': 'ណ្តោះ', 'kcc[-1]t': 'K5', 'kcc[-1:0]': 'ណ្តោះអា', 'ns-1': False, 'kcc[-2]': 'ប', 'kcc[-2]t': 'C', 'kcc[-2:-1]': 'បណ្តោះ', 'kcc[-2:0]': 'បណ្តោះអា', 'kcc[-3]': 'យ', 'kcc[-3]t': 'C', 'kcc[-3:0]': 'យបណ្តោះអា', 'kcc[-3:-1]': 'យបណ្តោះ', 'kcc[-3:-2]': 'យប', 'kcc[+1]': 'ស', 'kcc[+1]t': 'C', 'kcc[+1:0]': 'អាស', 'ns+1': False, 'kcc[+2]': 'ន្ន', 'kcc[+2]t': 'K3', 'kcc[+1:+2]': 'សន្ន', 'kcc[0:+2]': 'អាសន្ន', 'ns+2': False, 'kcc[+3]': 'មួ', 'kcc[+3]t': 'K2', 'kcc[+2:+3]': 'ន្នមួ', 'kcc[+1:+3]': 'សន្នមួ', 'kcc[0:+3]': 'អាសន្នមួ'}, {'kcc': 'ស', 't': 'C', 'ns': False, 'kcc[-1]': 'អា', 'kcc[-1]t': 'K2', 'kcc[-1:0]': 'អាស', 'ns-1': False, 'kcc[-2]': 'ណ្តោះ', 'kcc[-2]t': 'K5', 'kcc[-2:-1]': 'ណ្តោះអា', 'kcc[-2:0]': 'ណ្តោះអាស', 'kcc[-3]': 'ប', 'kcc[-3]t': 'C', 'kcc[-3:0]': 'បណ្តោះអាស', 'kcc[-3:-1]': 'បណ្តោះអា', 'kcc[-3:-2]': 'បណ្តោះ', 'kcc[+1]': 'ន្ន', 'kcc[+1]t': 'K3', 'kcc[+1:0]': 'សន្ន', 'ns+1': False, 'kcc[+2]': 'មួ', 'kcc[+2]t': 'K2', 'kcc[+1:+2]': 'ន្នមួ', 'kcc[0:+2]': 'សន្នមួ', 'ns+2': False, 'kcc[+3]': 'យ', 'kcc[+3]t': 'C', 'kcc[+2:+3]': 'មួយ', 'kcc[+1:+3]': 'ន្នមួយ', 'kcc[0:+3]': 'សន្នមួយ'}, {'kcc': 'ន្ន', 't': 'K3', 'ns': False, 'kcc[-1]': 'ស', 'kcc[-1]t': 'C', 'kcc[-1:0]': 'សន្ន', 'ns-1': False, 'kcc[-2]': 'អា', 'kcc[-2]t': 'K2', 'kcc[-2:-1]': 'អាស', 'kcc[-2:0]': 'អាសន្ន', 'kcc[-3]': 'ណ្តោះ', 'kcc[-3]t': 'K5', 'kcc[-3:0]': 'ណ្តោះអាសន្ន', 'kcc[-3:-1]': 'ណ្តោះអាស', 'kcc[-3:-2]': 'ណ្តោះអា', 'kcc[+1]': 'មួ', 'kcc[+1]t': 'K2', 'kcc[+1:0]': 'ន្នមួ', 'ns+1': False, 'kcc[+2]': 'យ', 'kcc[+2]t': 'C', 'kcc[+1:+2]': 'មួយ', 'kcc[0:+2]': 'ន្នមួយ', 'ns+2': False, 'kcc[+3]': 'ដំ', 'kcc[+3]t': 'K2', 'kcc[+2:+3]': 'យដំ', 'kcc[+1:+3]': 'មួយដំ', 'kcc[0:+3]': 'ន្នមួយដំ'}, {'kcc': 'មួ', 't': 'K2', 'ns': False, 'kcc[-1]': 'ន្ន', 'kcc[-1]t': 'K3', 'kcc[-1:0]': 'ន្នមួ', 'ns-1': False, 'kcc[-2]': 'ស', 'kcc[-2]t': 'C', 'kcc[-2:-1]': 'សន្ន', 'kcc[-2:0]': 'សន្នមួ', 'kcc[-3]': 'អា', 'kcc[-3]t': 'K2', 'kcc[-3:0]': 'អាសន្នមួ', 'kcc[-3:-1]': 'អាសន្ន', 'kcc[-3:-2]': 'អាស', 'kcc[+1]': 'យ', 'kcc[+1]t': 'C', 'kcc[+1:0]': 'មួយ', 'ns+1': False, 'kcc[+2]': 'ដំ', 'kcc[+2]t': 'K2', 'kcc[+1:+2]': 'យដំ', 'kcc[0:+2]': 'មួយដំ', 'ns+2': False, 'kcc[+3]': 'ណោះ', 'kcc[+3]t': 'K3', 'kcc[+2:+3]': 'ដំណោះ', 'kcc[+1:+3]': 'យដំណោះ', 'kcc[0:+3]': 'មួយដំណោះ'}, {'kcc': 'យ', 't': 'C', 'ns': False, 'kcc[-1]': 'មួ', 'kcc[-1]t': 'K2', 'kcc[-1:0]': 'មួយ', 'ns-1': False, 'kcc[-2]': 'ន្ន', 'kcc[-2]t': 'K3', 'kcc[-2:-1]': 'ន្នមួ', 'kcc[-2:0]': 'ន្នមួយ', 'kcc[-3]': 'ស', 'kcc[-3]t': 'C', 'kcc[-3:0]': 'សន្នមួយ', 'kcc[-3:-1]': 'សន្នមួ', 'kcc[-3:-2]': 'សន្ន', 'kcc[+1]': 'ដំ', 'kcc[+1]t': 'K2', 'kcc[+1:0]': 'យដំ', 'ns+1': False, 'kcc[+2]': 'ណោះ', 'kcc[+2]t': 'K3', 'kcc[+1:+2]': 'ដំណោះ', 'kcc[0:+2]': 'យដំណោះ', 'ns+2': False, 'kcc[+3]': 'ស្រា', 'kcc[+3]t': 'K4', 'kcc[+2:+3]': 'ណោះស្រា', 'kcc[+1:+3]': 'ដំណោះស្រា', 'kcc[0:+3]': 'យដំណោះស្រា'}, {'kcc': 'ដំ', 't': 'K2', 'ns': False, 'kcc[-1]': 'យ', 'kcc[-1]t': 'C', 'kcc[-1:0]': 'យដំ', 'ns-1': False, 'kcc[-2]': 'មួ', 'kcc[-2]t': 'K2', 'kcc[-2:-1]': 'មួយ', 'kcc[-2:0]': 'មួយដំ', 'kcc[-3]': 'ន្ន', 'kcc[-3]t': 'K3', 'kcc[-3:0]': 'ន្នមួយដំ', 'kcc[-3:-1]': 'ន្នមួយ', 'kcc[-3:-2]': 'ន្នមួ', 'kcc[+1]': 'ណោះ', 'kcc[+1]t': 'K3', 'kcc[+1:0]': 'ដំណោះ', 'ns+1': False, 'kcc[+2]': 'ស្រា', 'kcc[+2]t': 'K4', 'kcc[+1:+2]': 'ណោះស្រា', 'kcc[0:+2]': 'ដំណោះស្រា', 'ns+2': False, 'kcc[+3]': 'យ', 'kcc[+3]t': 'C', 'kcc[+2:+3]': 'ស្រាយ', 'kcc[+1:+3]': 'ណោះស្រាយ', 'kcc[0:+3]': 'ដំណោះស្រាយ'}, {'kcc': 'ណោះ', 't': 'K3', 'ns': False, 'kcc[-1]': 'ដំ', 'kcc[-1]t': 'K2', 'kcc[-1:0]': 'ដំណោះ', 'ns-1': False, 'kcc[-2]': 'យ', 'kcc[-2]t': 'C', 'kcc[-2:-1]': 'យដំ', 'kcc[-2:0]': 'យដំណោះ', 'kcc[-3]': 'មួ', 'kcc[-3]t': 'K2', 'kcc[-3:0]': 'មួយដំណោះ', 'kcc[-3:-1]': 'មួយដំ', 'kcc[-3:-2]': 'មួយ', 'kcc[+1]': 'ស្រា', 'kcc[+1]t': 'K4', 'kcc[+1:0]': 'ណោះស្រា', 'ns+1': False, 'kcc[+2]': 'យ', 'kcc[+2]t': 'C', 'kcc[+1:+2]': 'ស្រាយ', 'kcc[0:+2]': 'ណោះស្រាយ', 'ns+2': False, 'kcc[+3]': 'យូ', 'kcc[+3]t': 'K2', 'kcc[+2:+3]': 'យយូ', 'kcc[+1:+3]': 'ស្រាយយូ', 'kcc[0:+3]': 'ណោះស្រាយយូ'}, {'kcc': 'ស្រា', 't': 'K4', 'ns': False, 'kcc[-1]': 'ណោះ', 'kcc[-1]t': 'K3', 'kcc[-1:0]': 'ណោះស្រា', 'ns-1': False, 'kcc[-2]': 'ដំ', 'kcc[-2]t': 'K2', 'kcc[-2:-1]': 'ដំណោះ', 'kcc[-2:0]': 'ដំណោះស្រា', 'kcc[-3]': 'យ', 'kcc[-3]t': 'C', 'kcc[-3:0]': 'យដំណោះស្រា', 'kcc[-3:-1]': 'យដំណោះ', 'kcc[-3:-2]': 'យដំ', 'kcc[+1]': 'យ', 'kcc[+1]t': 'C', 'kcc[+1:0]': 'ស្រាយ', 'ns+1': False, 'kcc[+2]': 'យូ', 'kcc[+2]t': 'K2', 'kcc[+1:+2]': 'យយូ', 'kcc[0:+2]': 'ស្រាយយូ', 'ns+2': False, 'kcc[+3]': 'រ', 'kcc[+3]t': 'C', 'kcc[+2:+3]': 'យូរ', 'kcc[+1:+3]': 'យយូរ', 'kcc[0:+3]': 'ស្រាយយូរ'}, {'kcc': 'យ', 't': 'C', 'ns': False, 'kcc[-1]': 'ស្រា', 'kcc[-1]t': 'K4', 'kcc[-1:0]': 'ស្រាយ', 'ns-1': False, 'kcc[-2]': 'ណោះ', 'kcc[-2]t': 'K3', 'kcc[-2:-1]': 'ណោះស្រា', 'kcc[-2:0]': 'ណោះស្រាយ', 'kcc[-3]': 'ដំ', 'kcc[-3]t': 'K2', 'kcc[-3:0]': 'ដំណោះស្រាយ', 'kcc[-3:-1]': 'ដំណោះស្រា', 'kcc[-3:-2]': 'ដំណោះ', 'kcc[+1]': 'យូ', 'kcc[+1]t': 'K2', 'kcc[+1:0]': 'យយូ', 'ns+1': False, 'kcc[+2]': 'រ', 'kcc[+2]t': 'C', 'kcc[+1:+2]': 'យូរ', 'kcc[0:+2]': 'យយូរ', 'ns+2': False, 'kcc[+3]': 'អ', 'kcc[+3]t': 'C', 'kcc[+2:+3]': 'រអ', 'kcc[+1:+3]': 'យូរអ', 'kcc[0:+3]': 'យយូរអ'}, {'kcc': 'យូ', 't': 'K2', 'ns': False, 'kcc[-1]': 'យ', 'kcc[-1]t': 'C', 'kcc[-1:0]': 'យយូ', 'ns-1': False, 'kcc[-2]': 'ស្រា', 'kcc[-2]t': 'K4', 'kcc[-2:-1]': 'ស្រាយ', 'kcc[-2:0]': 'ស្រាយយូ', 'kcc[-3]': 'ណោះ', 'kcc[-3]t': 'K3', 'kcc[-3:0]': 'ណោះស្រាយយូ', 'kcc[-3:-1]': 'ណោះស្រាយ', 'kcc[-3:-2]': 'ណោះស្រា', 'kcc[+1]': 'រ', 'kcc[+1]t': 'C', 'kcc[+1:0]': 'យូរ', 'ns+1': False, 'kcc[+2]': 'អ', 'kcc[+2]t': 'C', 'kcc[+1:+2]': 'រអ', 'kcc[0:+2]': 'យូរអ', 'ns+2': False, 'kcc[+3]': 'ង្វែ', 'kcc[+3]t': 'K4', 'kcc[+2:+3]': 'អង្វែ', 'kcc[+1:+3]': 'រអង្វែ', 'kcc[0:+3]': 'យូរអង្វែ'}, {'kcc': 'រ', 't': 'C', 'ns': False, 'kcc[-1]': 'យូ', 'kcc[-1]t': 'K2', 'kcc[-1:0]': 'យូរ', 'ns-1': False, 'kcc[-2]': 'យ', 'kcc[-2]t': 'C', 'kcc[-2:-1]': 'យយូ', 'kcc[-2:0]': 'យយូរ', 'kcc[-3]': 'ស្រា', 'kcc[-3]t': 'K4', 'kcc[-3:0]': 'ស្រាយយូរ', 'kcc[-3:-1]': 'ស្រាយយូ', 'kcc[-3:-2]': 'ស្រាយ', 'kcc[+1]': 'អ', 'kcc[+1]t': 'C', 'kcc[+1:0]': 'រអ', 'ns+1': False, 'kcc[+2]': 'ង្វែ', 'kcc[+2]t': 'K4', 'kcc[+1:+2]': 'អង្វែ', 'kcc[0:+2]': 'រអង្វែ', 'ns+2': False, 'kcc[+3]': 'ង', 'kcc[+3]t': 'C', 'kcc[+2:+3]': 'ង្វែង', 'kcc[+1:+3]': 'អង្វែង', 'kcc[0:+3]': 'រអង្វែង'}, {'kcc': 'អ', 't': 'C', 'ns': False, 'kcc[-1]': 'រ', 'kcc[-1]t': 'C', 'kcc[-1:0]': 'រអ', 'ns-1': False, 'kcc[-2]': 'យូ', 'kcc[-2]t': 'K2', 'kcc[-2:-1]': 'យូរ', 'kcc[-2:0]': 'យូរអ', 'kcc[-3]': 'យ', 'kcc[-3]t': 'C', 'kcc[-3:0]': 'យយូរអ', 'kcc[-3:-1]': 'យយូរ', 'kcc[-3:-2]': 'យយូ', 'kcc[+1]': 'ង្វែ', 'kcc[+1]t': 'K4', 'kcc[+1:0]': 'អង្វែ', 'ns+1': False, 'kcc[+2]': 'ង', 'kcc[+2]t': 'C', 'kcc[+1:+2]': 'ង្វែង', 'kcc[0:+2]': 'អង្វែង', 'ns+2': False, 'kcc[+3]': 'គឺ', 'kcc[+3]t': 'K2', 'kcc[+2:+3]': 'ងគឺ', 'kcc[+1:+3]': 'ង្វែងគឺ', 'kcc[0:+3]': 'អង្វែងគឺ'}, {'kcc': 'ង្វែ', 't': 'K4', 'ns': False, 'kcc[-1]': 'អ', 'kcc[-1]t': 'C', 'kcc[-1:0]': 'អង្វែ', 'ns-1': False, 'kcc[-2]': 'រ', 'kcc[-2]t': 'C', 'kcc[-2:-1]': 'រអ', 'kcc[-2:0]': 'រអង្វែ', 'kcc[-3]': 'យូ', 'kcc[-3]t': 'K2', 'kcc[-3:0]': 'យូរអង្វែ', 'kcc[-3:-1]': 'យូរអ', 'kcc[-3:-2]': 'យូរ', 'kcc[+1]': 'ង', 'kcc[+1]t': 'C', 'kcc[+1:0]': 'ង្វែង', 'ns+1': False, 'kcc[+2]': 'គឺ', 'kcc[+2]t': 'K2', 'kcc[+1:+2]': 'ងគឺ', 'kcc[0:+2]': 'ង្វែងគឺ', 'ns+2': False, 'kcc[+3]': 'កា', 'kcc[+3]t': 'K2', 'kcc[+2:+3]': 'គឺកា', 'kcc[+1:+3]': 'ងគឺកា', 'kcc[0:+3]': 'ង្វែងគឺកា'}, {'kcc': 'ង', 't': 'C', 'ns': False, 'kcc[-1]': 'ង្វែ', 'kcc[-1]t': 'K4', 'kcc[-1:0]': 'ង្វែង', 'ns-1': False, 'kcc[-2]': 'អ', 'kcc[-2]t': 'C', 'kcc[-2:-1]': 'អង្វែ', 'kcc[-2:0]': 'អង្វែង', 'kcc[-3]': 'រ', 'kcc[-3]t': 'C', 'kcc[-3:0]': 'រអង្វែង', 'kcc[-3:-1]': 'រអង្វែ', 'kcc[-3:-2]': 'រអ', 'kcc[+1]': 'គឺ', 'kcc[+1]t': 'K2', 'kcc[+1:0]': 'ងគឺ', 'ns+1': False, 'kcc[+2]': 'កា', 'kcc[+2]t': 'K2', 'kcc[+1:+2]': 'គឺកា', 'kcc[0:+2]': 'ងគឺកា', 'ns+2': False, 'kcc[+3]': 'ត់', 'kcc[+3]t': 'K2', 'kcc[+2:+3]': 'កាត់', 'kcc[+1:+3]': 'គឺកាត់', 'kcc[0:+3]': 'ងគឺកាត់'}, {'kcc': 'គឺ', 't': 'K2', 'ns': False, 'kcc[-1]': 'ង', 'kcc[-1]t': 'C', 'kcc[-1:0]': 'ងគឺ', 'ns-1': False, 'kcc[-2]': 'ង្វែ', 'kcc[-2]t': 'K4', 'kcc[-2:-1]': 'ង្វែង', 'kcc[-2:0]': 'ង្វែងគឺ', 'kcc[-3]': 'អ', 'kcc[-3]t': 'C', 'kcc[-3:0]': 'អង្វែងគឺ', 'kcc[-3:-1]': 'អង្វែង', 'kcc[-3:-2]': 'អង្វែ', 'kcc[+1]': 'កា', 'kcc[+1]t': 'K2', 'kcc[+1:0]': 'គឺកា', 'ns+1': False, 'kcc[+2]': 'ត់', 'kcc[+2]t': 'K2', 'kcc[+1:+2]': 'កាត់', 'kcc[0:+2]': 'គឺកាត់', 'ns+2': False, 'kcc[+3]': 'ប', 'kcc[+3]t': 'C', 'kcc[+2:+3]': 'ត់ប', 'kcc[+1:+3]': 'កាត់ប', 'kcc[0:+3]': 'គឺកាត់ប'}, {'kcc': 'កា', 't': 'K2', 'ns': False, 'kcc[-1]': 'គឺ', 'kcc[-1]t': 'K2', 'kcc[-1:0]': 'គឺកា', 'ns-1': False, 'kcc[-2]': 'ង', 'kcc[-2]t': 'C', 'kcc[-2:-1]': 'ងគឺ', 'kcc[-2:0]': 'ងគឺកា', 'kcc[-3]': 'ង្វែ', 'kcc[-3]t': 'K4', 'kcc[-3:0]': 'ង្វែងគឺកា', 'kcc[-3:-1]': 'ង្វែងគឺ', 'kcc[-3:-2]': 'ង្វែង', 'kcc[+1]': 'ត់', 'kcc[+1]t': 'K2', 'kcc[+1:0]': 'កាត់', 'ns+1': False, 'kcc[+2]': 'ប', 'kcc[+2]t': 'C', 'kcc[+1:+2]': 'ត់ប', 'kcc[0:+2]': 'កាត់ប', 'ns+2': False, 'kcc[+3]': 'ន្ថ', 'kcc[+3]t': 'K3', 'kcc[+2:+3]': 'បន្ថ', 'kcc[+1:+3]': 'ត់បន្ថ', 'kcc[0:+3]': 'កាត់បន្ថ'}, {'kcc': 'ត់', 't': 'K2', 'ns': False, 'kcc[-1]': 'កា', 'kcc[-1]t': 'K2', 'kcc[-1:0]': 'កាត់', 'ns-1': False, 'kcc[-2]': 'គឺ', 'kcc[-2]t': 'K2', 'kcc[-2:-1]': 'គឺកា', 'kcc[-2:0]': 'គឺកាត់', 'kcc[-3]': 'ង', 'kcc[-3]t': 'C', 'kcc[-3:0]': 'ងគឺកាត់', 'kcc[-3:-1]': 'ងគឺកា', 'kcc[-3:-2]': 'ងគឺ', 'kcc[+1]': 'ប', 'kcc[+1]t': 'C', 'kcc[+1:0]': 'ត់ប', 'ns+1': False, 'kcc[+2]': 'ន្ថ', 'kcc[+2]t': 'K3', 'kcc[+1:+2]': 'បន្ថ', 'kcc[0:+2]': 'ត់បន្ថ', 'ns+2': False, 'kcc[+3]': 'យ', 'kcc[+3]t': 'C', 'kcc[+2:+3]': 'ន្ថយ', 'kcc[+1:+3]': 'បន្ថយ', 'kcc[0:+3]': 'ត់បន្ថយ'}, {'kcc': 'ប', 't': 'C', 'ns': False, 'kcc[-1]': 'ត់', 'kcc[-1]t': 'K2', 'kcc[-1:0]': 'ត់ប', 'ns-1': False, 'kcc[-2]': 'កា', 'kcc[-2]t': 'K2', 'kcc[-2:-1]': 'កាត់', 'kcc[-2:0]': 'កាត់ប', 'kcc[-3]': 'គឺ', 'kcc[-3]t': 'K2', 'kcc[-3:0]': 'គឺកាត់ប', 'kcc[-3:-1]': 'គឺកាត់', 'kcc[-3:-2]': 'គឺកា', 'kcc[+1]': 'ន្ថ', 'kcc[+1]t': 'K3', 'kcc[+1:0]': 'បន្ថ', 'ns+1': False, 'kcc[+2]': 'យ', 'kcc[+2]t': 'C', 'kcc[+1:+2]': 'ន្ថយ', 'kcc[0:+2]': 'បន្ថយ', 'ns+2': False, 'kcc[+3]': 'កា', 'kcc[+3]t': 'K2', 'kcc[+2:+3]': 'យកា', 'kcc[+1:+3]': 'ន្ថយកា', 'kcc[0:+3]': 'បន្ថយកា'}, {'kcc': 'ន្ថ', 't': 'K3', 'ns': False, 'kcc[-1]': 'ប', 'kcc[-1]t': 'C', 'kcc[-1:0]': 'បន្ថ', 'ns-1': False, 'kcc[-2]': 'ត់', 'kcc[-2]t': 'K2', 'kcc[-2:-1]': 'ត់ប', 'kcc[-2:0]': 'ត់បន្ថ', 'kcc[-3]': 'កា', 'kcc[-3]t': 'K2', 'kcc[-3:0]': 'កាត់បន្ថ', 'kcc[-3:-1]': 'កាត់ប', 'kcc[-3:-2]': 'កាត់', 'kcc[+1]': 'យ', 'kcc[+1]t': 'C', 'kcc[+1:0]': 'ន្ថយ', 'ns+1': False, 'kcc[+2]': 'កា', 'kcc[+2]t': 'K2', 'kcc[+1:+2]': 'យកា', 'kcc[0:+2]': 'ន្ថយកា', 'ns+2': False, 'kcc[+3]': 'រ', 'kcc[+3]t': 'C', 'kcc[+2:+3]': 'ការ', 'kcc[+1:+3]': 'យការ', 'kcc[0:+3]': 'ន្ថយការ'}, {'kcc': 'យ', 't': 'C', 'ns': False, 'kcc[-1]': 'ន្ថ', 'kcc[-1]t': 'K3', 'kcc[-1:0]': 'ន្ថយ', 'ns-1': False, 'kcc[-2]': 'ប', 'kcc[-2]t': 'C', 'kcc[-2:-1]': 'បន្ថ', 'kcc[-2:0]': 'បន្ថយ', 'kcc[-3]': 'ត់', 'kcc[-3]t': 'K2', 'kcc[-3:0]': 'ត់បន្ថយ', 'kcc[-3:-1]': 'ត់បន្ថ', 'kcc[-3:-2]': 'ត់ប', 'kcc[+1]': 'កា', 'kcc[+1]t': 'K2', 'kcc[+1:0]': 'យកា', 'ns+1': False, 'kcc[+2]': 'រ', 'kcc[+2]t': 'C', 'kcc[+1:+2]': 'ការ', 'kcc[0:+2]': 'យការ', 'ns+2': False, 'kcc[+3]': 'ប្រើ', 'kcc[+3]t': 'K4', 'kcc[+2:+3]': 'រប្រើ', 'kcc[+1:+3]': 'ការប្រើ', 'kcc[0:+3]': 'យការប្រើ'}, {'kcc': 'កា', 't': 'K2', 'ns': False, 'kcc[-1]': 'យ', 'kcc[-1]t': 'C', 'kcc[-1:0]': 'យកា', 'ns-1': False, 'kcc[-2]': 'ន្ថ', 'kcc[-2]t': 'K3', 'kcc[-2:-1]': 'ន្ថយ', 'kcc[-2:0]': 'ន្ថយកា', 'kcc[-3]': 'ប', 'kcc[-3]t': 'C', 'kcc[-3:0]': 'បន្ថយកា', 'kcc[-3:-1]': 'បន្ថយ', 'kcc[-3:-2]': 'បន្ថ', 'kcc[+1]': 'រ', 'kcc[+1]t': 'C', 'kcc[+1:0]': 'ការ', 'ns+1': False, 'kcc[+2]': 'ប្រើ', 'kcc[+2]t': 'K4', 'kcc[+1:+2]': 'រប្រើ', 'kcc[0:+2]': 'ការប្រើ', 'ns+2': False, 'kcc[+3]': 'ប្រា', 'kcc[+3]t': 'K4', 'kcc[+2:+3]': 'ប្រើប្រា', 'kcc[+1:+3]': 'រប្រើប្រា', 'kcc[0:+3]': 'ការប្រើប្រា'}, {'kcc': 'រ', 't': 'C', 'ns': False, 'kcc[-1]': 'កា', 'kcc[-1]t': 'K2', 'kcc[-1:0]': 'ការ', 'ns-1': False, 'kcc[-2]': 'យ', 'kcc[-2]t': 'C', 'kcc[-2:-1]': 'យកា', 'kcc[-2:0]': 'យការ', 'kcc[-3]': 'ន្ថ', 'kcc[-3]t': 'K3', 'kcc[-3:0]': 'ន្ថយការ', 'kcc[-3:-1]': 'ន្ថយកា', 'kcc[-3:-2]': 'ន្ថយ', 'kcc[+1]': 'ប្រើ', 'kcc[+1]t': 'K4', 'kcc[+1:0]': 'រប្រើ', 'ns+1': False, 'kcc[+2]': 'ប្រា', 'kcc[+2]t': 'K4', 'kcc[+1:+2]': 'ប្រើប្រា', 'kcc[0:+2]': 'រប្រើប្រា', 'ns+2': False, 'kcc[+3]': 'ស់', 'kcc[+3]t': 'K2', 'kcc[+2:+3]': 'ប្រាស់', 'kcc[+1:+3]': 'ប្រើប្រាស់', 'kcc[0:+3]': 'រប្រើប្រាស់'}, {'kcc': 'ប្រើ', 't': 'K4', 'ns': False, 'kcc[-1]': 'រ', 'kcc[-1]t': 'C', 'kcc[-1:0]': 'រប្រើ', 'ns-1': False, 'kcc[-2]': 'កា', 'kcc[-2]t': 'K2', 'kcc[-2:-1]': 'ការ', 'kcc[-2:0]': 'ការប្រើ', 'kcc[-3]': 'យ', 'kcc[-3]t': 'C', 'kcc[-3:0]': 'យការប្រើ', 'kcc[-3:-1]': 'យការ', 'kcc[-3:-2]': 'យកា', 'kcc[+1]': 'ប្រា', 'kcc[+1]t': 'K4', 'kcc[+1:0]': 'ប្រើប្រា', 'ns+1': False, 'kcc[+2]': 'ស់', 'kcc[+2]t': 'K2', 'kcc[+1:+2]': 'ប្រាស់', 'kcc[0:+2]': 'ប្រើប្រាស់', 'ns+2': False, 'kcc[+3]': 'នៃ', 'kcc[+3]t': 'K2', 'kcc[+2:+3]': 'ស់នៃ', 'kcc[+1:+3]': 'ប្រាស់នៃ', 'kcc[0:+3]': 'ប្រើប្រាស់នៃ'}, {'kcc': 'ប្រា', 't': 'K4', 'ns': False, 'kcc[-1]': 'ប្រើ', 'kcc[-1]t': 'K4', 'kcc[-1:0]': 'ប្រើប្រា', 'ns-1': False, 'kcc[-2]': 'រ', 'kcc[-2]t': 'C', 'kcc[-2:-1]': 'រប្រើ', 'kcc[-2:0]': 'រប្រើប្រា', 'kcc[-3]': 'កា', 'kcc[-3]t': 'K2', 'kcc[-3:0]': 'ការប្រើប្រា', 'kcc[-3:-1]': 'ការប្រើ', 'kcc[-3:-2]': 'ការ', 'kcc[+1]': 'ស់', 'kcc[+1]t': 'K2', 'kcc[+1:0]': 'ប្រាស់', 'ns+1': False, 'kcc[+2]': 'នៃ', 'kcc[+2]t': 'K2', 'kcc[+1:+2]': 'ស់នៃ', 'kcc[0:+2]': 'ប្រាស់នៃ', 'ns+2': False, 'kcc[+3]': 'ផ', 'kcc[+3]t': 'C', 'kcc[+2:+3]': 'នៃផ', 'kcc[+1:+3]': 'ស់នៃផ', 'kcc[0:+3]': 'ប្រាស់នៃផ'}, {'kcc': 'ស់', 't': 'K2', 'ns': False, 'kcc[-1]': 'ប្រា', 'kcc[-1]t': 'K4', 'kcc[-1:0]': 'ប្រាស់', 'ns-1': False, 'kcc[-2]': 'ប្រើ', 'kcc[-2]t': 'K4', 'kcc[-2:-1]': 'ប្រើប្រា', 'kcc[-2:0]': 'ប្រើប្រាស់', 'kcc[-3]': 'រ', 'kcc[-3]t': 'C', 'kcc[-3:0]': 'រប្រើប្រាស់', 'kcc[-3:-1]': 'រប្រើប្រា', 'kcc[-3:-2]': 'រប្រើ', 'kcc[+1]': 'នៃ', 'kcc[+1]t': 'K2', 'kcc[+1:0]': 'ស់នៃ', 'ns+1': False, 'kcc[+2]': 'ផ', 'kcc[+2]t': 'C', 'kcc[+1:+2]': 'នៃផ', 'kcc[0:+2]': 'ស់នៃផ', 'ns+2': False, 'kcc[+3]': 'លិ', 'kcc[+3]t': 'K2', 'kcc[+2:+3]': 'ផលិ', 'kcc[+1:+3]': 'នៃផលិ', 'kcc[0:+3]': 'ស់នៃផលិ'}, {'kcc': 'នៃ', 't': 'K2', 'ns': False, 'kcc[-1]': 'ស់', 'kcc[-1]t': 'K2', 'kcc[-1:0]': 'ស់នៃ', 'ns-1': False, 'kcc[-2]': 'ប្រា', 'kcc[-2]t': 'K4', 'kcc[-2:-1]': 'ប្រាស់', 'kcc[-2:0]': 'ប្រាស់នៃ', 'kcc[-3]': 'ប្រើ', 'kcc[-3]t': 'K4', 'kcc[-3:0]': 'ប្រើប្រាស់នៃ', 'kcc[-3:-1]': 'ប្រើប្រាស់', 'kcc[-3:-2]': 'ប្រើប្រា', 'kcc[+1]': 'ផ', 'kcc[+1]t': 'C', 'kcc[+1:0]': 'នៃផ', 'ns+1': False, 'kcc[+2]': 'លិ', 'kcc[+2]t': 'K2', 'kcc[+1:+2]': 'ផលិ', 'kcc[0:+2]': 'នៃផលិ', 'ns+2': False, 'kcc[+3]': 'ត', 'kcc[+3]t': 'C', 'kcc[+2:+3]': 'លិត', 'kcc[+1:+3]': 'ផលិត', 'kcc[0:+3]': 'នៃផលិត'}, {'kcc': 'ផ', 't': 'C', 'ns': False, 'kcc[-1]': 'នៃ', 'kcc[-1]t': 'K2', 'kcc[-1:0]': 'នៃផ', 'ns-1': False, 'kcc[-2]': 'ស់', 'kcc[-2]t': 'K2', 'kcc[-2:-1]': 'ស់នៃ', 'kcc[-2:0]': 'ស់នៃផ', 'kcc[-3]': 'ប្រា', 'kcc[-3]t': 'K4', 'kcc[-3:0]': 'ប្រាស់នៃផ', 'kcc[-3:-1]': 'ប្រាស់នៃ', 'kcc[-3:-2]': 'ប្រាស់', 'kcc[+1]': 'លិ', 'kcc[+1]t': 'K2', 'kcc[+1:0]': 'ផលិ', 'ns+1': False, 'kcc[+2]': 'ត', 'kcc[+2]t': 'C', 'kcc[+1:+2]': 'លិត', 'kcc[0:+2]': 'ផលិត', 'ns+2': False, 'kcc[+3]': 'ផ', 'kcc[+3]t': 'C', 'kcc[+2:+3]': 'តផ', 'kcc[+1:+3]': 'លិតផ', 'kcc[0:+3]': 'ផលិតផ'}, {'kcc': 'លិ', 't': 'K2', 'ns': False, 'kcc[-1]': 'ផ', 'kcc[-1]t': 'C', 'kcc[-1:0]': 'ផលិ', 'ns-1': False, 'kcc[-2]': 'នៃ', 'kcc[-2]t': 'K2', 'kcc[-2:-1]': 'នៃផ', 'kcc[-2:0]': 'នៃផលិ', 'kcc[-3]': 'ស់', 'kcc[-3]t': 'K2', 'kcc[-3:0]': 'ស់នៃផលិ', 'kcc[-3:-1]': 'ស់នៃផ', 'kcc[-3:-2]': 'ស់នៃ', 'kcc[+1]': 'ត', 'kcc[+1]t': 'C', 'kcc[+1:0]': 'លិត', 'ns+1': False, 'kcc[+2]': 'ផ', 'kcc[+2]t': 'C', 'kcc[+1:+2]': 'តផ', 'kcc[0:+2]': 'លិតផ', 'ns+2': False, 'kcc[+3]': 'ល', 'kcc[+3]t': 'C', 'kcc[+2:+3]': 'ផល', 'kcc[+1:+3]': 'តផល', 'kcc[0:+3]': 'លិតផល'}, {'kcc': 'ត', 't': 'C', 'ns': False, 'kcc[-1]': 'លិ', 'kcc[-1]t': 'K2', 'kcc[-1:0]': 'លិត', 'ns-1': False, 'kcc[-2]': 'ផ', 'kcc[-2]t': 'C', 'kcc[-2:-1]': 'ផលិ', 'kcc[-2:0]': 'ផលិត', 'kcc[-3]': 'នៃ', 'kcc[-3]t': 'K2', 'kcc[-3:0]': 'នៃផលិត', 'kcc[-3:-1]': 'នៃផលិ', 'kcc[-3:-2]': 'នៃផ', 'kcc[+1]': 'ផ', 'kcc[+1]t': 'C', 'kcc[+1:0]': 'តផ', 'ns+1': False, 'kcc[+2]': 'ល', 'kcc[+2]t': 'C', 'kcc[+1:+2]': 'ផល', 'kcc[0:+2]': 'តផល', 'ns+2': False, 'kcc[+3]': 'ប្រេ', 'kcc[+3]t': 'K4', 'kcc[+2:+3]': 'លប្រេ', 'kcc[+1:+3]': 'ផលប្រេ', 'kcc[0:+3]': 'តផលប្រេ'}, {'kcc': 'ផ', 't': 'C', 'ns': False, 'kcc[-1]': 'ត', 'kcc[-1]t': 'C', 'kcc[-1:0]': 'តផ', 'ns-1': False, 'kcc[-2]': 'លិ', 'kcc[-2]t': 'K2', 'kcc[-2:-1]': 'លិត', 'kcc[-2:0]': 'លិតផ', 'kcc[-3]': 'ផ', 'kcc[-3]t': 'C', 'kcc[-3:0]': 'ផលិតផ', 'kcc[-3:-1]': 'ផលិត', 'kcc[-3:-2]': 'ផលិ', 'kcc[+1]': 'ល', 'kcc[+1]t': 'C', 'kcc[+1:0]': 'ផល', 'ns+1': False, 'kcc[+2]': 'ប្រេ', 'kcc[+2]t': 'K4', 'kcc[+1:+2]': 'លប្រេ', 'kcc[0:+2]': 'ផលប្រេ', 'ns+2': False, 'kcc[+3]': 'ង', 'kcc[+3]t': 'C', 'kcc[+2:+3]': 'ប្រេង', 'kcc[+1:+3]': 'លប្រេង', 'kcc[0:+3]': 'ផលប្រេង'}, {'kcc': 'ល', 't': 'C', 'ns': False, 'kcc[-1]': 'ផ', 'kcc[-1]t': 'C', 'kcc[-1:0]': 'ផល', 'ns-1': False, 'kcc[-2]': 'ត', 'kcc[-2]t': 'C', 'kcc[-2:-1]': 'តផ', 'kcc[-2:0]': 'តផល', 'kcc[-3]': 'លិ', 'kcc[-3]t': 'K2', 'kcc[-3:0]': 'លិតផល', 'kcc[-3:-1]': 'លិតផ', 'kcc[-3:-2]': 'លិត', 'kcc[+1]': 'ប្រេ', 'kcc[+1]t': 'K4', 'kcc[+1:0]': 'លប្រេ', 'ns+1': False, 'kcc[+2]': 'ង', 'kcc[+2]t': 'C', 'kcc[+1:+2]': 'ប្រេង', 'kcc[0:+2]': 'លប្រេង', 'ns+2': False, 'kcc[+3]': 'និ', 'kcc[+3]t': 'K2', 'kcc[+2:+3]': 'ងនិ', 'kcc[+1:+3]': 'ប្រេងនិ', 'kcc[0:+3]': 'លប្រេងនិ'}, {'kcc': 'ប្រេ', 't': 'K4', 'ns': False, 'kcc[-1]': 'ល', 'kcc[-1]t': 'C', 'kcc[-1:0]': 'លប្រេ', 'ns-1': False, 'kcc[-2]': 'ផ', 'kcc[-2]t': 'C', 'kcc[-2:-1]': 'ផល', 'kcc[-2:0]': 'ផលប្រេ', 'kcc[-3]': 'ត', 'kcc[-3]t': 'C', 'kcc[-3:0]': 'តផលប្រេ', 'kcc[-3:-1]': 'តផល', 'kcc[-3:-2]': 'តផ', 'kcc[+1]': 'ង', 'kcc[+1]t': 'C', 'kcc[+1:0]': 'ប្រេង', 'ns+1': False, 'kcc[+2]': 'និ', 'kcc[+2]t': 'K2', 'kcc[+1:+2]': 'ងនិ', 'kcc[0:+2]': 'ប្រេងនិ', 'ns+2': False, 'kcc[+3]': 'ង', 'kcc[+3]t': 'C', 'kcc[+2:+3]': 'និង', 'kcc[+1:+3]': 'ងនិង', 'kcc[0:+3]': 'ប្រេងនិង'}, {'kcc': 'ង', 't': 'C', 'ns': False, 'kcc[-1]': 'ប្រេ', 'kcc[-1]t': 'K4', 'kcc[-1:0]': 'ប្រេង', 'ns-1': False, 'kcc[-2]': 'ល', 'kcc[-2]t': 'C', 'kcc[-2:-1]': 'លប្រេ', 'kcc[-2:0]': 'លប្រេង', 'kcc[-3]': 'ផ', 'kcc[-3]t': 'C', 'kcc[-3:0]': 'ផលប្រេង', 'kcc[-3:-1]': 'ផលប្រេ', 'kcc[-3:-2]': 'ផល', 'kcc[+1]': 'និ', 'kcc[+1]t': 'K2', 'kcc[+1:0]': 'ងនិ', 'ns+1': False, 'kcc[+2]': 'ង', 'kcc[+2]t': 'C', 'kcc[+1:+2]': 'និង', 'kcc[0:+2]': 'ងនិង', 'ns+2': False, 'kcc[+3]': 'លើ', 'kcc[+3]t': 'K2', 'kcc[+2:+3]': 'ងលើ', 'kcc[+1:+3]': 'និងលើ', 'kcc[0:+3]': 'ងនិងលើ'}, {'kcc': 'និ', 't': 'K2', 'ns': False, 'kcc[-1]': 'ង', 'kcc[-1]t': 'C', 'kcc[-1:0]': 'ងនិ', 'ns-1': False, 'kcc[-2]': 'ប្រេ', 'kcc[-2]t': 'K4', 'kcc[-2:-1]': 'ប្រេង', 'kcc[-2:0]': 'ប្រេងនិ', 'kcc[-3]': 'ល', 'kcc[-3]t': 'C', 'kcc[-3:0]': 'លប្រេងនិ', 'kcc[-3:-1]': 'លប្រេង', 'kcc[-3:-2]': 'លប្រេ', 'kcc[+1]': 'ង', 'kcc[+1]t': 'C', 'kcc[+1:0]': 'និង', 'ns+1': False, 'kcc[+2]': 'លើ', 'kcc[+2]t': 'K2', 'kcc[+1:+2]': 'ងលើ', 'kcc[0:+2]': 'និងលើ', 'ns+2': False, 'kcc[+3]': 'ក', 'kcc[+3]t': 'C', 'kcc[+2:+3]': 'លើក', 'kcc[+1:+3]': 'ងលើក', 'kcc[0:+3]': 'និងលើក'}, {'kcc': 'ង', 't': 'C', 'ns': False, 'kcc[-1]': 'និ', 'kcc[-1]t': 'K2', 'kcc[-1:0]': 'និង', 'ns-1': False, 'kcc[-2]': 'ង', 'kcc[-2]t': 'C', 'kcc[-2:-1]': 'ងនិ', 'kcc[-2:0]': 'ងនិង', 'kcc[-3]': 'ប្រេ', 'kcc[-3]t': 'K4', 'kcc[-3:0]': 'ប្រេងនិង', 'kcc[-3:-1]': 'ប្រេងនិ', 'kcc[-3:-2]': 'ប្រេង', 'kcc[+1]': 'លើ', 'kcc[+1]t': 'K2', 'kcc[+1:0]': 'ងលើ', 'ns+1': False, 'kcc[+2]': 'ក', 'kcc[+2]t': 'C', 'kcc[+1:+2]': 'លើក', 'kcc[0:+2]': 'ងលើក', 'ns+2': False, 'kcc[+3]': 'ក', 'kcc[+3]t': 'C', 'kcc[+2:+3]': 'កក', 'kcc[+1:+3]': 'លើកក', 'kcc[0:+3]': 'ងលើកក'}, {'kcc': 'លើ', 't': 'K2', 'ns': False, 'kcc[-1]': 'ង', 'kcc[-1]t': 'C', 'kcc[-1:0]': 'ងលើ', 'ns-1': False, 'kcc[-2]': 'និ', 'kcc[-2]t': 'K2', 'kcc[-2:-1]': 'និង', 'kcc[-2:0]': 'និងលើ', 'kcc[-3]': 'ង', 'kcc[-3]t': 'C', 'kcc[-3:0]': 'ងនិងលើ', 'kcc[-3:-1]': 'ងនិង', 'kcc[-3:-2]': 'ងនិ', 'kcc[+1]': 'ក', 'kcc[+1]t': 'C', 'kcc[+1:0]': 'លើក', 'ns+1': False, 'kcc[+2]': 'ក', 'kcc[+2]t': 'C', 'kcc[+1:+2]': 'កក', 'kcc[0:+2]': 'លើកក', 'ns+2': False, 'kcc[+3]': 'ម្ព', 'kcc[+3]t': 'K3', 'kcc[+2:+3]': 'កម្ព', 'kcc[+1:+3]': 'កកម្ព', 'kcc[0:+3]': 'លើកកម្ព'}, {'kcc': 'ក', 't': 'C', 'ns': False, 'kcc[-1]': 'លើ', 'kcc[-1]t': 'K2', 'kcc[-1:0]': 'លើក', 'ns-1': False, 'kcc[-2]': 'ង', 'kcc[-2]t': 'C', 'kcc[-2:-1]': 'ងលើ', 'kcc[-2:0]': 'ងលើក', 'kcc[-3]': 'និ', 'kcc[-3]t': 'K2', 'kcc[-3:0]': 'និងលើក', 'kcc[-3:-1]': 'និងលើ', 'kcc[-3:-2]': 'និង', 'kcc[+1]': 'ក', 'kcc[+1]t': 'C', 'kcc[+1:0]': 'កក', 'ns+1': False, 'kcc[+2]': 'ម្ព', 'kcc[+2]t': 'K3', 'kcc[+1:+2]': 'កម្ព', 'kcc[0:+2]': 'កកម្ព', 'ns+2': False, 'kcc[+3]': 'ស់', 'kcc[+3]t': 'K2', 'kcc[+2:+3]': 'ម្ពស់', 'kcc[+1:+3]': 'កម្ពស់', 'kcc[0:+3]': 'កកម្ពស់'}, {'kcc': 'ក', 't': 'C', 'ns': False, 'kcc[-1]': 'ក', 'kcc[-1]t': 'C', 'kcc[-1:0]': 'កក', 'ns-1': False, 'kcc[-2]': 'លើ', 'kcc[-2]t': 'K2', 'kcc[-2:-1]': 'លើក', 'kcc[-2:0]': 'លើកក', 'kcc[-3]': 'ង', 'kcc[-3]t': 'C', 'kcc[-3:0]': 'ងលើកក', 'kcc[-3:-1]': 'ងលើក', 'kcc[-3:-2]': 'ងលើ', 'kcc[+1]': 'ម្ព', 'kcc[+1]t': 'K3', 'kcc[+1:0]': 'កម្ព', 'ns+1': False, 'kcc[+2]': 'ស់', 'kcc[+2]t': 'K2', 'kcc[+1:+2]': 'ម្ពស់', 'kcc[0:+2]': 'កម្ពស់', 'ns+2': False, 'kcc[+3]': 'កា', 'kcc[+3]t': 'K2', 'kcc[+2:+3]': 'ស់កា', 'kcc[+1:+3]': 'ម្ពស់កា', 'kcc[0:+3]': 'កម្ពស់កា'}, {'kcc': 'ម្ព', 't': 'K3', 'ns': False, 'kcc[-1]': 'ក', 'kcc[-1]t': 'C', 'kcc[-1:0]': 'កម្ព', 'ns-1': False, 'kcc[-2]': 'ក', 'kcc[-2]t': 'C', 'kcc[-2:-1]': 'កក', 'kcc[-2:0]': 'កកម្ព', 'kcc[-3]': 'លើ', 'kcc[-3]t': 'K2', 'kcc[-3:0]': 'លើកកម្ព', 'kcc[-3:-1]': 'លើកក', 'kcc[-3:-2]': 'លើក', 'kcc[+1]': 'ស់', 'kcc[+1]t': 'K2', 'kcc[+1:0]': 'ម្ពស់', 'ns+1': False, 'kcc[+2]': 'កា', 'kcc[+2]t': 'K2', 'kcc[+1:+2]': 'ស់កា', 'kcc[0:+2]': 'ម្ពស់កា', 'ns+2': False, 'kcc[+3]': 'រ', 'kcc[+3]t': 'C', 'kcc[+2:+3]': 'ការ', 'kcc[+1:+3]': 'ស់ការ', 'kcc[0:+3]': 'ម្ពស់ការ'}, {'kcc': 'ស់', 't': 'K2', 'ns': False, 'kcc[-1]': 'ម្ព', 'kcc[-1]t': 'K3', 'kcc[-1:0]': 'ម្ពស់', 'ns-1': False, 'kcc[-2]': 'ក', 'kcc[-2]t': 'C', 'kcc[-2:-1]': 'កម្ព', 'kcc[-2:0]': 'កម្ពស់', 'kcc[-3]': 'ក', 'kcc[-3]t': 'C', 'kcc[-3:0]': 'កកម្ពស់', 'kcc[-3:-1]': 'កកម្ព', 'kcc[-3:-2]': 'កក', 'kcc[+1]': 'កា', 'kcc[+1]t': 'K2', 'kcc[+1:0]': 'ស់កា', 'ns+1': False, 'kcc[+2]': 'រ', 'kcc[+2]t': 'C', 'kcc[+1:+2]': 'ការ', 'kcc[0:+2]': 'ស់ការ', 'ns+2': False, 'kcc[+3]': 'ស្រា', 'kcc[+3]t': 'K4', 'kcc[+2:+3]': 'រស្រា', 'kcc[+1:+3]': 'ការស្រា', 'kcc[0:+3]': 'ស់ការស្រា'}, {'kcc': 'កា', 't': 'K2', 'ns': False, 'kcc[-1]': 'ស់', 'kcc[-1]t': 'K2', 'kcc[-1:0]': 'ស់កា', 'ns-1': False, 'kcc[-2]': 'ម្ព', 'kcc[-2]t': 'K3', 'kcc[-2:-1]': 'ម្ពស់', 'kcc[-2:0]': 'ម្ពស់កា', 'kcc[-3]': 'ក', 'kcc[-3]t': 'C', 'kcc[-3:0]': 'កម្ពស់កា', 'kcc[-3:-1]': 'កម្ពស់', 'kcc[-3:-2]': 'កម្ព', 'kcc[+1]': 'រ', 'kcc[+1]t': 'C', 'kcc[+1:0]': 'ការ', 'ns+1': False, 'kcc[+2]': 'ស្រា', 'kcc[+2]t': 'K4', 'kcc[+1:+2]': 'រស្រា', 'kcc[0:+2]': 'ការស្រា', 'ns+2': False, 'kcc[+3]': 'វ', 'kcc[+3]t': 'C', 'kcc[+2:+3]': 'ស្រាវ', 'kcc[+1:+3]': 'រស្រាវ', 'kcc[0:+3]': 'ការស្រាវ'}, {'kcc': 'រ', 't': 'C', 'ns': False, 'kcc[-1]': 'កា', 'kcc[-1]t': 'K2', 'kcc[-1:0]': 'ការ', 'ns-1': False, 'kcc[-2]': 'ស់', 'kcc[-2]t': 'K2', 'kcc[-2:-1]': 'ស់កា', 'kcc[-2:0]': 'ស់ការ', 'kcc[-3]': 'ម្ព', 'kcc[-3]t': 'K3', 'kcc[-3:0]': 'ម្ពស់ការ', 'kcc[-3:-1]': 'ម្ពស់កា', 'kcc[-3:-2]': 'ម្ពស់', 'kcc[+1]': 'ស្រា', 'kcc[+1]t': 'K4', 'kcc[+1:0]': 'រស្រា', 'ns+1': False, 'kcc[+2]': 'វ', 'kcc[+2]t': 'C', 'kcc[+1:+2]': 'ស្រាវ', 'kcc[0:+2]': 'រស្រាវ', 'ns+2': False, 'kcc[+3]': 'ជ្រា', 'kcc[+3]t': 'K4', 'kcc[+2:+3]': 'វជ្រា', 'kcc[+1:+3]': 'ស្រាវជ្រា', 'kcc[0:+3]': 'រស្រាវជ្រា'}, {'kcc': 'ស្រា', 't': 'K4', 'ns': False, 'kcc[-1]': 'រ', 'kcc[-1]t': 'C', 'kcc[-1:0]': 'រស្រា', 'ns-1': False, 'kcc[-2]': 'កា', 'kcc[-2]t': 'K2', 'kcc[-2:-1]': 'ការ', 'kcc[-2:0]': 'ការស្រា', 'kcc[-3]': 'ស់', 'kcc[-3]t': 'K2', 'kcc[-3:0]': 'ស់ការស្រា', 'kcc[-3:-1]': 'ស់ការ', 'kcc[-3:-2]': 'ស់កា', 'kcc[+1]': 'វ', 'kcc[+1]t': 'C', 'kcc[+1:0]': 'ស្រាវ', 'ns+1': False, 'kcc[+2]': 'ជ្រា', 'kcc[+2]t': 'K4', 'kcc[+1:+2]': 'វជ្រា', 'kcc[0:+2]': 'ស្រាវជ្រា', 'ns+2': False, 'kcc[+3]': 'វ', 'kcc[+3]t': 'C', 'kcc[+2:+3]': 'ជ្រាវ', 'kcc[+1:+3]': 'វជ្រាវ', 'kcc[0:+3]': 'ស្រាវជ្រាវ'}, {'kcc': 'វ', 't': 'C', 'ns': False, 'kcc[-1]': 'ស្រា', 'kcc[-1]t': 'K4', 'kcc[-1:0]': 'ស្រាវ', 'ns-1': False, 'kcc[-2]': 'រ', 'kcc[-2]t': 'C', 'kcc[-2:-1]': 'រស្រា', 'kcc[-2:0]': 'រស្រាវ', 'kcc[-3]': 'កា', 'kcc[-3]t': 'K2', 'kcc[-3:0]': 'ការស្រាវ', 'kcc[-3:-1]': 'ការស្រា', 'kcc[-3:-2]': 'ការ', 'kcc[+1]': 'ជ្រា', 'kcc[+1]t': 'K4', 'kcc[+1:0]': 'វជ្រា', 'ns+1': False, 'kcc[+2]': 'វ', 'kcc[+2]t': 'C', 'kcc[+1:+2]': 'ជ្រាវ', 'kcc[0:+2]': 'វជ្រាវ', 'ns+2': False, 'kcc[+3]': 'ទៅ', 'kcc[+3]t': 'K2', 'kcc[+2:+3]': 'វទៅ', 'kcc[+1:+3]': 'ជ្រាវទៅ', 'kcc[0:+3]': 'វជ្រាវទៅ'}, {'kcc': 'ជ្រា', 't': 'K4', 'ns': False, 'kcc[-1]': 'វ', 'kcc[-1]t': 'C', 'kcc[-1:0]': 'វជ្រា', 'ns-1': False, 'kcc[-2]': 'ស្រា', 'kcc[-2]t': 'K4', 'kcc[-2:-1]': 'ស្រាវ', 'kcc[-2:0]': 'ស្រាវជ្រា', 'kcc[-3]': 'រ', 'kcc[-3]t': 'C', 'kcc[-3:0]': 'រស្រាវជ្រា', 'kcc[-3:-1]': 'រស្រាវ', 'kcc[-3:-2]': 'រស្រា', 'kcc[+1]': 'វ', 'kcc[+1]t': 'C', 'kcc[+1:0]': 'ជ្រាវ', 'ns+1': False, 'kcc[+2]': 'ទៅ', 'kcc[+2]t': 'K2', 'kcc[+1:+2]': 'វទៅ', 'kcc[0:+2]': 'ជ្រាវទៅ', 'ns+2': False, 'kcc[+3]': 'លើ', 'kcc[+3]t': 'K2', 'kcc[+2:+3]': 'ទៅលើ', 'kcc[+1:+3]': 'វទៅលើ', 'kcc[0:+3]': 'ជ្រាវទៅលើ'}, {'kcc': 'វ', 't': 'C', 'ns': False, 'kcc[-1]': 'ជ្រា', 'kcc[-1]t': 'K4', 'kcc[-1:0]': 'ជ្រាវ', 'ns-1': False, 'kcc[-2]': 'វ', 'kcc[-2]t': 'C', 'kcc[-2:-1]': 'វជ្រា', 'kcc[-2:0]': 'វជ្រាវ', 'kcc[-3]': 'ស្រា', 'kcc[-3]t': 'K4', 'kcc[-3:0]': 'ស្រាវជ្រាវ', 'kcc[-3:-1]': 'ស្រាវជ្រា', 'kcc[-3:-2]': 'ស្រាវ', 'kcc[+1]': 'ទៅ', 'kcc[+1]t': 'K2', 'kcc[+1:0]': 'វទៅ', 'ns+1': False, 'kcc[+2]': 'លើ', 'kcc[+2]t': 'K2', 'kcc[+1:+2]': 'ទៅលើ', 'kcc[0:+2]': 'វទៅលើ', 'ns+2': False, 'kcc[+3]': 'ផ', 'kcc[+3]t': 'C', 'kcc[+2:+3]': 'លើផ', 'kcc[+1:+3]': 'ទៅលើផ', 'kcc[0:+3]': 'វទៅលើផ'}, {'kcc': 'ទៅ', 't': 'K2', 'ns': False, 'kcc[-1]': 'វ', 'kcc[-1]t': 'C', 'kcc[-1:0]': 'វទៅ', 'ns-1': False, 'kcc[-2]': 'ជ្រា', 'kcc[-2]t': 'K4', 'kcc[-2:-1]': 'ជ្រាវ', 'kcc[-2:0]': 'ជ្រាវទៅ', 'kcc[-3]': 'វ', 'kcc[-3]t': 'C', 'kcc[-3:0]': 'វជ្រាវទៅ', 'kcc[-3:-1]': 'វជ្រាវ', 'kcc[-3:-2]': 'វជ្រា', 'kcc[+1]': 'លើ', 'kcc[+1]t': 'K2', 'kcc[+1:0]': 'ទៅលើ', 'ns+1': False, 'kcc[+2]': 'ផ', 'kcc[+2]t': 'C', 'kcc[+1:+2]': 'លើផ', 'kcc[0:+2]': 'ទៅលើផ', 'ns+2': False, 'kcc[+3]': 'លិ', 'kcc[+3]t': 'K2', 'kcc[+2:+3]': 'ផលិ', 'kcc[+1:+3]': 'លើផលិ', 'kcc[0:+3]': 'ទៅលើផលិ'}, {'kcc': 'លើ', 't': 'K2', 'ns': False, 'kcc[-1]': 'ទៅ', 'kcc[-1]t': 'K2', 'kcc[-1:0]': 'ទៅលើ', 'ns-1': False, 'kcc[-2]': 'វ', 'kcc[-2]t': 'C', 'kcc[-2:-1]': 'វទៅ', 'kcc[-2:0]': 'វទៅលើ', 'kcc[-3]': 'ជ្រា', 'kcc[-3]t': 'K4', 'kcc[-3:0]': 'ជ្រាវទៅលើ', 'kcc[-3:-1]': 'ជ្រាវទៅ', 'kcc[-3:-2]': 'ជ្រាវ', 'kcc[+1]': 'ផ', 'kcc[+1]t': 'C', 'kcc[+1:0]': 'លើផ', 'ns+1': False, 'kcc[+2]': 'លិ', 'kcc[+2]t': 'K2', 'kcc[+1:+2]': 'ផលិ', 'kcc[0:+2]': 'លើផលិ', 'ns+2': False, 'kcc[+3]': 'ត', 'kcc[+3]t': 'C', 'kcc[+2:+3]': 'លិត', 'kcc[+1:+3]': 'ផលិត', 'kcc[0:+3]': 'លើផលិត'}, {'kcc': 'ផ', 't': 'C', 'ns': False, 'kcc[-1]': 'លើ', 'kcc[-1]t': 'K2', 'kcc[-1:0]': 'លើផ', 'ns-1': False, 'kcc[-2]': 'ទៅ', 'kcc[-2]t': 'K2', 'kcc[-2:-1]': 'ទៅលើ', 'kcc[-2:0]': 'ទៅលើផ', 'kcc[-3]': 'វ', 'kcc[-3]t': 'C', 'kcc[-3:0]': 'វទៅលើផ', 'kcc[-3:-1]': 'វទៅលើ', 'kcc[-3:-2]': 'វទៅ', 'kcc[+1]': 'លិ', 'kcc[+1]t': 'K2', 'kcc[+1:0]': 'ផលិ', 'ns+1': False, 'kcc[+2]': 'ត', 'kcc[+2]t': 'C', 'kcc[+1:+2]': 'លិត', 'kcc[0:+2]': 'ផលិត', 'ns+2': False, 'kcc[+3]': 'ផ', 'kcc[+3]t': 'C', 'kcc[+2:+3]': 'តផ', 'kcc[+1:+3]': 'លិតផ', 'kcc[0:+3]': 'ផលិតផ'}, {'kcc': 'លិ', 't': 'K2', 'ns': False, 'kcc[-1]': 'ផ', 'kcc[-1]t': 'C', 'kcc[-1:0]': 'ផលិ', 'ns-1': False, 'kcc[-2]': 'លើ', 'kcc[-2]t': 'K2', 'kcc[-2:-1]': 'លើផ', 'kcc[-2:0]': 'លើផលិ', 'kcc[-3]': 'ទៅ', 'kcc[-3]t': 'K2', 'kcc[-3:0]': 'ទៅលើផលិ', 'kcc[-3:-1]': 'ទៅលើផ', 'kcc[-3:-2]': 'ទៅលើ', 'kcc[+1]': 'ត', 'kcc[+1]t': 'C', 'kcc[+1:0]': 'លិត', 'ns+1': False, 'kcc[+2]': 'ផ', 'kcc[+2]t': 'C', 'kcc[+1:+2]': 'តផ', 'kcc[0:+2]': 'លិតផ', 'ns+2': False, 'kcc[+3]': 'ល', 'kcc[+3]t': 'C', 'kcc[+2:+3]': 'ផល', 'kcc[+1:+3]': 'តផល', 'kcc[0:+3]': 'លិតផល'}, {'kcc': 'ត', 't': 'C', 'ns': False, 'kcc[-1]': 'លិ', 'kcc[-1]t': 'K2', 'kcc[-1:0]': 'លិត', 'ns-1': False, 'kcc[-2]': 'ផ', 'kcc[-2]t': 'C', 'kcc[-2:-1]': 'ផលិ', 'kcc[-2:0]': 'ផលិត', 'kcc[-3]': 'លើ', 'kcc[-3]t': 'K2', 'kcc[-3:0]': 'លើផលិត', 'kcc[-3:-1]': 'លើផលិ', 'kcc[-3:-2]': 'លើផ', 'kcc[+1]': 'ផ', 'kcc[+1]t': 'C', 'kcc[+1:0]': 'តផ', 'ns+1': False, 'kcc[+2]': 'ល', 'kcc[+2]t': 'C', 'kcc[+1:+2]': 'ផល', 'kcc[0:+2]': 'តផល', 'ns+2': False, 'kcc[+3]': 'ជំ', 'kcc[+3]t': 'K2', 'kcc[+2:+3]': 'លជំ', 'kcc[+1:+3]': 'ផលជំ', 'kcc[0:+3]': 'តផលជំ'}, {'kcc': 'ផ', 't': 'C', 'ns': False, 'kcc[-1]': 'ត', 'kcc[-1]t': 'C', 'kcc[-1:0]': 'តផ', 'ns-1': False, 'kcc[-2]': 'លិ', 'kcc[-2]t': 'K2', 'kcc[-2:-1]': 'លិត', 'kcc[-2:0]': 'លិតផ', 'kcc[-3]': 'ផ', 'kcc[-3]t': 'C', 'kcc[-3:0]': 'ផលិតផ', 'kcc[-3:-1]': 'ផលិត', 'kcc[-3:-2]': 'ផលិ', 'kcc[+1]': 'ល', 'kcc[+1]t': 'C', 'kcc[+1:0]': 'ផល', 'ns+1': False, 'kcc[+2]': 'ជំ', 'kcc[+2]t': 'K2', 'kcc[+1:+2]': 'លជំ', 'kcc[0:+2]': 'ផលជំ', 'ns+2': False, 'kcc[+3]': 'នួ', 'kcc[+3]t': 'K2', 'kcc[+2:+3]': 'ជំនួ', 'kcc[+1:+3]': 'លជំនួ', 'kcc[0:+3]': 'ផលជំនួ'}, {'kcc': 'ល', 't': 'C', 'ns': False, 'kcc[-1]': 'ផ', 'kcc[-1]t': 'C', 'kcc[-1:0]': 'ផល', 'ns-1': False, 'kcc[-2]': 'ត', 'kcc[-2]t': 'C', 'kcc[-2:-1]': 'តផ', 'kcc[-2:0]': 'តផល', 'kcc[-3]': 'លិ', 'kcc[-3]t': 'K2', 'kcc[-3:0]': 'លិតផល', 'kcc[-3:-1]': 'លិតផ', 'kcc[-3:-2]': 'លិត', 'kcc[+1]': 'ជំ', 'kcc[+1]t': 'K2', 'kcc[+1:0]': 'លជំ', 'ns+1': False, 'kcc[+2]': 'នួ', 'kcc[+2]t': 'K2', 'kcc[+1:+2]': 'ជំនួ', 'kcc[0:+2]': 'លជំនួ', 'ns+2': False, 'kcc[+3]': 'ស', 'kcc[+3]t': 'C', 'kcc[+2:+3]': 'នួស', 'kcc[+1:+3]': 'ជំនួស', 'kcc[0:+3]': 'លជំនួស'}, {'kcc': 'ជំ', 't': 'K2', 'ns': False, 'kcc[-1]': 'ល', 'kcc[-1]t': 'C', 'kcc[-1:0]': 'លជំ', 'ns-1': False, 'kcc[-2]': 'ផ', 'kcc[-2]t': 'C', 'kcc[-2:-1]': 'ផល', 'kcc[-2:0]': 'ផលជំ', 'kcc[-3]': 'ត', 'kcc[-3]t': 'C', 'kcc[-3:0]': 'តផលជំ', 'kcc[-3:-1]': 'តផល', 'kcc[-3:-2]': 'តផ', 'kcc[+1]': 'នួ', 'kcc[+1]t': 'K2', 'kcc[+1:0]': 'ជំនួ', 'ns+1': False, 'kcc[+2]': 'ស', 'kcc[+2]t': 'C', 'kcc[+1:+2]': 'នួស', 'kcc[0:+2]': 'ជំនួស', 'ns+2': False, 'kcc[+3]': 'រ', 'kcc[+3]t': 'C', 'kcc[+2:+3]': 'សរ', 'kcc[+1:+3]': 'នួសរ', 'kcc[0:+3]': 'ជំនួសរ'}, {'kcc': 'នួ', 't': 'K2', 'ns': False, 'kcc[-1]': 'ជំ', 'kcc[-1]t': 'K2', 'kcc[-1:0]': 'ជំនួ', 'ns-1': False, 'kcc[-2]': 'ល', 'kcc[-2]t': 'C', 'kcc[-2:-1]': 'លជំ', 'kcc[-2:0]': 'លជំនួ', 'kcc[-3]': 'ផ', 'kcc[-3]t': 'C', 'kcc[-3:0]': 'ផលជំនួ', 'kcc[-3:-1]': 'ផលជំ', 'kcc[-3:-2]': 'ផល', 'kcc[+1]': 'ស', 'kcc[+1]t': 'C', 'kcc[+1:0]': 'នួស', 'ns+1': False, 'kcc[+2]': 'រ', 'kcc[+2]t': 'C', 'kcc[+1:+2]': 'សរ', 'kcc[0:+2]': 'នួសរ', 'ns+2': False, 'kcc[+3]': 'ប', 'kcc[+3]t': 'C', 'kcc[+2:+3]': 'រប', 'kcc[+1:+3]': 'សរប', 'kcc[0:+3]': 'នួសរប'}, {'kcc': 'ស', 't': 'C', 'ns': False, 'kcc[-1]': 'នួ', 'kcc[-1]t': 'K2', 'kcc[-1:0]': 'នួស', 'ns-1': False, 'kcc[-2]': 'ជំ', 'kcc[-2]t': 'K2', 'kcc[-2:-1]': 'ជំនួ', 'kcc[-2:0]': 'ជំនួស', 'kcc[-3]': 'ល', 'kcc[-3]t': 'C', 'kcc[-3:0]': 'លជំនួស', 'kcc[-3:-1]': 'លជំនួ', 'kcc[-3:-2]': 'លជំ', 'kcc[+1]': 'រ', 'kcc[+1]t': 'C', 'kcc[+1:0]': 'សរ', 'ns+1': False, 'kcc[+2]': 'ប', 'kcc[+2]t': 'C', 'kcc[+1:+2]': 'រប', 'kcc[0:+2]': 'សរប', 'ns+2': False, 'kcc[+3]': 'ស់', 'kcc[+3]t': 'K2', 'kcc[+2:+3]': 'បស់', 'kcc[+1:+3]': 'របស់', 'kcc[0:+3]': 'សរបស់'}, {'kcc': 'រ', 't': 'C', 'ns': False, 'kcc[-1]': 'ស', 'kcc[-1]t': 'C', 'kcc[-1:0]': 'សរ', 'ns-1': False, 'kcc[-2]': 'នួ', 'kcc[-2]t': 'K2', 'kcc[-2:-1]': 'នួស', 'kcc[-2:0]': 'នួសរ', 'kcc[-3]': 'ជំ', 'kcc[-3]t': 'K2', 'kcc[-3:0]': 'ជំនួសរ', 'kcc[-3:-1]': 'ជំនួស', 'kcc[-3:-2]': 'ជំនួ', 'kcc[+1]': 'ប', 'kcc[+1]t': 'C', 'kcc[+1:0]': 'រប', 'ns+1': False, 'kcc[+2]': 'ស់', 'kcc[+2]t': 'K2', 'kcc[+1:+2]': 'បស់', 'kcc[0:+2]': 'របស់', 'ns+2': False, 'kcc[+3]': 'វា', 'kcc[+3]t': 'K2', 'kcc[+2:+3]': 'ស់វា', 'kcc[+1:+3]': 'បស់វា', 'kcc[0:+3]': 'របស់វា'}, {'kcc': 'ប', 't': 'C', 'ns': False, 'kcc[-1]': 'រ', 'kcc[-1]t': 'C', 'kcc[-1:0]': 'រប', 'ns-1': False, 'kcc[-2]': 'ស', 'kcc[-2]t': 'C', 'kcc[-2:-1]': 'សរ', 'kcc[-2:0]': 'សរប', 'kcc[-3]': 'នួ', 'kcc[-3]t': 'K2', 'kcc[-3:0]': 'នួសរប', 'kcc[-3:-1]': 'នួសរ', 'kcc[-3:-2]': 'នួស', 'kcc[+1]': 'ស់', 'kcc[+1]t': 'K2', 'kcc[+1:0]': 'បស់', 'ns+1': False, 'kcc[+2]': 'វា', 'kcc[+2]t': 'K2', 'kcc[+1:+2]': 'ស់វា', 'kcc[0:+2]': 'បស់វា', 'ns+2': False, 'kcc[+3]': '។', 'kcc[+3]t': 'NS', 'kcc[+2:+3]': 'វា។', 'kcc[+1:+3]': 'ស់វា។', 'kcc[0:+3]': 'បស់វា។'}, {'kcc': 'ស់', 't': 'K2', 'ns': False, 'kcc[-1]': 'ប', 'kcc[-1]t': 'C', 'kcc[-1:0]': 'បស់', 'ns-1': False, 'kcc[-2]': 'រ', 'kcc[-2]t': 'C', 'kcc[-2:-1]': 'រប', 'kcc[-2:0]': 'របស់', 'kcc[-3]': 'ស', 'kcc[-3]t': 'C', 'kcc[-3:0]': 'សរបស់', 'kcc[-3:-1]': 'សរប', 'kcc[-3:-2]': 'សរ', 'kcc[+1]': 'វា', 'kcc[+1]t': 'K2', 'kcc[+1:0]': 'ស់វា', 'ns+1': False, 'kcc[+2]': '។', 'kcc[+2]t': 'NS', 'kcc[+1:+2]': 'វា។', 'kcc[0:+2]': 'ស់វា។', 'ns+2': True}, {'kcc': 'វា', 't': 'K2', 'ns': False, 'kcc[-1]': 'ស់', 'kcc[-1]t': 'K2', 'kcc[-1:0]': 'ស់វា', 'ns-1': False, 'kcc[-2]': 'ប', 'kcc[-2]t': 'C', 'kcc[-2:-1]': 'បស់', 'kcc[-2:0]': 'បស់វា', 'kcc[-3]': 'រ', 'kcc[-3]t': 'C', 'kcc[-3:0]': 'របស់វា', 'kcc[-3:-1]': 'របស់', 'kcc[-3:-2]': 'រប', 'kcc[+1]': '។', 'kcc[+1]t': 'NS', 'kcc[+1:0]': 'វា។', 'ns+1': True}, {'kcc': '។', 't': 'NS', 'ns': True, 'kcc[-1]': 'វា', 'kcc[-1]t': 'K2', 'kcc[-1:0]': 'វា។', 'ns-1': False, 'kcc[-2]': 'ស់', 'kcc[-2]t': 'K2', 'kcc[-2:-1]': 'ស់វា', 'kcc[-2:0]': 'ស់វា។', 'kcc[-3]': 'ប', 'kcc[-3]t': 'C', 'kcc[-3:0]': 'បស់វា។', 'kcc[-3:-1]': 'បស់វា', 'kcc[-3:-2]': 'បស់', 'EOS': True}]\n",
            "len of y: 1000 ['1', '0', '1', '0', '1', '0', '1', '1', '1', '0', '1', '0', '1', '1', '1', '0', '0', '1', '0', '1', '0', '1', '0', '1', '0', '1', '0', '0', '1', '0', '1', '0', '0', '0', '0', '1', '1', '1', '0', '1', '0', '1', '0', '1', '0', '0', '1', '0', '1', '0', '1', '0', '1', '0', '1', '0', '0', '1', '1', '0', '1', '0', '0', '1', '0', '1', '0', '0', '1', '1', '0', '0', '1', '0', '1', '0', '1', '0', '1', '0', '1', '0', '0', '1', '0', '1', '0', '0', '0', '1', '1', '1', '0', '0', '1', '0', '1', '0', '0', '1', '0', '0', '1', '1']\n",
            "len of X[0]: 104 [{'kcc': 'ខ', 't': 'C', 'ns': False, 'BOS': True, 'kcc[+1]': 'ណៈ', 'kcc[+1]t': 'K2', 'kcc[+1:0]': 'ខណៈ', 'ns+1': False, 'kcc[+2]': 'កា', 'kcc[+2]t': 'K2', 'kcc[+1:+2]': 'ណៈកា', 'kcc[0:+2]': 'ខណៈកា', 'ns+2': False, 'kcc[+3]': 'រ', 'kcc[+3]t': 'C', 'kcc[+2:+3]': 'ការ', 'kcc[+1:+3]': 'ណៈការ', 'kcc[0:+3]': 'ខណៈការ'}, {'kcc': 'ណៈ', 't': 'K2', 'ns': False, 'kcc[-1]': 'ខ', 'kcc[-1]t': 'C', 'kcc[-1:0]': 'ខណៈ', 'ns-1': False, 'kcc[+1]': 'កា', 'kcc[+1]t': 'K2', 'kcc[+1:0]': 'ណៈកា', 'ns+1': False, 'kcc[+2]': 'រ', 'kcc[+2]t': 'C', 'kcc[+1:+2]': 'ការ', 'kcc[0:+2]': 'ណៈការ', 'ns+2': False, 'kcc[+3]': 'ថ', 'kcc[+3]t': 'C', 'kcc[+2:+3]': 'រថ', 'kcc[+1:+3]': 'ការថ', 'kcc[0:+3]': 'ណៈការថ'}, {'kcc': 'កា', 't': 'K2', 'ns': False, 'kcc[-1]': 'ណៈ', 'kcc[-1]t': 'K2', 'kcc[-1:0]': 'ណៈកា', 'ns-1': False, 'kcc[-2]': 'ខ', 'kcc[-2]t': 'C', 'kcc[-2:-1]': 'ខណៈ', 'kcc[-2:0]': 'ខណៈកា', 'kcc[+1]': 'រ', 'kcc[+1]t': 'C', 'kcc[+1:0]': 'ការ', 'ns+1': False, 'kcc[+2]': 'ថ', 'kcc[+2]t': 'C', 'kcc[+1:+2]': 'រថ', 'kcc[0:+2]': 'ការថ', 'ns+2': False, 'kcc[+3]': 'យ', 'kcc[+3]t': 'C', 'kcc[+2:+3]': 'ថយ', 'kcc[+1:+3]': 'រថយ', 'kcc[0:+3]': 'ការថយ'}, {'kcc': 'រ', 't': 'C', 'ns': False, 'kcc[-1]': 'កា', 'kcc[-1]t': 'K2', 'kcc[-1:0]': 'ការ', 'ns-1': False, 'kcc[-2]': 'ណៈ', 'kcc[-2]t': 'K2', 'kcc[-2:-1]': 'ណៈកា', 'kcc[-2:0]': 'ណៈការ', 'kcc[-3]': 'ខ', 'kcc[-3]t': 'C', 'kcc[-3:0]': 'ខណៈការ', 'kcc[-3:-1]': 'ខណៈកា', 'kcc[-3:-2]': 'ខណៈ', 'kcc[+1]': 'ថ', 'kcc[+1]t': 'C', 'kcc[+1:0]': 'រថ', 'ns+1': False, 'kcc[+2]': 'យ', 'kcc[+2]t': 'C', 'kcc[+1:+2]': 'ថយ', 'kcc[0:+2]': 'រថយ', 'ns+2': False, 'kcc[+3]': 'ចុះ', 'kcc[+3]t': 'K3', 'kcc[+2:+3]': 'យចុះ', 'kcc[+1:+3]': 'ថយចុះ', 'kcc[0:+3]': 'រថយចុះ'}, {'kcc': 'ថ', 't': 'C', 'ns': False, 'kcc[-1]': 'រ', 'kcc[-1]t': 'C', 'kcc[-1:0]': 'រថ', 'ns-1': False, 'kcc[-2]': 'កា', 'kcc[-2]t': 'K2', 'kcc[-2:-1]': 'ការ', 'kcc[-2:0]': 'ការថ', 'kcc[-3]': 'ណៈ', 'kcc[-3]t': 'K2', 'kcc[-3:0]': 'ណៈការថ', 'kcc[-3:-1]': 'ណៈការ', 'kcc[-3:-2]': 'ណៈកា', 'kcc[+1]': 'យ', 'kcc[+1]t': 'C', 'kcc[+1:0]': 'ថយ', 'ns+1': False, 'kcc[+2]': 'ចុះ', 'kcc[+2]t': 'K3', 'kcc[+1:+2]': 'យចុះ', 'kcc[0:+2]': 'ថយចុះ', 'ns+2': False, 'kcc[+3]': 'នៅ', 'kcc[+3]t': 'K2', 'kcc[+2:+3]': 'ចុះនៅ', 'kcc[+1:+3]': 'យចុះនៅ', 'kcc[0:+3]': 'ថយចុះនៅ'}, {'kcc': 'យ', 't': 'C', 'ns': False, 'kcc[-1]': 'ថ', 'kcc[-1]t': 'C', 'kcc[-1:0]': 'ថយ', 'ns-1': False, 'kcc[-2]': 'រ', 'kcc[-2]t': 'C', 'kcc[-2:-1]': 'រថ', 'kcc[-2:0]': 'រថយ', 'kcc[-3]': 'កា', 'kcc[-3]t': 'K2', 'kcc[-3:0]': 'ការថយ', 'kcc[-3:-1]': 'ការថ', 'kcc[-3:-2]': 'ការ', 'kcc[+1]': 'ចុះ', 'kcc[+1]t': 'K3', 'kcc[+1:0]': 'យចុះ', 'ns+1': False, 'kcc[+2]': 'នៅ', 'kcc[+2]t': 'K2', 'kcc[+1:+2]': 'ចុះនៅ', 'kcc[0:+2]': 'យចុះនៅ', 'ns+2': False, 'kcc[+3]': 'ក្នុ', 'kcc[+3]t': 'K4', 'kcc[+2:+3]': 'នៅក្នុ', 'kcc[+1:+3]': 'ចុះនៅក្នុ', 'kcc[0:+3]': 'យចុះនៅក្នុ'}, {'kcc': 'ចុះ', 't': 'K3', 'ns': False, 'kcc[-1]': 'យ', 'kcc[-1]t': 'C', 'kcc[-1:0]': 'យចុះ', 'ns-1': False, 'kcc[-2]': 'ថ', 'kcc[-2]t': 'C', 'kcc[-2:-1]': 'ថយ', 'kcc[-2:0]': 'ថយចុះ', 'kcc[-3]': 'រ', 'kcc[-3]t': 'C', 'kcc[-3:0]': 'រថយចុះ', 'kcc[-3:-1]': 'រថយ', 'kcc[-3:-2]': 'រថ', 'kcc[+1]': 'នៅ', 'kcc[+1]t': 'K2', 'kcc[+1:0]': 'ចុះនៅ', 'ns+1': False, 'kcc[+2]': 'ក្នុ', 'kcc[+2]t': 'K4', 'kcc[+1:+2]': 'នៅក្នុ', 'kcc[0:+2]': 'ចុះនៅក្នុ', 'ns+2': False, 'kcc[+3]': 'ង', 'kcc[+3]t': 'C', 'kcc[+2:+3]': 'ក្នុង', 'kcc[+1:+3]': 'នៅក្នុង', 'kcc[0:+3]': 'ចុះនៅក្នុង'}, {'kcc': 'នៅ', 't': 'K2', 'ns': False, 'kcc[-1]': 'ចុះ', 'kcc[-1]t': 'K3', 'kcc[-1:0]': 'ចុះនៅ', 'ns-1': False, 'kcc[-2]': 'យ', 'kcc[-2]t': 'C', 'kcc[-2:-1]': 'យចុះ', 'kcc[-2:0]': 'យចុះនៅ', 'kcc[-3]': 'ថ', 'kcc[-3]t': 'C', 'kcc[-3:0]': 'ថយចុះនៅ', 'kcc[-3:-1]': 'ថយចុះ', 'kcc[-3:-2]': 'ថយ', 'kcc[+1]': 'ក្នុ', 'kcc[+1]t': 'K4', 'kcc[+1:0]': 'នៅក្នុ', 'ns+1': False, 'kcc[+2]': 'ង', 'kcc[+2]t': 'C', 'kcc[+1:+2]': 'ក្នុង', 'kcc[0:+2]': 'នៅក្នុង', 'ns+2': False, 'kcc[+3]': 'ព', 'kcc[+3]t': 'C', 'kcc[+2:+3]': 'ងព', 'kcc[+1:+3]': 'ក្នុងព', 'kcc[0:+3]': 'នៅក្នុងព'}, {'kcc': 'ក្នុ', 't': 'K4', 'ns': False, 'kcc[-1]': 'នៅ', 'kcc[-1]t': 'K2', 'kcc[-1:0]': 'នៅក្នុ', 'ns-1': False, 'kcc[-2]': 'ចុះ', 'kcc[-2]t': 'K3', 'kcc[-2:-1]': 'ចុះនៅ', 'kcc[-2:0]': 'ចុះនៅក្នុ', 'kcc[-3]': 'យ', 'kcc[-3]t': 'C', 'kcc[-3:0]': 'យចុះនៅក្នុ', 'kcc[-3:-1]': 'យចុះនៅ', 'kcc[-3:-2]': 'យចុះ', 'kcc[+1]': 'ង', 'kcc[+1]t': 'C', 'kcc[+1:0]': 'ក្នុង', 'ns+1': False, 'kcc[+2]': 'ព', 'kcc[+2]t': 'C', 'kcc[+1:+2]': 'ងព', 'kcc[0:+2]': 'ក្នុងព', 'ns+2': False, 'kcc[+3]': 'ន្ធ', 'kcc[+3]t': 'K3', 'kcc[+2:+3]': 'ពន្ធ', 'kcc[+1:+3]': 'ងពន្ធ', 'kcc[0:+3]': 'ក្នុងពន្ធ'}, {'kcc': 'ង', 't': 'C', 'ns': False, 'kcc[-1]': 'ក្នុ', 'kcc[-1]t': 'K4', 'kcc[-1:0]': 'ក្នុង', 'ns-1': False, 'kcc[-2]': 'នៅ', 'kcc[-2]t': 'K2', 'kcc[-2:-1]': 'នៅក្នុ', 'kcc[-2:0]': 'នៅក្នុង', 'kcc[-3]': 'ចុះ', 'kcc[-3]t': 'K3', 'kcc[-3:0]': 'ចុះនៅក្នុង', 'kcc[-3:-1]': 'ចុះនៅក្នុ', 'kcc[-3:-2]': 'ចុះនៅ', 'kcc[+1]': 'ព', 'kcc[+1]t': 'C', 'kcc[+1:0]': 'ងព', 'ns+1': False, 'kcc[+2]': 'ន្ធ', 'kcc[+2]t': 'K3', 'kcc[+1:+2]': 'ពន្ធ', 'kcc[0:+2]': 'ងពន្ធ', 'ns+2': False, 'kcc[+3]': 'ទៅ', 'kcc[+3]t': 'K2', 'kcc[+2:+3]': 'ន្ធទៅ', 'kcc[+1:+3]': 'ពន្ធទៅ', 'kcc[0:+3]': 'ងពន្ធទៅ'}, {'kcc': 'ព', 't': 'C', 'ns': False, 'kcc[-1]': 'ង', 'kcc[-1]t': 'C', 'kcc[-1:0]': 'ងព', 'ns-1': False, 'kcc[-2]': 'ក្នុ', 'kcc[-2]t': 'K4', 'kcc[-2:-1]': 'ក្នុង', 'kcc[-2:0]': 'ក្នុងព', 'kcc[-3]': 'នៅ', 'kcc[-3]t': 'K2', 'kcc[-3:0]': 'នៅក្នុងព', 'kcc[-3:-1]': 'នៅក្នុង', 'kcc[-3:-2]': 'នៅក្នុ', 'kcc[+1]': 'ន្ធ', 'kcc[+1]t': 'K3', 'kcc[+1:0]': 'ពន្ធ', 'ns+1': False, 'kcc[+2]': 'ទៅ', 'kcc[+2]t': 'K2', 'kcc[+1:+2]': 'ន្ធទៅ', 'kcc[0:+2]': 'ពន្ធទៅ', 'ns+2': False, 'kcc[+3]': 'លើ', 'kcc[+3]t': 'K2', 'kcc[+2:+3]': 'ទៅលើ', 'kcc[+1:+3]': 'ន្ធទៅលើ', 'kcc[0:+3]': 'ពន្ធទៅលើ'}, {'kcc': 'ន្ធ', 't': 'K3', 'ns': False, 'kcc[-1]': 'ព', 'kcc[-1]t': 'C', 'kcc[-1:0]': 'ពន្ធ', 'ns-1': False, 'kcc[-2]': 'ង', 'kcc[-2]t': 'C', 'kcc[-2:-1]': 'ងព', 'kcc[-2:0]': 'ងពន្ធ', 'kcc[-3]': 'ក្នុ', 'kcc[-3]t': 'K4', 'kcc[-3:0]': 'ក្នុងពន្ធ', 'kcc[-3:-1]': 'ក្នុងព', 'kcc[-3:-2]': 'ក្នុង', 'kcc[+1]': 'ទៅ', 'kcc[+1]t': 'K2', 'kcc[+1:0]': 'ន្ធទៅ', 'ns+1': False, 'kcc[+2]': 'លើ', 'kcc[+2]t': 'K2', 'kcc[+1:+2]': 'ទៅលើ', 'kcc[0:+2]': 'ន្ធទៅលើ', 'ns+2': False, 'kcc[+3]': 'ផ', 'kcc[+3]t': 'C', 'kcc[+2:+3]': 'លើផ', 'kcc[+1:+3]': 'ទៅលើផ', 'kcc[0:+3]': 'ន្ធទៅលើផ'}, {'kcc': 'ទៅ', 't': 'K2', 'ns': False, 'kcc[-1]': 'ន្ធ', 'kcc[-1]t': 'K3', 'kcc[-1:0]': 'ន្ធទៅ', 'ns-1': False, 'kcc[-2]': 'ព', 'kcc[-2]t': 'C', 'kcc[-2:-1]': 'ពន្ធ', 'kcc[-2:0]': 'ពន្ធទៅ', 'kcc[-3]': 'ង', 'kcc[-3]t': 'C', 'kcc[-3:0]': 'ងពន្ធទៅ', 'kcc[-3:-1]': 'ងពន្ធ', 'kcc[-3:-2]': 'ងព', 'kcc[+1]': 'លើ', 'kcc[+1]t': 'K2', 'kcc[+1:0]': 'ទៅលើ', 'ns+1': False, 'kcc[+2]': 'ផ', 'kcc[+2]t': 'C', 'kcc[+1:+2]': 'លើផ', 'kcc[0:+2]': 'ទៅលើផ', 'ns+2': False, 'kcc[+3]': 'លិ', 'kcc[+3]t': 'K2', 'kcc[+2:+3]': 'ផលិ', 'kcc[+1:+3]': 'លើផលិ', 'kcc[0:+3]': 'ទៅលើផលិ'}, {'kcc': 'លើ', 't': 'K2', 'ns': False, 'kcc[-1]': 'ទៅ', 'kcc[-1]t': 'K2', 'kcc[-1:0]': 'ទៅលើ', 'ns-1': False, 'kcc[-2]': 'ន្ធ', 'kcc[-2]t': 'K3', 'kcc[-2:-1]': 'ន្ធទៅ', 'kcc[-2:0]': 'ន្ធទៅលើ', 'kcc[-3]': 'ព', 'kcc[-3]t': 'C', 'kcc[-3:0]': 'ពន្ធទៅលើ', 'kcc[-3:-1]': 'ពន្ធទៅ', 'kcc[-3:-2]': 'ពន្ធ', 'kcc[+1]': 'ផ', 'kcc[+1]t': 'C', 'kcc[+1:0]': 'លើផ', 'ns+1': False, 'kcc[+2]': 'លិ', 'kcc[+2]t': 'K2', 'kcc[+1:+2]': 'ផលិ', 'kcc[0:+2]': 'លើផលិ', 'ns+2': False, 'kcc[+3]': 'ត', 'kcc[+3]t': 'C', 'kcc[+2:+3]': 'លិត', 'kcc[+1:+3]': 'ផលិត', 'kcc[0:+3]': 'លើផលិត'}, {'kcc': 'ផ', 't': 'C', 'ns': False, 'kcc[-1]': 'លើ', 'kcc[-1]t': 'K2', 'kcc[-1:0]': 'លើផ', 'ns-1': False, 'kcc[-2]': 'ទៅ', 'kcc[-2]t': 'K2', 'kcc[-2:-1]': 'ទៅលើ', 'kcc[-2:0]': 'ទៅលើផ', 'kcc[-3]': 'ន្ធ', 'kcc[-3]t': 'K3', 'kcc[-3:0]': 'ន្ធទៅលើផ', 'kcc[-3:-1]': 'ន្ធទៅលើ', 'kcc[-3:-2]': 'ន្ធទៅ', 'kcc[+1]': 'លិ', 'kcc[+1]t': 'K2', 'kcc[+1:0]': 'ផលិ', 'ns+1': False, 'kcc[+2]': 'ត', 'kcc[+2]t': 'C', 'kcc[+1:+2]': 'លិត', 'kcc[0:+2]': 'ផលិត', 'ns+2': False, 'kcc[+3]': 'ផ', 'kcc[+3]t': 'C', 'kcc[+2:+3]': 'តផ', 'kcc[+1:+3]': 'លិតផ', 'kcc[0:+3]': 'ផលិតផ'}, {'kcc': 'លិ', 't': 'K2', 'ns': False, 'kcc[-1]': 'ផ', 'kcc[-1]t': 'C', 'kcc[-1:0]': 'ផលិ', 'ns-1': False, 'kcc[-2]': 'លើ', 'kcc[-2]t': 'K2', 'kcc[-2:-1]': 'លើផ', 'kcc[-2:0]': 'លើផលិ', 'kcc[-3]': 'ទៅ', 'kcc[-3]t': 'K2', 'kcc[-3:0]': 'ទៅលើផលិ', 'kcc[-3:-1]': 'ទៅលើផ', 'kcc[-3:-2]': 'ទៅលើ', 'kcc[+1]': 'ត', 'kcc[+1]t': 'C', 'kcc[+1:0]': 'លិត', 'ns+1': False, 'kcc[+2]': 'ផ', 'kcc[+2]t': 'C', 'kcc[+1:+2]': 'តផ', 'kcc[0:+2]': 'លិតផ', 'ns+2': False, 'kcc[+3]': 'ល', 'kcc[+3]t': 'C', 'kcc[+2:+3]': 'ផល', 'kcc[+1:+3]': 'តផល', 'kcc[0:+3]': 'លិតផល'}, {'kcc': 'ត', 't': 'C', 'ns': False, 'kcc[-1]': 'លិ', 'kcc[-1]t': 'K2', 'kcc[-1:0]': 'លិត', 'ns-1': False, 'kcc[-2]': 'ផ', 'kcc[-2]t': 'C', 'kcc[-2:-1]': 'ផលិ', 'kcc[-2:0]': 'ផលិត', 'kcc[-3]': 'លើ', 'kcc[-3]t': 'K2', 'kcc[-3:0]': 'លើផលិត', 'kcc[-3:-1]': 'លើផលិ', 'kcc[-3:-2]': 'លើផ', 'kcc[+1]': 'ផ', 'kcc[+1]t': 'C', 'kcc[+1:0]': 'តផ', 'ns+1': False, 'kcc[+2]': 'ល', 'kcc[+2]t': 'C', 'kcc[+1:+2]': 'ផល', 'kcc[0:+2]': 'តផល', 'ns+2': False, 'kcc[+3]': 'ប្រេ', 'kcc[+3]t': 'K4', 'kcc[+2:+3]': 'លប្រេ', 'kcc[+1:+3]': 'ផលប្រេ', 'kcc[0:+3]': 'តផលប្រេ'}, {'kcc': 'ផ', 't': 'C', 'ns': False, 'kcc[-1]': 'ត', 'kcc[-1]t': 'C', 'kcc[-1:0]': 'តផ', 'ns-1': False, 'kcc[-2]': 'លិ', 'kcc[-2]t': 'K2', 'kcc[-2:-1]': 'លិត', 'kcc[-2:0]': 'លិតផ', 'kcc[-3]': 'ផ', 'kcc[-3]t': 'C', 'kcc[-3:0]': 'ផលិតផ', 'kcc[-3:-1]': 'ផលិត', 'kcc[-3:-2]': 'ផលិ', 'kcc[+1]': 'ល', 'kcc[+1]t': 'C', 'kcc[+1:0]': 'ផល', 'ns+1': False, 'kcc[+2]': 'ប្រេ', 'kcc[+2]t': 'K4', 'kcc[+1:+2]': 'លប្រេ', 'kcc[0:+2]': 'ផលប្រេ', 'ns+2': False, 'kcc[+3]': 'ង', 'kcc[+3]t': 'C', 'kcc[+2:+3]': 'ប្រេង', 'kcc[+1:+3]': 'លប្រេង', 'kcc[0:+3]': 'ផលប្រេង'}, {'kcc': 'ល', 't': 'C', 'ns': False, 'kcc[-1]': 'ផ', 'kcc[-1]t': 'C', 'kcc[-1:0]': 'ផល', 'ns-1': False, 'kcc[-2]': 'ត', 'kcc[-2]t': 'C', 'kcc[-2:-1]': 'តផ', 'kcc[-2:0]': 'តផល', 'kcc[-3]': 'លិ', 'kcc[-3]t': 'K2', 'kcc[-3:0]': 'លិតផល', 'kcc[-3:-1]': 'លិតផ', 'kcc[-3:-2]': 'លិត', 'kcc[+1]': 'ប្រេ', 'kcc[+1]t': 'K4', 'kcc[+1:0]': 'លប្រេ', 'ns+1': False, 'kcc[+2]': 'ង', 'kcc[+2]t': 'C', 'kcc[+1:+2]': 'ប្រេង', 'kcc[0:+2]': 'លប្រេង', 'ns+2': False, 'kcc[+3]': 'ដោ', 'kcc[+3]t': 'K2', 'kcc[+2:+3]': 'ងដោ', 'kcc[+1:+3]': 'ប្រេងដោ', 'kcc[0:+3]': 'លប្រេងដោ'}, {'kcc': 'ប្រេ', 't': 'K4', 'ns': False, 'kcc[-1]': 'ល', 'kcc[-1]t': 'C', 'kcc[-1:0]': 'លប្រេ', 'ns-1': False, 'kcc[-2]': 'ផ', 'kcc[-2]t': 'C', 'kcc[-2:-1]': 'ផល', 'kcc[-2:0]': 'ផលប្រេ', 'kcc[-3]': 'ត', 'kcc[-3]t': 'C', 'kcc[-3:0]': 'តផលប្រេ', 'kcc[-3:-1]': 'តផល', 'kcc[-3:-2]': 'តផ', 'kcc[+1]': 'ង', 'kcc[+1]t': 'C', 'kcc[+1:0]': 'ប្រេង', 'ns+1': False, 'kcc[+2]': 'ដោ', 'kcc[+2]t': 'K2', 'kcc[+1:+2]': 'ងដោ', 'kcc[0:+2]': 'ប្រេងដោ', 'ns+2': False, 'kcc[+3]': 'យ', 'kcc[+3]t': 'C', 'kcc[+2:+3]': 'ដោយ', 'kcc[+1:+3]': 'ងដោយ', 'kcc[0:+3]': 'ប្រេងដោយ'}, {'kcc': 'ង', 't': 'C', 'ns': False, 'kcc[-1]': 'ប្រេ', 'kcc[-1]t': 'K4', 'kcc[-1:0]': 'ប្រេង', 'ns-1': False, 'kcc[-2]': 'ល', 'kcc[-2]t': 'C', 'kcc[-2:-1]': 'លប្រេ', 'kcc[-2:0]': 'លប្រេង', 'kcc[-3]': 'ផ', 'kcc[-3]t': 'C', 'kcc[-3:0]': 'ផលប្រេង', 'kcc[-3:-1]': 'ផលប្រេ', 'kcc[-3:-2]': 'ផល', 'kcc[+1]': 'ដោ', 'kcc[+1]t': 'K2', 'kcc[+1:0]': 'ងដោ', 'ns+1': False, 'kcc[+2]': 'យ', 'kcc[+2]t': 'C', 'kcc[+1:+2]': 'ដោយ', 'kcc[0:+2]': 'ងដោយ', 'ns+2': False, 'kcc[+3]': 'ភា', 'kcc[+3]t': 'K2', 'kcc[+2:+3]': 'យភា', 'kcc[+1:+3]': 'ដោយភា', 'kcc[0:+3]': 'ងដោយភា'}, {'kcc': 'ដោ', 't': 'K2', 'ns': False, 'kcc[-1]': 'ង', 'kcc[-1]t': 'C', 'kcc[-1:0]': 'ងដោ', 'ns-1': False, 'kcc[-2]': 'ប្រេ', 'kcc[-2]t': 'K4', 'kcc[-2:-1]': 'ប្រេង', 'kcc[-2:0]': 'ប្រេងដោ', 'kcc[-3]': 'ល', 'kcc[-3]t': 'C', 'kcc[-3:0]': 'លប្រេងដោ', 'kcc[-3:-1]': 'លប្រេង', 'kcc[-3:-2]': 'លប្រេ', 'kcc[+1]': 'យ', 'kcc[+1]t': 'C', 'kcc[+1:0]': 'ដោយ', 'ns+1': False, 'kcc[+2]': 'ភា', 'kcc[+2]t': 'K2', 'kcc[+1:+2]': 'យភា', 'kcc[0:+2]': 'ដោយភា', 'ns+2': False, 'kcc[+3]': 'គី', 'kcc[+3]t': 'K2', 'kcc[+2:+3]': 'ភាគី', 'kcc[+1:+3]': 'យភាគី', 'kcc[0:+3]': 'ដោយភាគី'}, {'kcc': 'យ', 't': 'C', 'ns': False, 'kcc[-1]': 'ដោ', 'kcc[-1]t': 'K2', 'kcc[-1:0]': 'ដោយ', 'ns-1': False, 'kcc[-2]': 'ង', 'kcc[-2]t': 'C', 'kcc[-2:-1]': 'ងដោ', 'kcc[-2:0]': 'ងដោយ', 'kcc[-3]': 'ប្រេ', 'kcc[-3]t': 'K4', 'kcc[-3:0]': 'ប្រេងដោយ', 'kcc[-3:-1]': 'ប្រេងដោ', 'kcc[-3:-2]': 'ប្រេង', 'kcc[+1]': 'ភា', 'kcc[+1]t': 'K2', 'kcc[+1:0]': 'យភា', 'ns+1': False, 'kcc[+2]': 'គី', 'kcc[+2]t': 'K2', 'kcc[+1:+2]': 'ភាគី', 'kcc[0:+2]': 'យភាគី', 'ns+2': False, 'kcc[+3]': 'ក', 'kcc[+3]t': 'C', 'kcc[+2:+3]': 'គីក', 'kcc[+1:+3]': 'ភាគីក', 'kcc[0:+3]': 'យភាគីក'}, {'kcc': 'ភា', 't': 'K2', 'ns': False, 'kcc[-1]': 'យ', 'kcc[-1]t': 'C', 'kcc[-1:0]': 'យភា', 'ns-1': False, 'kcc[-2]': 'ដោ', 'kcc[-2]t': 'K2', 'kcc[-2:-1]': 'ដោយ', 'kcc[-2:0]': 'ដោយភា', 'kcc[-3]': 'ង', 'kcc[-3]t': 'C', 'kcc[-3:0]': 'ងដោយភា', 'kcc[-3:-1]': 'ងដោយ', 'kcc[-3:-2]': 'ងដោ', 'kcc[+1]': 'គី', 'kcc[+1]t': 'K2', 'kcc[+1:0]': 'ភាគី', 'ns+1': False, 'kcc[+2]': 'ក', 'kcc[+2]t': 'C', 'kcc[+1:+2]': 'គីក', 'kcc[0:+2]': 'ភាគីក', 'ns+2': False, 'kcc[+3]': 'ណ្តា', 'kcc[+3]t': 'K4', 'kcc[+2:+3]': 'កណ្តា', 'kcc[+1:+3]': 'គីកណ្តា', 'kcc[0:+3]': 'ភាគីកណ្តា'}, {'kcc': 'គី', 't': 'K2', 'ns': False, 'kcc[-1]': 'ភា', 'kcc[-1]t': 'K2', 'kcc[-1:0]': 'ភាគី', 'ns-1': False, 'kcc[-2]': 'យ', 'kcc[-2]t': 'C', 'kcc[-2:-1]': 'យភា', 'kcc[-2:0]': 'យភាគី', 'kcc[-3]': 'ដោ', 'kcc[-3]t': 'K2', 'kcc[-3:0]': 'ដោយភាគី', 'kcc[-3:-1]': 'ដោយភា', 'kcc[-3:-2]': 'ដោយ', 'kcc[+1]': 'ក', 'kcc[+1]t': 'C', 'kcc[+1:0]': 'គីក', 'ns+1': False, 'kcc[+2]': 'ណ្តា', 'kcc[+2]t': 'K4', 'kcc[+1:+2]': 'កណ្តា', 'kcc[0:+2]': 'គីកណ្តា', 'ns+2': False, 'kcc[+3]': 'ល', 'kcc[+3]t': 'C', 'kcc[+2:+3]': 'ណ្តាល', 'kcc[+1:+3]': 'កណ្តាល', 'kcc[0:+3]': 'គីកណ្តាល'}, {'kcc': 'ក', 't': 'C', 'ns': False, 'kcc[-1]': 'គី', 'kcc[-1]t': 'K2', 'kcc[-1:0]': 'គីក', 'ns-1': False, 'kcc[-2]': 'ភា', 'kcc[-2]t': 'K2', 'kcc[-2:-1]': 'ភាគី', 'kcc[-2:0]': 'ភាគីក', 'kcc[-3]': 'យ', 'kcc[-3]t': 'C', 'kcc[-3:0]': 'យភាគីក', 'kcc[-3:-1]': 'យភាគី', 'kcc[-3:-2]': 'យភា', 'kcc[+1]': 'ណ្តា', 'kcc[+1]t': 'K4', 'kcc[+1:0]': 'កណ្តា', 'ns+1': False, 'kcc[+2]': 'ល', 'kcc[+2]t': 'C', 'kcc[+1:+2]': 'ណ្តាល', 'kcc[0:+2]': 'កណ្តាល', 'ns+2': False, 'kcc[+3]': 'និ', 'kcc[+3]t': 'K2', 'kcc[+2:+3]': 'លនិ', 'kcc[+1:+3]': 'ណ្តាលនិ', 'kcc[0:+3]': 'កណ្តាលនិ'}, {'kcc': 'ណ្តា', 't': 'K4', 'ns': False, 'kcc[-1]': 'ក', 'kcc[-1]t': 'C', 'kcc[-1:0]': 'កណ្តា', 'ns-1': False, 'kcc[-2]': 'គី', 'kcc[-2]t': 'K2', 'kcc[-2:-1]': 'គីក', 'kcc[-2:0]': 'គីកណ្តា', 'kcc[-3]': 'ភា', 'kcc[-3]t': 'K2', 'kcc[-3:0]': 'ភាគីកណ្តា', 'kcc[-3:-1]': 'ភាគីក', 'kcc[-3:-2]': 'ភាគី', 'kcc[+1]': 'ល', 'kcc[+1]t': 'C', 'kcc[+1:0]': 'ណ្តាល', 'ns+1': False, 'kcc[+2]': 'និ', 'kcc[+2]t': 'K2', 'kcc[+1:+2]': 'លនិ', 'kcc[0:+2]': 'ណ្តាលនិ', 'ns+2': False, 'kcc[+3]': 'ង', 'kcc[+3]t': 'C', 'kcc[+2:+3]': 'និង', 'kcc[+1:+3]': 'លនិង', 'kcc[0:+3]': 'ណ្តាលនិង'}, {'kcc': 'ល', 't': 'C', 'ns': False, 'kcc[-1]': 'ណ្តា', 'kcc[-1]t': 'K4', 'kcc[-1:0]': 'ណ្តាល', 'ns-1': False, 'kcc[-2]': 'ក', 'kcc[-2]t': 'C', 'kcc[-2:-1]': 'កណ្តា', 'kcc[-2:0]': 'កណ្តាល', 'kcc[-3]': 'គី', 'kcc[-3]t': 'K2', 'kcc[-3:0]': 'គីកណ្តាល', 'kcc[-3:-1]': 'គីកណ្តា', 'kcc[-3:-2]': 'គីក', 'kcc[+1]': 'និ', 'kcc[+1]t': 'K2', 'kcc[+1:0]': 'លនិ', 'ns+1': False, 'kcc[+2]': 'ង', 'kcc[+2]t': 'C', 'kcc[+1:+2]': 'និង', 'kcc[0:+2]': 'លនិង', 'ns+2': False, 'kcc[+3]': 'រ', 'kcc[+3]t': 'C', 'kcc[+2:+3]': 'ងរ', 'kcc[+1:+3]': 'និងរ', 'kcc[0:+3]': 'លនិងរ'}, {'kcc': 'និ', 't': 'K2', 'ns': False, 'kcc[-1]': 'ល', 'kcc[-1]t': 'C', 'kcc[-1:0]': 'លនិ', 'ns-1': False, 'kcc[-2]': 'ណ្តា', 'kcc[-2]t': 'K4', 'kcc[-2:-1]': 'ណ្តាល', 'kcc[-2:0]': 'ណ្តាលនិ', 'kcc[-3]': 'ក', 'kcc[-3]t': 'C', 'kcc[-3:0]': 'កណ្តាលនិ', 'kcc[-3:-1]': 'កណ្តាល', 'kcc[-3:-2]': 'កណ្តា', 'kcc[+1]': 'ង', 'kcc[+1]t': 'C', 'kcc[+1:0]': 'និង', 'ns+1': False, 'kcc[+2]': 'រ', 'kcc[+2]t': 'C', 'kcc[+1:+2]': 'ងរ', 'kcc[0:+2]': 'និងរ', 'ns+2': False, 'kcc[+3]': 'ដ្ឋា', 'kcc[+3]t': 'K4', 'kcc[+2:+3]': 'រដ្ឋា', 'kcc[+1:+3]': 'ងរដ្ឋា', 'kcc[0:+3]': 'និងរដ្ឋា'}, {'kcc': 'ង', 't': 'C', 'ns': False, 'kcc[-1]': 'និ', 'kcc[-1]t': 'K2', 'kcc[-1:0]': 'និង', 'ns-1': False, 'kcc[-2]': 'ល', 'kcc[-2]t': 'C', 'kcc[-2:-1]': 'លនិ', 'kcc[-2:0]': 'លនិង', 'kcc[-3]': 'ណ្តា', 'kcc[-3]t': 'K4', 'kcc[-3:0]': 'ណ្តាលនិង', 'kcc[-3:-1]': 'ណ្តាលនិ', 'kcc[-3:-2]': 'ណ្តាល', 'kcc[+1]': 'រ', 'kcc[+1]t': 'C', 'kcc[+1:0]': 'ងរ', 'ns+1': False, 'kcc[+2]': 'ដ្ឋា', 'kcc[+2]t': 'K4', 'kcc[+1:+2]': 'រដ្ឋា', 'kcc[0:+2]': 'ងរដ្ឋា', 'ns+2': False, 'kcc[+3]': 'ភិ', 'kcc[+3]t': 'K2', 'kcc[+2:+3]': 'ដ្ឋាភិ', 'kcc[+1:+3]': 'រដ្ឋាភិ', 'kcc[0:+3]': 'ងរដ្ឋាភិ'}, {'kcc': 'រ', 't': 'C', 'ns': False, 'kcc[-1]': 'ង', 'kcc[-1]t': 'C', 'kcc[-1:0]': 'ងរ', 'ns-1': False, 'kcc[-2]': 'និ', 'kcc[-2]t': 'K2', 'kcc[-2:-1]': 'និង', 'kcc[-2:0]': 'និងរ', 'kcc[-3]': 'ល', 'kcc[-3]t': 'C', 'kcc[-3:0]': 'លនិងរ', 'kcc[-3:-1]': 'លនិង', 'kcc[-3:-2]': 'លនិ', 'kcc[+1]': 'ដ្ឋា', 'kcc[+1]t': 'K4', 'kcc[+1:0]': 'រដ្ឋា', 'ns+1': False, 'kcc[+2]': 'ភិ', 'kcc[+2]t': 'K2', 'kcc[+1:+2]': 'ដ្ឋាភិ', 'kcc[0:+2]': 'រដ្ឋាភិ', 'ns+2': False, 'kcc[+3]': 'បា', 'kcc[+3]t': 'K2', 'kcc[+2:+3]': 'ភិបា', 'kcc[+1:+3]': 'ដ្ឋាភិបា', 'kcc[0:+3]': 'រដ្ឋាភិបា'}, {'kcc': 'ដ្ឋា', 't': 'K4', 'ns': False, 'kcc[-1]': 'រ', 'kcc[-1]t': 'C', 'kcc[-1:0]': 'រដ្ឋា', 'ns-1': False, 'kcc[-2]': 'ង', 'kcc[-2]t': 'C', 'kcc[-2:-1]': 'ងរ', 'kcc[-2:0]': 'ងរដ្ឋា', 'kcc[-3]': 'និ', 'kcc[-3]t': 'K2', 'kcc[-3:0]': 'និងរដ្ឋា', 'kcc[-3:-1]': 'និងរ', 'kcc[-3:-2]': 'និង', 'kcc[+1]': 'ភិ', 'kcc[+1]t': 'K2', 'kcc[+1:0]': 'ដ្ឋាភិ', 'ns+1': False, 'kcc[+2]': 'បា', 'kcc[+2]t': 'K2', 'kcc[+1:+2]': 'ភិបា', 'kcc[0:+2]': 'ដ្ឋាភិបា', 'ns+2': False, 'kcc[+3]': 'ល', 'kcc[+3]t': 'C', 'kcc[+2:+3]': 'បាល', 'kcc[+1:+3]': 'ភិបាល', 'kcc[0:+3]': 'ដ្ឋាភិបាល'}, {'kcc': 'ភិ', 't': 'K2', 'ns': False, 'kcc[-1]': 'ដ្ឋា', 'kcc[-1]t': 'K4', 'kcc[-1:0]': 'ដ្ឋាភិ', 'ns-1': False, 'kcc[-2]': 'រ', 'kcc[-2]t': 'C', 'kcc[-2:-1]': 'រដ្ឋា', 'kcc[-2:0]': 'រដ្ឋាភិ', 'kcc[-3]': 'ង', 'kcc[-3]t': 'C', 'kcc[-3:0]': 'ងរដ្ឋាភិ', 'kcc[-3:-1]': 'ងរដ្ឋា', 'kcc[-3:-2]': 'ងរ', 'kcc[+1]': 'បា', 'kcc[+1]t': 'K2', 'kcc[+1:0]': 'ភិបា', 'ns+1': False, 'kcc[+2]': 'ល', 'kcc[+2]t': 'C', 'kcc[+1:+2]': 'បាល', 'kcc[0:+2]': 'ភិបាល', 'ns+2': False, 'kcc[+3]': 'គឺ', 'kcc[+3]t': 'K2', 'kcc[+2:+3]': 'លគឺ', 'kcc[+1:+3]': 'បាលគឺ', 'kcc[0:+3]': 'ភិបាលគឺ'}, {'kcc': 'បា', 't': 'K2', 'ns': False, 'kcc[-1]': 'ភិ', 'kcc[-1]t': 'K2', 'kcc[-1:0]': 'ភិបា', 'ns-1': False, 'kcc[-2]': 'ដ្ឋា', 'kcc[-2]t': 'K4', 'kcc[-2:-1]': 'ដ្ឋាភិ', 'kcc[-2:0]': 'ដ្ឋាភិបា', 'kcc[-3]': 'រ', 'kcc[-3]t': 'C', 'kcc[-3:0]': 'រដ្ឋាភិបា', 'kcc[-3:-1]': 'រដ្ឋាភិ', 'kcc[-3:-2]': 'រដ្ឋា', 'kcc[+1]': 'ល', 'kcc[+1]t': 'C', 'kcc[+1:0]': 'បាល', 'ns+1': False, 'kcc[+2]': 'គឺ', 'kcc[+2]t': 'K2', 'kcc[+1:+2]': 'លគឺ', 'kcc[0:+2]': 'បាលគឺ', 'ns+2': False, 'kcc[+3]': 'ជា', 'kcc[+3]t': 'K2', 'kcc[+2:+3]': 'គឺជា', 'kcc[+1:+3]': 'លគឺជា', 'kcc[0:+3]': 'បាលគឺជា'}, {'kcc': 'ល', 't': 'C', 'ns': False, 'kcc[-1]': 'បា', 'kcc[-1]t': 'K2', 'kcc[-1:0]': 'បាល', 'ns-1': False, 'kcc[-2]': 'ភិ', 'kcc[-2]t': 'K2', 'kcc[-2:-1]': 'ភិបា', 'kcc[-2:0]': 'ភិបាល', 'kcc[-3]': 'ដ្ឋា', 'kcc[-3]t': 'K4', 'kcc[-3:0]': 'ដ្ឋាភិបាល', 'kcc[-3:-1]': 'ដ្ឋាភិបា', 'kcc[-3:-2]': 'ដ្ឋាភិ', 'kcc[+1]': 'គឺ', 'kcc[+1]t': 'K2', 'kcc[+1:0]': 'លគឺ', 'ns+1': False, 'kcc[+2]': 'ជា', 'kcc[+2]t': 'K2', 'kcc[+1:+2]': 'គឺជា', 'kcc[0:+2]': 'លគឺជា', 'ns+2': False, 'kcc[+3]': 'ដំ', 'kcc[+3]t': 'K2', 'kcc[+2:+3]': 'ជាដំ', 'kcc[+1:+3]': 'គឺជាដំ', 'kcc[0:+3]': 'លគឺជាដំ'}, {'kcc': 'គឺ', 't': 'K2', 'ns': False, 'kcc[-1]': 'ល', 'kcc[-1]t': 'C', 'kcc[-1:0]': 'លគឺ', 'ns-1': False, 'kcc[-2]': 'បា', 'kcc[-2]t': 'K2', 'kcc[-2:-1]': 'បាល', 'kcc[-2:0]': 'បាលគឺ', 'kcc[-3]': 'ភិ', 'kcc[-3]t': 'K2', 'kcc[-3:0]': 'ភិបាលគឺ', 'kcc[-3:-1]': 'ភិបាល', 'kcc[-3:-2]': 'ភិបា', 'kcc[+1]': 'ជា', 'kcc[+1]t': 'K2', 'kcc[+1:0]': 'គឺជា', 'ns+1': False, 'kcc[+2]': 'ដំ', 'kcc[+2]t': 'K2', 'kcc[+1:+2]': 'ជាដំ', 'kcc[0:+2]': 'គឺជាដំ', 'ns+2': False, 'kcc[+3]': 'ណោះ', 'kcc[+3]t': 'K3', 'kcc[+2:+3]': 'ដំណោះ', 'kcc[+1:+3]': 'ជាដំណោះ', 'kcc[0:+3]': 'គឺជាដំណោះ'}, {'kcc': 'ជា', 't': 'K2', 'ns': False, 'kcc[-1]': 'គឺ', 'kcc[-1]t': 'K2', 'kcc[-1:0]': 'គឺជា', 'ns-1': False, 'kcc[-2]': 'ល', 'kcc[-2]t': 'C', 'kcc[-2:-1]': 'លគឺ', 'kcc[-2:0]': 'លគឺជា', 'kcc[-3]': 'បា', 'kcc[-3]t': 'K2', 'kcc[-3:0]': 'បាលគឺជា', 'kcc[-3:-1]': 'បាលគឺ', 'kcc[-3:-2]': 'បាល', 'kcc[+1]': 'ដំ', 'kcc[+1]t': 'K2', 'kcc[+1:0]': 'ជាដំ', 'ns+1': False, 'kcc[+2]': 'ណោះ', 'kcc[+2]t': 'K3', 'kcc[+1:+2]': 'ដំណោះ', 'kcc[0:+2]': 'ជាដំណោះ', 'ns+2': False, 'kcc[+3]': 'ស្រា', 'kcc[+3]t': 'K4', 'kcc[+2:+3]': 'ណោះស្រា', 'kcc[+1:+3]': 'ដំណោះស្រា', 'kcc[0:+3]': 'ជាដំណោះស្រា'}, {'kcc': 'ដំ', 't': 'K2', 'ns': False, 'kcc[-1]': 'ជា', 'kcc[-1]t': 'K2', 'kcc[-1:0]': 'ជាដំ', 'ns-1': False, 'kcc[-2]': 'គឺ', 'kcc[-2]t': 'K2', 'kcc[-2:-1]': 'គឺជា', 'kcc[-2:0]': 'គឺជាដំ', 'kcc[-3]': 'ល', 'kcc[-3]t': 'C', 'kcc[-3:0]': 'លគឺជាដំ', 'kcc[-3:-1]': 'លគឺជា', 'kcc[-3:-2]': 'លគឺ', 'kcc[+1]': 'ណោះ', 'kcc[+1]t': 'K3', 'kcc[+1:0]': 'ដំណោះ', 'ns+1': False, 'kcc[+2]': 'ស្រា', 'kcc[+2]t': 'K4', 'kcc[+1:+2]': 'ណោះស្រា', 'kcc[0:+2]': 'ដំណោះស្រា', 'ns+2': False, 'kcc[+3]': 'យ', 'kcc[+3]t': 'C', 'kcc[+2:+3]': 'ស្រាយ', 'kcc[+1:+3]': 'ណោះស្រាយ', 'kcc[0:+3]': 'ដំណោះស្រាយ'}, {'kcc': 'ណោះ', 't': 'K3', 'ns': False, 'kcc[-1]': 'ដំ', 'kcc[-1]t': 'K2', 'kcc[-1:0]': 'ដំណោះ', 'ns-1': False, 'kcc[-2]': 'ជា', 'kcc[-2]t': 'K2', 'kcc[-2:-1]': 'ជាដំ', 'kcc[-2:0]': 'ជាដំណោះ', 'kcc[-3]': 'គឺ', 'kcc[-3]t': 'K2', 'kcc[-3:0]': 'គឺជាដំណោះ', 'kcc[-3:-1]': 'គឺជាដំ', 'kcc[-3:-2]': 'គឺជា', 'kcc[+1]': 'ស្រា', 'kcc[+1]t': 'K4', 'kcc[+1:0]': 'ណោះស្រា', 'ns+1': False, 'kcc[+2]': 'យ', 'kcc[+2]t': 'C', 'kcc[+1:+2]': 'ស្រាយ', 'kcc[0:+2]': 'ណោះស្រាយ', 'ns+2': False, 'kcc[+3]': 'ប', 'kcc[+3]t': 'C', 'kcc[+2:+3]': 'យប', 'kcc[+1:+3]': 'ស្រាយប', 'kcc[0:+3]': 'ណោះស្រាយប'}, {'kcc': 'ស្រា', 't': 'K4', 'ns': False, 'kcc[-1]': 'ណោះ', 'kcc[-1]t': 'K3', 'kcc[-1:0]': 'ណោះស្រា', 'ns-1': False, 'kcc[-2]': 'ដំ', 'kcc[-2]t': 'K2', 'kcc[-2:-1]': 'ដំណោះ', 'kcc[-2:0]': 'ដំណោះស្រា', 'kcc[-3]': 'ជា', 'kcc[-3]t': 'K2', 'kcc[-3:0]': 'ជាដំណោះស្រា', 'kcc[-3:-1]': 'ជាដំណោះ', 'kcc[-3:-2]': 'ជាដំ', 'kcc[+1]': 'យ', 'kcc[+1]t': 'C', 'kcc[+1:0]': 'ស្រាយ', 'ns+1': False, 'kcc[+2]': 'ប', 'kcc[+2]t': 'C', 'kcc[+1:+2]': 'យប', 'kcc[0:+2]': 'ស្រាយប', 'ns+2': False, 'kcc[+3]': 'ណ្តោះ', 'kcc[+3]t': 'K5', 'kcc[+2:+3]': 'បណ្តោះ', 'kcc[+1:+3]': 'យបណ្តោះ', 'kcc[0:+3]': 'ស្រាយបណ្តោះ'}, {'kcc': 'យ', 't': 'C', 'ns': False, 'kcc[-1]': 'ស្រា', 'kcc[-1]t': 'K4', 'kcc[-1:0]': 'ស្រាយ', 'ns-1': False, 'kcc[-2]': 'ណោះ', 'kcc[-2]t': 'K3', 'kcc[-2:-1]': 'ណោះស្រា', 'kcc[-2:0]': 'ណោះស្រាយ', 'kcc[-3]': 'ដំ', 'kcc[-3]t': 'K2', 'kcc[-3:0]': 'ដំណោះស្រាយ', 'kcc[-3:-1]': 'ដំណោះស្រា', 'kcc[-3:-2]': 'ដំណោះ', 'kcc[+1]': 'ប', 'kcc[+1]t': 'C', 'kcc[+1:0]': 'យប', 'ns+1': False, 'kcc[+2]': 'ណ្តោះ', 'kcc[+2]t': 'K5', 'kcc[+1:+2]': 'បណ្តោះ', 'kcc[0:+2]': 'យបណ្តោះ', 'ns+2': False, 'kcc[+3]': 'អា', 'kcc[+3]t': 'K2', 'kcc[+2:+3]': 'ណ្តោះអា', 'kcc[+1:+3]': 'បណ្តោះអា', 'kcc[0:+3]': 'យបណ្តោះអា'}, {'kcc': 'ប', 't': 'C', 'ns': False, 'kcc[-1]': 'យ', 'kcc[-1]t': 'C', 'kcc[-1:0]': 'យប', 'ns-1': False, 'kcc[-2]': 'ស្រា', 'kcc[-2]t': 'K4', 'kcc[-2:-1]': 'ស្រាយ', 'kcc[-2:0]': 'ស្រាយប', 'kcc[-3]': 'ណោះ', 'kcc[-3]t': 'K3', 'kcc[-3:0]': 'ណោះស្រាយប', 'kcc[-3:-1]': 'ណោះស្រាយ', 'kcc[-3:-2]': 'ណោះស្រា', 'kcc[+1]': 'ណ្តោះ', 'kcc[+1]t': 'K5', 'kcc[+1:0]': 'បណ្តោះ', 'ns+1': False, 'kcc[+2]': 'អា', 'kcc[+2]t': 'K2', 'kcc[+1:+2]': 'ណ្តោះអា', 'kcc[0:+2]': 'បណ្តោះអា', 'ns+2': False, 'kcc[+3]': 'ស', 'kcc[+3]t': 'C', 'kcc[+2:+3]': 'អាស', 'kcc[+1:+3]': 'ណ្តោះអាស', 'kcc[0:+3]': 'បណ្តោះអាស'}, {'kcc': 'ណ្តោះ', 't': 'K5', 'ns': False, 'kcc[-1]': 'ប', 'kcc[-1]t': 'C', 'kcc[-1:0]': 'បណ្តោះ', 'ns-1': False, 'kcc[-2]': 'យ', 'kcc[-2]t': 'C', 'kcc[-2:-1]': 'យប', 'kcc[-2:0]': 'យបណ្តោះ', 'kcc[-3]': 'ស្រា', 'kcc[-3]t': 'K4', 'kcc[-3:0]': 'ស្រាយបណ្តោះ', 'kcc[-3:-1]': 'ស្រាយប', 'kcc[-3:-2]': 'ស្រាយ', 'kcc[+1]': 'អា', 'kcc[+1]t': 'K2', 'kcc[+1:0]': 'ណ្តោះអា', 'ns+1': False, 'kcc[+2]': 'ស', 'kcc[+2]t': 'C', 'kcc[+1:+2]': 'អាស', 'kcc[0:+2]': 'ណ្តោះអាស', 'ns+2': False, 'kcc[+3]': 'ន្ន', 'kcc[+3]t': 'K3', 'kcc[+2:+3]': 'សន្ន', 'kcc[+1:+3]': 'អាសន្ន', 'kcc[0:+3]': 'ណ្តោះអាសន្ន'}, {'kcc': 'អា', 't': 'K2', 'ns': False, 'kcc[-1]': 'ណ្តោះ', 'kcc[-1]t': 'K5', 'kcc[-1:0]': 'ណ្តោះអា', 'ns-1': False, 'kcc[-2]': 'ប', 'kcc[-2]t': 'C', 'kcc[-2:-1]': 'បណ្តោះ', 'kcc[-2:0]': 'បណ្តោះអា', 'kcc[-3]': 'យ', 'kcc[-3]t': 'C', 'kcc[-3:0]': 'យបណ្តោះអា', 'kcc[-3:-1]': 'យបណ្តោះ', 'kcc[-3:-2]': 'យប', 'kcc[+1]': 'ស', 'kcc[+1]t': 'C', 'kcc[+1:0]': 'អាស', 'ns+1': False, 'kcc[+2]': 'ន្ន', 'kcc[+2]t': 'K3', 'kcc[+1:+2]': 'សន្ន', 'kcc[0:+2]': 'អាសន្ន', 'ns+2': False, 'kcc[+3]': 'មួ', 'kcc[+3]t': 'K2', 'kcc[+2:+3]': 'ន្នមួ', 'kcc[+1:+3]': 'សន្នមួ', 'kcc[0:+3]': 'អាសន្នមួ'}, {'kcc': 'ស', 't': 'C', 'ns': False, 'kcc[-1]': 'អា', 'kcc[-1]t': 'K2', 'kcc[-1:0]': 'អាស', 'ns-1': False, 'kcc[-2]': 'ណ្តោះ', 'kcc[-2]t': 'K5', 'kcc[-2:-1]': 'ណ្តោះអា', 'kcc[-2:0]': 'ណ្តោះអាស', 'kcc[-3]': 'ប', 'kcc[-3]t': 'C', 'kcc[-3:0]': 'បណ្តោះអាស', 'kcc[-3:-1]': 'បណ្តោះអា', 'kcc[-3:-2]': 'បណ្តោះ', 'kcc[+1]': 'ន្ន', 'kcc[+1]t': 'K3', 'kcc[+1:0]': 'សន្ន', 'ns+1': False, 'kcc[+2]': 'មួ', 'kcc[+2]t': 'K2', 'kcc[+1:+2]': 'ន្នមួ', 'kcc[0:+2]': 'សន្នមួ', 'ns+2': False, 'kcc[+3]': 'យ', 'kcc[+3]t': 'C', 'kcc[+2:+3]': 'មួយ', 'kcc[+1:+3]': 'ន្នមួយ', 'kcc[0:+3]': 'សន្នមួយ'}, {'kcc': 'ន្ន', 't': 'K3', 'ns': False, 'kcc[-1]': 'ស', 'kcc[-1]t': 'C', 'kcc[-1:0]': 'សន្ន', 'ns-1': False, 'kcc[-2]': 'អា', 'kcc[-2]t': 'K2', 'kcc[-2:-1]': 'អាស', 'kcc[-2:0]': 'អាសន្ន', 'kcc[-3]': 'ណ្តោះ', 'kcc[-3]t': 'K5', 'kcc[-3:0]': 'ណ្តោះអាសន្ន', 'kcc[-3:-1]': 'ណ្តោះអាស', 'kcc[-3:-2]': 'ណ្តោះអា', 'kcc[+1]': 'មួ', 'kcc[+1]t': 'K2', 'kcc[+1:0]': 'ន្នមួ', 'ns+1': False, 'kcc[+2]': 'យ', 'kcc[+2]t': 'C', 'kcc[+1:+2]': 'មួយ', 'kcc[0:+2]': 'ន្នមួយ', 'ns+2': False, 'kcc[+3]': 'ដំ', 'kcc[+3]t': 'K2', 'kcc[+2:+3]': 'យដំ', 'kcc[+1:+3]': 'មួយដំ', 'kcc[0:+3]': 'ន្នមួយដំ'}, {'kcc': 'មួ', 't': 'K2', 'ns': False, 'kcc[-1]': 'ន្ន', 'kcc[-1]t': 'K3', 'kcc[-1:0]': 'ន្នមួ', 'ns-1': False, 'kcc[-2]': 'ស', 'kcc[-2]t': 'C', 'kcc[-2:-1]': 'សន្ន', 'kcc[-2:0]': 'សន្នមួ', 'kcc[-3]': 'អា', 'kcc[-3]t': 'K2', 'kcc[-3:0]': 'អាសន្នមួ', 'kcc[-3:-1]': 'អាសន្ន', 'kcc[-3:-2]': 'អាស', 'kcc[+1]': 'យ', 'kcc[+1]t': 'C', 'kcc[+1:0]': 'មួយ', 'ns+1': False, 'kcc[+2]': 'ដំ', 'kcc[+2]t': 'K2', 'kcc[+1:+2]': 'យដំ', 'kcc[0:+2]': 'មួយដំ', 'ns+2': False, 'kcc[+3]': 'ណោះ', 'kcc[+3]t': 'K3', 'kcc[+2:+3]': 'ដំណោះ', 'kcc[+1:+3]': 'យដំណោះ', 'kcc[0:+3]': 'មួយដំណោះ'}, {'kcc': 'យ', 't': 'C', 'ns': False, 'kcc[-1]': 'មួ', 'kcc[-1]t': 'K2', 'kcc[-1:0]': 'មួយ', 'ns-1': False, 'kcc[-2]': 'ន្ន', 'kcc[-2]t': 'K3', 'kcc[-2:-1]': 'ន្នមួ', 'kcc[-2:0]': 'ន្នមួយ', 'kcc[-3]': 'ស', 'kcc[-3]t': 'C', 'kcc[-3:0]': 'សន្នមួយ', 'kcc[-3:-1]': 'សន្នមួ', 'kcc[-3:-2]': 'សន្ន', 'kcc[+1]': 'ដំ', 'kcc[+1]t': 'K2', 'kcc[+1:0]': 'យដំ', 'ns+1': False, 'kcc[+2]': 'ណោះ', 'kcc[+2]t': 'K3', 'kcc[+1:+2]': 'ដំណោះ', 'kcc[0:+2]': 'យដំណោះ', 'ns+2': False, 'kcc[+3]': 'ស្រា', 'kcc[+3]t': 'K4', 'kcc[+2:+3]': 'ណោះស្រា', 'kcc[+1:+3]': 'ដំណោះស្រា', 'kcc[0:+3]': 'យដំណោះស្រា'}, {'kcc': 'ដំ', 't': 'K2', 'ns': False, 'kcc[-1]': 'យ', 'kcc[-1]t': 'C', 'kcc[-1:0]': 'យដំ', 'ns-1': False, 'kcc[-2]': 'មួ', 'kcc[-2]t': 'K2', 'kcc[-2:-1]': 'មួយ', 'kcc[-2:0]': 'មួយដំ', 'kcc[-3]': 'ន្ន', 'kcc[-3]t': 'K3', 'kcc[-3:0]': 'ន្នមួយដំ', 'kcc[-3:-1]': 'ន្នមួយ', 'kcc[-3:-2]': 'ន្នមួ', 'kcc[+1]': 'ណោះ', 'kcc[+1]t': 'K3', 'kcc[+1:0]': 'ដំណោះ', 'ns+1': False, 'kcc[+2]': 'ស្រា', 'kcc[+2]t': 'K4', 'kcc[+1:+2]': 'ណោះស្រា', 'kcc[0:+2]': 'ដំណោះស្រា', 'ns+2': False, 'kcc[+3]': 'យ', 'kcc[+3]t': 'C', 'kcc[+2:+3]': 'ស្រាយ', 'kcc[+1:+3]': 'ណោះស្រាយ', 'kcc[0:+3]': 'ដំណោះស្រាយ'}, {'kcc': 'ណោះ', 't': 'K3', 'ns': False, 'kcc[-1]': 'ដំ', 'kcc[-1]t': 'K2', 'kcc[-1:0]': 'ដំណោះ', 'ns-1': False, 'kcc[-2]': 'យ', 'kcc[-2]t': 'C', 'kcc[-2:-1]': 'យដំ', 'kcc[-2:0]': 'យដំណោះ', 'kcc[-3]': 'មួ', 'kcc[-3]t': 'K2', 'kcc[-3:0]': 'មួយដំណោះ', 'kcc[-3:-1]': 'មួយដំ', 'kcc[-3:-2]': 'មួយ', 'kcc[+1]': 'ស្រា', 'kcc[+1]t': 'K4', 'kcc[+1:0]': 'ណោះស្រា', 'ns+1': False, 'kcc[+2]': 'យ', 'kcc[+2]t': 'C', 'kcc[+1:+2]': 'ស្រាយ', 'kcc[0:+2]': 'ណោះស្រាយ', 'ns+2': False, 'kcc[+3]': 'យូ', 'kcc[+3]t': 'K2', 'kcc[+2:+3]': 'យយូ', 'kcc[+1:+3]': 'ស្រាយយូ', 'kcc[0:+3]': 'ណោះស្រាយយូ'}, {'kcc': 'ស្រា', 't': 'K4', 'ns': False, 'kcc[-1]': 'ណោះ', 'kcc[-1]t': 'K3', 'kcc[-1:0]': 'ណោះស្រា', 'ns-1': False, 'kcc[-2]': 'ដំ', 'kcc[-2]t': 'K2', 'kcc[-2:-1]': 'ដំណោះ', 'kcc[-2:0]': 'ដំណោះស្រា', 'kcc[-3]': 'យ', 'kcc[-3]t': 'C', 'kcc[-3:0]': 'យដំណោះស្រា', 'kcc[-3:-1]': 'យដំណោះ', 'kcc[-3:-2]': 'យដំ', 'kcc[+1]': 'យ', 'kcc[+1]t': 'C', 'kcc[+1:0]': 'ស្រាយ', 'ns+1': False, 'kcc[+2]': 'យូ', 'kcc[+2]t': 'K2', 'kcc[+1:+2]': 'យយូ', 'kcc[0:+2]': 'ស្រាយយូ', 'ns+2': False, 'kcc[+3]': 'រ', 'kcc[+3]t': 'C', 'kcc[+2:+3]': 'យូរ', 'kcc[+1:+3]': 'យយូរ', 'kcc[0:+3]': 'ស្រាយយូរ'}, {'kcc': 'យ', 't': 'C', 'ns': False, 'kcc[-1]': 'ស្រា', 'kcc[-1]t': 'K4', 'kcc[-1:0]': 'ស្រាយ', 'ns-1': False, 'kcc[-2]': 'ណោះ', 'kcc[-2]t': 'K3', 'kcc[-2:-1]': 'ណោះស្រា', 'kcc[-2:0]': 'ណោះស្រាយ', 'kcc[-3]': 'ដំ', 'kcc[-3]t': 'K2', 'kcc[-3:0]': 'ដំណោះស្រាយ', 'kcc[-3:-1]': 'ដំណោះស្រា', 'kcc[-3:-2]': 'ដំណោះ', 'kcc[+1]': 'យូ', 'kcc[+1]t': 'K2', 'kcc[+1:0]': 'យយូ', 'ns+1': False, 'kcc[+2]': 'រ', 'kcc[+2]t': 'C', 'kcc[+1:+2]': 'យូរ', 'kcc[0:+2]': 'យយូរ', 'ns+2': False, 'kcc[+3]': 'អ', 'kcc[+3]t': 'C', 'kcc[+2:+3]': 'រអ', 'kcc[+1:+3]': 'យូរអ', 'kcc[0:+3]': 'យយូរអ'}, {'kcc': 'យូ', 't': 'K2', 'ns': False, 'kcc[-1]': 'យ', 'kcc[-1]t': 'C', 'kcc[-1:0]': 'យយូ', 'ns-1': False, 'kcc[-2]': 'ស្រា', 'kcc[-2]t': 'K4', 'kcc[-2:-1]': 'ស្រាយ', 'kcc[-2:0]': 'ស្រាយយូ', 'kcc[-3]': 'ណោះ', 'kcc[-3]t': 'K3', 'kcc[-3:0]': 'ណោះស្រាយយូ', 'kcc[-3:-1]': 'ណោះស្រាយ', 'kcc[-3:-2]': 'ណោះស្រា', 'kcc[+1]': 'រ', 'kcc[+1]t': 'C', 'kcc[+1:0]': 'យូរ', 'ns+1': False, 'kcc[+2]': 'អ', 'kcc[+2]t': 'C', 'kcc[+1:+2]': 'រអ', 'kcc[0:+2]': 'យូរអ', 'ns+2': False, 'kcc[+3]': 'ង្វែ', 'kcc[+3]t': 'K4', 'kcc[+2:+3]': 'អង្វែ', 'kcc[+1:+3]': 'រអង្វែ', 'kcc[0:+3]': 'យូរអង្វែ'}, {'kcc': 'រ', 't': 'C', 'ns': False, 'kcc[-1]': 'យូ', 'kcc[-1]t': 'K2', 'kcc[-1:0]': 'យូរ', 'ns-1': False, 'kcc[-2]': 'យ', 'kcc[-2]t': 'C', 'kcc[-2:-1]': 'យយូ', 'kcc[-2:0]': 'យយូរ', 'kcc[-3]': 'ស្រា', 'kcc[-3]t': 'K4', 'kcc[-3:0]': 'ស្រាយយូរ', 'kcc[-3:-1]': 'ស្រាយយូ', 'kcc[-3:-2]': 'ស្រាយ', 'kcc[+1]': 'អ', 'kcc[+1]t': 'C', 'kcc[+1:0]': 'រអ', 'ns+1': False, 'kcc[+2]': 'ង្វែ', 'kcc[+2]t': 'K4', 'kcc[+1:+2]': 'អង្វែ', 'kcc[0:+2]': 'រអង្វែ', 'ns+2': False, 'kcc[+3]': 'ង', 'kcc[+3]t': 'C', 'kcc[+2:+3]': 'ង្វែង', 'kcc[+1:+3]': 'អង្វែង', 'kcc[0:+3]': 'រអង្វែង'}, {'kcc': 'អ', 't': 'C', 'ns': False, 'kcc[-1]': 'រ', 'kcc[-1]t': 'C', 'kcc[-1:0]': 'រអ', 'ns-1': False, 'kcc[-2]': 'យូ', 'kcc[-2]t': 'K2', 'kcc[-2:-1]': 'យូរ', 'kcc[-2:0]': 'យូរអ', 'kcc[-3]': 'យ', 'kcc[-3]t': 'C', 'kcc[-3:0]': 'យយូរអ', 'kcc[-3:-1]': 'យយូរ', 'kcc[-3:-2]': 'យយូ', 'kcc[+1]': 'ង្វែ', 'kcc[+1]t': 'K4', 'kcc[+1:0]': 'អង្វែ', 'ns+1': False, 'kcc[+2]': 'ង', 'kcc[+2]t': 'C', 'kcc[+1:+2]': 'ង្វែង', 'kcc[0:+2]': 'អង្វែង', 'ns+2': False, 'kcc[+3]': 'គឺ', 'kcc[+3]t': 'K2', 'kcc[+2:+3]': 'ងគឺ', 'kcc[+1:+3]': 'ង្វែងគឺ', 'kcc[0:+3]': 'អង្វែងគឺ'}, {'kcc': 'ង្វែ', 't': 'K4', 'ns': False, 'kcc[-1]': 'អ', 'kcc[-1]t': 'C', 'kcc[-1:0]': 'អង្វែ', 'ns-1': False, 'kcc[-2]': 'រ', 'kcc[-2]t': 'C', 'kcc[-2:-1]': 'រអ', 'kcc[-2:0]': 'រអង្វែ', 'kcc[-3]': 'យូ', 'kcc[-3]t': 'K2', 'kcc[-3:0]': 'យូរអង្វែ', 'kcc[-3:-1]': 'យូរអ', 'kcc[-3:-2]': 'យូរ', 'kcc[+1]': 'ង', 'kcc[+1]t': 'C', 'kcc[+1:0]': 'ង្វែង', 'ns+1': False, 'kcc[+2]': 'គឺ', 'kcc[+2]t': 'K2', 'kcc[+1:+2]': 'ងគឺ', 'kcc[0:+2]': 'ង្វែងគឺ', 'ns+2': False, 'kcc[+3]': 'កា', 'kcc[+3]t': 'K2', 'kcc[+2:+3]': 'គឺកា', 'kcc[+1:+3]': 'ងគឺកា', 'kcc[0:+3]': 'ង្វែងគឺកា'}, {'kcc': 'ង', 't': 'C', 'ns': False, 'kcc[-1]': 'ង្វែ', 'kcc[-1]t': 'K4', 'kcc[-1:0]': 'ង្វែង', 'ns-1': False, 'kcc[-2]': 'អ', 'kcc[-2]t': 'C', 'kcc[-2:-1]': 'អង្វែ', 'kcc[-2:0]': 'អង្វែង', 'kcc[-3]': 'រ', 'kcc[-3]t': 'C', 'kcc[-3:0]': 'រអង្វែង', 'kcc[-3:-1]': 'រអង្វែ', 'kcc[-3:-2]': 'រអ', 'kcc[+1]': 'គឺ', 'kcc[+1]t': 'K2', 'kcc[+1:0]': 'ងគឺ', 'ns+1': False, 'kcc[+2]': 'កា', 'kcc[+2]t': 'K2', 'kcc[+1:+2]': 'គឺកា', 'kcc[0:+2]': 'ងគឺកា', 'ns+2': False, 'kcc[+3]': 'ត់', 'kcc[+3]t': 'K2', 'kcc[+2:+3]': 'កាត់', 'kcc[+1:+3]': 'គឺកាត់', 'kcc[0:+3]': 'ងគឺកាត់'}, {'kcc': 'គឺ', 't': 'K2', 'ns': False, 'kcc[-1]': 'ង', 'kcc[-1]t': 'C', 'kcc[-1:0]': 'ងគឺ', 'ns-1': False, 'kcc[-2]': 'ង្វែ', 'kcc[-2]t': 'K4', 'kcc[-2:-1]': 'ង្វែង', 'kcc[-2:0]': 'ង្វែងគឺ', 'kcc[-3]': 'អ', 'kcc[-3]t': 'C', 'kcc[-3:0]': 'អង្វែងគឺ', 'kcc[-3:-1]': 'អង្វែង', 'kcc[-3:-2]': 'អង្វែ', 'kcc[+1]': 'កា', 'kcc[+1]t': 'K2', 'kcc[+1:0]': 'គឺកា', 'ns+1': False, 'kcc[+2]': 'ត់', 'kcc[+2]t': 'K2', 'kcc[+1:+2]': 'កាត់', 'kcc[0:+2]': 'គឺកាត់', 'ns+2': False, 'kcc[+3]': 'ប', 'kcc[+3]t': 'C', 'kcc[+2:+3]': 'ត់ប', 'kcc[+1:+3]': 'កាត់ប', 'kcc[0:+3]': 'គឺកាត់ប'}, {'kcc': 'កា', 't': 'K2', 'ns': False, 'kcc[-1]': 'គឺ', 'kcc[-1]t': 'K2', 'kcc[-1:0]': 'គឺកា', 'ns-1': False, 'kcc[-2]': 'ង', 'kcc[-2]t': 'C', 'kcc[-2:-1]': 'ងគឺ', 'kcc[-2:0]': 'ងគឺកា', 'kcc[-3]': 'ង្វែ', 'kcc[-3]t': 'K4', 'kcc[-3:0]': 'ង្វែងគឺកា', 'kcc[-3:-1]': 'ង្វែងគឺ', 'kcc[-3:-2]': 'ង្វែង', 'kcc[+1]': 'ត់', 'kcc[+1]t': 'K2', 'kcc[+1:0]': 'កាត់', 'ns+1': False, 'kcc[+2]': 'ប', 'kcc[+2]t': 'C', 'kcc[+1:+2]': 'ត់ប', 'kcc[0:+2]': 'កាត់ប', 'ns+2': False, 'kcc[+3]': 'ន្ថ', 'kcc[+3]t': 'K3', 'kcc[+2:+3]': 'បន្ថ', 'kcc[+1:+3]': 'ត់បន្ថ', 'kcc[0:+3]': 'កាត់បន្ថ'}, {'kcc': 'ត់', 't': 'K2', 'ns': False, 'kcc[-1]': 'កា', 'kcc[-1]t': 'K2', 'kcc[-1:0]': 'កាត់', 'ns-1': False, 'kcc[-2]': 'គឺ', 'kcc[-2]t': 'K2', 'kcc[-2:-1]': 'គឺកា', 'kcc[-2:0]': 'គឺកាត់', 'kcc[-3]': 'ង', 'kcc[-3]t': 'C', 'kcc[-3:0]': 'ងគឺកាត់', 'kcc[-3:-1]': 'ងគឺកា', 'kcc[-3:-2]': 'ងគឺ', 'kcc[+1]': 'ប', 'kcc[+1]t': 'C', 'kcc[+1:0]': 'ត់ប', 'ns+1': False, 'kcc[+2]': 'ន្ថ', 'kcc[+2]t': 'K3', 'kcc[+1:+2]': 'បន្ថ', 'kcc[0:+2]': 'ត់បន្ថ', 'ns+2': False, 'kcc[+3]': 'យ', 'kcc[+3]t': 'C', 'kcc[+2:+3]': 'ន្ថយ', 'kcc[+1:+3]': 'បន្ថយ', 'kcc[0:+3]': 'ត់បន្ថយ'}, {'kcc': 'ប', 't': 'C', 'ns': False, 'kcc[-1]': 'ត់', 'kcc[-1]t': 'K2', 'kcc[-1:0]': 'ត់ប', 'ns-1': False, 'kcc[-2]': 'កា', 'kcc[-2]t': 'K2', 'kcc[-2:-1]': 'កាត់', 'kcc[-2:0]': 'កាត់ប', 'kcc[-3]': 'គឺ', 'kcc[-3]t': 'K2', 'kcc[-3:0]': 'គឺកាត់ប', 'kcc[-3:-1]': 'គឺកាត់', 'kcc[-3:-2]': 'គឺកា', 'kcc[+1]': 'ន្ថ', 'kcc[+1]t': 'K3', 'kcc[+1:0]': 'បន្ថ', 'ns+1': False, 'kcc[+2]': 'យ', 'kcc[+2]t': 'C', 'kcc[+1:+2]': 'ន្ថយ', 'kcc[0:+2]': 'បន្ថយ', 'ns+2': False, 'kcc[+3]': 'កា', 'kcc[+3]t': 'K2', 'kcc[+2:+3]': 'យកា', 'kcc[+1:+3]': 'ន្ថយកា', 'kcc[0:+3]': 'បន្ថយកា'}, {'kcc': 'ន្ថ', 't': 'K3', 'ns': False, 'kcc[-1]': 'ប', 'kcc[-1]t': 'C', 'kcc[-1:0]': 'បន្ថ', 'ns-1': False, 'kcc[-2]': 'ត់', 'kcc[-2]t': 'K2', 'kcc[-2:-1]': 'ត់ប', 'kcc[-2:0]': 'ត់បន្ថ', 'kcc[-3]': 'កា', 'kcc[-3]t': 'K2', 'kcc[-3:0]': 'កាត់បន្ថ', 'kcc[-3:-1]': 'កាត់ប', 'kcc[-3:-2]': 'កាត់', 'kcc[+1]': 'យ', 'kcc[+1]t': 'C', 'kcc[+1:0]': 'ន្ថយ', 'ns+1': False, 'kcc[+2]': 'កា', 'kcc[+2]t': 'K2', 'kcc[+1:+2]': 'យកា', 'kcc[0:+2]': 'ន្ថយកា', 'ns+2': False, 'kcc[+3]': 'រ', 'kcc[+3]t': 'C', 'kcc[+2:+3]': 'ការ', 'kcc[+1:+3]': 'យការ', 'kcc[0:+3]': 'ន្ថយការ'}, {'kcc': 'យ', 't': 'C', 'ns': False, 'kcc[-1]': 'ន្ថ', 'kcc[-1]t': 'K3', 'kcc[-1:0]': 'ន្ថយ', 'ns-1': False, 'kcc[-2]': 'ប', 'kcc[-2]t': 'C', 'kcc[-2:-1]': 'បន្ថ', 'kcc[-2:0]': 'បន្ថយ', 'kcc[-3]': 'ត់', 'kcc[-3]t': 'K2', 'kcc[-3:0]': 'ត់បន្ថយ', 'kcc[-3:-1]': 'ត់បន្ថ', 'kcc[-3:-2]': 'ត់ប', 'kcc[+1]': 'កា', 'kcc[+1]t': 'K2', 'kcc[+1:0]': 'យកា', 'ns+1': False, 'kcc[+2]': 'រ', 'kcc[+2]t': 'C', 'kcc[+1:+2]': 'ការ', 'kcc[0:+2]': 'យការ', 'ns+2': False, 'kcc[+3]': 'ប្រើ', 'kcc[+3]t': 'K4', 'kcc[+2:+3]': 'រប្រើ', 'kcc[+1:+3]': 'ការប្រើ', 'kcc[0:+3]': 'យការប្រើ'}, {'kcc': 'កា', 't': 'K2', 'ns': False, 'kcc[-1]': 'យ', 'kcc[-1]t': 'C', 'kcc[-1:0]': 'យកា', 'ns-1': False, 'kcc[-2]': 'ន្ថ', 'kcc[-2]t': 'K3', 'kcc[-2:-1]': 'ន្ថយ', 'kcc[-2:0]': 'ន្ថយកា', 'kcc[-3]': 'ប', 'kcc[-3]t': 'C', 'kcc[-3:0]': 'បន្ថយកា', 'kcc[-3:-1]': 'បន្ថយ', 'kcc[-3:-2]': 'បន្ថ', 'kcc[+1]': 'រ', 'kcc[+1]t': 'C', 'kcc[+1:0]': 'ការ', 'ns+1': False, 'kcc[+2]': 'ប្រើ', 'kcc[+2]t': 'K4', 'kcc[+1:+2]': 'រប្រើ', 'kcc[0:+2]': 'ការប្រើ', 'ns+2': False, 'kcc[+3]': 'ប្រា', 'kcc[+3]t': 'K4', 'kcc[+2:+3]': 'ប្រើប្រា', 'kcc[+1:+3]': 'រប្រើប្រា', 'kcc[0:+3]': 'ការប្រើប្រា'}, {'kcc': 'រ', 't': 'C', 'ns': False, 'kcc[-1]': 'កា', 'kcc[-1]t': 'K2', 'kcc[-1:0]': 'ការ', 'ns-1': False, 'kcc[-2]': 'យ', 'kcc[-2]t': 'C', 'kcc[-2:-1]': 'យកា', 'kcc[-2:0]': 'យការ', 'kcc[-3]': 'ន្ថ', 'kcc[-3]t': 'K3', 'kcc[-3:0]': 'ន្ថយការ', 'kcc[-3:-1]': 'ន្ថយកា', 'kcc[-3:-2]': 'ន្ថយ', 'kcc[+1]': 'ប្រើ', 'kcc[+1]t': 'K4', 'kcc[+1:0]': 'រប្រើ', 'ns+1': False, 'kcc[+2]': 'ប្រា', 'kcc[+2]t': 'K4', 'kcc[+1:+2]': 'ប្រើប្រា', 'kcc[0:+2]': 'រប្រើប្រា', 'ns+2': False, 'kcc[+3]': 'ស់', 'kcc[+3]t': 'K2', 'kcc[+2:+3]': 'ប្រាស់', 'kcc[+1:+3]': 'ប្រើប្រាស់', 'kcc[0:+3]': 'រប្រើប្រាស់'}, {'kcc': 'ប្រើ', 't': 'K4', 'ns': False, 'kcc[-1]': 'រ', 'kcc[-1]t': 'C', 'kcc[-1:0]': 'រប្រើ', 'ns-1': False, 'kcc[-2]': 'កា', 'kcc[-2]t': 'K2', 'kcc[-2:-1]': 'ការ', 'kcc[-2:0]': 'ការប្រើ', 'kcc[-3]': 'យ', 'kcc[-3]t': 'C', 'kcc[-3:0]': 'យការប្រើ', 'kcc[-3:-1]': 'យការ', 'kcc[-3:-2]': 'យកា', 'kcc[+1]': 'ប្រា', 'kcc[+1]t': 'K4', 'kcc[+1:0]': 'ប្រើប្រា', 'ns+1': False, 'kcc[+2]': 'ស់', 'kcc[+2]t': 'K2', 'kcc[+1:+2]': 'ប្រាស់', 'kcc[0:+2]': 'ប្រើប្រាស់', 'ns+2': False, 'kcc[+3]': 'នៃ', 'kcc[+3]t': 'K2', 'kcc[+2:+3]': 'ស់នៃ', 'kcc[+1:+3]': 'ប្រាស់នៃ', 'kcc[0:+3]': 'ប្រើប្រាស់នៃ'}, {'kcc': 'ប្រា', 't': 'K4', 'ns': False, 'kcc[-1]': 'ប្រើ', 'kcc[-1]t': 'K4', 'kcc[-1:0]': 'ប្រើប្រា', 'ns-1': False, 'kcc[-2]': 'រ', 'kcc[-2]t': 'C', 'kcc[-2:-1]': 'រប្រើ', 'kcc[-2:0]': 'រប្រើប្រា', 'kcc[-3]': 'កា', 'kcc[-3]t': 'K2', 'kcc[-3:0]': 'ការប្រើប្រា', 'kcc[-3:-1]': 'ការប្រើ', 'kcc[-3:-2]': 'ការ', 'kcc[+1]': 'ស់', 'kcc[+1]t': 'K2', 'kcc[+1:0]': 'ប្រាស់', 'ns+1': False, 'kcc[+2]': 'នៃ', 'kcc[+2]t': 'K2', 'kcc[+1:+2]': 'ស់នៃ', 'kcc[0:+2]': 'ប្រាស់នៃ', 'ns+2': False, 'kcc[+3]': 'ផ', 'kcc[+3]t': 'C', 'kcc[+2:+3]': 'នៃផ', 'kcc[+1:+3]': 'ស់នៃផ', 'kcc[0:+3]': 'ប្រាស់នៃផ'}, {'kcc': 'ស់', 't': 'K2', 'ns': False, 'kcc[-1]': 'ប្រា', 'kcc[-1]t': 'K4', 'kcc[-1:0]': 'ប្រាស់', 'ns-1': False, 'kcc[-2]': 'ប្រើ', 'kcc[-2]t': 'K4', 'kcc[-2:-1]': 'ប្រើប្រា', 'kcc[-2:0]': 'ប្រើប្រាស់', 'kcc[-3]': 'រ', 'kcc[-3]t': 'C', 'kcc[-3:0]': 'រប្រើប្រាស់', 'kcc[-3:-1]': 'រប្រើប្រា', 'kcc[-3:-2]': 'រប្រើ', 'kcc[+1]': 'នៃ', 'kcc[+1]t': 'K2', 'kcc[+1:0]': 'ស់នៃ', 'ns+1': False, 'kcc[+2]': 'ផ', 'kcc[+2]t': 'C', 'kcc[+1:+2]': 'នៃផ', 'kcc[0:+2]': 'ស់នៃផ', 'ns+2': False, 'kcc[+3]': 'លិ', 'kcc[+3]t': 'K2', 'kcc[+2:+3]': 'ផលិ', 'kcc[+1:+3]': 'នៃផលិ', 'kcc[0:+3]': 'ស់នៃផលិ'}, {'kcc': 'នៃ', 't': 'K2', 'ns': False, 'kcc[-1]': 'ស់', 'kcc[-1]t': 'K2', 'kcc[-1:0]': 'ស់នៃ', 'ns-1': False, 'kcc[-2]': 'ប្រា', 'kcc[-2]t': 'K4', 'kcc[-2:-1]': 'ប្រាស់', 'kcc[-2:0]': 'ប្រាស់នៃ', 'kcc[-3]': 'ប្រើ', 'kcc[-3]t': 'K4', 'kcc[-3:0]': 'ប្រើប្រាស់នៃ', 'kcc[-3:-1]': 'ប្រើប្រាស់', 'kcc[-3:-2]': 'ប្រើប្រា', 'kcc[+1]': 'ផ', 'kcc[+1]t': 'C', 'kcc[+1:0]': 'នៃផ', 'ns+1': False, 'kcc[+2]': 'លិ', 'kcc[+2]t': 'K2', 'kcc[+1:+2]': 'ផលិ', 'kcc[0:+2]': 'នៃផលិ', 'ns+2': False, 'kcc[+3]': 'ត', 'kcc[+3]t': 'C', 'kcc[+2:+3]': 'លិត', 'kcc[+1:+3]': 'ផលិត', 'kcc[0:+3]': 'នៃផលិត'}, {'kcc': 'ផ', 't': 'C', 'ns': False, 'kcc[-1]': 'នៃ', 'kcc[-1]t': 'K2', 'kcc[-1:0]': 'នៃផ', 'ns-1': False, 'kcc[-2]': 'ស់', 'kcc[-2]t': 'K2', 'kcc[-2:-1]': 'ស់នៃ', 'kcc[-2:0]': 'ស់នៃផ', 'kcc[-3]': 'ប្រា', 'kcc[-3]t': 'K4', 'kcc[-3:0]': 'ប្រាស់នៃផ', 'kcc[-3:-1]': 'ប្រាស់នៃ', 'kcc[-3:-2]': 'ប្រាស់', 'kcc[+1]': 'លិ', 'kcc[+1]t': 'K2', 'kcc[+1:0]': 'ផលិ', 'ns+1': False, 'kcc[+2]': 'ត', 'kcc[+2]t': 'C', 'kcc[+1:+2]': 'លិត', 'kcc[0:+2]': 'ផលិត', 'ns+2': False, 'kcc[+3]': 'ផ', 'kcc[+3]t': 'C', 'kcc[+2:+3]': 'តផ', 'kcc[+1:+3]': 'លិតផ', 'kcc[0:+3]': 'ផលិតផ'}, {'kcc': 'លិ', 't': 'K2', 'ns': False, 'kcc[-1]': 'ផ', 'kcc[-1]t': 'C', 'kcc[-1:0]': 'ផលិ', 'ns-1': False, 'kcc[-2]': 'នៃ', 'kcc[-2]t': 'K2', 'kcc[-2:-1]': 'នៃផ', 'kcc[-2:0]': 'នៃផលិ', 'kcc[-3]': 'ស់', 'kcc[-3]t': 'K2', 'kcc[-3:0]': 'ស់នៃផលិ', 'kcc[-3:-1]': 'ស់នៃផ', 'kcc[-3:-2]': 'ស់នៃ', 'kcc[+1]': 'ត', 'kcc[+1]t': 'C', 'kcc[+1:0]': 'លិត', 'ns+1': False, 'kcc[+2]': 'ផ', 'kcc[+2]t': 'C', 'kcc[+1:+2]': 'តផ', 'kcc[0:+2]': 'លិតផ', 'ns+2': False, 'kcc[+3]': 'ល', 'kcc[+3]t': 'C', 'kcc[+2:+3]': 'ផល', 'kcc[+1:+3]': 'តផល', 'kcc[0:+3]': 'លិតផល'}, {'kcc': 'ត', 't': 'C', 'ns': False, 'kcc[-1]': 'លិ', 'kcc[-1]t': 'K2', 'kcc[-1:0]': 'លិត', 'ns-1': False, 'kcc[-2]': 'ផ', 'kcc[-2]t': 'C', 'kcc[-2:-1]': 'ផលិ', 'kcc[-2:0]': 'ផលិត', 'kcc[-3]': 'នៃ', 'kcc[-3]t': 'K2', 'kcc[-3:0]': 'នៃផលិត', 'kcc[-3:-1]': 'នៃផលិ', 'kcc[-3:-2]': 'នៃផ', 'kcc[+1]': 'ផ', 'kcc[+1]t': 'C', 'kcc[+1:0]': 'តផ', 'ns+1': False, 'kcc[+2]': 'ល', 'kcc[+2]t': 'C', 'kcc[+1:+2]': 'ផល', 'kcc[0:+2]': 'តផល', 'ns+2': False, 'kcc[+3]': 'ប្រេ', 'kcc[+3]t': 'K4', 'kcc[+2:+3]': 'លប្រេ', 'kcc[+1:+3]': 'ផលប្រេ', 'kcc[0:+3]': 'តផលប្រេ'}, {'kcc': 'ផ', 't': 'C', 'ns': False, 'kcc[-1]': 'ត', 'kcc[-1]t': 'C', 'kcc[-1:0]': 'តផ', 'ns-1': False, 'kcc[-2]': 'លិ', 'kcc[-2]t': 'K2', 'kcc[-2:-1]': 'លិត', 'kcc[-2:0]': 'លិតផ', 'kcc[-3]': 'ផ', 'kcc[-3]t': 'C', 'kcc[-3:0]': 'ផលិតផ', 'kcc[-3:-1]': 'ផលិត', 'kcc[-3:-2]': 'ផលិ', 'kcc[+1]': 'ល', 'kcc[+1]t': 'C', 'kcc[+1:0]': 'ផល', 'ns+1': False, 'kcc[+2]': 'ប្រេ', 'kcc[+2]t': 'K4', 'kcc[+1:+2]': 'លប្រេ', 'kcc[0:+2]': 'ផលប្រេ', 'ns+2': False, 'kcc[+3]': 'ង', 'kcc[+3]t': 'C', 'kcc[+2:+3]': 'ប្រេង', 'kcc[+1:+3]': 'លប្រេង', 'kcc[0:+3]': 'ផលប្រេង'}, {'kcc': 'ល', 't': 'C', 'ns': False, 'kcc[-1]': 'ផ', 'kcc[-1]t': 'C', 'kcc[-1:0]': 'ផល', 'ns-1': False, 'kcc[-2]': 'ត', 'kcc[-2]t': 'C', 'kcc[-2:-1]': 'តផ', 'kcc[-2:0]': 'តផល', 'kcc[-3]': 'លិ', 'kcc[-3]t': 'K2', 'kcc[-3:0]': 'លិតផល', 'kcc[-3:-1]': 'លិតផ', 'kcc[-3:-2]': 'លិត', 'kcc[+1]': 'ប្រេ', 'kcc[+1]t': 'K4', 'kcc[+1:0]': 'លប្រេ', 'ns+1': False, 'kcc[+2]': 'ង', 'kcc[+2]t': 'C', 'kcc[+1:+2]': 'ប្រេង', 'kcc[0:+2]': 'លប្រេង', 'ns+2': False, 'kcc[+3]': 'និ', 'kcc[+3]t': 'K2', 'kcc[+2:+3]': 'ងនិ', 'kcc[+1:+3]': 'ប្រេងនិ', 'kcc[0:+3]': 'លប្រេងនិ'}, {'kcc': 'ប្រេ', 't': 'K4', 'ns': False, 'kcc[-1]': 'ល', 'kcc[-1]t': 'C', 'kcc[-1:0]': 'លប្រេ', 'ns-1': False, 'kcc[-2]': 'ផ', 'kcc[-2]t': 'C', 'kcc[-2:-1]': 'ផល', 'kcc[-2:0]': 'ផលប្រេ', 'kcc[-3]': 'ត', 'kcc[-3]t': 'C', 'kcc[-3:0]': 'តផលប្រេ', 'kcc[-3:-1]': 'តផល', 'kcc[-3:-2]': 'តផ', 'kcc[+1]': 'ង', 'kcc[+1]t': 'C', 'kcc[+1:0]': 'ប្រេង', 'ns+1': False, 'kcc[+2]': 'និ', 'kcc[+2]t': 'K2', 'kcc[+1:+2]': 'ងនិ', 'kcc[0:+2]': 'ប្រេងនិ', 'ns+2': False, 'kcc[+3]': 'ង', 'kcc[+3]t': 'C', 'kcc[+2:+3]': 'និង', 'kcc[+1:+3]': 'ងនិង', 'kcc[0:+3]': 'ប្រេងនិង'}, {'kcc': 'ង', 't': 'C', 'ns': False, 'kcc[-1]': 'ប្រេ', 'kcc[-1]t': 'K4', 'kcc[-1:0]': 'ប្រេង', 'ns-1': False, 'kcc[-2]': 'ល', 'kcc[-2]t': 'C', 'kcc[-2:-1]': 'លប្រេ', 'kcc[-2:0]': 'លប្រេង', 'kcc[-3]': 'ផ', 'kcc[-3]t': 'C', 'kcc[-3:0]': 'ផលប្រេង', 'kcc[-3:-1]': 'ផលប្រេ', 'kcc[-3:-2]': 'ផល', 'kcc[+1]': 'និ', 'kcc[+1]t': 'K2', 'kcc[+1:0]': 'ងនិ', 'ns+1': False, 'kcc[+2]': 'ង', 'kcc[+2]t': 'C', 'kcc[+1:+2]': 'និង', 'kcc[0:+2]': 'ងនិង', 'ns+2': False, 'kcc[+3]': 'លើ', 'kcc[+3]t': 'K2', 'kcc[+2:+3]': 'ងលើ', 'kcc[+1:+3]': 'និងលើ', 'kcc[0:+3]': 'ងនិងលើ'}, {'kcc': 'និ', 't': 'K2', 'ns': False, 'kcc[-1]': 'ង', 'kcc[-1]t': 'C', 'kcc[-1:0]': 'ងនិ', 'ns-1': False, 'kcc[-2]': 'ប្រេ', 'kcc[-2]t': 'K4', 'kcc[-2:-1]': 'ប្រេង', 'kcc[-2:0]': 'ប្រេងនិ', 'kcc[-3]': 'ល', 'kcc[-3]t': 'C', 'kcc[-3:0]': 'លប្រេងនិ', 'kcc[-3:-1]': 'លប្រេង', 'kcc[-3:-2]': 'លប្រេ', 'kcc[+1]': 'ង', 'kcc[+1]t': 'C', 'kcc[+1:0]': 'និង', 'ns+1': False, 'kcc[+2]': 'លើ', 'kcc[+2]t': 'K2', 'kcc[+1:+2]': 'ងលើ', 'kcc[0:+2]': 'និងលើ', 'ns+2': False, 'kcc[+3]': 'ក', 'kcc[+3]t': 'C', 'kcc[+2:+3]': 'លើក', 'kcc[+1:+3]': 'ងលើក', 'kcc[0:+3]': 'និងលើក'}, {'kcc': 'ង', 't': 'C', 'ns': False, 'kcc[-1]': 'និ', 'kcc[-1]t': 'K2', 'kcc[-1:0]': 'និង', 'ns-1': False, 'kcc[-2]': 'ង', 'kcc[-2]t': 'C', 'kcc[-2:-1]': 'ងនិ', 'kcc[-2:0]': 'ងនិង', 'kcc[-3]': 'ប្រេ', 'kcc[-3]t': 'K4', 'kcc[-3:0]': 'ប្រេងនិង', 'kcc[-3:-1]': 'ប្រេងនិ', 'kcc[-3:-2]': 'ប្រេង', 'kcc[+1]': 'លើ', 'kcc[+1]t': 'K2', 'kcc[+1:0]': 'ងលើ', 'ns+1': False, 'kcc[+2]': 'ក', 'kcc[+2]t': 'C', 'kcc[+1:+2]': 'លើក', 'kcc[0:+2]': 'ងលើក', 'ns+2': False, 'kcc[+3]': 'ក', 'kcc[+3]t': 'C', 'kcc[+2:+3]': 'កក', 'kcc[+1:+3]': 'លើកក', 'kcc[0:+3]': 'ងលើកក'}, {'kcc': 'លើ', 't': 'K2', 'ns': False, 'kcc[-1]': 'ង', 'kcc[-1]t': 'C', 'kcc[-1:0]': 'ងលើ', 'ns-1': False, 'kcc[-2]': 'និ', 'kcc[-2]t': 'K2', 'kcc[-2:-1]': 'និង', 'kcc[-2:0]': 'និងលើ', 'kcc[-3]': 'ង', 'kcc[-3]t': 'C', 'kcc[-3:0]': 'ងនិងលើ', 'kcc[-3:-1]': 'ងនិង', 'kcc[-3:-2]': 'ងនិ', 'kcc[+1]': 'ក', 'kcc[+1]t': 'C', 'kcc[+1:0]': 'លើក', 'ns+1': False, 'kcc[+2]': 'ក', 'kcc[+2]t': 'C', 'kcc[+1:+2]': 'កក', 'kcc[0:+2]': 'លើកក', 'ns+2': False, 'kcc[+3]': 'ម្ព', 'kcc[+3]t': 'K3', 'kcc[+2:+3]': 'កម្ព', 'kcc[+1:+3]': 'កកម្ព', 'kcc[0:+3]': 'លើកកម្ព'}, {'kcc': 'ក', 't': 'C', 'ns': False, 'kcc[-1]': 'លើ', 'kcc[-1]t': 'K2', 'kcc[-1:0]': 'លើក', 'ns-1': False, 'kcc[-2]': 'ង', 'kcc[-2]t': 'C', 'kcc[-2:-1]': 'ងលើ', 'kcc[-2:0]': 'ងលើក', 'kcc[-3]': 'និ', 'kcc[-3]t': 'K2', 'kcc[-3:0]': 'និងលើក', 'kcc[-3:-1]': 'និងលើ', 'kcc[-3:-2]': 'និង', 'kcc[+1]': 'ក', 'kcc[+1]t': 'C', 'kcc[+1:0]': 'កក', 'ns+1': False, 'kcc[+2]': 'ម្ព', 'kcc[+2]t': 'K3', 'kcc[+1:+2]': 'កម្ព', 'kcc[0:+2]': 'កកម្ព', 'ns+2': False, 'kcc[+3]': 'ស់', 'kcc[+3]t': 'K2', 'kcc[+2:+3]': 'ម្ពស់', 'kcc[+1:+3]': 'កម្ពស់', 'kcc[0:+3]': 'កកម្ពស់'}, {'kcc': 'ក', 't': 'C', 'ns': False, 'kcc[-1]': 'ក', 'kcc[-1]t': 'C', 'kcc[-1:0]': 'កក', 'ns-1': False, 'kcc[-2]': 'លើ', 'kcc[-2]t': 'K2', 'kcc[-2:-1]': 'លើក', 'kcc[-2:0]': 'លើកក', 'kcc[-3]': 'ង', 'kcc[-3]t': 'C', 'kcc[-3:0]': 'ងលើកក', 'kcc[-3:-1]': 'ងលើក', 'kcc[-3:-2]': 'ងលើ', 'kcc[+1]': 'ម្ព', 'kcc[+1]t': 'K3', 'kcc[+1:0]': 'កម្ព', 'ns+1': False, 'kcc[+2]': 'ស់', 'kcc[+2]t': 'K2', 'kcc[+1:+2]': 'ម្ពស់', 'kcc[0:+2]': 'កម្ពស់', 'ns+2': False, 'kcc[+3]': 'កា', 'kcc[+3]t': 'K2', 'kcc[+2:+3]': 'ស់កា', 'kcc[+1:+3]': 'ម្ពស់កា', 'kcc[0:+3]': 'កម្ពស់កា'}, {'kcc': 'ម្ព', 't': 'K3', 'ns': False, 'kcc[-1]': 'ក', 'kcc[-1]t': 'C', 'kcc[-1:0]': 'កម្ព', 'ns-1': False, 'kcc[-2]': 'ក', 'kcc[-2]t': 'C', 'kcc[-2:-1]': 'កក', 'kcc[-2:0]': 'កកម្ព', 'kcc[-3]': 'លើ', 'kcc[-3]t': 'K2', 'kcc[-3:0]': 'លើកកម្ព', 'kcc[-3:-1]': 'លើកក', 'kcc[-3:-2]': 'លើក', 'kcc[+1]': 'ស់', 'kcc[+1]t': 'K2', 'kcc[+1:0]': 'ម្ពស់', 'ns+1': False, 'kcc[+2]': 'កា', 'kcc[+2]t': 'K2', 'kcc[+1:+2]': 'ស់កា', 'kcc[0:+2]': 'ម្ពស់កា', 'ns+2': False, 'kcc[+3]': 'រ', 'kcc[+3]t': 'C', 'kcc[+2:+3]': 'ការ', 'kcc[+1:+3]': 'ស់ការ', 'kcc[0:+3]': 'ម្ពស់ការ'}, {'kcc': 'ស់', 't': 'K2', 'ns': False, 'kcc[-1]': 'ម្ព', 'kcc[-1]t': 'K3', 'kcc[-1:0]': 'ម្ពស់', 'ns-1': False, 'kcc[-2]': 'ក', 'kcc[-2]t': 'C', 'kcc[-2:-1]': 'កម្ព', 'kcc[-2:0]': 'កម្ពស់', 'kcc[-3]': 'ក', 'kcc[-3]t': 'C', 'kcc[-3:0]': 'កកម្ពស់', 'kcc[-3:-1]': 'កកម្ព', 'kcc[-3:-2]': 'កក', 'kcc[+1]': 'កា', 'kcc[+1]t': 'K2', 'kcc[+1:0]': 'ស់កា', 'ns+1': False, 'kcc[+2]': 'រ', 'kcc[+2]t': 'C', 'kcc[+1:+2]': 'ការ', 'kcc[0:+2]': 'ស់ការ', 'ns+2': False, 'kcc[+3]': 'ស្រា', 'kcc[+3]t': 'K4', 'kcc[+2:+3]': 'រស្រា', 'kcc[+1:+3]': 'ការស្រា', 'kcc[0:+3]': 'ស់ការស្រា'}, {'kcc': 'កា', 't': 'K2', 'ns': False, 'kcc[-1]': 'ស់', 'kcc[-1]t': 'K2', 'kcc[-1:0]': 'ស់កា', 'ns-1': False, 'kcc[-2]': 'ម្ព', 'kcc[-2]t': 'K3', 'kcc[-2:-1]': 'ម្ពស់', 'kcc[-2:0]': 'ម្ពស់កា', 'kcc[-3]': 'ក', 'kcc[-3]t': 'C', 'kcc[-3:0]': 'កម្ពស់កា', 'kcc[-3:-1]': 'កម្ពស់', 'kcc[-3:-2]': 'កម្ព', 'kcc[+1]': 'រ', 'kcc[+1]t': 'C', 'kcc[+1:0]': 'ការ', 'ns+1': False, 'kcc[+2]': 'ស្រា', 'kcc[+2]t': 'K4', 'kcc[+1:+2]': 'រស្រា', 'kcc[0:+2]': 'ការស្រា', 'ns+2': False, 'kcc[+3]': 'វ', 'kcc[+3]t': 'C', 'kcc[+2:+3]': 'ស្រាវ', 'kcc[+1:+3]': 'រស្រាវ', 'kcc[0:+3]': 'ការស្រាវ'}, {'kcc': 'រ', 't': 'C', 'ns': False, 'kcc[-1]': 'កា', 'kcc[-1]t': 'K2', 'kcc[-1:0]': 'ការ', 'ns-1': False, 'kcc[-2]': 'ស់', 'kcc[-2]t': 'K2', 'kcc[-2:-1]': 'ស់កា', 'kcc[-2:0]': 'ស់ការ', 'kcc[-3]': 'ម្ព', 'kcc[-3]t': 'K3', 'kcc[-3:0]': 'ម្ពស់ការ', 'kcc[-3:-1]': 'ម្ពស់កា', 'kcc[-3:-2]': 'ម្ពស់', 'kcc[+1]': 'ស្រា', 'kcc[+1]t': 'K4', 'kcc[+1:0]': 'រស្រា', 'ns+1': False, 'kcc[+2]': 'វ', 'kcc[+2]t': 'C', 'kcc[+1:+2]': 'ស្រាវ', 'kcc[0:+2]': 'រស្រាវ', 'ns+2': False, 'kcc[+3]': 'ជ្រា', 'kcc[+3]t': 'K4', 'kcc[+2:+3]': 'វជ្រា', 'kcc[+1:+3]': 'ស្រាវជ្រា', 'kcc[0:+3]': 'រស្រាវជ្រា'}, {'kcc': 'ស្រា', 't': 'K4', 'ns': False, 'kcc[-1]': 'រ', 'kcc[-1]t': 'C', 'kcc[-1:0]': 'រស្រា', 'ns-1': False, 'kcc[-2]': 'កា', 'kcc[-2]t': 'K2', 'kcc[-2:-1]': 'ការ', 'kcc[-2:0]': 'ការស្រា', 'kcc[-3]': 'ស់', 'kcc[-3]t': 'K2', 'kcc[-3:0]': 'ស់ការស្រា', 'kcc[-3:-1]': 'ស់ការ', 'kcc[-3:-2]': 'ស់កា', 'kcc[+1]': 'វ', 'kcc[+1]t': 'C', 'kcc[+1:0]': 'ស្រាវ', 'ns+1': False, 'kcc[+2]': 'ជ្រា', 'kcc[+2]t': 'K4', 'kcc[+1:+2]': 'វជ្រា', 'kcc[0:+2]': 'ស្រាវជ្រា', 'ns+2': False, 'kcc[+3]': 'វ', 'kcc[+3]t': 'C', 'kcc[+2:+3]': 'ជ្រាវ', 'kcc[+1:+3]': 'វជ្រាវ', 'kcc[0:+3]': 'ស្រាវជ្រាវ'}, {'kcc': 'វ', 't': 'C', 'ns': False, 'kcc[-1]': 'ស្រា', 'kcc[-1]t': 'K4', 'kcc[-1:0]': 'ស្រាវ', 'ns-1': False, 'kcc[-2]': 'រ', 'kcc[-2]t': 'C', 'kcc[-2:-1]': 'រស្រា', 'kcc[-2:0]': 'រស្រាវ', 'kcc[-3]': 'កា', 'kcc[-3]t': 'K2', 'kcc[-3:0]': 'ការស្រាវ', 'kcc[-3:-1]': 'ការស្រា', 'kcc[-3:-2]': 'ការ', 'kcc[+1]': 'ជ្រា', 'kcc[+1]t': 'K4', 'kcc[+1:0]': 'វជ្រា', 'ns+1': False, 'kcc[+2]': 'វ', 'kcc[+2]t': 'C', 'kcc[+1:+2]': 'ជ្រាវ', 'kcc[0:+2]': 'វជ្រាវ', 'ns+2': False, 'kcc[+3]': 'ទៅ', 'kcc[+3]t': 'K2', 'kcc[+2:+3]': 'វទៅ', 'kcc[+1:+3]': 'ជ្រាវទៅ', 'kcc[0:+3]': 'វជ្រាវទៅ'}, {'kcc': 'ជ្រា', 't': 'K4', 'ns': False, 'kcc[-1]': 'វ', 'kcc[-1]t': 'C', 'kcc[-1:0]': 'វជ្រា', 'ns-1': False, 'kcc[-2]': 'ស្រា', 'kcc[-2]t': 'K4', 'kcc[-2:-1]': 'ស្រាវ', 'kcc[-2:0]': 'ស្រាវជ្រា', 'kcc[-3]': 'រ', 'kcc[-3]t': 'C', 'kcc[-3:0]': 'រស្រាវជ្រា', 'kcc[-3:-1]': 'រស្រាវ', 'kcc[-3:-2]': 'រស្រា', 'kcc[+1]': 'វ', 'kcc[+1]t': 'C', 'kcc[+1:0]': 'ជ្រាវ', 'ns+1': False, 'kcc[+2]': 'ទៅ', 'kcc[+2]t': 'K2', 'kcc[+1:+2]': 'វទៅ', 'kcc[0:+2]': 'ជ្រាវទៅ', 'ns+2': False, 'kcc[+3]': 'លើ', 'kcc[+3]t': 'K2', 'kcc[+2:+3]': 'ទៅលើ', 'kcc[+1:+3]': 'វទៅលើ', 'kcc[0:+3]': 'ជ្រាវទៅលើ'}, {'kcc': 'វ', 't': 'C', 'ns': False, 'kcc[-1]': 'ជ្រា', 'kcc[-1]t': 'K4', 'kcc[-1:0]': 'ជ្រាវ', 'ns-1': False, 'kcc[-2]': 'វ', 'kcc[-2]t': 'C', 'kcc[-2:-1]': 'វជ្រា', 'kcc[-2:0]': 'វជ្រាវ', 'kcc[-3]': 'ស្រា', 'kcc[-3]t': 'K4', 'kcc[-3:0]': 'ស្រាវជ្រាវ', 'kcc[-3:-1]': 'ស្រាវជ្រា', 'kcc[-3:-2]': 'ស្រាវ', 'kcc[+1]': 'ទៅ', 'kcc[+1]t': 'K2', 'kcc[+1:0]': 'វទៅ', 'ns+1': False, 'kcc[+2]': 'លើ', 'kcc[+2]t': 'K2', 'kcc[+1:+2]': 'ទៅលើ', 'kcc[0:+2]': 'វទៅលើ', 'ns+2': False, 'kcc[+3]': 'ផ', 'kcc[+3]t': 'C', 'kcc[+2:+3]': 'លើផ', 'kcc[+1:+3]': 'ទៅលើផ', 'kcc[0:+3]': 'វទៅលើផ'}, {'kcc': 'ទៅ', 't': 'K2', 'ns': False, 'kcc[-1]': 'វ', 'kcc[-1]t': 'C', 'kcc[-1:0]': 'វទៅ', 'ns-1': False, 'kcc[-2]': 'ជ្រា', 'kcc[-2]t': 'K4', 'kcc[-2:-1]': 'ជ្រាវ', 'kcc[-2:0]': 'ជ្រាវទៅ', 'kcc[-3]': 'វ', 'kcc[-3]t': 'C', 'kcc[-3:0]': 'វជ្រាវទៅ', 'kcc[-3:-1]': 'វជ្រាវ', 'kcc[-3:-2]': 'វជ្រា', 'kcc[+1]': 'លើ', 'kcc[+1]t': 'K2', 'kcc[+1:0]': 'ទៅលើ', 'ns+1': False, 'kcc[+2]': 'ផ', 'kcc[+2]t': 'C', 'kcc[+1:+2]': 'លើផ', 'kcc[0:+2]': 'ទៅលើផ', 'ns+2': False, 'kcc[+3]': 'លិ', 'kcc[+3]t': 'K2', 'kcc[+2:+3]': 'ផលិ', 'kcc[+1:+3]': 'លើផលិ', 'kcc[0:+3]': 'ទៅលើផលិ'}, {'kcc': 'លើ', 't': 'K2', 'ns': False, 'kcc[-1]': 'ទៅ', 'kcc[-1]t': 'K2', 'kcc[-1:0]': 'ទៅលើ', 'ns-1': False, 'kcc[-2]': 'វ', 'kcc[-2]t': 'C', 'kcc[-2:-1]': 'វទៅ', 'kcc[-2:0]': 'វទៅលើ', 'kcc[-3]': 'ជ្រា', 'kcc[-3]t': 'K4', 'kcc[-3:0]': 'ជ្រាវទៅលើ', 'kcc[-3:-1]': 'ជ្រាវទៅ', 'kcc[-3:-2]': 'ជ្រាវ', 'kcc[+1]': 'ផ', 'kcc[+1]t': 'C', 'kcc[+1:0]': 'លើផ', 'ns+1': False, 'kcc[+2]': 'លិ', 'kcc[+2]t': 'K2', 'kcc[+1:+2]': 'ផលិ', 'kcc[0:+2]': 'លើផលិ', 'ns+2': False, 'kcc[+3]': 'ត', 'kcc[+3]t': 'C', 'kcc[+2:+3]': 'លិត', 'kcc[+1:+3]': 'ផលិត', 'kcc[0:+3]': 'លើផលិត'}, {'kcc': 'ផ', 't': 'C', 'ns': False, 'kcc[-1]': 'លើ', 'kcc[-1]t': 'K2', 'kcc[-1:0]': 'លើផ', 'ns-1': False, 'kcc[-2]': 'ទៅ', 'kcc[-2]t': 'K2', 'kcc[-2:-1]': 'ទៅលើ', 'kcc[-2:0]': 'ទៅលើផ', 'kcc[-3]': 'វ', 'kcc[-3]t': 'C', 'kcc[-3:0]': 'វទៅលើផ', 'kcc[-3:-1]': 'វទៅលើ', 'kcc[-3:-2]': 'វទៅ', 'kcc[+1]': 'លិ', 'kcc[+1]t': 'K2', 'kcc[+1:0]': 'ផលិ', 'ns+1': False, 'kcc[+2]': 'ត', 'kcc[+2]t': 'C', 'kcc[+1:+2]': 'លិត', 'kcc[0:+2]': 'ផលិត', 'ns+2': False, 'kcc[+3]': 'ផ', 'kcc[+3]t': 'C', 'kcc[+2:+3]': 'តផ', 'kcc[+1:+3]': 'លិតផ', 'kcc[0:+3]': 'ផលិតផ'}, {'kcc': 'លិ', 't': 'K2', 'ns': False, 'kcc[-1]': 'ផ', 'kcc[-1]t': 'C', 'kcc[-1:0]': 'ផលិ', 'ns-1': False, 'kcc[-2]': 'លើ', 'kcc[-2]t': 'K2', 'kcc[-2:-1]': 'លើផ', 'kcc[-2:0]': 'លើផលិ', 'kcc[-3]': 'ទៅ', 'kcc[-3]t': 'K2', 'kcc[-3:0]': 'ទៅលើផលិ', 'kcc[-3:-1]': 'ទៅលើផ', 'kcc[-3:-2]': 'ទៅលើ', 'kcc[+1]': 'ត', 'kcc[+1]t': 'C', 'kcc[+1:0]': 'លិត', 'ns+1': False, 'kcc[+2]': 'ផ', 'kcc[+2]t': 'C', 'kcc[+1:+2]': 'តផ', 'kcc[0:+2]': 'លិតផ', 'ns+2': False, 'kcc[+3]': 'ល', 'kcc[+3]t': 'C', 'kcc[+2:+3]': 'ផល', 'kcc[+1:+3]': 'តផល', 'kcc[0:+3]': 'លិតផល'}, {'kcc': 'ត', 't': 'C', 'ns': False, 'kcc[-1]': 'លិ', 'kcc[-1]t': 'K2', 'kcc[-1:0]': 'លិត', 'ns-1': False, 'kcc[-2]': 'ផ', 'kcc[-2]t': 'C', 'kcc[-2:-1]': 'ផលិ', 'kcc[-2:0]': 'ផលិត', 'kcc[-3]': 'លើ', 'kcc[-3]t': 'K2', 'kcc[-3:0]': 'លើផលិត', 'kcc[-3:-1]': 'លើផលិ', 'kcc[-3:-2]': 'លើផ', 'kcc[+1]': 'ផ', 'kcc[+1]t': 'C', 'kcc[+1:0]': 'តផ', 'ns+1': False, 'kcc[+2]': 'ល', 'kcc[+2]t': 'C', 'kcc[+1:+2]': 'ផល', 'kcc[0:+2]': 'តផល', 'ns+2': False, 'kcc[+3]': 'ជំ', 'kcc[+3]t': 'K2', 'kcc[+2:+3]': 'លជំ', 'kcc[+1:+3]': 'ផលជំ', 'kcc[0:+3]': 'តផលជំ'}, {'kcc': 'ផ', 't': 'C', 'ns': False, 'kcc[-1]': 'ត', 'kcc[-1]t': 'C', 'kcc[-1:0]': 'តផ', 'ns-1': False, 'kcc[-2]': 'លិ', 'kcc[-2]t': 'K2', 'kcc[-2:-1]': 'លិត', 'kcc[-2:0]': 'លិតផ', 'kcc[-3]': 'ផ', 'kcc[-3]t': 'C', 'kcc[-3:0]': 'ផលិតផ', 'kcc[-3:-1]': 'ផលិត', 'kcc[-3:-2]': 'ផលិ', 'kcc[+1]': 'ល', 'kcc[+1]t': 'C', 'kcc[+1:0]': 'ផល', 'ns+1': False, 'kcc[+2]': 'ជំ', 'kcc[+2]t': 'K2', 'kcc[+1:+2]': 'លជំ', 'kcc[0:+2]': 'ផលជំ', 'ns+2': False, 'kcc[+3]': 'នួ', 'kcc[+3]t': 'K2', 'kcc[+2:+3]': 'ជំនួ', 'kcc[+1:+3]': 'លជំនួ', 'kcc[0:+3]': 'ផលជំនួ'}, {'kcc': 'ល', 't': 'C', 'ns': False, 'kcc[-1]': 'ផ', 'kcc[-1]t': 'C', 'kcc[-1:0]': 'ផល', 'ns-1': False, 'kcc[-2]': 'ត', 'kcc[-2]t': 'C', 'kcc[-2:-1]': 'តផ', 'kcc[-2:0]': 'តផល', 'kcc[-3]': 'លិ', 'kcc[-3]t': 'K2', 'kcc[-3:0]': 'លិតផល', 'kcc[-3:-1]': 'លិតផ', 'kcc[-3:-2]': 'លិត', 'kcc[+1]': 'ជំ', 'kcc[+1]t': 'K2', 'kcc[+1:0]': 'លជំ', 'ns+1': False, 'kcc[+2]': 'នួ', 'kcc[+2]t': 'K2', 'kcc[+1:+2]': 'ជំនួ', 'kcc[0:+2]': 'លជំនួ', 'ns+2': False, 'kcc[+3]': 'ស', 'kcc[+3]t': 'C', 'kcc[+2:+3]': 'នួស', 'kcc[+1:+3]': 'ជំនួស', 'kcc[0:+3]': 'លជំនួស'}, {'kcc': 'ជំ', 't': 'K2', 'ns': False, 'kcc[-1]': 'ល', 'kcc[-1]t': 'C', 'kcc[-1:0]': 'លជំ', 'ns-1': False, 'kcc[-2]': 'ផ', 'kcc[-2]t': 'C', 'kcc[-2:-1]': 'ផល', 'kcc[-2:0]': 'ផលជំ', 'kcc[-3]': 'ត', 'kcc[-3]t': 'C', 'kcc[-3:0]': 'តផលជំ', 'kcc[-3:-1]': 'តផល', 'kcc[-3:-2]': 'តផ', 'kcc[+1]': 'នួ', 'kcc[+1]t': 'K2', 'kcc[+1:0]': 'ជំនួ', 'ns+1': False, 'kcc[+2]': 'ស', 'kcc[+2]t': 'C', 'kcc[+1:+2]': 'នួស', 'kcc[0:+2]': 'ជំនួស', 'ns+2': False, 'kcc[+3]': 'រ', 'kcc[+3]t': 'C', 'kcc[+2:+3]': 'សរ', 'kcc[+1:+3]': 'នួសរ', 'kcc[0:+3]': 'ជំនួសរ'}, {'kcc': 'នួ', 't': 'K2', 'ns': False, 'kcc[-1]': 'ជំ', 'kcc[-1]t': 'K2', 'kcc[-1:0]': 'ជំនួ', 'ns-1': False, 'kcc[-2]': 'ល', 'kcc[-2]t': 'C', 'kcc[-2:-1]': 'លជំ', 'kcc[-2:0]': 'លជំនួ', 'kcc[-3]': 'ផ', 'kcc[-3]t': 'C', 'kcc[-3:0]': 'ផលជំនួ', 'kcc[-3:-1]': 'ផលជំ', 'kcc[-3:-2]': 'ផល', 'kcc[+1]': 'ស', 'kcc[+1]t': 'C', 'kcc[+1:0]': 'នួស', 'ns+1': False, 'kcc[+2]': 'រ', 'kcc[+2]t': 'C', 'kcc[+1:+2]': 'សរ', 'kcc[0:+2]': 'នួសរ', 'ns+2': False, 'kcc[+3]': 'ប', 'kcc[+3]t': 'C', 'kcc[+2:+3]': 'រប', 'kcc[+1:+3]': 'សរប', 'kcc[0:+3]': 'នួសរប'}, {'kcc': 'ស', 't': 'C', 'ns': False, 'kcc[-1]': 'នួ', 'kcc[-1]t': 'K2', 'kcc[-1:0]': 'នួស', 'ns-1': False, 'kcc[-2]': 'ជំ', 'kcc[-2]t': 'K2', 'kcc[-2:-1]': 'ជំនួ', 'kcc[-2:0]': 'ជំនួស', 'kcc[-3]': 'ល', 'kcc[-3]t': 'C', 'kcc[-3:0]': 'លជំនួស', 'kcc[-3:-1]': 'លជំនួ', 'kcc[-3:-2]': 'លជំ', 'kcc[+1]': 'រ', 'kcc[+1]t': 'C', 'kcc[+1:0]': 'សរ', 'ns+1': False, 'kcc[+2]': 'ប', 'kcc[+2]t': 'C', 'kcc[+1:+2]': 'រប', 'kcc[0:+2]': 'សរប', 'ns+2': False, 'kcc[+3]': 'ស់', 'kcc[+3]t': 'K2', 'kcc[+2:+3]': 'បស់', 'kcc[+1:+3]': 'របស់', 'kcc[0:+3]': 'សរបស់'}, {'kcc': 'រ', 't': 'C', 'ns': False, 'kcc[-1]': 'ស', 'kcc[-1]t': 'C', 'kcc[-1:0]': 'សរ', 'ns-1': False, 'kcc[-2]': 'នួ', 'kcc[-2]t': 'K2', 'kcc[-2:-1]': 'នួស', 'kcc[-2:0]': 'នួសរ', 'kcc[-3]': 'ជំ', 'kcc[-3]t': 'K2', 'kcc[-3:0]': 'ជំនួសរ', 'kcc[-3:-1]': 'ជំនួស', 'kcc[-3:-2]': 'ជំនួ', 'kcc[+1]': 'ប', 'kcc[+1]t': 'C', 'kcc[+1:0]': 'រប', 'ns+1': False, 'kcc[+2]': 'ស់', 'kcc[+2]t': 'K2', 'kcc[+1:+2]': 'បស់', 'kcc[0:+2]': 'របស់', 'ns+2': False, 'kcc[+3]': 'វា', 'kcc[+3]t': 'K2', 'kcc[+2:+3]': 'ស់វា', 'kcc[+1:+3]': 'បស់វា', 'kcc[0:+3]': 'របស់វា'}, {'kcc': 'ប', 't': 'C', 'ns': False, 'kcc[-1]': 'រ', 'kcc[-1]t': 'C', 'kcc[-1:0]': 'រប', 'ns-1': False, 'kcc[-2]': 'ស', 'kcc[-2]t': 'C', 'kcc[-2:-1]': 'សរ', 'kcc[-2:0]': 'សរប', 'kcc[-3]': 'នួ', 'kcc[-3]t': 'K2', 'kcc[-3:0]': 'នួសរប', 'kcc[-3:-1]': 'នួសរ', 'kcc[-3:-2]': 'នួស', 'kcc[+1]': 'ស់', 'kcc[+1]t': 'K2', 'kcc[+1:0]': 'បស់', 'ns+1': False, 'kcc[+2]': 'វា', 'kcc[+2]t': 'K2', 'kcc[+1:+2]': 'ស់វា', 'kcc[0:+2]': 'បស់វា', 'ns+2': False, 'kcc[+3]': '។', 'kcc[+3]t': 'NS', 'kcc[+2:+3]': 'វា។', 'kcc[+1:+3]': 'ស់វា។', 'kcc[0:+3]': 'បស់វា។'}, {'kcc': 'ស់', 't': 'K2', 'ns': False, 'kcc[-1]': 'ប', 'kcc[-1]t': 'C', 'kcc[-1:0]': 'បស់', 'ns-1': False, 'kcc[-2]': 'រ', 'kcc[-2]t': 'C', 'kcc[-2:-1]': 'រប', 'kcc[-2:0]': 'របស់', 'kcc[-3]': 'ស', 'kcc[-3]t': 'C', 'kcc[-3:0]': 'សរបស់', 'kcc[-3:-1]': 'សរប', 'kcc[-3:-2]': 'សរ', 'kcc[+1]': 'វា', 'kcc[+1]t': 'K2', 'kcc[+1:0]': 'ស់វា', 'ns+1': False, 'kcc[+2]': '។', 'kcc[+2]t': 'NS', 'kcc[+1:+2]': 'វា។', 'kcc[0:+2]': 'ស់វា។', 'ns+2': True}, {'kcc': 'វា', 't': 'K2', 'ns': False, 'kcc[-1]': 'ស់', 'kcc[-1]t': 'K2', 'kcc[-1:0]': 'ស់វា', 'ns-1': False, 'kcc[-2]': 'ប', 'kcc[-2]t': 'C', 'kcc[-2:-1]': 'បស់', 'kcc[-2:0]': 'បស់វា', 'kcc[-3]': 'រ', 'kcc[-3]t': 'C', 'kcc[-3:0]': 'របស់វា', 'kcc[-3:-1]': 'របស់', 'kcc[-3:-2]': 'រប', 'kcc[+1]': '។', 'kcc[+1]t': 'NS', 'kcc[+1:0]': 'វា។', 'ns+1': True}, {'kcc': '។', 't': 'NS', 'ns': True, 'kcc[-1]': 'វា', 'kcc[-1]t': 'K2', 'kcc[-1:0]': 'វា។', 'ns-1': False, 'kcc[-2]': 'ស់', 'kcc[-2]t': 'K2', 'kcc[-2:-1]': 'ស់វា', 'kcc[-2:0]': 'ស់វា។', 'kcc[-3]': 'ប', 'kcc[-3]t': 'C', 'kcc[-3:0]': 'បស់វា។', 'kcc[-3:-1]': 'បស់វា', 'kcc[-3:-2]': 'បស់', 'EOS': True}]\n",
            "len of y[0]: 104 ['1', '0', '1', '0', '1', '0', '1', '1', '1', '0', '1', '0', '1', '1', '1', '0', '0', '1', '0', '1', '0', '1', '0', '1', '0', '1', '0', '0', '1', '0', '1', '0', '0', '0', '0', '1', '1', '1', '0', '1', '0', '1', '0', '1', '0', '0', '1', '0', '1', '0', '1', '0', '1', '0', '1', '0', '0', '1', '1', '0', '1', '0', '0', '1', '0', '1', '0', '0', '1', '1', '0', '0', '1', '0', '1', '0', '1', '0', '1', '0', '1', '0', '0', '1', '0', '1', '0', '0', '0', '1', '1', '1', '0', '0', '1', '0', '1', '0', '0', '1', '0', '0', '1', '1']\n",
            "len train X: 800 [{'kcc': 'គា', 't': 'K2', 'ns': False, 'BOS': True, 'kcc[+1]': 'ត់', 'kcc[+1]t': 'K2', 'kcc[+1:0]': 'គាត់', 'ns+1': False, 'kcc[+2]': 'បា', 'kcc[+2]t': 'K2', 'kcc[+1:+2]': 'ត់បា', 'kcc[0:+2]': 'គាត់បា', 'ns+2': False, 'kcc[+3]': 'ន', 'kcc[+3]t': 'C', 'kcc[+2:+3]': 'បាន', 'kcc[+1:+3]': 'ត់បាន', 'kcc[0:+3]': 'គាត់បាន'}, {'kcc': 'ត់', 't': 'K2', 'ns': False, 'kcc[-1]': 'គា', 'kcc[-1]t': 'K2', 'kcc[-1:0]': 'គាត់', 'ns-1': False, 'kcc[+1]': 'បា', 'kcc[+1]t': 'K2', 'kcc[+1:0]': 'ត់បា', 'ns+1': False, 'kcc[+2]': 'ន', 'kcc[+2]t': 'C', 'kcc[+1:+2]': 'បាន', 'kcc[0:+2]': 'ត់បាន', 'ns+2': False, 'kcc[+3]': 'ឈ', 'kcc[+3]t': 'C', 'kcc[+2:+3]': 'នឈ', 'kcc[+1:+3]': 'បានឈ', 'kcc[0:+3]': 'ត់បានឈ'}, {'kcc': 'បា', 't': 'K2', 'ns': False, 'kcc[-1]': 'ត់', 'kcc[-1]t': 'K2', 'kcc[-1:0]': 'ត់បា', 'ns-1': False, 'kcc[-2]': 'គា', 'kcc[-2]t': 'K2', 'kcc[-2:-1]': 'គាត់', 'kcc[-2:0]': 'គាត់បា', 'kcc[+1]': 'ន', 'kcc[+1]t': 'C', 'kcc[+1:0]': 'បាន', 'ns+1': False, 'kcc[+2]': 'ឈ', 'kcc[+2]t': 'C', 'kcc[+1:+2]': 'នឈ', 'kcc[0:+2]': 'បានឈ', 'ns+2': False, 'kcc[+3]': 'រ', 'kcc[+3]t': 'C', 'kcc[+2:+3]': 'ឈរ', 'kcc[+1:+3]': 'នឈរ', 'kcc[0:+3]': 'បានឈរ'}, {'kcc': 'ន', 't': 'C', 'ns': False, 'kcc[-1]': 'បា', 'kcc[-1]t': 'K2', 'kcc[-1:0]': 'បាន', 'ns-1': False, 'kcc[-2]': 'ត់', 'kcc[-2]t': 'K2', 'kcc[-2:-1]': 'ត់បា', 'kcc[-2:0]': 'ត់បាន', 'kcc[-3]': 'គា', 'kcc[-3]t': 'K2', 'kcc[-3:0]': 'គាត់បាន', 'kcc[-3:-1]': 'គាត់បា', 'kcc[-3:-2]': 'គាត់', 'kcc[+1]': 'ឈ', 'kcc[+1]t': 'C', 'kcc[+1:0]': 'នឈ', 'ns+1': False, 'kcc[+2]': 'រ', 'kcc[+2]t': 'C', 'kcc[+1:+2]': 'ឈរ', 'kcc[0:+2]': 'នឈរ', 'ns+2': False, 'kcc[+3]': 'ឈ្មោះ', 'kcc[+3]t': 'K5', 'kcc[+2:+3]': 'រឈ្មោះ', 'kcc[+1:+3]': 'ឈរឈ្មោះ', 'kcc[0:+3]': 'នឈរឈ្មោះ'}, {'kcc': 'ឈ', 't': 'C', 'ns': False, 'kcc[-1]': 'ន', 'kcc[-1]t': 'C', 'kcc[-1:0]': 'នឈ', 'ns-1': False, 'kcc[-2]': 'បា', 'kcc[-2]t': 'K2', 'kcc[-2:-1]': 'បាន', 'kcc[-2:0]': 'បានឈ', 'kcc[-3]': 'ត់', 'kcc[-3]t': 'K2', 'kcc[-3:0]': 'ត់បានឈ', 'kcc[-3:-1]': 'ត់បាន', 'kcc[-3:-2]': 'ត់បា', 'kcc[+1]': 'រ', 'kcc[+1]t': 'C', 'kcc[+1:0]': 'ឈរ', 'ns+1': False, 'kcc[+2]': 'ឈ្មោះ', 'kcc[+2]t': 'K5', 'kcc[+1:+2]': 'រឈ្មោះ', 'kcc[0:+2]': 'ឈរឈ្មោះ', 'ns+2': False, 'kcc[+3]': 'ជា', 'kcc[+3]t': 'K2', 'kcc[+2:+3]': 'ឈ្មោះជា', 'kcc[+1:+3]': 'រឈ្មោះជា', 'kcc[0:+3]': 'ឈរឈ្មោះជា'}, {'kcc': 'រ', 't': 'C', 'ns': False, 'kcc[-1]': 'ឈ', 'kcc[-1]t': 'C', 'kcc[-1:0]': 'ឈរ', 'ns-1': False, 'kcc[-2]': 'ន', 'kcc[-2]t': 'C', 'kcc[-2:-1]': 'នឈ', 'kcc[-2:0]': 'នឈរ', 'kcc[-3]': 'បា', 'kcc[-3]t': 'K2', 'kcc[-3:0]': 'បានឈរ', 'kcc[-3:-1]': 'បានឈ', 'kcc[-3:-2]': 'បាន', 'kcc[+1]': 'ឈ្មោះ', 'kcc[+1]t': 'K5', 'kcc[+1:0]': 'រឈ្មោះ', 'ns+1': False, 'kcc[+2]': 'ជា', 'kcc[+2]t': 'K2', 'kcc[+1:+2]': 'ឈ្មោះជា', 'kcc[0:+2]': 'រឈ្មោះជា', 'ns+2': False, 'kcc[+3]': 'បេ', 'kcc[+3]t': 'K2', 'kcc[+2:+3]': 'ជាបេ', 'kcc[+1:+3]': 'ឈ្មោះជាបេ', 'kcc[0:+3]': 'រឈ្មោះជាបេ'}, {'kcc': 'ឈ្មោះ', 't': 'K5', 'ns': False, 'kcc[-1]': 'រ', 'kcc[-1]t': 'C', 'kcc[-1:0]': 'រឈ្មោះ', 'ns-1': False, 'kcc[-2]': 'ឈ', 'kcc[-2]t': 'C', 'kcc[-2:-1]': 'ឈរ', 'kcc[-2:0]': 'ឈរឈ្មោះ', 'kcc[-3]': 'ន', 'kcc[-3]t': 'C', 'kcc[-3:0]': 'នឈរឈ្មោះ', 'kcc[-3:-1]': 'នឈរ', 'kcc[-3:-2]': 'នឈ', 'kcc[+1]': 'ជា', 'kcc[+1]t': 'K2', 'kcc[+1:0]': 'ឈ្មោះជា', 'ns+1': False, 'kcc[+2]': 'បេ', 'kcc[+2]t': 'K2', 'kcc[+1:+2]': 'ជាបេ', 'kcc[0:+2]': 'ឈ្មោះជាបេ', 'ns+2': False, 'kcc[+3]': 'ក្ខ', 'kcc[+3]t': 'K3', 'kcc[+2:+3]': 'បេក្ខ', 'kcc[+1:+3]': 'ជាបេក្ខ', 'kcc[0:+3]': 'ឈ្មោះជាបេក្ខ'}, {'kcc': 'ជា', 't': 'K2', 'ns': False, 'kcc[-1]': 'ឈ្មោះ', 'kcc[-1]t': 'K5', 'kcc[-1:0]': 'ឈ្មោះជា', 'ns-1': False, 'kcc[-2]': 'រ', 'kcc[-2]t': 'C', 'kcc[-2:-1]': 'រឈ្មោះ', 'kcc[-2:0]': 'រឈ្មោះជា', 'kcc[-3]': 'ឈ', 'kcc[-3]t': 'C', 'kcc[-3:0]': 'ឈរឈ្មោះជា', 'kcc[-3:-1]': 'ឈរឈ្មោះ', 'kcc[-3:-2]': 'ឈរ', 'kcc[+1]': 'បេ', 'kcc[+1]t': 'K2', 'kcc[+1:0]': 'ជាបេ', 'ns+1': False, 'kcc[+2]': 'ក្ខ', 'kcc[+2]t': 'K3', 'kcc[+1:+2]': 'បេក្ខ', 'kcc[0:+2]': 'ជាបេក្ខ', 'ns+2': False, 'kcc[+3]': 'ជ', 'kcc[+3]t': 'C', 'kcc[+2:+3]': 'ក្ខជ', 'kcc[+1:+3]': 'បេក្ខជ', 'kcc[0:+3]': 'ជាបេក្ខជ'}, {'kcc': 'បេ', 't': 'K2', 'ns': False, 'kcc[-1]': 'ជា', 'kcc[-1]t': 'K2', 'kcc[-1:0]': 'ជាបេ', 'ns-1': False, 'kcc[-2]': 'ឈ្មោះ', 'kcc[-2]t': 'K5', 'kcc[-2:-1]': 'ឈ្មោះជា', 'kcc[-2:0]': 'ឈ្មោះជាបេ', 'kcc[-3]': 'រ', 'kcc[-3]t': 'C', 'kcc[-3:0]': 'រឈ្មោះជាបេ', 'kcc[-3:-1]': 'រឈ្មោះជា', 'kcc[-3:-2]': 'រឈ្មោះ', 'kcc[+1]': 'ក្ខ', 'kcc[+1]t': 'K3', 'kcc[+1:0]': 'បេក្ខ', 'ns+1': False, 'kcc[+2]': 'ជ', 'kcc[+2]t': 'C', 'kcc[+1:+2]': 'ក្ខជ', 'kcc[0:+2]': 'បេក្ខជ', 'ns+2': False, 'kcc[+3]': 'ន', 'kcc[+3]t': 'C', 'kcc[+2:+3]': 'ជន', 'kcc[+1:+3]': 'ក្ខជន', 'kcc[0:+3]': 'បេក្ខជន'}, {'kcc': 'ក្ខ', 't': 'K3', 'ns': False, 'kcc[-1]': 'បេ', 'kcc[-1]t': 'K2', 'kcc[-1:0]': 'បេក្ខ', 'ns-1': False, 'kcc[-2]': 'ជា', 'kcc[-2]t': 'K2', 'kcc[-2:-1]': 'ជាបេ', 'kcc[-2:0]': 'ជាបេក្ខ', 'kcc[-3]': 'ឈ្មោះ', 'kcc[-3]t': 'K5', 'kcc[-3:0]': 'ឈ្មោះជាបេក្ខ', 'kcc[-3:-1]': 'ឈ្មោះជាបេ', 'kcc[-3:-2]': 'ឈ្មោះជា', 'kcc[+1]': 'ជ', 'kcc[+1]t': 'C', 'kcc[+1:0]': 'ក្ខជ', 'ns+1': False, 'kcc[+2]': 'ន', 'kcc[+2]t': 'C', 'kcc[+1:+2]': 'ជន', 'kcc[0:+2]': 'ក្ខជន', 'ns+2': False, 'kcc[+3]': 'សា', 'kcc[+3]t': 'K2', 'kcc[+2:+3]': 'នសា', 'kcc[+1:+3]': 'ជនសា', 'kcc[0:+3]': 'ក្ខជនសា'}, {'kcc': 'ជ', 't': 'C', 'ns': False, 'kcc[-1]': 'ក្ខ', 'kcc[-1]t': 'K3', 'kcc[-1:0]': 'ក្ខជ', 'ns-1': False, 'kcc[-2]': 'បេ', 'kcc[-2]t': 'K2', 'kcc[-2:-1]': 'បេក្ខ', 'kcc[-2:0]': 'បេក្ខជ', 'kcc[-3]': 'ជា', 'kcc[-3]t': 'K2', 'kcc[-3:0]': 'ជាបេក្ខជ', 'kcc[-3:-1]': 'ជាបេក្ខ', 'kcc[-3:-2]': 'ជាបេ', 'kcc[+1]': 'ន', 'kcc[+1]t': 'C', 'kcc[+1:0]': 'ជន', 'ns+1': False, 'kcc[+2]': 'សា', 'kcc[+2]t': 'K2', 'kcc[+1:+2]': 'នសា', 'kcc[0:+2]': 'ជនសា', 'ns+2': False, 'kcc[+3]': 'ធា', 'kcc[+3]t': 'K2', 'kcc[+2:+3]': 'សាធា', 'kcc[+1:+3]': 'នសាធា', 'kcc[0:+3]': 'ជនសាធា'}, {'kcc': 'ន', 't': 'C', 'ns': False, 'kcc[-1]': 'ជ', 'kcc[-1]t': 'C', 'kcc[-1:0]': 'ជន', 'ns-1': False, 'kcc[-2]': 'ក្ខ', 'kcc[-2]t': 'K3', 'kcc[-2:-1]': 'ក្ខជ', 'kcc[-2:0]': 'ក្ខជន', 'kcc[-3]': 'បេ', 'kcc[-3]t': 'K2', 'kcc[-3:0]': 'បេក្ខជន', 'kcc[-3:-1]': 'បេក្ខជ', 'kcc[-3:-2]': 'បេក្ខ', 'kcc[+1]': 'សា', 'kcc[+1]t': 'K2', 'kcc[+1:0]': 'នសា', 'ns+1': False, 'kcc[+2]': 'ធា', 'kcc[+2]t': 'K2', 'kcc[+1:+2]': 'សាធា', 'kcc[0:+2]': 'នសាធា', 'ns+2': False, 'kcc[+3]': 'រ', 'kcc[+3]t': 'C', 'kcc[+2:+3]': 'ធារ', 'kcc[+1:+3]': 'សាធារ', 'kcc[0:+3]': 'នសាធារ'}, {'kcc': 'សា', 't': 'K2', 'ns': False, 'kcc[-1]': 'ន', 'kcc[-1]t': 'C', 'kcc[-1:0]': 'នសា', 'ns-1': False, 'kcc[-2]': 'ជ', 'kcc[-2]t': 'C', 'kcc[-2:-1]': 'ជន', 'kcc[-2:0]': 'ជនសា', 'kcc[-3]': 'ក្ខ', 'kcc[-3]t': 'K3', 'kcc[-3:0]': 'ក្ខជនសា', 'kcc[-3:-1]': 'ក្ខជន', 'kcc[-3:-2]': 'ក្ខជ', 'kcc[+1]': 'ធា', 'kcc[+1]t': 'K2', 'kcc[+1:0]': 'សាធា', 'ns+1': False, 'kcc[+2]': 'រ', 'kcc[+2]t': 'C', 'kcc[+1:+2]': 'ធារ', 'kcc[0:+2]': 'សាធារ', 'ns+2': False, 'kcc[+3]': 'ណ', 'kcc[+3]t': 'C', 'kcc[+2:+3]': 'រណ', 'kcc[+1:+3]': 'ធារណ', 'kcc[0:+3]': 'សាធារណ'}, {'kcc': 'ធា', 't': 'K2', 'ns': False, 'kcc[-1]': 'សា', 'kcc[-1]t': 'K2', 'kcc[-1:0]': 'សាធា', 'ns-1': False, 'kcc[-2]': 'ន', 'kcc[-2]t': 'C', 'kcc[-2:-1]': 'នសា', 'kcc[-2:0]': 'នសាធា', 'kcc[-3]': 'ជ', 'kcc[-3]t': 'C', 'kcc[-3:0]': 'ជនសាធា', 'kcc[-3:-1]': 'ជនសា', 'kcc[-3:-2]': 'ជន', 'kcc[+1]': 'រ', 'kcc[+1]t': 'C', 'kcc[+1:0]': 'ធារ', 'ns+1': False, 'kcc[+2]': 'ណ', 'kcc[+2]t': 'C', 'kcc[+1:+2]': 'រណ', 'kcc[0:+2]': 'ធារណ', 'ns+2': False, 'kcc[+3]': 'រ', 'kcc[+3]t': 'C', 'kcc[+2:+3]': 'ណរ', 'kcc[+1:+3]': 'រណរ', 'kcc[0:+3]': 'ធារណរ'}, {'kcc': 'រ', 't': 'C', 'ns': False, 'kcc[-1]': 'ធា', 'kcc[-1]t': 'K2', 'kcc[-1:0]': 'ធារ', 'ns-1': False, 'kcc[-2]': 'សា', 'kcc[-2]t': 'K2', 'kcc[-2:-1]': 'សាធា', 'kcc[-2:0]': 'សាធារ', 'kcc[-3]': 'ន', 'kcc[-3]t': 'C', 'kcc[-3:0]': 'នសាធារ', 'kcc[-3:-1]': 'នសាធា', 'kcc[-3:-2]': 'នសា', 'kcc[+1]': 'ណ', 'kcc[+1]t': 'C', 'kcc[+1:0]': 'រណ', 'ns+1': False, 'kcc[+2]': 'រ', 'kcc[+2]t': 'C', 'kcc[+1:+2]': 'ណរ', 'kcc[0:+2]': 'រណរ', 'ns+2': False, 'kcc[+3]': 'ដ្ឋ', 'kcc[+3]t': 'K3', 'kcc[+2:+3]': 'រដ្ឋ', 'kcc[+1:+3]': 'ណរដ្ឋ', 'kcc[0:+3]': 'រណរដ្ឋ'}, {'kcc': 'ណ', 't': 'C', 'ns': False, 'kcc[-1]': 'រ', 'kcc[-1]t': 'C', 'kcc[-1:0]': 'រណ', 'ns-1': False, 'kcc[-2]': 'ធា', 'kcc[-2]t': 'K2', 'kcc[-2:-1]': 'ធារ', 'kcc[-2:0]': 'ធារណ', 'kcc[-3]': 'សា', 'kcc[-3]t': 'K2', 'kcc[-3:0]': 'សាធារណ', 'kcc[-3:-1]': 'សាធារ', 'kcc[-3:-2]': 'សាធា', 'kcc[+1]': 'រ', 'kcc[+1]t': 'C', 'kcc[+1:0]': 'ណរ', 'ns+1': False, 'kcc[+2]': 'ដ្ឋ', 'kcc[+2]t': 'K3', 'kcc[+1:+2]': 'រដ្ឋ', 'kcc[0:+2]': 'ណរដ្ឋ', 'ns+2': False, 'kcc[+3]': 'នៅ', 'kcc[+3]t': 'K2', 'kcc[+2:+3]': 'ដ្ឋនៅ', 'kcc[+1:+3]': 'រដ្ឋនៅ', 'kcc[0:+3]': 'ណរដ្ឋនៅ'}, {'kcc': 'រ', 't': 'C', 'ns': False, 'kcc[-1]': 'ណ', 'kcc[-1]t': 'C', 'kcc[-1:0]': 'ណរ', 'ns-1': False, 'kcc[-2]': 'រ', 'kcc[-2]t': 'C', 'kcc[-2:-1]': 'រណ', 'kcc[-2:0]': 'រណរ', 'kcc[-3]': 'ធា', 'kcc[-3]t': 'K2', 'kcc[-3:0]': 'ធារណរ', 'kcc[-3:-1]': 'ធារណ', 'kcc[-3:-2]': 'ធារ', 'kcc[+1]': 'ដ្ឋ', 'kcc[+1]t': 'K3', 'kcc[+1:0]': 'រដ្ឋ', 'ns+1': False, 'kcc[+2]': 'នៅ', 'kcc[+2]t': 'K2', 'kcc[+1:+2]': 'ដ្ឋនៅ', 'kcc[0:+2]': 'រដ្ឋនៅ', 'ns+2': False, 'kcc[+3]': 'ឆ្នាំ', 'kcc[+3]t': 'K5', 'kcc[+2:+3]': 'នៅឆ្នាំ', 'kcc[+1:+3]': 'ដ្ឋនៅឆ្នាំ', 'kcc[0:+3]': 'រដ្ឋនៅឆ្នាំ'}, {'kcc': 'ដ្ឋ', 't': 'K3', 'ns': False, 'kcc[-1]': 'រ', 'kcc[-1]t': 'C', 'kcc[-1:0]': 'រដ្ឋ', 'ns-1': False, 'kcc[-2]': 'ណ', 'kcc[-2]t': 'C', 'kcc[-2:-1]': 'ណរ', 'kcc[-2:0]': 'ណរដ្ឋ', 'kcc[-3]': 'រ', 'kcc[-3]t': 'C', 'kcc[-3:0]': 'រណរដ្ឋ', 'kcc[-3:-1]': 'រណរ', 'kcc[-3:-2]': 'រណ', 'kcc[+1]': 'នៅ', 'kcc[+1]t': 'K2', 'kcc[+1:0]': 'ដ្ឋនៅ', 'ns+1': False, 'kcc[+2]': 'ឆ្នាំ', 'kcc[+2]t': 'K5', 'kcc[+1:+2]': 'នៅឆ្នាំ', 'kcc[0:+2]': 'ដ្ឋនៅឆ្នាំ', 'ns+2': False, 'kcc[+3]': '1998', 'kcc[+3]t': 'K4', 'kcc[+2:+3]': 'ឆ្នាំ1998', 'kcc[+1:+3]': 'នៅឆ្នាំ1998', 'kcc[0:+3]': 'ដ្ឋនៅឆ្នាំ1998'}, {'kcc': 'នៅ', 't': 'K2', 'ns': False, 'kcc[-1]': 'ដ្ឋ', 'kcc[-1]t': 'K3', 'kcc[-1:0]': 'ដ្ឋនៅ', 'ns-1': False, 'kcc[-2]': 'រ', 'kcc[-2]t': 'C', 'kcc[-2:-1]': 'រដ្ឋ', 'kcc[-2:0]': 'រដ្ឋនៅ', 'kcc[-3]': 'ណ', 'kcc[-3]t': 'C', 'kcc[-3:0]': 'ណរដ្ឋនៅ', 'kcc[-3:-1]': 'ណរដ្ឋ', 'kcc[-3:-2]': 'ណរ', 'kcc[+1]': 'ឆ្នាំ', 'kcc[+1]t': 'K5', 'kcc[+1:0]': 'នៅឆ្នាំ', 'ns+1': False, 'kcc[+2]': '1998', 'kcc[+2]t': 'K4', 'kcc[+1:+2]': 'ឆ្នាំ1998', 'kcc[0:+2]': 'នៅឆ្នាំ1998', 'ns+2': True, 'kcc[+3]': 'ហើ', 'kcc[+3]t': 'K2', 'kcc[+2:+3]': '1998ហើ', 'kcc[+1:+3]': 'ឆ្នាំ1998ហើ', 'kcc[0:+3]': 'នៅឆ្នាំ1998ហើ'}, {'kcc': 'ឆ្នាំ', 't': 'K5', 'ns': False, 'kcc[-1]': 'នៅ', 'kcc[-1]t': 'K2', 'kcc[-1:0]': 'នៅឆ្នាំ', 'ns-1': False, 'kcc[-2]': 'ដ្ឋ', 'kcc[-2]t': 'K3', 'kcc[-2:-1]': 'ដ្ឋនៅ', 'kcc[-2:0]': 'ដ្ឋនៅឆ្នាំ', 'kcc[-3]': 'រ', 'kcc[-3]t': 'C', 'kcc[-3:0]': 'រដ្ឋនៅឆ្នាំ', 'kcc[-3:-1]': 'រដ្ឋនៅ', 'kcc[-3:-2]': 'រដ្ឋ', 'kcc[+1]': '1998', 'kcc[+1]t': 'K4', 'kcc[+1:0]': 'ឆ្នាំ1998', 'ns+1': True, 'kcc[+2]': 'ហើ', 'kcc[+2]t': 'K2', 'kcc[+1:+2]': '1998ហើ', 'kcc[0:+2]': 'ឆ្នាំ1998ហើ', 'ns+2': False, 'kcc[+3]': 'យ', 'kcc[+3]t': 'C', 'kcc[+2:+3]': 'ហើយ', 'kcc[+1:+3]': '1998ហើយ', 'kcc[0:+3]': 'ឆ្នាំ1998ហើយ'}, {'kcc': '1998', 't': 'K4', 'ns': True, 'kcc[-1]': 'ឆ្នាំ', 'kcc[-1]t': 'K5', 'kcc[-1:0]': 'ឆ្នាំ1998', 'ns-1': False, 'kcc[-2]': 'នៅ', 'kcc[-2]t': 'K2', 'kcc[-2:-1]': 'នៅឆ្នាំ', 'kcc[-2:0]': 'នៅឆ្នាំ1998', 'kcc[-3]': 'ដ្ឋ', 'kcc[-3]t': 'K3', 'kcc[-3:0]': 'ដ្ឋនៅឆ្នាំ1998', 'kcc[-3:-1]': 'ដ្ឋនៅឆ្នាំ', 'kcc[-3:-2]': 'ដ្ឋនៅ', 'kcc[+1]': 'ហើ', 'kcc[+1]t': 'K2', 'kcc[+1:0]': '1998ហើ', 'ns+1': False, 'kcc[+2]': 'យ', 'kcc[+2]t': 'C', 'kcc[+1:+2]': 'ហើយ', 'kcc[0:+2]': '1998ហើយ', 'ns+2': False, 'kcc[+3]': 'បា', 'kcc[+3]t': 'K2', 'kcc[+2:+3]': 'យបា', 'kcc[+1:+3]': 'ហើយបា', 'kcc[0:+3]': '1998ហើយបា'}, {'kcc': 'ហើ', 't': 'K2', 'ns': False, 'kcc[-1]': '1998', 'kcc[-1]t': 'K4', 'kcc[-1:0]': '1998ហើ', 'ns-1': True, 'kcc[-2]': 'ឆ្នាំ', 'kcc[-2]t': 'K5', 'kcc[-2:-1]': 'ឆ្នាំ1998', 'kcc[-2:0]': 'ឆ្នាំ1998ហើ', 'kcc[-3]': 'នៅ', 'kcc[-3]t': 'K2', 'kcc[-3:0]': 'នៅឆ្នាំ1998ហើ', 'kcc[-3:-1]': 'នៅឆ្នាំ1998', 'kcc[-3:-2]': 'នៅឆ្នាំ', 'kcc[+1]': 'យ', 'kcc[+1]t': 'C', 'kcc[+1:0]': 'ហើយ', 'ns+1': False, 'kcc[+2]': 'បា', 'kcc[+2]t': 'K2', 'kcc[+1:+2]': 'យបា', 'kcc[0:+2]': 'ហើយបា', 'ns+2': False, 'kcc[+3]': 'ន', 'kcc[+3]t': 'C', 'kcc[+2:+3]': 'បាន', 'kcc[+1:+3]': 'យបាន', 'kcc[0:+3]': 'ហើយបាន'}, {'kcc': 'យ', 't': 'C', 'ns': False, 'kcc[-1]': 'ហើ', 'kcc[-1]t': 'K2', 'kcc[-1:0]': 'ហើយ', 'ns-1': False, 'kcc[-2]': '1998', 'kcc[-2]t': 'K4', 'kcc[-2:-1]': '1998ហើ', 'kcc[-2:0]': '1998ហើយ', 'kcc[-3]': 'ឆ្នាំ', 'kcc[-3]t': 'K5', 'kcc[-3:0]': 'ឆ្នាំ1998ហើយ', 'kcc[-3:-1]': 'ឆ្នាំ1998ហើ', 'kcc[-3:-2]': 'ឆ្នាំ1998', 'kcc[+1]': 'បា', 'kcc[+1]t': 'K2', 'kcc[+1:0]': 'យបា', 'ns+1': False, 'kcc[+2]': 'ន', 'kcc[+2]t': 'C', 'kcc[+1:+2]': 'បាន', 'kcc[0:+2]': 'យបាន', 'ns+2': False, 'kcc[+3]': 'ជា', 'kcc[+3]t': 'K2', 'kcc[+2:+3]': 'នជា', 'kcc[+1:+3]': 'បានជា', 'kcc[0:+3]': 'យបានជា'}, {'kcc': 'បា', 't': 'K2', 'ns': False, 'kcc[-1]': 'យ', 'kcc[-1]t': 'C', 'kcc[-1:0]': 'យបា', 'ns-1': False, 'kcc[-2]': 'ហើ', 'kcc[-2]t': 'K2', 'kcc[-2:-1]': 'ហើយ', 'kcc[-2:0]': 'ហើយបា', 'kcc[-3]': '1998', 'kcc[-3]t': 'K4', 'kcc[-3:0]': '1998ហើយបា', 'kcc[-3:-1]': '1998ហើយ', 'kcc[-3:-2]': '1998ហើ', 'kcc[+1]': 'ន', 'kcc[+1]t': 'C', 'kcc[+1:0]': 'បាន', 'ns+1': False, 'kcc[+2]': 'ជា', 'kcc[+2]t': 'K2', 'kcc[+1:+2]': 'នជា', 'kcc[0:+2]': 'បានជា', 'ns+2': False, 'kcc[+3]': 'គ', 'kcc[+3]t': 'C', 'kcc[+2:+3]': 'ជាគ', 'kcc[+1:+3]': 'នជាគ', 'kcc[0:+3]': 'បានជាគ'}, {'kcc': 'ន', 't': 'C', 'ns': False, 'kcc[-1]': 'បា', 'kcc[-1]t': 'K2', 'kcc[-1:0]': 'បាន', 'ns-1': False, 'kcc[-2]': 'យ', 'kcc[-2]t': 'C', 'kcc[-2:-1]': 'យបា', 'kcc[-2:0]': 'យបាន', 'kcc[-3]': 'ហើ', 'kcc[-3]t': 'K2', 'kcc[-3:0]': 'ហើយបាន', 'kcc[-3:-1]': 'ហើយបា', 'kcc[-3:-2]': 'ហើយ', 'kcc[+1]': 'ជា', 'kcc[+1]t': 'K2', 'kcc[+1:0]': 'នជា', 'ns+1': False, 'kcc[+2]': 'គ', 'kcc[+2]t': 'C', 'kcc[+1:+2]': 'ជាគ', 'kcc[0:+2]': 'នជាគ', 'ns+2': False, 'kcc[+3]': 'ណ', 'kcc[+3]t': 'C', 'kcc[+2:+3]': 'គណ', 'kcc[+1:+3]': 'ជាគណ', 'kcc[0:+3]': 'នជាគណ'}, {'kcc': 'ជា', 't': 'K2', 'ns': False, 'kcc[-1]': 'ន', 'kcc[-1]t': 'C', 'kcc[-1:0]': 'នជា', 'ns-1': False, 'kcc[-2]': 'បា', 'kcc[-2]t': 'K2', 'kcc[-2:-1]': 'បាន', 'kcc[-2:0]': 'បានជា', 'kcc[-3]': 'យ', 'kcc[-3]t': 'C', 'kcc[-3:0]': 'យបានជា', 'kcc[-3:-1]': 'យបាន', 'kcc[-3:-2]': 'យបា', 'kcc[+1]': 'គ', 'kcc[+1]t': 'C', 'kcc[+1:0]': 'ជាគ', 'ns+1': False, 'kcc[+2]': 'ណ', 'kcc[+2]t': 'C', 'kcc[+1:+2]': 'គណ', 'kcc[0:+2]': 'ជាគណ', 'ns+2': False, 'kcc[+3]': 'ប', 'kcc[+3]t': 'C', 'kcc[+2:+3]': 'ណប', 'kcc[+1:+3]': 'គណប', 'kcc[0:+3]': 'ជាគណប'}, {'kcc': 'គ', 't': 'C', 'ns': False, 'kcc[-1]': 'ជា', 'kcc[-1]t': 'K2', 'kcc[-1:0]': 'ជាគ', 'ns-1': False, 'kcc[-2]': 'ន', 'kcc[-2]t': 'C', 'kcc[-2:-1]': 'នជា', 'kcc[-2:0]': 'នជាគ', 'kcc[-3]': 'បា', 'kcc[-3]t': 'K2', 'kcc[-3:0]': 'បានជាគ', 'kcc[-3:-1]': 'បានជា', 'kcc[-3:-2]': 'បាន', 'kcc[+1]': 'ណ', 'kcc[+1]t': 'C', 'kcc[+1:0]': 'គណ', 'ns+1': False, 'kcc[+2]': 'ប', 'kcc[+2]t': 'C', 'kcc[+1:+2]': 'ណប', 'kcc[0:+2]': 'គណប', 'ns+2': False, 'kcc[+3]': 'ក្ស', 'kcc[+3]t': 'K3', 'kcc[+2:+3]': 'បក្ស', 'kcc[+1:+3]': 'ណបក្ស', 'kcc[0:+3]': 'គណបក្ស'}, {'kcc': 'ណ', 't': 'C', 'ns': False, 'kcc[-1]': 'គ', 'kcc[-1]t': 'C', 'kcc[-1:0]': 'គណ', 'ns-1': False, 'kcc[-2]': 'ជា', 'kcc[-2]t': 'K2', 'kcc[-2:-1]': 'ជាគ', 'kcc[-2:0]': 'ជាគណ', 'kcc[-3]': 'ន', 'kcc[-3]t': 'C', 'kcc[-3:0]': 'នជាគណ', 'kcc[-3:-1]': 'នជាគ', 'kcc[-3:-2]': 'នជា', 'kcc[+1]': 'ប', 'kcc[+1]t': 'C', 'kcc[+1:0]': 'ណប', 'ns+1': False, 'kcc[+2]': 'ក្ស', 'kcc[+2]t': 'K3', 'kcc[+1:+2]': 'បក្ស', 'kcc[0:+2]': 'ណបក្ស', 'ns+2': False, 'kcc[+3]': 'សេ', 'kcc[+3]t': 'K2', 'kcc[+2:+3]': 'ក្សសេ', 'kcc[+1:+3]': 'បក្សសេ', 'kcc[0:+3]': 'ណបក្សសេ'}, {'kcc': 'ប', 't': 'C', 'ns': False, 'kcc[-1]': 'ណ', 'kcc[-1]t': 'C', 'kcc[-1:0]': 'ណប', 'ns-1': False, 'kcc[-2]': 'គ', 'kcc[-2]t': 'C', 'kcc[-2:-1]': 'គណ', 'kcc[-2:0]': 'គណប', 'kcc[-3]': 'ជា', 'kcc[-3]t': 'K2', 'kcc[-3:0]': 'ជាគណប', 'kcc[-3:-1]': 'ជាគណ', 'kcc[-3:-2]': 'ជាគ', 'kcc[+1]': 'ក្ស', 'kcc[+1]t': 'K3', 'kcc[+1:0]': 'បក្ស', 'ns+1': False, 'kcc[+2]': 'សេ', 'kcc[+2]t': 'K2', 'kcc[+1:+2]': 'ក្សសេ', 'kcc[0:+2]': 'បក្សសេ', 'ns+2': False, 'kcc[+3]': 'រី', 'kcc[+3]t': 'K2', 'kcc[+2:+3]': 'សេរី', 'kcc[+1:+3]': 'ក្សសេរី', 'kcc[0:+3]': 'បក្សសេរី'}, {'kcc': 'ក្ស', 't': 'K3', 'ns': False, 'kcc[-1]': 'ប', 'kcc[-1]t': 'C', 'kcc[-1:0]': 'បក្ស', 'ns-1': False, 'kcc[-2]': 'ណ', 'kcc[-2]t': 'C', 'kcc[-2:-1]': 'ណប', 'kcc[-2:0]': 'ណបក្ស', 'kcc[-3]': 'គ', 'kcc[-3]t': 'C', 'kcc[-3:0]': 'គណបក្ស', 'kcc[-3:-1]': 'គណប', 'kcc[-3:-2]': 'គណ', 'kcc[+1]': 'សេ', 'kcc[+1]t': 'K2', 'kcc[+1:0]': 'ក្សសេ', 'ns+1': False, 'kcc[+2]': 'រី', 'kcc[+2]t': 'K2', 'kcc[+1:+2]': 'សេរី', 'kcc[0:+2]': 'ក្សសេរី', 'ns+2': False, 'kcc[+3]': 'និ', 'kcc[+3]t': 'K2', 'kcc[+2:+3]': 'រីនិ', 'kcc[+1:+3]': 'សេរីនិ', 'kcc[0:+3]': 'ក្សសេរីនិ'}, {'kcc': 'សេ', 't': 'K2', 'ns': False, 'kcc[-1]': 'ក្ស', 'kcc[-1]t': 'K3', 'kcc[-1:0]': 'ក្សសេ', 'ns-1': False, 'kcc[-2]': 'ប', 'kcc[-2]t': 'C', 'kcc[-2:-1]': 'បក្ស', 'kcc[-2:0]': 'បក្សសេ', 'kcc[-3]': 'ណ', 'kcc[-3]t': 'C', 'kcc[-3:0]': 'ណបក្សសេ', 'kcc[-3:-1]': 'ណបក្ស', 'kcc[-3:-2]': 'ណប', 'kcc[+1]': 'រី', 'kcc[+1]t': 'K2', 'kcc[+1:0]': 'សេរី', 'ns+1': False, 'kcc[+2]': 'និ', 'kcc[+2]t': 'K2', 'kcc[+1:+2]': 'រីនិ', 'kcc[0:+2]': 'សេរីនិ', 'ns+2': False, 'kcc[+3]': 'យ', 'kcc[+3]t': 'C', 'kcc[+2:+3]': 'និយ', 'kcc[+1:+3]': 'រីនិយ', 'kcc[0:+3]': 'សេរីនិយ'}, {'kcc': 'រី', 't': 'K2', 'ns': False, 'kcc[-1]': 'សេ', 'kcc[-1]t': 'K2', 'kcc[-1:0]': 'សេរី', 'ns-1': False, 'kcc[-2]': 'ក្ស', 'kcc[-2]t': 'K3', 'kcc[-2:-1]': 'ក្សសេ', 'kcc[-2:0]': 'ក្សសេរី', 'kcc[-3]': 'ប', 'kcc[-3]t': 'C', 'kcc[-3:0]': 'បក្សសេរី', 'kcc[-3:-1]': 'បក្សសេ', 'kcc[-3:-2]': 'បក្ស', 'kcc[+1]': 'និ', 'kcc[+1]t': 'K2', 'kcc[+1:0]': 'រីនិ', 'ns+1': False, 'kcc[+2]': 'យ', 'kcc[+2]t': 'C', 'kcc[+1:+2]': 'និយ', 'kcc[0:+2]': 'រីនិយ', 'ns+2': False, 'kcc[+3]': 'ម', 'kcc[+3]t': 'C', 'kcc[+2:+3]': 'យម', 'kcc[+1:+3]': 'និយម', 'kcc[0:+3]': 'រីនិយម'}, {'kcc': 'និ', 't': 'K2', 'ns': False, 'kcc[-1]': 'រី', 'kcc[-1]t': 'K2', 'kcc[-1:0]': 'រីនិ', 'ns-1': False, 'kcc[-2]': 'សេ', 'kcc[-2]t': 'K2', 'kcc[-2:-1]': 'សេរី', 'kcc[-2:0]': 'សេរីនិ', 'kcc[-3]': 'ក្ស', 'kcc[-3]t': 'K3', 'kcc[-3:0]': 'ក្សសេរីនិ', 'kcc[-3:-1]': 'ក្សសេរី', 'kcc[-3:-2]': 'ក្សសេ', 'kcc[+1]': 'យ', 'kcc[+1]t': 'C', 'kcc[+1:0]': 'និយ', 'ns+1': False, 'kcc[+2]': 'ម', 'kcc[+2]t': 'C', 'kcc[+1:+2]': 'យម', 'kcc[0:+2]': 'និយម', 'ns+2': False, 'kcc[+3]': 'នៅ', 'kcc[+3]t': 'K2', 'kcc[+2:+3]': 'មនៅ', 'kcc[+1:+3]': 'យមនៅ', 'kcc[0:+3]': 'និយមនៅ'}, {'kcc': 'យ', 't': 'C', 'ns': False, 'kcc[-1]': 'និ', 'kcc[-1]t': 'K2', 'kcc[-1:0]': 'និយ', 'ns-1': False, 'kcc[-2]': 'រី', 'kcc[-2]t': 'K2', 'kcc[-2:-1]': 'រីនិ', 'kcc[-2:0]': 'រីនិយ', 'kcc[-3]': 'សេ', 'kcc[-3]t': 'K2', 'kcc[-3:0]': 'សេរីនិយ', 'kcc[-3:-1]': 'សេរីនិ', 'kcc[-3:-2]': 'សេរី', 'kcc[+1]': 'ម', 'kcc[+1]t': 'C', 'kcc[+1:0]': 'យម', 'ns+1': False, 'kcc[+2]': 'នៅ', 'kcc[+2]t': 'K2', 'kcc[+1:+2]': 'មនៅ', 'kcc[0:+2]': 'យមនៅ', 'ns+2': False, 'kcc[+3]': 'ឆ្នាំ', 'kcc[+3]t': 'K5', 'kcc[+2:+3]': 'នៅឆ្នាំ', 'kcc[+1:+3]': 'មនៅឆ្នាំ', 'kcc[0:+3]': 'យមនៅឆ្នាំ'}, {'kcc': 'ម', 't': 'C', 'ns': False, 'kcc[-1]': 'យ', 'kcc[-1]t': 'C', 'kcc[-1:0]': 'យម', 'ns-1': False, 'kcc[-2]': 'និ', 'kcc[-2]t': 'K2', 'kcc[-2:-1]': 'និយ', 'kcc[-2:0]': 'និយម', 'kcc[-3]': 'រី', 'kcc[-3]t': 'K2', 'kcc[-3:0]': 'រីនិយម', 'kcc[-3:-1]': 'រីនិយ', 'kcc[-3:-2]': 'រីនិ', 'kcc[+1]': 'នៅ', 'kcc[+1]t': 'K2', 'kcc[+1:0]': 'មនៅ', 'ns+1': False, 'kcc[+2]': 'ឆ្នាំ', 'kcc[+2]t': 'K5', 'kcc[+1:+2]': 'នៅឆ្នាំ', 'kcc[0:+2]': 'មនៅឆ្នាំ', 'ns+2': False, 'kcc[+3]': '2004', 'kcc[+3]t': 'K4', 'kcc[+2:+3]': 'ឆ្នាំ2004', 'kcc[+1:+3]': 'នៅឆ្នាំ2004', 'kcc[0:+3]': 'មនៅឆ្នាំ2004'}, {'kcc': 'នៅ', 't': 'K2', 'ns': False, 'kcc[-1]': 'ម', 'kcc[-1]t': 'C', 'kcc[-1:0]': 'មនៅ', 'ns-1': False, 'kcc[-2]': 'យ', 'kcc[-2]t': 'C', 'kcc[-2:-1]': 'យម', 'kcc[-2:0]': 'យមនៅ', 'kcc[-3]': 'និ', 'kcc[-3]t': 'K2', 'kcc[-3:0]': 'និយមនៅ', 'kcc[-3:-1]': 'និយម', 'kcc[-3:-2]': 'និយ', 'kcc[+1]': 'ឆ្នាំ', 'kcc[+1]t': 'K5', 'kcc[+1:0]': 'នៅឆ្នាំ', 'ns+1': False, 'kcc[+2]': '2004', 'kcc[+2]t': 'K4', 'kcc[+1:+2]': 'ឆ្នាំ2004', 'kcc[0:+2]': 'នៅឆ្នាំ2004', 'ns+2': True, 'kcc[+3]': 'ដែ', 'kcc[+3]t': 'K2', 'kcc[+2:+3]': '2004ដែ', 'kcc[+1:+3]': 'ឆ្នាំ2004ដែ', 'kcc[0:+3]': 'នៅឆ្នាំ2004ដែ'}, {'kcc': 'ឆ្នាំ', 't': 'K5', 'ns': False, 'kcc[-1]': 'នៅ', 'kcc[-1]t': 'K2', 'kcc[-1:0]': 'នៅឆ្នាំ', 'ns-1': False, 'kcc[-2]': 'ម', 'kcc[-2]t': 'C', 'kcc[-2:-1]': 'មនៅ', 'kcc[-2:0]': 'មនៅឆ្នាំ', 'kcc[-3]': 'យ', 'kcc[-3]t': 'C', 'kcc[-3:0]': 'យមនៅឆ្នាំ', 'kcc[-3:-1]': 'យមនៅ', 'kcc[-3:-2]': 'យម', 'kcc[+1]': '2004', 'kcc[+1]t': 'K4', 'kcc[+1:0]': 'ឆ្នាំ2004', 'ns+1': True, 'kcc[+2]': 'ដែ', 'kcc[+2]t': 'K2', 'kcc[+1:+2]': '2004ដែ', 'kcc[0:+2]': 'ឆ្នាំ2004ដែ', 'ns+2': False, 'kcc[+3]': 'ល', 'kcc[+3]t': 'C', 'kcc[+2:+3]': 'ដែល', 'kcc[+1:+3]': '2004ដែល', 'kcc[0:+3]': 'ឆ្នាំ2004ដែល'}, {'kcc': '2004', 't': 'K4', 'ns': True, 'kcc[-1]': 'ឆ្នាំ', 'kcc[-1]t': 'K5', 'kcc[-1:0]': 'ឆ្នាំ2004', 'ns-1': False, 'kcc[-2]': 'នៅ', 'kcc[-2]t': 'K2', 'kcc[-2:-1]': 'នៅឆ្នាំ', 'kcc[-2:0]': 'នៅឆ្នាំ2004', 'kcc[-3]': 'ម', 'kcc[-3]t': 'C', 'kcc[-3:0]': 'មនៅឆ្នាំ2004', 'kcc[-3:-1]': 'មនៅឆ្នាំ', 'kcc[-3:-2]': 'មនៅ', 'kcc[+1]': 'ដែ', 'kcc[+1]t': 'K2', 'kcc[+1:0]': '2004ដែ', 'ns+1': False, 'kcc[+2]': 'ល', 'kcc[+2]t': 'C', 'kcc[+1:+2]': 'ដែល', 'kcc[0:+2]': '2004ដែល', 'ns+2': False, 'kcc[+3]': 'ត្រូ', 'kcc[+3]t': 'K4', 'kcc[+2:+3]': 'លត្រូ', 'kcc[+1:+3]': 'ដែលត្រូ', 'kcc[0:+3]': '2004ដែលត្រូ'}, {'kcc': 'ដែ', 't': 'K2', 'ns': False, 'kcc[-1]': '2004', 'kcc[-1]t': 'K4', 'kcc[-1:0]': '2004ដែ', 'ns-1': True, 'kcc[-2]': 'ឆ្នាំ', 'kcc[-2]t': 'K5', 'kcc[-2:-1]': 'ឆ្នាំ2004', 'kcc[-2:0]': 'ឆ្នាំ2004ដែ', 'kcc[-3]': 'នៅ', 'kcc[-3]t': 'K2', 'kcc[-3:0]': 'នៅឆ្នាំ2004ដែ', 'kcc[-3:-1]': 'នៅឆ្នាំ2004', 'kcc[-3:-2]': 'នៅឆ្នាំ', 'kcc[+1]': 'ល', 'kcc[+1]t': 'C', 'kcc[+1:0]': 'ដែល', 'ns+1': False, 'kcc[+2]': 'ត្រូ', 'kcc[+2]t': 'K4', 'kcc[+1:+2]': 'លត្រូ', 'kcc[0:+2]': 'ដែលត្រូ', 'ns+2': False, 'kcc[+3]': 'វ', 'kcc[+3]t': 'C', 'kcc[+2:+3]': 'ត្រូវ', 'kcc[+1:+3]': 'លត្រូវ', 'kcc[0:+3]': 'ដែលត្រូវ'}, {'kcc': 'ល', 't': 'C', 'ns': False, 'kcc[-1]': 'ដែ', 'kcc[-1]t': 'K2', 'kcc[-1:0]': 'ដែល', 'ns-1': False, 'kcc[-2]': '2004', 'kcc[-2]t': 'K4', 'kcc[-2:-1]': '2004ដែ', 'kcc[-2:0]': '2004ដែល', 'kcc[-3]': 'ឆ្នាំ', 'kcc[-3]t': 'K5', 'kcc[-3:0]': 'ឆ្នាំ2004ដែល', 'kcc[-3:-1]': 'ឆ្នាំ2004ដែ', 'kcc[-3:-2]': 'ឆ្នាំ2004', 'kcc[+1]': 'ត្រូ', 'kcc[+1]t': 'K4', 'kcc[+1:0]': 'លត្រូ', 'ns+1': False, 'kcc[+2]': 'វ', 'kcc[+2]t': 'C', 'kcc[+1:+2]': 'ត្រូវ', 'kcc[0:+2]': 'លត្រូវ', 'ns+2': False, 'kcc[+3]': 'ឈ', 'kcc[+3]t': 'C', 'kcc[+2:+3]': 'វឈ', 'kcc[+1:+3]': 'ត្រូវឈ', 'kcc[0:+3]': 'លត្រូវឈ'}, {'kcc': 'ត្រូ', 't': 'K4', 'ns': False, 'kcc[-1]': 'ល', 'kcc[-1]t': 'C', 'kcc[-1:0]': 'លត្រូ', 'ns-1': False, 'kcc[-2]': 'ដែ', 'kcc[-2]t': 'K2', 'kcc[-2:-1]': 'ដែល', 'kcc[-2:0]': 'ដែលត្រូ', 'kcc[-3]': '2004', 'kcc[-3]t': 'K4', 'kcc[-3:0]': '2004ដែលត្រូ', 'kcc[-3:-1]': '2004ដែល', 'kcc[-3:-2]': '2004ដែ', 'kcc[+1]': 'វ', 'kcc[+1]t': 'C', 'kcc[+1:0]': 'ត្រូវ', 'ns+1': False, 'kcc[+2]': 'ឈ', 'kcc[+2]t': 'C', 'kcc[+1:+2]': 'វឈ', 'kcc[0:+2]': 'ត្រូវឈ', 'ns+2': False, 'kcc[+3]': 'រ', 'kcc[+3]t': 'C', 'kcc[+2:+3]': 'ឈរ', 'kcc[+1:+3]': 'វឈរ', 'kcc[0:+3]': 'ត្រូវឈរ'}, {'kcc': 'វ', 't': 'C', 'ns': False, 'kcc[-1]': 'ត្រូ', 'kcc[-1]t': 'K4', 'kcc[-1:0]': 'ត្រូវ', 'ns-1': False, 'kcc[-2]': 'ល', 'kcc[-2]t': 'C', 'kcc[-2:-1]': 'លត្រូ', 'kcc[-2:0]': 'លត្រូវ', 'kcc[-3]': 'ដែ', 'kcc[-3]t': 'K2', 'kcc[-3:0]': 'ដែលត្រូវ', 'kcc[-3:-1]': 'ដែលត្រូ', 'kcc[-3:-2]': 'ដែល', 'kcc[+1]': 'ឈ', 'kcc[+1]t': 'C', 'kcc[+1:0]': 'វឈ', 'ns+1': False, 'kcc[+2]': 'រ', 'kcc[+2]t': 'C', 'kcc[+1:+2]': 'ឈរ', 'kcc[0:+2]': 'វឈរ', 'ns+2': False, 'kcc[+3]': 'ឈ្មោះ', 'kcc[+3]t': 'K5', 'kcc[+2:+3]': 'រឈ្មោះ', 'kcc[+1:+3]': 'ឈរឈ្មោះ', 'kcc[0:+3]': 'វឈរឈ្មោះ'}, {'kcc': 'ឈ', 't': 'C', 'ns': False, 'kcc[-1]': 'វ', 'kcc[-1]t': 'C', 'kcc[-1:0]': 'វឈ', 'ns-1': False, 'kcc[-2]': 'ត្រូ', 'kcc[-2]t': 'K4', 'kcc[-2:-1]': 'ត្រូវ', 'kcc[-2:0]': 'ត្រូវឈ', 'kcc[-3]': 'ល', 'kcc[-3]t': 'C', 'kcc[-3:0]': 'លត្រូវឈ', 'kcc[-3:-1]': 'លត្រូវ', 'kcc[-3:-2]': 'លត្រូ', 'kcc[+1]': 'រ', 'kcc[+1]t': 'C', 'kcc[+1:0]': 'ឈរ', 'ns+1': False, 'kcc[+2]': 'ឈ្មោះ', 'kcc[+2]t': 'K5', 'kcc[+1:+2]': 'រឈ្មោះ', 'kcc[0:+2]': 'ឈរឈ្មោះ', 'ns+2': False, 'kcc[+3]': 'ស', 'kcc[+3]t': 'C', 'kcc[+2:+3]': 'ឈ្មោះស', 'kcc[+1:+3]': 'រឈ្មោះស', 'kcc[0:+3]': 'ឈរឈ្មោះស'}, {'kcc': 'រ', 't': 'C', 'ns': False, 'kcc[-1]': 'ឈ', 'kcc[-1]t': 'C', 'kcc[-1:0]': 'ឈរ', 'ns-1': False, 'kcc[-2]': 'វ', 'kcc[-2]t': 'C', 'kcc[-2:-1]': 'វឈ', 'kcc[-2:0]': 'វឈរ', 'kcc[-3]': 'ត្រូ', 'kcc[-3]t': 'K4', 'kcc[-3:0]': 'ត្រូវឈរ', 'kcc[-3:-1]': 'ត្រូវឈ', 'kcc[-3:-2]': 'ត្រូវ', 'kcc[+1]': 'ឈ្មោះ', 'kcc[+1]t': 'K5', 'kcc[+1:0]': 'រឈ្មោះ', 'ns+1': False, 'kcc[+2]': 'ស', 'kcc[+2]t': 'C', 'kcc[+1:+2]': 'ឈ្មោះស', 'kcc[0:+2]': 'រឈ្មោះស', 'ns+2': False, 'kcc[+3]': 'ម្រា', 'kcc[+3]t': 'K4', 'kcc[+2:+3]': 'សម្រា', 'kcc[+1:+3]': 'ឈ្មោះសម្រា', 'kcc[0:+3]': 'រឈ្មោះសម្រា'}, {'kcc': 'ឈ្មោះ', 't': 'K5', 'ns': False, 'kcc[-1]': 'រ', 'kcc[-1]t': 'C', 'kcc[-1:0]': 'រឈ្មោះ', 'ns-1': False, 'kcc[-2]': 'ឈ', 'kcc[-2]t': 'C', 'kcc[-2:-1]': 'ឈរ', 'kcc[-2:0]': 'ឈរឈ្មោះ', 'kcc[-3]': 'វ', 'kcc[-3]t': 'C', 'kcc[-3:0]': 'វឈរឈ្មោះ', 'kcc[-3:-1]': 'វឈរ', 'kcc[-3:-2]': 'វឈ', 'kcc[+1]': 'ស', 'kcc[+1]t': 'C', 'kcc[+1:0]': 'ឈ្មោះស', 'ns+1': False, 'kcc[+2]': 'ម្រា', 'kcc[+2]t': 'K4', 'kcc[+1:+2]': 'សម្រា', 'kcc[0:+2]': 'ឈ្មោះសម្រា', 'ns+2': False, 'kcc[+3]': 'ប់', 'kcc[+3]t': 'K2', 'kcc[+2:+3]': 'ម្រាប់', 'kcc[+1:+3]': 'សម្រាប់', 'kcc[0:+3]': 'ឈ្មោះសម្រាប់'}, {'kcc': 'ស', 't': 'C', 'ns': False, 'kcc[-1]': 'ឈ្មោះ', 'kcc[-1]t': 'K5', 'kcc[-1:0]': 'ឈ្មោះស', 'ns-1': False, 'kcc[-2]': 'រ', 'kcc[-2]t': 'C', 'kcc[-2:-1]': 'រឈ្មោះ', 'kcc[-2:0]': 'រឈ្មោះស', 'kcc[-3]': 'ឈ', 'kcc[-3]t': 'C', 'kcc[-3:0]': 'ឈរឈ្មោះស', 'kcc[-3:-1]': 'ឈរឈ្មោះ', 'kcc[-3:-2]': 'ឈរ', 'kcc[+1]': 'ម្រា', 'kcc[+1]t': 'K4', 'kcc[+1:0]': 'សម្រា', 'ns+1': False, 'kcc[+2]': 'ប់', 'kcc[+2]t': 'K2', 'kcc[+1:+2]': 'ម្រាប់', 'kcc[0:+2]': 'សម្រាប់', 'ns+2': False, 'kcc[+3]': 'ព្រឹ', 'kcc[+3]t': 'K4', 'kcc[+2:+3]': 'ប់ព្រឹ', 'kcc[+1:+3]': 'ម្រាប់ព្រឹ', 'kcc[0:+3]': 'សម្រាប់ព្រឹ'}, {'kcc': 'ម្រា', 't': 'K4', 'ns': False, 'kcc[-1]': 'ស', 'kcc[-1]t': 'C', 'kcc[-1:0]': 'សម្រា', 'ns-1': False, 'kcc[-2]': 'ឈ្មោះ', 'kcc[-2]t': 'K5', 'kcc[-2:-1]': 'ឈ្មោះស', 'kcc[-2:0]': 'ឈ្មោះសម្រា', 'kcc[-3]': 'រ', 'kcc[-3]t': 'C', 'kcc[-3:0]': 'រឈ្មោះសម្រា', 'kcc[-3:-1]': 'រឈ្មោះស', 'kcc[-3:-2]': 'រឈ្មោះ', 'kcc[+1]': 'ប់', 'kcc[+1]t': 'K2', 'kcc[+1:0]': 'ម្រាប់', 'ns+1': False, 'kcc[+2]': 'ព្រឹ', 'kcc[+2]t': 'K4', 'kcc[+1:+2]': 'ប់ព្រឹ', 'kcc[0:+2]': 'ម្រាប់ព្រឹ', 'ns+2': False, 'kcc[+3]': 'ទ្ធ', 'kcc[+3]t': 'K3', 'kcc[+2:+3]': 'ព្រឹទ្ធ', 'kcc[+1:+3]': 'ប់ព្រឹទ្ធ', 'kcc[0:+3]': 'ម្រាប់ព្រឹទ្ធ'}, {'kcc': 'ប់', 't': 'K2', 'ns': False, 'kcc[-1]': 'ម្រា', 'kcc[-1]t': 'K4', 'kcc[-1:0]': 'ម្រាប់', 'ns-1': False, 'kcc[-2]': 'ស', 'kcc[-2]t': 'C', 'kcc[-2:-1]': 'សម្រា', 'kcc[-2:0]': 'សម្រាប់', 'kcc[-3]': 'ឈ្មោះ', 'kcc[-3]t': 'K5', 'kcc[-3:0]': 'ឈ្មោះសម្រាប់', 'kcc[-3:-1]': 'ឈ្មោះសម្រា', 'kcc[-3:-2]': 'ឈ្មោះស', 'kcc[+1]': 'ព្រឹ', 'kcc[+1]t': 'K4', 'kcc[+1:0]': 'ប់ព្រឹ', 'ns+1': False, 'kcc[+2]': 'ទ្ធ', 'kcc[+2]t': 'K3', 'kcc[+1:+2]': 'ព្រឹទ្ធ', 'kcc[0:+2]': 'ប់ព្រឹទ្ធ', 'ns+2': False, 'kcc[+3]': 'ស', 'kcc[+3]t': 'C', 'kcc[+2:+3]': 'ទ្ធស', 'kcc[+1:+3]': 'ព្រឹទ្ធស', 'kcc[0:+3]': 'ប់ព្រឹទ្ធស'}, {'kcc': 'ព្រឹ', 't': 'K4', 'ns': False, 'kcc[-1]': 'ប់', 'kcc[-1]t': 'K2', 'kcc[-1:0]': 'ប់ព្រឹ', 'ns-1': False, 'kcc[-2]': 'ម្រា', 'kcc[-2]t': 'K4', 'kcc[-2:-1]': 'ម្រាប់', 'kcc[-2:0]': 'ម្រាប់ព្រឹ', 'kcc[-3]': 'ស', 'kcc[-3]t': 'C', 'kcc[-3:0]': 'សម្រាប់ព្រឹ', 'kcc[-3:-1]': 'សម្រាប់', 'kcc[-3:-2]': 'សម្រា', 'kcc[+1]': 'ទ្ធ', 'kcc[+1]t': 'K3', 'kcc[+1:0]': 'ព្រឹទ្ធ', 'ns+1': False, 'kcc[+2]': 'ស', 'kcc[+2]t': 'C', 'kcc[+1:+2]': 'ទ្ធស', 'kcc[0:+2]': 'ព្រឹទ្ធស', 'ns+2': False, 'kcc[+3]': 'ភា', 'kcc[+3]t': 'K2', 'kcc[+2:+3]': 'សភា', 'kcc[+1:+3]': 'ទ្ធសភា', 'kcc[0:+3]': 'ព្រឹទ្ធសភា'}, {'kcc': 'ទ្ធ', 't': 'K3', 'ns': False, 'kcc[-1]': 'ព្រឹ', 'kcc[-1]t': 'K4', 'kcc[-1:0]': 'ព្រឹទ្ធ', 'ns-1': False, 'kcc[-2]': 'ប់', 'kcc[-2]t': 'K2', 'kcc[-2:-1]': 'ប់ព្រឹ', 'kcc[-2:0]': 'ប់ព្រឹទ្ធ', 'kcc[-3]': 'ម្រា', 'kcc[-3]t': 'K4', 'kcc[-3:0]': 'ម្រាប់ព្រឹទ្ធ', 'kcc[-3:-1]': 'ម្រាប់ព្រឹ', 'kcc[-3:-2]': 'ម្រាប់', 'kcc[+1]': 'ស', 'kcc[+1]t': 'C', 'kcc[+1:0]': 'ទ្ធស', 'ns+1': False, 'kcc[+2]': 'ភា', 'kcc[+2]t': 'K2', 'kcc[+1:+2]': 'សភា', 'kcc[0:+2]': 'ទ្ធសភា', 'ns+2': False, 'kcc[+3]': 'ស', 'kcc[+3]t': 'C', 'kcc[+2:+3]': 'ភាស', 'kcc[+1:+3]': 'សភាស', 'kcc[0:+3]': 'ទ្ធសភាស'}, {'kcc': 'ស', 't': 'C', 'ns': False, 'kcc[-1]': 'ទ្ធ', 'kcc[-1]t': 'K3', 'kcc[-1:0]': 'ទ្ធស', 'ns-1': False, 'kcc[-2]': 'ព្រឹ', 'kcc[-2]t': 'K4', 'kcc[-2:-1]': 'ព្រឹទ្ធ', 'kcc[-2:0]': 'ព្រឹទ្ធស', 'kcc[-3]': 'ប់', 'kcc[-3]t': 'K2', 'kcc[-3:0]': 'ប់ព្រឹទ្ធស', 'kcc[-3:-1]': 'ប់ព្រឹទ្ធ', 'kcc[-3:-2]': 'ប់ព្រឹ', 'kcc[+1]': 'ភា', 'kcc[+1]t': 'K2', 'kcc[+1:0]': 'សភា', 'ns+1': False, 'kcc[+2]': 'ស', 'kcc[+2]t': 'C', 'kcc[+1:+2]': 'ភាស', 'kcc[0:+2]': 'សភាស', 'ns+2': False, 'kcc[+3]': 'ហ', 'kcc[+3]t': 'C', 'kcc[+2:+3]': 'សហ', 'kcc[+1:+3]': 'ភាសហ', 'kcc[0:+3]': 'សភាសហ'}, {'kcc': 'ភា', 't': 'K2', 'ns': False, 'kcc[-1]': 'ស', 'kcc[-1]t': 'C', 'kcc[-1:0]': 'សភា', 'ns-1': False, 'kcc[-2]': 'ទ្ធ', 'kcc[-2]t': 'K3', 'kcc[-2:-1]': 'ទ្ធស', 'kcc[-2:0]': 'ទ្ធសភា', 'kcc[-3]': 'ព្រឹ', 'kcc[-3]t': 'K4', 'kcc[-3:0]': 'ព្រឹទ្ធសភា', 'kcc[-3:-1]': 'ព្រឹទ្ធស', 'kcc[-3:-2]': 'ព្រឹទ្ធ', 'kcc[+1]': 'ស', 'kcc[+1]t': 'C', 'kcc[+1:0]': 'ភាស', 'ns+1': False, 'kcc[+2]': 'ហ', 'kcc[+2]t': 'C', 'kcc[+1:+2]': 'សហ', 'kcc[0:+2]': 'ភាសហ', 'ns+2': False, 'kcc[+3]': 'រ', 'kcc[+3]t': 'C', 'kcc[+2:+3]': 'ហរ', 'kcc[+1:+3]': 'សហរ', 'kcc[0:+3]': 'ភាសហរ'}, {'kcc': 'ស', 't': 'C', 'ns': False, 'kcc[-1]': 'ភា', 'kcc[-1]t': 'K2', 'kcc[-1:0]': 'ភាស', 'ns-1': False, 'kcc[-2]': 'ស', 'kcc[-2]t': 'C', 'kcc[-2:-1]': 'សភា', 'kcc[-2:0]': 'សភាស', 'kcc[-3]': 'ទ្ធ', 'kcc[-3]t': 'K3', 'kcc[-3:0]': 'ទ្ធសភាស', 'kcc[-3:-1]': 'ទ្ធសភា', 'kcc[-3:-2]': 'ទ្ធស', 'kcc[+1]': 'ហ', 'kcc[+1]t': 'C', 'kcc[+1:0]': 'សហ', 'ns+1': False, 'kcc[+2]': 'រ', 'kcc[+2]t': 'C', 'kcc[+1:+2]': 'ហរ', 'kcc[0:+2]': 'សហរ', 'ns+2': False, 'kcc[+3]': 'ដ្ឋ', 'kcc[+3]t': 'K3', 'kcc[+2:+3]': 'រដ្ឋ', 'kcc[+1:+3]': 'ហរដ្ឋ', 'kcc[0:+3]': 'សហរដ្ឋ'}, {'kcc': 'ហ', 't': 'C', 'ns': False, 'kcc[-1]': 'ស', 'kcc[-1]t': 'C', 'kcc[-1:0]': 'សហ', 'ns-1': False, 'kcc[-2]': 'ភា', 'kcc[-2]t': 'K2', 'kcc[-2:-1]': 'ភាស', 'kcc[-2:0]': 'ភាសហ', 'kcc[-3]': 'ស', 'kcc[-3]t': 'C', 'kcc[-3:0]': 'សភាសហ', 'kcc[-3:-1]': 'សភាស', 'kcc[-3:-2]': 'សភា', 'kcc[+1]': 'រ', 'kcc[+1]t': 'C', 'kcc[+1:0]': 'ហរ', 'ns+1': False, 'kcc[+2]': 'ដ្ឋ', 'kcc[+2]t': 'K3', 'kcc[+1:+2]': 'រដ្ឋ', 'kcc[0:+2]': 'ហរដ្ឋ', 'ns+2': False, 'kcc[+3]': 'អា', 'kcc[+3]t': 'K2', 'kcc[+2:+3]': 'ដ្ឋអា', 'kcc[+1:+3]': 'រដ្ឋអា', 'kcc[0:+3]': 'ហរដ្ឋអា'}, {'kcc': 'រ', 't': 'C', 'ns': False, 'kcc[-1]': 'ហ', 'kcc[-1]t': 'C', 'kcc[-1:0]': 'ហរ', 'ns-1': False, 'kcc[-2]': 'ស', 'kcc[-2]t': 'C', 'kcc[-2:-1]': 'សហ', 'kcc[-2:0]': 'សហរ', 'kcc[-3]': 'ភា', 'kcc[-3]t': 'K2', 'kcc[-3:0]': 'ភាសហរ', 'kcc[-3:-1]': 'ភាសហ', 'kcc[-3:-2]': 'ភាស', 'kcc[+1]': 'ដ្ឋ', 'kcc[+1]t': 'K3', 'kcc[+1:0]': 'រដ្ឋ', 'ns+1': False, 'kcc[+2]': 'អា', 'kcc[+2]t': 'K2', 'kcc[+1:+2]': 'ដ្ឋអា', 'kcc[0:+2]': 'រដ្ឋអា', 'ns+2': False, 'kcc[+3]': 'មេ', 'kcc[+3]t': 'K2', 'kcc[+2:+3]': 'អាមេ', 'kcc[+1:+3]': 'ដ្ឋអាមេ', 'kcc[0:+3]': 'រដ្ឋអាមេ'}, {'kcc': 'ដ្ឋ', 't': 'K3', 'ns': False, 'kcc[-1]': 'រ', 'kcc[-1]t': 'C', 'kcc[-1:0]': 'រដ្ឋ', 'ns-1': False, 'kcc[-2]': 'ហ', 'kcc[-2]t': 'C', 'kcc[-2:-1]': 'ហរ', 'kcc[-2:0]': 'ហរដ្ឋ', 'kcc[-3]': 'ស', 'kcc[-3]t': 'C', 'kcc[-3:0]': 'សហរដ្ឋ', 'kcc[-3:-1]': 'សហរ', 'kcc[-3:-2]': 'សហ', 'kcc[+1]': 'អា', 'kcc[+1]t': 'K2', 'kcc[+1:0]': 'ដ្ឋអា', 'ns+1': False, 'kcc[+2]': 'មេ', 'kcc[+2]t': 'K2', 'kcc[+1:+2]': 'អាមេ', 'kcc[0:+2]': 'ដ្ឋអាមេ', 'ns+2': False, 'kcc[+3]': 'រិ', 'kcc[+3]t': 'K2', 'kcc[+2:+3]': 'មេរិ', 'kcc[+1:+3]': 'អាមេរិ', 'kcc[0:+3]': 'ដ្ឋអាមេរិ'}, {'kcc': 'អា', 't': 'K2', 'ns': False, 'kcc[-1]': 'ដ្ឋ', 'kcc[-1]t': 'K3', 'kcc[-1:0]': 'ដ្ឋអា', 'ns-1': False, 'kcc[-2]': 'រ', 'kcc[-2]t': 'C', 'kcc[-2:-1]': 'រដ្ឋ', 'kcc[-2:0]': 'រដ្ឋអា', 'kcc[-3]': 'ហ', 'kcc[-3]t': 'C', 'kcc[-3:0]': 'ហរដ្ឋអា', 'kcc[-3:-1]': 'ហរដ្ឋ', 'kcc[-3:-2]': 'ហរ', 'kcc[+1]': 'មេ', 'kcc[+1]t': 'K2', 'kcc[+1:0]': 'អាមេ', 'ns+1': False, 'kcc[+2]': 'រិ', 'kcc[+2]t': 'K2', 'kcc[+1:+2]': 'មេរិ', 'kcc[0:+2]': 'អាមេរិ', 'ns+2': False, 'kcc[+3]': 'ក', 'kcc[+3]t': 'C', 'kcc[+2:+3]': 'រិក', 'kcc[+1:+3]': 'មេរិក', 'kcc[0:+3]': 'អាមេរិក'}, {'kcc': 'មេ', 't': 'K2', 'ns': False, 'kcc[-1]': 'អា', 'kcc[-1]t': 'K2', 'kcc[-1:0]': 'អាមេ', 'ns-1': False, 'kcc[-2]': 'ដ្ឋ', 'kcc[-2]t': 'K3', 'kcc[-2:-1]': 'ដ្ឋអា', 'kcc[-2:0]': 'ដ្ឋអាមេ', 'kcc[-3]': 'រ', 'kcc[-3]t': 'C', 'kcc[-3:0]': 'រដ្ឋអាមេ', 'kcc[-3:-1]': 'រដ្ឋអា', 'kcc[-3:-2]': 'រដ្ឋ', 'kcc[+1]': 'រិ', 'kcc[+1]t': 'K2', 'kcc[+1:0]': 'មេរិ', 'ns+1': False, 'kcc[+2]': 'ក', 'kcc[+2]t': 'C', 'kcc[+1:+2]': 'រិក', 'kcc[0:+2]': 'មេរិក', 'ns+2': False, 'kcc[+3]': 'នៅ', 'kcc[+3]t': 'K2', 'kcc[+2:+3]': 'កនៅ', 'kcc[+1:+3]': 'រិកនៅ', 'kcc[0:+3]': 'មេរិកនៅ'}, {'kcc': 'រិ', 't': 'K2', 'ns': False, 'kcc[-1]': 'មេ', 'kcc[-1]t': 'K2', 'kcc[-1:0]': 'មេរិ', 'ns-1': False, 'kcc[-2]': 'អា', 'kcc[-2]t': 'K2', 'kcc[-2:-1]': 'អាមេ', 'kcc[-2:0]': 'អាមេរិ', 'kcc[-3]': 'ដ្ឋ', 'kcc[-3]t': 'K3', 'kcc[-3:0]': 'ដ្ឋអាមេរិ', 'kcc[-3:-1]': 'ដ្ឋអាមេ', 'kcc[-3:-2]': 'ដ្ឋអា', 'kcc[+1]': 'ក', 'kcc[+1]t': 'C', 'kcc[+1:0]': 'រិក', 'ns+1': False, 'kcc[+2]': 'នៅ', 'kcc[+2]t': 'K2', 'kcc[+1:+2]': 'កនៅ', 'kcc[0:+2]': 'រិកនៅ', 'ns+2': False, 'kcc[+3]': 'កា', 'kcc[+3]t': 'K2', 'kcc[+2:+3]': 'នៅកា', 'kcc[+1:+3]': 'កនៅកា', 'kcc[0:+3]': 'រិកនៅកា'}, {'kcc': 'ក', 't': 'C', 'ns': False, 'kcc[-1]': 'រិ', 'kcc[-1]t': 'K2', 'kcc[-1:0]': 'រិក', 'ns-1': False, 'kcc[-2]': 'មេ', 'kcc[-2]t': 'K2', 'kcc[-2:-1]': 'មេរិ', 'kcc[-2:0]': 'មេរិក', 'kcc[-3]': 'អា', 'kcc[-3]t': 'K2', 'kcc[-3:0]': 'អាមេរិក', 'kcc[-3:-1]': 'អាមេរិ', 'kcc[-3:-2]': 'អាមេ', 'kcc[+1]': 'នៅ', 'kcc[+1]t': 'K2', 'kcc[+1:0]': 'កនៅ', 'ns+1': False, 'kcc[+2]': 'កា', 'kcc[+2]t': 'K2', 'kcc[+1:+2]': 'នៅកា', 'kcc[0:+2]': 'កនៅកា', 'ns+2': False, 'kcc[+3]': 'លី', 'kcc[+3]t': 'K2', 'kcc[+2:+3]': 'កាលី', 'kcc[+1:+3]': 'នៅកាលី', 'kcc[0:+3]': 'កនៅកាលី'}, {'kcc': 'នៅ', 't': 'K2', 'ns': False, 'kcc[-1]': 'ក', 'kcc[-1]t': 'C', 'kcc[-1:0]': 'កនៅ', 'ns-1': False, 'kcc[-2]': 'រិ', 'kcc[-2]t': 'K2', 'kcc[-2:-1]': 'រិក', 'kcc[-2:0]': 'រិកនៅ', 'kcc[-3]': 'មេ', 'kcc[-3]t': 'K2', 'kcc[-3:0]': 'មេរិកនៅ', 'kcc[-3:-1]': 'មេរិក', 'kcc[-3:-2]': 'មេរិ', 'kcc[+1]': 'កា', 'kcc[+1]t': 'K2', 'kcc[+1:0]': 'នៅកា', 'ns+1': False, 'kcc[+2]': 'លី', 'kcc[+2]t': 'K2', 'kcc[+1:+2]': 'កាលី', 'kcc[0:+2]': 'នៅកាលី', 'ns+2': False, 'kcc[+3]': 'ហ្វ', 'kcc[+3]t': 'K3', 'kcc[+2:+3]': 'លីហ្វ', 'kcc[+1:+3]': 'កាលីហ្វ', 'kcc[0:+3]': 'នៅកាលីហ្វ'}, {'kcc': 'កា', 't': 'K2', 'ns': False, 'kcc[-1]': 'នៅ', 'kcc[-1]t': 'K2', 'kcc[-1:0]': 'នៅកា', 'ns-1': False, 'kcc[-2]': 'ក', 'kcc[-2]t': 'C', 'kcc[-2:-1]': 'កនៅ', 'kcc[-2:0]': 'កនៅកា', 'kcc[-3]': 'រិ', 'kcc[-3]t': 'K2', 'kcc[-3:0]': 'រិកនៅកា', 'kcc[-3:-1]': 'រិកនៅ', 'kcc[-3:-2]': 'រិក', 'kcc[+1]': 'លី', 'kcc[+1]t': 'K2', 'kcc[+1:0]': 'កាលី', 'ns+1': False, 'kcc[+2]': 'ហ្វ', 'kcc[+2]t': 'K3', 'kcc[+1:+2]': 'លីហ្វ', 'kcc[0:+2]': 'កាលីហ្វ', 'ns+2': False, 'kcc[+3]': 'ញ៉ា', 'kcc[+3]t': 'K3', 'kcc[+2:+3]': 'ហ្វញ៉ា', 'kcc[+1:+3]': 'លីហ្វញ៉ា', 'kcc[0:+3]': 'កាលីហ្វញ៉ា'}, {'kcc': 'លី', 't': 'K2', 'ns': False, 'kcc[-1]': 'កា', 'kcc[-1]t': 'K2', 'kcc[-1:0]': 'កាលី', 'ns-1': False, 'kcc[-2]': 'នៅ', 'kcc[-2]t': 'K2', 'kcc[-2:-1]': 'នៅកា', 'kcc[-2:0]': 'នៅកាលី', 'kcc[-3]': 'ក', 'kcc[-3]t': 'C', 'kcc[-3:0]': 'កនៅកាលី', 'kcc[-3:-1]': 'កនៅកា', 'kcc[-3:-2]': 'កនៅ', 'kcc[+1]': 'ហ្វ', 'kcc[+1]t': 'K3', 'kcc[+1:0]': 'លីហ្វ', 'ns+1': False, 'kcc[+2]': 'ញ៉ា', 'kcc[+2]t': 'K3', 'kcc[+1:+2]': 'ហ្វញ៉ា', 'kcc[0:+2]': 'លីហ្វញ៉ា', 'ns+2': False, 'kcc[+3]': '។', 'kcc[+3]t': 'NS', 'kcc[+2:+3]': 'ញ៉ា។', 'kcc[+1:+3]': 'ហ្វញ៉ា។', 'kcc[0:+3]': 'លីហ្វញ៉ា។'}, {'kcc': 'ហ្វ', 't': 'K3', 'ns': False, 'kcc[-1]': 'លី', 'kcc[-1]t': 'K2', 'kcc[-1:0]': 'លីហ្វ', 'ns-1': False, 'kcc[-2]': 'កា', 'kcc[-2]t': 'K2', 'kcc[-2:-1]': 'កាលី', 'kcc[-2:0]': 'កាលីហ្វ', 'kcc[-3]': 'នៅ', 'kcc[-3]t': 'K2', 'kcc[-3:0]': 'នៅកាលីហ្វ', 'kcc[-3:-1]': 'នៅកាលី', 'kcc[-3:-2]': 'នៅកា', 'kcc[+1]': 'ញ៉ា', 'kcc[+1]t': 'K3', 'kcc[+1:0]': 'ហ្វញ៉ា', 'ns+1': False, 'kcc[+2]': '។', 'kcc[+2]t': 'NS', 'kcc[+1:+2]': 'ញ៉ា។', 'kcc[0:+2]': 'ហ្វញ៉ា។', 'ns+2': True}, {'kcc': 'ញ៉ា', 't': 'K3', 'ns': False, 'kcc[-1]': 'ហ្វ', 'kcc[-1]t': 'K3', 'kcc[-1:0]': 'ហ្វញ៉ា', 'ns-1': False, 'kcc[-2]': 'លី', 'kcc[-2]t': 'K2', 'kcc[-2:-1]': 'លីហ្វ', 'kcc[-2:0]': 'លីហ្វញ៉ា', 'kcc[-3]': 'កា', 'kcc[-3]t': 'K2', 'kcc[-3:0]': 'កាលីហ្វញ៉ា', 'kcc[-3:-1]': 'កាលីហ្វ', 'kcc[-3:-2]': 'កាលី', 'kcc[+1]': '។', 'kcc[+1]t': 'NS', 'kcc[+1:0]': 'ញ៉ា។', 'ns+1': True}, {'kcc': '។', 't': 'NS', 'ns': True, 'kcc[-1]': 'ញ៉ា', 'kcc[-1]t': 'K3', 'kcc[-1:0]': 'ញ៉ា។', 'ns-1': False, 'kcc[-2]': 'ហ្វ', 'kcc[-2]t': 'K3', 'kcc[-2:-1]': 'ហ្វញ៉ា', 'kcc[-2:0]': 'ហ្វញ៉ា។', 'kcc[-3]': 'លី', 'kcc[-3]t': 'K2', 'kcc[-3:0]': 'លីហ្វញ៉ា។', 'kcc[-3:-1]': 'លីហ្វញ៉ា', 'kcc[-3:-2]': 'លីហ្វ', 'EOS': True}]\n",
            "len train y: 800 ['1', '0', '1', '0', '1', '0', '1', '1', '1', '0', '0', '0', '1', '0', '0', '0', '0', '0', '1', '1', '1', '1', '0', '1', '0', '1', '1', '0', '1', '0', '1', '0', '1', '0', '0', '1', '1', '1', '1', '0', '1', '0', '1', '0', '1', '1', '0', '0', '1', '0', '1', '0', '1', '0', '1', '0', '1', '0', '0', '0', '1', '1', '0', '0', '0', '1']\n",
            "len test X: 200 [{'kcc': 'កា', 't': 'K2', 'ns': False, 'BOS': True, 'kcc[+1]': 'រ', 'kcc[+1]t': 'C', 'kcc[+1:0]': 'ការ', 'ns+1': False, 'kcc[+2]': 'ឈ្នះ', 'kcc[+2]t': 'K4', 'kcc[+1:+2]': 'រឈ្នះ', 'kcc[0:+2]': 'ការឈ្នះ', 'ns+2': False, 'kcc[+3]': 'ធ្វើ', 'kcc[+3]t': 'K4', 'kcc[+2:+3]': 'ឈ្នះធ្វើ', 'kcc[+1:+3]': 'រឈ្នះធ្វើ', 'kcc[0:+3]': 'ការឈ្នះធ្វើ'}, {'kcc': 'រ', 't': 'C', 'ns': False, 'kcc[-1]': 'កា', 'kcc[-1]t': 'K2', 'kcc[-1:0]': 'ការ', 'ns-1': False, 'kcc[+1]': 'ឈ្នះ', 'kcc[+1]t': 'K4', 'kcc[+1:0]': 'រឈ្នះ', 'ns+1': False, 'kcc[+2]': 'ធ្វើ', 'kcc[+2]t': 'K4', 'kcc[+1:+2]': 'ឈ្នះធ្វើ', 'kcc[0:+2]': 'រឈ្នះធ្វើ', 'ns+2': False, 'kcc[+3]': 'ឲ្យ', 'kcc[+3]t': 'K3', 'kcc[+2:+3]': 'ធ្វើឲ្យ', 'kcc[+1:+3]': 'ឈ្នះធ្វើឲ្យ', 'kcc[0:+3]': 'រឈ្នះធ្វើឲ្យ'}, {'kcc': 'ឈ្នះ', 't': 'K4', 'ns': False, 'kcc[-1]': 'រ', 'kcc[-1]t': 'C', 'kcc[-1:0]': 'រឈ្នះ', 'ns-1': False, 'kcc[-2]': 'កា', 'kcc[-2]t': 'K2', 'kcc[-2:-1]': 'ការ', 'kcc[-2:0]': 'ការឈ្នះ', 'kcc[+1]': 'ធ្វើ', 'kcc[+1]t': 'K4', 'kcc[+1:0]': 'ឈ្នះធ្វើ', 'ns+1': False, 'kcc[+2]': 'ឲ្យ', 'kcc[+2]t': 'K3', 'kcc[+1:+2]': 'ធ្វើឲ្យ', 'kcc[0:+2]': 'ឈ្នះធ្វើឲ្យ', 'ns+2': False, 'kcc[+3]': 'ច', 'kcc[+3]t': 'C', 'kcc[+2:+3]': 'ឲ្យច', 'kcc[+1:+3]': 'ធ្វើឲ្យច', 'kcc[0:+3]': 'ឈ្នះធ្វើឲ្យច'}, {'kcc': 'ធ្វើ', 't': 'K4', 'ns': False, 'kcc[-1]': 'ឈ្នះ', 'kcc[-1]t': 'K4', 'kcc[-1:0]': 'ឈ្នះធ្វើ', 'ns-1': False, 'kcc[-2]': 'រ', 'kcc[-2]t': 'C', 'kcc[-2:-1]': 'រឈ្នះ', 'kcc[-2:0]': 'រឈ្នះធ្វើ', 'kcc[-3]': 'កា', 'kcc[-3]t': 'K2', 'kcc[-3:0]': 'ការឈ្នះធ្វើ', 'kcc[-3:-1]': 'ការឈ្នះ', 'kcc[-3:-2]': 'ការ', 'kcc[+1]': 'ឲ្យ', 'kcc[+1]t': 'K3', 'kcc[+1:0]': 'ធ្វើឲ្យ', 'ns+1': False, 'kcc[+2]': 'ច', 'kcc[+2]t': 'C', 'kcc[+1:+2]': 'ឲ្យច', 'kcc[0:+2]': 'ធ្វើឲ្យច', 'ns+2': False, 'kcc[+3]': 'ន', 'kcc[+3]t': 'C', 'kcc[+2:+3]': 'ចន', 'kcc[+1:+3]': 'ឲ្យចន', 'kcc[0:+3]': 'ធ្វើឲ្យចន'}, {'kcc': 'ឲ្យ', 't': 'K3', 'ns': False, 'kcc[-1]': 'ធ្វើ', 'kcc[-1]t': 'K4', 'kcc[-1:0]': 'ធ្វើឲ្យ', 'ns-1': False, 'kcc[-2]': 'ឈ្នះ', 'kcc[-2]t': 'K4', 'kcc[-2:-1]': 'ឈ្នះធ្វើ', 'kcc[-2:0]': 'ឈ្នះធ្វើឲ្យ', 'kcc[-3]': 'រ', 'kcc[-3]t': 'C', 'kcc[-3:0]': 'រឈ្នះធ្វើឲ្យ', 'kcc[-3:-1]': 'រឈ្នះធ្វើ', 'kcc[-3:-2]': 'រឈ្នះ', 'kcc[+1]': 'ច', 'kcc[+1]t': 'C', 'kcc[+1:0]': 'ឲ្យច', 'ns+1': False, 'kcc[+2]': 'ន', 'kcc[+2]t': 'C', 'kcc[+1:+2]': 'ចន', 'kcc[0:+2]': 'ឲ្យចន', 'ns+2': False, 'kcc[+3]': 'សុ', 'kcc[+3]t': 'K2', 'kcc[+2:+3]': 'នសុ', 'kcc[+1:+3]': 'ចនសុ', 'kcc[0:+3]': 'ឲ្យចនសុ'}, {'kcc': 'ច', 't': 'C', 'ns': False, 'kcc[-1]': 'ឲ្យ', 'kcc[-1]t': 'K3', 'kcc[-1:0]': 'ឲ្យច', 'ns-1': False, 'kcc[-2]': 'ធ្វើ', 'kcc[-2]t': 'K4', 'kcc[-2:-1]': 'ធ្វើឲ្យ', 'kcc[-2:0]': 'ធ្វើឲ្យច', 'kcc[-3]': 'ឈ្នះ', 'kcc[-3]t': 'K4', 'kcc[-3:0]': 'ឈ្នះធ្វើឲ្យច', 'kcc[-3:-1]': 'ឈ្នះធ្វើឲ្យ', 'kcc[-3:-2]': 'ឈ្នះធ្វើ', 'kcc[+1]': 'ន', 'kcc[+1]t': 'C', 'kcc[+1:0]': 'ចន', 'ns+1': False, 'kcc[+2]': 'សុ', 'kcc[+2]t': 'K2', 'kcc[+1:+2]': 'នសុ', 'kcc[0:+2]': 'ចនសុ', 'ns+2': False, 'kcc[+3]': 'ន', 'kcc[+3]t': 'C', 'kcc[+2:+3]': 'សុន', 'kcc[+1:+3]': 'នសុន', 'kcc[0:+3]': 'ចនសុន'}, {'kcc': 'ន', 't': 'C', 'ns': False, 'kcc[-1]': 'ច', 'kcc[-1]t': 'C', 'kcc[-1:0]': 'ចន', 'ns-1': False, 'kcc[-2]': 'ឲ្យ', 'kcc[-2]t': 'K3', 'kcc[-2:-1]': 'ឲ្យច', 'kcc[-2:0]': 'ឲ្យចន', 'kcc[-3]': 'ធ្វើ', 'kcc[-3]t': 'K4', 'kcc[-3:0]': 'ធ្វើឲ្យចន', 'kcc[-3:-1]': 'ធ្វើឲ្យច', 'kcc[-3:-2]': 'ធ្វើឲ្យ', 'kcc[+1]': 'សុ', 'kcc[+1]t': 'K2', 'kcc[+1:0]': 'នសុ', 'ns+1': False, 'kcc[+2]': 'ន', 'kcc[+2]t': 'C', 'kcc[+1:+2]': 'សុន', 'kcc[0:+2]': 'នសុន', 'ns+2': False, 'kcc[+3]': 'ទ', 'kcc[+3]t': 'C', 'kcc[+2:+3]': 'នទ', 'kcc[+1:+3]': 'សុនទ', 'kcc[0:+3]': 'នសុនទ'}, {'kcc': 'សុ', 't': 'K2', 'ns': False, 'kcc[-1]': 'ន', 'kcc[-1]t': 'C', 'kcc[-1:0]': 'នសុ', 'ns-1': False, 'kcc[-2]': 'ច', 'kcc[-2]t': 'C', 'kcc[-2:-1]': 'ចន', 'kcc[-2:0]': 'ចនសុ', 'kcc[-3]': 'ឲ្យ', 'kcc[-3]t': 'K3', 'kcc[-3:0]': 'ឲ្យចនសុ', 'kcc[-3:-1]': 'ឲ្យចន', 'kcc[-3:-2]': 'ឲ្យច', 'kcc[+1]': 'ន', 'kcc[+1]t': 'C', 'kcc[+1:0]': 'សុន', 'ns+1': False, 'kcc[+2]': 'ទ', 'kcc[+2]t': 'C', 'kcc[+1:+2]': 'នទ', 'kcc[0:+2]': 'សុនទ', 'ns+2': False, 'kcc[+3]': 'ទួ', 'kcc[+3]t': 'K2', 'kcc[+2:+3]': 'ទទួ', 'kcc[+1:+3]': 'នទទួ', 'kcc[0:+3]': 'សុនទទួ'}, {'kcc': 'ន', 't': 'C', 'ns': False, 'kcc[-1]': 'សុ', 'kcc[-1]t': 'K2', 'kcc[-1:0]': 'សុន', 'ns-1': False, 'kcc[-2]': 'ន', 'kcc[-2]t': 'C', 'kcc[-2:-1]': 'នសុ', 'kcc[-2:0]': 'នសុន', 'kcc[-3]': 'ច', 'kcc[-3]t': 'C', 'kcc[-3:0]': 'ចនសុន', 'kcc[-3:-1]': 'ចនសុ', 'kcc[-3:-2]': 'ចន', 'kcc[+1]': 'ទ', 'kcc[+1]t': 'C', 'kcc[+1:0]': 'នទ', 'ns+1': False, 'kcc[+2]': 'ទួ', 'kcc[+2]t': 'K2', 'kcc[+1:+2]': 'ទទួ', 'kcc[0:+2]': 'នទទួ', 'ns+2': False, 'kcc[+3]': 'ល', 'kcc[+3]t': 'C', 'kcc[+2:+3]': 'ទួល', 'kcc[+1:+3]': 'ទទួល', 'kcc[0:+3]': 'នទទួល'}, {'kcc': 'ទ', 't': 'C', 'ns': False, 'kcc[-1]': 'ន', 'kcc[-1]t': 'C', 'kcc[-1:0]': 'នទ', 'ns-1': False, 'kcc[-2]': 'សុ', 'kcc[-2]t': 'K2', 'kcc[-2:-1]': 'សុន', 'kcc[-2:0]': 'សុនទ', 'kcc[-3]': 'ន', 'kcc[-3]t': 'C', 'kcc[-3:0]': 'នសុនទ', 'kcc[-3:-1]': 'នសុន', 'kcc[-3:-2]': 'នសុ', 'kcc[+1]': 'ទួ', 'kcc[+1]t': 'K2', 'kcc[+1:0]': 'ទទួ', 'ns+1': False, 'kcc[+2]': 'ល', 'kcc[+2]t': 'C', 'kcc[+1:+2]': 'ទួល', 'kcc[0:+2]': 'ទទួល', 'ns+2': False, 'kcc[+3]': 'បា', 'kcc[+3]t': 'K2', 'kcc[+2:+3]': 'លបា', 'kcc[+1:+3]': 'ទួលបា', 'kcc[0:+3]': 'ទទួលបា'}, {'kcc': 'ទួ', 't': 'K2', 'ns': False, 'kcc[-1]': 'ទ', 'kcc[-1]t': 'C', 'kcc[-1:0]': 'ទទួ', 'ns-1': False, 'kcc[-2]': 'ន', 'kcc[-2]t': 'C', 'kcc[-2:-1]': 'នទ', 'kcc[-2:0]': 'នទទួ', 'kcc[-3]': 'សុ', 'kcc[-3]t': 'K2', 'kcc[-3:0]': 'សុនទទួ', 'kcc[-3:-1]': 'សុនទ', 'kcc[-3:-2]': 'សុន', 'kcc[+1]': 'ល', 'kcc[+1]t': 'C', 'kcc[+1:0]': 'ទួល', 'ns+1': False, 'kcc[+2]': 'បា', 'kcc[+2]t': 'K2', 'kcc[+1:+2]': 'លបា', 'kcc[0:+2]': 'ទួលបា', 'ns+2': False, 'kcc[+3]': 'ន', 'kcc[+3]t': 'C', 'kcc[+2:+3]': 'បាន', 'kcc[+1:+3]': 'លបាន', 'kcc[0:+3]': 'ទួលបាន'}, {'kcc': 'ល', 't': 'C', 'ns': False, 'kcc[-1]': 'ទួ', 'kcc[-1]t': 'K2', 'kcc[-1:0]': 'ទួល', 'ns-1': False, 'kcc[-2]': 'ទ', 'kcc[-2]t': 'C', 'kcc[-2:-1]': 'ទទួ', 'kcc[-2:0]': 'ទទួល', 'kcc[-3]': 'ន', 'kcc[-3]t': 'C', 'kcc[-3:0]': 'នទទួល', 'kcc[-3:-1]': 'នទទួ', 'kcc[-3:-2]': 'នទ', 'kcc[+1]': 'បា', 'kcc[+1]t': 'K2', 'kcc[+1:0]': 'លបា', 'ns+1': False, 'kcc[+2]': 'ន', 'kcc[+2]t': 'C', 'kcc[+1:+2]': 'បាន', 'kcc[0:+2]': 'លបាន', 'ns+2': False, 'kcc[+3]': '190', 'kcc[+3]t': 'K3', 'kcc[+2:+3]': 'ន190', 'kcc[+1:+3]': 'បាន190', 'kcc[0:+3]': 'លបាន190'}, {'kcc': 'បា', 't': 'K2', 'ns': False, 'kcc[-1]': 'ល', 'kcc[-1]t': 'C', 'kcc[-1:0]': 'លបា', 'ns-1': False, 'kcc[-2]': 'ទួ', 'kcc[-2]t': 'K2', 'kcc[-2:-1]': 'ទួល', 'kcc[-2:0]': 'ទួលបា', 'kcc[-3]': 'ទ', 'kcc[-3]t': 'C', 'kcc[-3:0]': 'ទទួលបា', 'kcc[-3:-1]': 'ទទួល', 'kcc[-3:-2]': 'ទទួ', 'kcc[+1]': 'ន', 'kcc[+1]t': 'C', 'kcc[+1:0]': 'បាន', 'ns+1': False, 'kcc[+2]': '190', 'kcc[+2]t': 'K3', 'kcc[+1:+2]': 'ន190', 'kcc[0:+2]': 'បាន190', 'ns+2': True, 'kcc[+3]': 'ពិ', 'kcc[+3]t': 'K2', 'kcc[+2:+3]': '190ពិ', 'kcc[+1:+3]': 'ន190ពិ', 'kcc[0:+3]': 'បាន190ពិ'}, {'kcc': 'ន', 't': 'C', 'ns': False, 'kcc[-1]': 'បា', 'kcc[-1]t': 'K2', 'kcc[-1:0]': 'បាន', 'ns-1': False, 'kcc[-2]': 'ល', 'kcc[-2]t': 'C', 'kcc[-2:-1]': 'លបា', 'kcc[-2:0]': 'លបាន', 'kcc[-3]': 'ទួ', 'kcc[-3]t': 'K2', 'kcc[-3:0]': 'ទួលបាន', 'kcc[-3:-1]': 'ទួលបា', 'kcc[-3:-2]': 'ទួល', 'kcc[+1]': '190', 'kcc[+1]t': 'K3', 'kcc[+1:0]': 'ន190', 'ns+1': True, 'kcc[+2]': 'ពិ', 'kcc[+2]t': 'K2', 'kcc[+1:+2]': '190ពិ', 'kcc[0:+2]': 'ន190ពិ', 'ns+2': False, 'kcc[+3]': 'ន្ទុ', 'kcc[+3]t': 'K4', 'kcc[+2:+3]': 'ពិន្ទុ', 'kcc[+1:+3]': '190ពិន្ទុ', 'kcc[0:+3]': 'ន190ពិន្ទុ'}, {'kcc': '190', 't': 'K3', 'ns': True, 'kcc[-1]': 'ន', 'kcc[-1]t': 'C', 'kcc[-1:0]': 'ន190', 'ns-1': False, 'kcc[-2]': 'បា', 'kcc[-2]t': 'K2', 'kcc[-2:-1]': 'បាន', 'kcc[-2:0]': 'បាន190', 'kcc[-3]': 'ល', 'kcc[-3]t': 'C', 'kcc[-3:0]': 'លបាន190', 'kcc[-3:-1]': 'លបាន', 'kcc[-3:-2]': 'លបា', 'kcc[+1]': 'ពិ', 'kcc[+1]t': 'K2', 'kcc[+1:0]': '190ពិ', 'ns+1': False, 'kcc[+2]': 'ន្ទុ', 'kcc[+2]t': 'K4', 'kcc[+1:+2]': 'ពិន្ទុ', 'kcc[0:+2]': '190ពិន្ទុ', 'ns+2': False, 'kcc[+3]': '(', 'kcc[+3]t': 'NS', 'kcc[+2:+3]': 'ន្ទុ(', 'kcc[+1:+3]': 'ពិន្ទុ(', 'kcc[0:+3]': '190ពិន្ទុ('}, {'kcc': 'ពិ', 't': 'K2', 'ns': False, 'kcc[-1]': '190', 'kcc[-1]t': 'K3', 'kcc[-1:0]': '190ពិ', 'ns-1': True, 'kcc[-2]': 'ន', 'kcc[-2]t': 'C', 'kcc[-2:-1]': 'ន190', 'kcc[-2:0]': 'ន190ពិ', 'kcc[-3]': 'បា', 'kcc[-3]t': 'K2', 'kcc[-3:0]': 'បាន190ពិ', 'kcc[-3:-1]': 'បាន190', 'kcc[-3:-2]': 'បាន', 'kcc[+1]': 'ន្ទុ', 'kcc[+1]t': 'K4', 'kcc[+1:0]': 'ពិន្ទុ', 'ns+1': False, 'kcc[+2]': '(', 'kcc[+2]t': 'NS', 'kcc[+1:+2]': 'ន្ទុ(', 'kcc[0:+2]': 'ពិន្ទុ(', 'ns+2': True, 'kcc[+3]': 'រូ', 'kcc[+3]t': 'K2', 'kcc[+2:+3]': '(រូ', 'kcc[+1:+3]': 'ន្ទុ(រូ', 'kcc[0:+3]': 'ពិន្ទុ(រូ'}, {'kcc': 'ន្ទុ', 't': 'K4', 'ns': False, 'kcc[-1]': 'ពិ', 'kcc[-1]t': 'K2', 'kcc[-1:0]': 'ពិន្ទុ', 'ns-1': False, 'kcc[-2]': '190', 'kcc[-2]t': 'K3', 'kcc[-2:-1]': '190ពិ', 'kcc[-2:0]': '190ពិន្ទុ', 'kcc[-3]': 'ន', 'kcc[-3]t': 'C', 'kcc[-3:0]': 'ន190ពិន្ទុ', 'kcc[-3:-1]': 'ន190ពិ', 'kcc[-3:-2]': 'ន190', 'kcc[+1]': '(', 'kcc[+1]t': 'NS', 'kcc[+1:0]': 'ន្ទុ(', 'ns+1': True, 'kcc[+2]': 'រូ', 'kcc[+2]t': 'K2', 'kcc[+1:+2]': '(រូ', 'kcc[0:+2]': 'ន្ទុ(រូ', 'ns+2': False, 'kcc[+3]': 'ម', 'kcc[+3]t': 'C', 'kcc[+2:+3]': 'រូម', 'kcc[+1:+3]': '(រូម', 'kcc[0:+3]': 'ន្ទុ(រូម'}, {'kcc': '(', 't': 'NS', 'ns': True, 'kcc[-1]': 'ន្ទុ', 'kcc[-1]t': 'K4', 'kcc[-1:0]': 'ន្ទុ(', 'ns-1': False, 'kcc[-2]': 'ពិ', 'kcc[-2]t': 'K2', 'kcc[-2:-1]': 'ពិន្ទុ', 'kcc[-2:0]': 'ពិន្ទុ(', 'kcc[-3]': '190', 'kcc[-3]t': 'K3', 'kcc[-3:0]': '190ពិន្ទុ(', 'kcc[-3:-1]': '190ពិន្ទុ', 'kcc[-3:-2]': '190ពិ', 'kcc[+1]': 'រូ', 'kcc[+1]t': 'K2', 'kcc[+1:0]': '(រូ', 'ns+1': False, 'kcc[+2]': 'ម', 'kcc[+2]t': 'C', 'kcc[+1:+2]': 'រូម', 'kcc[0:+2]': '(រូម', 'ns+2': False, 'kcc[+3]': 'ទាំ', 'kcc[+3]t': 'K3', 'kcc[+2:+3]': 'មទាំ', 'kcc[+1:+3]': 'រូមទាំ', 'kcc[0:+3]': '(រូមទាំ'}, {'kcc': 'រូ', 't': 'K2', 'ns': False, 'kcc[-1]': '(', 'kcc[-1]t': 'NS', 'kcc[-1:0]': '(រូ', 'ns-1': True, 'kcc[-2]': 'ន្ទុ', 'kcc[-2]t': 'K4', 'kcc[-2:-1]': 'ន្ទុ(', 'kcc[-2:0]': 'ន្ទុ(រូ', 'kcc[-3]': 'ពិ', 'kcc[-3]t': 'K2', 'kcc[-3:0]': 'ពិន្ទុ(រូ', 'kcc[-3:-1]': 'ពិន្ទុ(', 'kcc[-3:-2]': 'ពិន្ទុ', 'kcc[+1]': 'ម', 'kcc[+1]t': 'C', 'kcc[+1:0]': 'រូម', 'ns+1': False, 'kcc[+2]': 'ទាំ', 'kcc[+2]t': 'K3', 'kcc[+1:+2]': 'មទាំ', 'kcc[0:+2]': 'រូមទាំ', 'ns+2': False, 'kcc[+3]': 'ង', 'kcc[+3]t': 'C', 'kcc[+2:+3]': 'ទាំង', 'kcc[+1:+3]': 'មទាំង', 'kcc[0:+3]': 'រូមទាំង'}, {'kcc': 'ម', 't': 'C', 'ns': False, 'kcc[-1]': 'រូ', 'kcc[-1]t': 'K2', 'kcc[-1:0]': 'រូម', 'ns-1': False, 'kcc[-2]': '(', 'kcc[-2]t': 'NS', 'kcc[-2:-1]': '(រូ', 'kcc[-2:0]': '(រូម', 'kcc[-3]': 'ន្ទុ', 'kcc[-3]t': 'K4', 'kcc[-3:0]': 'ន្ទុ(រូម', 'kcc[-3:-1]': 'ន្ទុ(រូ', 'kcc[-3:-2]': 'ន្ទុ(', 'kcc[+1]': 'ទាំ', 'kcc[+1]t': 'K3', 'kcc[+1:0]': 'មទាំ', 'ns+1': False, 'kcc[+2]': 'ង', 'kcc[+2]t': 'C', 'kcc[+1:+2]': 'ទាំង', 'kcc[0:+2]': 'មទាំង', 'ns+2': False, 'kcc[+3]': '5', 'kcc[+3]t': 'NS', 'kcc[+2:+3]': 'ង5', 'kcc[+1:+3]': 'ទាំង5', 'kcc[0:+3]': 'មទាំង5'}, {'kcc': 'ទាំ', 't': 'K3', 'ns': False, 'kcc[-1]': 'ម', 'kcc[-1]t': 'C', 'kcc[-1:0]': 'មទាំ', 'ns-1': False, 'kcc[-2]': 'រូ', 'kcc[-2]t': 'K2', 'kcc[-2:-1]': 'រូម', 'kcc[-2:0]': 'រូមទាំ', 'kcc[-3]': '(', 'kcc[-3]t': 'NS', 'kcc[-3:0]': '(រូមទាំ', 'kcc[-3:-1]': '(រូម', 'kcc[-3:-2]': '(រូ', 'kcc[+1]': 'ង', 'kcc[+1]t': 'C', 'kcc[+1:0]': 'ទាំង', 'ns+1': False, 'kcc[+2]': '5', 'kcc[+2]t': 'NS', 'kcc[+1:+2]': 'ង5', 'kcc[0:+2]': 'ទាំង5', 'ns+2': True, 'kcc[+3]': 'ពិ', 'kcc[+3]t': 'K2', 'kcc[+2:+3]': '5ពិ', 'kcc[+1:+3]': 'ង5ពិ', 'kcc[0:+3]': 'ទាំង5ពិ'}, {'kcc': 'ង', 't': 'C', 'ns': False, 'kcc[-1]': 'ទាំ', 'kcc[-1]t': 'K3', 'kcc[-1:0]': 'ទាំង', 'ns-1': False, 'kcc[-2]': 'ម', 'kcc[-2]t': 'C', 'kcc[-2:-1]': 'មទាំ', 'kcc[-2:0]': 'មទាំង', 'kcc[-3]': 'រូ', 'kcc[-3]t': 'K2', 'kcc[-3:0]': 'រូមទាំង', 'kcc[-3:-1]': 'រូមទាំ', 'kcc[-3:-2]': 'រូម', 'kcc[+1]': '5', 'kcc[+1]t': 'NS', 'kcc[+1:0]': 'ង5', 'ns+1': True, 'kcc[+2]': 'ពិ', 'kcc[+2]t': 'K2', 'kcc[+1:+2]': '5ពិ', 'kcc[0:+2]': 'ង5ពិ', 'ns+2': False, 'kcc[+3]': 'ន្ទុ', 'kcc[+3]t': 'K4', 'kcc[+2:+3]': 'ពិន្ទុ', 'kcc[+1:+3]': '5ពិន្ទុ', 'kcc[0:+3]': 'ង5ពិន្ទុ'}, {'kcc': '5', 't': 'NS', 'ns': True, 'kcc[-1]': 'ង', 'kcc[-1]t': 'C', 'kcc[-1:0]': 'ង5', 'ns-1': False, 'kcc[-2]': 'ទាំ', 'kcc[-2]t': 'K3', 'kcc[-2:-1]': 'ទាំង', 'kcc[-2:0]': 'ទាំង5', 'kcc[-3]': 'ម', 'kcc[-3]t': 'C', 'kcc[-3:0]': 'មទាំង5', 'kcc[-3:-1]': 'មទាំង', 'kcc[-3:-2]': 'មទាំ', 'kcc[+1]': 'ពិ', 'kcc[+1]t': 'K2', 'kcc[+1:0]': '5ពិ', 'ns+1': False, 'kcc[+2]': 'ន្ទុ', 'kcc[+2]t': 'K4', 'kcc[+1:+2]': 'ពិន្ទុ', 'kcc[0:+2]': '5ពិន្ទុ', 'ns+2': False, 'kcc[+3]': 'ជា', 'kcc[+3]t': 'K2', 'kcc[+2:+3]': 'ន្ទុជា', 'kcc[+1:+3]': 'ពិន្ទុជា', 'kcc[0:+3]': '5ពិន្ទុជា'}, {'kcc': 'ពិ', 't': 'K2', 'ns': False, 'kcc[-1]': '5', 'kcc[-1]t': 'NS', 'kcc[-1:0]': '5ពិ', 'ns-1': True, 'kcc[-2]': 'ង', 'kcc[-2]t': 'C', 'kcc[-2:-1]': 'ង5', 'kcc[-2:0]': 'ង5ពិ', 'kcc[-3]': 'ទាំ', 'kcc[-3]t': 'K3', 'kcc[-3:0]': 'ទាំង5ពិ', 'kcc[-3:-1]': 'ទាំង5', 'kcc[-3:-2]': 'ទាំង', 'kcc[+1]': 'ន្ទុ', 'kcc[+1]t': 'K4', 'kcc[+1:0]': 'ពិន្ទុ', 'ns+1': False, 'kcc[+2]': 'ជា', 'kcc[+2]t': 'K2', 'kcc[+1:+2]': 'ន្ទុជា', 'kcc[0:+2]': 'ពិន្ទុជា', 'ns+2': False, 'kcc[+3]': 'រ', 'kcc[+3]t': 'C', 'kcc[+2:+3]': 'ជារ', 'kcc[+1:+3]': 'ន្ទុជារ', 'kcc[0:+3]': 'ពិន្ទុជារ'}, {'kcc': 'ន្ទុ', 't': 'K4', 'ns': False, 'kcc[-1]': 'ពិ', 'kcc[-1]t': 'K2', 'kcc[-1:0]': 'ពិន្ទុ', 'ns-1': False, 'kcc[-2]': '5', 'kcc[-2]t': 'NS', 'kcc[-2:-1]': '5ពិ', 'kcc[-2:0]': '5ពិន្ទុ', 'kcc[-3]': 'ង', 'kcc[-3]t': 'C', 'kcc[-3:0]': 'ង5ពិន្ទុ', 'kcc[-3:-1]': 'ង5ពិ', 'kcc[-3:-2]': 'ង5', 'kcc[+1]': 'ជា', 'kcc[+1]t': 'K2', 'kcc[+1:0]': 'ន្ទុជា', 'ns+1': False, 'kcc[+2]': 'រ', 'kcc[+2]t': 'C', 'kcc[+1:+2]': 'ជារ', 'kcc[0:+2]': 'ន្ទុជារ', 'ns+2': False, 'kcc[+3]': 'ង្វា', 'kcc[+3]t': 'K4', 'kcc[+2:+3]': 'រង្វា', 'kcc[+1:+3]': 'ជារង្វា', 'kcc[0:+3]': 'ន្ទុជារង្វា'}, {'kcc': 'ជា', 't': 'K2', 'ns': False, 'kcc[-1]': 'ន្ទុ', 'kcc[-1]t': 'K4', 'kcc[-1:0]': 'ន្ទុជា', 'ns-1': False, 'kcc[-2]': 'ពិ', 'kcc[-2]t': 'K2', 'kcc[-2:-1]': 'ពិន្ទុ', 'kcc[-2:0]': 'ពិន្ទុជា', 'kcc[-3]': '5', 'kcc[-3]t': 'NS', 'kcc[-3:0]': '5ពិន្ទុជា', 'kcc[-3:-1]': '5ពិន្ទុ', 'kcc[-3:-2]': '5ពិ', 'kcc[+1]': 'រ', 'kcc[+1]t': 'C', 'kcc[+1:0]': 'ជារ', 'ns+1': False, 'kcc[+2]': 'ង្វា', 'kcc[+2]t': 'K4', 'kcc[+1:+2]': 'រង្វា', 'kcc[0:+2]': 'ជារង្វា', 'ns+2': False, 'kcc[+3]': 'ន់', 'kcc[+3]t': 'K2', 'kcc[+2:+3]': 'ង្វាន់', 'kcc[+1:+3]': 'រង្វាន់', 'kcc[0:+3]': 'ជារង្វាន់'}, {'kcc': 'រ', 't': 'C', 'ns': False, 'kcc[-1]': 'ជា', 'kcc[-1]t': 'K2', 'kcc[-1:0]': 'ជារ', 'ns-1': False, 'kcc[-2]': 'ន្ទុ', 'kcc[-2]t': 'K4', 'kcc[-2:-1]': 'ន្ទុជា', 'kcc[-2:0]': 'ន្ទុជារ', 'kcc[-3]': 'ពិ', 'kcc[-3]t': 'K2', 'kcc[-3:0]': 'ពិន្ទុជារ', 'kcc[-3:-1]': 'ពិន្ទុជា', 'kcc[-3:-2]': 'ពិន្ទុ', 'kcc[+1]': 'ង្វា', 'kcc[+1]t': 'K4', 'kcc[+1:0]': 'រង្វា', 'ns+1': False, 'kcc[+2]': 'ន់', 'kcc[+2]t': 'K2', 'kcc[+1:+2]': 'ង្វាន់', 'kcc[0:+2]': 'រង្វាន់', 'ns+2': False, 'kcc[+3]': ')', 'kcc[+3]t': 'NS', 'kcc[+2:+3]': 'ន់)', 'kcc[+1:+3]': 'ង្វាន់)', 'kcc[0:+3]': 'រង្វាន់)'}, {'kcc': 'ង្វា', 't': 'K4', 'ns': False, 'kcc[-1]': 'រ', 'kcc[-1]t': 'C', 'kcc[-1:0]': 'រង្វា', 'ns-1': False, 'kcc[-2]': 'ជា', 'kcc[-2]t': 'K2', 'kcc[-2:-1]': 'ជារ', 'kcc[-2:0]': 'ជារង្វា', 'kcc[-3]': 'ន្ទុ', 'kcc[-3]t': 'K4', 'kcc[-3:0]': 'ន្ទុជារង្វា', 'kcc[-3:-1]': 'ន្ទុជារ', 'kcc[-3:-2]': 'ន្ទុជា', 'kcc[+1]': 'ន់', 'kcc[+1]t': 'K2', 'kcc[+1:0]': 'ង្វាន់', 'ns+1': False, 'kcc[+2]': ')', 'kcc[+2]t': 'NS', 'kcc[+1:+2]': 'ន់)', 'kcc[0:+2]': 'ង្វាន់)', 'ns+2': True, 'kcc[+3]': 'ធ្វើ', 'kcc[+3]t': 'K4', 'kcc[+2:+3]': ')ធ្វើ', 'kcc[+1:+3]': 'ន់)ធ្វើ', 'kcc[0:+3]': 'ង្វាន់)ធ្វើ'}, {'kcc': 'ន់', 't': 'K2', 'ns': False, 'kcc[-1]': 'ង្វា', 'kcc[-1]t': 'K4', 'kcc[-1:0]': 'ង្វាន់', 'ns-1': False, 'kcc[-2]': 'រ', 'kcc[-2]t': 'C', 'kcc[-2:-1]': 'រង្វា', 'kcc[-2:0]': 'រង្វាន់', 'kcc[-3]': 'ជា', 'kcc[-3]t': 'K2', 'kcc[-3:0]': 'ជារង្វាន់', 'kcc[-3:-1]': 'ជារង្វា', 'kcc[-3:-2]': 'ជារ', 'kcc[+1]': ')', 'kcc[+1]t': 'NS', 'kcc[+1:0]': 'ន់)', 'ns+1': True, 'kcc[+2]': 'ធ្វើ', 'kcc[+2]t': 'K4', 'kcc[+1:+2]': ')ធ្វើ', 'kcc[0:+2]': 'ន់)ធ្វើ', 'ns+2': False, 'kcc[+3]': 'ឲ្យ', 'kcc[+3]t': 'K3', 'kcc[+2:+3]': 'ធ្វើឲ្យ', 'kcc[+1:+3]': ')ធ្វើឲ្យ', 'kcc[0:+3]': 'ន់)ធ្វើឲ្យ'}, {'kcc': ')', 't': 'NS', 'ns': True, 'kcc[-1]': 'ន់', 'kcc[-1]t': 'K2', 'kcc[-1:0]': 'ន់)', 'ns-1': False, 'kcc[-2]': 'ង្វា', 'kcc[-2]t': 'K4', 'kcc[-2:-1]': 'ង្វាន់', 'kcc[-2:0]': 'ង្វាន់)', 'kcc[-3]': 'រ', 'kcc[-3]t': 'C', 'kcc[-3:0]': 'រង្វាន់)', 'kcc[-3:-1]': 'រង្វាន់', 'kcc[-3:-2]': 'រង្វា', 'kcc[+1]': 'ធ្វើ', 'kcc[+1]t': 'K4', 'kcc[+1:0]': ')ធ្វើ', 'ns+1': False, 'kcc[+2]': 'ឲ្យ', 'kcc[+2]t': 'K3', 'kcc[+1:+2]': 'ធ្វើឲ្យ', 'kcc[0:+2]': ')ធ្វើឲ្យ', 'ns+2': False, 'kcc[+3]': 'គា', 'kcc[+3]t': 'K2', 'kcc[+2:+3]': 'ឲ្យគា', 'kcc[+1:+3]': 'ធ្វើឲ្យគា', 'kcc[0:+3]': ')ធ្វើឲ្យគា'}, {'kcc': 'ធ្វើ', 't': 'K4', 'ns': False, 'kcc[-1]': ')', 'kcc[-1]t': 'NS', 'kcc[-1:0]': ')ធ្វើ', 'ns-1': True, 'kcc[-2]': 'ន់', 'kcc[-2]t': 'K2', 'kcc[-2:-1]': 'ន់)', 'kcc[-2:0]': 'ន់)ធ្វើ', 'kcc[-3]': 'ង្វា', 'kcc[-3]t': 'K4', 'kcc[-3:0]': 'ង្វាន់)ធ្វើ', 'kcc[-3:-1]': 'ង្វាន់)', 'kcc[-3:-2]': 'ង្វាន់', 'kcc[+1]': 'ឲ្យ', 'kcc[+1]t': 'K3', 'kcc[+1:0]': 'ធ្វើឲ្យ', 'ns+1': False, 'kcc[+2]': 'គា', 'kcc[+2]t': 'K2', 'kcc[+1:+2]': 'ឲ្យគា', 'kcc[0:+2]': 'ធ្វើឲ្យគា', 'ns+2': False, 'kcc[+3]': 'ត់', 'kcc[+3]t': 'K2', 'kcc[+2:+3]': 'គាត់', 'kcc[+1:+3]': 'ឲ្យគាត់', 'kcc[0:+3]': 'ធ្វើឲ្យគាត់'}, {'kcc': 'ឲ្យ', 't': 'K3', 'ns': False, 'kcc[-1]': 'ធ្វើ', 'kcc[-1]t': 'K4', 'kcc[-1:0]': 'ធ្វើឲ្យ', 'ns-1': False, 'kcc[-2]': ')', 'kcc[-2]t': 'NS', 'kcc[-2:-1]': ')ធ្វើ', 'kcc[-2:0]': ')ធ្វើឲ្យ', 'kcc[-3]': 'ន់', 'kcc[-3]t': 'K2', 'kcc[-3:0]': 'ន់)ធ្វើឲ្យ', 'kcc[-3:-1]': 'ន់)ធ្វើ', 'kcc[-3:-2]': 'ន់)', 'kcc[+1]': 'គា', 'kcc[+1]t': 'K2', 'kcc[+1:0]': 'ឲ្យគា', 'ns+1': False, 'kcc[+2]': 'ត់', 'kcc[+2]t': 'K2', 'kcc[+1:+2]': 'គាត់', 'kcc[0:+2]': 'ឲ្យគាត់', 'ns+2': False, 'kcc[+3]': 'ឡើ', 'kcc[+3]t': 'K2', 'kcc[+2:+3]': 'ត់ឡើ', 'kcc[+1:+3]': 'គាត់ឡើ', 'kcc[0:+3]': 'ឲ្យគាត់ឡើ'}, {'kcc': 'គា', 't': 'K2', 'ns': False, 'kcc[-1]': 'ឲ្យ', 'kcc[-1]t': 'K3', 'kcc[-1:0]': 'ឲ្យគា', 'ns-1': False, 'kcc[-2]': 'ធ្វើ', 'kcc[-2]t': 'K4', 'kcc[-2:-1]': 'ធ្វើឲ្យ', 'kcc[-2:0]': 'ធ្វើឲ្យគា', 'kcc[-3]': ')', 'kcc[-3]t': 'NS', 'kcc[-3:0]': ')ធ្វើឲ្យគា', 'kcc[-3:-1]': ')ធ្វើឲ្យ', 'kcc[-3:-2]': ')ធ្វើ', 'kcc[+1]': 'ត់', 'kcc[+1]t': 'K2', 'kcc[+1:0]': 'គាត់', 'ns+1': False, 'kcc[+2]': 'ឡើ', 'kcc[+2]t': 'K2', 'kcc[+1:+2]': 'ត់ឡើ', 'kcc[0:+2]': 'គាត់ឡើ', 'ns+2': False, 'kcc[+3]': 'ង', 'kcc[+3]t': 'C', 'kcc[+2:+3]': 'ឡើង', 'kcc[+1:+3]': 'ត់ឡើង', 'kcc[0:+3]': 'គាត់ឡើង'}, {'kcc': 'ត់', 't': 'K2', 'ns': False, 'kcc[-1]': 'គា', 'kcc[-1]t': 'K2', 'kcc[-1:0]': 'គាត់', 'ns-1': False, 'kcc[-2]': 'ឲ្យ', 'kcc[-2]t': 'K3', 'kcc[-2:-1]': 'ឲ្យគា', 'kcc[-2:0]': 'ឲ្យគាត់', 'kcc[-3]': 'ធ្វើ', 'kcc[-3]t': 'K4', 'kcc[-3:0]': 'ធ្វើឲ្យគាត់', 'kcc[-3:-1]': 'ធ្វើឲ្យគា', 'kcc[-3:-2]': 'ធ្វើឲ្យ', 'kcc[+1]': 'ឡើ', 'kcc[+1]t': 'K2', 'kcc[+1:0]': 'ត់ឡើ', 'ns+1': False, 'kcc[+2]': 'ង', 'kcc[+2]t': 'C', 'kcc[+1:+2]': 'ឡើង', 'kcc[0:+2]': 'ត់ឡើង', 'ns+2': False, 'kcc[+3]': 'ជិ', 'kcc[+3]t': 'K2', 'kcc[+2:+3]': 'ងជិ', 'kcc[+1:+3]': 'ឡើងជិ', 'kcc[0:+3]': 'ត់ឡើងជិ'}, {'kcc': 'ឡើ', 't': 'K2', 'ns': False, 'kcc[-1]': 'ត់', 'kcc[-1]t': 'K2', 'kcc[-1:0]': 'ត់ឡើ', 'ns-1': False, 'kcc[-2]': 'គា', 'kcc[-2]t': 'K2', 'kcc[-2:-1]': 'គាត់', 'kcc[-2:0]': 'គាត់ឡើ', 'kcc[-3]': 'ឲ្យ', 'kcc[-3]t': 'K3', 'kcc[-3:0]': 'ឲ្យគាត់ឡើ', 'kcc[-3:-1]': 'ឲ្យគាត់', 'kcc[-3:-2]': 'ឲ្យគា', 'kcc[+1]': 'ង', 'kcc[+1]t': 'C', 'kcc[+1:0]': 'ឡើង', 'ns+1': False, 'kcc[+2]': 'ជិ', 'kcc[+2]t': 'K2', 'kcc[+1:+2]': 'ងជិ', 'kcc[0:+2]': 'ឡើងជិ', 'ns+2': False, 'kcc[+3]': 'ត', 'kcc[+3]t': 'C', 'kcc[+2:+3]': 'ជិត', 'kcc[+1:+3]': 'ងជិត', 'kcc[0:+3]': 'ឡើងជិត'}, {'kcc': 'ង', 't': 'C', 'ns': False, 'kcc[-1]': 'ឡើ', 'kcc[-1]t': 'K2', 'kcc[-1:0]': 'ឡើង', 'ns-1': False, 'kcc[-2]': 'ត់', 'kcc[-2]t': 'K2', 'kcc[-2:-1]': 'ត់ឡើ', 'kcc[-2:0]': 'ត់ឡើង', 'kcc[-3]': 'គា', 'kcc[-3]t': 'K2', 'kcc[-3:0]': 'គាត់ឡើង', 'kcc[-3:-1]': 'គាត់ឡើ', 'kcc[-3:-2]': 'គាត់', 'kcc[+1]': 'ជិ', 'kcc[+1]t': 'K2', 'kcc[+1:0]': 'ងជិ', 'ns+1': False, 'kcc[+2]': 'ត', 'kcc[+2]t': 'C', 'kcc[+1:+2]': 'ជិត', 'kcc[0:+2]': 'ងជិត', 'ns+2': False, 'kcc[+3]': 'ដ', 'kcc[+3]t': 'C', 'kcc[+2:+3]': 'តដ', 'kcc[+1:+3]': 'ជិតដ', 'kcc[0:+3]': 'ងជិតដ'}, {'kcc': 'ជិ', 't': 'K2', 'ns': False, 'kcc[-1]': 'ង', 'kcc[-1]t': 'C', 'kcc[-1:0]': 'ងជិ', 'ns-1': False, 'kcc[-2]': 'ឡើ', 'kcc[-2]t': 'K2', 'kcc[-2:-1]': 'ឡើង', 'kcc[-2:0]': 'ឡើងជិ', 'kcc[-3]': 'ត់', 'kcc[-3]t': 'K2', 'kcc[-3:0]': 'ត់ឡើងជិ', 'kcc[-3:-1]': 'ត់ឡើង', 'kcc[-3:-2]': 'ត់ឡើ', 'kcc[+1]': 'ត', 'kcc[+1]t': 'C', 'kcc[+1:0]': 'ជិត', 'ns+1': False, 'kcc[+2]': 'ដ', 'kcc[+2]t': 'C', 'kcc[+1:+2]': 'តដ', 'kcc[0:+2]': 'ជិតដ', 'ns+2': False, 'kcc[+3]': 'ល់', 'kcc[+3]t': 'K2', 'kcc[+2:+3]': 'ដល់', 'kcc[+1:+3]': 'តដល់', 'kcc[0:+3]': 'ជិតដល់'}, {'kcc': 'ត', 't': 'C', 'ns': False, 'kcc[-1]': 'ជិ', 'kcc[-1]t': 'K2', 'kcc[-1:0]': 'ជិត', 'ns-1': False, 'kcc[-2]': 'ង', 'kcc[-2]t': 'C', 'kcc[-2:-1]': 'ងជិ', 'kcc[-2:0]': 'ងជិត', 'kcc[-3]': 'ឡើ', 'kcc[-3]t': 'K2', 'kcc[-3:0]': 'ឡើងជិត', 'kcc[-3:-1]': 'ឡើងជិ', 'kcc[-3:-2]': 'ឡើង', 'kcc[+1]': 'ដ', 'kcc[+1]t': 'C', 'kcc[+1:0]': 'តដ', 'ns+1': False, 'kcc[+2]': 'ល់', 'kcc[+2]t': 'K2', 'kcc[+1:+2]': 'ដល់', 'kcc[0:+2]': 'តដល់', 'ns+2': False, 'kcc[+3]': 'ខេ', 'kcc[+3]t': 'K2', 'kcc[+2:+3]': 'ល់ខេ', 'kcc[+1:+3]': 'ដល់ខេ', 'kcc[0:+3]': 'តដល់ខេ'}, {'kcc': 'ដ', 't': 'C', 'ns': False, 'kcc[-1]': 'ត', 'kcc[-1]t': 'C', 'kcc[-1:0]': 'តដ', 'ns-1': False, 'kcc[-2]': 'ជិ', 'kcc[-2]t': 'K2', 'kcc[-2:-1]': 'ជិត', 'kcc[-2:0]': 'ជិតដ', 'kcc[-3]': 'ង', 'kcc[-3]t': 'C', 'kcc[-3:0]': 'ងជិតដ', 'kcc[-3:-1]': 'ងជិត', 'kcc[-3:-2]': 'ងជិ', 'kcc[+1]': 'ល់', 'kcc[+1]t': 'K2', 'kcc[+1:0]': 'ដល់', 'ns+1': False, 'kcc[+2]': 'ខេ', 'kcc[+2]t': 'K2', 'kcc[+1:+2]': 'ល់ខេ', 'kcc[0:+2]': 'ដល់ខេ', 'ns+2': False, 'kcc[+3]': 'វិ', 'kcc[+3]t': 'K2', 'kcc[+2:+3]': 'ខេវិ', 'kcc[+1:+3]': 'ល់ខេវិ', 'kcc[0:+3]': 'ដល់ខេវិ'}, {'kcc': 'ល់', 't': 'K2', 'ns': False, 'kcc[-1]': 'ដ', 'kcc[-1]t': 'C', 'kcc[-1:0]': 'ដល់', 'ns-1': False, 'kcc[-2]': 'ត', 'kcc[-2]t': 'C', 'kcc[-2:-1]': 'តដ', 'kcc[-2:0]': 'តដល់', 'kcc[-3]': 'ជិ', 'kcc[-3]t': 'K2', 'kcc[-3:0]': 'ជិតដល់', 'kcc[-3:-1]': 'ជិតដ', 'kcc[-3:-2]': 'ជិត', 'kcc[+1]': 'ខេ', 'kcc[+1]t': 'K2', 'kcc[+1:0]': 'ល់ខេ', 'ns+1': False, 'kcc[+2]': 'វិ', 'kcc[+2]t': 'K2', 'kcc[+1:+2]': 'ខេវិ', 'kcc[0:+2]': 'ល់ខេវិ', 'ns+2': False, 'kcc[+3]': 'ន', 'kcc[+3]t': 'C', 'kcc[+2:+3]': 'វិន', 'kcc[+1:+3]': 'ខេវិន', 'kcc[0:+3]': 'ល់ខេវិន'}, {'kcc': 'ខេ', 't': 'K2', 'ns': False, 'kcc[-1]': 'ល់', 'kcc[-1]t': 'K2', 'kcc[-1:0]': 'ល់ខេ', 'ns-1': False, 'kcc[-2]': 'ដ', 'kcc[-2]t': 'C', 'kcc[-2:-1]': 'ដល់', 'kcc[-2:0]': 'ដល់ខេ', 'kcc[-3]': 'ត', 'kcc[-3]t': 'C', 'kcc[-3:0]': 'តដល់ខេ', 'kcc[-3:-1]': 'តដល់', 'kcc[-3:-2]': 'តដ', 'kcc[+1]': 'វិ', 'kcc[+1]t': 'K2', 'kcc[+1:0]': 'ខេវិ', 'ns+1': False, 'kcc[+2]': 'ន', 'kcc[+2]t': 'C', 'kcc[+1:+2]': 'វិន', 'kcc[0:+2]': 'ខេវិន', 'ns+2': False, 'kcc[+3]': 'ហា', 'kcc[+3]t': 'K2', 'kcc[+2:+3]': 'នហា', 'kcc[+1:+3]': 'វិនហា', 'kcc[0:+3]': 'ខេវិនហា'}, {'kcc': 'វិ', 't': 'K2', 'ns': False, 'kcc[-1]': 'ខេ', 'kcc[-1]t': 'K2', 'kcc[-1:0]': 'ខេវិ', 'ns-1': False, 'kcc[-2]': 'ល់', 'kcc[-2]t': 'K2', 'kcc[-2:-1]': 'ល់ខេ', 'kcc[-2:0]': 'ល់ខេវិ', 'kcc[-3]': 'ដ', 'kcc[-3]t': 'C', 'kcc[-3:0]': 'ដល់ខេវិ', 'kcc[-3:-1]': 'ដល់ខេ', 'kcc[-3:-2]': 'ដល់', 'kcc[+1]': 'ន', 'kcc[+1]t': 'C', 'kcc[+1:0]': 'វិន', 'ns+1': False, 'kcc[+2]': 'ហា', 'kcc[+2]t': 'K2', 'kcc[+1:+2]': 'នហា', 'kcc[0:+2]': 'វិនហា', 'ns+2': False, 'kcc[+3]': 'វិ', 'kcc[+3]t': 'K2', 'kcc[+2:+3]': 'ហាវិ', 'kcc[+1:+3]': 'នហាវិ', 'kcc[0:+3]': 'វិនហាវិ'}, {'kcc': 'ន', 't': 'C', 'ns': False, 'kcc[-1]': 'វិ', 'kcc[-1]t': 'K2', 'kcc[-1:0]': 'វិន', 'ns-1': False, 'kcc[-2]': 'ខេ', 'kcc[-2]t': 'K2', 'kcc[-2:-1]': 'ខេវិ', 'kcc[-2:0]': 'ខេវិន', 'kcc[-3]': 'ល់', 'kcc[-3]t': 'K2', 'kcc[-3:0]': 'ល់ខេវិន', 'kcc[-3:-1]': 'ល់ខេវិ', 'kcc[-3:-2]': 'ល់ខេ', 'kcc[+1]': 'ហា', 'kcc[+1]t': 'K2', 'kcc[+1:0]': 'នហា', 'ns+1': False, 'kcc[+2]': 'វិ', 'kcc[+2]t': 'K2', 'kcc[+1:+2]': 'ហាវិ', 'kcc[0:+2]': 'នហាវិ', 'ns+2': False, 'kcc[+3]': 'ក', 'kcc[+3]t': 'C', 'kcc[+2:+3]': 'វិក', 'kcc[+1:+3]': 'ហាវិក', 'kcc[0:+3]': 'នហាវិក'}, {'kcc': 'ហា', 't': 'K2', 'ns': False, 'kcc[-1]': 'ន', 'kcc[-1]t': 'C', 'kcc[-1:0]': 'នហា', 'ns-1': False, 'kcc[-2]': 'វិ', 'kcc[-2]t': 'K2', 'kcc[-2:-1]': 'វិន', 'kcc[-2:0]': 'វិនហា', 'kcc[-3]': 'ខេ', 'kcc[-3]t': 'K2', 'kcc[-3:0]': 'ខេវិនហា', 'kcc[-3:-1]': 'ខេវិន', 'kcc[-3:-2]': 'ខេវិ', 'kcc[+1]': 'វិ', 'kcc[+1]t': 'K2', 'kcc[+1:0]': 'ហាវិ', 'ns+1': False, 'kcc[+2]': 'ក', 'kcc[+2]t': 'C', 'kcc[+1:+2]': 'វិក', 'kcc[0:+2]': 'ហាវិក', 'ns+2': False, 'kcc[+3]': 'អ្ន', 'kcc[+3]t': 'K3', 'kcc[+2:+3]': 'កអ្ន', 'kcc[+1:+3]': 'វិកអ្ន', 'kcc[0:+3]': 'ហាវិកអ្ន'}, {'kcc': 'វិ', 't': 'K2', 'ns': False, 'kcc[-1]': 'ហា', 'kcc[-1]t': 'K2', 'kcc[-1:0]': 'ហាវិ', 'ns-1': False, 'kcc[-2]': 'ន', 'kcc[-2]t': 'C', 'kcc[-2:-1]': 'នហា', 'kcc[-2:0]': 'នហាវិ', 'kcc[-3]': 'វិ', 'kcc[-3]t': 'K2', 'kcc[-3:0]': 'វិនហាវិ', 'kcc[-3:-1]': 'វិនហា', 'kcc[-3:-2]': 'វិន', 'kcc[+1]': 'ក', 'kcc[+1]t': 'C', 'kcc[+1:0]': 'វិក', 'ns+1': False, 'kcc[+2]': 'អ្ន', 'kcc[+2]t': 'K3', 'kcc[+1:+2]': 'កអ្ន', 'kcc[0:+2]': 'វិកអ្ន', 'ns+2': False, 'kcc[+3]': 'ក', 'kcc[+3]t': 'C', 'kcc[+2:+3]': 'អ្នក', 'kcc[+1:+3]': 'កអ្នក', 'kcc[0:+3]': 'វិកអ្នក'}, {'kcc': 'ក', 't': 'C', 'ns': False, 'kcc[-1]': 'វិ', 'kcc[-1]t': 'K2', 'kcc[-1:0]': 'វិក', 'ns-1': False, 'kcc[-2]': 'ហា', 'kcc[-2]t': 'K2', 'kcc[-2:-1]': 'ហាវិ', 'kcc[-2:0]': 'ហាវិក', 'kcc[-3]': 'ន', 'kcc[-3]t': 'C', 'kcc[-3:0]': 'នហាវិក', 'kcc[-3:-1]': 'នហាវិ', 'kcc[-3:-2]': 'នហា', 'kcc[+1]': 'អ្ន', 'kcc[+1]t': 'K3', 'kcc[+1:0]': 'កអ្ន', 'ns+1': False, 'kcc[+2]': 'ក', 'kcc[+2]t': 'C', 'kcc[+1:+2]': 'អ្នក', 'kcc[0:+2]': 'កអ្នក', 'ns+2': False, 'kcc[+3]': 'មា', 'kcc[+3]t': 'K2', 'kcc[+2:+3]': 'កមា', 'kcc[+1:+3]': 'អ្នកមា', 'kcc[0:+3]': 'កអ្នកមា'}, {'kcc': 'អ្ន', 't': 'K3', 'ns': False, 'kcc[-1]': 'ក', 'kcc[-1]t': 'C', 'kcc[-1:0]': 'កអ្ន', 'ns-1': False, 'kcc[-2]': 'វិ', 'kcc[-2]t': 'K2', 'kcc[-2:-1]': 'វិក', 'kcc[-2:0]': 'វិកអ្ន', 'kcc[-3]': 'ហា', 'kcc[-3]t': 'K2', 'kcc[-3:0]': 'ហាវិកអ្ន', 'kcc[-3:-1]': 'ហាវិក', 'kcc[-3:-2]': 'ហាវិ', 'kcc[+1]': 'ក', 'kcc[+1]t': 'C', 'kcc[+1:0]': 'អ្នក', 'ns+1': False, 'kcc[+2]': 'មា', 'kcc[+2]t': 'K2', 'kcc[+1:+2]': 'កមា', 'kcc[0:+2]': 'អ្នកមា', 'ns+2': False, 'kcc[+3]': 'ន', 'kcc[+3]t': 'C', 'kcc[+2:+3]': 'មាន', 'kcc[+1:+3]': 'កមាន', 'kcc[0:+3]': 'អ្នកមាន'}, {'kcc': 'ក', 't': 'C', 'ns': False, 'kcc[-1]': 'អ្ន', 'kcc[-1]t': 'K3', 'kcc[-1:0]': 'អ្នក', 'ns-1': False, 'kcc[-2]': 'ក', 'kcc[-2]t': 'C', 'kcc[-2:-1]': 'កអ្ន', 'kcc[-2:0]': 'កអ្នក', 'kcc[-3]': 'វិ', 'kcc[-3]t': 'K2', 'kcc[-3:0]': 'វិកអ្នក', 'kcc[-3:-1]': 'វិកអ្ន', 'kcc[-3:-2]': 'វិក', 'kcc[+1]': 'មា', 'kcc[+1]t': 'K2', 'kcc[+1:0]': 'កមា', 'ns+1': False, 'kcc[+2]': 'ន', 'kcc[+2]t': 'C', 'kcc[+1:+2]': 'មាន', 'kcc[0:+2]': 'កមាន', 'ns+2': False, 'kcc[+3]': 'ពិ', 'kcc[+3]t': 'K2', 'kcc[+2:+3]': 'នពិ', 'kcc[+1:+3]': 'មានពិ', 'kcc[0:+3]': 'កមានពិ'}, {'kcc': 'មា', 't': 'K2', 'ns': False, 'kcc[-1]': 'ក', 'kcc[-1]t': 'C', 'kcc[-1:0]': 'កមា', 'ns-1': False, 'kcc[-2]': 'អ្ន', 'kcc[-2]t': 'K3', 'kcc[-2:-1]': 'អ្នក', 'kcc[-2:0]': 'អ្នកមា', 'kcc[-3]': 'ក', 'kcc[-3]t': 'C', 'kcc[-3:0]': 'កអ្នកមា', 'kcc[-3:-1]': 'កអ្នក', 'kcc[-3:-2]': 'កអ្ន', 'kcc[+1]': 'ន', 'kcc[+1]t': 'C', 'kcc[+1:0]': 'មាន', 'ns+1': False, 'kcc[+2]': 'ពិ', 'kcc[+2]t': 'K2', 'kcc[+1:+2]': 'នពិ', 'kcc[0:+2]': 'មានពិ', 'ns+2': False, 'kcc[+3]': 'ន្ទុ', 'kcc[+3]t': 'K4', 'kcc[+2:+3]': 'ពិន្ទុ', 'kcc[+1:+3]': 'នពិន្ទុ', 'kcc[0:+3]': 'មានពិន្ទុ'}, {'kcc': 'ន', 't': 'C', 'ns': False, 'kcc[-1]': 'មា', 'kcc[-1]t': 'K2', 'kcc[-1:0]': 'មាន', 'ns-1': False, 'kcc[-2]': 'ក', 'kcc[-2]t': 'C', 'kcc[-2:-1]': 'កមា', 'kcc[-2:0]': 'កមាន', 'kcc[-3]': 'អ្ន', 'kcc[-3]t': 'K3', 'kcc[-3:0]': 'អ្នកមាន', 'kcc[-3:-1]': 'អ្នកមា', 'kcc[-3:-2]': 'អ្នក', 'kcc[+1]': 'ពិ', 'kcc[+1]t': 'K2', 'kcc[+1:0]': 'នពិ', 'ns+1': False, 'kcc[+2]': 'ន្ទុ', 'kcc[+2]t': 'K4', 'kcc[+1:+2]': 'ពិន្ទុ', 'kcc[0:+2]': 'នពិន្ទុ', 'ns+2': False, 'kcc[+3]': 'នាំ', 'kcc[+3]t': 'K3', 'kcc[+2:+3]': 'ន្ទុនាំ', 'kcc[+1:+3]': 'ពិន្ទុនាំ', 'kcc[0:+3]': 'នពិន្ទុនាំ'}, {'kcc': 'ពិ', 't': 'K2', 'ns': False, 'kcc[-1]': 'ន', 'kcc[-1]t': 'C', 'kcc[-1:0]': 'នពិ', 'ns-1': False, 'kcc[-2]': 'មា', 'kcc[-2]t': 'K2', 'kcc[-2:-1]': 'មាន', 'kcc[-2:0]': 'មានពិ', 'kcc[-3]': 'ក', 'kcc[-3]t': 'C', 'kcc[-3:0]': 'កមានពិ', 'kcc[-3:-1]': 'កមាន', 'kcc[-3:-2]': 'កមា', 'kcc[+1]': 'ន្ទុ', 'kcc[+1]t': 'K4', 'kcc[+1:0]': 'ពិន្ទុ', 'ns+1': False, 'kcc[+2]': 'នាំ', 'kcc[+2]t': 'K3', 'kcc[+1:+2]': 'ន្ទុនាំ', 'kcc[0:+2]': 'ពិន្ទុនាំ', 'ns+2': False, 'kcc[+3]': 'មុ', 'kcc[+3]t': 'K2', 'kcc[+2:+3]': 'នាំមុ', 'kcc[+1:+3]': 'ន្ទុនាំមុ', 'kcc[0:+3]': 'ពិន្ទុនាំមុ'}, {'kcc': 'ន្ទុ', 't': 'K4', 'ns': False, 'kcc[-1]': 'ពិ', 'kcc[-1]t': 'K2', 'kcc[-1:0]': 'ពិន្ទុ', 'ns-1': False, 'kcc[-2]': 'ន', 'kcc[-2]t': 'C', 'kcc[-2:-1]': 'នពិ', 'kcc[-2:0]': 'នពិន្ទុ', 'kcc[-3]': 'មា', 'kcc[-3]t': 'K2', 'kcc[-3:0]': 'មានពិន្ទុ', 'kcc[-3:-1]': 'មានពិ', 'kcc[-3:-2]': 'មាន', 'kcc[+1]': 'នាំ', 'kcc[+1]t': 'K3', 'kcc[+1:0]': 'ន្ទុនាំ', 'ns+1': False, 'kcc[+2]': 'មុ', 'kcc[+2]t': 'K2', 'kcc[+1:+2]': 'នាំមុ', 'kcc[0:+2]': 'ន្ទុនាំមុ', 'ns+2': False, 'kcc[+3]': 'ខ', 'kcc[+3]t': 'C', 'kcc[+2:+3]': 'មុខ', 'kcc[+1:+3]': 'នាំមុខ', 'kcc[0:+3]': 'ន្ទុនាំមុខ'}, {'kcc': 'នាំ', 't': 'K3', 'ns': False, 'kcc[-1]': 'ន្ទុ', 'kcc[-1]t': 'K4', 'kcc[-1:0]': 'ន្ទុនាំ', 'ns-1': False, 'kcc[-2]': 'ពិ', 'kcc[-2]t': 'K2', 'kcc[-2:-1]': 'ពិន្ទុ', 'kcc[-2:0]': 'ពិន្ទុនាំ', 'kcc[-3]': 'ន', 'kcc[-3]t': 'C', 'kcc[-3:0]': 'នពិន្ទុនាំ', 'kcc[-3:-1]': 'នពិន្ទុ', 'kcc[-3:-2]': 'នពិ', 'kcc[+1]': 'មុ', 'kcc[+1]t': 'K2', 'kcc[+1:0]': 'នាំមុ', 'ns+1': False, 'kcc[+2]': 'ខ', 'kcc[+2]t': 'C', 'kcc[+1:+2]': 'មុខ', 'kcc[0:+2]': 'នាំមុខ', 'ns+2': False, 'kcc[+3]': 'គេ', 'kcc[+3]t': 'K2', 'kcc[+2:+3]': 'ខគេ', 'kcc[+1:+3]': 'មុខគេ', 'kcc[0:+3]': 'នាំមុខគេ'}, {'kcc': 'មុ', 't': 'K2', 'ns': False, 'kcc[-1]': 'នាំ', 'kcc[-1]t': 'K3', 'kcc[-1:0]': 'នាំមុ', 'ns-1': False, 'kcc[-2]': 'ន្ទុ', 'kcc[-2]t': 'K4', 'kcc[-2:-1]': 'ន្ទុនាំ', 'kcc[-2:0]': 'ន្ទុនាំមុ', 'kcc[-3]': 'ពិ', 'kcc[-3]t': 'K2', 'kcc[-3:0]': 'ពិន្ទុនាំមុ', 'kcc[-3:-1]': 'ពិន្ទុនាំ', 'kcc[-3:-2]': 'ពិន្ទុ', 'kcc[+1]': 'ខ', 'kcc[+1]t': 'C', 'kcc[+1:0]': 'មុខ', 'ns+1': False, 'kcc[+2]': 'គេ', 'kcc[+2]t': 'K2', 'kcc[+1:+2]': 'ខគេ', 'kcc[0:+2]': 'មុខគេ', 'ns+2': False, 'kcc[+3]': 'ប៉ុ', 'kcc[+3]t': 'K3', 'kcc[+2:+3]': 'គេប៉ុ', 'kcc[+1:+3]': 'ខគេប៉ុ', 'kcc[0:+3]': 'មុខគេប៉ុ'}, {'kcc': 'ខ', 't': 'C', 'ns': False, 'kcc[-1]': 'មុ', 'kcc[-1]t': 'K2', 'kcc[-1:0]': 'មុខ', 'ns-1': False, 'kcc[-2]': 'នាំ', 'kcc[-2]t': 'K3', 'kcc[-2:-1]': 'នាំមុ', 'kcc[-2:0]': 'នាំមុខ', 'kcc[-3]': 'ន្ទុ', 'kcc[-3]t': 'K4', 'kcc[-3:0]': 'ន្ទុនាំមុខ', 'kcc[-3:-1]': 'ន្ទុនាំមុ', 'kcc[-3:-2]': 'ន្ទុនាំ', 'kcc[+1]': 'គេ', 'kcc[+1]t': 'K2', 'kcc[+1:0]': 'ខគេ', 'ns+1': False, 'kcc[+2]': 'ប៉ុ', 'kcc[+2]t': 'K3', 'kcc[+1:+2]': 'គេប៉ុ', 'kcc[0:+2]': 'ខគេប៉ុ', 'ns+2': False, 'kcc[+3]': 'ន្តែ', 'kcc[+3]t': 'K4', 'kcc[+2:+3]': 'ប៉ុន្តែ', 'kcc[+1:+3]': 'គេប៉ុន្តែ', 'kcc[0:+3]': 'ខគេប៉ុន្តែ'}, {'kcc': 'គេ', 't': 'K2', 'ns': False, 'kcc[-1]': 'ខ', 'kcc[-1]t': 'C', 'kcc[-1:0]': 'ខគេ', 'ns-1': False, 'kcc[-2]': 'មុ', 'kcc[-2]t': 'K2', 'kcc[-2:-1]': 'មុខ', 'kcc[-2:0]': 'មុខគេ', 'kcc[-3]': 'នាំ', 'kcc[-3]t': 'K3', 'kcc[-3:0]': 'នាំមុខគេ', 'kcc[-3:-1]': 'នាំមុខ', 'kcc[-3:-2]': 'នាំមុ', 'kcc[+1]': 'ប៉ុ', 'kcc[+1]t': 'K3', 'kcc[+1:0]': 'គេប៉ុ', 'ns+1': False, 'kcc[+2]': 'ន្តែ', 'kcc[+2]t': 'K4', 'kcc[+1:+2]': 'ប៉ុន្តែ', 'kcc[0:+2]': 'គេប៉ុន្តែ', 'ns+2': False, 'kcc[+3]': 'គា', 'kcc[+3]t': 'K2', 'kcc[+2:+3]': 'ន្តែគា', 'kcc[+1:+3]': 'ប៉ុន្តែគា', 'kcc[0:+3]': 'គេប៉ុន្តែគា'}, {'kcc': 'ប៉ុ', 't': 'K3', 'ns': False, 'kcc[-1]': 'គេ', 'kcc[-1]t': 'K2', 'kcc[-1:0]': 'គេប៉ុ', 'ns-1': False, 'kcc[-2]': 'ខ', 'kcc[-2]t': 'C', 'kcc[-2:-1]': 'ខគេ', 'kcc[-2:0]': 'ខគេប៉ុ', 'kcc[-3]': 'មុ', 'kcc[-3]t': 'K2', 'kcc[-3:0]': 'មុខគេប៉ុ', 'kcc[-3:-1]': 'មុខគេ', 'kcc[-3:-2]': 'មុខ', 'kcc[+1]': 'ន្តែ', 'kcc[+1]t': 'K4', 'kcc[+1:0]': 'ប៉ុន្តែ', 'ns+1': False, 'kcc[+2]': 'គា', 'kcc[+2]t': 'K2', 'kcc[+1:+2]': 'ន្តែគា', 'kcc[0:+2]': 'ប៉ុន្តែគា', 'ns+2': False, 'kcc[+3]': 'ត់', 'kcc[+3]t': 'K2', 'kcc[+2:+3]': 'គាត់', 'kcc[+1:+3]': 'ន្តែគាត់', 'kcc[0:+3]': 'ប៉ុន្តែគាត់'}, {'kcc': 'ន្តែ', 't': 'K4', 'ns': False, 'kcc[-1]': 'ប៉ុ', 'kcc[-1]t': 'K3', 'kcc[-1:0]': 'ប៉ុន្តែ', 'ns-1': False, 'kcc[-2]': 'គេ', 'kcc[-2]t': 'K2', 'kcc[-2:-1]': 'គេប៉ុ', 'kcc[-2:0]': 'គេប៉ុន្តែ', 'kcc[-3]': 'ខ', 'kcc[-3]t': 'C', 'kcc[-3:0]': 'ខគេប៉ុន្តែ', 'kcc[-3:-1]': 'ខគេប៉ុ', 'kcc[-3:-2]': 'ខគេ', 'kcc[+1]': 'គា', 'kcc[+1]t': 'K2', 'kcc[+1:0]': 'ន្តែគា', 'ns+1': False, 'kcc[+2]': 'ត់', 'kcc[+2]t': 'K2', 'kcc[+1:+2]': 'គាត់', 'kcc[0:+2]': 'ន្តែគាត់', 'ns+2': False, 'kcc[+3]': 'នៅ', 'kcc[+3]t': 'K2', 'kcc[+2:+3]': 'ត់នៅ', 'kcc[+1:+3]': 'គាត់នៅ', 'kcc[0:+3]': 'ន្តែគាត់នៅ'}, {'kcc': 'គា', 't': 'K2', 'ns': False, 'kcc[-1]': 'ន្តែ', 'kcc[-1]t': 'K4', 'kcc[-1:0]': 'ន្តែគា', 'ns-1': False, 'kcc[-2]': 'ប៉ុ', 'kcc[-2]t': 'K3', 'kcc[-2:-1]': 'ប៉ុន្តែ', 'kcc[-2:0]': 'ប៉ុន្តែគា', 'kcc[-3]': 'គេ', 'kcc[-3]t': 'K2', 'kcc[-3:0]': 'គេប៉ុន្តែគា', 'kcc[-3:-1]': 'គេប៉ុន្តែ', 'kcc[-3:-2]': 'គេប៉ុ', 'kcc[+1]': 'ត់', 'kcc[+1]t': 'K2', 'kcc[+1:0]': 'គាត់', 'ns+1': False, 'kcc[+2]': 'នៅ', 'kcc[+2]t': 'K2', 'kcc[+1:+2]': 'ត់នៅ', 'kcc[0:+2]': 'គាត់នៅ', 'ns+2': False, 'kcc[+3]': 'ខ្វះ', 'kcc[+3]t': 'K4', 'kcc[+2:+3]': 'នៅខ្វះ', 'kcc[+1:+3]': 'ត់នៅខ្វះ', 'kcc[0:+3]': 'គាត់នៅខ្វះ'}, {'kcc': 'ត់', 't': 'K2', 'ns': False, 'kcc[-1]': 'គា', 'kcc[-1]t': 'K2', 'kcc[-1:0]': 'គាត់', 'ns-1': False, 'kcc[-2]': 'ន្តែ', 'kcc[-2]t': 'K4', 'kcc[-2:-1]': 'ន្តែគា', 'kcc[-2:0]': 'ន្តែគាត់', 'kcc[-3]': 'ប៉ុ', 'kcc[-3]t': 'K3', 'kcc[-3:0]': 'ប៉ុន្តែគាត់', 'kcc[-3:-1]': 'ប៉ុន្តែគា', 'kcc[-3:-2]': 'ប៉ុន្តែ', 'kcc[+1]': 'នៅ', 'kcc[+1]t': 'K2', 'kcc[+1:0]': 'ត់នៅ', 'ns+1': False, 'kcc[+2]': 'ខ្វះ', 'kcc[+2]t': 'K4', 'kcc[+1:+2]': 'នៅខ្វះ', 'kcc[0:+2]': 'ត់នៅខ្វះ', 'ns+2': False, 'kcc[+3]': '105', 'kcc[+3]t': 'K3', 'kcc[+2:+3]': 'ខ្វះ105', 'kcc[+1:+3]': 'នៅខ្វះ105', 'kcc[0:+3]': 'ត់នៅខ្វះ105'}, {'kcc': 'នៅ', 't': 'K2', 'ns': False, 'kcc[-1]': 'ត់', 'kcc[-1]t': 'K2', 'kcc[-1:0]': 'ត់នៅ', 'ns-1': False, 'kcc[-2]': 'គា', 'kcc[-2]t': 'K2', 'kcc[-2:-1]': 'គាត់', 'kcc[-2:0]': 'គាត់នៅ', 'kcc[-3]': 'ន្តែ', 'kcc[-3]t': 'K4', 'kcc[-3:0]': 'ន្តែគាត់នៅ', 'kcc[-3:-1]': 'ន្តែគាត់', 'kcc[-3:-2]': 'ន្តែគា', 'kcc[+1]': 'ខ្វះ', 'kcc[+1]t': 'K4', 'kcc[+1:0]': 'នៅខ្វះ', 'ns+1': False, 'kcc[+2]': '105', 'kcc[+2]t': 'K3', 'kcc[+1:+2]': 'ខ្វះ105', 'kcc[0:+2]': 'នៅខ្វះ105', 'ns+2': True, 'kcc[+3]': 'ពិ', 'kcc[+3]t': 'K2', 'kcc[+2:+3]': '105ពិ', 'kcc[+1:+3]': 'ខ្វះ105ពិ', 'kcc[0:+3]': 'នៅខ្វះ105ពិ'}, {'kcc': 'ខ្វះ', 't': 'K4', 'ns': False, 'kcc[-1]': 'នៅ', 'kcc[-1]t': 'K2', 'kcc[-1:0]': 'នៅខ្វះ', 'ns-1': False, 'kcc[-2]': 'ត់', 'kcc[-2]t': 'K2', 'kcc[-2:-1]': 'ត់នៅ', 'kcc[-2:0]': 'ត់នៅខ្វះ', 'kcc[-3]': 'គា', 'kcc[-3]t': 'K2', 'kcc[-3:0]': 'គាត់នៅខ្វះ', 'kcc[-3:-1]': 'គាត់នៅ', 'kcc[-3:-2]': 'គាត់', 'kcc[+1]': '105', 'kcc[+1]t': 'K3', 'kcc[+1:0]': 'ខ្វះ105', 'ns+1': True, 'kcc[+2]': 'ពិ', 'kcc[+2]t': 'K2', 'kcc[+1:+2]': '105ពិ', 'kcc[0:+2]': 'ខ្វះ105ពិ', 'ns+2': False, 'kcc[+3]': 'ន្ទុ', 'kcc[+3]t': 'K4', 'kcc[+2:+3]': 'ពិន្ទុ', 'kcc[+1:+3]': '105ពិន្ទុ', 'kcc[0:+3]': 'ខ្វះ105ពិន្ទុ'}, {'kcc': '105', 't': 'K3', 'ns': True, 'kcc[-1]': 'ខ្វះ', 'kcc[-1]t': 'K4', 'kcc[-1:0]': 'ខ្វះ105', 'ns-1': False, 'kcc[-2]': 'នៅ', 'kcc[-2]t': 'K2', 'kcc[-2:-1]': 'នៅខ្វះ', 'kcc[-2:0]': 'នៅខ្វះ105', 'kcc[-3]': 'ត់', 'kcc[-3]t': 'K2', 'kcc[-3:0]': 'ត់នៅខ្វះ105', 'kcc[-3:-1]': 'ត់នៅខ្វះ', 'kcc[-3:-2]': 'ត់នៅ', 'kcc[+1]': 'ពិ', 'kcc[+1]t': 'K2', 'kcc[+1:0]': '105ពិ', 'ns+1': False, 'kcc[+2]': 'ន្ទុ', 'kcc[+2]t': 'K4', 'kcc[+1:+2]': 'ពិន្ទុ', 'kcc[0:+2]': '105ពិន្ទុ', 'ns+2': False, 'kcc[+3]': 'ដែ', 'kcc[+3]t': 'K2', 'kcc[+2:+3]': 'ន្ទុដែ', 'kcc[+1:+3]': 'ពិន្ទុដែ', 'kcc[0:+3]': '105ពិន្ទុដែ'}, {'kcc': 'ពិ', 't': 'K2', 'ns': False, 'kcc[-1]': '105', 'kcc[-1]t': 'K3', 'kcc[-1:0]': '105ពិ', 'ns-1': True, 'kcc[-2]': 'ខ្វះ', 'kcc[-2]t': 'K4', 'kcc[-2:-1]': 'ខ្វះ105', 'kcc[-2:0]': 'ខ្វះ105ពិ', 'kcc[-3]': 'នៅ', 'kcc[-3]t': 'K2', 'kcc[-3:0]': 'នៅខ្វះ105ពិ', 'kcc[-3:-1]': 'នៅខ្វះ105', 'kcc[-3:-2]': 'នៅខ្វះ', 'kcc[+1]': 'ន្ទុ', 'kcc[+1]t': 'K4', 'kcc[+1:0]': 'ពិន្ទុ', 'ns+1': False, 'kcc[+2]': 'ដែ', 'kcc[+2]t': 'K2', 'kcc[+1:+2]': 'ន្ទុដែ', 'kcc[0:+2]': 'ពិន្ទុដែ', 'ns+2': False, 'kcc[+3]': 'ល', 'kcc[+3]t': 'C', 'kcc[+2:+3]': 'ដែល', 'kcc[+1:+3]': 'ន្ទុដែល', 'kcc[0:+3]': 'ពិន្ទុដែល'}, {'kcc': 'ន្ទុ', 't': 'K4', 'ns': False, 'kcc[-1]': 'ពិ', 'kcc[-1]t': 'K2', 'kcc[-1:0]': 'ពិន្ទុ', 'ns-1': False, 'kcc[-2]': '105', 'kcc[-2]t': 'K3', 'kcc[-2:-1]': '105ពិ', 'kcc[-2:0]': '105ពិន្ទុ', 'kcc[-3]': 'ខ្វះ', 'kcc[-3]t': 'K4', 'kcc[-3:0]': 'ខ្វះ105ពិន្ទុ', 'kcc[-3:-1]': 'ខ្វះ105ពិ', 'kcc[-3:-2]': 'ខ្វះ105', 'kcc[+1]': 'ដែ', 'kcc[+1]t': 'K2', 'kcc[+1:0]': 'ន្ទុដែ', 'ns+1': False, 'kcc[+2]': 'ល', 'kcc[+2]t': 'C', 'kcc[+1:+2]': 'ដែល', 'kcc[0:+2]': 'ន្ទុដែល', 'ns+2': False, 'kcc[+3]': 'ត្រូ', 'kcc[+3]t': 'K4', 'kcc[+2:+3]': 'លត្រូ', 'kcc[+1:+3]': 'ដែលត្រូ', 'kcc[0:+3]': 'ន្ទុដែលត្រូ'}, {'kcc': 'ដែ', 't': 'K2', 'ns': False, 'kcc[-1]': 'ន្ទុ', 'kcc[-1]t': 'K4', 'kcc[-1:0]': 'ន្ទុដែ', 'ns-1': False, 'kcc[-2]': 'ពិ', 'kcc[-2]t': 'K2', 'kcc[-2:-1]': 'ពិន្ទុ', 'kcc[-2:0]': 'ពិន្ទុដែ', 'kcc[-3]': '105', 'kcc[-3]t': 'K3', 'kcc[-3:0]': '105ពិន្ទុដែ', 'kcc[-3:-1]': '105ពិន្ទុ', 'kcc[-3:-2]': '105ពិ', 'kcc[+1]': 'ល', 'kcc[+1]t': 'C', 'kcc[+1:0]': 'ដែល', 'ns+1': False, 'kcc[+2]': 'ត្រូ', 'kcc[+2]t': 'K4', 'kcc[+1:+2]': 'លត្រូ', 'kcc[0:+2]': 'ដែលត្រូ', 'ns+2': False, 'kcc[+3]': 'វ', 'kcc[+3]t': 'C', 'kcc[+2:+3]': 'ត្រូវ', 'kcc[+1:+3]': 'លត្រូវ', 'kcc[0:+3]': 'ដែលត្រូវ'}, {'kcc': 'ល', 't': 'C', 'ns': False, 'kcc[-1]': 'ដែ', 'kcc[-1]t': 'K2', 'kcc[-1:0]': 'ដែល', 'ns-1': False, 'kcc[-2]': 'ន្ទុ', 'kcc[-2]t': 'K4', 'kcc[-2:-1]': 'ន្ទុដែ', 'kcc[-2:0]': 'ន្ទុដែល', 'kcc[-3]': 'ពិ', 'kcc[-3]t': 'K2', 'kcc[-3:0]': 'ពិន្ទុដែល', 'kcc[-3:-1]': 'ពិន្ទុដែ', 'kcc[-3:-2]': 'ពិន្ទុ', 'kcc[+1]': 'ត្រូ', 'kcc[+1]t': 'K4', 'kcc[+1:0]': 'លត្រូ', 'ns+1': False, 'kcc[+2]': 'វ', 'kcc[+2]t': 'C', 'kcc[+1:+2]': 'ត្រូវ', 'kcc[0:+2]': 'លត្រូវ', 'ns+2': False, 'kcc[+3]': 'ស្ថិ', 'kcc[+3]t': 'K4', 'kcc[+2:+3]': 'វស្ថិ', 'kcc[+1:+3]': 'ត្រូវស្ថិ', 'kcc[0:+3]': 'លត្រូវស្ថិ'}, {'kcc': 'ត្រូ', 't': 'K4', 'ns': False, 'kcc[-1]': 'ល', 'kcc[-1]t': 'C', 'kcc[-1:0]': 'លត្រូ', 'ns-1': False, 'kcc[-2]': 'ដែ', 'kcc[-2]t': 'K2', 'kcc[-2:-1]': 'ដែល', 'kcc[-2:0]': 'ដែលត្រូ', 'kcc[-3]': 'ន្ទុ', 'kcc[-3]t': 'K4', 'kcc[-3:0]': 'ន្ទុដែលត្រូ', 'kcc[-3:-1]': 'ន្ទុដែល', 'kcc[-3:-2]': 'ន្ទុដែ', 'kcc[+1]': 'វ', 'kcc[+1]t': 'C', 'kcc[+1:0]': 'ត្រូវ', 'ns+1': False, 'kcc[+2]': 'ស្ថិ', 'kcc[+2]t': 'K4', 'kcc[+1:+2]': 'វស្ថិ', 'kcc[0:+2]': 'ត្រូវស្ថិ', 'ns+2': False, 'kcc[+3]': 'ត', 'kcc[+3]t': 'C', 'kcc[+2:+3]': 'ស្ថិត', 'kcc[+1:+3]': 'វស្ថិត', 'kcc[0:+3]': 'ត្រូវស្ថិត'}, {'kcc': 'វ', 't': 'C', 'ns': False, 'kcc[-1]': 'ត្រូ', 'kcc[-1]t': 'K4', 'kcc[-1:0]': 'ត្រូវ', 'ns-1': False, 'kcc[-2]': 'ល', 'kcc[-2]t': 'C', 'kcc[-2:-1]': 'លត្រូ', 'kcc[-2:0]': 'លត្រូវ', 'kcc[-3]': 'ដែ', 'kcc[-3]t': 'K2', 'kcc[-3:0]': 'ដែលត្រូវ', 'kcc[-3:-1]': 'ដែលត្រូ', 'kcc[-3:-2]': 'ដែល', 'kcc[+1]': 'ស្ថិ', 'kcc[+1]t': 'K4', 'kcc[+1:0]': 'វស្ថិ', 'ns+1': False, 'kcc[+2]': 'ត', 'kcc[+2]t': 'C', 'kcc[+1:+2]': 'ស្ថិត', 'kcc[0:+2]': 'វស្ថិត', 'ns+2': False, 'kcc[+3]': 'ចំ', 'kcc[+3]t': 'K2', 'kcc[+2:+3]': 'តចំ', 'kcc[+1:+3]': 'ស្ថិតចំ', 'kcc[0:+3]': 'វស្ថិតចំ'}, {'kcc': 'ស្ថិ', 't': 'K4', 'ns': False, 'kcc[-1]': 'វ', 'kcc[-1]t': 'C', 'kcc[-1:0]': 'វស្ថិ', 'ns-1': False, 'kcc[-2]': 'ត្រូ', 'kcc[-2]t': 'K4', 'kcc[-2:-1]': 'ត្រូវ', 'kcc[-2:0]': 'ត្រូវស្ថិ', 'kcc[-3]': 'ល', 'kcc[-3]t': 'C', 'kcc[-3:0]': 'លត្រូវស្ថិ', 'kcc[-3:-1]': 'លត្រូវ', 'kcc[-3:-2]': 'លត្រូ', 'kcc[+1]': 'ត', 'kcc[+1]t': 'C', 'kcc[+1:0]': 'ស្ថិត', 'ns+1': False, 'kcc[+2]': 'ចំ', 'kcc[+2]t': 'K2', 'kcc[+1:+2]': 'តចំ', 'kcc[0:+2]': 'ស្ថិតចំ', 'ns+2': False, 'kcc[+3]': 'ណា', 'kcc[+3]t': 'K2', 'kcc[+2:+3]': 'ចំណា', 'kcc[+1:+3]': 'តចំណា', 'kcc[0:+3]': 'ស្ថិតចំណា'}, {'kcc': 'ត', 't': 'C', 'ns': False, 'kcc[-1]': 'ស្ថិ', 'kcc[-1]t': 'K4', 'kcc[-1:0]': 'ស្ថិត', 'ns-1': False, 'kcc[-2]': 'វ', 'kcc[-2]t': 'C', 'kcc[-2:-1]': 'វស្ថិ', 'kcc[-2:0]': 'វស្ថិត', 'kcc[-3]': 'ត្រូ', 'kcc[-3]t': 'K4', 'kcc[-3:0]': 'ត្រូវស្ថិត', 'kcc[-3:-1]': 'ត្រូវស្ថិ', 'kcc[-3:-2]': 'ត្រូវ', 'kcc[+1]': 'ចំ', 'kcc[+1]t': 'K2', 'kcc[+1:0]': 'តចំ', 'ns+1': False, 'kcc[+2]': 'ណា', 'kcc[+2]t': 'K2', 'kcc[+1:+2]': 'ចំណា', 'kcc[0:+2]': 'តចំណា', 'ns+2': False, 'kcc[+3]': 'ត់', 'kcc[+3]t': 'K2', 'kcc[+2:+3]': 'ណាត់', 'kcc[+1:+3]': 'ចំណាត់', 'kcc[0:+3]': 'តចំណាត់'}, {'kcc': 'ចំ', 't': 'K2', 'ns': False, 'kcc[-1]': 'ត', 'kcc[-1]t': 'C', 'kcc[-1:0]': 'តចំ', 'ns-1': False, 'kcc[-2]': 'ស្ថិ', 'kcc[-2]t': 'K4', 'kcc[-2:-1]': 'ស្ថិត', 'kcc[-2:0]': 'ស្ថិតចំ', 'kcc[-3]': 'វ', 'kcc[-3]t': 'C', 'kcc[-3:0]': 'វស្ថិតចំ', 'kcc[-3:-1]': 'វស្ថិត', 'kcc[-3:-2]': 'វស្ថិ', 'kcc[+1]': 'ណា', 'kcc[+1]t': 'K2', 'kcc[+1:0]': 'ចំណា', 'ns+1': False, 'kcc[+2]': 'ត់', 'kcc[+2]t': 'K2', 'kcc[+1:+2]': 'ណាត់', 'kcc[0:+2]': 'ចំណាត់', 'ns+2': False, 'kcc[+3]': 'ថ្នា', 'kcc[+3]t': 'K4', 'kcc[+2:+3]': 'ត់ថ្នា', 'kcc[+1:+3]': 'ណាត់ថ្នា', 'kcc[0:+3]': 'ចំណាត់ថ្នា'}, {'kcc': 'ណា', 't': 'K2', 'ns': False, 'kcc[-1]': 'ចំ', 'kcc[-1]t': 'K2', 'kcc[-1:0]': 'ចំណា', 'ns-1': False, 'kcc[-2]': 'ត', 'kcc[-2]t': 'C', 'kcc[-2:-1]': 'តចំ', 'kcc[-2:0]': 'តចំណា', 'kcc[-3]': 'ស្ថិ', 'kcc[-3]t': 'K4', 'kcc[-3:0]': 'ស្ថិតចំណា', 'kcc[-3:-1]': 'ស្ថិតចំ', 'kcc[-3:-2]': 'ស្ថិត', 'kcc[+1]': 'ត់', 'kcc[+1]t': 'K2', 'kcc[+1:0]': 'ណាត់', 'ns+1': False, 'kcc[+2]': 'ថ្នា', 'kcc[+2]t': 'K4', 'kcc[+1:+2]': 'ត់ថ្នា', 'kcc[0:+2]': 'ណាត់ថ្នា', 'ns+2': False, 'kcc[+3]': 'ក', 'kcc[+3]t': 'C', 'kcc[+2:+3]': 'ថ្នាក', 'kcc[+1:+3]': 'ត់ថ្នាក', 'kcc[0:+3]': 'ណាត់ថ្នាក'}, {'kcc': 'ត់', 't': 'K2', 'ns': False, 'kcc[-1]': 'ណា', 'kcc[-1]t': 'K2', 'kcc[-1:0]': 'ណាត់', 'ns-1': False, 'kcc[-2]': 'ចំ', 'kcc[-2]t': 'K2', 'kcc[-2:-1]': 'ចំណា', 'kcc[-2:0]': 'ចំណាត់', 'kcc[-3]': 'ត', 'kcc[-3]t': 'C', 'kcc[-3:0]': 'តចំណាត់', 'kcc[-3:-1]': 'តចំណា', 'kcc[-3:-2]': 'តចំ', 'kcc[+1]': 'ថ្នា', 'kcc[+1]t': 'K4', 'kcc[+1:0]': 'ត់ថ្នា', 'ns+1': False, 'kcc[+2]': 'ក', 'kcc[+2]t': 'C', 'kcc[+1:+2]': 'ថ្នាក', 'kcc[0:+2]': 'ត់ថ្នាក', 'ns+2': False, 'kcc[+3]': 'ទី', 'kcc[+3]t': 'K2', 'kcc[+2:+3]': 'កទី', 'kcc[+1:+3]': 'ថ្នាកទី', 'kcc[0:+3]': 'ត់ថ្នាកទី'}, {'kcc': 'ថ្នា', 't': 'K4', 'ns': False, 'kcc[-1]': 'ត់', 'kcc[-1]t': 'K2', 'kcc[-1:0]': 'ត់ថ្នា', 'ns-1': False, 'kcc[-2]': 'ណា', 'kcc[-2]t': 'K2', 'kcc[-2:-1]': 'ណាត់', 'kcc[-2:0]': 'ណាត់ថ្នា', 'kcc[-3]': 'ចំ', 'kcc[-3]t': 'K2', 'kcc[-3:0]': 'ចំណាត់ថ្នា', 'kcc[-3:-1]': 'ចំណាត់', 'kcc[-3:-2]': 'ចំណា', 'kcc[+1]': 'ក', 'kcc[+1]t': 'C', 'kcc[+1:0]': 'ថ្នាក', 'ns+1': False, 'kcc[+2]': 'ទី', 'kcc[+2]t': 'K2', 'kcc[+1:+2]': 'កទី', 'kcc[0:+2]': 'ថ្នាកទី', 'ns+2': False, 'kcc[+3]': 'ពី', 'kcc[+3]t': 'K2', 'kcc[+2:+3]': 'ទីពី', 'kcc[+1:+3]': 'កទីពី', 'kcc[0:+3]': 'ថ្នាកទីពី'}, {'kcc': 'ក', 't': 'C', 'ns': False, 'kcc[-1]': 'ថ្នា', 'kcc[-1]t': 'K4', 'kcc[-1:0]': 'ថ្នាក', 'ns-1': False, 'kcc[-2]': 'ត់', 'kcc[-2]t': 'K2', 'kcc[-2:-1]': 'ត់ថ្នា', 'kcc[-2:0]': 'ត់ថ្នាក', 'kcc[-3]': 'ណា', 'kcc[-3]t': 'K2', 'kcc[-3:0]': 'ណាត់ថ្នាក', 'kcc[-3:-1]': 'ណាត់ថ្នា', 'kcc[-3:-2]': 'ណាត់', 'kcc[+1]': 'ទី', 'kcc[+1]t': 'K2', 'kcc[+1:0]': 'កទី', 'ns+1': False, 'kcc[+2]': 'ពី', 'kcc[+2]t': 'K2', 'kcc[+1:+2]': 'ទីពី', 'kcc[0:+2]': 'កទីពី', 'ns+2': False, 'kcc[+3]': 'រ', 'kcc[+3]t': 'C', 'kcc[+2:+3]': 'ពីរ', 'kcc[+1:+3]': 'ទីពីរ', 'kcc[0:+3]': 'កទីពីរ'}, {'kcc': 'ទី', 't': 'K2', 'ns': False, 'kcc[-1]': 'ក', 'kcc[-1]t': 'C', 'kcc[-1:0]': 'កទី', 'ns-1': False, 'kcc[-2]': 'ថ្នា', 'kcc[-2]t': 'K4', 'kcc[-2:-1]': 'ថ្នាក', 'kcc[-2:0]': 'ថ្នាកទី', 'kcc[-3]': 'ត់', 'kcc[-3]t': 'K2', 'kcc[-3:0]': 'ត់ថ្នាកទី', 'kcc[-3:-1]': 'ត់ថ្នាក', 'kcc[-3:-2]': 'ត់ថ្នា', 'kcc[+1]': 'ពី', 'kcc[+1]t': 'K2', 'kcc[+1:0]': 'ទីពី', 'ns+1': False, 'kcc[+2]': 'រ', 'kcc[+2]t': 'C', 'kcc[+1:+2]': 'ពីរ', 'kcc[0:+2]': 'ទីពីរ', 'ns+2': False, 'kcc[+3]': '។', 'kcc[+3]t': 'NS', 'kcc[+2:+3]': 'រ។', 'kcc[+1:+3]': 'ពីរ។', 'kcc[0:+3]': 'ទីពីរ។'}, {'kcc': 'ពី', 't': 'K2', 'ns': False, 'kcc[-1]': 'ទី', 'kcc[-1]t': 'K2', 'kcc[-1:0]': 'ទីពី', 'ns-1': False, 'kcc[-2]': 'ក', 'kcc[-2]t': 'C', 'kcc[-2:-1]': 'កទី', 'kcc[-2:0]': 'កទីពី', 'kcc[-3]': 'ថ្នា', 'kcc[-3]t': 'K4', 'kcc[-3:0]': 'ថ្នាកទីពី', 'kcc[-3:-1]': 'ថ្នាកទី', 'kcc[-3:-2]': 'ថ្នាក', 'kcc[+1]': 'រ', 'kcc[+1]t': 'C', 'kcc[+1:0]': 'ពីរ', 'ns+1': False, 'kcc[+2]': '។', 'kcc[+2]t': 'NS', 'kcc[+1:+2]': 'រ។', 'kcc[0:+2]': 'ពីរ។', 'ns+2': True}, {'kcc': 'រ', 't': 'C', 'ns': False, 'kcc[-1]': 'ពី', 'kcc[-1]t': 'K2', 'kcc[-1:0]': 'ពីរ', 'ns-1': False, 'kcc[-2]': 'ទី', 'kcc[-2]t': 'K2', 'kcc[-2:-1]': 'ទីពី', 'kcc[-2:0]': 'ទីពីរ', 'kcc[-3]': 'ក', 'kcc[-3]t': 'C', 'kcc[-3:0]': 'កទីពីរ', 'kcc[-3:-1]': 'កទីពី', 'kcc[-3:-2]': 'កទី', 'kcc[+1]': '។', 'kcc[+1]t': 'NS', 'kcc[+1:0]': 'រ។', 'ns+1': True}, {'kcc': '។', 't': 'NS', 'ns': True, 'kcc[-1]': 'រ', 'kcc[-1]t': 'C', 'kcc[-1:0]': 'រ។', 'ns-1': False, 'kcc[-2]': 'ពី', 'kcc[-2]t': 'K2', 'kcc[-2:-1]': 'ពីរ', 'kcc[-2:0]': 'ពីរ។', 'kcc[-3]': 'ទី', 'kcc[-3]t': 'K2', 'kcc[-3:0]': 'ទីពីរ។', 'kcc[-3:-1]': 'ទីពីរ', 'kcc[-3:-2]': 'ទីពី', 'EOS': True}]\n",
            "len test y: 200 ['1', '0', '1', '1', '1', '1', '0', '0', '0', '1', '0', '0', '1', '0', '1', '1', '0', '1', '1', '0', '1', '0', '1', '1', '0', '1', '1', '0', '0', '1', '1', '1', '1', '0', '1', '0', '1', '0', '1', '0', '1', '0', '0', '0', '0', '0', '1', '0', '1', '0', '1', '0', '1', '1', '0', '1', '1', '0', '1', '0', '1', '1', '1', '1', '0', '1', '0', '1', '0', '1', '0', '1', '0', '0', '1', '0', '1', '1', '0', '1']\n"
          ],
          "name": "stdout"
        }
      ]
    },
    {
      "cell_type": "markdown",
      "metadata": {
        "id": "eFX_NH9MvPH9"
      },
      "source": [
        " ## Training using CRFSuite"
      ]
    },
    {
      "cell_type": "markdown",
      "metadata": {
        "id": "iRCymsNP6g9t"
      },
      "source": [
        "#### Clear memory for full re-run"
      ]
    },
    {
      "cell_type": "code",
      "metadata": {
        "id": "vUDs8Qi7O6Ay",
        "colab": {
          "base_uri": "https://localhost:8080/",
          "height": 0
        },
        "outputId": "edc3d234-2929-4f2b-adf5-2b43194880c2"
      },
      "source": [
        "# clear memory for heavy run on unneeded X,y --19.47GB\n",
        "\n",
        "import os\n",
        "import psutil\n",
        "process = psutil.Process(os.getpid())\n",
        "print(\"Memory used before:\", process.memory_info().rss)  # in bytes \n",
        "\n",
        "'''\n",
        "try:\n",
        "  if(X is not None): del X\n",
        "  if(y is not None): del y\n",
        "  # for multiple run\n",
        "  if(X_train is not None): del X_train\n",
        "  if(X_test is not None): del X_test\n",
        "except NameError: \n",
        "  print(\"no defined\")\n",
        "\n",
        "print(\"try to clear up some memory\")\n",
        "  \n",
        "import gc\n",
        "gc.collect()\n",
        "'''\n"
      ],
      "execution_count": 34,
      "outputs": [
        {
          "output_type": "stream",
          "text": [
            "Memory used before: 700653568\n"
          ],
          "name": "stdout"
        },
        {
          "output_type": "execute_result",
          "data": {
            "application/vnd.google.colaboratory.intrinsic+json": {
              "type": "string"
            },
            "text/plain": [
              "'\\ntry:\\n  if(X is not None): del X\\n  if(y is not None): del y\\n  # for multiple run\\n  if(X_train is not None): del X_train\\n  if(X_test is not None): del X_test\\nexcept NameError: \\n  print(\"no defined\")\\n\\nprint(\"try to clear up some memory\")\\n  \\nimport gc\\ngc.collect()\\n'"
            ]
          },
          "metadata": {
            "tags": []
          },
          "execution_count": 34
        }
      ]
    },
    {
      "cell_type": "code",
      "metadata": {
        "id": "we8IkdTfuFg_",
        "colab": {
          "base_uri": "https://localhost:8080/"
        },
        "outputId": "80c6e74e-1cdb-45a3-e352-5df504217fa5"
      },
      "source": [
        "# wait a few second before running this\n",
        "process = psutil.Process(os.getpid())\n",
        "print(\"Memory used after:\", process.memory_info().rss)  # in bytes "
      ],
      "execution_count": 35,
      "outputs": [
        {
          "output_type": "stream",
          "text": [
            "Memory used after: 700653568\n"
          ],
          "name": "stdout"
        }
      ]
    },
    {
      "cell_type": "markdown",
      "metadata": {
        "id": "Nz1p8JK16xRV"
      },
      "source": [
        "#### CRF Fit - using crfsuite"
      ]
    },
    {
      "cell_type": "code",
      "metadata": {
        "id": "6STU4g4LtBtN",
        "colab": {
          "base_uri": "https://localhost:8080/"
        },
        "outputId": "c97447c5-c461-4741-9ea8-afae98caadc9"
      },
      "source": [
        "%%time\n",
        "#8000 article - 17.48 mem/25.5, 9K: 19.47\n",
        "import sklearn_crfsuite\n",
        "\n",
        "crf = sklearn_crfsuite.CRF(\n",
        "    algorithm='lbfgs',  # options: 'l2sgd', 'lbfgs', \n",
        "    c1=0.0418,           # 0.015, # not applicable for 'l2sgd'\n",
        "    c2=0.00056,          # 0.0037,\n",
        "    max_iterations=100, #100,\n",
        "    all_possible_transitions=True,\n",
        "    verbose=True\n",
        ")\n",
        "crf.fit(X_train, y_train)\n",
        "#crf.fit(X_test, y_test)\n",
        "\n",
        "#best params: {'c1': 0.04179350773216069, 'c2': 0.0005561313093527635}\n",
        "#c1:0.015, c2:0.0037\n",
        "#Iter 96  time=0.12  loss=503.10   active=41076 feature_norm=166.74\n",
        "#Iter 97  time=0.12  loss=502.87   active=40836 feature_norm=166.76\n",
        "#Iter 98  time=0.12  loss=502.65   active=40681 feature_norm=166.76\n",
        "#Iter 99  time=0.12  loss=502.43   active=40504 feature_norm=166.77\n",
        "#Iter 100 time=0.13  loss=502.20   active=40420 feature_norm=166.76"
      ],
      "execution_count": 36,
      "outputs": [
        {
          "output_type": "stream",
          "text": [
            "loading training data to CRFsuite: 100%|██████████| 800/800 [00:01<00:00, 405.52it/s]\n"
          ],
          "name": "stderr"
        },
        {
          "output_type": "stream",
          "text": [
            "\n",
            "Feature generation\n",
            "type: CRF1d\n",
            "feature.minfreq: 0.000000\n",
            "feature.possible_states: 0\n",
            "feature.possible_transitions: 1\n",
            "0....1....2....3....4....5....6....7....8....9....10\n",
            "Number of features: 275388\n",
            "Seconds required: 0.420\n",
            "\n",
            "L-BFGS optimization\n",
            "c1: 0.041800\n",
            "c2: 0.000560\n",
            "num_memories: 6\n",
            "max_iterations: 100\n",
            "epsilon: 0.000010\n",
            "stop: 10\n",
            "delta: 0.000010\n",
            "linesearch: MoreThuente\n",
            "linesearch.max_iterations: 20\n",
            "\n",
            "Iter 1   time=0.12  loss=26689.36 active=268474 feature_norm=1.00\n",
            "Iter 2   time=0.06  loss=25594.32 active=273586 feature_norm=1.13\n",
            "Iter 3   time=0.06  loss=23129.59 active=273026 feature_norm=1.61\n",
            "Iter 4   time=0.06  loss=19259.31 active=273538 feature_norm=3.45\n",
            "Iter 5   time=0.07  loss=16745.22 active=274396 feature_norm=4.93\n",
            "Iter 6   time=0.07  loss=15125.05 active=274673 feature_norm=6.38\n",
            "Iter 7   time=0.07  loss=11850.19 active=272228 feature_norm=10.11\n",
            "Iter 8   time=0.07  loss=9420.81  active=266865 feature_norm=16.35\n",
            "Iter 9   time=0.07  loss=7722.62  active=263806 feature_norm=19.74\n",
            "Iter 10  time=0.07  loss=6647.92  active=260621 feature_norm=23.28\n",
            "Iter 11  time=0.07  loss=4907.31  active=247909 feature_norm=32.81\n",
            "Iter 12  time=0.12  loss=4383.24  active=238768 feature_norm=39.87\n",
            "Iter 13  time=0.07  loss=3444.97  active=235392 feature_norm=45.85\n",
            "Iter 14  time=0.07  loss=2776.99  active=231585 feature_norm=54.13\n",
            "Iter 15  time=0.07  loss=2288.97  active=226589 feature_norm=62.39\n",
            "Iter 16  time=0.07  loss=1809.67  active=213300 feature_norm=78.87\n",
            "Iter 17  time=0.07  loss=1526.64  active=207524 feature_norm=83.43\n",
            "Iter 18  time=0.07  loss=1328.67  active=195570 feature_norm=89.14\n",
            "Iter 19  time=0.07  loss=1144.60  active=177003 feature_norm=95.39\n",
            "Iter 20  time=0.07  loss=986.86   active=166101 feature_norm=100.54\n",
            "Iter 21  time=0.12  loss=957.44   active=157581 feature_norm=102.32\n",
            "Iter 22  time=0.07  loss=851.64   active=152569 feature_norm=103.33\n",
            "Iter 23  time=0.07  loss=791.85   active=143701 feature_norm=103.96\n",
            "Iter 24  time=0.07  loss=727.45   active=122131 feature_norm=104.89\n",
            "Iter 25  time=0.22  loss=722.26   active=112406 feature_norm=104.39\n",
            "Iter 26  time=0.07  loss=678.82   active=88474 feature_norm=104.91\n",
            "Iter 27  time=0.07  loss=651.28   active=76202 feature_norm=105.13\n",
            "Iter 28  time=0.07  loss=612.40   active=47784 feature_norm=107.07\n",
            "Iter 29  time=0.07  loss=598.33   active=45092 feature_norm=107.66\n",
            "Iter 30  time=0.07  loss=586.05   active=43349 feature_norm=108.66\n",
            "Iter 31  time=0.07  loss=562.48   active=34864 feature_norm=113.57\n",
            "Iter 32  time=0.07  loss=552.45   active=33738 feature_norm=116.15\n",
            "Iter 33  time=0.07  loss=544.37   active=30499 feature_norm=118.03\n",
            "Iter 34  time=0.07  loss=535.44   active=28563 feature_norm=121.14\n",
            "Iter 35  time=0.07  loss=528.43   active=27265 feature_norm=124.06\n",
            "Iter 36  time=0.07  loss=522.44   active=26363 feature_norm=126.04\n",
            "Iter 37  time=0.07  loss=516.84   active=25230 feature_norm=128.28\n",
            "Iter 38  time=0.07  loss=512.17   active=23964 feature_norm=130.26\n",
            "Iter 39  time=0.07  loss=508.55   active=23152 feature_norm=131.56\n",
            "Iter 40  time=0.07  loss=505.66   active=22543 feature_norm=132.44\n",
            "Iter 41  time=0.07  loss=502.65   active=21706 feature_norm=133.74\n",
            "Iter 42  time=0.06  loss=500.11   active=21148 feature_norm=134.55\n",
            "Iter 43  time=0.07  loss=497.79   active=20545 feature_norm=135.35\n",
            "Iter 44  time=0.07  loss=495.67   active=20048 feature_norm=136.00\n",
            "Iter 45  time=0.07  loss=493.50   active=19582 feature_norm=136.67\n",
            "Iter 46  time=0.07  loss=491.45   active=19333 feature_norm=137.00\n",
            "Iter 47  time=0.07  loss=489.00   active=18931 feature_norm=137.34\n",
            "Iter 48  time=0.07  loss=486.81   active=18608 feature_norm=137.61\n",
            "Iter 49  time=0.07  loss=484.85   active=18273 feature_norm=137.68\n",
            "Iter 50  time=0.07  loss=482.60   active=17957 feature_norm=137.80\n",
            "Iter 51  time=0.06  loss=479.81   active=17447 feature_norm=137.69\n",
            "Iter 52  time=0.07  loss=477.73   active=17338 feature_norm=137.65\n",
            "Iter 53  time=0.07  loss=475.58   active=17122 feature_norm=137.61\n",
            "Iter 54  time=0.07  loss=473.39   active=16838 feature_norm=137.66\n",
            "Iter 55  time=0.07  loss=471.85   active=16370 feature_norm=137.81\n",
            "Iter 56  time=0.07  loss=469.91   active=16481 feature_norm=137.98\n",
            "Iter 57  time=0.07  loss=468.71   active=16488 feature_norm=138.16\n",
            "Iter 58  time=0.07  loss=467.18   active=15861 feature_norm=138.53\n",
            "Iter 59  time=0.07  loss=466.69   active=16046 feature_norm=138.82\n",
            "Iter 60  time=0.07  loss=465.34   active=16532 feature_norm=138.81\n",
            "Iter 61  time=0.07  loss=464.91   active=16417 feature_norm=138.86\n",
            "Iter 62  time=0.07  loss=463.35   active=15969 feature_norm=139.17\n",
            "Iter 63  time=0.07  loss=462.49   active=15754 feature_norm=139.44\n",
            "Iter 64  time=0.07  loss=460.84   active=15705 feature_norm=139.82\n",
            "Iter 65  time=0.07  loss=459.97   active=15646 feature_norm=140.03\n",
            "Iter 66  time=0.07  loss=458.83   active=15252 feature_norm=140.67\n",
            "Iter 67  time=0.07  loss=458.03   active=15290 feature_norm=140.92\n",
            "Iter 68  time=0.07  loss=457.36   active=15270 feature_norm=141.18\n",
            "Iter 69  time=0.07  loss=456.28   active=14932 feature_norm=141.86\n",
            "Iter 70  time=0.07  loss=455.61   active=14936 feature_norm=142.18\n",
            "Iter 71  time=0.07  loss=454.90   active=14869 feature_norm=142.53\n",
            "Iter 72  time=0.07  loss=454.30   active=14663 feature_norm=142.94\n",
            "Iter 73  time=0.07  loss=453.75   active=14555 feature_norm=143.33\n",
            "Iter 74  time=0.07  loss=453.23   active=14454 feature_norm=143.69\n",
            "Iter 75  time=0.07  loss=452.76   active=14302 feature_norm=144.14\n",
            "Iter 76  time=0.06  loss=452.29   active=14219 feature_norm=144.53\n",
            "Iter 77  time=0.07  loss=451.90   active=14210 feature_norm=144.87\n",
            "Iter 78  time=0.07  loss=451.50   active=14124 feature_norm=145.15\n",
            "Iter 79  time=0.07  loss=451.12   active=14077 feature_norm=145.48\n",
            "Iter 80  time=0.07  loss=450.74   active=13956 feature_norm=145.79\n",
            "Iter 81  time=0.07  loss=450.38   active=13811 feature_norm=146.14\n",
            "Iter 82  time=0.07  loss=450.05   active=13729 feature_norm=146.41\n",
            "Iter 83  time=0.07  loss=449.79   active=13642 feature_norm=146.63\n",
            "Iter 84  time=0.07  loss=449.51   active=13556 feature_norm=146.76\n",
            "Iter 85  time=0.07  loss=449.26   active=13508 feature_norm=146.80\n",
            "Iter 86  time=0.07  loss=448.98   active=13428 feature_norm=146.83\n",
            "Iter 87  time=0.07  loss=448.73   active=13350 feature_norm=146.88\n",
            "Iter 88  time=0.07  loss=448.50   active=13196 feature_norm=146.95\n",
            "Iter 89  time=0.07  loss=448.29   active=13011 feature_norm=147.08\n",
            "Iter 90  time=0.07  loss=448.10   active=12947 feature_norm=147.17\n",
            "Iter 91  time=0.07  loss=447.87   active=12864 feature_norm=147.31\n",
            "Iter 92  time=0.07  loss=447.66   active=12801 feature_norm=147.43\n",
            "Iter 93  time=0.07  loss=447.46   active=12783 feature_norm=147.56\n",
            "Iter 94  time=0.07  loss=447.25   active=12726 feature_norm=147.65\n",
            "Iter 95  time=0.07  loss=447.06   active=12592 feature_norm=147.79\n",
            "Iter 96  time=0.07  loss=446.91   active=12653 feature_norm=147.85\n",
            "Iter 97  time=0.07  loss=446.74   active=12609 feature_norm=147.89\n",
            "Iter 98  time=0.07  loss=446.53   active=12368 feature_norm=147.98\n",
            "Iter 99  time=0.07  loss=446.43   active=12420 feature_norm=148.23\n",
            "Iter 100 time=0.07  loss=446.29   active=12526 feature_norm=148.23\n",
            "L-BFGS terminated with the maximum number of iterations\n",
            "Total seconds required for training: 7.068\n",
            "\n",
            "Storing the model\n",
            "Number of active features: 12526 (275388)\n",
            "Number of active attributes: 10035 (260107)\n",
            "Number of active labels: 2 (2)\n",
            "Writing labels\n",
            "Writing attributes\n",
            "Writing feature references for transitions\n",
            "Writing feature references for attributes\n",
            "Seconds required: 0.011\n",
            "\n",
            "CPU times: user 9.48 s, sys: 102 ms, total: 9.58 s\n",
            "Wall time: 9.53 s\n"
          ],
          "name": "stdout"
        }
      ]
    },
    {
      "cell_type": "code",
      "metadata": {
        "id": "qmj6S-4rU8Uo",
        "cellView": "form",
        "colab": {
          "base_uri": "https://localhost:8080/",
          "height": 86
        },
        "outputId": "ed9f2020-cd34-44bd-9f3d-a9c73341a0b1"
      },
      "source": [
        "#@title Other results output\n",
        "\n",
        "#10K training result\n",
        "\"\"\"\n",
        "...\n",
        "Iter 100 time=12.33 loss=10530.99 active=390821 feature_norm=685.44\n",
        "L-BFGS terminated with the maximum number of iterations\n",
        "Total seconds required for training: 1230.288\n",
        "\n",
        "Storing the model\n",
        "Number of active features: 390821 (5502276)\n",
        "Number of active attributes: 278042 (5143490)\n",
        "Number of active labels: 2 (2)\n",
        "Writing labels\n",
        "Writing attributes\n",
        "Writing feature references for transitions\n",
        "Writing feature references for attributes\n",
        "Seconds required: 0.385\n",
        "\n",
        "CPU times: user 26min 32s, sys: 1.6 s, total: 26min 33s\n",
        "Wall time: 26min 28s\n",
        "\"\"\"\n",
        "\n",
        "#9K--50 iteration 20GB after trained --87369 69K-train\n",
        "#CPU times: user 21min 5s, sys: 6.45 s, total: 21min 12s\n",
        "#Wall time: 21min 10s\n",
        "# 9k 75 iteration\n",
        "#CPU times: user 28min 23s, sys: 4.09 s, total: 28min 28s\n",
        "#Wall time: 28min 25s\n",
        "#9k 100 iteration\n",
        "#CPU times: user 35min 21s, sys: 8.72 s, total: 35min 30s\n",
        "#Wall time: 35min 26s\n",
        "#doc=100 iteration=180\n",
        "#CPU times: user 35.2 s, sys: 68.7 ms, total: 35.3 s\n",
        "#Wall time: 35.3 s, iteration=100 -> 21.1s\n",
        "\n",
        "# Article: 9K, Iteration: 50,  2019-08-05 --highest mem 24.06GB, When done drop down to 19.68GB\n",
        "# Number of features: 6981607\n",
        "# Seconds required: 44.406 \n",
        "# Iter 49  time=14.24 loss=26350.31 active=1164011 feature_norm=779.13\n",
        "# Iter 50  time=14.80 loss=25847.63 active=1125240 feature_norm=780.49\n",
        "# L-BFGS terminated with the maximum number of iterations\n",
        "# Total seconds required for training: 748.383\n",
        "# Number of active features: 1125240 (6981607)\n",
        "# Number of active attributes: 902100 (6598527)\n",
        "# Number of active labels: 2 (2)\n",
        "# CPU times: user 17min 1s, sys: 9.32 s, total: 17min 11s\n",
        "\n",
        "# Article: 9K, Iteration: 100\n",
        "# Iter 99  time=14.35 loss=19717.68 active=560402 feature_norm=766.44\n",
        "# Iter 100 time=14.25 loss=19686.23 active=556896 feature_norm=765.60\n",
        "# L-BFGS terminated with the maximum number of iterations\n",
        "# Total seconds required for training: 1481.437\n",
        "# Number of active features: 556896 (6981607)\n",
        "# Number of active attributes: 408955 (6598527)\n",
        "# Number of active labels: 2 (2)\n",
        "# Seconds required: 0.460\n",
        "# CPU times: user 30min 2s, sys: 6.81 s, total: 30min 9s"
      ],
      "execution_count": 37,
      "outputs": [
        {
          "output_type": "execute_result",
          "data": {
            "application/vnd.google.colaboratory.intrinsic+json": {
              "type": "string"
            },
            "text/plain": [
              "'\\n...\\nIter 100 time=12.33 loss=10530.99 active=390821 feature_norm=685.44\\nL-BFGS terminated with the maximum number of iterations\\nTotal seconds required for training: 1230.288\\n\\nStoring the model\\nNumber of active features: 390821 (5502276)\\nNumber of active attributes: 278042 (5143490)\\nNumber of active labels: 2 (2)\\nWriting labels\\nWriting attributes\\nWriting feature references for transitions\\nWriting feature references for attributes\\nSeconds required: 0.385\\n\\nCPU times: user 26min 32s, sys: 1.6 s, total: 26min 33s\\nWall time: 26min 28s\\n'"
            ]
          },
          "metadata": {
            "tags": []
          },
          "execution_count": 37
        }
      ]
    },
    {
      "cell_type": "markdown",
      "metadata": {
        "id": "fEd_Blw4RCVl"
      },
      "source": [
        "#### CRF Fit - using pycrfsuite (not using this option)\n",
        "We are currently not using this option. We test the performance between the two and they are the same since they use the same underlying CRFSuite. It's just the api format is different. We prefer sklearn_crfsuite to match the sklearn library approach."
      ]
    },
    {
      "cell_type": "code",
      "metadata": {
        "id": "VTJozyFScIdO",
        "colab": {
          "base_uri": "https://localhost:8080/"
        },
        "outputId": "af9c7af9-4772-4817-8e57-e19cca812e5b"
      },
      "source": [
        "%%time\n",
        "import pycrfsuite\n",
        "trainer = pycrfsuite.Trainer(verbose=False)\n",
        "\n",
        "# Submit training data to the trainer\n",
        "for xseq, yseq in zip(X_train, y_train):\n",
        "    trainer.append(xseq, yseq)\n",
        "\n",
        "# Set the parameters of the model\n",
        "trainer.set_params({\n",
        "    # coefficient for L1 penalty\n",
        "    'c1': 0.1, #0.1\n",
        "\n",
        "    # coefficient for L2 penalty\n",
        "    'c2': 0.1, #0.01 \n",
        "\n",
        "    # maximum number of iterations\n",
        "    'max_iterations': 200, #200,\n",
        "\n",
        "    # whether to include transitions that\n",
        "    # are possible, but not observed\n",
        "    'feature.possible_transitions': True\n",
        "})\n",
        "\n",
        "# Provide a file name as a parameter to the train function, such that\n",
        "# the model will be saved to the file when training is finished\n",
        "trainer.train('crf.model')\n",
        "\n"
      ],
      "execution_count": 38,
      "outputs": [
        {
          "output_type": "stream",
          "text": [
            "CPU times: user 19.9 s, sys: 3.07 ms, total: 19.9 s\n",
            "Wall time: 20 s\n"
          ],
          "name": "stdout"
        }
      ]
    },
    {
      "cell_type": "markdown",
      "metadata": {
        "id": "bcoBjznTwNmM"
      },
      "source": [
        "### Train on different size for comparison"
      ]
    },
    {
      "cell_type": "code",
      "metadata": {
        "id": "30Lwd44LT37Y",
        "colab": {
          "base_uri": "https://localhost:8080/",
          "height": 0
        },
        "outputId": "83577aa4-8aca-4f1b-f5ca-c19136f61ecd"
      },
      "source": [
        "#@title Train on different size\n",
        "# train on different size(100,200,300,..900) of 1K docs\n",
        "'''\n",
        "test_doc_count = []\n",
        "test_perf = []\n",
        "for r in range(9):\n",
        "  tsize= (10-(r+1))/10.0\n",
        "  X_train, X_test, y_train, y_test = train_test_split(X[0:1000], y[0:1000], test_size=tsize, random_state=1)\n",
        "  \n",
        "  crf = sklearn_crfsuite.CRF(\n",
        "    algorithm='lbfgs',  # 'l2sgd'\n",
        "    c1=0.015,           # not need for l2sgd\n",
        "    c2=0.0037,\n",
        "    max_iterations=100,\n",
        "    all_possible_transitions=True,\n",
        "    verbose=False\n",
        "  )\n",
        "  crf.fit(X_train, y_train)\n",
        "  result = crf.score(X_train, y_train)\n",
        "  result_test = crf.score(X_test, y_test)\n",
        "  print(\"Train set count:\", len(X_train), \"Perf on training set:\", result, \"Test set:\", result_test)\n",
        "  test_doc_count.append(len(X_train))\n",
        "  test_perf.append(result_test)\n",
        "'''\n"
      ],
      "execution_count": 39,
      "outputs": [
        {
          "output_type": "execute_result",
          "data": {
            "application/vnd.google.colaboratory.intrinsic+json": {
              "type": "string"
            },
            "text/plain": [
              "'\\ntest_doc_count = []\\ntest_perf = []\\nfor r in range(9):\\n  tsize= (10-(r+1))/10.0\\n  X_train, X_test, y_train, y_test = train_test_split(X[0:1000], y[0:1000], test_size=tsize, random_state=1)\\n  \\n  crf = sklearn_crfsuite.CRF(\\n    algorithm=\\'lbfgs\\',  # \\'l2sgd\\'\\n    c1=0.015,           # not need for l2sgd\\n    c2=0.0037,\\n    max_iterations=100,\\n    all_possible_transitions=True,\\n    verbose=False\\n  )\\n  crf.fit(X_train, y_train)\\n  result = crf.score(X_train, y_train)\\n  result_test = crf.score(X_test, y_test)\\n  print(\"Train set count:\", len(X_train), \"Perf on training set:\", result, \"Test set:\", result_test)\\n  test_doc_count.append(len(X_train))\\n  test_perf.append(result_test)\\n'"
            ]
          },
          "metadata": {
            "tags": []
          },
          "execution_count": 39
        }
      ]
    },
    {
      "cell_type": "code",
      "metadata": {
        "id": "m7Rlk0n2hTyL",
        "colab": {
          "base_uri": "https://localhost:8080/",
          "height": 0
        },
        "outputId": "2b9c0c79-6446-468f-f1a2-6f1c397eea49"
      },
      "source": [
        "import matplotlib.pyplot as plt\n",
        "#TODO add training perf\n",
        "#plt.plot(test_doc_count, test_perf, 'ro')\n",
        "# manual plotting on large dataset 5000-9000 that takes more resource and time to run\n",
        "plt.figure(figsize=(8,5))\n",
        "plt.plot([100,200,300,400,500,600,700,800,900],[0.920,0.944,0.956,0.964,0.967,0.975,0.979,0.981,0.983], 'bo')\n",
        "plt.plot([2000,3000,5000,6000,8000,9000], [0.994,0.995,0.995,0.996,0.996,0.999], 'go')\n",
        "plt.plot([5000,9000], [0.9994,0.9998], 'ro')\n",
        "\n",
        "plt.axis([0, 10000, 0.90, 1.00])\n",
        "plt.ylabel('Accuracy')\n",
        "plt.xlabel('Number of Documents')\n",
        "plt.legend([\"Test Set--100\",'Test Set--9k', 'Training Set --9k'], loc='best')\n",
        "plt.show()"
      ],
      "execution_count": 40,
      "outputs": [
        {
          "output_type": "display_data",
          "data": {
            "image/png": "[encoded data removed]",
            "text/plain": [
              "<Figure size 576x360 with 1 Axes>"
            ]
          },
          "metadata": {
            "tags": [],
            "needs_background": "light"
          }
        }
      ]
    },
    {
      "cell_type": "markdown",
      "metadata": {
        "id": "0G5Ur7NIwWDh"
      },
      "source": [
        "### Predict the test set and look at performance"
      ]
    },
    {
      "cell_type": "code",
      "metadata": {
        "id": "16utira91Kx1",
        "colab": {
          "base_uri": "https://localhost:8080/"
        },
        "outputId": "68f9363f-6bd2-4c9f-d6fe-10b8f6ed2c00"
      },
      "source": [
        "import pickle\n",
        "#filename = 'sklearn_crf_model_100-100i.sav'\n",
        "#filename = 'sklearn_crf_model_9k-50i.sav'\n",
        "#filename = 'sklearn_crf_model_100-100i.sav'\n",
        "filename = 'sklearn_crf_model_10k-100i.sav'\n",
        "\n",
        "# save model to disk for further run\n",
        "pickle.dump(crf, open(filename, 'wb'))\n",
        "print(\"File:\", filename)\n",
        "\n",
        "# load the model from disk\n",
        "loaded_model = pickle.load(open(filename, 'rb'))\n",
        "result = loaded_model.score(X_train, y_train)\n",
        "print(\"Train set num sentences:\", len(y_train))\n",
        "print(\"Performance on training set:\", result)\n",
        "\n",
        "result = loaded_model.score(X_test, y_test)\n",
        "print(\"Test set num sentences:\", len(y_test))\n",
        "print(\"Performance on test set:\", result)\n",
        "\n",
        "\n",
        "#y_predict = loaded_model.predict(X_test)\n",
        "#print(\"x_test[0]\", X_test[0])\n",
        "#print(\"y_predict[0]\", y_predict[0])\n",
        "\n",
        "#File: sklearn_crf_model_100-100i.sav --optimized param\n",
        "#Performance on training set: 0.9997040369361904\n",
        "#Performance on test set: 0.9783544382758406\n",
        "#NOTE perf is lower 0.9819 \n",
        "\n",
        "#File: sklearn_crf_model_100-100i.sav -- with text corrections\n",
        "#Performance on training set: 0.9996959978111842\n",
        "#Performance on test set: 0.979850704383454\n",
        "\n",
        "#File: sklearn_crf_model_8k-50i.sav -- 08-05-2019\n",
        "#Performance on training set: 0.9992224760896037\n",
        "#Performance on test set: 0.9961086516225393\n",
        "\n",
        "#With new 10K docs -- full 10k training on 20% test split 10/22/2019\n",
        "#Train set num sentences: 58324\n",
        "#Performance on training set: 0.9997693866559333\n",
        "#Test set num sentences: 14581\n",
        "#Performance on test set: 0.9974465107523913\n",
        "\n",
        "#File: sklearn_crf_model_100-100i.sav -- old c1,c2\n",
        "#Train set num sentences: 696\n",
        "#Performance on training set: 0.9999144212430926\n",
        "#Test set num sentences: 175\n",
        "#Performance on test set: 0.982883439025759\n",
        "\n",
        "#File: sklearn_crf_model_100-100i.sav\n",
        "#Train set num sentences: 696\n",
        "#Performance on training set: 0.9999144212430926\n",
        "#Test set num sentences: 175\n",
        "#Performance on test set: 0.9839497165946461"
      ],
      "execution_count": 41,
      "outputs": [
        {
          "output_type": "stream",
          "text": [
            "File: sklearn_crf_model_10k-100i.sav\n",
            "Train set num sentences: 800\n",
            "Performance on training set: 0.9999449329099286\n",
            "Test set num sentences: 200\n",
            "Performance on test set: 0.9874046084315034\n"
          ],
          "name": "stdout"
        }
      ]
    },
    {
      "cell_type": "code",
      "metadata": {
        "id": "2k_X2zCBaK_l",
        "colab": {
          "base_uri": "https://localhost:8080/"
        },
        "outputId": "af9246b1-79ce-4668-934d-204cebabbf51"
      },
      "source": [
        "t = \"ចំណែកជើងទី២ នឹងត្រូវធ្វើឡើងឯប្រទេសកាតា៕\"\n",
        "t_correct = \"ចំណែក ជើង ទី ២ នឹង ត្រូវ ធ្វើឡើង ឯ ប្រទេស កាតា ៕ \"\n",
        "skcc = seg_kcc(t)\n",
        "print(\"len kcc:\", len(skcc), skcc)\n",
        "features = create_kcc_features(skcc)\n",
        "pred = loaded_model.predict([features])\n",
        "print(\"features:\", features[0:2])\n",
        "print(\"\\npredict seg:\", pred )\n",
        "\n",
        "separator = \"-\"\n",
        "tkcc = []\n",
        "for k in features:\n",
        "  tkcc.append(k['kcc'])\n",
        "print(\"kcc:\", tkcc)\n",
        "complete = \"\"\n",
        "for i, p in enumerate(pred[0]):\n",
        "    if p == \"1\":\n",
        "      complete += separator + tkcc[i]\n",
        "    else:\n",
        "      complete += tkcc[i]\n",
        "complete = complete.strip(separator)\n",
        "complete = complete.replace(separator+\" \"+separator, \" \")\n",
        "print(\"segment:\", complete)\n",
        "print(\"correct:\", t_correct)"
      ],
      "execution_count": 42,
      "outputs": [
        {
          "output_type": "stream",
          "text": [
            "len kcc: 21 ['ចំ', 'ណែ', 'ក', 'ជើ', 'ង', 'ទី', '២', 'នឹ', 'ង', 'ត្រូ', 'វ', 'ធ្វើ', 'ឡើ', 'ង', 'ឯ', 'ប្រ', 'ទេ', 'ស', 'កា', 'តា', '៕']\n",
            "features: [{'kcc': 'ចំ', 't': 'K2', 'ns': False, 'BOS': True, 'kcc[+1]': 'ណែ', 'kcc[+1]t': 'K2', 'kcc[+1:0]': 'ចំណែ', 'ns+1': False, 'kcc[+2]': 'ក', 'kcc[+2]t': 'C', 'kcc[+1:+2]': 'ណែក', 'kcc[0:+2]': 'ចំណែក', 'ns+2': False, 'kcc[+3]': 'ជើ', 'kcc[+3]t': 'K2', 'kcc[+2:+3]': 'កជើ', 'kcc[+1:+3]': 'ណែកជើ', 'kcc[0:+3]': 'ចំណែកជើ'}, {'kcc': 'ណែ', 't': 'K2', 'ns': False, 'kcc[-1]': 'ចំ', 'kcc[-1]t': 'K2', 'kcc[-1:0]': 'ចំណែ', 'ns-1': False, 'kcc[+1]': 'ក', 'kcc[+1]t': 'C', 'kcc[+1:0]': 'ណែក', 'ns+1': False, 'kcc[+2]': 'ជើ', 'kcc[+2]t': 'K2', 'kcc[+1:+2]': 'កជើ', 'kcc[0:+2]': 'ណែកជើ', 'ns+2': False, 'kcc[+3]': 'ង', 'kcc[+3]t': 'C', 'kcc[+2:+3]': 'ជើង', 'kcc[+1:+3]': 'កជើង', 'kcc[0:+3]': 'ណែកជើង'}]\n",
            "\n",
            "predict seg: [['1', '0', '0', '1', '0', '1', '1', '1', '0', '1', '0', '1', '1', '0', '1', '1', '0', '0', '1', '0', '1']]\n",
            "kcc: ['ចំ', 'ណែ', 'ក', 'ជើ', 'ង', 'ទី', '២', 'នឹ', 'ង', 'ត្រូ', 'វ', 'ធ្វើ', 'ឡើ', 'ង', 'ឯ', 'ប្រ', 'ទេ', 'ស', 'កា', 'តា', '៕']\n",
            "segment: ចំណែក-ជើង-ទី-២-នឹង-ត្រូវ-ធ្វើ-ឡើង-ឯ-ប្រទេស-កាតា-៕\n",
            "correct: ចំណែក ជើង ទី ២ នឹង ត្រូវ ធ្វើឡើង ឯ ប្រទេស កាតា ៕ \n"
          ],
          "name": "stdout"
        }
      ]
    },
    {
      "cell_type": "code",
      "metadata": {
        "id": "CgLF3PNEUeyP",
        "colab": {
          "base_uri": "https://localhost:8080/"
        },
        "outputId": "c55ed025-7581-427c-c259-21072170bd64"
      },
      "source": [
        "# output predicted -- give a string to be split by newline and sentences\n",
        "def segment_text(str, spacer=\" \"):\n",
        "  complete = \"\"\n",
        "  for sen in str.split('\\n'):\n",
        "    if sen.strip() == \"\": continue\n",
        "    sen = sen.replace(u' ','')\n",
        "    kccs = seg_kcc(sen)\n",
        "    features=create_kcc_features(kccs)\n",
        "    # predicts take list of sentences features\n",
        "    prediction = crf.predict([features])\n",
        "  \n",
        "    #print(\"-len kccs:\", len(kccs), \" data 13:\", kccs[:13])\n",
        "    #print(\"-len feature:\", len(features), \" data 3:\", features[:3])\n",
        "    #print(\"-len prediction:\", len(prediction), \"data[0]:\", prediction[0])\n",
        "\n",
        "    for i, p in enumerate(prediction[0]):\n",
        "        if p == \"1\":\n",
        "            complete += spacer + kccs[i]\n",
        "        else:\n",
        "            complete += kccs[i]\n",
        "    complete += \"\\n\"\n",
        "  complete = complete.replace(spacer+\" \", \" \").replace(\" \"+spacer, \" \") # no 200b before or after space\n",
        "  return complete[:-1]\n",
        "\n",
        "print(\"seg:\", segment_text(\"ចំណែកជើងទី២ \\n\\n\\nនឹងត្រូវធ្វើឡើង\\n\\nឯប្រទេសកាតា៕\"))"
      ],
      "execution_count": 43,
      "outputs": [
        {
          "output_type": "stream",
          "text": [
            "seg:  ចំណែក ជើង ទី ២\n",
            " នឹង ត្រូវ ធ្វើ ឡើង\n",
            " ឯ ប្រទេស កាតា ៕\n"
          ],
          "name": "stdout"
        }
      ]
    },
    {
      "cell_type": "code",
      "metadata": {
        "id": "scfZ_HINJLUR",
        "colab": {
          "base_uri": "https://localhost:8080/"
        },
        "outputId": "91533234-9fef-4034-f639-93a1dde510cb"
      },
      "source": [
        "t_orig = \"\"\"សេតវិមាន​ទាត់ចោល​កិច្ចសហការ​ក្នុង​ការស៊ើបអង្កេត​ដើម្បី​ចោទប្រកាន់​លើ​លោក​ត្រាំ\n",
        "\n",
        "​សេតវិមាន​ដ៏​រឹងរូស​បាន​ប្រកាស​សង្គ្រាម​កាលពី​ថ្ងៃអង្គារ​ទី ៨ តុលា​ប្រឆាំង​នឹង​ការស៊ើបអង្កេត​ដើម្បី​ចោទប្រកាន់​លោក​ដូណាល់ ​ត្រាំ ​ដោយ​ពន្លះ​ដំណើរការ​នេះ​ថា​ ​បក្សពួក​និយម ​ខុស​ច្បាប់​ ​និង​ ​ផ្ទុយ​រដ្ឋធម្មនុញ្ញ ​ហើយ​និយាយ​ថា​ទាំង​ប្រធានាធិបតី​និង​រដ្ឋបាល​របស់​គាត់​នឹង​មិន​សហការ​ទេ​នៅក្នុង​លិខិត​ពោរពេញ​ដោយ​កំហឹង​ ​សេតវិមាន​បាន​វាយ​សំពង​ទៅលើ​ប្រធាន​សភា​លោកស្រី​ណាន់​ស៊ី ​ផេឡូស៊ី ​និង​ ​ប្រធាន​គណៈកម្មាធិការ​សភា​ចំនួន​ ៣ ​ដែល​ដឹកនាំ​ការស៊ើបអង្កេត​នេះ​ ​ដោយ​ជំរុញ​ពួកគេ​ឱ្យ​បន្ត​ប្រឹងប្រែង​បណ្តេញ​លោក​ត្រាំតទៅទៀត​ចុះ​ ​ទោះបី​គ្មាន​កិច្ចសហប្រតិបត្តិការ​នា​ពេល​អនាគត​ក៏ដោយ​។\n",
        "\n",
        "​ទីប្រឹក្សា​សេតវិមាន​លោក​ផាត់ ​ស៊ី​បូល​ឡូន ​បាន​សរសេរ​នៅក្នុង​លិខិត​កម្រាស់​ ៨ ​ទំព័រ​ថា​ “​និយាយ​ឱ្យ​ចំ​ទៅ​ ​អ្នក​កំពុង​ស្វះស្វែង​បដិសេធ​លទ្ធផល​នៃ​ការបោះឆ្នោត​ឆ្នាំ​ ២០១៦ ​និង​ដកហូត​សិទ្ធិ​របស់​ពលរដ្ឋ​អាម៉េរិក​ក្នុង​ការបោះឆ្នោត​ជ្រើសរើស​ប្រធានាធិបតី​ដោយ​សេរី​”​។\n",
        "\n",
        "​ទាក់ទិន​នឹង​ការស៊ើបអង្កេត​ដែល​កំពុង​ធ្វើឡើង​ដើម្បី​រកមើល​ថា​តើ​លោក​ត្រាំ​បាន​រំលោភ​ការិយាល័យ​របស់​លោក​ដោយ​ស្វែងរក​ការស៊ើបអង្កេត​អំពី​អំពើពុករលួយ​នៅ​អ៊ុយក្រែន​លើ​គូ​ប្រជែង​របស់​លោក​គឺ​លោក​ ​ចូ ​បាយ​ដិន ​ឬ​អត់​នោះ​ លោក​ស៊ីបូល​ឡូន​និយាយ​ថា​ “​ការស៊ើបអង្កេត​របស់​អ្នកឯង​ខ្វះ​មូលដ្ឋាន​រដ្ឋធម្មនុញ្ញ​ស្រប​ច្បាប់​ ​ខ្វះ​អំណះអំណាង​យុត្តិធម៌​ ​និង​សូម្បី​ខ្វះ​នូវ​ភស្តុតាង​គោលបំផុត​ក្នុង​ដំណើរការ​ស៊ើបអង្កេត​នេះ​។\n",
        "\n",
        " ​ប្រធានាធិបតី​ត្រាំ​មិន​អាច​អនុញ្ញាតឱ្យ​រដ្ឋបាល​គាត់​ចូលរួម​ក្នុង​ការស៊ើបអង្កេត​ប្រកាន់​បក្ខពួក​នេះ​នៅក្រោម​កាលៈទេសៈ​ដូច្នេះ​ទេ​”​។\n",
        "\n",
        " ​លោកស្រី​ផេឡូស៊ី​បាន​វាយ​បក​វិញ​ ​ដោយ​ហៅ​លិខិត​នោះ​ថា​ “​ខុស​ទាំង​ដុល​” ​និង​ពណ៌នាវា​ថា​ជា​ “​ការប៉ុនប៉ង​ខុស​ច្បាប់​មួយ​ទៀត​ដើម្បី​លាក់បាំង​ការពិត​”​។\n",
        "\n",
        " ​លោកស្រី​និយាយ​ថា​ ​“​ប្រធានាធិបតី​ត្រាំ ​លោក​ឯង​មិន​អាច​នៅ​ពីលើ​ច្បាប់​បាន​ទេ​។\n",
        "\n",
        " ​លោក​ឯង​នឹង​ត្រូវ​ចាប់​ឱ្យ​ទទួលខុសត្រូវ​”​។\n",
        "\n",
        " ​លោកស្រី​បាន​ព្រមាន​ថា​ “​ការបន្ត​ប្រឹងប្រែង​លាក់បាំង​ការពិត​នៃ​ការរំលោភ​អំណាច​របស់​ប្រធានាធិបតី​ពី​ប្រជាជន​នឹង​ត្រូវ​ចាត់ទុក​ជា​ភស្តុតាង​បន្ថែម​ទៀត​នៃ​ការធ្វើឱ្យ​ស្ទះ​ដល់​ការអនុវត្ត​ច្បាប់​”​៕\n",
        "\n",
        " ​ដោយ​៖​ ​កញ្ញា​ដាលី​ស\"\"\"\n",
        "t=t_orig.replace(\" \",\"\")\n",
        "seg = segment_text(t,\"\\u2022\")\n",
        "print(\"seg:\", seg.replace(\"  \",\" \"))\n",
        "print(\"orig:\", t_orig.replace(\" \", \"\\u2022\").replace(\"\\n\\n\",\"\\n\"))"
      ],
      "execution_count": 44,
      "outputs": [
        {
          "output_type": "stream",
          "text": [
            "seg: •សេត•វិមាន•​•ទាត់•ចោល•​•កិច្ច•សហ•ការ•​•ក្នុង•​•ការ•ស៊ើប•អង្កេត•​•ដើម្បី•​•ចោទ•ប្រកាន់•​•លើ•​•លោក•​•ត្រាំ\n",
            "•​•សេត•វិមាន•​•ដ៏•​•រឹង•រូស•​•បាន•​•ប្រកាស•​•សង្គ្រាម•​•កាល•ពី•​•ថ្ងៃ•អង្គារ•​•ទី•៨•តុលា•​•ប្រឆាំង•​•នឹង•​•ការ•ស៊ើប•អង្កេត•​•ដើម្បី•​•ចោទ•ប្រកាន់•​•លោក•​•ដូណាល់•​•ត្រាំ•​•ដោយ•​•ពន្លះ•​•ដំណើរ•ការ•​•នេះ•​•ថា•​​•បក្ស•ពួក•​•និយម•​•ខុស•​•ច្បាប់•​​•និង•​​•ផ្ទុយ•​•រដ្ឋ•ធម្មនុញ្ញ•​•ហើយ•​•និយាយ•​•ថា•​•ទាំង•​•ប្រធានាធិបតី•​•និង•​•រដ្ឋ•បាល•​•របស់•​•គាត់•​•នឹង•​•មិន•​•សហ•ការ•​•ទេ•​•នៅ•ក្នុង•​•លិខិត•​•ពោរ•ពេញ•​•ដោយ•​•កំហឹង•​​•សេត•វិមាន•​•បាន•​•វាយ•​•សំពង•​•ទៅ•លើ•​•ប្រធាន•​•សភា•​•លោក•ស្រី•​•ណាន់•​ស៊ី•​•ផេឡូស៊ី•​•និង•​​•ប្រធាន•​•គណៈកម្មាធិការ•​•សភា•​•ចំនួន•​•៣•​•ដែល•​•ដឹក•នាំ•​•ការ•ស៊ើប•អង្កេត•​•នេះ•​​•ដោយ•​•ជំរុញ•​•ពួក•គេ•​•ឱ្យ•​•បន្ត•​•ប្រឹងប្រែង•​•បណ្តេញ•​•លោក•​•ត្រាំត•ទៅ•ទៀត•​•ចុះ•​​•ទោះបី•​•គ្មាន•​•កិច្ច•សហ•ប្រតិបត្តិ•ការ•​•នា​•ពេល•​•អនាគត•​•ក៏•ដោយ•​•។\n",
            "•​•ទី•ប្រឹក្សា•​•សេត•វិមាន•​•លោក•​•ផាត់•​ស៊ី•​•បូល•​•ឡូន•​•បាន•​•សរសេរ•​•នៅ•ក្នុង•​•លិខិត•​•កម្រាស់•​•៨•​•ទំព័រ•​•ថា•​“​•និយាយ•​•ឱ្យ•​•ចំ​•ទៅ•​​•អ្នក•​•កំពុង•​•ស្វះស្វែង•​•បដិសេធ•​•លទ្ធ•ផល•​•នៃ•​•ការ•បោះ•ឆ្នោត•​•ឆ្នាំ•​•២០១៦•​•និង•​•ដក•ហូត•​•សិទ្ធិ•​•របស់•​•ពល•រដ្ឋ•​•អាម៉េរិក•​•ក្នុង•​•ការ•បោះ•ឆ្នោត•​•ជ្រើស•រើស•​•ប្រធានាធិបតី•​•ដោយ•​•សេរី•​”​•។\n",
            "•​•ទាក់•ទិន•​•នឹង•​•ការ•ស៊ើប•អង្កេត•​•ដែល•​•កំពុង•​•ធ្វើ•ឡើង•​•ដើម្បី•​•រក•មើល•​•ថា•​•តើ•​•លោក•​•ត្រាំ•​•បាន•​•រំលោភ•​•ការិយាល័យ•​•របស់•​•លោក•​•ដោយ•​•ស្វែង•រក•​•ការ•ស៊ើប•អង្កេត•​•អំពី•​•អំពើ•ពុក•រលួយ•​•នៅ•​•អ៊ុយ•ក្រែន•​•លើ•​•គូ•​•ប្រជែង•​•របស់•​•លោក•​•គឺ•​•លោក•​​•ចូ•​•បាយ•​•ដិន•​•ឬ•​•អត់•​•នោះ•​•លោក•​•ស៊ីបូល•​•ឡូន•​•និយាយ•​•ថា•​“​•ការ•ស៊ើប•អង្កេត•​•របស់•​•អ្នក•ឯង•​•ខ្វះ•​•មូលដ្ឋាន•​•រដ្ឋ•ធម្មនុញ្ញ•​•ស្រប•​•ច្បាប់•​​•ខ្វះ•​•អំណះ•អំណាង•​•យុត្តិ•ធម៌•​​•និង•​•សូម្បី•​•ខ្វះ•​•នូវ•​•ភស្តុតាង•​•គោល•បំផុត•​•ក្នុង•​•ដំណើរ•ការ•​•ស៊ើប•អង្កេត•​•នេះ•​•។\n",
            "•​•ប្រធានាធិបតី•​•ត្រាំ•​•មិន•​•អាច•​•អនុញ្ញាត•ឱ្យ•​•រដ្ឋ•បាល•​•គាត់•​•ចូល•រួម•​•ក្នុង•​•ការ•ស៊ើប•អង្កេត•​•ប្រកាន់•​•បក្ខពួក•​•នេះ•​•នៅ•ក្រោម•​•កាលៈ•ទេសៈ•​•ដូច្នេះ•​•ទេ•​”​•។\n",
            "•​•លោក•ស្រី•​•ផេឡូស៊ី•​•បាន•​•វាយ•​•បក•​•វិញ•​​•ដោយ•​•ហៅ•​•លិខិត•​•នោះ•​•ថា•​“​•ខុស•​•ទាំង•​•ដុល•​”​•និង•​•ពណ៌•នាវា•​•ថា•​•ជា•​“​•ការ•ប៉ុនប៉ង•​•ខុស•​•ច្បាប់•​•មួយ•​•ទៀត•​•ដើម្បី•​•លាក់•បាំង•​•ការ•ពិត•​”​•។\n",
            "•​•លោក•ស្រី•​•និយាយ•​•ថា•​​“​•ប្រធានាធិបតី•​•ត្រាំ•​•លោក•​•ឯង•​•មិន•​•អាច•​•នៅ•​•ពី•លើ•​•ច្បាប់•​•បាន•​•ទេ•​•។\n",
            "•​•លោក•​•ឯង•​•នឹង•​•ត្រូវ•​•ចាប់•​•ឱ្យ•​•ទទួល•ខុស•ត្រូវ•​”​•។\n",
            "•​•លោក•ស្រី•​•បាន•​•ព្រមាន•​•ថា•​“​•ការ•បន្ត•​•ប្រឹងប្រែង•​•លាក់•បាំង•​•ការ•ពិត•​•នៃ•​•ការ•រំលោភ•​•អំណាច•​•របស់•​•ប្រធានាធិបតី•​•ពី•​•ប្រជា•ជន•​•នឹង•​•ត្រូវ•​•ចាត់•ទុក•​•ជា•​•ភស្តុតាង•​•បន្ថែម•​•ទៀត•​•នៃ•​•ការ•ធ្វើ•ឱ្យ•​•ស្ទះ•​•ដល់•​•ការ•អនុវត្ត•​•ច្បាប់•​”​•៕\n",
            "•​•ដោយ•​•៖•​​•កញ្ញា•​•ដាលី•​•ស\n",
            "orig: សេតវិមាន​ទាត់ចោល​កិច្ចសហការ​ក្នុង​ការស៊ើបអង្កេត​ដើម្បី​ចោទប្រកាន់​លើ​លោក​ត្រាំ\n",
            "​សេតវិមាន​ដ៏​រឹងរូស​បាន​ប្រកាស​សង្គ្រាម​កាលពី​ថ្ងៃអង្គារ​ទី•៨•តុលា​ប្រឆាំង​នឹង​ការស៊ើបអង្កេត​ដើម្បី​ចោទប្រកាន់​លោក​ដូណាល់•​ត្រាំ•​ដោយ​ពន្លះ​ដំណើរការ​នេះ​ថា​•​បក្សពួក​និយម•​ខុស​ច្បាប់​•​និង​•​ផ្ទុយ​រដ្ឋធម្មនុញ្ញ•​ហើយ​និយាយ​ថា​ទាំង​ប្រធានាធិបតី​និង​រដ្ឋបាល​របស់​គាត់​នឹង​មិន​សហការ​ទេ​នៅក្នុង​លិខិត​ពោរពេញ​ដោយ​កំហឹង​•​សេតវិមាន​បាន​វាយ​សំពង​ទៅលើ​ប្រធាន​សភា​លោកស្រី​ណាន់​ស៊ី•​ផេឡូស៊ី•​និង​•​ប្រធាន​គណៈកម្មាធិការ​សភា​ចំនួន​•៣•​ដែល​ដឹកនាំ​ការស៊ើបអង្កេត​នេះ​•​ដោយ​ជំរុញ​ពួកគេ​ឱ្យ​បន្ត​ប្រឹងប្រែង​បណ្តេញ​លោក​ត្រាំតទៅទៀត​ចុះ​•​ទោះបី​គ្មាន​កិច្ចសហប្រតិបត្តិការ​នា​ពេល​អនាគត​ក៏ដោយ​។\n",
            "​ទីប្រឹក្សា​សេតវិមាន​លោក​ផាត់•​ស៊ី​បូល​ឡូន•​បាន​សរសេរ​នៅក្នុង​លិខិត​កម្រាស់​•៨•​ទំព័រ​ថា​•“​និយាយ​ឱ្យ​ចំ​ទៅ​•​អ្នក​កំពុង​ស្វះស្វែង​បដិសេធ​លទ្ធផល​នៃ​ការបោះឆ្នោត​ឆ្នាំ​•២០១៦•​និង​ដកហូត​សិទ្ធិ​របស់​ពលរដ្ឋ​អាម៉េរិក​ក្នុង​ការបោះឆ្នោត​ជ្រើសរើស​ប្រធានាធិបតី​ដោយ​សេរី​”​។\n",
            "​ទាក់ទិន​នឹង​ការស៊ើបអង្កេត​ដែល​កំពុង​ធ្វើឡើង​ដើម្បី​រកមើល​ថា​តើ​លោក​ត្រាំ​បាន​រំលោភ​ការិយាល័យ​របស់​លោក​ដោយ​ស្វែងរក​ការស៊ើបអង្កេត​អំពី​អំពើពុករលួយ​នៅ​អ៊ុយក្រែន​លើ​គូ​ប្រជែង​របស់​លោក​គឺ​លោក​•​ចូ•​បាយ​ដិន•​ឬ​អត់​នោះ​•លោក​ស៊ីបូល​ឡូន​និយាយ​ថា​•“​ការស៊ើបអង្កេត​របស់​អ្នកឯង​ខ្វះ​មូលដ្ឋាន​រដ្ឋធម្មនុញ្ញ​ស្រប​ច្បាប់​•​ខ្វះ​អំណះអំណាង​យុត្តិធម៌​•​និង​សូម្បី​ខ្វះ​នូវ​ភស្តុតាង​គោលបំផុត​ក្នុង​ដំណើរការ​ស៊ើបអង្កេត​នេះ​។\n",
            "•​ប្រធានាធិបតី​ត្រាំ​មិន​អាច​អនុញ្ញាតឱ្យ​រដ្ឋបាល​គាត់​ចូលរួម​ក្នុង​ការស៊ើបអង្កេត​ប្រកាន់​បក្ខពួក​នេះ​នៅក្រោម​កាលៈទេសៈ​ដូច្នេះ​ទេ​”​។\n",
            "•​លោកស្រី​ផេឡូស៊ី​បាន​វាយ​បក​វិញ​•​ដោយ​ហៅ​លិខិត​នោះ​ថា​•“​ខុស​ទាំង​ដុល​”•​និង​ពណ៌នាវា​ថា​ជា​•“​ការប៉ុនប៉ង​ខុស​ច្បាប់​មួយ​ទៀត​ដើម្បី​លាក់បាំង​ការពិត​”​។\n",
            "•​លោកស្រី​និយាយ​ថា​•​“​ប្រធានាធិបតី​ត្រាំ•​លោក​ឯង​មិន​អាច​នៅ​ពីលើ​ច្បាប់​បាន​ទេ​។\n",
            "•​លោក​ឯង​នឹង​ត្រូវ​ចាប់​ឱ្យ​ទទួលខុសត្រូវ​”​។\n",
            "•​លោកស្រី​បាន​ព្រមាន​ថា​•“​ការបន្ត​ប្រឹងប្រែង​លាក់បាំង​ការពិត​នៃ​ការរំលោភ​អំណាច​របស់​ប្រធានាធិបតី​ពី​ប្រជាជន​នឹង​ត្រូវ​ចាត់ទុក​ជា​ភស្តុតាង​បន្ថែម​ទៀត​នៃ​ការធ្វើឱ្យ​ស្ទះ​ដល់​ការអនុវត្ត​ច្បាប់​”​៕\n",
            "•​ដោយ​៖​•​កញ្ញា​ដាលី​ស\n"
          ],
          "name": "stdout"
        }
      ]
    },
    {
      "cell_type": "markdown",
      "metadata": {
        "id": "BKtS2Ou8a6Kz"
      },
      "source": [
        "### Result on different sizes and parameters"
      ]
    },
    {
      "cell_type": "markdown",
      "metadata": {
        "id": "CsaRldUS_gsD"
      },
      "source": [
        "<pre>\n",
        "# Performance on 100 docs -- try different parameters\n",
        "#Performance on training set: 0.9997610717638024\n",
        "#Performance on test set: 0.9721994535519126\n",
        "# Increase iteration to 200 -- didn't help (training set already got close to 1.0)\n",
        "#Performance on training set: 0.9997799966153326\n",
        "#Performance on test set: 0.9779427359490986\n",
        "# 100 iteration\n",
        "#Performance on training set: 0.9998124882805175\n",
        "#Performance on test set: 0.9768734559429042\n",
        "# 50 iteration\n",
        "#Performance on training set: 0.9998124882805175\n",
        "#Performance on test set: 0.978040076859731\n",
        "# iter:100 with c1:0.1 c2:0.1\n",
        "#Performance on training set: 0.9997929606625259\n",
        "#Performance on test set: 0.9800327332242226\n",
        "# iter: 100: c1:0.1 c2.0.01\n",
        "#Performance on training set: 0.9998102139406487\n",
        "#Performance on test set: 0.9814729950900164\n",
        "# iter: 100 c1:0.015 c2:0.0037 -- using the grid search below\n",
        "#Performance on training set: 0.9998102139406487\n",
        "#Performance on test set: 0.9819312602291326\n",
        "\n",
        "#### for 5K articles == 50 itertaion\n",
        "#Performance on training set: 0.9992818143571441\n",
        "#Performance on test set: 0.9954152978132683\n",
        "# 8K article, 77736 sentences model 98MB\n",
        "#Performance on training set: 0.9990976674399077\n",
        "#Performance on test set: 0.996076182286788\n",
        "#9K 50 iteration --125MB -- after train 20GB\n",
        "#Performance on training set: 0.9989628599520689\n",
        "#Performance on test set: 0.9960639776208017\n",
        "#9k 75 iteration--52MB\n",
        "#Performance on training set: 0.9993083406544416\n",
        "#Performance on test set: 0.9962459620036132\n",
        "#9k 100 iteration--41MB\n",
        "#Performance on training set: 0.9993263126303732\n",
        "#Performance on test set: 0.9963247521770143\n",
        "# 5k kcc 100 iteration to compare to char mem used 11MB vs 20MB\n",
        "#Performance on training set: 0.999446032688189\n",
        "#Performance on test set: 0.99588756247573\n",
        "</pre>"
      ]
    },
    {
      "cell_type": "code",
      "metadata": {
        "id": "J9Gbvt6fOwMM",
        "cellView": "form",
        "colab": {
          "base_uri": "https://localhost:8080/",
          "height": 0
        },
        "outputId": "7b73da3b-9117-44ea-d0d3-ddf0d0969a76"
      },
      "source": [
        "#@title Performance on Different CRF Iteration Parameters\n",
        "# Performance with different iteration number on 9K articles count\n",
        "from matplotlib.pylab import plt #load plot library\n",
        "%matplotlib inline\n",
        "plt.figure(figsize=(6,4))\n",
        "plt.plot([50,75,100], [0.9990,0.9993,0.9993], \"--b\",marker='o', label=\"Training Set\")\n",
        "plt.plot([50,75,100], [0.9960,0.9962,0.9963], \"--r\",marker='o', label=\"Test Set\")\n",
        "plt.ylabel('Performance')\n",
        "plt.xlabel('Number of Iterations')\n",
        "plt.legend([\"Training Set\",'Test Set'], loc='best')\n",
        "plt.title(\"Performance on different CRF Iterations Parameters\", fontsize=14)\n",
        "plt.show()\n"
      ],
      "execution_count": 45,
      "outputs": [
        {
          "output_type": "display_data",
          "data": {
            "image/png": "[encoded data removed]",
            "text/plain": [
              "<Figure size 432x288 with 1 Axes>"
            ]
          },
          "metadata": {
            "tags": [],
            "needs_background": "light"
          }
        }
      ]
    },
    {
      "cell_type": "markdown",
      "metadata": {
        "id": "JXovYnXja080"
      },
      "source": [
        "### Model file sizes"
      ]
    },
    {
      "cell_type": "code",
      "metadata": {
        "id": "6kkZG0GjkCRa",
        "colab": {
          "base_uri": "https://localhost:8080/"
        },
        "outputId": "adeeeaba-4c1b-440e-ee14-1d1e74264e5a"
      },
      "source": [
        "print(\"Used seg_text:\", len(seg_text))\n",
        "print(\"total data:\", len(X), len(y))\n",
        "print(\"number of sentences:\", len(sentences))\n",
        "!ls -alh *model*\n",
        "\n",
        "# Look at the model output size per number of document (iteration affect the size)\n",
        "#-rw-r--r-- 1 root root 126M Jul 22 00:23 sklearn_crf_model_9k-50i.sav\n",
        "#-rw-r--r-- 1 root root  52M Jul 21 23:51 sklearn_crf_model_9k-75i.sav\n",
        "#-rw-r--r-- 1 root root  41M Jul 22 01:16 sklearn_crf_model_9k-100i.sav\n",
        "# Doc size obviously affect the model size\n",
        "#-rw-r--r-- 1 root root  41M Jul 22 01:16 sklearn_crf_model_9k-100i.sav\n",
        "#-rw-r--r-- 1 root root  23M Jul 23 04:10 sklearn_crf_model_5k-100i.sav\n",
        "#-rw-r--r-- 1 root root 2.7M Jul 22 19:54 sklearn_crf_model_100-100i.sav"
      ],
      "execution_count": 46,
      "outputs": [
        {
          "output_type": "stream",
          "text": [
            "Used seg_text: 100\n",
            "total data: 1000 1000\n",
            "number of sentences: 1000\n",
            "-rw------- 1 root root 1.8M Dec 10 09:03 crf.model\n",
            "-rw------- 1 root root 929K Dec 10 09:03 sklearn_crf_model_10k-100i.sav\n"
          ],
          "name": "stdout"
        }
      ]
    },
    {
      "cell_type": "code",
      "metadata": {
        "id": "LdjBfe85LJiz",
        "colab": {
          "base_uri": "https://localhost:8080/",
          "height": 0
        },
        "outputId": "e206b73f-9b8d-4da2-d0e7-4f85cfb40cf6"
      },
      "source": [
        "#@title Model File Size Chart\n",
        "%matplotlib inline\n",
        "iterations = [50,75,100]\n",
        "iteration_fsize = [126,52,41]\n",
        "doc_sizes = [9000,5000,100]\n",
        "doc_fsizes = [41,23,2.7]\n",
        "fig, axs = plt.subplots(1, 2, figsize=(9, 3))\n",
        "\n",
        "axs[0].plot(iterations, iteration_fsize, \"--r\",marker='o')\n",
        "axs[0].set_xlabel('Number of Iterations')\n",
        "axs[0].set_ylabel('File Size (MB)')\n",
        "axs[1].plot(doc_sizes, doc_fsizes, \"--r\",marker='o')\n",
        "axs[1].set_ylabel('File Size (MB)')\n",
        "axs[1].set_xlabel('Number of Documents')\n",
        "fig.suptitle('Model File Size', fontsize=14)\n",
        "plt.show()"
      ],
      "execution_count": 47,
      "outputs": [
        {
          "output_type": "display_data",
          "data": {
            "image/png": "[encoded data removed]",
            "text/plain": [
              "<Figure size 648x216 with 2 Axes>"
            ]
          },
          "metadata": {
            "tags": [],
            "needs_background": "light"
          }
        }
      ]
    },
    {
      "cell_type": "markdown",
      "metadata": {
        "id": "_H5OFGfaqPXi"
      },
      "source": [
        "### Hyper parameter tuning"
      ]
    },
    {
      "cell_type": "markdown",
      "metadata": {
        "id": "fFm396Eu7y0V"
      },
      "source": [
        "#### Randomized Search"
      ]
    },
    {
      "cell_type": "code",
      "metadata": {
        "id": "K9sLV8Z5qN7H",
        "colab": {
          "base_uri": "https://localhost:8080/"
        },
        "outputId": "937b603e-ba6c-4e9e-9596-db5033bf0ac2"
      },
      "source": [
        "%%time\n",
        "# use RandomizedSearch with F1 score\n",
        "#import nltk\n",
        "#import sklearn\n",
        "import scipy.stats\n",
        "\n",
        "from sklearn.metrics import make_scorer\n",
        "from sklearn.model_selection import cross_val_score\n",
        "from sklearn.model_selection import RandomizedSearchCV\n",
        "\n",
        "import sklearn_crfsuite\n",
        "from sklearn_crfsuite import scorers\n",
        "from sklearn_crfsuite import metrics\n",
        "\n",
        "# define fixed parameters and parameters to search\n",
        "def run_randomize_search():\n",
        "  crf = sklearn_crfsuite.CRF(\n",
        "      algorithm='lbfgs',\n",
        "      max_iterations=100,\n",
        "      all_possible_transitions=True\n",
        "  )\n",
        "  params_space = {\n",
        "      'c1': scipy.stats.expon(scale=0.5),\n",
        "      'c2': scipy.stats.expon(scale=0.05),\n",
        "  }\n",
        "\n",
        "  #clabels = list(crf.classes_)\n",
        "  clabels = ['1', '0']\n",
        "\n",
        "  # use the same metric for evaluation\n",
        "  f1_scorer = make_scorer(metrics.flat_f1_score,\n",
        "                          average='weighted', labels=clabels)\n",
        "\n",
        "  # search\n",
        "  rs = RandomizedSearchCV(crf, params_space,\n",
        "                          cv=3,\n",
        "                          verbose=1,\n",
        "                          n_jobs=-1,\n",
        "                          n_iter=50,\n",
        "                          scoring=f1_scorer)\n",
        "  rs.fit(X_train, y_train)\n",
        "  return rs\n",
        "\n",
        "# Fitting 3 folds for each of 50 candidates, totalling 150 fits\n",
        "# [Parallel(n_jobs=-1)]: Using backend LokyBackend with 4 concurrent workers.\n",
        "# [Parallel(n_jobs=-1)]: Done  42 tasks      | elapsed:  9.1min\n",
        "# [Parallel(n_jobs=-1)]: Done 150 out of 150 | elapsed: 32.0min finished\n",
        "# CPU times: user 31min 42s, sys: 17.5 s, total: 32min\n",
        "# Wall time: 32min 16s"
      ],
      "execution_count": 48,
      "outputs": [
        {
          "output_type": "stream",
          "text": [
            "CPU times: user 54 µs, sys: 1e+03 ns, total: 55 µs\n",
            "Wall time: 57.7 µs\n"
          ],
          "name": "stdout"
        }
      ]
    },
    {
      "cell_type": "code",
      "metadata": {
        "id": "yJ8Y0Qpi56PP",
        "colab": {
          "base_uri": "https://localhost:8080/"
        },
        "outputId": "dfeea1df-4695-4cbe-8c51-e291c4bbe9a4"
      },
      "source": [
        "#uncomment me to run randomize search\n",
        "rs=run_randomize_search()\n",
        "\n",
        "crf = rs.best_estimator_\n",
        "print('best params:', rs.best_params_)\n",
        "print('best CV score:', rs.best_score_)\n",
        "print('model size: {:0.2f}M'.format(rs.best_estimator_.size_ / 1000000))\n",
        "\n",
        "import pandas as pd\n",
        "print('grid score:', rs.cv_results_)\n",
        "dfrs = pd.DataFrame(rs.cv_results_)\n",
        "dfrs[\"param_c2\"] = dfrs[\"param_c2\"].astype(float)\n",
        "dfrs[\"param_c2\"] = dfrs[\"param_c2\"].astype(float)\n",
        "dfrs.drop(\"params\", axis=1, inplace=True)\n",
        "\n",
        "print(dfrs.head())\n",
        "print(dfrs.info())\n",
        "\n",
        "# for p in dfrs[\"param_c1\"]:\n",
        "#   print (\"P:\",p, type(p))\n",
        "\n",
        "# for s in rs.cv_results_.keys():\n",
        "#   print('rs cv_results key:', s)\n",
        "#   print('rs cv_results:', rs.cv_results_[s])\n",
        "  \n",
        "#best params: {'c1': 0.13787813729888343, 'c2': 0.01439440358969233}\n",
        "#best CV score: 0.971210607745938\n",
        "#model size: 1.73M\n",
        "# 50 plot \n",
        "#best params: {'c1': 0.014907906173550766, 'c2': 0.0037402642391942613}\n",
        "#best CV score: 0.9699000433318031\n",
        "#model size: 3.08M\n",
        "\n",
        "# 100_200b model - 10/27/2019\n",
        "#best params: {'c1': 0.04179350773216069, 'c2': 0.0005561313093527635}\n",
        "#best CV score: 0.9789616724105187\n",
        "#model size: 1.63M"
      ],
      "execution_count": 49,
      "outputs": [
        {
          "output_type": "stream",
          "text": [
            "Fitting 3 folds for each of 50 candidates, totalling 150 fits\n"
          ],
          "name": "stdout"
        },
        {
          "output_type": "stream",
          "text": [
            "/usr/local/lib/python3.6/dist-packages/sklearn/base.py:197: FutureWarning: From version 0.24, get_params will raise an AttributeError if a parameter cannot be retrieved as an instance attribute. Previously it would return None.\n",
            "  FutureWarning)\n",
            "[Parallel(n_jobs=-1)]: Using backend LokyBackend with 4 concurrent workers.\n",
            "[Parallel(n_jobs=-1)]: Done  42 tasks      | elapsed:  5.2min\n",
            "[Parallel(n_jobs=-1)]: Done 150 out of 150 | elapsed: 17.8min finished\n"
          ],
          "name": "stderr"
        },
        {
          "output_type": "stream",
          "text": [
            "best params: {'c1': 0.019511284373741476, 'c2': 0.009381380281877268}\n",
            "best CV score: 0.9838955556550069\n",
            "model size: 1.99M\n",
            "grid score: {'mean_fit_time': array([5.8549432 , 6.14920608, 6.12130984, 6.18345022, 6.12927198,\n",
            "       6.17304198, 6.11599398, 6.20704699, 6.12706892, 6.21070107,\n",
            "       6.16985027, 6.22301062, 6.21561289, 6.15674178, 6.16769568,\n",
            "       6.17421603, 6.21788359, 6.11864909, 6.16506362, 6.10852448,\n",
            "       6.06020355, 6.02795362, 6.02314393, 6.05775841, 6.05491447,\n",
            "       5.9444952 , 6.01198141, 6.06072124, 6.00772651, 5.99996098,\n",
            "       6.10413265, 6.02621826, 6.01715986, 6.04578114, 6.10854093,\n",
            "       6.06175145, 6.10824466, 6.08605758, 6.11501598, 6.13879895,\n",
            "       6.0988435 , 6.05117877, 6.06255817, 6.181674  , 6.00609859,\n",
            "       6.15815051, 6.00624029, 6.03180981, 6.11884729, 6.0704879 ]), 'std_fit_time': array([0.13059319, 0.13822215, 0.17701258, 0.16527787, 0.14157822,\n",
            "       0.10368238, 0.21423874, 0.12452169, 0.1337425 , 0.10854186,\n",
            "       0.1420275 , 0.17487713, 0.2107592 , 0.08965649, 0.13758646,\n",
            "       0.16589189, 0.27451568, 0.13683889, 0.22887114, 0.10693559,\n",
            "       0.0723757 , 0.22590983, 0.14021282, 0.15791247, 0.10628386,\n",
            "       0.21027556, 0.14119595, 0.14080322, 0.08668205, 0.09376199,\n",
            "       0.18186196, 0.15090298, 0.15155585, 0.1946141 , 0.0978735 ,\n",
            "       0.07565912, 0.17142763, 0.17146445, 0.14905   , 0.16531012,\n",
            "       0.12314927, 0.1201275 , 0.17901278, 0.13593282, 0.14044351,\n",
            "       0.07337346, 0.1315541 , 0.17892084, 0.11047849, 0.1462633 ]), 'mean_score_time': array([0.39390278, 0.4047567 , 0.40731366, 0.41037877, 0.40321143,\n",
            "       0.40332977, 0.39440242, 0.40791623, 0.40080078, 0.39620487,\n",
            "       0.40001035, 0.3889962 , 0.39792681, 0.41330353, 0.39360444,\n",
            "       0.4070092 , 0.39460015, 0.39349715, 0.39256628, 0.40398924,\n",
            "       0.39162707, 0.39260308, 0.37951183, 0.38264704, 0.39022533,\n",
            "       0.37934383, 0.38921356, 0.38797394, 0.387302  , 0.39034788,\n",
            "       0.39441156, 0.38520789, 0.37704603, 0.39032467, 0.39003849,\n",
            "       0.39293925, 0.38586521, 0.39589485, 0.38668482, 0.41528845,\n",
            "       0.38203319, 0.38503702, 0.39517943, 0.40603129, 0.38149865,\n",
            "       0.39478254, 0.38935184, 0.38477461, 0.38924225, 0.3938458 ]), 'std_score_time': array([0.01531969, 0.02014209, 0.00397388, 0.02264478, 0.01664796,\n",
            "       0.02029768, 0.01409456, 0.02718659, 0.02235544, 0.01970609,\n",
            "       0.02061667, 0.01913198, 0.0092259 , 0.01833222, 0.01411896,\n",
            "       0.02313004, 0.02311488, 0.01777354, 0.00618028, 0.01952063,\n",
            "       0.01914569, 0.02289014, 0.01604896, 0.01515702, 0.01387733,\n",
            "       0.01942381, 0.01001218, 0.02147241, 0.0169431 , 0.02199037,\n",
            "       0.01089854, 0.01858675, 0.02082471, 0.02186877, 0.01153063,\n",
            "       0.01952654, 0.01761399, 0.0214    , 0.01394755, 0.01485588,\n",
            "       0.01633021, 0.02052887, 0.00542718, 0.02387374, 0.01940104,\n",
            "       0.01479521, 0.00791991, 0.01894647, 0.01685932, 0.01735418]), 'param_c1': masked_array(data=[0.8812713644082805, 0.03203001224698317,\n",
            "                   0.2747720108273038, 0.047450724530743685,\n",
            "                   0.1832461089280306, 0.2677211068018562,\n",
            "                   0.9662630956625997, 0.14872225955924823,\n",
            "                   0.22474021413003625, 1.3224246846317478,\n",
            "                   0.17221392984851083, 1.3216205584508802,\n",
            "                   0.41036586955461263, 0.05602730631081469,\n",
            "                   0.15511286112471676, 0.3306292638532313,\n",
            "                   1.2562355855546095, 1.1742080930162957,\n",
            "                   0.33026833766085995, 0.05587365214674232,\n",
            "                   0.12318566927125933, 0.2626538439686245,\n",
            "                   0.11993305829435487, 0.5502208243241333,\n",
            "                   0.08286891467614758, 1.2413216896275203,\n",
            "                   0.26019895327497244, 0.09469547147566823,\n",
            "                   0.24770091962305088, 0.4758022445589891,\n",
            "                   0.06283090265237933, 0.7656142180875389,\n",
            "                   1.1934398243681172, 0.4759742049457011,\n",
            "                   0.10798872682204325, 0.7138252855200505,\n",
            "                   0.40633034879508345, 0.47645818451569416,\n",
            "                   0.8113194651950344, 0.21872515484947297,\n",
            "                   0.2776614666133317, 1.1403562987479476,\n",
            "                   0.18612482228043156, 0.007492390865164024,\n",
            "                   0.18317885932845243, 0.07604799074004995,\n",
            "                   0.43847521177043924, 1.0507707200478709,\n",
            "                   0.03585701649877195, 0.019511284373741476],\n",
            "             mask=[False, False, False, False, False, False, False, False,\n",
            "                   False, False, False, False, False, False, False, False,\n",
            "                   False, False, False, False, False, False, False, False,\n",
            "                   False, False, False, False, False, False, False, False,\n",
            "                   False, False, False, False, False, False, False, False,\n",
            "                   False, False, False, False, False, False, False, False,\n",
            "                   False, False],\n",
            "       fill_value='?',\n",
            "            dtype=object), 'param_c2': masked_array(data=[0.033380786417546285, 0.01075420879603136,\n",
            "                   0.045774083397570484, 0.08179603820124848,\n",
            "                   0.04934871080489096, 0.1575527099644194,\n",
            "                   0.03941059585110293, 0.055860682875356255,\n",
            "                   0.053692020597911505, 0.0010724482261505817,\n",
            "                   0.023634462822053084, 0.016977593721396757,\n",
            "                   0.14663181219984464, 0.07289019577844807,\n",
            "                   0.022113498138842554, 0.0011933114898958763,\n",
            "                   0.04318066519325014, 0.10331745365564203,\n",
            "                   0.01016145081582952, 0.05803988910854625,\n",
            "                   0.10034519062611147, 0.09404601587302776,\n",
            "                   0.022212951106090714, 0.0337391964980645,\n",
            "                   0.09762825906134176, 0.020978359035203408,\n",
            "                   0.05132924809346606, 0.031698858089965094,\n",
            "                   0.027021600064072115, 0.060423223998360955,\n",
            "                   0.1890514320530902, 0.24886204059995679,\n",
            "                   0.004920603320910599, 0.055478109286352856,\n",
            "                   0.016661281374292746, 0.011711133680926626,\n",
            "                   0.0737468703259444, 0.08509823846678334,\n",
            "                   0.029645238682476524, 0.03560819101938583,\n",
            "                   0.0014939673714914206, 0.051238897881681594,\n",
            "                   0.1089638489899524, 0.043286031530067784,\n",
            "                   0.008681110638484058, 0.0605926248480968,\n",
            "                   0.040863306757258244, 0.06153844780158331,\n",
            "                   0.04403709094783062, 0.009381380281877268],\n",
            "             mask=[False, False, False, False, False, False, False, False,\n",
            "                   False, False, False, False, False, False, False, False,\n",
            "                   False, False, False, False, False, False, False, False,\n",
            "                   False, False, False, False, False, False, False, False,\n",
            "                   False, False, False, False, False, False, False, False,\n",
            "                   False, False, False, False, False, False, False, False,\n",
            "                   False, False],\n",
            "       fill_value='?',\n",
            "            dtype=object), 'params': [{'c1': 0.8812713644082805, 'c2': 0.033380786417546285}, {'c1': 0.03203001224698317, 'c2': 0.01075420879603136}, {'c1': 0.2747720108273038, 'c2': 0.045774083397570484}, {'c1': 0.047450724530743685, 'c2': 0.08179603820124848}, {'c1': 0.1832461089280306, 'c2': 0.04934871080489096}, {'c1': 0.2677211068018562, 'c2': 0.1575527099644194}, {'c1': 0.9662630956625997, 'c2': 0.03941059585110293}, {'c1': 0.14872225955924823, 'c2': 0.055860682875356255}, {'c1': 0.22474021413003625, 'c2': 0.053692020597911505}, {'c1': 1.3224246846317478, 'c2': 0.0010724482261505817}, {'c1': 0.17221392984851083, 'c2': 0.023634462822053084}, {'c1': 1.3216205584508802, 'c2': 0.016977593721396757}, {'c1': 0.41036586955461263, 'c2': 0.14663181219984464}, {'c1': 0.05602730631081469, 'c2': 0.07289019577844807}, {'c1': 0.15511286112471676, 'c2': 0.022113498138842554}, {'c1': 0.3306292638532313, 'c2': 0.0011933114898958763}, {'c1': 1.2562355855546095, 'c2': 0.04318066519325014}, {'c1': 1.1742080930162957, 'c2': 0.10331745365564203}, {'c1': 0.33026833766085995, 'c2': 0.01016145081582952}, {'c1': 0.05587365214674232, 'c2': 0.05803988910854625}, {'c1': 0.12318566927125933, 'c2': 0.10034519062611147}, {'c1': 0.2626538439686245, 'c2': 0.09404601587302776}, {'c1': 0.11993305829435487, 'c2': 0.022212951106090714}, {'c1': 0.5502208243241333, 'c2': 0.0337391964980645}, {'c1': 0.08286891467614758, 'c2': 0.09762825906134176}, {'c1': 1.2413216896275203, 'c2': 0.020978359035203408}, {'c1': 0.26019895327497244, 'c2': 0.05132924809346606}, {'c1': 0.09469547147566823, 'c2': 0.031698858089965094}, {'c1': 0.24770091962305088, 'c2': 0.027021600064072115}, {'c1': 0.4758022445589891, 'c2': 0.060423223998360955}, {'c1': 0.06283090265237933, 'c2': 0.1890514320530902}, {'c1': 0.7656142180875389, 'c2': 0.24886204059995679}, {'c1': 1.1934398243681172, 'c2': 0.004920603320910599}, {'c1': 0.4759742049457011, 'c2': 0.055478109286352856}, {'c1': 0.10798872682204325, 'c2': 0.016661281374292746}, {'c1': 0.7138252855200505, 'c2': 0.011711133680926626}, {'c1': 0.40633034879508345, 'c2': 0.0737468703259444}, {'c1': 0.47645818451569416, 'c2': 0.08509823846678334}, {'c1': 0.8113194651950344, 'c2': 0.029645238682476524}, {'c1': 0.21872515484947297, 'c2': 0.03560819101938583}, {'c1': 0.2776614666133317, 'c2': 0.0014939673714914206}, {'c1': 1.1403562987479476, 'c2': 0.051238897881681594}, {'c1': 0.18612482228043156, 'c2': 0.1089638489899524}, {'c1': 0.007492390865164024, 'c2': 0.043286031530067784}, {'c1': 0.18317885932845243, 'c2': 0.008681110638484058}, {'c1': 0.07604799074004995, 'c2': 0.0605926248480968}, {'c1': 0.43847521177043924, 'c2': 0.040863306757258244}, {'c1': 1.0507707200478709, 'c2': 0.06153844780158331}, {'c1': 0.03585701649877195, 'c2': 0.04403709094783062}, {'c1': 0.019511284373741476, 'c2': 0.009381380281877268}], 'split0_test_score': array([0.97798687, 0.98418432, 0.98247479, 0.98183351, 0.9830624 ,\n",
            "       0.9810856 , 0.9774527 , 0.98290205, 0.98263495, 0.9745676 ,\n",
            "       0.98338298, 0.97478122, 0.98071185, 0.98252805, 0.98348965,\n",
            "       0.98204711, 0.97510195, 0.97483492, 0.98210052, 0.98300891,\n",
            "       0.9828486 , 0.98210076, 0.98348965, 0.98081839, 0.98231429,\n",
            "       0.97531566, 0.98231444, 0.98375687, 0.98284864, 0.98092537,\n",
            "       0.98065803, 0.97755961, 0.97547568, 0.98097878, 0.98402393,\n",
            "       0.97889488, 0.98140622, 0.98108564, 0.97873488, 0.98295554,\n",
            "       0.98183326, 0.9756896 , 0.98215401, 0.98167319, 0.98295522,\n",
            "       0.98354322, 0.98119246, 0.97654442, 0.98332957, 0.98471867]), 'split1_test_score': array([0.97798756, 0.98247148, 0.98119029, 0.98148189, 0.9813068 ,\n",
            "       0.98025882, 0.97740522, 0.98159803, 0.98148152, 0.97583321,\n",
            "       0.9818891 , 0.97565858, 0.97926879, 0.9815401 , 0.98200553,\n",
            "       0.98031644, 0.97571692, 0.97542578, 0.98054943, 0.98148189,\n",
            "       0.98107424, 0.9802587 , 0.98247148, 0.97950124, 0.98136545,\n",
            "       0.97589142, 0.98089914, 0.98252977, 0.98095718, 0.97955959,\n",
            "       0.98031729, 0.97659035, 0.97612431, 0.97967597, 0.98223851,\n",
            "       0.97891908, 0.97985088, 0.97961789, 0.97839513, 0.98136497,\n",
            "       0.98066594, 0.97624095, 0.98095766, 0.98124902, 0.9812483 ,\n",
            "       0.9814236 , 0.98002529, 0.97664848, 0.9818895 , 0.98299585]), 'split2_test_score': array([0.97654985, 0.98402591, 0.98139037, 0.98192838, 0.98187445,\n",
            "       0.98122905, 0.97558183, 0.98208961, 0.9812828 , 0.97418353,\n",
            "       0.98225098, 0.97418351, 0.98031463, 0.98198216, 0.98251987,\n",
            "       0.98095998, 0.97418353, 0.97391466, 0.98106755, 0.98251999,\n",
            "       0.98176696, 0.98117523, 0.98219714, 0.97913138, 0.98165941,\n",
            "       0.97461376, 0.98112144, 0.9830577 , 0.9815517 , 0.97977677,\n",
            "       0.98047621, 0.97601222, 0.97466758, 0.979723  , 0.98235853,\n",
            "       0.97805575, 0.98047599, 0.97961548, 0.97703395, 0.98187443,\n",
            "       0.98122896, 0.97439864, 0.98149797, 0.98117546, 0.98203575,\n",
            "       0.98268124, 0.97999194, 0.97499026, 0.98246623, 0.98397215]), 'mean_test_score': array([0.97750809, 0.98356057, 0.98168515, 0.98174793, 0.98208122,\n",
            "       0.98085783, 0.97681325, 0.98219656, 0.98179976, 0.97486145,\n",
            "       0.98250769, 0.97487444, 0.98009842, 0.98201677, 0.98267169,\n",
            "       0.98110784, 0.9750008 , 0.97472512, 0.98123916, 0.98233693,\n",
            "       0.9818966 , 0.98117823, 0.98271943, 0.979817  , 0.98177972,\n",
            "       0.97527361, 0.98144501, 0.98311478, 0.98178584, 0.98008725,\n",
            "       0.98048384, 0.97672072, 0.97542252, 0.98012592, 0.98287366,\n",
            "       0.97862324, 0.9805777 , 0.98010634, 0.97805466, 0.98206498,\n",
            "       0.98124272, 0.97544306, 0.98153655, 0.98136589, 0.98207975,\n",
            "       0.98254935, 0.98040323, 0.97606105, 0.98256177, 0.98389556]), 'std_test_score': array([0.00067758, 0.00077281, 0.0005643 , 0.00019207, 0.00073148,\n",
            "       0.00042759, 0.00087096, 0.00053771, 0.00059612, 0.0007048 ,\n",
            "       0.00063632, 0.00060579, 0.00060864, 0.00040407, 0.00061533,\n",
            "       0.00071424, 0.00063008, 0.00062178, 0.00064475, 0.0006367 ,\n",
            "       0.00073016, 0.00075202, 0.00055603, 0.00072401, 0.00039659,\n",
            "       0.00052245, 0.00062145, 0.00050258, 0.00078973, 0.00059924,\n",
            "       0.00013921, 0.00063841, 0.0005959 , 0.00060337, 0.00081484,\n",
            "       0.00040139, 0.00063903, 0.00069247, 0.00073495, 0.00066318,\n",
            "       0.00047665, 0.00077206, 0.00048917, 0.00021936, 0.00069754,\n",
            "       0.00087034, 0.00055824, 0.00075836, 0.00059178, 0.00070542]), 'rank_test_score': array([40,  2, 21, 20, 12, 29, 41, 11, 17, 49,  9, 48, 35, 15,  6, 28, 47,\n",
            "       50, 26, 10, 16, 27,  5, 37, 19, 46, 23,  3, 18, 36, 31, 42, 45, 33,\n",
            "        4, 38, 30, 34, 39, 14, 25, 44, 22, 24, 13,  8, 32, 43,  7,  1],\n",
            "      dtype=int32)}\n",
            "   mean_fit_time  std_fit_time  ...  std_test_score  rank_test_score\n",
            "0       5.854943      0.130593  ...        0.000678               40\n",
            "1       6.149206      0.138222  ...        0.000773                2\n",
            "2       6.121310      0.177013  ...        0.000564               21\n",
            "3       6.183450      0.165278  ...        0.000192               20\n",
            "4       6.129272      0.141578  ...        0.000731               12\n",
            "\n",
            "[5 rows x 12 columns]\n",
            "<class 'pandas.core.frame.DataFrame'>\n",
            "RangeIndex: 50 entries, 0 to 49\n",
            "Data columns (total 12 columns):\n",
            " #   Column             Non-Null Count  Dtype  \n",
            "---  ------             --------------  -----  \n",
            " 0   mean_fit_time      50 non-null     float64\n",
            " 1   std_fit_time       50 non-null     float64\n",
            " 2   mean_score_time    50 non-null     float64\n",
            " 3   std_score_time     50 non-null     float64\n",
            " 4   param_c1           50 non-null     object \n",
            " 5   param_c2           50 non-null     float64\n",
            " 6   split0_test_score  50 non-null     float64\n",
            " 7   split1_test_score  50 non-null     float64\n",
            " 8   split2_test_score  50 non-null     float64\n",
            " 9   mean_test_score    50 non-null     float64\n",
            " 10  std_test_score     50 non-null     float64\n",
            " 11  rank_test_score    50 non-null     int32  \n",
            "dtypes: float64(10), int32(1), object(1)\n",
            "memory usage: 4.6+ KB\n",
            "None\n"
          ],
          "name": "stdout"
        }
      ]
    },
    {
      "cell_type": "code",
      "metadata": {
        "id": "Krk-YUVe6Utz",
        "colab": {
          "base_uri": "https://localhost:8080/",
          "height": 751
        },
        "outputId": "174b044e-e0d9-4125-888c-7c16eea4bdc6"
      },
      "source": [
        "%matplotlib inline\n",
        "import matplotlib.pyplot as plt\n",
        "\n",
        "_x = dfrs[\"param_c1\"] #[s.parameters['c1'] for s in rs.cv_results_]\n",
        "_y = dfrs[\"param_c2\"] #[s.parameters['c2'] for s in rs.cv_results_]\n",
        "_c = dfrs[\"mean_test_score\"] #[s.mean_validation_score for s in rs.cv_results_]\n",
        "\n",
        "fig = plt.figure()\n",
        "fig.set_size_inches(12, 12)\n",
        "ax = plt.gca()\n",
        "ax.set_yscale('log')\n",
        "ax.set_xscale('log')\n",
        "ax.set_xlabel('C1')\n",
        "ax.set_ylabel('C2')\n",
        "ax.set_title(\"Randomized Hyperparameter Search CV Results (min={:0.3}, max={:0.3})\".format(\n",
        "    min(_c), max(_c)\n",
        "))\n",
        "\n",
        "#ax.legend(\"o\", _c)\n",
        "ax.scatter(_x, _y, c=_c, s=60, alpha=0.9, edgecolors=[0,0,0])\n",
        "\n",
        "print(\"Dark blue => {:0.4}, dark red => {:0.4}\".format(min(_c), max(_c)))"
      ],
      "execution_count": 50,
      "outputs": [
        {
          "output_type": "stream",
          "text": [
            "Dark blue => 0.9747, dark red => 0.9839\n"
          ],
          "name": "stdout"
        },
        {
          "output_type": "display_data",
          "data": {
            "image/png": "[encoded data removed]",
            "text/plain": [
              "<Figure size 864x864 with 1 Axes>"
            ]
          },
          "metadata": {
            "tags": [],
            "needs_background": "light"
          }
        }
      ]
    },
    {
      "cell_type": "markdown",
      "metadata": {
        "id": "xbNmOwSj78Xd"
      },
      "source": [
        "#### Grid Search"
      ]
    },
    {
      "cell_type": "code",
      "metadata": {
        "id": "aXCSHD6LpEUI"
      },
      "source": [
        "# setup grid search method\n",
        "from sklearn.model_selection import GridSearchCV\n",
        "from time import time\n",
        "def run_grid_search():\n",
        "  parameters = {\n",
        "      'c1': [0.001, 0.01, 0.1],\n",
        "      'c2': [0.001, 0.01, 0.1],\n",
        "  }\n",
        "  # run grid search\n",
        "  grid_search = GridSearchCV(crf, param_grid=parameters, cv=3, iid=False, scoring=f1_scorer)\n",
        "  start = time()\n",
        "  grid_search.fit(X, y)\n",
        "\n",
        "  print(\"GridSearchCV took %.2f seconds for %d candidate parameter settings.\"\n",
        "        % (time() - start, len(grid_search.cv_results_['params'])))\n",
        "  return grid_search"
      ],
      "execution_count": 51,
      "outputs": []
    },
    {
      "cell_type": "code",
      "metadata": {
        "id": "xMBlnacWwXzR"
      },
      "source": [
        "# grid search results\n",
        "import numpy as np\n",
        "#grid_search.cv_results_\n",
        "# Utility function to report best scores\n",
        "def report(results, n_top=3):\n",
        "    for i in range(1, n_top + 1):\n",
        "        candidates = np.flatnonzero(results['rank_test_score'] == i)\n",
        "        for candidate in candidates:\n",
        "            print(\"Model with rank: {0}\".format(i))\n",
        "            print(\"Mean validation score: {0:.3f} (std: {1:.3f})\".format(\n",
        "                  results['mean_test_score'][candidate],\n",
        "                  results['std_test_score'][candidate]))\n",
        "            print(\"Parameters: {0}\".format(results['params'][candidate]))\n",
        "            print(\"\")\n",
        "\n",
        "# uncomment me out to run grid search\n",
        "#gs = run_grid_search()            \n",
        "#report(gs.cv_results_)"
      ],
      "execution_count": 52,
      "outputs": []
    },
    {
      "cell_type": "markdown",
      "metadata": {
        "id": "4jo--pYRQdlO"
      },
      "source": [
        "## Result and Evaluation\n",
        "\n",
        "Edit distance vs accuracy by word\n",
        "Accuracy by character vs word\n",
        "\n",
        "\n"
      ]
    },
    {
      "cell_type": "markdown",
      "metadata": {
        "id": "Cy7wzLifEG7Z"
      },
      "source": [
        "### Performance Result"
      ]
    },
    {
      "cell_type": "code",
      "metadata": {
        "id": "Yz8Dumx7xuDr"
      },
      "source": [
        "#type(crf)\n",
        "crf = loaded_model\n",
        "y_train_predict = crf.predict(X_train)\n",
        "y_predict = crf.predict(X_test)"
      ],
      "execution_count": 53,
      "outputs": []
    },
    {
      "cell_type": "code",
      "metadata": {
        "id": "eCzd01_7fprB"
      },
      "source": [
        "#@title Metric methods \n",
        "def editDistance(s1, s2):\n",
        "    if len(s1) > len(s2):\n",
        "        s1, s2 = s2, s1\n",
        "\n",
        "    distances = range(len(s1) + 1)\n",
        "    for i2, c2 in enumerate(s2):\n",
        "        distances_ = [i2+1]\n",
        "        for i1, c1 in enumerate(s1):\n",
        "            if c1 == c2:\n",
        "                distances_.append(distances[i1])\n",
        "            else:\n",
        "                distances_.append(1 + min((distances[i1], distances[i1 + 1], distances_[-1])))\n",
        "        distances = distances_\n",
        "    return distances[-1]\n",
        "\n",
        "#print(\"test training performance...\", datetime.now())\n",
        "\n",
        "def count_correct_word(correctstr, predictionstr):\n",
        "  #print(\"prediction:\", prediction)\n",
        "  #print(\"   correct:\", correct)\n",
        "  correct = [int(c) for c in correctstr]\n",
        "  prediction = [int(p) for p in predictionstr]\n",
        "  B=False\n",
        "  correct_count = 0\n",
        "  for i,c in enumerate(correct):\n",
        "    p = prediction[i]\n",
        "    nextc = -1\n",
        "    if i < len(correct)-1: \n",
        "      nextc = correct[i+1]\n",
        "    if c==1 and p==1:\n",
        "      B = True\n",
        "      correct_count += 1\n",
        "      #print(i,\"Begin word corect\", correct_count)\n",
        "    if p==0 and c==1 and B:\n",
        "      B = False\n",
        "      correct_count -= 1\n",
        "      #print(i, \"too long\")\n",
        "    if c==0 and p==1: #incorrect\n",
        "      if B: \n",
        "        correct_count -= 1\n",
        "        #print(i,\"bad word\", correct_count)\n",
        "        B = False\n",
        "  return correct_count"
      ],
      "execution_count": 54,
      "outputs": []
    },
    {
      "cell_type": "code",
      "metadata": {
        "id": "uo4k918Cf4vk",
        "colab": {
          "base_uri": "https://localhost:8080/"
        },
        "outputId": "e00716ee-7d8d-47c2-ab78-65ccf3c3de8a"
      },
      "source": [
        "def calc_performance(corrects, predictions): # list of 0/1\n",
        "  tp = 0\n",
        "  fp = 0\n",
        "  fn = 0\n",
        "  n_correct = 0\n",
        "  n_incorrect = 0\n",
        "  total_char = 0\n",
        "  total_word = 0\n",
        "  n_correct_word = 0\n",
        "  \n",
        "  print(\"size of input:\", len(predictions), \"ground truth:\", len(corrects))\n",
        "  if len(predictions) != len(corrects): return 0\n",
        "  \n",
        "  for i, prediction in enumerate(predictions):\n",
        "    correct = corrects[i]\n",
        "    zipped = list(zip(prediction, correct))    \n",
        "    tp +=        len([1 for l, c in zipped if l == c and l == \"1\"])\n",
        "    fp +=        len([1 for l, c in zipped if l == \"1\" and c == \"0\"])\n",
        "    fn +=        len([1 for l, c in zipped if l == \"0\" and c == \"1\"])\n",
        "    n_incorrect += len([1 for l, c in zipped if l != c])\n",
        "    n_correct   += len([1 for l, c in zipped if l == c])\n",
        "\n",
        "    total_word += len([_ for l in correct if l==\"1\"])\n",
        "    total_char += len(prediction)\n",
        "    n_correct_word += count_correct_word(correct, prediction)\n",
        "  \n",
        "  print(\"Total char:\", str(total_char), \" total word:\", str(total_word), \"avg char/word:\", str(total_char/total_word))\n",
        "  print(\"Correct word:\" + str(n_correct_word), \" incorrect word:\", str(total_word - n_correct_word), \"word accuracy:\", n_correct_word/total_word) \n",
        "  \n",
        "  precision = tp/(tp+fp)\n",
        "  recall = tp/(tp+fn)\n",
        "  F1 = 2 * (precision * recall) / (precision + recall)\n",
        "  print(\"Precision:\\t\" + str(precision), \"tp:\", tp, \"fp:\", fp)\n",
        "  print(\"Recall:\\t\\t\" + str(recall), \"fn:\",fn)\n",
        "  print(\"F1-score:\\t\" + str(F1))\n",
        "  print(\"Accuracy:\\t\" + str(n_correct/(n_correct+n_incorrect))) \n",
        "\n",
        "print(\"Train set:======\")\n",
        "calc_performance(y_train, y_train_predict)\n",
        "print(\"Test set:======\")\n",
        "calc_performance(y_test, y_predict)\n",
        "\n",
        "# 8K, 50 iteration\n",
        "# size of input: 14995 ground truth: 14995\n",
        "# Total char: 1267427  total word: 549151 avg char/word: 2.3079754020296783\n",
        "# Correct word:541922  incorrect word: 7229 word accuracy: 0.9868360432740721\n",
        "# Precision:\t0.9957983422948048 tp: 546525 fp: 2306\n",
        "# Recall:\t\t0.9952180729890322 fn: 2626\n",
        "# F1-score:\t0.995508123083985\n",
        "# Accuracy:\t0.9961086516225393\n",
        "\n",
        "# 9K, 50 iteration\n",
        "# size of input: 16777 ground truth: 16777\n",
        "# Total char: 1414183  total word: 611430 avg char/word: 2.3129107174983234\n",
        "# Correct word:603368  incorrect word: 8062 word accuracy: 0.9868145167885122\n",
        "# Precision:\t0.9962516150479069 tp: 608374 fp: 2289\n",
        "# Recall:\t\t0.995001880836727 fn: 3056\n",
        "# F1-score:\t0.9956263557683417\n",
        "# Accuracy:\t0.9962204325748506\n",
        "\n",
        "## 9K, 100 iteration\n",
        "# size of input: 16777 ground truth: 16777\n",
        "# Total char: 1414183  total word: 611430 avg char/word: 2.3129107174983234\n",
        "# Correct word:603921  incorrect word: 7509 word accuracy: 0.9877189539276777\n",
        "# Precision:\t0.9962533268297155 tp: 608653 fp: 2289\n",
        "# Recall:\t\t0.9954581881818033 fn: 2777\n",
        "# F1-score:\t0.9958555987866214\n",
        "# Accuracy:\t0.9964177196303449\n",
        "\n",
        "#2k\n",
        "# size of input: 65431 ground truth: 65431\n",
        "# Total char: 5501263  total word: 2375882 avg char/word: 2.3154613739234526\n",
        "# Correct word:2328188  incorrect word: 47694 word accuracy: 0.9799257707243036\n",
        "# Precision:\t0.9931317368571949 tp: 2358959 fp: 16314\n",
        "# Recall:\t\t0.9928771715093595 fn: 16923\n",
        "# F1-score:\t0.9930044378682658\n",
        "# Accuracy:\t0.9939582964857343\n",
        "\n",
        "#3k\n",
        "# size of input: 56203 ground truth: 56203\n",
        "# Total char: 4721570  total word: 2036734 avg char/word: 2.3182065011925954\n",
        "# Correct word:2001871  incorrect word: 34863 word accuracy: 0.9828828899601028\n",
        "# Precision:\t0.9941444595803693 tp: 2024438 fp: 11924\n",
        "# Recall:\t\t0.9939628837148101 fn: 12296\n",
        "# F1-score:\t0.9940536633558356\n",
        "# Accuracy:\t0.9948703503283866\n",
        "\n",
        "#6k #to copy below X 55k,28k\n",
        "# size of input: 28521 ground truth: 28521\n",
        "# Total char: 2395497  total word: 1033089 avg char/word: 2.3187711804113684\n",
        "# Correct word:1019364  incorrect word: 13725 word accuracy: 0.9867146005813633\n",
        "# Precision:\t0.9959204907423912 tp: 1028021 fp: 4211\n",
        "# Recall:\t\t0.9950943239159453 fn: 5068\n",
        "# F1-score:\t0.9955072359211957\n",
        "# Accuracy:\t0.9961264823124387"
      ],
      "execution_count": 55,
      "outputs": [
        {
          "output_type": "stream",
          "text": [
            "Train set:======\n",
            "size of input: 800 ground truth: 800\n",
            "Total char: 54479  total word: 26709 avg char/word: 2.0397244374555394\n",
            "Correct word:26706  incorrect word: 3 word accuracy: 0.9998876783106818\n",
            "Precision:\t0.9998876909254267 tp: 26709 fp: 3\n",
            "Recall:\t\t1.0 fn: 0\n",
            "F1-score:\t0.9999438423092042\n",
            "Accuracy:\t0.9999449329099286\n",
            "Test set:======\n",
            "size of input: 200 ground truth: 200\n",
            "Total char: 13497  total word: 6640 avg char/word: 2.032680722891566\n",
            "Correct word:6447  incorrect word: 193 word accuracy: 0.970933734939759\n",
            "Precision:\t0.9847168115073419 tp: 6572 fp: 102\n",
            "Recall:\t\t0.9897590361445783 fn: 68\n",
            "F1-score:\t0.9872314856541986\n",
            "Accuracy:\t0.9874046084315034\n"
          ],
          "name": "stdout"
        }
      ]
    },
    {
      "cell_type": "code",
      "metadata": {
        "id": "yZXKmMLjigxr",
        "colab": {
          "base_uri": "https://localhost:8080/"
        },
        "outputId": "2a911b3f-b000-4cef-b91a-0757a485a8dd"
      },
      "source": [
        "flat_predicts = [item for t in y_predict for item in t]\n",
        "flat_true = [item for t in y_test for item in t]\n",
        "from sklearn.metrics import classification_report \n",
        "print(classification_report(flat_predicts, flat_true, \n",
        "      target_names=[\"0\",\"1\"]))"
      ],
      "execution_count": 56,
      "outputs": [
        {
          "output_type": "stream",
          "text": [
            "              precision    recall  f1-score   support\n",
            "\n",
            "           0       0.99      0.99      0.99      6823\n",
            "           1       0.99      0.98      0.99      6674\n",
            "\n",
            "    accuracy                           0.99     13497\n",
            "   macro avg       0.99      0.99      0.99     13497\n",
            "weighted avg       0.99      0.99      0.99     13497\n",
            "\n"
          ],
          "name": "stdout"
        }
      ]
    },
    {
      "cell_type": "markdown",
      "metadata": {
        "id": "FSsrj2Nx5QhK"
      },
      "source": [
        "### Detail performance of specific test set"
      ]
    },
    {
      "cell_type": "code",
      "metadata": {
        "id": "7ZqHJ49MBM_K",
        "colab": {
          "base_uri": "https://localhost:8080/"
        },
        "outputId": "71748cb6-1006-406f-9390-bfc055484585"
      },
      "source": [
        "from datetime import datetime\n",
        "\n",
        "# Test performance on training set\n",
        "def test_performance(sentences):\n",
        "  tp = 0\n",
        "  fp = 0\n",
        "  fn = 0\n",
        "  n_correct = 0\n",
        "  n_incorrect = 0\n",
        "  total_char = 0\n",
        "  total_kcc = 0\n",
        "  total_word = 0\n",
        "  n_correct_word = 0\n",
        "  n_incorrect_word = 0\n",
        "  n_edit = 0\n",
        "  \n",
        "  print(\"size of input:\", len(sentences))\n",
        "  for sen in sentences:\n",
        "    #print(\"size of s:\", len(s)) #testing validation set\n",
        "    sen_orig = sen\n",
        "    \n",
        "    #sen = sen.replace(\" \",\"\") # remove spaces\n",
        "    #kccs = seg_kcc(sen)\n",
        "    total_char += len(sen)\n",
        "    \n",
        "    \n",
        "    \n",
        "    kccs_label = gen_kcc_with_label(sen_orig)\n",
        "    # get kccs without label\n",
        "    kccs = [kl[0] for kl in kccs_label]\n",
        "    total_kcc += len(kccs)\n",
        "    \n",
        "    # predict using pycrfsuite\n",
        "    #prediction = tagger.tag(create_kcc_features(kccs))\n",
        "    \n",
        "    # predict using sklearn_crf\n",
        "    preds = loaded_model.predict([create_kcc_features(kccs)])\n",
        "    prediction = preds[0]\n",
        "    correct = create_labels_from_kccs(kccs_label)\n",
        "    \n",
        "    zipped = list(zip(prediction, correct))\n",
        "    #print(\"len kccs_label\", len(kccs_label), \" pred:\", kccs_label)\n",
        "    #print(\"len correct\", len(correct), \" pred:\", correct)\n",
        "    #print(\"len predict\", len(prediction), \" pred:\", prediction)\n",
        "    #print(\"len sen_orig\", len(sen_orig), \" pred:\", sen_orig)\n",
        "    \n",
        "    #print(\"len zipped\", len(zipped), zipped)\n",
        "    #print(\"seg:\", segment_kcc_phrase(sen.replace(\" \",\"\")))\n",
        "    \n",
        "    tp +=        len([1 for l, c in zipped if l == c and l == \"1\"])\n",
        "    fp +=        len([1 for l, c in zipped if l == \"1\" and c == \"0\"])\n",
        "    fn +=        len([1 for l, c in zipped if l == \"0\" and c == \"1\"])\n",
        "    n_incorrect += len([1 for l, c in zipped if l != c])\n",
        "    n_correct   += len([1 for l, c in zipped if l == c])\n",
        "    #n_correct_word += len([1 for l,c in zipped if l=='1' and c=='1']) \n",
        "    n_correct_word += count_correct_word(correct, prediction)\n",
        "    n_incorrect_word += len([1 for l,c in zipped if l=='0' and c=='1'])\n",
        "    #total_word += len([1 for l in correct if l=='1'])\n",
        "    total_word += len([_ for l in correct if l=='1'])\n",
        "    n_edit += editDistance(prediction,correct)\n",
        "    #print(\"len correct\", len(correct), \" incorrect count:\", n_incorrect)\n",
        "  print(\"Total char:\", str(total_char),\" kcc:\", str(total_kcc), \" total word:\", str(total_word))\n",
        "  print(\"avg char/kcc:\", str(total_char/total_kcc),\" avg char/word:\", str(total_char/total_word),\" avg kcc/word:\", str(total_kcc/total_word))\n",
        "  print(\"correct kcc:\" + str(n_correct), \" incorrect kcc:\", str(n_incorrect), \" kcc accuracy:\", n_correct/total_kcc)\n",
        "  print(\"correct word:\" + str(n_correct_word), \" missed word:\", str(n_incorrect_word), \"word accuracy:\", n_correct_word/total_word) #10: 0.98, 100:0.981\n",
        "  print(\"n_edit:\", n_edit, \"/\", total_word, \" pct edit/kcc:\", (n_edit/total_kcc), \" acc:\", 1.0-(n_edit/total_kcc)) #10 0.98 100:0.99\n",
        "\n",
        "  print(\"Precision:\\t\" + str(tp/(tp+fp))) # 10: 0.96, 100: 0.979\n",
        "  print(\"Recall:\\t\\t\" + str(tp/(tp+fn))) # 10: 0.98, 100: 0.981\n",
        "  print(\"Accuracy:\\t\" + str(n_correct/(n_correct+n_incorrect))) # 10 article 0.986, 100:0.991\n",
        "  \n",
        "\"\"\"\n",
        "avg char/kcc: 1.8177994491178442  avg char/word: 4.701742562818908  avg kcc/word: 2.586502358717628\n",
        "correct kcc:24793  incorrect kcc: 2073\n",
        "correct word:9314  missed word: 1039 word accuracy: 0.8966977953210744\n",
        "n_edit: 85 / 10387  pct edit/word: 0.008183306055646482  acc: 0.9918166939443536\n",
        "Precision:\t0.9000773096250483\n",
        "Recall:\t\t0.8996426156669565\n",
        "Accuracy:\t0.9228392764088439\n",
        "\"\"\"\n",
        "\n",
        "# only use for big dataset which set aside the test set\n",
        "print(\"Performance on training set: ================ \")\n",
        "test_performance(sentences[:500]) # not same test split data -- since test split is all random\n",
        "print(\"Performance on test set: ================ \")\n",
        "test_performance(sentences[500:]) # not the same test split data -- may used in training -- BOGUS"
      ],
      "execution_count": 57,
      "outputs": [
        {
          "output_type": "stream",
          "text": [
            "Performance on training set: ================ \n",
            "size of input: 500\n",
            "Total char: 79824  kcc: 33037  total word: 16222\n",
            "avg char/kcc: 2.4162000181614554  avg char/word: 4.920724941437554  avg kcc/word: 2.0365552952780175\n",
            "correct kcc:32950  incorrect kcc: 87  kcc accuracy: 0.9973665889759966\n",
            "correct word:16127  missed word: 34 word accuracy: 0.9941437553939095\n",
            "n_edit: 81 / 16222  pct edit/kcc: 0.002451796470623846  acc: 0.9975482035293761\n",
            "Precision:\t0.9967366541469121\n",
            "Recall:\t\t0.9979040808778202\n",
            "Accuracy:\t0.9973665889759966\n",
            "Performance on test set: ================ \n",
            "size of input: 500\n",
            "Total char: 83801  kcc: 34939  total word: 17127\n",
            "avg char/kcc: 2.3984945190188616  avg char/word: 4.892917615460968  avg kcc/word: 2.0399953290126702\n",
            "correct kcc:34853  incorrect kcc: 86  kcc accuracy: 0.9975385672171498\n",
            "correct word:17026  missed word: 34 word accuracy: 0.994102878495942\n",
            "n_edit: 84 / 17127  pct edit/kcc: 0.0024041901599931308  acc: 0.9975958098400068\n",
            "Precision:\t0.9969670457859434\n",
            "Recall:\t\t0.9980148303847726\n",
            "Accuracy:\t0.9975385672171498\n"
          ],
          "name": "stdout"
        }
      ]
    },
    {
      "cell_type": "code",
      "metadata": {
        "id": "wl_LIJz4c5ap"
      },
      "source": [
        "cpred = ['1', '0', '1', '1', '1', '0', '1', '0', '1', '0', '0', '0', '0', '1', '1', '0', '1', '0', '1', '1', '0', '0', '1', '0', '0', '0', '1', '0', '1', '0', '1', '1', '0', '1', '1', '1', '0', '1', '0', '1', '0', '0', '0', '0', '1', '1', '0', '1', '0', '1', '1', '1', '1', '0', '0', '0', '1', '0', '1', '1', '1', '0', '1', '0', '0', '1', '1', '0', '1', '1', '1', '0', '1', '0', '1', '0', '0', '1', '0', '0', '1', '0', '0', '0', '1', '0', '1', '1', '1', '0', '1', '0', '1', '0', '1', '1', '0', '1', '1', '1', '0', '1', '1', '1', '0', '1', '0', '1', '0', '1', '0', '0', '1', '1', '1', '0', '1', '0', '0', '1', '1', '0', '1', '1', '1', '0', '1', '0', '0', '1', '0', '0', '0', '1', '0', '0', '1', '0', '1', '0', '1', '0', '0', '1']\n",
        "ppred = ['1', '0', '1', '1', '1', '0', '1', '0', '1', '0', '0', '0', '0', '1', '1', '0', '1', '0', '1', '1', '0', '0', '1', '0', '0', '0', '1', '0', '1', '0', '1', '1', '0', '1', '1', '1', '0', '1', '0', '1', '0', '0', '0', '0', '1', '1', '0', '1', '0', '1', '1', '1', '0', '0', '0', '1', '0', '1', '1', '1', '0', '1', '0', '0', '1', '1', '0', '1', '1', '1', '0', '1', '0', '1', '0', '0', '1', '0', '0', '1', '0', '0', '0', '1', '0', '1', '1', '1', '0', '1', '0', '1', '0', '1', '1', '0', '1', '0', '1', '0', '1', '1', '1', '0', '1', '0', '1', '0', '1', '0', '0', '1', '1', '1', '0', '1', '0', '0', '1', '1', '0', '1', '1', '1', '0', '1', '0', '0', '1', '0', '0', '0', '1', '0', '0', '1', '0', '1', '0', '1', '0', '0', '1']\n"
      ],
      "execution_count": null,
      "outputs": []
    },
    {
      "cell_type": "markdown",
      "metadata": {
        "id": "ND7oa9sTXGhc"
      },
      "source": [
        "### Compare Performance on CRF Both Libraries (pycrfsuite and sklearn crfsuite)\n",
        "The output looks identical between the two libraries."
      ]
    },
    {
      "cell_type": "code",
      "metadata": {
        "id": "m_EfbDHZVKB_",
        "colab": {
          "base_uri": "https://localhost:8080/"
        },
        "outputId": "01348f8d-85cb-4a9c-8d7e-c2bcb1d1f29d"
      },
      "source": [
        "# using pycrfsuite\n",
        "tagger = pycrfsuite.Tagger()\n",
        "tagger.open('crf.model')\n",
        "\n",
        "y_train_pred = [tagger.tag(xseq) for xseq in X_train]\n",
        "print(\"X_train[0]\", X_train[0])\n",
        "print(\"y_train_pred[0]\", y_train_pred[0])\n",
        "print(\"y_train[0]     \", y_train[0])\n",
        "\n",
        "y_pred = [tagger.tag(xseq) for xseq in X_test]\n",
        "print(\"len y_pred:\", len(y_pred))\n",
        "print(\"X_test[0]\", X_test[0])\n",
        "print(\"len y_pred[0]\", len(y_pred[0]), y_pred[0])\n",
        "print(\"y_test[0]\", y_test[0])"
      ],
      "execution_count": 58,
      "outputs": [
        {
          "output_type": "stream",
          "text": [
            "X_train[0] [{'kcc': 'គា', 't': 'K2', 'ns': False, 'BOS': True, 'kcc[+1]': 'ត់', 'kcc[+1]t': 'K2', 'kcc[+1:0]': 'គាត់', 'ns+1': False, 'kcc[+2]': 'បា', 'kcc[+2]t': 'K2', 'kcc[+1:+2]': 'ត់បា', 'kcc[0:+2]': 'គាត់បា', 'ns+2': False, 'kcc[+3]': 'ន', 'kcc[+3]t': 'C', 'kcc[+2:+3]': 'បាន', 'kcc[+1:+3]': 'ត់បាន', 'kcc[0:+3]': 'គាត់បាន'}, {'kcc': 'ត់', 't': 'K2', 'ns': False, 'kcc[-1]': 'គា', 'kcc[-1]t': 'K2', 'kcc[-1:0]': 'គាត់', 'ns-1': False, 'kcc[+1]': 'បា', 'kcc[+1]t': 'K2', 'kcc[+1:0]': 'ត់បា', 'ns+1': False, 'kcc[+2]': 'ន', 'kcc[+2]t': 'C', 'kcc[+1:+2]': 'បាន', 'kcc[0:+2]': 'ត់បាន', 'ns+2': False, 'kcc[+3]': 'ឈ', 'kcc[+3]t': 'C', 'kcc[+2:+3]': 'នឈ', 'kcc[+1:+3]': 'បានឈ', 'kcc[0:+3]': 'ត់បានឈ'}, {'kcc': 'បា', 't': 'K2', 'ns': False, 'kcc[-1]': 'ត់', 'kcc[-1]t': 'K2', 'kcc[-1:0]': 'ត់បា', 'ns-1': False, 'kcc[-2]': 'គា', 'kcc[-2]t': 'K2', 'kcc[-2:-1]': 'គាត់', 'kcc[-2:0]': 'គាត់បា', 'kcc[+1]': 'ន', 'kcc[+1]t': 'C', 'kcc[+1:0]': 'បាន', 'ns+1': False, 'kcc[+2]': 'ឈ', 'kcc[+2]t': 'C', 'kcc[+1:+2]': 'នឈ', 'kcc[0:+2]': 'បានឈ', 'ns+2': False, 'kcc[+3]': 'រ', 'kcc[+3]t': 'C', 'kcc[+2:+3]': 'ឈរ', 'kcc[+1:+3]': 'នឈរ', 'kcc[0:+3]': 'បានឈរ'}, {'kcc': 'ន', 't': 'C', 'ns': False, 'kcc[-1]': 'បា', 'kcc[-1]t': 'K2', 'kcc[-1:0]': 'បាន', 'ns-1': False, 'kcc[-2]': 'ត់', 'kcc[-2]t': 'K2', 'kcc[-2:-1]': 'ត់បា', 'kcc[-2:0]': 'ត់បាន', 'kcc[-3]': 'គា', 'kcc[-3]t': 'K2', 'kcc[-3:0]': 'គាត់បាន', 'kcc[-3:-1]': 'គាត់បា', 'kcc[-3:-2]': 'គាត់', 'kcc[+1]': 'ឈ', 'kcc[+1]t': 'C', 'kcc[+1:0]': 'នឈ', 'ns+1': False, 'kcc[+2]': 'រ', 'kcc[+2]t': 'C', 'kcc[+1:+2]': 'ឈរ', 'kcc[0:+2]': 'នឈរ', 'ns+2': False, 'kcc[+3]': 'ឈ្មោះ', 'kcc[+3]t': 'K5', 'kcc[+2:+3]': 'រឈ្មោះ', 'kcc[+1:+3]': 'ឈរឈ្មោះ', 'kcc[0:+3]': 'នឈរឈ្មោះ'}, {'kcc': 'ឈ', 't': 'C', 'ns': False, 'kcc[-1]': 'ន', 'kcc[-1]t': 'C', 'kcc[-1:0]': 'នឈ', 'ns-1': False, 'kcc[-2]': 'បា', 'kcc[-2]t': 'K2', 'kcc[-2:-1]': 'បាន', 'kcc[-2:0]': 'បានឈ', 'kcc[-3]': 'ត់', 'kcc[-3]t': 'K2', 'kcc[-3:0]': 'ត់បានឈ', 'kcc[-3:-1]': 'ត់បាន', 'kcc[-3:-2]': 'ត់បា', 'kcc[+1]': 'រ', 'kcc[+1]t': 'C', 'kcc[+1:0]': 'ឈរ', 'ns+1': False, 'kcc[+2]': 'ឈ្មោះ', 'kcc[+2]t': 'K5', 'kcc[+1:+2]': 'រឈ្មោះ', 'kcc[0:+2]': 'ឈរឈ្មោះ', 'ns+2': False, 'kcc[+3]': 'ជា', 'kcc[+3]t': 'K2', 'kcc[+2:+3]': 'ឈ្មោះជា', 'kcc[+1:+3]': 'រឈ្មោះជា', 'kcc[0:+3]': 'ឈរឈ្មោះជា'}, {'kcc': 'រ', 't': 'C', 'ns': False, 'kcc[-1]': 'ឈ', 'kcc[-1]t': 'C', 'kcc[-1:0]': 'ឈរ', 'ns-1': False, 'kcc[-2]': 'ន', 'kcc[-2]t': 'C', 'kcc[-2:-1]': 'នឈ', 'kcc[-2:0]': 'នឈរ', 'kcc[-3]': 'បា', 'kcc[-3]t': 'K2', 'kcc[-3:0]': 'បានឈរ', 'kcc[-3:-1]': 'បានឈ', 'kcc[-3:-2]': 'បាន', 'kcc[+1]': 'ឈ្មោះ', 'kcc[+1]t': 'K5', 'kcc[+1:0]': 'រឈ្មោះ', 'ns+1': False, 'kcc[+2]': 'ជា', 'kcc[+2]t': 'K2', 'kcc[+1:+2]': 'ឈ្មោះជា', 'kcc[0:+2]': 'រឈ្មោះជា', 'ns+2': False, 'kcc[+3]': 'បេ', 'kcc[+3]t': 'K2', 'kcc[+2:+3]': 'ជាបេ', 'kcc[+1:+3]': 'ឈ្មោះជាបេ', 'kcc[0:+3]': 'រឈ្មោះជាបេ'}, {'kcc': 'ឈ្មោះ', 't': 'K5', 'ns': False, 'kcc[-1]': 'រ', 'kcc[-1]t': 'C', 'kcc[-1:0]': 'រឈ្មោះ', 'ns-1': False, 'kcc[-2]': 'ឈ', 'kcc[-2]t': 'C', 'kcc[-2:-1]': 'ឈរ', 'kcc[-2:0]': 'ឈរឈ្មោះ', 'kcc[-3]': 'ន', 'kcc[-3]t': 'C', 'kcc[-3:0]': 'នឈរឈ្មោះ', 'kcc[-3:-1]': 'នឈរ', 'kcc[-3:-2]': 'នឈ', 'kcc[+1]': 'ជា', 'kcc[+1]t': 'K2', 'kcc[+1:0]': 'ឈ្មោះជា', 'ns+1': False, 'kcc[+2]': 'បេ', 'kcc[+2]t': 'K2', 'kcc[+1:+2]': 'ជាបេ', 'kcc[0:+2]': 'ឈ្មោះជាបេ', 'ns+2': False, 'kcc[+3]': 'ក្ខ', 'kcc[+3]t': 'K3', 'kcc[+2:+3]': 'បេក្ខ', 'kcc[+1:+3]': 'ជាបេក្ខ', 'kcc[0:+3]': 'ឈ្មោះជាបេក្ខ'}, {'kcc': 'ជា', 't': 'K2', 'ns': False, 'kcc[-1]': 'ឈ្មោះ', 'kcc[-1]t': 'K5', 'kcc[-1:0]': 'ឈ្មោះជា', 'ns-1': False, 'kcc[-2]': 'រ', 'kcc[-2]t': 'C', 'kcc[-2:-1]': 'រឈ្មោះ', 'kcc[-2:0]': 'រឈ្មោះជា', 'kcc[-3]': 'ឈ', 'kcc[-3]t': 'C', 'kcc[-3:0]': 'ឈរឈ្មោះជា', 'kcc[-3:-1]': 'ឈរឈ្មោះ', 'kcc[-3:-2]': 'ឈរ', 'kcc[+1]': 'បេ', 'kcc[+1]t': 'K2', 'kcc[+1:0]': 'ជាបេ', 'ns+1': False, 'kcc[+2]': 'ក្ខ', 'kcc[+2]t': 'K3', 'kcc[+1:+2]': 'បេក្ខ', 'kcc[0:+2]': 'ជាបេក្ខ', 'ns+2': False, 'kcc[+3]': 'ជ', 'kcc[+3]t': 'C', 'kcc[+2:+3]': 'ក្ខជ', 'kcc[+1:+3]': 'បេក្ខជ', 'kcc[0:+3]': 'ជាបេក្ខជ'}, {'kcc': 'បេ', 't': 'K2', 'ns': False, 'kcc[-1]': 'ជា', 'kcc[-1]t': 'K2', 'kcc[-1:0]': 'ជាបេ', 'ns-1': False, 'kcc[-2]': 'ឈ្មោះ', 'kcc[-2]t': 'K5', 'kcc[-2:-1]': 'ឈ្មោះជា', 'kcc[-2:0]': 'ឈ្មោះជាបេ', 'kcc[-3]': 'រ', 'kcc[-3]t': 'C', 'kcc[-3:0]': 'រឈ្មោះជាបេ', 'kcc[-3:-1]': 'រឈ្មោះជា', 'kcc[-3:-2]': 'រឈ្មោះ', 'kcc[+1]': 'ក្ខ', 'kcc[+1]t': 'K3', 'kcc[+1:0]': 'បេក្ខ', 'ns+1': False, 'kcc[+2]': 'ជ', 'kcc[+2]t': 'C', 'kcc[+1:+2]': 'ក្ខជ', 'kcc[0:+2]': 'បេក្ខជ', 'ns+2': False, 'kcc[+3]': 'ន', 'kcc[+3]t': 'C', 'kcc[+2:+3]': 'ជន', 'kcc[+1:+3]': 'ក្ខជន', 'kcc[0:+3]': 'បេក្ខជន'}, {'kcc': 'ក្ខ', 't': 'K3', 'ns': False, 'kcc[-1]': 'បេ', 'kcc[-1]t': 'K2', 'kcc[-1:0]': 'បេក្ខ', 'ns-1': False, 'kcc[-2]': 'ជា', 'kcc[-2]t': 'K2', 'kcc[-2:-1]': 'ជាបេ', 'kcc[-2:0]': 'ជាបេក្ខ', 'kcc[-3]': 'ឈ្មោះ', 'kcc[-3]t': 'K5', 'kcc[-3:0]': 'ឈ្មោះជាបេក្ខ', 'kcc[-3:-1]': 'ឈ្មោះជាបេ', 'kcc[-3:-2]': 'ឈ្មោះជា', 'kcc[+1]': 'ជ', 'kcc[+1]t': 'C', 'kcc[+1:0]': 'ក្ខជ', 'ns+1': False, 'kcc[+2]': 'ន', 'kcc[+2]t': 'C', 'kcc[+1:+2]': 'ជន', 'kcc[0:+2]': 'ក្ខជន', 'ns+2': False, 'kcc[+3]': 'សា', 'kcc[+3]t': 'K2', 'kcc[+2:+3]': 'នសា', 'kcc[+1:+3]': 'ជនសា', 'kcc[0:+3]': 'ក្ខជនសា'}, {'kcc': 'ជ', 't': 'C', 'ns': False, 'kcc[-1]': 'ក្ខ', 'kcc[-1]t': 'K3', 'kcc[-1:0]': 'ក្ខជ', 'ns-1': False, 'kcc[-2]': 'បេ', 'kcc[-2]t': 'K2', 'kcc[-2:-1]': 'បេក្ខ', 'kcc[-2:0]': 'បេក្ខជ', 'kcc[-3]': 'ជា', 'kcc[-3]t': 'K2', 'kcc[-3:0]': 'ជាបេក្ខជ', 'kcc[-3:-1]': 'ជាបេក្ខ', 'kcc[-3:-2]': 'ជាបេ', 'kcc[+1]': 'ន', 'kcc[+1]t': 'C', 'kcc[+1:0]': 'ជន', 'ns+1': False, 'kcc[+2]': 'សា', 'kcc[+2]t': 'K2', 'kcc[+1:+2]': 'នសា', 'kcc[0:+2]': 'ជនសា', 'ns+2': False, 'kcc[+3]': 'ធា', 'kcc[+3]t': 'K2', 'kcc[+2:+3]': 'សាធា', 'kcc[+1:+3]': 'នសាធា', 'kcc[0:+3]': 'ជនសាធា'}, {'kcc': 'ន', 't': 'C', 'ns': False, 'kcc[-1]': 'ជ', 'kcc[-1]t': 'C', 'kcc[-1:0]': 'ជន', 'ns-1': False, 'kcc[-2]': 'ក្ខ', 'kcc[-2]t': 'K3', 'kcc[-2:-1]': 'ក្ខជ', 'kcc[-2:0]': 'ក្ខជន', 'kcc[-3]': 'បេ', 'kcc[-3]t': 'K2', 'kcc[-3:0]': 'បេក្ខជន', 'kcc[-3:-1]': 'បេក្ខជ', 'kcc[-3:-2]': 'បេក្ខ', 'kcc[+1]': 'សា', 'kcc[+1]t': 'K2', 'kcc[+1:0]': 'នសា', 'ns+1': False, 'kcc[+2]': 'ធា', 'kcc[+2]t': 'K2', 'kcc[+1:+2]': 'សាធា', 'kcc[0:+2]': 'នសាធា', 'ns+2': False, 'kcc[+3]': 'រ', 'kcc[+3]t': 'C', 'kcc[+2:+3]': 'ធារ', 'kcc[+1:+3]': 'សាធារ', 'kcc[0:+3]': 'នសាធារ'}, {'kcc': 'សា', 't': 'K2', 'ns': False, 'kcc[-1]': 'ន', 'kcc[-1]t': 'C', 'kcc[-1:0]': 'នសា', 'ns-1': False, 'kcc[-2]': 'ជ', 'kcc[-2]t': 'C', 'kcc[-2:-1]': 'ជន', 'kcc[-2:0]': 'ជនសា', 'kcc[-3]': 'ក្ខ', 'kcc[-3]t': 'K3', 'kcc[-3:0]': 'ក្ខជនសា', 'kcc[-3:-1]': 'ក្ខជន', 'kcc[-3:-2]': 'ក្ខជ', 'kcc[+1]': 'ធា', 'kcc[+1]t': 'K2', 'kcc[+1:0]': 'សាធា', 'ns+1': False, 'kcc[+2]': 'រ', 'kcc[+2]t': 'C', 'kcc[+1:+2]': 'ធារ', 'kcc[0:+2]': 'សាធារ', 'ns+2': False, 'kcc[+3]': 'ណ', 'kcc[+3]t': 'C', 'kcc[+2:+3]': 'រណ', 'kcc[+1:+3]': 'ធារណ', 'kcc[0:+3]': 'សាធារណ'}, {'kcc': 'ធា', 't': 'K2', 'ns': False, 'kcc[-1]': 'សា', 'kcc[-1]t': 'K2', 'kcc[-1:0]': 'សាធា', 'ns-1': False, 'kcc[-2]': 'ន', 'kcc[-2]t': 'C', 'kcc[-2:-1]': 'នសា', 'kcc[-2:0]': 'នសាធា', 'kcc[-3]': 'ជ', 'kcc[-3]t': 'C', 'kcc[-3:0]': 'ជនសាធា', 'kcc[-3:-1]': 'ជនសា', 'kcc[-3:-2]': 'ជន', 'kcc[+1]': 'រ', 'kcc[+1]t': 'C', 'kcc[+1:0]': 'ធារ', 'ns+1': False, 'kcc[+2]': 'ណ', 'kcc[+2]t': 'C', 'kcc[+1:+2]': 'រណ', 'kcc[0:+2]': 'ធារណ', 'ns+2': False, 'kcc[+3]': 'រ', 'kcc[+3]t': 'C', 'kcc[+2:+3]': 'ណរ', 'kcc[+1:+3]': 'រណរ', 'kcc[0:+3]': 'ធារណរ'}, {'kcc': 'រ', 't': 'C', 'ns': False, 'kcc[-1]': 'ធា', 'kcc[-1]t': 'K2', 'kcc[-1:0]': 'ធារ', 'ns-1': False, 'kcc[-2]': 'សា', 'kcc[-2]t': 'K2', 'kcc[-2:-1]': 'សាធា', 'kcc[-2:0]': 'សាធារ', 'kcc[-3]': 'ន', 'kcc[-3]t': 'C', 'kcc[-3:0]': 'នសាធារ', 'kcc[-3:-1]': 'នសាធា', 'kcc[-3:-2]': 'នសា', 'kcc[+1]': 'ណ', 'kcc[+1]t': 'C', 'kcc[+1:0]': 'រណ', 'ns+1': False, 'kcc[+2]': 'រ', 'kcc[+2]t': 'C', 'kcc[+1:+2]': 'ណរ', 'kcc[0:+2]': 'រណរ', 'ns+2': False, 'kcc[+3]': 'ដ្ឋ', 'kcc[+3]t': 'K3', 'kcc[+2:+3]': 'រដ្ឋ', 'kcc[+1:+3]': 'ណរដ្ឋ', 'kcc[0:+3]': 'រណរដ្ឋ'}, {'kcc': 'ណ', 't': 'C', 'ns': False, 'kcc[-1]': 'រ', 'kcc[-1]t': 'C', 'kcc[-1:0]': 'រណ', 'ns-1': False, 'kcc[-2]': 'ធា', 'kcc[-2]t': 'K2', 'kcc[-2:-1]': 'ធារ', 'kcc[-2:0]': 'ធារណ', 'kcc[-3]': 'សា', 'kcc[-3]t': 'K2', 'kcc[-3:0]': 'សាធារណ', 'kcc[-3:-1]': 'សាធារ', 'kcc[-3:-2]': 'សាធា', 'kcc[+1]': 'រ', 'kcc[+1]t': 'C', 'kcc[+1:0]': 'ណរ', 'ns+1': False, 'kcc[+2]': 'ដ្ឋ', 'kcc[+2]t': 'K3', 'kcc[+1:+2]': 'រដ្ឋ', 'kcc[0:+2]': 'ណរដ្ឋ', 'ns+2': False, 'kcc[+3]': 'នៅ', 'kcc[+3]t': 'K2', 'kcc[+2:+3]': 'ដ្ឋនៅ', 'kcc[+1:+3]': 'រដ្ឋនៅ', 'kcc[0:+3]': 'ណរដ្ឋនៅ'}, {'kcc': 'រ', 't': 'C', 'ns': False, 'kcc[-1]': 'ណ', 'kcc[-1]t': 'C', 'kcc[-1:0]': 'ណរ', 'ns-1': False, 'kcc[-2]': 'រ', 'kcc[-2]t': 'C', 'kcc[-2:-1]': 'រណ', 'kcc[-2:0]': 'រណរ', 'kcc[-3]': 'ធា', 'kcc[-3]t': 'K2', 'kcc[-3:0]': 'ធារណរ', 'kcc[-3:-1]': 'ធារណ', 'kcc[-3:-2]': 'ធារ', 'kcc[+1]': 'ដ្ឋ', 'kcc[+1]t': 'K3', 'kcc[+1:0]': 'រដ្ឋ', 'ns+1': False, 'kcc[+2]': 'នៅ', 'kcc[+2]t': 'K2', 'kcc[+1:+2]': 'ដ្ឋនៅ', 'kcc[0:+2]': 'រដ្ឋនៅ', 'ns+2': False, 'kcc[+3]': 'ឆ្នាំ', 'kcc[+3]t': 'K5', 'kcc[+2:+3]': 'នៅឆ្នាំ', 'kcc[+1:+3]': 'ដ្ឋនៅឆ្នាំ', 'kcc[0:+3]': 'រដ្ឋនៅឆ្នាំ'}, {'kcc': 'ដ្ឋ', 't': 'K3', 'ns': False, 'kcc[-1]': 'រ', 'kcc[-1]t': 'C', 'kcc[-1:0]': 'រដ្ឋ', 'ns-1': False, 'kcc[-2]': 'ណ', 'kcc[-2]t': 'C', 'kcc[-2:-1]': 'ណរ', 'kcc[-2:0]': 'ណរដ្ឋ', 'kcc[-3]': 'រ', 'kcc[-3]t': 'C', 'kcc[-3:0]': 'រណរដ្ឋ', 'kcc[-3:-1]': 'រណរ', 'kcc[-3:-2]': 'រណ', 'kcc[+1]': 'នៅ', 'kcc[+1]t': 'K2', 'kcc[+1:0]': 'ដ្ឋនៅ', 'ns+1': False, 'kcc[+2]': 'ឆ្នាំ', 'kcc[+2]t': 'K5', 'kcc[+1:+2]': 'នៅឆ្នាំ', 'kcc[0:+2]': 'ដ្ឋនៅឆ្នាំ', 'ns+2': False, 'kcc[+3]': '1998', 'kcc[+3]t': 'K4', 'kcc[+2:+3]': 'ឆ្នាំ1998', 'kcc[+1:+3]': 'នៅឆ្នាំ1998', 'kcc[0:+3]': 'ដ្ឋនៅឆ្នាំ1998'}, {'kcc': 'នៅ', 't': 'K2', 'ns': False, 'kcc[-1]': 'ដ្ឋ', 'kcc[-1]t': 'K3', 'kcc[-1:0]': 'ដ្ឋនៅ', 'ns-1': False, 'kcc[-2]': 'រ', 'kcc[-2]t': 'C', 'kcc[-2:-1]': 'រដ្ឋ', 'kcc[-2:0]': 'រដ្ឋនៅ', 'kcc[-3]': 'ណ', 'kcc[-3]t': 'C', 'kcc[-3:0]': 'ណរដ្ឋនៅ', 'kcc[-3:-1]': 'ណរដ្ឋ', 'kcc[-3:-2]': 'ណរ', 'kcc[+1]': 'ឆ្នាំ', 'kcc[+1]t': 'K5', 'kcc[+1:0]': 'នៅឆ្នាំ', 'ns+1': False, 'kcc[+2]': '1998', 'kcc[+2]t': 'K4', 'kcc[+1:+2]': 'ឆ្នាំ1998', 'kcc[0:+2]': 'នៅឆ្នាំ1998', 'ns+2': True, 'kcc[+3]': 'ហើ', 'kcc[+3]t': 'K2', 'kcc[+2:+3]': '1998ហើ', 'kcc[+1:+3]': 'ឆ្នាំ1998ហើ', 'kcc[0:+3]': 'នៅឆ្នាំ1998ហើ'}, {'kcc': 'ឆ្នាំ', 't': 'K5', 'ns': False, 'kcc[-1]': 'នៅ', 'kcc[-1]t': 'K2', 'kcc[-1:0]': 'នៅឆ្នាំ', 'ns-1': False, 'kcc[-2]': 'ដ្ឋ', 'kcc[-2]t': 'K3', 'kcc[-2:-1]': 'ដ្ឋនៅ', 'kcc[-2:0]': 'ដ្ឋនៅឆ្នាំ', 'kcc[-3]': 'រ', 'kcc[-3]t': 'C', 'kcc[-3:0]': 'រដ្ឋនៅឆ្នាំ', 'kcc[-3:-1]': 'រដ្ឋនៅ', 'kcc[-3:-2]': 'រដ្ឋ', 'kcc[+1]': '1998', 'kcc[+1]t': 'K4', 'kcc[+1:0]': 'ឆ្នាំ1998', 'ns+1': True, 'kcc[+2]': 'ហើ', 'kcc[+2]t': 'K2', 'kcc[+1:+2]': '1998ហើ', 'kcc[0:+2]': 'ឆ្នាំ1998ហើ', 'ns+2': False, 'kcc[+3]': 'យ', 'kcc[+3]t': 'C', 'kcc[+2:+3]': 'ហើយ', 'kcc[+1:+3]': '1998ហើយ', 'kcc[0:+3]': 'ឆ្នាំ1998ហើយ'}, {'kcc': '1998', 't': 'K4', 'ns': True, 'kcc[-1]': 'ឆ្នាំ', 'kcc[-1]t': 'K5', 'kcc[-1:0]': 'ឆ្នាំ1998', 'ns-1': False, 'kcc[-2]': 'នៅ', 'kcc[-2]t': 'K2', 'kcc[-2:-1]': 'នៅឆ្នាំ', 'kcc[-2:0]': 'នៅឆ្នាំ1998', 'kcc[-3]': 'ដ្ឋ', 'kcc[-3]t': 'K3', 'kcc[-3:0]': 'ដ្ឋនៅឆ្នាំ1998', 'kcc[-3:-1]': 'ដ្ឋនៅឆ្នាំ', 'kcc[-3:-2]': 'ដ្ឋនៅ', 'kcc[+1]': 'ហើ', 'kcc[+1]t': 'K2', 'kcc[+1:0]': '1998ហើ', 'ns+1': False, 'kcc[+2]': 'យ', 'kcc[+2]t': 'C', 'kcc[+1:+2]': 'ហើយ', 'kcc[0:+2]': '1998ហើយ', 'ns+2': False, 'kcc[+3]': 'បា', 'kcc[+3]t': 'K2', 'kcc[+2:+3]': 'យបា', 'kcc[+1:+3]': 'ហើយបា', 'kcc[0:+3]': '1998ហើយបា'}, {'kcc': 'ហើ', 't': 'K2', 'ns': False, 'kcc[-1]': '1998', 'kcc[-1]t': 'K4', 'kcc[-1:0]': '1998ហើ', 'ns-1': True, 'kcc[-2]': 'ឆ្នាំ', 'kcc[-2]t': 'K5', 'kcc[-2:-1]': 'ឆ្នាំ1998', 'kcc[-2:0]': 'ឆ្នាំ1998ហើ', 'kcc[-3]': 'នៅ', 'kcc[-3]t': 'K2', 'kcc[-3:0]': 'នៅឆ្នាំ1998ហើ', 'kcc[-3:-1]': 'នៅឆ្នាំ1998', 'kcc[-3:-2]': 'នៅឆ្នាំ', 'kcc[+1]': 'យ', 'kcc[+1]t': 'C', 'kcc[+1:0]': 'ហើយ', 'ns+1': False, 'kcc[+2]': 'បា', 'kcc[+2]t': 'K2', 'kcc[+1:+2]': 'យបា', 'kcc[0:+2]': 'ហើយបា', 'ns+2': False, 'kcc[+3]': 'ន', 'kcc[+3]t': 'C', 'kcc[+2:+3]': 'បាន', 'kcc[+1:+3]': 'យបាន', 'kcc[0:+3]': 'ហើយបាន'}, {'kcc': 'យ', 't': 'C', 'ns': False, 'kcc[-1]': 'ហើ', 'kcc[-1]t': 'K2', 'kcc[-1:0]': 'ហើយ', 'ns-1': False, 'kcc[-2]': '1998', 'kcc[-2]t': 'K4', 'kcc[-2:-1]': '1998ហើ', 'kcc[-2:0]': '1998ហើយ', 'kcc[-3]': 'ឆ្នាំ', 'kcc[-3]t': 'K5', 'kcc[-3:0]': 'ឆ្នាំ1998ហើយ', 'kcc[-3:-1]': 'ឆ្នាំ1998ហើ', 'kcc[-3:-2]': 'ឆ្នាំ1998', 'kcc[+1]': 'បា', 'kcc[+1]t': 'K2', 'kcc[+1:0]': 'យបា', 'ns+1': False, 'kcc[+2]': 'ន', 'kcc[+2]t': 'C', 'kcc[+1:+2]': 'បាន', 'kcc[0:+2]': 'យបាន', 'ns+2': False, 'kcc[+3]': 'ជា', 'kcc[+3]t': 'K2', 'kcc[+2:+3]': 'នជា', 'kcc[+1:+3]': 'បានជា', 'kcc[0:+3]': 'យបានជា'}, {'kcc': 'បា', 't': 'K2', 'ns': False, 'kcc[-1]': 'យ', 'kcc[-1]t': 'C', 'kcc[-1:0]': 'យបា', 'ns-1': False, 'kcc[-2]': 'ហើ', 'kcc[-2]t': 'K2', 'kcc[-2:-1]': 'ហើយ', 'kcc[-2:0]': 'ហើយបា', 'kcc[-3]': '1998', 'kcc[-3]t': 'K4', 'kcc[-3:0]': '1998ហើយបា', 'kcc[-3:-1]': '1998ហើយ', 'kcc[-3:-2]': '1998ហើ', 'kcc[+1]': 'ន', 'kcc[+1]t': 'C', 'kcc[+1:0]': 'បាន', 'ns+1': False, 'kcc[+2]': 'ជា', 'kcc[+2]t': 'K2', 'kcc[+1:+2]': 'នជា', 'kcc[0:+2]': 'បានជា', 'ns+2': False, 'kcc[+3]': 'គ', 'kcc[+3]t': 'C', 'kcc[+2:+3]': 'ជាគ', 'kcc[+1:+3]': 'នជាគ', 'kcc[0:+3]': 'បានជាគ'}, {'kcc': 'ន', 't': 'C', 'ns': False, 'kcc[-1]': 'បា', 'kcc[-1]t': 'K2', 'kcc[-1:0]': 'បាន', 'ns-1': False, 'kcc[-2]': 'យ', 'kcc[-2]t': 'C', 'kcc[-2:-1]': 'យបា', 'kcc[-2:0]': 'យបាន', 'kcc[-3]': 'ហើ', 'kcc[-3]t': 'K2', 'kcc[-3:0]': 'ហើយបាន', 'kcc[-3:-1]': 'ហើយបា', 'kcc[-3:-2]': 'ហើយ', 'kcc[+1]': 'ជា', 'kcc[+1]t': 'K2', 'kcc[+1:0]': 'នជា', 'ns+1': False, 'kcc[+2]': 'គ', 'kcc[+2]t': 'C', 'kcc[+1:+2]': 'ជាគ', 'kcc[0:+2]': 'នជាគ', 'ns+2': False, 'kcc[+3]': 'ណ', 'kcc[+3]t': 'C', 'kcc[+2:+3]': 'គណ', 'kcc[+1:+3]': 'ជាគណ', 'kcc[0:+3]': 'នជាគណ'}, {'kcc': 'ជា', 't': 'K2', 'ns': False, 'kcc[-1]': 'ន', 'kcc[-1]t': 'C', 'kcc[-1:0]': 'នជា', 'ns-1': False, 'kcc[-2]': 'បា', 'kcc[-2]t': 'K2', 'kcc[-2:-1]': 'បាន', 'kcc[-2:0]': 'បានជា', 'kcc[-3]': 'យ', 'kcc[-3]t': 'C', 'kcc[-3:0]': 'យបានជា', 'kcc[-3:-1]': 'យបាន', 'kcc[-3:-2]': 'យបា', 'kcc[+1]': 'គ', 'kcc[+1]t': 'C', 'kcc[+1:0]': 'ជាគ', 'ns+1': False, 'kcc[+2]': 'ណ', 'kcc[+2]t': 'C', 'kcc[+1:+2]': 'គណ', 'kcc[0:+2]': 'ជាគណ', 'ns+2': False, 'kcc[+3]': 'ប', 'kcc[+3]t': 'C', 'kcc[+2:+3]': 'ណប', 'kcc[+1:+3]': 'គណប', 'kcc[0:+3]': 'ជាគណប'}, {'kcc': 'គ', 't': 'C', 'ns': False, 'kcc[-1]': 'ជា', 'kcc[-1]t': 'K2', 'kcc[-1:0]': 'ជាគ', 'ns-1': False, 'kcc[-2]': 'ន', 'kcc[-2]t': 'C', 'kcc[-2:-1]': 'នជា', 'kcc[-2:0]': 'នជាគ', 'kcc[-3]': 'បា', 'kcc[-3]t': 'K2', 'kcc[-3:0]': 'បានជាគ', 'kcc[-3:-1]': 'បានជា', 'kcc[-3:-2]': 'បាន', 'kcc[+1]': 'ណ', 'kcc[+1]t': 'C', 'kcc[+1:0]': 'គណ', 'ns+1': False, 'kcc[+2]': 'ប', 'kcc[+2]t': 'C', 'kcc[+1:+2]': 'ណប', 'kcc[0:+2]': 'គណប', 'ns+2': False, 'kcc[+3]': 'ក្ស', 'kcc[+3]t': 'K3', 'kcc[+2:+3]': 'បក្ស', 'kcc[+1:+3]': 'ណបក្ស', 'kcc[0:+3]': 'គណបក្ស'}, {'kcc': 'ណ', 't': 'C', 'ns': False, 'kcc[-1]': 'គ', 'kcc[-1]t': 'C', 'kcc[-1:0]': 'គណ', 'ns-1': False, 'kcc[-2]': 'ជា', 'kcc[-2]t': 'K2', 'kcc[-2:-1]': 'ជាគ', 'kcc[-2:0]': 'ជាគណ', 'kcc[-3]': 'ន', 'kcc[-3]t': 'C', 'kcc[-3:0]': 'នជាគណ', 'kcc[-3:-1]': 'នជាគ', 'kcc[-3:-2]': 'នជា', 'kcc[+1]': 'ប', 'kcc[+1]t': 'C', 'kcc[+1:0]': 'ណប', 'ns+1': False, 'kcc[+2]': 'ក្ស', 'kcc[+2]t': 'K3', 'kcc[+1:+2]': 'បក្ស', 'kcc[0:+2]': 'ណបក្ស', 'ns+2': False, 'kcc[+3]': 'សេ', 'kcc[+3]t': 'K2', 'kcc[+2:+3]': 'ក្សសេ', 'kcc[+1:+3]': 'បក្សសេ', 'kcc[0:+3]': 'ណបក្សសេ'}, {'kcc': 'ប', 't': 'C', 'ns': False, 'kcc[-1]': 'ណ', 'kcc[-1]t': 'C', 'kcc[-1:0]': 'ណប', 'ns-1': False, 'kcc[-2]': 'គ', 'kcc[-2]t': 'C', 'kcc[-2:-1]': 'គណ', 'kcc[-2:0]': 'គណប', 'kcc[-3]': 'ជា', 'kcc[-3]t': 'K2', 'kcc[-3:0]': 'ជាគណប', 'kcc[-3:-1]': 'ជាគណ', 'kcc[-3:-2]': 'ជាគ', 'kcc[+1]': 'ក្ស', 'kcc[+1]t': 'K3', 'kcc[+1:0]': 'បក្ស', 'ns+1': False, 'kcc[+2]': 'សេ', 'kcc[+2]t': 'K2', 'kcc[+1:+2]': 'ក្សសេ', 'kcc[0:+2]': 'បក្សសេ', 'ns+2': False, 'kcc[+3]': 'រី', 'kcc[+3]t': 'K2', 'kcc[+2:+3]': 'សេរី', 'kcc[+1:+3]': 'ក្សសេរី', 'kcc[0:+3]': 'បក្សសេរី'}, {'kcc': 'ក្ស', 't': 'K3', 'ns': False, 'kcc[-1]': 'ប', 'kcc[-1]t': 'C', 'kcc[-1:0]': 'បក្ស', 'ns-1': False, 'kcc[-2]': 'ណ', 'kcc[-2]t': 'C', 'kcc[-2:-1]': 'ណប', 'kcc[-2:0]': 'ណបក្ស', 'kcc[-3]': 'គ', 'kcc[-3]t': 'C', 'kcc[-3:0]': 'គណបក្ស', 'kcc[-3:-1]': 'គណប', 'kcc[-3:-2]': 'គណ', 'kcc[+1]': 'សេ', 'kcc[+1]t': 'K2', 'kcc[+1:0]': 'ក្សសេ', 'ns+1': False, 'kcc[+2]': 'រី', 'kcc[+2]t': 'K2', 'kcc[+1:+2]': 'សេរី', 'kcc[0:+2]': 'ក្សសេរី', 'ns+2': False, 'kcc[+3]': 'និ', 'kcc[+3]t': 'K2', 'kcc[+2:+3]': 'រីនិ', 'kcc[+1:+3]': 'សេរីនិ', 'kcc[0:+3]': 'ក្សសេរីនិ'}, {'kcc': 'សេ', 't': 'K2', 'ns': False, 'kcc[-1]': 'ក្ស', 'kcc[-1]t': 'K3', 'kcc[-1:0]': 'ក្សសេ', 'ns-1': False, 'kcc[-2]': 'ប', 'kcc[-2]t': 'C', 'kcc[-2:-1]': 'បក្ស', 'kcc[-2:0]': 'បក្សសេ', 'kcc[-3]': 'ណ', 'kcc[-3]t': 'C', 'kcc[-3:0]': 'ណបក្សសេ', 'kcc[-3:-1]': 'ណបក្ស', 'kcc[-3:-2]': 'ណប', 'kcc[+1]': 'រី', 'kcc[+1]t': 'K2', 'kcc[+1:0]': 'សេរី', 'ns+1': False, 'kcc[+2]': 'និ', 'kcc[+2]t': 'K2', 'kcc[+1:+2]': 'រីនិ', 'kcc[0:+2]': 'សេរីនិ', 'ns+2': False, 'kcc[+3]': 'យ', 'kcc[+3]t': 'C', 'kcc[+2:+3]': 'និយ', 'kcc[+1:+3]': 'រីនិយ', 'kcc[0:+3]': 'សេរីនិយ'}, {'kcc': 'រី', 't': 'K2', 'ns': False, 'kcc[-1]': 'សេ', 'kcc[-1]t': 'K2', 'kcc[-1:0]': 'សេរី', 'ns-1': False, 'kcc[-2]': 'ក្ស', 'kcc[-2]t': 'K3', 'kcc[-2:-1]': 'ក្សសេ', 'kcc[-2:0]': 'ក្សសេរី', 'kcc[-3]': 'ប', 'kcc[-3]t': 'C', 'kcc[-3:0]': 'បក្សសេរី', 'kcc[-3:-1]': 'បក្សសេ', 'kcc[-3:-2]': 'បក្ស', 'kcc[+1]': 'និ', 'kcc[+1]t': 'K2', 'kcc[+1:0]': 'រីនិ', 'ns+1': False, 'kcc[+2]': 'យ', 'kcc[+2]t': 'C', 'kcc[+1:+2]': 'និយ', 'kcc[0:+2]': 'រីនិយ', 'ns+2': False, 'kcc[+3]': 'ម', 'kcc[+3]t': 'C', 'kcc[+2:+3]': 'យម', 'kcc[+1:+3]': 'និយម', 'kcc[0:+3]': 'រីនិយម'}, {'kcc': 'និ', 't': 'K2', 'ns': False, 'kcc[-1]': 'រី', 'kcc[-1]t': 'K2', 'kcc[-1:0]': 'រីនិ', 'ns-1': False, 'kcc[-2]': 'សេ', 'kcc[-2]t': 'K2', 'kcc[-2:-1]': 'សេរី', 'kcc[-2:0]': 'សេរីនិ', 'kcc[-3]': 'ក្ស', 'kcc[-3]t': 'K3', 'kcc[-3:0]': 'ក្សសេរីនិ', 'kcc[-3:-1]': 'ក្សសេរី', 'kcc[-3:-2]': 'ក្សសេ', 'kcc[+1]': 'យ', 'kcc[+1]t': 'C', 'kcc[+1:0]': 'និយ', 'ns+1': False, 'kcc[+2]': 'ម', 'kcc[+2]t': 'C', 'kcc[+1:+2]': 'យម', 'kcc[0:+2]': 'និយម', 'ns+2': False, 'kcc[+3]': 'នៅ', 'kcc[+3]t': 'K2', 'kcc[+2:+3]': 'មនៅ', 'kcc[+1:+3]': 'យមនៅ', 'kcc[0:+3]': 'និយមនៅ'}, {'kcc': 'យ', 't': 'C', 'ns': False, 'kcc[-1]': 'និ', 'kcc[-1]t': 'K2', 'kcc[-1:0]': 'និយ', 'ns-1': False, 'kcc[-2]': 'រី', 'kcc[-2]t': 'K2', 'kcc[-2:-1]': 'រីនិ', 'kcc[-2:0]': 'រីនិយ', 'kcc[-3]': 'សេ', 'kcc[-3]t': 'K2', 'kcc[-3:0]': 'សេរីនិយ', 'kcc[-3:-1]': 'សេរីនិ', 'kcc[-3:-2]': 'សេរី', 'kcc[+1]': 'ម', 'kcc[+1]t': 'C', 'kcc[+1:0]': 'យម', 'ns+1': False, 'kcc[+2]': 'នៅ', 'kcc[+2]t': 'K2', 'kcc[+1:+2]': 'មនៅ', 'kcc[0:+2]': 'យមនៅ', 'ns+2': False, 'kcc[+3]': 'ឆ្នាំ', 'kcc[+3]t': 'K5', 'kcc[+2:+3]': 'នៅឆ្នាំ', 'kcc[+1:+3]': 'មនៅឆ្នាំ', 'kcc[0:+3]': 'យមនៅឆ្នាំ'}, {'kcc': 'ម', 't': 'C', 'ns': False, 'kcc[-1]': 'យ', 'kcc[-1]t': 'C', 'kcc[-1:0]': 'យម', 'ns-1': False, 'kcc[-2]': 'និ', 'kcc[-2]t': 'K2', 'kcc[-2:-1]': 'និយ', 'kcc[-2:0]': 'និយម', 'kcc[-3]': 'រី', 'kcc[-3]t': 'K2', 'kcc[-3:0]': 'រីនិយម', 'kcc[-3:-1]': 'រីនិយ', 'kcc[-3:-2]': 'រីនិ', 'kcc[+1]': 'នៅ', 'kcc[+1]t': 'K2', 'kcc[+1:0]': 'មនៅ', 'ns+1': False, 'kcc[+2]': 'ឆ្នាំ', 'kcc[+2]t': 'K5', 'kcc[+1:+2]': 'នៅឆ្នាំ', 'kcc[0:+2]': 'មនៅឆ្នាំ', 'ns+2': False, 'kcc[+3]': '2004', 'kcc[+3]t': 'K4', 'kcc[+2:+3]': 'ឆ្នាំ2004', 'kcc[+1:+3]': 'នៅឆ្នាំ2004', 'kcc[0:+3]': 'មនៅឆ្នាំ2004'}, {'kcc': 'នៅ', 't': 'K2', 'ns': False, 'kcc[-1]': 'ម', 'kcc[-1]t': 'C', 'kcc[-1:0]': 'មនៅ', 'ns-1': False, 'kcc[-2]': 'យ', 'kcc[-2]t': 'C', 'kcc[-2:-1]': 'យម', 'kcc[-2:0]': 'យមនៅ', 'kcc[-3]': 'និ', 'kcc[-3]t': 'K2', 'kcc[-3:0]': 'និយមនៅ', 'kcc[-3:-1]': 'និយម', 'kcc[-3:-2]': 'និយ', 'kcc[+1]': 'ឆ្នាំ', 'kcc[+1]t': 'K5', 'kcc[+1:0]': 'នៅឆ្នាំ', 'ns+1': False, 'kcc[+2]': '2004', 'kcc[+2]t': 'K4', 'kcc[+1:+2]': 'ឆ្នាំ2004', 'kcc[0:+2]': 'នៅឆ្នាំ2004', 'ns+2': True, 'kcc[+3]': 'ដែ', 'kcc[+3]t': 'K2', 'kcc[+2:+3]': '2004ដែ', 'kcc[+1:+3]': 'ឆ្នាំ2004ដែ', 'kcc[0:+3]': 'នៅឆ្នាំ2004ដែ'}, {'kcc': 'ឆ្នាំ', 't': 'K5', 'ns': False, 'kcc[-1]': 'នៅ', 'kcc[-1]t': 'K2', 'kcc[-1:0]': 'នៅឆ្នាំ', 'ns-1': False, 'kcc[-2]': 'ម', 'kcc[-2]t': 'C', 'kcc[-2:-1]': 'មនៅ', 'kcc[-2:0]': 'មនៅឆ្នាំ', 'kcc[-3]': 'យ', 'kcc[-3]t': 'C', 'kcc[-3:0]': 'យមនៅឆ្នាំ', 'kcc[-3:-1]': 'យមនៅ', 'kcc[-3:-2]': 'យម', 'kcc[+1]': '2004', 'kcc[+1]t': 'K4', 'kcc[+1:0]': 'ឆ្នាំ2004', 'ns+1': True, 'kcc[+2]': 'ដែ', 'kcc[+2]t': 'K2', 'kcc[+1:+2]': '2004ដែ', 'kcc[0:+2]': 'ឆ្នាំ2004ដែ', 'ns+2': False, 'kcc[+3]': 'ល', 'kcc[+3]t': 'C', 'kcc[+2:+3]': 'ដែល', 'kcc[+1:+3]': '2004ដែល', 'kcc[0:+3]': 'ឆ្នាំ2004ដែល'}, {'kcc': '2004', 't': 'K4', 'ns': True, 'kcc[-1]': 'ឆ្នាំ', 'kcc[-1]t': 'K5', 'kcc[-1:0]': 'ឆ្នាំ2004', 'ns-1': False, 'kcc[-2]': 'នៅ', 'kcc[-2]t': 'K2', 'kcc[-2:-1]': 'នៅឆ្នាំ', 'kcc[-2:0]': 'នៅឆ្នាំ2004', 'kcc[-3]': 'ម', 'kcc[-3]t': 'C', 'kcc[-3:0]': 'មនៅឆ្នាំ2004', 'kcc[-3:-1]': 'មនៅឆ្នាំ', 'kcc[-3:-2]': 'មនៅ', 'kcc[+1]': 'ដែ', 'kcc[+1]t': 'K2', 'kcc[+1:0]': '2004ដែ', 'ns+1': False, 'kcc[+2]': 'ល', 'kcc[+2]t': 'C', 'kcc[+1:+2]': 'ដែល', 'kcc[0:+2]': '2004ដែល', 'ns+2': False, 'kcc[+3]': 'ត្រូ', 'kcc[+3]t': 'K4', 'kcc[+2:+3]': 'លត្រូ', 'kcc[+1:+3]': 'ដែលត្រូ', 'kcc[0:+3]': '2004ដែលត្រូ'}, {'kcc': 'ដែ', 't': 'K2', 'ns': False, 'kcc[-1]': '2004', 'kcc[-1]t': 'K4', 'kcc[-1:0]': '2004ដែ', 'ns-1': True, 'kcc[-2]': 'ឆ្នាំ', 'kcc[-2]t': 'K5', 'kcc[-2:-1]': 'ឆ្នាំ2004', 'kcc[-2:0]': 'ឆ្នាំ2004ដែ', 'kcc[-3]': 'នៅ', 'kcc[-3]t': 'K2', 'kcc[-3:0]': 'នៅឆ្នាំ2004ដែ', 'kcc[-3:-1]': 'នៅឆ្នាំ2004', 'kcc[-3:-2]': 'នៅឆ្នាំ', 'kcc[+1]': 'ល', 'kcc[+1]t': 'C', 'kcc[+1:0]': 'ដែល', 'ns+1': False, 'kcc[+2]': 'ត្រូ', 'kcc[+2]t': 'K4', 'kcc[+1:+2]': 'លត្រូ', 'kcc[0:+2]': 'ដែលត្រូ', 'ns+2': False, 'kcc[+3]': 'វ', 'kcc[+3]t': 'C', 'kcc[+2:+3]': 'ត្រូវ', 'kcc[+1:+3]': 'លត្រូវ', 'kcc[0:+3]': 'ដែលត្រូវ'}, {'kcc': 'ល', 't': 'C', 'ns': False, 'kcc[-1]': 'ដែ', 'kcc[-1]t': 'K2', 'kcc[-1:0]': 'ដែល', 'ns-1': False, 'kcc[-2]': '2004', 'kcc[-2]t': 'K4', 'kcc[-2:-1]': '2004ដែ', 'kcc[-2:0]': '2004ដែល', 'kcc[-3]': 'ឆ្នាំ', 'kcc[-3]t': 'K5', 'kcc[-3:0]': 'ឆ្នាំ2004ដែល', 'kcc[-3:-1]': 'ឆ្នាំ2004ដែ', 'kcc[-3:-2]': 'ឆ្នាំ2004', 'kcc[+1]': 'ត្រូ', 'kcc[+1]t': 'K4', 'kcc[+1:0]': 'លត្រូ', 'ns+1': False, 'kcc[+2]': 'វ', 'kcc[+2]t': 'C', 'kcc[+1:+2]': 'ត្រូវ', 'kcc[0:+2]': 'លត្រូវ', 'ns+2': False, 'kcc[+3]': 'ឈ', 'kcc[+3]t': 'C', 'kcc[+2:+3]': 'វឈ', 'kcc[+1:+3]': 'ត្រូវឈ', 'kcc[0:+3]': 'លត្រូវឈ'}, {'kcc': 'ត្រូ', 't': 'K4', 'ns': False, 'kcc[-1]': 'ល', 'kcc[-1]t': 'C', 'kcc[-1:0]': 'លត្រូ', 'ns-1': False, 'kcc[-2]': 'ដែ', 'kcc[-2]t': 'K2', 'kcc[-2:-1]': 'ដែល', 'kcc[-2:0]': 'ដែលត្រូ', 'kcc[-3]': '2004', 'kcc[-3]t': 'K4', 'kcc[-3:0]': '2004ដែលត្រូ', 'kcc[-3:-1]': '2004ដែល', 'kcc[-3:-2]': '2004ដែ', 'kcc[+1]': 'វ', 'kcc[+1]t': 'C', 'kcc[+1:0]': 'ត្រូវ', 'ns+1': False, 'kcc[+2]': 'ឈ', 'kcc[+2]t': 'C', 'kcc[+1:+2]': 'វឈ', 'kcc[0:+2]': 'ត្រូវឈ', 'ns+2': False, 'kcc[+3]': 'រ', 'kcc[+3]t': 'C', 'kcc[+2:+3]': 'ឈរ', 'kcc[+1:+3]': 'វឈរ', 'kcc[0:+3]': 'ត្រូវឈរ'}, {'kcc': 'វ', 't': 'C', 'ns': False, 'kcc[-1]': 'ត្រូ', 'kcc[-1]t': 'K4', 'kcc[-1:0]': 'ត្រូវ', 'ns-1': False, 'kcc[-2]': 'ល', 'kcc[-2]t': 'C', 'kcc[-2:-1]': 'លត្រូ', 'kcc[-2:0]': 'លត្រូវ', 'kcc[-3]': 'ដែ', 'kcc[-3]t': 'K2', 'kcc[-3:0]': 'ដែលត្រូវ', 'kcc[-3:-1]': 'ដែលត្រូ', 'kcc[-3:-2]': 'ដែល', 'kcc[+1]': 'ឈ', 'kcc[+1]t': 'C', 'kcc[+1:0]': 'វឈ', 'ns+1': False, 'kcc[+2]': 'រ', 'kcc[+2]t': 'C', 'kcc[+1:+2]': 'ឈរ', 'kcc[0:+2]': 'វឈរ', 'ns+2': False, 'kcc[+3]': 'ឈ្មោះ', 'kcc[+3]t': 'K5', 'kcc[+2:+3]': 'រឈ្មោះ', 'kcc[+1:+3]': 'ឈរឈ្មោះ', 'kcc[0:+3]': 'វឈរឈ្មោះ'}, {'kcc': 'ឈ', 't': 'C', 'ns': False, 'kcc[-1]': 'វ', 'kcc[-1]t': 'C', 'kcc[-1:0]': 'វឈ', 'ns-1': False, 'kcc[-2]': 'ត្រូ', 'kcc[-2]t': 'K4', 'kcc[-2:-1]': 'ត្រូវ', 'kcc[-2:0]': 'ត្រូវឈ', 'kcc[-3]': 'ល', 'kcc[-3]t': 'C', 'kcc[-3:0]': 'លត្រូវឈ', 'kcc[-3:-1]': 'លត្រូវ', 'kcc[-3:-2]': 'លត្រូ', 'kcc[+1]': 'រ', 'kcc[+1]t': 'C', 'kcc[+1:0]': 'ឈរ', 'ns+1': False, 'kcc[+2]': 'ឈ្មោះ', 'kcc[+2]t': 'K5', 'kcc[+1:+2]': 'រឈ្មោះ', 'kcc[0:+2]': 'ឈរឈ្មោះ', 'ns+2': False, 'kcc[+3]': 'ស', 'kcc[+3]t': 'C', 'kcc[+2:+3]': 'ឈ្មោះស', 'kcc[+1:+3]': 'រឈ្មោះស', 'kcc[0:+3]': 'ឈរឈ្មោះស'}, {'kcc': 'រ', 't': 'C', 'ns': False, 'kcc[-1]': 'ឈ', 'kcc[-1]t': 'C', 'kcc[-1:0]': 'ឈរ', 'ns-1': False, 'kcc[-2]': 'វ', 'kcc[-2]t': 'C', 'kcc[-2:-1]': 'វឈ', 'kcc[-2:0]': 'វឈរ', 'kcc[-3]': 'ត្រូ', 'kcc[-3]t': 'K4', 'kcc[-3:0]': 'ត្រូវឈរ', 'kcc[-3:-1]': 'ត្រូវឈ', 'kcc[-3:-2]': 'ត្រូវ', 'kcc[+1]': 'ឈ្មោះ', 'kcc[+1]t': 'K5', 'kcc[+1:0]': 'រឈ្មោះ', 'ns+1': False, 'kcc[+2]': 'ស', 'kcc[+2]t': 'C', 'kcc[+1:+2]': 'ឈ្មោះស', 'kcc[0:+2]': 'រឈ្មោះស', 'ns+2': False, 'kcc[+3]': 'ម្រា', 'kcc[+3]t': 'K4', 'kcc[+2:+3]': 'សម្រា', 'kcc[+1:+3]': 'ឈ្មោះសម្រា', 'kcc[0:+3]': 'រឈ្មោះសម្រា'}, {'kcc': 'ឈ្មោះ', 't': 'K5', 'ns': False, 'kcc[-1]': 'រ', 'kcc[-1]t': 'C', 'kcc[-1:0]': 'រឈ្មោះ', 'ns-1': False, 'kcc[-2]': 'ឈ', 'kcc[-2]t': 'C', 'kcc[-2:-1]': 'ឈរ', 'kcc[-2:0]': 'ឈរឈ្មោះ', 'kcc[-3]': 'វ', 'kcc[-3]t': 'C', 'kcc[-3:0]': 'វឈរឈ្មោះ', 'kcc[-3:-1]': 'វឈរ', 'kcc[-3:-2]': 'វឈ', 'kcc[+1]': 'ស', 'kcc[+1]t': 'C', 'kcc[+1:0]': 'ឈ្មោះស', 'ns+1': False, 'kcc[+2]': 'ម្រា', 'kcc[+2]t': 'K4', 'kcc[+1:+2]': 'សម្រា', 'kcc[0:+2]': 'ឈ្មោះសម្រា', 'ns+2': False, 'kcc[+3]': 'ប់', 'kcc[+3]t': 'K2', 'kcc[+2:+3]': 'ម្រាប់', 'kcc[+1:+3]': 'សម្រាប់', 'kcc[0:+3]': 'ឈ្មោះសម្រាប់'}, {'kcc': 'ស', 't': 'C', 'ns': False, 'kcc[-1]': 'ឈ្មោះ', 'kcc[-1]t': 'K5', 'kcc[-1:0]': 'ឈ្មោះស', 'ns-1': False, 'kcc[-2]': 'រ', 'kcc[-2]t': 'C', 'kcc[-2:-1]': 'រឈ្មោះ', 'kcc[-2:0]': 'រឈ្មោះស', 'kcc[-3]': 'ឈ', 'kcc[-3]t': 'C', 'kcc[-3:0]': 'ឈរឈ្មោះស', 'kcc[-3:-1]': 'ឈរឈ្មោះ', 'kcc[-3:-2]': 'ឈរ', 'kcc[+1]': 'ម្រា', 'kcc[+1]t': 'K4', 'kcc[+1:0]': 'សម្រា', 'ns+1': False, 'kcc[+2]': 'ប់', 'kcc[+2]t': 'K2', 'kcc[+1:+2]': 'ម្រាប់', 'kcc[0:+2]': 'សម្រាប់', 'ns+2': False, 'kcc[+3]': 'ព្រឹ', 'kcc[+3]t': 'K4', 'kcc[+2:+3]': 'ប់ព្រឹ', 'kcc[+1:+3]': 'ម្រាប់ព្រឹ', 'kcc[0:+3]': 'សម្រាប់ព្រឹ'}, {'kcc': 'ម្រា', 't': 'K4', 'ns': False, 'kcc[-1]': 'ស', 'kcc[-1]t': 'C', 'kcc[-1:0]': 'សម្រា', 'ns-1': False, 'kcc[-2]': 'ឈ្មោះ', 'kcc[-2]t': 'K5', 'kcc[-2:-1]': 'ឈ្មោះស', 'kcc[-2:0]': 'ឈ្មោះសម្រា', 'kcc[-3]': 'រ', 'kcc[-3]t': 'C', 'kcc[-3:0]': 'រឈ្មោះសម្រា', 'kcc[-3:-1]': 'រឈ្មោះស', 'kcc[-3:-2]': 'រឈ្មោះ', 'kcc[+1]': 'ប់', 'kcc[+1]t': 'K2', 'kcc[+1:0]': 'ម្រាប់', 'ns+1': False, 'kcc[+2]': 'ព្រឹ', 'kcc[+2]t': 'K4', 'kcc[+1:+2]': 'ប់ព្រឹ', 'kcc[0:+2]': 'ម្រាប់ព្រឹ', 'ns+2': False, 'kcc[+3]': 'ទ្ធ', 'kcc[+3]t': 'K3', 'kcc[+2:+3]': 'ព្រឹទ្ធ', 'kcc[+1:+3]': 'ប់ព្រឹទ្ធ', 'kcc[0:+3]': 'ម្រាប់ព្រឹទ្ធ'}, {'kcc': 'ប់', 't': 'K2', 'ns': False, 'kcc[-1]': 'ម្រា', 'kcc[-1]t': 'K4', 'kcc[-1:0]': 'ម្រាប់', 'ns-1': False, 'kcc[-2]': 'ស', 'kcc[-2]t': 'C', 'kcc[-2:-1]': 'សម្រា', 'kcc[-2:0]': 'សម្រាប់', 'kcc[-3]': 'ឈ្មោះ', 'kcc[-3]t': 'K5', 'kcc[-3:0]': 'ឈ្មោះសម្រាប់', 'kcc[-3:-1]': 'ឈ្មោះសម្រា', 'kcc[-3:-2]': 'ឈ្មោះស', 'kcc[+1]': 'ព្រឹ', 'kcc[+1]t': 'K4', 'kcc[+1:0]': 'ប់ព្រឹ', 'ns+1': False, 'kcc[+2]': 'ទ្ធ', 'kcc[+2]t': 'K3', 'kcc[+1:+2]': 'ព្រឹទ្ធ', 'kcc[0:+2]': 'ប់ព្រឹទ្ធ', 'ns+2': False, 'kcc[+3]': 'ស', 'kcc[+3]t': 'C', 'kcc[+2:+3]': 'ទ្ធស', 'kcc[+1:+3]': 'ព្រឹទ្ធស', 'kcc[0:+3]': 'ប់ព្រឹទ្ធស'}, {'kcc': 'ព្រឹ', 't': 'K4', 'ns': False, 'kcc[-1]': 'ប់', 'kcc[-1]t': 'K2', 'kcc[-1:0]': 'ប់ព្រឹ', 'ns-1': False, 'kcc[-2]': 'ម្រា', 'kcc[-2]t': 'K4', 'kcc[-2:-1]': 'ម្រាប់', 'kcc[-2:0]': 'ម្រាប់ព្រឹ', 'kcc[-3]': 'ស', 'kcc[-3]t': 'C', 'kcc[-3:0]': 'សម្រាប់ព្រឹ', 'kcc[-3:-1]': 'សម្រាប់', 'kcc[-3:-2]': 'សម្រា', 'kcc[+1]': 'ទ្ធ', 'kcc[+1]t': 'K3', 'kcc[+1:0]': 'ព្រឹទ្ធ', 'ns+1': False, 'kcc[+2]': 'ស', 'kcc[+2]t': 'C', 'kcc[+1:+2]': 'ទ្ធស', 'kcc[0:+2]': 'ព្រឹទ្ធស', 'ns+2': False, 'kcc[+3]': 'ភា', 'kcc[+3]t': 'K2', 'kcc[+2:+3]': 'សភា', 'kcc[+1:+3]': 'ទ្ធសភា', 'kcc[0:+3]': 'ព្រឹទ្ធសភា'}, {'kcc': 'ទ្ធ', 't': 'K3', 'ns': False, 'kcc[-1]': 'ព្រឹ', 'kcc[-1]t': 'K4', 'kcc[-1:0]': 'ព្រឹទ្ធ', 'ns-1': False, 'kcc[-2]': 'ប់', 'kcc[-2]t': 'K2', 'kcc[-2:-1]': 'ប់ព្រឹ', 'kcc[-2:0]': 'ប់ព្រឹទ្ធ', 'kcc[-3]': 'ម្រា', 'kcc[-3]t': 'K4', 'kcc[-3:0]': 'ម្រាប់ព្រឹទ្ធ', 'kcc[-3:-1]': 'ម្រាប់ព្រឹ', 'kcc[-3:-2]': 'ម្រាប់', 'kcc[+1]': 'ស', 'kcc[+1]t': 'C', 'kcc[+1:0]': 'ទ្ធស', 'ns+1': False, 'kcc[+2]': 'ភា', 'kcc[+2]t': 'K2', 'kcc[+1:+2]': 'សភា', 'kcc[0:+2]': 'ទ្ធសភា', 'ns+2': False, 'kcc[+3]': 'ស', 'kcc[+3]t': 'C', 'kcc[+2:+3]': 'ភាស', 'kcc[+1:+3]': 'សភាស', 'kcc[0:+3]': 'ទ្ធសភាស'}, {'kcc': 'ស', 't': 'C', 'ns': False, 'kcc[-1]': 'ទ្ធ', 'kcc[-1]t': 'K3', 'kcc[-1:0]': 'ទ្ធស', 'ns-1': False, 'kcc[-2]': 'ព្រឹ', 'kcc[-2]t': 'K4', 'kcc[-2:-1]': 'ព្រឹទ្ធ', 'kcc[-2:0]': 'ព្រឹទ្ធស', 'kcc[-3]': 'ប់', 'kcc[-3]t': 'K2', 'kcc[-3:0]': 'ប់ព្រឹទ្ធស', 'kcc[-3:-1]': 'ប់ព្រឹទ្ធ', 'kcc[-3:-2]': 'ប់ព្រឹ', 'kcc[+1]': 'ភា', 'kcc[+1]t': 'K2', 'kcc[+1:0]': 'សភា', 'ns+1': False, 'kcc[+2]': 'ស', 'kcc[+2]t': 'C', 'kcc[+1:+2]': 'ភាស', 'kcc[0:+2]': 'សភាស', 'ns+2': False, 'kcc[+3]': 'ហ', 'kcc[+3]t': 'C', 'kcc[+2:+3]': 'សហ', 'kcc[+1:+3]': 'ភាសហ', 'kcc[0:+3]': 'សភាសហ'}, {'kcc': 'ភា', 't': 'K2', 'ns': False, 'kcc[-1]': 'ស', 'kcc[-1]t': 'C', 'kcc[-1:0]': 'សភា', 'ns-1': False, 'kcc[-2]': 'ទ្ធ', 'kcc[-2]t': 'K3', 'kcc[-2:-1]': 'ទ្ធស', 'kcc[-2:0]': 'ទ្ធសភា', 'kcc[-3]': 'ព្រឹ', 'kcc[-3]t': 'K4', 'kcc[-3:0]': 'ព្រឹទ្ធសភា', 'kcc[-3:-1]': 'ព្រឹទ្ធស', 'kcc[-3:-2]': 'ព្រឹទ្ធ', 'kcc[+1]': 'ស', 'kcc[+1]t': 'C', 'kcc[+1:0]': 'ភាស', 'ns+1': False, 'kcc[+2]': 'ហ', 'kcc[+2]t': 'C', 'kcc[+1:+2]': 'សហ', 'kcc[0:+2]': 'ភាសហ', 'ns+2': False, 'kcc[+3]': 'រ', 'kcc[+3]t': 'C', 'kcc[+2:+3]': 'ហរ', 'kcc[+1:+3]': 'សហរ', 'kcc[0:+3]': 'ភាសហរ'}, {'kcc': 'ស', 't': 'C', 'ns': False, 'kcc[-1]': 'ភា', 'kcc[-1]t': 'K2', 'kcc[-1:0]': 'ភាស', 'ns-1': False, 'kcc[-2]': 'ស', 'kcc[-2]t': 'C', 'kcc[-2:-1]': 'សភា', 'kcc[-2:0]': 'សភាស', 'kcc[-3]': 'ទ្ធ', 'kcc[-3]t': 'K3', 'kcc[-3:0]': 'ទ្ធសភាស', 'kcc[-3:-1]': 'ទ្ធសភា', 'kcc[-3:-2]': 'ទ្ធស', 'kcc[+1]': 'ហ', 'kcc[+1]t': 'C', 'kcc[+1:0]': 'សហ', 'ns+1': False, 'kcc[+2]': 'រ', 'kcc[+2]t': 'C', 'kcc[+1:+2]': 'ហរ', 'kcc[0:+2]': 'សហរ', 'ns+2': False, 'kcc[+3]': 'ដ្ឋ', 'kcc[+3]t': 'K3', 'kcc[+2:+3]': 'រដ្ឋ', 'kcc[+1:+3]': 'ហរដ្ឋ', 'kcc[0:+3]': 'សហរដ្ឋ'}, {'kcc': 'ហ', 't': 'C', 'ns': False, 'kcc[-1]': 'ស', 'kcc[-1]t': 'C', 'kcc[-1:0]': 'សហ', 'ns-1': False, 'kcc[-2]': 'ភា', 'kcc[-2]t': 'K2', 'kcc[-2:-1]': 'ភាស', 'kcc[-2:0]': 'ភាសហ', 'kcc[-3]': 'ស', 'kcc[-3]t': 'C', 'kcc[-3:0]': 'សភាសហ', 'kcc[-3:-1]': 'សភាស', 'kcc[-3:-2]': 'សភា', 'kcc[+1]': 'រ', 'kcc[+1]t': 'C', 'kcc[+1:0]': 'ហរ', 'ns+1': False, 'kcc[+2]': 'ដ្ឋ', 'kcc[+2]t': 'K3', 'kcc[+1:+2]': 'រដ្ឋ', 'kcc[0:+2]': 'ហរដ្ឋ', 'ns+2': False, 'kcc[+3]': 'អា', 'kcc[+3]t': 'K2', 'kcc[+2:+3]': 'ដ្ឋអា', 'kcc[+1:+3]': 'រដ្ឋអា', 'kcc[0:+3]': 'ហរដ្ឋអា'}, {'kcc': 'រ', 't': 'C', 'ns': False, 'kcc[-1]': 'ហ', 'kcc[-1]t': 'C', 'kcc[-1:0]': 'ហរ', 'ns-1': False, 'kcc[-2]': 'ស', 'kcc[-2]t': 'C', 'kcc[-2:-1]': 'សហ', 'kcc[-2:0]': 'សហរ', 'kcc[-3]': 'ភា', 'kcc[-3]t': 'K2', 'kcc[-3:0]': 'ភាសហរ', 'kcc[-3:-1]': 'ភាសហ', 'kcc[-3:-2]': 'ភាស', 'kcc[+1]': 'ដ្ឋ', 'kcc[+1]t': 'K3', 'kcc[+1:0]': 'រដ្ឋ', 'ns+1': False, 'kcc[+2]': 'អា', 'kcc[+2]t': 'K2', 'kcc[+1:+2]': 'ដ្ឋអា', 'kcc[0:+2]': 'រដ្ឋអា', 'ns+2': False, 'kcc[+3]': 'មេ', 'kcc[+3]t': 'K2', 'kcc[+2:+3]': 'អាមេ', 'kcc[+1:+3]': 'ដ្ឋអាមេ', 'kcc[0:+3]': 'រដ្ឋអាមេ'}, {'kcc': 'ដ្ឋ', 't': 'K3', 'ns': False, 'kcc[-1]': 'រ', 'kcc[-1]t': 'C', 'kcc[-1:0]': 'រដ្ឋ', 'ns-1': False, 'kcc[-2]': 'ហ', 'kcc[-2]t': 'C', 'kcc[-2:-1]': 'ហរ', 'kcc[-2:0]': 'ហរដ្ឋ', 'kcc[-3]': 'ស', 'kcc[-3]t': 'C', 'kcc[-3:0]': 'សហរដ្ឋ', 'kcc[-3:-1]': 'សហរ', 'kcc[-3:-2]': 'សហ', 'kcc[+1]': 'អា', 'kcc[+1]t': 'K2', 'kcc[+1:0]': 'ដ្ឋអា', 'ns+1': False, 'kcc[+2]': 'មេ', 'kcc[+2]t': 'K2', 'kcc[+1:+2]': 'អាមេ', 'kcc[0:+2]': 'ដ្ឋអាមេ', 'ns+2': False, 'kcc[+3]': 'រិ', 'kcc[+3]t': 'K2', 'kcc[+2:+3]': 'មេរិ', 'kcc[+1:+3]': 'អាមេរិ', 'kcc[0:+3]': 'ដ្ឋអាមេរិ'}, {'kcc': 'អា', 't': 'K2', 'ns': False, 'kcc[-1]': 'ដ្ឋ', 'kcc[-1]t': 'K3', 'kcc[-1:0]': 'ដ្ឋអា', 'ns-1': False, 'kcc[-2]': 'រ', 'kcc[-2]t': 'C', 'kcc[-2:-1]': 'រដ្ឋ', 'kcc[-2:0]': 'រដ្ឋអា', 'kcc[-3]': 'ហ', 'kcc[-3]t': 'C', 'kcc[-3:0]': 'ហរដ្ឋអា', 'kcc[-3:-1]': 'ហរដ្ឋ', 'kcc[-3:-2]': 'ហរ', 'kcc[+1]': 'មេ', 'kcc[+1]t': 'K2', 'kcc[+1:0]': 'អាមេ', 'ns+1': False, 'kcc[+2]': 'រិ', 'kcc[+2]t': 'K2', 'kcc[+1:+2]': 'មេរិ', 'kcc[0:+2]': 'អាមេរិ', 'ns+2': False, 'kcc[+3]': 'ក', 'kcc[+3]t': 'C', 'kcc[+2:+3]': 'រិក', 'kcc[+1:+3]': 'មេរិក', 'kcc[0:+3]': 'អាមេរិក'}, {'kcc': 'មេ', 't': 'K2', 'ns': False, 'kcc[-1]': 'អា', 'kcc[-1]t': 'K2', 'kcc[-1:0]': 'អាមេ', 'ns-1': False, 'kcc[-2]': 'ដ្ឋ', 'kcc[-2]t': 'K3', 'kcc[-2:-1]': 'ដ្ឋអា', 'kcc[-2:0]': 'ដ្ឋអាមេ', 'kcc[-3]': 'រ', 'kcc[-3]t': 'C', 'kcc[-3:0]': 'រដ្ឋអាមេ', 'kcc[-3:-1]': 'រដ្ឋអា', 'kcc[-3:-2]': 'រដ្ឋ', 'kcc[+1]': 'រិ', 'kcc[+1]t': 'K2', 'kcc[+1:0]': 'មេរិ', 'ns+1': False, 'kcc[+2]': 'ក', 'kcc[+2]t': 'C', 'kcc[+1:+2]': 'រិក', 'kcc[0:+2]': 'មេរិក', 'ns+2': False, 'kcc[+3]': 'នៅ', 'kcc[+3]t': 'K2', 'kcc[+2:+3]': 'កនៅ', 'kcc[+1:+3]': 'រិកនៅ', 'kcc[0:+3]': 'មេរិកនៅ'}, {'kcc': 'រិ', 't': 'K2', 'ns': False, 'kcc[-1]': 'មេ', 'kcc[-1]t': 'K2', 'kcc[-1:0]': 'មេរិ', 'ns-1': False, 'kcc[-2]': 'អា', 'kcc[-2]t': 'K2', 'kcc[-2:-1]': 'អាមេ', 'kcc[-2:0]': 'អាមេរិ', 'kcc[-3]': 'ដ្ឋ', 'kcc[-3]t': 'K3', 'kcc[-3:0]': 'ដ្ឋអាមេរិ', 'kcc[-3:-1]': 'ដ្ឋអាមេ', 'kcc[-3:-2]': 'ដ្ឋអា', 'kcc[+1]': 'ក', 'kcc[+1]t': 'C', 'kcc[+1:0]': 'រិក', 'ns+1': False, 'kcc[+2]': 'នៅ', 'kcc[+2]t': 'K2', 'kcc[+1:+2]': 'កនៅ', 'kcc[0:+2]': 'រិកនៅ', 'ns+2': False, 'kcc[+3]': 'កា', 'kcc[+3]t': 'K2', 'kcc[+2:+3]': 'នៅកា', 'kcc[+1:+3]': 'កនៅកា', 'kcc[0:+3]': 'រិកនៅកា'}, {'kcc': 'ក', 't': 'C', 'ns': False, 'kcc[-1]': 'រិ', 'kcc[-1]t': 'K2', 'kcc[-1:0]': 'រិក', 'ns-1': False, 'kcc[-2]': 'មេ', 'kcc[-2]t': 'K2', 'kcc[-2:-1]': 'មេរិ', 'kcc[-2:0]': 'មេរិក', 'kcc[-3]': 'អា', 'kcc[-3]t': 'K2', 'kcc[-3:0]': 'អាមេរិក', 'kcc[-3:-1]': 'អាមេរិ', 'kcc[-3:-2]': 'អាមេ', 'kcc[+1]': 'នៅ', 'kcc[+1]t': 'K2', 'kcc[+1:0]': 'កនៅ', 'ns+1': False, 'kcc[+2]': 'កា', 'kcc[+2]t': 'K2', 'kcc[+1:+2]': 'នៅកា', 'kcc[0:+2]': 'កនៅកា', 'ns+2': False, 'kcc[+3]': 'លី', 'kcc[+3]t': 'K2', 'kcc[+2:+3]': 'កាលី', 'kcc[+1:+3]': 'នៅកាលី', 'kcc[0:+3]': 'កនៅកាលី'}, {'kcc': 'នៅ', 't': 'K2', 'ns': False, 'kcc[-1]': 'ក', 'kcc[-1]t': 'C', 'kcc[-1:0]': 'កនៅ', 'ns-1': False, 'kcc[-2]': 'រិ', 'kcc[-2]t': 'K2', 'kcc[-2:-1]': 'រិក', 'kcc[-2:0]': 'រិកនៅ', 'kcc[-3]': 'មេ', 'kcc[-3]t': 'K2', 'kcc[-3:0]': 'មេរិកនៅ', 'kcc[-3:-1]': 'មេរិក', 'kcc[-3:-2]': 'មេរិ', 'kcc[+1]': 'កា', 'kcc[+1]t': 'K2', 'kcc[+1:0]': 'នៅកា', 'ns+1': False, 'kcc[+2]': 'លី', 'kcc[+2]t': 'K2', 'kcc[+1:+2]': 'កាលី', 'kcc[0:+2]': 'នៅកាលី', 'ns+2': False, 'kcc[+3]': 'ហ្វ', 'kcc[+3]t': 'K3', 'kcc[+2:+3]': 'លីហ្វ', 'kcc[+1:+3]': 'កាលីហ្វ', 'kcc[0:+3]': 'នៅកាលីហ្វ'}, {'kcc': 'កា', 't': 'K2', 'ns': False, 'kcc[-1]': 'នៅ', 'kcc[-1]t': 'K2', 'kcc[-1:0]': 'នៅកា', 'ns-1': False, 'kcc[-2]': 'ក', 'kcc[-2]t': 'C', 'kcc[-2:-1]': 'កនៅ', 'kcc[-2:0]': 'កនៅកា', 'kcc[-3]': 'រិ', 'kcc[-3]t': 'K2', 'kcc[-3:0]': 'រិកនៅកា', 'kcc[-3:-1]': 'រិកនៅ', 'kcc[-3:-2]': 'រិក', 'kcc[+1]': 'លី', 'kcc[+1]t': 'K2', 'kcc[+1:0]': 'កាលី', 'ns+1': False, 'kcc[+2]': 'ហ្វ', 'kcc[+2]t': 'K3', 'kcc[+1:+2]': 'លីហ្វ', 'kcc[0:+2]': 'កាលីហ្វ', 'ns+2': False, 'kcc[+3]': 'ញ៉ា', 'kcc[+3]t': 'K3', 'kcc[+2:+3]': 'ហ្វញ៉ា', 'kcc[+1:+3]': 'លីហ្វញ៉ា', 'kcc[0:+3]': 'កាលីហ្វញ៉ា'}, {'kcc': 'លី', 't': 'K2', 'ns': False, 'kcc[-1]': 'កា', 'kcc[-1]t': 'K2', 'kcc[-1:0]': 'កាលី', 'ns-1': False, 'kcc[-2]': 'នៅ', 'kcc[-2]t': 'K2', 'kcc[-2:-1]': 'នៅកា', 'kcc[-2:0]': 'នៅកាលី', 'kcc[-3]': 'ក', 'kcc[-3]t': 'C', 'kcc[-3:0]': 'កនៅកាលី', 'kcc[-3:-1]': 'កនៅកា', 'kcc[-3:-2]': 'កនៅ', 'kcc[+1]': 'ហ្វ', 'kcc[+1]t': 'K3', 'kcc[+1:0]': 'លីហ្វ', 'ns+1': False, 'kcc[+2]': 'ញ៉ា', 'kcc[+2]t': 'K3', 'kcc[+1:+2]': 'ហ្វញ៉ា', 'kcc[0:+2]': 'លីហ្វញ៉ា', 'ns+2': False, 'kcc[+3]': '។', 'kcc[+3]t': 'NS', 'kcc[+2:+3]': 'ញ៉ា។', 'kcc[+1:+3]': 'ហ្វញ៉ា។', 'kcc[0:+3]': 'លីហ្វញ៉ា។'}, {'kcc': 'ហ្វ', 't': 'K3', 'ns': False, 'kcc[-1]': 'លី', 'kcc[-1]t': 'K2', 'kcc[-1:0]': 'លីហ្វ', 'ns-1': False, 'kcc[-2]': 'កា', 'kcc[-2]t': 'K2', 'kcc[-2:-1]': 'កាលី', 'kcc[-2:0]': 'កាលីហ្វ', 'kcc[-3]': 'នៅ', 'kcc[-3]t': 'K2', 'kcc[-3:0]': 'នៅកាលីហ្វ', 'kcc[-3:-1]': 'នៅកាលី', 'kcc[-3:-2]': 'នៅកា', 'kcc[+1]': 'ញ៉ា', 'kcc[+1]t': 'K3', 'kcc[+1:0]': 'ហ្វញ៉ា', 'ns+1': False, 'kcc[+2]': '។', 'kcc[+2]t': 'NS', 'kcc[+1:+2]': 'ញ៉ា។', 'kcc[0:+2]': 'ហ្វញ៉ា។', 'ns+2': True}, {'kcc': 'ញ៉ា', 't': 'K3', 'ns': False, 'kcc[-1]': 'ហ្វ', 'kcc[-1]t': 'K3', 'kcc[-1:0]': 'ហ្វញ៉ា', 'ns-1': False, 'kcc[-2]': 'លី', 'kcc[-2]t': 'K2', 'kcc[-2:-1]': 'លីហ្វ', 'kcc[-2:0]': 'លីហ្វញ៉ា', 'kcc[-3]': 'កា', 'kcc[-3]t': 'K2', 'kcc[-3:0]': 'កាលីហ្វញ៉ា', 'kcc[-3:-1]': 'កាលីហ្វ', 'kcc[-3:-2]': 'កាលី', 'kcc[+1]': '។', 'kcc[+1]t': 'NS', 'kcc[+1:0]': 'ញ៉ា។', 'ns+1': True}, {'kcc': '។', 't': 'NS', 'ns': True, 'kcc[-1]': 'ញ៉ា', 'kcc[-1]t': 'K3', 'kcc[-1:0]': 'ញ៉ា។', 'ns-1': False, 'kcc[-2]': 'ហ្វ', 'kcc[-2]t': 'K3', 'kcc[-2:-1]': 'ហ្វញ៉ា', 'kcc[-2:0]': 'ហ្វញ៉ា។', 'kcc[-3]': 'លី', 'kcc[-3]t': 'K2', 'kcc[-3:0]': 'លីហ្វញ៉ា។', 'kcc[-3:-1]': 'លីហ្វញ៉ា', 'kcc[-3:-2]': 'លីហ្វ', 'EOS': True}]\n",
            "y_train_pred[0] ['1', '0', '1', '0', '1', '0', '1', '1', '1', '0', '0', '0', '1', '0', '0', '0', '0', '0', '1', '1', '1', '1', '0', '1', '0', '1', '1', '0', '1', '0', '1', '0', '1', '0', '0', '1', '1', '1', '1', '0', '1', '0', '1', '0', '1', '1', '0', '0', '1', '0', '1', '0', '1', '0', '1', '0', '1', '0', '0', '0', '1', '1', '0', '0', '0', '1']\n",
            "y_train[0]      ['1', '0', '1', '0', '1', '0', '1', '1', '1', '0', '0', '0', '1', '0', '0', '0', '0', '0', '1', '1', '1', '1', '0', '1', '0', '1', '1', '0', '1', '0', '1', '0', '1', '0', '0', '1', '1', '1', '1', '0', '1', '0', '1', '0', '1', '1', '0', '0', '1', '0', '1', '0', '1', '0', '1', '0', '1', '0', '0', '0', '1', '1', '0', '0', '0', '1']\n",
            "len y_pred: 200\n",
            "X_test[0] [{'kcc': 'កា', 't': 'K2', 'ns': False, 'BOS': True, 'kcc[+1]': 'រ', 'kcc[+1]t': 'C', 'kcc[+1:0]': 'ការ', 'ns+1': False, 'kcc[+2]': 'ឈ្នះ', 'kcc[+2]t': 'K4', 'kcc[+1:+2]': 'រឈ្នះ', 'kcc[0:+2]': 'ការឈ្នះ', 'ns+2': False, 'kcc[+3]': 'ធ្វើ', 'kcc[+3]t': 'K4', 'kcc[+2:+3]': 'ឈ្នះធ្វើ', 'kcc[+1:+3]': 'រឈ្នះធ្វើ', 'kcc[0:+3]': 'ការឈ្នះធ្វើ'}, {'kcc': 'រ', 't': 'C', 'ns': False, 'kcc[-1]': 'កា', 'kcc[-1]t': 'K2', 'kcc[-1:0]': 'ការ', 'ns-1': False, 'kcc[+1]': 'ឈ្នះ', 'kcc[+1]t': 'K4', 'kcc[+1:0]': 'រឈ្នះ', 'ns+1': False, 'kcc[+2]': 'ធ្វើ', 'kcc[+2]t': 'K4', 'kcc[+1:+2]': 'ឈ្នះធ្វើ', 'kcc[0:+2]': 'រឈ្នះធ្វើ', 'ns+2': False, 'kcc[+3]': 'ឲ្យ', 'kcc[+3]t': 'K3', 'kcc[+2:+3]': 'ធ្វើឲ្យ', 'kcc[+1:+3]': 'ឈ្នះធ្វើឲ្យ', 'kcc[0:+3]': 'រឈ្នះធ្វើឲ្យ'}, {'kcc': 'ឈ្នះ', 't': 'K4', 'ns': False, 'kcc[-1]': 'រ', 'kcc[-1]t': 'C', 'kcc[-1:0]': 'រឈ្នះ', 'ns-1': False, 'kcc[-2]': 'កា', 'kcc[-2]t': 'K2', 'kcc[-2:-1]': 'ការ', 'kcc[-2:0]': 'ការឈ្នះ', 'kcc[+1]': 'ធ្វើ', 'kcc[+1]t': 'K4', 'kcc[+1:0]': 'ឈ្នះធ្វើ', 'ns+1': False, 'kcc[+2]': 'ឲ្យ', 'kcc[+2]t': 'K3', 'kcc[+1:+2]': 'ធ្វើឲ្យ', 'kcc[0:+2]': 'ឈ្នះធ្វើឲ្យ', 'ns+2': False, 'kcc[+3]': 'ច', 'kcc[+3]t': 'C', 'kcc[+2:+3]': 'ឲ្យច', 'kcc[+1:+3]': 'ធ្វើឲ្យច', 'kcc[0:+3]': 'ឈ្នះធ្វើឲ្យច'}, {'kcc': 'ធ្វើ', 't': 'K4', 'ns': False, 'kcc[-1]': 'ឈ្នះ', 'kcc[-1]t': 'K4', 'kcc[-1:0]': 'ឈ្នះធ្វើ', 'ns-1': False, 'kcc[-2]': 'រ', 'kcc[-2]t': 'C', 'kcc[-2:-1]': 'រឈ្នះ', 'kcc[-2:0]': 'រឈ្នះធ្វើ', 'kcc[-3]': 'កា', 'kcc[-3]t': 'K2', 'kcc[-3:0]': 'ការឈ្នះធ្វើ', 'kcc[-3:-1]': 'ការឈ្នះ', 'kcc[-3:-2]': 'ការ', 'kcc[+1]': 'ឲ្យ', 'kcc[+1]t': 'K3', 'kcc[+1:0]': 'ធ្វើឲ្យ', 'ns+1': False, 'kcc[+2]': 'ច', 'kcc[+2]t': 'C', 'kcc[+1:+2]': 'ឲ្យច', 'kcc[0:+2]': 'ធ្វើឲ្យច', 'ns+2': False, 'kcc[+3]': 'ន', 'kcc[+3]t': 'C', 'kcc[+2:+3]': 'ចន', 'kcc[+1:+3]': 'ឲ្យចន', 'kcc[0:+3]': 'ធ្វើឲ្យចន'}, {'kcc': 'ឲ្យ', 't': 'K3', 'ns': False, 'kcc[-1]': 'ធ្វើ', 'kcc[-1]t': 'K4', 'kcc[-1:0]': 'ធ្វើឲ្យ', 'ns-1': False, 'kcc[-2]': 'ឈ្នះ', 'kcc[-2]t': 'K4', 'kcc[-2:-1]': 'ឈ្នះធ្វើ', 'kcc[-2:0]': 'ឈ្នះធ្វើឲ្យ', 'kcc[-3]': 'រ', 'kcc[-3]t': 'C', 'kcc[-3:0]': 'រឈ្នះធ្វើឲ្យ', 'kcc[-3:-1]': 'រឈ្នះធ្វើ', 'kcc[-3:-2]': 'រឈ្នះ', 'kcc[+1]': 'ច', 'kcc[+1]t': 'C', 'kcc[+1:0]': 'ឲ្យច', 'ns+1': False, 'kcc[+2]': 'ន', 'kcc[+2]t': 'C', 'kcc[+1:+2]': 'ចន', 'kcc[0:+2]': 'ឲ្យចន', 'ns+2': False, 'kcc[+3]': 'សុ', 'kcc[+3]t': 'K2', 'kcc[+2:+3]': 'នសុ', 'kcc[+1:+3]': 'ចនសុ', 'kcc[0:+3]': 'ឲ្យចនសុ'}, {'kcc': 'ច', 't': 'C', 'ns': False, 'kcc[-1]': 'ឲ្យ', 'kcc[-1]t': 'K3', 'kcc[-1:0]': 'ឲ្យច', 'ns-1': False, 'kcc[-2]': 'ធ្វើ', 'kcc[-2]t': 'K4', 'kcc[-2:-1]': 'ធ្វើឲ្យ', 'kcc[-2:0]': 'ធ្វើឲ្យច', 'kcc[-3]': 'ឈ្នះ', 'kcc[-3]t': 'K4', 'kcc[-3:0]': 'ឈ្នះធ្វើឲ្យច', 'kcc[-3:-1]': 'ឈ្នះធ្វើឲ្យ', 'kcc[-3:-2]': 'ឈ្នះធ្វើ', 'kcc[+1]': 'ន', 'kcc[+1]t': 'C', 'kcc[+1:0]': 'ចន', 'ns+1': False, 'kcc[+2]': 'សុ', 'kcc[+2]t': 'K2', 'kcc[+1:+2]': 'នសុ', 'kcc[0:+2]': 'ចនសុ', 'ns+2': False, 'kcc[+3]': 'ន', 'kcc[+3]t': 'C', 'kcc[+2:+3]': 'សុន', 'kcc[+1:+3]': 'នសុន', 'kcc[0:+3]': 'ចនសុន'}, {'kcc': 'ន', 't': 'C', 'ns': False, 'kcc[-1]': 'ច', 'kcc[-1]t': 'C', 'kcc[-1:0]': 'ចន', 'ns-1': False, 'kcc[-2]': 'ឲ្យ', 'kcc[-2]t': 'K3', 'kcc[-2:-1]': 'ឲ្យច', 'kcc[-2:0]': 'ឲ្យចន', 'kcc[-3]': 'ធ្វើ', 'kcc[-3]t': 'K4', 'kcc[-3:0]': 'ធ្វើឲ្យចន', 'kcc[-3:-1]': 'ធ្វើឲ្យច', 'kcc[-3:-2]': 'ធ្វើឲ្យ', 'kcc[+1]': 'សុ', 'kcc[+1]t': 'K2', 'kcc[+1:0]': 'នសុ', 'ns+1': False, 'kcc[+2]': 'ន', 'kcc[+2]t': 'C', 'kcc[+1:+2]': 'សុន', 'kcc[0:+2]': 'នសុន', 'ns+2': False, 'kcc[+3]': 'ទ', 'kcc[+3]t': 'C', 'kcc[+2:+3]': 'នទ', 'kcc[+1:+3]': 'សុនទ', 'kcc[0:+3]': 'នសុនទ'}, {'kcc': 'សុ', 't': 'K2', 'ns': False, 'kcc[-1]': 'ន', 'kcc[-1]t': 'C', 'kcc[-1:0]': 'នសុ', 'ns-1': False, 'kcc[-2]': 'ច', 'kcc[-2]t': 'C', 'kcc[-2:-1]': 'ចន', 'kcc[-2:0]': 'ចនសុ', 'kcc[-3]': 'ឲ្យ', 'kcc[-3]t': 'K3', 'kcc[-3:0]': 'ឲ្យចនសុ', 'kcc[-3:-1]': 'ឲ្យចន', 'kcc[-3:-2]': 'ឲ្យច', 'kcc[+1]': 'ន', 'kcc[+1]t': 'C', 'kcc[+1:0]': 'សុន', 'ns+1': False, 'kcc[+2]': 'ទ', 'kcc[+2]t': 'C', 'kcc[+1:+2]': 'នទ', 'kcc[0:+2]': 'សុនទ', 'ns+2': False, 'kcc[+3]': 'ទួ', 'kcc[+3]t': 'K2', 'kcc[+2:+3]': 'ទទួ', 'kcc[+1:+3]': 'នទទួ', 'kcc[0:+3]': 'សុនទទួ'}, {'kcc': 'ន', 't': 'C', 'ns': False, 'kcc[-1]': 'សុ', 'kcc[-1]t': 'K2', 'kcc[-1:0]': 'សុន', 'ns-1': False, 'kcc[-2]': 'ន', 'kcc[-2]t': 'C', 'kcc[-2:-1]': 'នសុ', 'kcc[-2:0]': 'នសុន', 'kcc[-3]': 'ច', 'kcc[-3]t': 'C', 'kcc[-3:0]': 'ចនសុន', 'kcc[-3:-1]': 'ចនសុ', 'kcc[-3:-2]': 'ចន', 'kcc[+1]': 'ទ', 'kcc[+1]t': 'C', 'kcc[+1:0]': 'នទ', 'ns+1': False, 'kcc[+2]': 'ទួ', 'kcc[+2]t': 'K2', 'kcc[+1:+2]': 'ទទួ', 'kcc[0:+2]': 'នទទួ', 'ns+2': False, 'kcc[+3]': 'ល', 'kcc[+3]t': 'C', 'kcc[+2:+3]': 'ទួល', 'kcc[+1:+3]': 'ទទួល', 'kcc[0:+3]': 'នទទួល'}, {'kcc': 'ទ', 't': 'C', 'ns': False, 'kcc[-1]': 'ន', 'kcc[-1]t': 'C', 'kcc[-1:0]': 'នទ', 'ns-1': False, 'kcc[-2]': 'សុ', 'kcc[-2]t': 'K2', 'kcc[-2:-1]': 'សុន', 'kcc[-2:0]': 'សុនទ', 'kcc[-3]': 'ន', 'kcc[-3]t': 'C', 'kcc[-3:0]': 'នសុនទ', 'kcc[-3:-1]': 'នសុន', 'kcc[-3:-2]': 'នសុ', 'kcc[+1]': 'ទួ', 'kcc[+1]t': 'K2', 'kcc[+1:0]': 'ទទួ', 'ns+1': False, 'kcc[+2]': 'ល', 'kcc[+2]t': 'C', 'kcc[+1:+2]': 'ទួល', 'kcc[0:+2]': 'ទទួល', 'ns+2': False, 'kcc[+3]': 'បា', 'kcc[+3]t': 'K2', 'kcc[+2:+3]': 'លបា', 'kcc[+1:+3]': 'ទួលបា', 'kcc[0:+3]': 'ទទួលបា'}, {'kcc': 'ទួ', 't': 'K2', 'ns': False, 'kcc[-1]': 'ទ', 'kcc[-1]t': 'C', 'kcc[-1:0]': 'ទទួ', 'ns-1': False, 'kcc[-2]': 'ន', 'kcc[-2]t': 'C', 'kcc[-2:-1]': 'នទ', 'kcc[-2:0]': 'នទទួ', 'kcc[-3]': 'សុ', 'kcc[-3]t': 'K2', 'kcc[-3:0]': 'សុនទទួ', 'kcc[-3:-1]': 'សុនទ', 'kcc[-3:-2]': 'សុន', 'kcc[+1]': 'ល', 'kcc[+1]t': 'C', 'kcc[+1:0]': 'ទួល', 'ns+1': False, 'kcc[+2]': 'បា', 'kcc[+2]t': 'K2', 'kcc[+1:+2]': 'លបា', 'kcc[0:+2]': 'ទួលបា', 'ns+2': False, 'kcc[+3]': 'ន', 'kcc[+3]t': 'C', 'kcc[+2:+3]': 'បាន', 'kcc[+1:+3]': 'លបាន', 'kcc[0:+3]': 'ទួលបាន'}, {'kcc': 'ល', 't': 'C', 'ns': False, 'kcc[-1]': 'ទួ', 'kcc[-1]t': 'K2', 'kcc[-1:0]': 'ទួល', 'ns-1': False, 'kcc[-2]': 'ទ', 'kcc[-2]t': 'C', 'kcc[-2:-1]': 'ទទួ', 'kcc[-2:0]': 'ទទួល', 'kcc[-3]': 'ន', 'kcc[-3]t': 'C', 'kcc[-3:0]': 'នទទួល', 'kcc[-3:-1]': 'នទទួ', 'kcc[-3:-2]': 'នទ', 'kcc[+1]': 'បា', 'kcc[+1]t': 'K2', 'kcc[+1:0]': 'លបា', 'ns+1': False, 'kcc[+2]': 'ន', 'kcc[+2]t': 'C', 'kcc[+1:+2]': 'បាន', 'kcc[0:+2]': 'លបាន', 'ns+2': False, 'kcc[+3]': '190', 'kcc[+3]t': 'K3', 'kcc[+2:+3]': 'ន190', 'kcc[+1:+3]': 'បាន190', 'kcc[0:+3]': 'លបាន190'}, {'kcc': 'បា', 't': 'K2', 'ns': False, 'kcc[-1]': 'ល', 'kcc[-1]t': 'C', 'kcc[-1:0]': 'លបា', 'ns-1': False, 'kcc[-2]': 'ទួ', 'kcc[-2]t': 'K2', 'kcc[-2:-1]': 'ទួល', 'kcc[-2:0]': 'ទួលបា', 'kcc[-3]': 'ទ', 'kcc[-3]t': 'C', 'kcc[-3:0]': 'ទទួលបា', 'kcc[-3:-1]': 'ទទួល', 'kcc[-3:-2]': 'ទទួ', 'kcc[+1]': 'ន', 'kcc[+1]t': 'C', 'kcc[+1:0]': 'បាន', 'ns+1': False, 'kcc[+2]': '190', 'kcc[+2]t': 'K3', 'kcc[+1:+2]': 'ន190', 'kcc[0:+2]': 'បាន190', 'ns+2': True, 'kcc[+3]': 'ពិ', 'kcc[+3]t': 'K2', 'kcc[+2:+3]': '190ពិ', 'kcc[+1:+3]': 'ន190ពិ', 'kcc[0:+3]': 'បាន190ពិ'}, {'kcc': 'ន', 't': 'C', 'ns': False, 'kcc[-1]': 'បា', 'kcc[-1]t': 'K2', 'kcc[-1:0]': 'បាន', 'ns-1': False, 'kcc[-2]': 'ល', 'kcc[-2]t': 'C', 'kcc[-2:-1]': 'លបា', 'kcc[-2:0]': 'លបាន', 'kcc[-3]': 'ទួ', 'kcc[-3]t': 'K2', 'kcc[-3:0]': 'ទួលបាន', 'kcc[-3:-1]': 'ទួលបា', 'kcc[-3:-2]': 'ទួល', 'kcc[+1]': '190', 'kcc[+1]t': 'K3', 'kcc[+1:0]': 'ន190', 'ns+1': True, 'kcc[+2]': 'ពិ', 'kcc[+2]t': 'K2', 'kcc[+1:+2]': '190ពិ', 'kcc[0:+2]': 'ន190ពិ', 'ns+2': False, 'kcc[+3]': 'ន្ទុ', 'kcc[+3]t': 'K4', 'kcc[+2:+3]': 'ពិន្ទុ', 'kcc[+1:+3]': '190ពិន្ទុ', 'kcc[0:+3]': 'ន190ពិន្ទុ'}, {'kcc': '190', 't': 'K3', 'ns': True, 'kcc[-1]': 'ន', 'kcc[-1]t': 'C', 'kcc[-1:0]': 'ន190', 'ns-1': False, 'kcc[-2]': 'បា', 'kcc[-2]t': 'K2', 'kcc[-2:-1]': 'បាន', 'kcc[-2:0]': 'បាន190', 'kcc[-3]': 'ល', 'kcc[-3]t': 'C', 'kcc[-3:0]': 'លបាន190', 'kcc[-3:-1]': 'លបាន', 'kcc[-3:-2]': 'លបា', 'kcc[+1]': 'ពិ', 'kcc[+1]t': 'K2', 'kcc[+1:0]': '190ពិ', 'ns+1': False, 'kcc[+2]': 'ន្ទុ', 'kcc[+2]t': 'K4', 'kcc[+1:+2]': 'ពិន្ទុ', 'kcc[0:+2]': '190ពិន្ទុ', 'ns+2': False, 'kcc[+3]': '(', 'kcc[+3]t': 'NS', 'kcc[+2:+3]': 'ន្ទុ(', 'kcc[+1:+3]': 'ពិន្ទុ(', 'kcc[0:+3]': '190ពិន្ទុ('}, {'kcc': 'ពិ', 't': 'K2', 'ns': False, 'kcc[-1]': '190', 'kcc[-1]t': 'K3', 'kcc[-1:0]': '190ពិ', 'ns-1': True, 'kcc[-2]': 'ន', 'kcc[-2]t': 'C', 'kcc[-2:-1]': 'ន190', 'kcc[-2:0]': 'ន190ពិ', 'kcc[-3]': 'បា', 'kcc[-3]t': 'K2', 'kcc[-3:0]': 'បាន190ពិ', 'kcc[-3:-1]': 'បាន190', 'kcc[-3:-2]': 'បាន', 'kcc[+1]': 'ន្ទុ', 'kcc[+1]t': 'K4', 'kcc[+1:0]': 'ពិន្ទុ', 'ns+1': False, 'kcc[+2]': '(', 'kcc[+2]t': 'NS', 'kcc[+1:+2]': 'ន្ទុ(', 'kcc[0:+2]': 'ពិន្ទុ(', 'ns+2': True, 'kcc[+3]': 'រូ', 'kcc[+3]t': 'K2', 'kcc[+2:+3]': '(រូ', 'kcc[+1:+3]': 'ន្ទុ(រូ', 'kcc[0:+3]': 'ពិន្ទុ(រូ'}, {'kcc': 'ន្ទុ', 't': 'K4', 'ns': False, 'kcc[-1]': 'ពិ', 'kcc[-1]t': 'K2', 'kcc[-1:0]': 'ពិន្ទុ', 'ns-1': False, 'kcc[-2]': '190', 'kcc[-2]t': 'K3', 'kcc[-2:-1]': '190ពិ', 'kcc[-2:0]': '190ពិន្ទុ', 'kcc[-3]': 'ន', 'kcc[-3]t': 'C', 'kcc[-3:0]': 'ន190ពិន្ទុ', 'kcc[-3:-1]': 'ន190ពិ', 'kcc[-3:-2]': 'ន190', 'kcc[+1]': '(', 'kcc[+1]t': 'NS', 'kcc[+1:0]': 'ន្ទុ(', 'ns+1': True, 'kcc[+2]': 'រូ', 'kcc[+2]t': 'K2', 'kcc[+1:+2]': '(រូ', 'kcc[0:+2]': 'ន្ទុ(រូ', 'ns+2': False, 'kcc[+3]': 'ម', 'kcc[+3]t': 'C', 'kcc[+2:+3]': 'រូម', 'kcc[+1:+3]': '(រូម', 'kcc[0:+3]': 'ន្ទុ(រូម'}, {'kcc': '(', 't': 'NS', 'ns': True, 'kcc[-1]': 'ន្ទុ', 'kcc[-1]t': 'K4', 'kcc[-1:0]': 'ន្ទុ(', 'ns-1': False, 'kcc[-2]': 'ពិ', 'kcc[-2]t': 'K2', 'kcc[-2:-1]': 'ពិន្ទុ', 'kcc[-2:0]': 'ពិន្ទុ(', 'kcc[-3]': '190', 'kcc[-3]t': 'K3', 'kcc[-3:0]': '190ពិន្ទុ(', 'kcc[-3:-1]': '190ពិន្ទុ', 'kcc[-3:-2]': '190ពិ', 'kcc[+1]': 'រូ', 'kcc[+1]t': 'K2', 'kcc[+1:0]': '(រូ', 'ns+1': False, 'kcc[+2]': 'ម', 'kcc[+2]t': 'C', 'kcc[+1:+2]': 'រូម', 'kcc[0:+2]': '(រូម', 'ns+2': False, 'kcc[+3]': 'ទាំ', 'kcc[+3]t': 'K3', 'kcc[+2:+3]': 'មទាំ', 'kcc[+1:+3]': 'រូមទាំ', 'kcc[0:+3]': '(រូមទាំ'}, {'kcc': 'រូ', 't': 'K2', 'ns': False, 'kcc[-1]': '(', 'kcc[-1]t': 'NS', 'kcc[-1:0]': '(រូ', 'ns-1': True, 'kcc[-2]': 'ន្ទុ', 'kcc[-2]t': 'K4', 'kcc[-2:-1]': 'ន្ទុ(', 'kcc[-2:0]': 'ន្ទុ(រូ', 'kcc[-3]': 'ពិ', 'kcc[-3]t': 'K2', 'kcc[-3:0]': 'ពិន្ទុ(រូ', 'kcc[-3:-1]': 'ពិន្ទុ(', 'kcc[-3:-2]': 'ពិន្ទុ', 'kcc[+1]': 'ម', 'kcc[+1]t': 'C', 'kcc[+1:0]': 'រូម', 'ns+1': False, 'kcc[+2]': 'ទាំ', 'kcc[+2]t': 'K3', 'kcc[+1:+2]': 'មទាំ', 'kcc[0:+2]': 'រូមទាំ', 'ns+2': False, 'kcc[+3]': 'ង', 'kcc[+3]t': 'C', 'kcc[+2:+3]': 'ទាំង', 'kcc[+1:+3]': 'មទាំង', 'kcc[0:+3]': 'រូមទាំង'}, {'kcc': 'ម', 't': 'C', 'ns': False, 'kcc[-1]': 'រូ', 'kcc[-1]t': 'K2', 'kcc[-1:0]': 'រូម', 'ns-1': False, 'kcc[-2]': '(', 'kcc[-2]t': 'NS', 'kcc[-2:-1]': '(រូ', 'kcc[-2:0]': '(រូម', 'kcc[-3]': 'ន្ទុ', 'kcc[-3]t': 'K4', 'kcc[-3:0]': 'ន្ទុ(រូម', 'kcc[-3:-1]': 'ន្ទុ(រូ', 'kcc[-3:-2]': 'ន្ទុ(', 'kcc[+1]': 'ទាំ', 'kcc[+1]t': 'K3', 'kcc[+1:0]': 'មទាំ', 'ns+1': False, 'kcc[+2]': 'ង', 'kcc[+2]t': 'C', 'kcc[+1:+2]': 'ទាំង', 'kcc[0:+2]': 'មទាំង', 'ns+2': False, 'kcc[+3]': '5', 'kcc[+3]t': 'NS', 'kcc[+2:+3]': 'ង5', 'kcc[+1:+3]': 'ទាំង5', 'kcc[0:+3]': 'មទាំង5'}, {'kcc': 'ទាំ', 't': 'K3', 'ns': False, 'kcc[-1]': 'ម', 'kcc[-1]t': 'C', 'kcc[-1:0]': 'មទាំ', 'ns-1': False, 'kcc[-2]': 'រូ', 'kcc[-2]t': 'K2', 'kcc[-2:-1]': 'រូម', 'kcc[-2:0]': 'រូមទាំ', 'kcc[-3]': '(', 'kcc[-3]t': 'NS', 'kcc[-3:0]': '(រូមទាំ', 'kcc[-3:-1]': '(រូម', 'kcc[-3:-2]': '(រូ', 'kcc[+1]': 'ង', 'kcc[+1]t': 'C', 'kcc[+1:0]': 'ទាំង', 'ns+1': False, 'kcc[+2]': '5', 'kcc[+2]t': 'NS', 'kcc[+1:+2]': 'ង5', 'kcc[0:+2]': 'ទាំង5', 'ns+2': True, 'kcc[+3]': 'ពិ', 'kcc[+3]t': 'K2', 'kcc[+2:+3]': '5ពិ', 'kcc[+1:+3]': 'ង5ពិ', 'kcc[0:+3]': 'ទាំង5ពិ'}, {'kcc': 'ង', 't': 'C', 'ns': False, 'kcc[-1]': 'ទាំ', 'kcc[-1]t': 'K3', 'kcc[-1:0]': 'ទាំង', 'ns-1': False, 'kcc[-2]': 'ម', 'kcc[-2]t': 'C', 'kcc[-2:-1]': 'មទាំ', 'kcc[-2:0]': 'មទាំង', 'kcc[-3]': 'រូ', 'kcc[-3]t': 'K2', 'kcc[-3:0]': 'រូមទាំង', 'kcc[-3:-1]': 'រូមទាំ', 'kcc[-3:-2]': 'រូម', 'kcc[+1]': '5', 'kcc[+1]t': 'NS', 'kcc[+1:0]': 'ង5', 'ns+1': True, 'kcc[+2]': 'ពិ', 'kcc[+2]t': 'K2', 'kcc[+1:+2]': '5ពិ', 'kcc[0:+2]': 'ង5ពិ', 'ns+2': False, 'kcc[+3]': 'ន្ទុ', 'kcc[+3]t': 'K4', 'kcc[+2:+3]': 'ពិន្ទុ', 'kcc[+1:+3]': '5ពិន្ទុ', 'kcc[0:+3]': 'ង5ពិន្ទុ'}, {'kcc': '5', 't': 'NS', 'ns': True, 'kcc[-1]': 'ង', 'kcc[-1]t': 'C', 'kcc[-1:0]': 'ង5', 'ns-1': False, 'kcc[-2]': 'ទាំ', 'kcc[-2]t': 'K3', 'kcc[-2:-1]': 'ទាំង', 'kcc[-2:0]': 'ទាំង5', 'kcc[-3]': 'ម', 'kcc[-3]t': 'C', 'kcc[-3:0]': 'មទាំង5', 'kcc[-3:-1]': 'មទាំង', 'kcc[-3:-2]': 'មទាំ', 'kcc[+1]': 'ពិ', 'kcc[+1]t': 'K2', 'kcc[+1:0]': '5ពិ', 'ns+1': False, 'kcc[+2]': 'ន្ទុ', 'kcc[+2]t': 'K4', 'kcc[+1:+2]': 'ពិន្ទុ', 'kcc[0:+2]': '5ពិន្ទុ', 'ns+2': False, 'kcc[+3]': 'ជា', 'kcc[+3]t': 'K2', 'kcc[+2:+3]': 'ន្ទុជា', 'kcc[+1:+3]': 'ពិន្ទុជា', 'kcc[0:+3]': '5ពិន្ទុជា'}, {'kcc': 'ពិ', 't': 'K2', 'ns': False, 'kcc[-1]': '5', 'kcc[-1]t': 'NS', 'kcc[-1:0]': '5ពិ', 'ns-1': True, 'kcc[-2]': 'ង', 'kcc[-2]t': 'C', 'kcc[-2:-1]': 'ង5', 'kcc[-2:0]': 'ង5ពិ', 'kcc[-3]': 'ទាំ', 'kcc[-3]t': 'K3', 'kcc[-3:0]': 'ទាំង5ពិ', 'kcc[-3:-1]': 'ទាំង5', 'kcc[-3:-2]': 'ទាំង', 'kcc[+1]': 'ន្ទុ', 'kcc[+1]t': 'K4', 'kcc[+1:0]': 'ពិន្ទុ', 'ns+1': False, 'kcc[+2]': 'ជា', 'kcc[+2]t': 'K2', 'kcc[+1:+2]': 'ន្ទុជា', 'kcc[0:+2]': 'ពិន្ទុជា', 'ns+2': False, 'kcc[+3]': 'រ', 'kcc[+3]t': 'C', 'kcc[+2:+3]': 'ជារ', 'kcc[+1:+3]': 'ន្ទុជារ', 'kcc[0:+3]': 'ពិន្ទុជារ'}, {'kcc': 'ន្ទុ', 't': 'K4', 'ns': False, 'kcc[-1]': 'ពិ', 'kcc[-1]t': 'K2', 'kcc[-1:0]': 'ពិន្ទុ', 'ns-1': False, 'kcc[-2]': '5', 'kcc[-2]t': 'NS', 'kcc[-2:-1]': '5ពិ', 'kcc[-2:0]': '5ពិន្ទុ', 'kcc[-3]': 'ង', 'kcc[-3]t': 'C', 'kcc[-3:0]': 'ង5ពិន្ទុ', 'kcc[-3:-1]': 'ង5ពិ', 'kcc[-3:-2]': 'ង5', 'kcc[+1]': 'ជា', 'kcc[+1]t': 'K2', 'kcc[+1:0]': 'ន្ទុជា', 'ns+1': False, 'kcc[+2]': 'រ', 'kcc[+2]t': 'C', 'kcc[+1:+2]': 'ជារ', 'kcc[0:+2]': 'ន្ទុជារ', 'ns+2': False, 'kcc[+3]': 'ង្វា', 'kcc[+3]t': 'K4', 'kcc[+2:+3]': 'រង្វា', 'kcc[+1:+3]': 'ជារង្វា', 'kcc[0:+3]': 'ន្ទុជារង្វា'}, {'kcc': 'ជា', 't': 'K2', 'ns': False, 'kcc[-1]': 'ន្ទុ', 'kcc[-1]t': 'K4', 'kcc[-1:0]': 'ន្ទុជា', 'ns-1': False, 'kcc[-2]': 'ពិ', 'kcc[-2]t': 'K2', 'kcc[-2:-1]': 'ពិន្ទុ', 'kcc[-2:0]': 'ពិន្ទុជា', 'kcc[-3]': '5', 'kcc[-3]t': 'NS', 'kcc[-3:0]': '5ពិន្ទុជា', 'kcc[-3:-1]': '5ពិន្ទុ', 'kcc[-3:-2]': '5ពិ', 'kcc[+1]': 'រ', 'kcc[+1]t': 'C', 'kcc[+1:0]': 'ជារ', 'ns+1': False, 'kcc[+2]': 'ង្វា', 'kcc[+2]t': 'K4', 'kcc[+1:+2]': 'រង្វា', 'kcc[0:+2]': 'ជារង្វា', 'ns+2': False, 'kcc[+3]': 'ន់', 'kcc[+3]t': 'K2', 'kcc[+2:+3]': 'ង្វាន់', 'kcc[+1:+3]': 'រង្វាន់', 'kcc[0:+3]': 'ជារង្វាន់'}, {'kcc': 'រ', 't': 'C', 'ns': False, 'kcc[-1]': 'ជា', 'kcc[-1]t': 'K2', 'kcc[-1:0]': 'ជារ', 'ns-1': False, 'kcc[-2]': 'ន្ទុ', 'kcc[-2]t': 'K4', 'kcc[-2:-1]': 'ន្ទុជា', 'kcc[-2:0]': 'ន្ទុជារ', 'kcc[-3]': 'ពិ', 'kcc[-3]t': 'K2', 'kcc[-3:0]': 'ពិន្ទុជារ', 'kcc[-3:-1]': 'ពិន្ទុជា', 'kcc[-3:-2]': 'ពិន្ទុ', 'kcc[+1]': 'ង្វា', 'kcc[+1]t': 'K4', 'kcc[+1:0]': 'រង្វា', 'ns+1': False, 'kcc[+2]': 'ន់', 'kcc[+2]t': 'K2', 'kcc[+1:+2]': 'ង្វាន់', 'kcc[0:+2]': 'រង្វាន់', 'ns+2': False, 'kcc[+3]': ')', 'kcc[+3]t': 'NS', 'kcc[+2:+3]': 'ន់)', 'kcc[+1:+3]': 'ង្វាន់)', 'kcc[0:+3]': 'រង្វាន់)'}, {'kcc': 'ង្វា', 't': 'K4', 'ns': False, 'kcc[-1]': 'រ', 'kcc[-1]t': 'C', 'kcc[-1:0]': 'រង្វា', 'ns-1': False, 'kcc[-2]': 'ជា', 'kcc[-2]t': 'K2', 'kcc[-2:-1]': 'ជារ', 'kcc[-2:0]': 'ជារង្វា', 'kcc[-3]': 'ន្ទុ', 'kcc[-3]t': 'K4', 'kcc[-3:0]': 'ន្ទុជារង្វា', 'kcc[-3:-1]': 'ន្ទុជារ', 'kcc[-3:-2]': 'ន្ទុជា', 'kcc[+1]': 'ន់', 'kcc[+1]t': 'K2', 'kcc[+1:0]': 'ង្វាន់', 'ns+1': False, 'kcc[+2]': ')', 'kcc[+2]t': 'NS', 'kcc[+1:+2]': 'ន់)', 'kcc[0:+2]': 'ង្វាន់)', 'ns+2': True, 'kcc[+3]': 'ធ្វើ', 'kcc[+3]t': 'K4', 'kcc[+2:+3]': ')ធ្វើ', 'kcc[+1:+3]': 'ន់)ធ្វើ', 'kcc[0:+3]': 'ង្វាន់)ធ្វើ'}, {'kcc': 'ន់', 't': 'K2', 'ns': False, 'kcc[-1]': 'ង្វា', 'kcc[-1]t': 'K4', 'kcc[-1:0]': 'ង្វាន់', 'ns-1': False, 'kcc[-2]': 'រ', 'kcc[-2]t': 'C', 'kcc[-2:-1]': 'រង្វា', 'kcc[-2:0]': 'រង្វាន់', 'kcc[-3]': 'ជា', 'kcc[-3]t': 'K2', 'kcc[-3:0]': 'ជារង្វាន់', 'kcc[-3:-1]': 'ជារង្វា', 'kcc[-3:-2]': 'ជារ', 'kcc[+1]': ')', 'kcc[+1]t': 'NS', 'kcc[+1:0]': 'ន់)', 'ns+1': True, 'kcc[+2]': 'ធ្វើ', 'kcc[+2]t': 'K4', 'kcc[+1:+2]': ')ធ្វើ', 'kcc[0:+2]': 'ន់)ធ្វើ', 'ns+2': False, 'kcc[+3]': 'ឲ្យ', 'kcc[+3]t': 'K3', 'kcc[+2:+3]': 'ធ្វើឲ្យ', 'kcc[+1:+3]': ')ធ្វើឲ្យ', 'kcc[0:+3]': 'ន់)ធ្វើឲ្យ'}, {'kcc': ')', 't': 'NS', 'ns': True, 'kcc[-1]': 'ន់', 'kcc[-1]t': 'K2', 'kcc[-1:0]': 'ន់)', 'ns-1': False, 'kcc[-2]': 'ង្វា', 'kcc[-2]t': 'K4', 'kcc[-2:-1]': 'ង្វាន់', 'kcc[-2:0]': 'ង្វាន់)', 'kcc[-3]': 'រ', 'kcc[-3]t': 'C', 'kcc[-3:0]': 'រង្វាន់)', 'kcc[-3:-1]': 'រង្វាន់', 'kcc[-3:-2]': 'រង្វា', 'kcc[+1]': 'ធ្វើ', 'kcc[+1]t': 'K4', 'kcc[+1:0]': ')ធ្វើ', 'ns+1': False, 'kcc[+2]': 'ឲ្យ', 'kcc[+2]t': 'K3', 'kcc[+1:+2]': 'ធ្វើឲ្យ', 'kcc[0:+2]': ')ធ្វើឲ្យ', 'ns+2': False, 'kcc[+3]': 'គា', 'kcc[+3]t': 'K2', 'kcc[+2:+3]': 'ឲ្យគា', 'kcc[+1:+3]': 'ធ្វើឲ្យគា', 'kcc[0:+3]': ')ធ្វើឲ្យគា'}, {'kcc': 'ធ្វើ', 't': 'K4', 'ns': False, 'kcc[-1]': ')', 'kcc[-1]t': 'NS', 'kcc[-1:0]': ')ធ្វើ', 'ns-1': True, 'kcc[-2]': 'ន់', 'kcc[-2]t': 'K2', 'kcc[-2:-1]': 'ន់)', 'kcc[-2:0]': 'ន់)ធ្វើ', 'kcc[-3]': 'ង្វា', 'kcc[-3]t': 'K4', 'kcc[-3:0]': 'ង្វាន់)ធ្វើ', 'kcc[-3:-1]': 'ង្វាន់)', 'kcc[-3:-2]': 'ង្វាន់', 'kcc[+1]': 'ឲ្យ', 'kcc[+1]t': 'K3', 'kcc[+1:0]': 'ធ្វើឲ្យ', 'ns+1': False, 'kcc[+2]': 'គា', 'kcc[+2]t': 'K2', 'kcc[+1:+2]': 'ឲ្យគា', 'kcc[0:+2]': 'ធ្វើឲ្យគា', 'ns+2': False, 'kcc[+3]': 'ត់', 'kcc[+3]t': 'K2', 'kcc[+2:+3]': 'គាត់', 'kcc[+1:+3]': 'ឲ្យគាត់', 'kcc[0:+3]': 'ធ្វើឲ្យគាត់'}, {'kcc': 'ឲ្យ', 't': 'K3', 'ns': False, 'kcc[-1]': 'ធ្វើ', 'kcc[-1]t': 'K4', 'kcc[-1:0]': 'ធ្វើឲ្យ', 'ns-1': False, 'kcc[-2]': ')', 'kcc[-2]t': 'NS', 'kcc[-2:-1]': ')ធ្វើ', 'kcc[-2:0]': ')ធ្វើឲ្យ', 'kcc[-3]': 'ន់', 'kcc[-3]t': 'K2', 'kcc[-3:0]': 'ន់)ធ្វើឲ្យ', 'kcc[-3:-1]': 'ន់)ធ្វើ', 'kcc[-3:-2]': 'ន់)', 'kcc[+1]': 'គា', 'kcc[+1]t': 'K2', 'kcc[+1:0]': 'ឲ្យគា', 'ns+1': False, 'kcc[+2]': 'ត់', 'kcc[+2]t': 'K2', 'kcc[+1:+2]': 'គាត់', 'kcc[0:+2]': 'ឲ្យគាត់', 'ns+2': False, 'kcc[+3]': 'ឡើ', 'kcc[+3]t': 'K2', 'kcc[+2:+3]': 'ត់ឡើ', 'kcc[+1:+3]': 'គាត់ឡើ', 'kcc[0:+3]': 'ឲ្យគាត់ឡើ'}, {'kcc': 'គា', 't': 'K2', 'ns': False, 'kcc[-1]': 'ឲ្យ', 'kcc[-1]t': 'K3', 'kcc[-1:0]': 'ឲ្យគា', 'ns-1': False, 'kcc[-2]': 'ធ្វើ', 'kcc[-2]t': 'K4', 'kcc[-2:-1]': 'ធ្វើឲ្យ', 'kcc[-2:0]': 'ធ្វើឲ្យគា', 'kcc[-3]': ')', 'kcc[-3]t': 'NS', 'kcc[-3:0]': ')ធ្វើឲ្យគា', 'kcc[-3:-1]': ')ធ្វើឲ្យ', 'kcc[-3:-2]': ')ធ្វើ', 'kcc[+1]': 'ត់', 'kcc[+1]t': 'K2', 'kcc[+1:0]': 'គាត់', 'ns+1': False, 'kcc[+2]': 'ឡើ', 'kcc[+2]t': 'K2', 'kcc[+1:+2]': 'ត់ឡើ', 'kcc[0:+2]': 'គាត់ឡើ', 'ns+2': False, 'kcc[+3]': 'ង', 'kcc[+3]t': 'C', 'kcc[+2:+3]': 'ឡើង', 'kcc[+1:+3]': 'ត់ឡើង', 'kcc[0:+3]': 'គាត់ឡើង'}, {'kcc': 'ត់', 't': 'K2', 'ns': False, 'kcc[-1]': 'គា', 'kcc[-1]t': 'K2', 'kcc[-1:0]': 'គាត់', 'ns-1': False, 'kcc[-2]': 'ឲ្យ', 'kcc[-2]t': 'K3', 'kcc[-2:-1]': 'ឲ្យគា', 'kcc[-2:0]': 'ឲ្យគាត់', 'kcc[-3]': 'ធ្វើ', 'kcc[-3]t': 'K4', 'kcc[-3:0]': 'ធ្វើឲ្យគាត់', 'kcc[-3:-1]': 'ធ្វើឲ្យគា', 'kcc[-3:-2]': 'ធ្វើឲ្យ', 'kcc[+1]': 'ឡើ', 'kcc[+1]t': 'K2', 'kcc[+1:0]': 'ត់ឡើ', 'ns+1': False, 'kcc[+2]': 'ង', 'kcc[+2]t': 'C', 'kcc[+1:+2]': 'ឡើង', 'kcc[0:+2]': 'ត់ឡើង', 'ns+2': False, 'kcc[+3]': 'ជិ', 'kcc[+3]t': 'K2', 'kcc[+2:+3]': 'ងជិ', 'kcc[+1:+3]': 'ឡើងជិ', 'kcc[0:+3]': 'ត់ឡើងជិ'}, {'kcc': 'ឡើ', 't': 'K2', 'ns': False, 'kcc[-1]': 'ត់', 'kcc[-1]t': 'K2', 'kcc[-1:0]': 'ត់ឡើ', 'ns-1': False, 'kcc[-2]': 'គា', 'kcc[-2]t': 'K2', 'kcc[-2:-1]': 'គាត់', 'kcc[-2:0]': 'គាត់ឡើ', 'kcc[-3]': 'ឲ្យ', 'kcc[-3]t': 'K3', 'kcc[-3:0]': 'ឲ្យគាត់ឡើ', 'kcc[-3:-1]': 'ឲ្យគាត់', 'kcc[-3:-2]': 'ឲ្យគា', 'kcc[+1]': 'ង', 'kcc[+1]t': 'C', 'kcc[+1:0]': 'ឡើង', 'ns+1': False, 'kcc[+2]': 'ជិ', 'kcc[+2]t': 'K2', 'kcc[+1:+2]': 'ងជិ', 'kcc[0:+2]': 'ឡើងជិ', 'ns+2': False, 'kcc[+3]': 'ត', 'kcc[+3]t': 'C', 'kcc[+2:+3]': 'ជិត', 'kcc[+1:+3]': 'ងជិត', 'kcc[0:+3]': 'ឡើងជិត'}, {'kcc': 'ង', 't': 'C', 'ns': False, 'kcc[-1]': 'ឡើ', 'kcc[-1]t': 'K2', 'kcc[-1:0]': 'ឡើង', 'ns-1': False, 'kcc[-2]': 'ត់', 'kcc[-2]t': 'K2', 'kcc[-2:-1]': 'ត់ឡើ', 'kcc[-2:0]': 'ត់ឡើង', 'kcc[-3]': 'គា', 'kcc[-3]t': 'K2', 'kcc[-3:0]': 'គាត់ឡើង', 'kcc[-3:-1]': 'គាត់ឡើ', 'kcc[-3:-2]': 'គាត់', 'kcc[+1]': 'ជិ', 'kcc[+1]t': 'K2', 'kcc[+1:0]': 'ងជិ', 'ns+1': False, 'kcc[+2]': 'ត', 'kcc[+2]t': 'C', 'kcc[+1:+2]': 'ជិត', 'kcc[0:+2]': 'ងជិត', 'ns+2': False, 'kcc[+3]': 'ដ', 'kcc[+3]t': 'C', 'kcc[+2:+3]': 'តដ', 'kcc[+1:+3]': 'ជិតដ', 'kcc[0:+3]': 'ងជិតដ'}, {'kcc': 'ជិ', 't': 'K2', 'ns': False, 'kcc[-1]': 'ង', 'kcc[-1]t': 'C', 'kcc[-1:0]': 'ងជិ', 'ns-1': False, 'kcc[-2]': 'ឡើ', 'kcc[-2]t': 'K2', 'kcc[-2:-1]': 'ឡើង', 'kcc[-2:0]': 'ឡើងជិ', 'kcc[-3]': 'ត់', 'kcc[-3]t': 'K2', 'kcc[-3:0]': 'ត់ឡើងជិ', 'kcc[-3:-1]': 'ត់ឡើង', 'kcc[-3:-2]': 'ត់ឡើ', 'kcc[+1]': 'ត', 'kcc[+1]t': 'C', 'kcc[+1:0]': 'ជិត', 'ns+1': False, 'kcc[+2]': 'ដ', 'kcc[+2]t': 'C', 'kcc[+1:+2]': 'តដ', 'kcc[0:+2]': 'ជិតដ', 'ns+2': False, 'kcc[+3]': 'ល់', 'kcc[+3]t': 'K2', 'kcc[+2:+3]': 'ដល់', 'kcc[+1:+3]': 'តដល់', 'kcc[0:+3]': 'ជិតដល់'}, {'kcc': 'ត', 't': 'C', 'ns': False, 'kcc[-1]': 'ជិ', 'kcc[-1]t': 'K2', 'kcc[-1:0]': 'ជិត', 'ns-1': False, 'kcc[-2]': 'ង', 'kcc[-2]t': 'C', 'kcc[-2:-1]': 'ងជិ', 'kcc[-2:0]': 'ងជិត', 'kcc[-3]': 'ឡើ', 'kcc[-3]t': 'K2', 'kcc[-3:0]': 'ឡើងជិត', 'kcc[-3:-1]': 'ឡើងជិ', 'kcc[-3:-2]': 'ឡើង', 'kcc[+1]': 'ដ', 'kcc[+1]t': 'C', 'kcc[+1:0]': 'តដ', 'ns+1': False, 'kcc[+2]': 'ល់', 'kcc[+2]t': 'K2', 'kcc[+1:+2]': 'ដល់', 'kcc[0:+2]': 'តដល់', 'ns+2': False, 'kcc[+3]': 'ខេ', 'kcc[+3]t': 'K2', 'kcc[+2:+3]': 'ល់ខេ', 'kcc[+1:+3]': 'ដល់ខេ', 'kcc[0:+3]': 'តដល់ខេ'}, {'kcc': 'ដ', 't': 'C', 'ns': False, 'kcc[-1]': 'ត', 'kcc[-1]t': 'C', 'kcc[-1:0]': 'តដ', 'ns-1': False, 'kcc[-2]': 'ជិ', 'kcc[-2]t': 'K2', 'kcc[-2:-1]': 'ជិត', 'kcc[-2:0]': 'ជិតដ', 'kcc[-3]': 'ង', 'kcc[-3]t': 'C', 'kcc[-3:0]': 'ងជិតដ', 'kcc[-3:-1]': 'ងជិត', 'kcc[-3:-2]': 'ងជិ', 'kcc[+1]': 'ល់', 'kcc[+1]t': 'K2', 'kcc[+1:0]': 'ដល់', 'ns+1': False, 'kcc[+2]': 'ខេ', 'kcc[+2]t': 'K2', 'kcc[+1:+2]': 'ល់ខេ', 'kcc[0:+2]': 'ដល់ខេ', 'ns+2': False, 'kcc[+3]': 'វិ', 'kcc[+3]t': 'K2', 'kcc[+2:+3]': 'ខេវិ', 'kcc[+1:+3]': 'ល់ខេវិ', 'kcc[0:+3]': 'ដល់ខេវិ'}, {'kcc': 'ល់', 't': 'K2', 'ns': False, 'kcc[-1]': 'ដ', 'kcc[-1]t': 'C', 'kcc[-1:0]': 'ដល់', 'ns-1': False, 'kcc[-2]': 'ត', 'kcc[-2]t': 'C', 'kcc[-2:-1]': 'តដ', 'kcc[-2:0]': 'តដល់', 'kcc[-3]': 'ជិ', 'kcc[-3]t': 'K2', 'kcc[-3:0]': 'ជិតដល់', 'kcc[-3:-1]': 'ជិតដ', 'kcc[-3:-2]': 'ជិត', 'kcc[+1]': 'ខេ', 'kcc[+1]t': 'K2', 'kcc[+1:0]': 'ល់ខេ', 'ns+1': False, 'kcc[+2]': 'វិ', 'kcc[+2]t': 'K2', 'kcc[+1:+2]': 'ខេវិ', 'kcc[0:+2]': 'ល់ខេវិ', 'ns+2': False, 'kcc[+3]': 'ន', 'kcc[+3]t': 'C', 'kcc[+2:+3]': 'វិន', 'kcc[+1:+3]': 'ខេវិន', 'kcc[0:+3]': 'ល់ខេវិន'}, {'kcc': 'ខេ', 't': 'K2', 'ns': False, 'kcc[-1]': 'ល់', 'kcc[-1]t': 'K2', 'kcc[-1:0]': 'ល់ខេ', 'ns-1': False, 'kcc[-2]': 'ដ', 'kcc[-2]t': 'C', 'kcc[-2:-1]': 'ដល់', 'kcc[-2:0]': 'ដល់ខេ', 'kcc[-3]': 'ត', 'kcc[-3]t': 'C', 'kcc[-3:0]': 'តដល់ខេ', 'kcc[-3:-1]': 'តដល់', 'kcc[-3:-2]': 'តដ', 'kcc[+1]': 'វិ', 'kcc[+1]t': 'K2', 'kcc[+1:0]': 'ខេវិ', 'ns+1': False, 'kcc[+2]': 'ន', 'kcc[+2]t': 'C', 'kcc[+1:+2]': 'វិន', 'kcc[0:+2]': 'ខេវិន', 'ns+2': False, 'kcc[+3]': 'ហា', 'kcc[+3]t': 'K2', 'kcc[+2:+3]': 'នហា', 'kcc[+1:+3]': 'វិនហា', 'kcc[0:+3]': 'ខេវិនហា'}, {'kcc': 'វិ', 't': 'K2', 'ns': False, 'kcc[-1]': 'ខេ', 'kcc[-1]t': 'K2', 'kcc[-1:0]': 'ខេវិ', 'ns-1': False, 'kcc[-2]': 'ល់', 'kcc[-2]t': 'K2', 'kcc[-2:-1]': 'ល់ខេ', 'kcc[-2:0]': 'ល់ខេវិ', 'kcc[-3]': 'ដ', 'kcc[-3]t': 'C', 'kcc[-3:0]': 'ដល់ខេវិ', 'kcc[-3:-1]': 'ដល់ខេ', 'kcc[-3:-2]': 'ដល់', 'kcc[+1]': 'ន', 'kcc[+1]t': 'C', 'kcc[+1:0]': 'វិន', 'ns+1': False, 'kcc[+2]': 'ហា', 'kcc[+2]t': 'K2', 'kcc[+1:+2]': 'នហា', 'kcc[0:+2]': 'វិនហា', 'ns+2': False, 'kcc[+3]': 'វិ', 'kcc[+3]t': 'K2', 'kcc[+2:+3]': 'ហាវិ', 'kcc[+1:+3]': 'នហាវិ', 'kcc[0:+3]': 'វិនហាវិ'}, {'kcc': 'ន', 't': 'C', 'ns': False, 'kcc[-1]': 'វិ', 'kcc[-1]t': 'K2', 'kcc[-1:0]': 'វិន', 'ns-1': False, 'kcc[-2]': 'ខេ', 'kcc[-2]t': 'K2', 'kcc[-2:-1]': 'ខេវិ', 'kcc[-2:0]': 'ខេវិន', 'kcc[-3]': 'ល់', 'kcc[-3]t': 'K2', 'kcc[-3:0]': 'ល់ខេវិន', 'kcc[-3:-1]': 'ល់ខេវិ', 'kcc[-3:-2]': 'ល់ខេ', 'kcc[+1]': 'ហា', 'kcc[+1]t': 'K2', 'kcc[+1:0]': 'នហា', 'ns+1': False, 'kcc[+2]': 'វិ', 'kcc[+2]t': 'K2', 'kcc[+1:+2]': 'ហាវិ', 'kcc[0:+2]': 'នហាវិ', 'ns+2': False, 'kcc[+3]': 'ក', 'kcc[+3]t': 'C', 'kcc[+2:+3]': 'វិក', 'kcc[+1:+3]': 'ហាវិក', 'kcc[0:+3]': 'នហាវិក'}, {'kcc': 'ហា', 't': 'K2', 'ns': False, 'kcc[-1]': 'ន', 'kcc[-1]t': 'C', 'kcc[-1:0]': 'នហា', 'ns-1': False, 'kcc[-2]': 'វិ', 'kcc[-2]t': 'K2', 'kcc[-2:-1]': 'វិន', 'kcc[-2:0]': 'វិនហា', 'kcc[-3]': 'ខេ', 'kcc[-3]t': 'K2', 'kcc[-3:0]': 'ខេវិនហា', 'kcc[-3:-1]': 'ខេវិន', 'kcc[-3:-2]': 'ខេវិ', 'kcc[+1]': 'វិ', 'kcc[+1]t': 'K2', 'kcc[+1:0]': 'ហាវិ', 'ns+1': False, 'kcc[+2]': 'ក', 'kcc[+2]t': 'C', 'kcc[+1:+2]': 'វិក', 'kcc[0:+2]': 'ហាវិក', 'ns+2': False, 'kcc[+3]': 'អ្ន', 'kcc[+3]t': 'K3', 'kcc[+2:+3]': 'កអ្ន', 'kcc[+1:+3]': 'វិកអ្ន', 'kcc[0:+3]': 'ហាវិកអ្ន'}, {'kcc': 'វិ', 't': 'K2', 'ns': False, 'kcc[-1]': 'ហា', 'kcc[-1]t': 'K2', 'kcc[-1:0]': 'ហាវិ', 'ns-1': False, 'kcc[-2]': 'ន', 'kcc[-2]t': 'C', 'kcc[-2:-1]': 'នហា', 'kcc[-2:0]': 'នហាវិ', 'kcc[-3]': 'វិ', 'kcc[-3]t': 'K2', 'kcc[-3:0]': 'វិនហាវិ', 'kcc[-3:-1]': 'វិនហា', 'kcc[-3:-2]': 'វិន', 'kcc[+1]': 'ក', 'kcc[+1]t': 'C', 'kcc[+1:0]': 'វិក', 'ns+1': False, 'kcc[+2]': 'អ្ន', 'kcc[+2]t': 'K3', 'kcc[+1:+2]': 'កអ្ន', 'kcc[0:+2]': 'វិកអ្ន', 'ns+2': False, 'kcc[+3]': 'ក', 'kcc[+3]t': 'C', 'kcc[+2:+3]': 'អ្នក', 'kcc[+1:+3]': 'កអ្នក', 'kcc[0:+3]': 'វិកអ្នក'}, {'kcc': 'ក', 't': 'C', 'ns': False, 'kcc[-1]': 'វិ', 'kcc[-1]t': 'K2', 'kcc[-1:0]': 'វិក', 'ns-1': False, 'kcc[-2]': 'ហា', 'kcc[-2]t': 'K2', 'kcc[-2:-1]': 'ហាវិ', 'kcc[-2:0]': 'ហាវិក', 'kcc[-3]': 'ន', 'kcc[-3]t': 'C', 'kcc[-3:0]': 'នហាវិក', 'kcc[-3:-1]': 'នហាវិ', 'kcc[-3:-2]': 'នហា', 'kcc[+1]': 'អ្ន', 'kcc[+1]t': 'K3', 'kcc[+1:0]': 'កអ្ន', 'ns+1': False, 'kcc[+2]': 'ក', 'kcc[+2]t': 'C', 'kcc[+1:+2]': 'អ្នក', 'kcc[0:+2]': 'កអ្នក', 'ns+2': False, 'kcc[+3]': 'មា', 'kcc[+3]t': 'K2', 'kcc[+2:+3]': 'កមា', 'kcc[+1:+3]': 'អ្នកមា', 'kcc[0:+3]': 'កអ្នកមា'}, {'kcc': 'អ្ន', 't': 'K3', 'ns': False, 'kcc[-1]': 'ក', 'kcc[-1]t': 'C', 'kcc[-1:0]': 'កអ្ន', 'ns-1': False, 'kcc[-2]': 'វិ', 'kcc[-2]t': 'K2', 'kcc[-2:-1]': 'វិក', 'kcc[-2:0]': 'វិកអ្ន', 'kcc[-3]': 'ហា', 'kcc[-3]t': 'K2', 'kcc[-3:0]': 'ហាវិកអ្ន', 'kcc[-3:-1]': 'ហាវិក', 'kcc[-3:-2]': 'ហាវិ', 'kcc[+1]': 'ក', 'kcc[+1]t': 'C', 'kcc[+1:0]': 'អ្នក', 'ns+1': False, 'kcc[+2]': 'មា', 'kcc[+2]t': 'K2', 'kcc[+1:+2]': 'កមា', 'kcc[0:+2]': 'អ្នកមា', 'ns+2': False, 'kcc[+3]': 'ន', 'kcc[+3]t': 'C', 'kcc[+2:+3]': 'មាន', 'kcc[+1:+3]': 'កមាន', 'kcc[0:+3]': 'អ្នកមាន'}, {'kcc': 'ក', 't': 'C', 'ns': False, 'kcc[-1]': 'អ្ន', 'kcc[-1]t': 'K3', 'kcc[-1:0]': 'អ្នក', 'ns-1': False, 'kcc[-2]': 'ក', 'kcc[-2]t': 'C', 'kcc[-2:-1]': 'កអ្ន', 'kcc[-2:0]': 'កអ្នក', 'kcc[-3]': 'វិ', 'kcc[-3]t': 'K2', 'kcc[-3:0]': 'វិកអ្នក', 'kcc[-3:-1]': 'វិកអ្ន', 'kcc[-3:-2]': 'វិក', 'kcc[+1]': 'មា', 'kcc[+1]t': 'K2', 'kcc[+1:0]': 'កមា', 'ns+1': False, 'kcc[+2]': 'ន', 'kcc[+2]t': 'C', 'kcc[+1:+2]': 'មាន', 'kcc[0:+2]': 'កមាន', 'ns+2': False, 'kcc[+3]': 'ពិ', 'kcc[+3]t': 'K2', 'kcc[+2:+3]': 'នពិ', 'kcc[+1:+3]': 'មានពិ', 'kcc[0:+3]': 'កមានពិ'}, {'kcc': 'មា', 't': 'K2', 'ns': False, 'kcc[-1]': 'ក', 'kcc[-1]t': 'C', 'kcc[-1:0]': 'កមា', 'ns-1': False, 'kcc[-2]': 'អ្ន', 'kcc[-2]t': 'K3', 'kcc[-2:-1]': 'អ្នក', 'kcc[-2:0]': 'អ្នកមា', 'kcc[-3]': 'ក', 'kcc[-3]t': 'C', 'kcc[-3:0]': 'កអ្នកមា', 'kcc[-3:-1]': 'កអ្នក', 'kcc[-3:-2]': 'កអ្ន', 'kcc[+1]': 'ន', 'kcc[+1]t': 'C', 'kcc[+1:0]': 'មាន', 'ns+1': False, 'kcc[+2]': 'ពិ', 'kcc[+2]t': 'K2', 'kcc[+1:+2]': 'នពិ', 'kcc[0:+2]': 'មានពិ', 'ns+2': False, 'kcc[+3]': 'ន្ទុ', 'kcc[+3]t': 'K4', 'kcc[+2:+3]': 'ពិន្ទុ', 'kcc[+1:+3]': 'នពិន្ទុ', 'kcc[0:+3]': 'មានពិន្ទុ'}, {'kcc': 'ន', 't': 'C', 'ns': False, 'kcc[-1]': 'មា', 'kcc[-1]t': 'K2', 'kcc[-1:0]': 'មាន', 'ns-1': False, 'kcc[-2]': 'ក', 'kcc[-2]t': 'C', 'kcc[-2:-1]': 'កមា', 'kcc[-2:0]': 'កមាន', 'kcc[-3]': 'អ្ន', 'kcc[-3]t': 'K3', 'kcc[-3:0]': 'អ្នកមាន', 'kcc[-3:-1]': 'អ្នកមា', 'kcc[-3:-2]': 'អ្នក', 'kcc[+1]': 'ពិ', 'kcc[+1]t': 'K2', 'kcc[+1:0]': 'នពិ', 'ns+1': False, 'kcc[+2]': 'ន្ទុ', 'kcc[+2]t': 'K4', 'kcc[+1:+2]': 'ពិន្ទុ', 'kcc[0:+2]': 'នពិន្ទុ', 'ns+2': False, 'kcc[+3]': 'នាំ', 'kcc[+3]t': 'K3', 'kcc[+2:+3]': 'ន្ទុនាំ', 'kcc[+1:+3]': 'ពិន្ទុនាំ', 'kcc[0:+3]': 'នពិន្ទុនាំ'}, {'kcc': 'ពិ', 't': 'K2', 'ns': False, 'kcc[-1]': 'ន', 'kcc[-1]t': 'C', 'kcc[-1:0]': 'នពិ', 'ns-1': False, 'kcc[-2]': 'មា', 'kcc[-2]t': 'K2', 'kcc[-2:-1]': 'មាន', 'kcc[-2:0]': 'មានពិ', 'kcc[-3]': 'ក', 'kcc[-3]t': 'C', 'kcc[-3:0]': 'កមានពិ', 'kcc[-3:-1]': 'កមាន', 'kcc[-3:-2]': 'កមា', 'kcc[+1]': 'ន្ទុ', 'kcc[+1]t': 'K4', 'kcc[+1:0]': 'ពិន្ទុ', 'ns+1': False, 'kcc[+2]': 'នាំ', 'kcc[+2]t': 'K3', 'kcc[+1:+2]': 'ន្ទុនាំ', 'kcc[0:+2]': 'ពិន្ទុនាំ', 'ns+2': False, 'kcc[+3]': 'មុ', 'kcc[+3]t': 'K2', 'kcc[+2:+3]': 'នាំមុ', 'kcc[+1:+3]': 'ន្ទុនាំមុ', 'kcc[0:+3]': 'ពិន្ទុនាំមុ'}, {'kcc': 'ន្ទុ', 't': 'K4', 'ns': False, 'kcc[-1]': 'ពិ', 'kcc[-1]t': 'K2', 'kcc[-1:0]': 'ពិន្ទុ', 'ns-1': False, 'kcc[-2]': 'ន', 'kcc[-2]t': 'C', 'kcc[-2:-1]': 'នពិ', 'kcc[-2:0]': 'នពិន្ទុ', 'kcc[-3]': 'មា', 'kcc[-3]t': 'K2', 'kcc[-3:0]': 'មានពិន្ទុ', 'kcc[-3:-1]': 'មានពិ', 'kcc[-3:-2]': 'មាន', 'kcc[+1]': 'នាំ', 'kcc[+1]t': 'K3', 'kcc[+1:0]': 'ន្ទុនាំ', 'ns+1': False, 'kcc[+2]': 'មុ', 'kcc[+2]t': 'K2', 'kcc[+1:+2]': 'នាំមុ', 'kcc[0:+2]': 'ន្ទុនាំមុ', 'ns+2': False, 'kcc[+3]': 'ខ', 'kcc[+3]t': 'C', 'kcc[+2:+3]': 'មុខ', 'kcc[+1:+3]': 'នាំមុខ', 'kcc[0:+3]': 'ន្ទុនាំមុខ'}, {'kcc': 'នាំ', 't': 'K3', 'ns': False, 'kcc[-1]': 'ន្ទុ', 'kcc[-1]t': 'K4', 'kcc[-1:0]': 'ន្ទុនាំ', 'ns-1': False, 'kcc[-2]': 'ពិ', 'kcc[-2]t': 'K2', 'kcc[-2:-1]': 'ពិន្ទុ', 'kcc[-2:0]': 'ពិន្ទុនាំ', 'kcc[-3]': 'ន', 'kcc[-3]t': 'C', 'kcc[-3:0]': 'នពិន្ទុនាំ', 'kcc[-3:-1]': 'នពិន្ទុ', 'kcc[-3:-2]': 'នពិ', 'kcc[+1]': 'មុ', 'kcc[+1]t': 'K2', 'kcc[+1:0]': 'នាំមុ', 'ns+1': False, 'kcc[+2]': 'ខ', 'kcc[+2]t': 'C', 'kcc[+1:+2]': 'មុខ', 'kcc[0:+2]': 'នាំមុខ', 'ns+2': False, 'kcc[+3]': 'គេ', 'kcc[+3]t': 'K2', 'kcc[+2:+3]': 'ខគេ', 'kcc[+1:+3]': 'មុខគេ', 'kcc[0:+3]': 'នាំមុខគេ'}, {'kcc': 'មុ', 't': 'K2', 'ns': False, 'kcc[-1]': 'នាំ', 'kcc[-1]t': 'K3', 'kcc[-1:0]': 'នាំមុ', 'ns-1': False, 'kcc[-2]': 'ន្ទុ', 'kcc[-2]t': 'K4', 'kcc[-2:-1]': 'ន្ទុនាំ', 'kcc[-2:0]': 'ន្ទុនាំមុ', 'kcc[-3]': 'ពិ', 'kcc[-3]t': 'K2', 'kcc[-3:0]': 'ពិន្ទុនាំមុ', 'kcc[-3:-1]': 'ពិន្ទុនាំ', 'kcc[-3:-2]': 'ពិន្ទុ', 'kcc[+1]': 'ខ', 'kcc[+1]t': 'C', 'kcc[+1:0]': 'មុខ', 'ns+1': False, 'kcc[+2]': 'គេ', 'kcc[+2]t': 'K2', 'kcc[+1:+2]': 'ខគេ', 'kcc[0:+2]': 'មុខគេ', 'ns+2': False, 'kcc[+3]': 'ប៉ុ', 'kcc[+3]t': 'K3', 'kcc[+2:+3]': 'គេប៉ុ', 'kcc[+1:+3]': 'ខគេប៉ុ', 'kcc[0:+3]': 'មុខគេប៉ុ'}, {'kcc': 'ខ', 't': 'C', 'ns': False, 'kcc[-1]': 'មុ', 'kcc[-1]t': 'K2', 'kcc[-1:0]': 'មុខ', 'ns-1': False, 'kcc[-2]': 'នាំ', 'kcc[-2]t': 'K3', 'kcc[-2:-1]': 'នាំមុ', 'kcc[-2:0]': 'នាំមុខ', 'kcc[-3]': 'ន្ទុ', 'kcc[-3]t': 'K4', 'kcc[-3:0]': 'ន្ទុនាំមុខ', 'kcc[-3:-1]': 'ន្ទុនាំមុ', 'kcc[-3:-2]': 'ន្ទុនាំ', 'kcc[+1]': 'គេ', 'kcc[+1]t': 'K2', 'kcc[+1:0]': 'ខគេ', 'ns+1': False, 'kcc[+2]': 'ប៉ុ', 'kcc[+2]t': 'K3', 'kcc[+1:+2]': 'គេប៉ុ', 'kcc[0:+2]': 'ខគេប៉ុ', 'ns+2': False, 'kcc[+3]': 'ន្តែ', 'kcc[+3]t': 'K4', 'kcc[+2:+3]': 'ប៉ុន្តែ', 'kcc[+1:+3]': 'គេប៉ុន្តែ', 'kcc[0:+3]': 'ខគេប៉ុន្តែ'}, {'kcc': 'គេ', 't': 'K2', 'ns': False, 'kcc[-1]': 'ខ', 'kcc[-1]t': 'C', 'kcc[-1:0]': 'ខគេ', 'ns-1': False, 'kcc[-2]': 'មុ', 'kcc[-2]t': 'K2', 'kcc[-2:-1]': 'មុខ', 'kcc[-2:0]': 'មុខគេ', 'kcc[-3]': 'នាំ', 'kcc[-3]t': 'K3', 'kcc[-3:0]': 'នាំមុខគេ', 'kcc[-3:-1]': 'នាំមុខ', 'kcc[-3:-2]': 'នាំមុ', 'kcc[+1]': 'ប៉ុ', 'kcc[+1]t': 'K3', 'kcc[+1:0]': 'គេប៉ុ', 'ns+1': False, 'kcc[+2]': 'ន្តែ', 'kcc[+2]t': 'K4', 'kcc[+1:+2]': 'ប៉ុន្តែ', 'kcc[0:+2]': 'គេប៉ុន្តែ', 'ns+2': False, 'kcc[+3]': 'គា', 'kcc[+3]t': 'K2', 'kcc[+2:+3]': 'ន្តែគា', 'kcc[+1:+3]': 'ប៉ុន្តែគា', 'kcc[0:+3]': 'គេប៉ុន្តែគា'}, {'kcc': 'ប៉ុ', 't': 'K3', 'ns': False, 'kcc[-1]': 'គេ', 'kcc[-1]t': 'K2', 'kcc[-1:0]': 'គេប៉ុ', 'ns-1': False, 'kcc[-2]': 'ខ', 'kcc[-2]t': 'C', 'kcc[-2:-1]': 'ខគេ', 'kcc[-2:0]': 'ខគេប៉ុ', 'kcc[-3]': 'មុ', 'kcc[-3]t': 'K2', 'kcc[-3:0]': 'មុខគេប៉ុ', 'kcc[-3:-1]': 'មុខគេ', 'kcc[-3:-2]': 'មុខ', 'kcc[+1]': 'ន្តែ', 'kcc[+1]t': 'K4', 'kcc[+1:0]': 'ប៉ុន្តែ', 'ns+1': False, 'kcc[+2]': 'គា', 'kcc[+2]t': 'K2', 'kcc[+1:+2]': 'ន្តែគា', 'kcc[0:+2]': 'ប៉ុន្តែគា', 'ns+2': False, 'kcc[+3]': 'ត់', 'kcc[+3]t': 'K2', 'kcc[+2:+3]': 'គាត់', 'kcc[+1:+3]': 'ន្តែគាត់', 'kcc[0:+3]': 'ប៉ុន្តែគាត់'}, {'kcc': 'ន្តែ', 't': 'K4', 'ns': False, 'kcc[-1]': 'ប៉ុ', 'kcc[-1]t': 'K3', 'kcc[-1:0]': 'ប៉ុន្តែ', 'ns-1': False, 'kcc[-2]': 'គេ', 'kcc[-2]t': 'K2', 'kcc[-2:-1]': 'គេប៉ុ', 'kcc[-2:0]': 'គេប៉ុន្តែ', 'kcc[-3]': 'ខ', 'kcc[-3]t': 'C', 'kcc[-3:0]': 'ខគេប៉ុន្តែ', 'kcc[-3:-1]': 'ខគេប៉ុ', 'kcc[-3:-2]': 'ខគេ', 'kcc[+1]': 'គា', 'kcc[+1]t': 'K2', 'kcc[+1:0]': 'ន្តែគា', 'ns+1': False, 'kcc[+2]': 'ត់', 'kcc[+2]t': 'K2', 'kcc[+1:+2]': 'គាត់', 'kcc[0:+2]': 'ន្តែគាត់', 'ns+2': False, 'kcc[+3]': 'នៅ', 'kcc[+3]t': 'K2', 'kcc[+2:+3]': 'ត់នៅ', 'kcc[+1:+3]': 'គាត់នៅ', 'kcc[0:+3]': 'ន្តែគាត់នៅ'}, {'kcc': 'គា', 't': 'K2', 'ns': False, 'kcc[-1]': 'ន្តែ', 'kcc[-1]t': 'K4', 'kcc[-1:0]': 'ន្តែគា', 'ns-1': False, 'kcc[-2]': 'ប៉ុ', 'kcc[-2]t': 'K3', 'kcc[-2:-1]': 'ប៉ុន្តែ', 'kcc[-2:0]': 'ប៉ុន្តែគា', 'kcc[-3]': 'គេ', 'kcc[-3]t': 'K2', 'kcc[-3:0]': 'គេប៉ុន្តែគា', 'kcc[-3:-1]': 'គេប៉ុន្តែ', 'kcc[-3:-2]': 'គេប៉ុ', 'kcc[+1]': 'ត់', 'kcc[+1]t': 'K2', 'kcc[+1:0]': 'គាត់', 'ns+1': False, 'kcc[+2]': 'នៅ', 'kcc[+2]t': 'K2', 'kcc[+1:+2]': 'ត់នៅ', 'kcc[0:+2]': 'គាត់នៅ', 'ns+2': False, 'kcc[+3]': 'ខ្វះ', 'kcc[+3]t': 'K4', 'kcc[+2:+3]': 'នៅខ្វះ', 'kcc[+1:+3]': 'ត់នៅខ្វះ', 'kcc[0:+3]': 'គាត់នៅខ្វះ'}, {'kcc': 'ត់', 't': 'K2', 'ns': False, 'kcc[-1]': 'គា', 'kcc[-1]t': 'K2', 'kcc[-1:0]': 'គាត់', 'ns-1': False, 'kcc[-2]': 'ន្តែ', 'kcc[-2]t': 'K4', 'kcc[-2:-1]': 'ន្តែគា', 'kcc[-2:0]': 'ន្តែគាត់', 'kcc[-3]': 'ប៉ុ', 'kcc[-3]t': 'K3', 'kcc[-3:0]': 'ប៉ុន្តែគាត់', 'kcc[-3:-1]': 'ប៉ុន្តែគា', 'kcc[-3:-2]': 'ប៉ុន្តែ', 'kcc[+1]': 'នៅ', 'kcc[+1]t': 'K2', 'kcc[+1:0]': 'ត់នៅ', 'ns+1': False, 'kcc[+2]': 'ខ្វះ', 'kcc[+2]t': 'K4', 'kcc[+1:+2]': 'នៅខ្វះ', 'kcc[0:+2]': 'ត់នៅខ្វះ', 'ns+2': False, 'kcc[+3]': '105', 'kcc[+3]t': 'K3', 'kcc[+2:+3]': 'ខ្វះ105', 'kcc[+1:+3]': 'នៅខ្វះ105', 'kcc[0:+3]': 'ត់នៅខ្វះ105'}, {'kcc': 'នៅ', 't': 'K2', 'ns': False, 'kcc[-1]': 'ត់', 'kcc[-1]t': 'K2', 'kcc[-1:0]': 'ត់នៅ', 'ns-1': False, 'kcc[-2]': 'គា', 'kcc[-2]t': 'K2', 'kcc[-2:-1]': 'គាត់', 'kcc[-2:0]': 'គាត់នៅ', 'kcc[-3]': 'ន្តែ', 'kcc[-3]t': 'K4', 'kcc[-3:0]': 'ន្តែគាត់នៅ', 'kcc[-3:-1]': 'ន្តែគាត់', 'kcc[-3:-2]': 'ន្តែគា', 'kcc[+1]': 'ខ្វះ', 'kcc[+1]t': 'K4', 'kcc[+1:0]': 'នៅខ្វះ', 'ns+1': False, 'kcc[+2]': '105', 'kcc[+2]t': 'K3', 'kcc[+1:+2]': 'ខ្វះ105', 'kcc[0:+2]': 'នៅខ្វះ105', 'ns+2': True, 'kcc[+3]': 'ពិ', 'kcc[+3]t': 'K2', 'kcc[+2:+3]': '105ពិ', 'kcc[+1:+3]': 'ខ្វះ105ពិ', 'kcc[0:+3]': 'នៅខ្វះ105ពិ'}, {'kcc': 'ខ្វះ', 't': 'K4', 'ns': False, 'kcc[-1]': 'នៅ', 'kcc[-1]t': 'K2', 'kcc[-1:0]': 'នៅខ្វះ', 'ns-1': False, 'kcc[-2]': 'ត់', 'kcc[-2]t': 'K2', 'kcc[-2:-1]': 'ត់នៅ', 'kcc[-2:0]': 'ត់នៅខ្វះ', 'kcc[-3]': 'គា', 'kcc[-3]t': 'K2', 'kcc[-3:0]': 'គាត់នៅខ្វះ', 'kcc[-3:-1]': 'គាត់នៅ', 'kcc[-3:-2]': 'គាត់', 'kcc[+1]': '105', 'kcc[+1]t': 'K3', 'kcc[+1:0]': 'ខ្វះ105', 'ns+1': True, 'kcc[+2]': 'ពិ', 'kcc[+2]t': 'K2', 'kcc[+1:+2]': '105ពិ', 'kcc[0:+2]': 'ខ្វះ105ពិ', 'ns+2': False, 'kcc[+3]': 'ន្ទុ', 'kcc[+3]t': 'K4', 'kcc[+2:+3]': 'ពិន្ទុ', 'kcc[+1:+3]': '105ពិន្ទុ', 'kcc[0:+3]': 'ខ្វះ105ពិន្ទុ'}, {'kcc': '105', 't': 'K3', 'ns': True, 'kcc[-1]': 'ខ្វះ', 'kcc[-1]t': 'K4', 'kcc[-1:0]': 'ខ្វះ105', 'ns-1': False, 'kcc[-2]': 'នៅ', 'kcc[-2]t': 'K2', 'kcc[-2:-1]': 'នៅខ្វះ', 'kcc[-2:0]': 'នៅខ្វះ105', 'kcc[-3]': 'ត់', 'kcc[-3]t': 'K2', 'kcc[-3:0]': 'ត់នៅខ្វះ105', 'kcc[-3:-1]': 'ត់នៅខ្វះ', 'kcc[-3:-2]': 'ត់នៅ', 'kcc[+1]': 'ពិ', 'kcc[+1]t': 'K2', 'kcc[+1:0]': '105ពិ', 'ns+1': False, 'kcc[+2]': 'ន្ទុ', 'kcc[+2]t': 'K4', 'kcc[+1:+2]': 'ពិន្ទុ', 'kcc[0:+2]': '105ពិន្ទុ', 'ns+2': False, 'kcc[+3]': 'ដែ', 'kcc[+3]t': 'K2', 'kcc[+2:+3]': 'ន្ទុដែ', 'kcc[+1:+3]': 'ពិន្ទុដែ', 'kcc[0:+3]': '105ពិន្ទុដែ'}, {'kcc': 'ពិ', 't': 'K2', 'ns': False, 'kcc[-1]': '105', 'kcc[-1]t': 'K3', 'kcc[-1:0]': '105ពិ', 'ns-1': True, 'kcc[-2]': 'ខ្វះ', 'kcc[-2]t': 'K4', 'kcc[-2:-1]': 'ខ្វះ105', 'kcc[-2:0]': 'ខ្វះ105ពិ', 'kcc[-3]': 'នៅ', 'kcc[-3]t': 'K2', 'kcc[-3:0]': 'នៅខ្វះ105ពិ', 'kcc[-3:-1]': 'នៅខ្វះ105', 'kcc[-3:-2]': 'នៅខ្វះ', 'kcc[+1]': 'ន្ទុ', 'kcc[+1]t': 'K4', 'kcc[+1:0]': 'ពិន្ទុ', 'ns+1': False, 'kcc[+2]': 'ដែ', 'kcc[+2]t': 'K2', 'kcc[+1:+2]': 'ន្ទុដែ', 'kcc[0:+2]': 'ពិន្ទុដែ', 'ns+2': False, 'kcc[+3]': 'ល', 'kcc[+3]t': 'C', 'kcc[+2:+3]': 'ដែល', 'kcc[+1:+3]': 'ន្ទុដែល', 'kcc[0:+3]': 'ពិន្ទុដែល'}, {'kcc': 'ន្ទុ', 't': 'K4', 'ns': False, 'kcc[-1]': 'ពិ', 'kcc[-1]t': 'K2', 'kcc[-1:0]': 'ពិន្ទុ', 'ns-1': False, 'kcc[-2]': '105', 'kcc[-2]t': 'K3', 'kcc[-2:-1]': '105ពិ', 'kcc[-2:0]': '105ពិន្ទុ', 'kcc[-3]': 'ខ្វះ', 'kcc[-3]t': 'K4', 'kcc[-3:0]': 'ខ្វះ105ពិន្ទុ', 'kcc[-3:-1]': 'ខ្វះ105ពិ', 'kcc[-3:-2]': 'ខ្វះ105', 'kcc[+1]': 'ដែ', 'kcc[+1]t': 'K2', 'kcc[+1:0]': 'ន្ទុដែ', 'ns+1': False, 'kcc[+2]': 'ល', 'kcc[+2]t': 'C', 'kcc[+1:+2]': 'ដែល', 'kcc[0:+2]': 'ន្ទុដែល', 'ns+2': False, 'kcc[+3]': 'ត្រូ', 'kcc[+3]t': 'K4', 'kcc[+2:+3]': 'លត្រូ', 'kcc[+1:+3]': 'ដែលត្រូ', 'kcc[0:+3]': 'ន្ទុដែលត្រូ'}, {'kcc': 'ដែ', 't': 'K2', 'ns': False, 'kcc[-1]': 'ន្ទុ', 'kcc[-1]t': 'K4', 'kcc[-1:0]': 'ន្ទុដែ', 'ns-1': False, 'kcc[-2]': 'ពិ', 'kcc[-2]t': 'K2', 'kcc[-2:-1]': 'ពិន្ទុ', 'kcc[-2:0]': 'ពិន្ទុដែ', 'kcc[-3]': '105', 'kcc[-3]t': 'K3', 'kcc[-3:0]': '105ពិន្ទុដែ', 'kcc[-3:-1]': '105ពិន្ទុ', 'kcc[-3:-2]': '105ពិ', 'kcc[+1]': 'ល', 'kcc[+1]t': 'C', 'kcc[+1:0]': 'ដែល', 'ns+1': False, 'kcc[+2]': 'ត្រូ', 'kcc[+2]t': 'K4', 'kcc[+1:+2]': 'លត្រូ', 'kcc[0:+2]': 'ដែលត្រូ', 'ns+2': False, 'kcc[+3]': 'វ', 'kcc[+3]t': 'C', 'kcc[+2:+3]': 'ត្រូវ', 'kcc[+1:+3]': 'លត្រូវ', 'kcc[0:+3]': 'ដែលត្រូវ'}, {'kcc': 'ល', 't': 'C', 'ns': False, 'kcc[-1]': 'ដែ', 'kcc[-1]t': 'K2', 'kcc[-1:0]': 'ដែល', 'ns-1': False, 'kcc[-2]': 'ន្ទុ', 'kcc[-2]t': 'K4', 'kcc[-2:-1]': 'ន្ទុដែ', 'kcc[-2:0]': 'ន្ទុដែល', 'kcc[-3]': 'ពិ', 'kcc[-3]t': 'K2', 'kcc[-3:0]': 'ពិន្ទុដែល', 'kcc[-3:-1]': 'ពិន្ទុដែ', 'kcc[-3:-2]': 'ពិន្ទុ', 'kcc[+1]': 'ត្រូ', 'kcc[+1]t': 'K4', 'kcc[+1:0]': 'លត្រូ', 'ns+1': False, 'kcc[+2]': 'វ', 'kcc[+2]t': 'C', 'kcc[+1:+2]': 'ត្រូវ', 'kcc[0:+2]': 'លត្រូវ', 'ns+2': False, 'kcc[+3]': 'ស្ថិ', 'kcc[+3]t': 'K4', 'kcc[+2:+3]': 'វស្ថិ', 'kcc[+1:+3]': 'ត្រូវស្ថិ', 'kcc[0:+3]': 'លត្រូវស្ថិ'}, {'kcc': 'ត្រូ', 't': 'K4', 'ns': False, 'kcc[-1]': 'ល', 'kcc[-1]t': 'C', 'kcc[-1:0]': 'លត្រូ', 'ns-1': False, 'kcc[-2]': 'ដែ', 'kcc[-2]t': 'K2', 'kcc[-2:-1]': 'ដែល', 'kcc[-2:0]': 'ដែលត្រូ', 'kcc[-3]': 'ន្ទុ', 'kcc[-3]t': 'K4', 'kcc[-3:0]': 'ន្ទុដែលត្រូ', 'kcc[-3:-1]': 'ន្ទុដែល', 'kcc[-3:-2]': 'ន្ទុដែ', 'kcc[+1]': 'វ', 'kcc[+1]t': 'C', 'kcc[+1:0]': 'ត្រូវ', 'ns+1': False, 'kcc[+2]': 'ស្ថិ', 'kcc[+2]t': 'K4', 'kcc[+1:+2]': 'វស្ថិ', 'kcc[0:+2]': 'ត្រូវស្ថិ', 'ns+2': False, 'kcc[+3]': 'ត', 'kcc[+3]t': 'C', 'kcc[+2:+3]': 'ស្ថិត', 'kcc[+1:+3]': 'វស្ថិត', 'kcc[0:+3]': 'ត្រូវស្ថិត'}, {'kcc': 'វ', 't': 'C', 'ns': False, 'kcc[-1]': 'ត្រូ', 'kcc[-1]t': 'K4', 'kcc[-1:0]': 'ត្រូវ', 'ns-1': False, 'kcc[-2]': 'ល', 'kcc[-2]t': 'C', 'kcc[-2:-1]': 'លត្រូ', 'kcc[-2:0]': 'លត្រូវ', 'kcc[-3]': 'ដែ', 'kcc[-3]t': 'K2', 'kcc[-3:0]': 'ដែលត្រូវ', 'kcc[-3:-1]': 'ដែលត្រូ', 'kcc[-3:-2]': 'ដែល', 'kcc[+1]': 'ស្ថិ', 'kcc[+1]t': 'K4', 'kcc[+1:0]': 'វស្ថិ', 'ns+1': False, 'kcc[+2]': 'ត', 'kcc[+2]t': 'C', 'kcc[+1:+2]': 'ស្ថិត', 'kcc[0:+2]': 'វស្ថិត', 'ns+2': False, 'kcc[+3]': 'ចំ', 'kcc[+3]t': 'K2', 'kcc[+2:+3]': 'តចំ', 'kcc[+1:+3]': 'ស្ថិតចំ', 'kcc[0:+3]': 'វស្ថិតចំ'}, {'kcc': 'ស្ថិ', 't': 'K4', 'ns': False, 'kcc[-1]': 'វ', 'kcc[-1]t': 'C', 'kcc[-1:0]': 'វស្ថិ', 'ns-1': False, 'kcc[-2]': 'ត្រូ', 'kcc[-2]t': 'K4', 'kcc[-2:-1]': 'ត្រូវ', 'kcc[-2:0]': 'ត្រូវស្ថិ', 'kcc[-3]': 'ល', 'kcc[-3]t': 'C', 'kcc[-3:0]': 'លត្រូវស្ថិ', 'kcc[-3:-1]': 'លត្រូវ', 'kcc[-3:-2]': 'លត្រូ', 'kcc[+1]': 'ត', 'kcc[+1]t': 'C', 'kcc[+1:0]': 'ស្ថិត', 'ns+1': False, 'kcc[+2]': 'ចំ', 'kcc[+2]t': 'K2', 'kcc[+1:+2]': 'តចំ', 'kcc[0:+2]': 'ស្ថិតចំ', 'ns+2': False, 'kcc[+3]': 'ណា', 'kcc[+3]t': 'K2', 'kcc[+2:+3]': 'ចំណា', 'kcc[+1:+3]': 'តចំណា', 'kcc[0:+3]': 'ស្ថិតចំណា'}, {'kcc': 'ត', 't': 'C', 'ns': False, 'kcc[-1]': 'ស្ថិ', 'kcc[-1]t': 'K4', 'kcc[-1:0]': 'ស្ថិត', 'ns-1': False, 'kcc[-2]': 'វ', 'kcc[-2]t': 'C', 'kcc[-2:-1]': 'វស្ថិ', 'kcc[-2:0]': 'វស្ថិត', 'kcc[-3]': 'ត្រូ', 'kcc[-3]t': 'K4', 'kcc[-3:0]': 'ត្រូវស្ថិត', 'kcc[-3:-1]': 'ត្រូវស្ថិ', 'kcc[-3:-2]': 'ត្រូវ', 'kcc[+1]': 'ចំ', 'kcc[+1]t': 'K2', 'kcc[+1:0]': 'តចំ', 'ns+1': False, 'kcc[+2]': 'ណា', 'kcc[+2]t': 'K2', 'kcc[+1:+2]': 'ចំណា', 'kcc[0:+2]': 'តចំណា', 'ns+2': False, 'kcc[+3]': 'ត់', 'kcc[+3]t': 'K2', 'kcc[+2:+3]': 'ណាត់', 'kcc[+1:+3]': 'ចំណាត់', 'kcc[0:+3]': 'តចំណាត់'}, {'kcc': 'ចំ', 't': 'K2', 'ns': False, 'kcc[-1]': 'ត', 'kcc[-1]t': 'C', 'kcc[-1:0]': 'តចំ', 'ns-1': False, 'kcc[-2]': 'ស្ថិ', 'kcc[-2]t': 'K4', 'kcc[-2:-1]': 'ស្ថិត', 'kcc[-2:0]': 'ស្ថិតចំ', 'kcc[-3]': 'វ', 'kcc[-3]t': 'C', 'kcc[-3:0]': 'វស្ថិតចំ', 'kcc[-3:-1]': 'វស្ថិត', 'kcc[-3:-2]': 'វស្ថិ', 'kcc[+1]': 'ណា', 'kcc[+1]t': 'K2', 'kcc[+1:0]': 'ចំណា', 'ns+1': False, 'kcc[+2]': 'ត់', 'kcc[+2]t': 'K2', 'kcc[+1:+2]': 'ណាត់', 'kcc[0:+2]': 'ចំណាត់', 'ns+2': False, 'kcc[+3]': 'ថ្នា', 'kcc[+3]t': 'K4', 'kcc[+2:+3]': 'ត់ថ្នា', 'kcc[+1:+3]': 'ណាត់ថ្នា', 'kcc[0:+3]': 'ចំណាត់ថ្នា'}, {'kcc': 'ណា', 't': 'K2', 'ns': False, 'kcc[-1]': 'ចំ', 'kcc[-1]t': 'K2', 'kcc[-1:0]': 'ចំណា', 'ns-1': False, 'kcc[-2]': 'ត', 'kcc[-2]t': 'C', 'kcc[-2:-1]': 'តចំ', 'kcc[-2:0]': 'តចំណា', 'kcc[-3]': 'ស្ថិ', 'kcc[-3]t': 'K4', 'kcc[-3:0]': 'ស្ថិតចំណា', 'kcc[-3:-1]': 'ស្ថិតចំ', 'kcc[-3:-2]': 'ស្ថិត', 'kcc[+1]': 'ត់', 'kcc[+1]t': 'K2', 'kcc[+1:0]': 'ណាត់', 'ns+1': False, 'kcc[+2]': 'ថ្នា', 'kcc[+2]t': 'K4', 'kcc[+1:+2]': 'ត់ថ្នា', 'kcc[0:+2]': 'ណាត់ថ្នា', 'ns+2': False, 'kcc[+3]': 'ក', 'kcc[+3]t': 'C', 'kcc[+2:+3]': 'ថ្នាក', 'kcc[+1:+3]': 'ត់ថ្នាក', 'kcc[0:+3]': 'ណាត់ថ្នាក'}, {'kcc': 'ត់', 't': 'K2', 'ns': False, 'kcc[-1]': 'ណា', 'kcc[-1]t': 'K2', 'kcc[-1:0]': 'ណាត់', 'ns-1': False, 'kcc[-2]': 'ចំ', 'kcc[-2]t': 'K2', 'kcc[-2:-1]': 'ចំណា', 'kcc[-2:0]': 'ចំណាត់', 'kcc[-3]': 'ត', 'kcc[-3]t': 'C', 'kcc[-3:0]': 'តចំណាត់', 'kcc[-3:-1]': 'តចំណា', 'kcc[-3:-2]': 'តចំ', 'kcc[+1]': 'ថ្នា', 'kcc[+1]t': 'K4', 'kcc[+1:0]': 'ត់ថ្នា', 'ns+1': False, 'kcc[+2]': 'ក', 'kcc[+2]t': 'C', 'kcc[+1:+2]': 'ថ្នាក', 'kcc[0:+2]': 'ត់ថ្នាក', 'ns+2': False, 'kcc[+3]': 'ទី', 'kcc[+3]t': 'K2', 'kcc[+2:+3]': 'កទី', 'kcc[+1:+3]': 'ថ្នាកទី', 'kcc[0:+3]': 'ត់ថ្នាកទី'}, {'kcc': 'ថ្នា', 't': 'K4', 'ns': False, 'kcc[-1]': 'ត់', 'kcc[-1]t': 'K2', 'kcc[-1:0]': 'ត់ថ្នា', 'ns-1': False, 'kcc[-2]': 'ណា', 'kcc[-2]t': 'K2', 'kcc[-2:-1]': 'ណាត់', 'kcc[-2:0]': 'ណាត់ថ្នា', 'kcc[-3]': 'ចំ', 'kcc[-3]t': 'K2', 'kcc[-3:0]': 'ចំណាត់ថ្នា', 'kcc[-3:-1]': 'ចំណាត់', 'kcc[-3:-2]': 'ចំណា', 'kcc[+1]': 'ក', 'kcc[+1]t': 'C', 'kcc[+1:0]': 'ថ្នាក', 'ns+1': False, 'kcc[+2]': 'ទី', 'kcc[+2]t': 'K2', 'kcc[+1:+2]': 'កទី', 'kcc[0:+2]': 'ថ្នាកទី', 'ns+2': False, 'kcc[+3]': 'ពី', 'kcc[+3]t': 'K2', 'kcc[+2:+3]': 'ទីពី', 'kcc[+1:+3]': 'កទីពី', 'kcc[0:+3]': 'ថ្នាកទីពី'}, {'kcc': 'ក', 't': 'C', 'ns': False, 'kcc[-1]': 'ថ្នា', 'kcc[-1]t': 'K4', 'kcc[-1:0]': 'ថ្នាក', 'ns-1': False, 'kcc[-2]': 'ត់', 'kcc[-2]t': 'K2', 'kcc[-2:-1]': 'ត់ថ្នា', 'kcc[-2:0]': 'ត់ថ្នាក', 'kcc[-3]': 'ណា', 'kcc[-3]t': 'K2', 'kcc[-3:0]': 'ណាត់ថ្នាក', 'kcc[-3:-1]': 'ណាត់ថ្នា', 'kcc[-3:-2]': 'ណាត់', 'kcc[+1]': 'ទី', 'kcc[+1]t': 'K2', 'kcc[+1:0]': 'កទី', 'ns+1': False, 'kcc[+2]': 'ពី', 'kcc[+2]t': 'K2', 'kcc[+1:+2]': 'ទីពី', 'kcc[0:+2]': 'កទីពី', 'ns+2': False, 'kcc[+3]': 'រ', 'kcc[+3]t': 'C', 'kcc[+2:+3]': 'ពីរ', 'kcc[+1:+3]': 'ទីពីរ', 'kcc[0:+3]': 'កទីពីរ'}, {'kcc': 'ទី', 't': 'K2', 'ns': False, 'kcc[-1]': 'ក', 'kcc[-1]t': 'C', 'kcc[-1:0]': 'កទី', 'ns-1': False, 'kcc[-2]': 'ថ្នា', 'kcc[-2]t': 'K4', 'kcc[-2:-1]': 'ថ្នាក', 'kcc[-2:0]': 'ថ្នាកទី', 'kcc[-3]': 'ត់', 'kcc[-3]t': 'K2', 'kcc[-3:0]': 'ត់ថ្នាកទី', 'kcc[-3:-1]': 'ត់ថ្នាក', 'kcc[-3:-2]': 'ត់ថ្នា', 'kcc[+1]': 'ពី', 'kcc[+1]t': 'K2', 'kcc[+1:0]': 'ទីពី', 'ns+1': False, 'kcc[+2]': 'រ', 'kcc[+2]t': 'C', 'kcc[+1:+2]': 'ពីរ', 'kcc[0:+2]': 'ទីពីរ', 'ns+2': False, 'kcc[+3]': '។', 'kcc[+3]t': 'NS', 'kcc[+2:+3]': 'រ។', 'kcc[+1:+3]': 'ពីរ។', 'kcc[0:+3]': 'ទីពីរ។'}, {'kcc': 'ពី', 't': 'K2', 'ns': False, 'kcc[-1]': 'ទី', 'kcc[-1]t': 'K2', 'kcc[-1:0]': 'ទីពី', 'ns-1': False, 'kcc[-2]': 'ក', 'kcc[-2]t': 'C', 'kcc[-2:-1]': 'កទី', 'kcc[-2:0]': 'កទីពី', 'kcc[-3]': 'ថ្នា', 'kcc[-3]t': 'K4', 'kcc[-3:0]': 'ថ្នាកទីពី', 'kcc[-3:-1]': 'ថ្នាកទី', 'kcc[-3:-2]': 'ថ្នាក', 'kcc[+1]': 'រ', 'kcc[+1]t': 'C', 'kcc[+1:0]': 'ពីរ', 'ns+1': False, 'kcc[+2]': '។', 'kcc[+2]t': 'NS', 'kcc[+1:+2]': 'រ។', 'kcc[0:+2]': 'ពីរ។', 'ns+2': True}, {'kcc': 'រ', 't': 'C', 'ns': False, 'kcc[-1]': 'ពី', 'kcc[-1]t': 'K2', 'kcc[-1:0]': 'ពីរ', 'ns-1': False, 'kcc[-2]': 'ទី', 'kcc[-2]t': 'K2', 'kcc[-2:-1]': 'ទីពី', 'kcc[-2:0]': 'ទីពីរ', 'kcc[-3]': 'ក', 'kcc[-3]t': 'C', 'kcc[-3:0]': 'កទីពីរ', 'kcc[-3:-1]': 'កទីពី', 'kcc[-3:-2]': 'កទី', 'kcc[+1]': '។', 'kcc[+1]t': 'NS', 'kcc[+1:0]': 'រ។', 'ns+1': True}, {'kcc': '។', 't': 'NS', 'ns': True, 'kcc[-1]': 'រ', 'kcc[-1]t': 'C', 'kcc[-1:0]': 'រ។', 'ns-1': False, 'kcc[-2]': 'ពី', 'kcc[-2]t': 'K2', 'kcc[-2:-1]': 'ពីរ', 'kcc[-2:0]': 'ពីរ។', 'kcc[-3]': 'ទី', 'kcc[-3]t': 'K2', 'kcc[-3:0]': 'ទីពីរ។', 'kcc[-3:-1]': 'ទីពីរ', 'kcc[-3:-2]': 'ទីពី', 'EOS': True}]\n",
            "len y_pred[0] 80 ['1', '0', '1', '1', '1', '1', '0', '1', '0', '1', '0', '0', '1', '0', '1', '1', '0', '1', '1', '0', '1', '0', '1', '1', '0', '1', '1', '0', '0', '1', '1', '1', '1', '0', '1', '0', '1', '0', '1', '0', '1', '0', '0', '1', '0', '0', '1', '0', '1', '0', '1', '0', '1', '1', '0', '1', '1', '0', '1', '0', '1', '1', '1', '1', '0', '1', '0', '1', '0', '1', '0', '1', '0', '0', '0', '0', '1', '1', '0', '1']\n",
            "y_test[0] ['1', '0', '1', '1', '1', '1', '0', '0', '0', '1', '0', '0', '1', '0', '1', '1', '0', '1', '1', '0', '1', '0', '1', '1', '0', '1', '1', '0', '0', '1', '1', '1', '1', '0', '1', '0', '1', '0', '1', '0', '1', '0', '0', '0', '0', '0', '1', '0', '1', '0', '1', '0', '1', '1', '0', '1', '1', '0', '1', '0', '1', '1', '1', '1', '0', '1', '0', '1', '0', '1', '0', '1', '0', '0', '1', '0', '1', '1', '0', '1']\n"
          ],
          "name": "stdout"
        }
      ]
    },
    {
      "cell_type": "code",
      "metadata": {
        "id": "TWj4AEpicWdm",
        "colab": {
          "base_uri": "https://localhost:8080/"
        },
        "outputId": "eff76551-c75f-42de-9a5c-a4a6fbd1f070"
      },
      "source": [
        "# using sklearn\n",
        "# load the model from disk\n",
        "loaded_model = pickle.load(open(filename, 'rb'))\n",
        "y_train_pred_sk = loaded_model.predict(X_train)\n",
        "y_test_pred_sk  = loaded_model.predict(X_test)\n",
        "print(\"test_pred\", len(y_test_pred_sk))\n",
        "print(len(y_test_pred_sk[0]), y_test_pred_sk[0])\n",
        "print(\"test_pred\", len(y_pred))\n",
        "print(len(y_pred[0]), y_pred[0])"
      ],
      "execution_count": 59,
      "outputs": [
        {
          "output_type": "stream",
          "text": [
            "test_pred 200\n",
            "80 ['1', '0', '1', '1', '1', '1', '0', '1', '0', '1', '0', '0', '1', '0', '1', '1', '0', '1', '1', '0', '1', '0', '1', '1', '0', '1', '1', '0', '0', '1', '1', '1', '1', '0', '1', '0', '1', '0', '1', '0', '1', '0', '0', '1', '0', '0', '1', '0', '1', '0', '1', '0', '1', '1', '0', '1', '1', '0', '1', '0', '1', '1', '1', '1', '0', '1', '0', '1', '0', '1', '0', '1', '0', '0', '0', '0', '1', '1', '0', '1']\n",
            "test_pred 200\n",
            "80 ['1', '0', '1', '1', '1', '1', '0', '1', '0', '1', '0', '0', '1', '0', '1', '1', '0', '1', '1', '0', '1', '0', '1', '1', '0', '1', '1', '0', '0', '1', '1', '1', '1', '0', '1', '0', '1', '0', '1', '0', '1', '0', '0', '1', '0', '0', '1', '0', '1', '0', '1', '0', '1', '1', '0', '1', '1', '0', '1', '0', '1', '1', '1', '1', '0', '1', '0', '1', '0', '1', '0', '1', '0', '0', '0', '0', '1', '1', '0', '1']\n"
          ],
          "name": "stdout"
        }
      ]
    },
    {
      "cell_type": "code",
      "metadata": {
        "id": "yl_c6v5zPA-T",
        "colab": {
          "base_uri": "https://localhost:8080/"
        },
        "outputId": "0b402b88-b3b7-44a6-b464-68f0f1177a76"
      },
      "source": [
        "# metric\n",
        "import numpy as np\n",
        "from sklearn.metrics import classification_report\n",
        "\n",
        "print(\"=== Training set performance === \")\n",
        "# flatten the list into a 1-dimensional array\n",
        "truths = np.array([item for l_sen in y_train for item in l_sen])\n",
        "preds  = np.array([item for l_sen in y_train_pred for item in l_sen])\n",
        "preds2  = np.array([item for l_sen in y_train_pred_sk for item in l_sen])\n",
        "\n",
        "print(\" truths:\", len(truths), truths)\n",
        "print(\" preds:\", len(preds), preds)\n",
        "print(\" preds2:\", len(preds2), preds2)\n",
        "\n",
        "# Print out the classification report\n",
        "print(\"- using pycrfsuite\")\n",
        "print(classification_report(truths, preds))\n",
        "print(\"- using sklearn\")\n",
        "print(classification_report(truths, preds2))\n",
        "\n",
        "print(\"=== Test set performance === \")\n",
        "# flatten the list into a 1-dimensional array\n",
        "truths = np.array([item for l_sen in y_test for item in l_sen])\n",
        "preds  = np.array([item for l_sen in y_pred for item in l_sen])\n",
        "preds2 = np.array([item for l_sen in y_test_pred_sk for item in l_sen])\n",
        "\n",
        "print(\" truths:\", len(truths), truths)\n",
        "print(\" preds:\", len(preds), preds)\n",
        "print(\" preds:\", len(preds2), preds2)\n",
        "\n",
        "# Print out the classification report\n",
        "print(\"- using pycrfsuite\")\n",
        "print(classification_report(truths, preds))\n",
        "print(\"- using sklearn\")\n",
        "print(classification_report(truths, preds2))\n"
      ],
      "execution_count": 60,
      "outputs": [
        {
          "output_type": "stream",
          "text": [
            "=== Training set performance === \n",
            " truths: 54479 ['1' '0' '1' ... '0' '0' '1']\n",
            " preds: 54479 ['1' '0' '1' ... '0' '0' '1']\n",
            " preds2: 54479 ['1' '0' '1' ... '0' '0' '1']\n",
            "- using pycrfsuite\n",
            "              precision    recall  f1-score   support\n",
            "\n",
            "           0       1.00      1.00      1.00     27770\n",
            "           1       1.00      1.00      1.00     26709\n",
            "\n",
            "    accuracy                           1.00     54479\n",
            "   macro avg       1.00      1.00      1.00     54479\n",
            "weighted avg       1.00      1.00      1.00     54479\n",
            "\n",
            "- using sklearn\n",
            "              precision    recall  f1-score   support\n",
            "\n",
            "           0       1.00      1.00      1.00     27770\n",
            "           1       1.00      1.00      1.00     26709\n",
            "\n",
            "    accuracy                           1.00     54479\n",
            "   macro avg       1.00      1.00      1.00     54479\n",
            "weighted avg       1.00      1.00      1.00     54479\n",
            "\n",
            "=== Test set performance === \n",
            " truths: 13497 ['1' '0' '1' ... '1' '0' '1']\n",
            " preds: 13497 ['1' '0' '1' ... '1' '0' '1']\n",
            " preds: 13497 ['1' '0' '1' ... '1' '0' '1']\n",
            "- using pycrfsuite\n",
            "              precision    recall  f1-score   support\n",
            "\n",
            "           0       0.99      0.98      0.99      6857\n",
            "           1       0.98      0.99      0.99      6640\n",
            "\n",
            "    accuracy                           0.99     13497\n",
            "   macro avg       0.99      0.99      0.99     13497\n",
            "weighted avg       0.99      0.99      0.99     13497\n",
            "\n",
            "- using sklearn\n",
            "              precision    recall  f1-score   support\n",
            "\n",
            "           0       0.99      0.99      0.99      6857\n",
            "           1       0.98      0.99      0.99      6640\n",
            "\n",
            "    accuracy                           0.99     13497\n",
            "   macro avg       0.99      0.99      0.99     13497\n",
            "weighted avg       0.99      0.99      0.99     13497\n",
            "\n"
          ],
          "name": "stdout"
        }
      ]
    },
    {
      "cell_type": "markdown",
      "metadata": {
        "id": "GcReO0Z0ZFAc"
      },
      "source": [
        "## Analysis"
      ]
    },
    {
      "cell_type": "markdown",
      "metadata": {
        "id": "24LUP-YUimxM"
      },
      "source": [
        "We did some write up analysis on the Blog post that you can see.\n",
        "https://medium.com/@phylypo/segmentation-of-khmer-text-using-conditional-random-fields-3a2d4d73956a"
      ]
    },
    {
      "cell_type": "markdown",
      "metadata": {
        "id": "jslCmrUbDda-"
      },
      "source": [
        "### Test sample data"
      ]
    },
    {
      "cell_type": "code",
      "metadata": {
        "id": "GmMf2MlgKKNi",
        "colab": {
          "base_uri": "https://localhost:8080/"
        },
        "outputId": "57e49a35-768a-4249-f688-1ddc426fb6b3"
      },
      "source": [
        "t = \"ចំណែកជើងទី២២២២ នឹងត្រូវធ្វើឡើងឯប្រទេសកាតា៕\"\n",
        "t_correct = \"ចំណែក ជើង ទី ២២២២ នឹង ត្រូវ ធ្វើឡើង ឯ ប្រទេស កាតា ៕ \"\n",
        "skcc = seg_kcc(t)\n",
        "print(\"len kcc:\", len(skcc), skcc)\n",
        "features = create_kcc_features(skcc)\n",
        "print(\"features:\", features)\n",
        "print(\"\\npredict seg:\", crf.predict([features]))"
      ],
      "execution_count": 61,
      "outputs": [
        {
          "output_type": "stream",
          "text": [
            "len kcc: 21 ['ចំ', 'ណែ', 'ក', 'ជើ', 'ង', 'ទី', '២២២២', 'នឹ', 'ង', 'ត្រូ', 'វ', 'ធ្វើ', 'ឡើ', 'ង', 'ឯ', 'ប្រ', 'ទេ', 'ស', 'កា', 'តា', '៕']\n",
            "features: [{'kcc': 'ចំ', 't': 'K2', 'ns': False, 'BOS': True, 'kcc[+1]': 'ណែ', 'kcc[+1]t': 'K2', 'kcc[+1:0]': 'ចំណែ', 'ns+1': False, 'kcc[+2]': 'ក', 'kcc[+2]t': 'C', 'kcc[+1:+2]': 'ណែក', 'kcc[0:+2]': 'ចំណែក', 'ns+2': False, 'kcc[+3]': 'ជើ', 'kcc[+3]t': 'K2', 'kcc[+2:+3]': 'កជើ', 'kcc[+1:+3]': 'ណែកជើ', 'kcc[0:+3]': 'ចំណែកជើ'}, {'kcc': 'ណែ', 't': 'K2', 'ns': False, 'kcc[-1]': 'ចំ', 'kcc[-1]t': 'K2', 'kcc[-1:0]': 'ចំណែ', 'ns-1': False, 'kcc[+1]': 'ក', 'kcc[+1]t': 'C', 'kcc[+1:0]': 'ណែក', 'ns+1': False, 'kcc[+2]': 'ជើ', 'kcc[+2]t': 'K2', 'kcc[+1:+2]': 'កជើ', 'kcc[0:+2]': 'ណែកជើ', 'ns+2': False, 'kcc[+3]': 'ង', 'kcc[+3]t': 'C', 'kcc[+2:+3]': 'ជើង', 'kcc[+1:+3]': 'កជើង', 'kcc[0:+3]': 'ណែកជើង'}, {'kcc': 'ក', 't': 'C', 'ns': False, 'kcc[-1]': 'ណែ', 'kcc[-1]t': 'K2', 'kcc[-1:0]': 'ណែក', 'ns-1': False, 'kcc[-2]': 'ចំ', 'kcc[-2]t': 'K2', 'kcc[-2:-1]': 'ចំណែ', 'kcc[-2:0]': 'ចំណែក', 'kcc[+1]': 'ជើ', 'kcc[+1]t': 'K2', 'kcc[+1:0]': 'កជើ', 'ns+1': False, 'kcc[+2]': 'ង', 'kcc[+2]t': 'C', 'kcc[+1:+2]': 'ជើង', 'kcc[0:+2]': 'កជើង', 'ns+2': False, 'kcc[+3]': 'ទី', 'kcc[+3]t': 'K2', 'kcc[+2:+3]': 'ងទី', 'kcc[+1:+3]': 'ជើងទី', 'kcc[0:+3]': 'កជើងទី'}, {'kcc': 'ជើ', 't': 'K2', 'ns': False, 'kcc[-1]': 'ក', 'kcc[-1]t': 'C', 'kcc[-1:0]': 'កជើ', 'ns-1': False, 'kcc[-2]': 'ណែ', 'kcc[-2]t': 'K2', 'kcc[-2:-1]': 'ណែក', 'kcc[-2:0]': 'ណែកជើ', 'kcc[-3]': 'ចំ', 'kcc[-3]t': 'K2', 'kcc[-3:0]': 'ចំណែកជើ', 'kcc[-3:-1]': 'ចំណែក', 'kcc[-3:-2]': 'ចំណែ', 'kcc[+1]': 'ង', 'kcc[+1]t': 'C', 'kcc[+1:0]': 'ជើង', 'ns+1': False, 'kcc[+2]': 'ទី', 'kcc[+2]t': 'K2', 'kcc[+1:+2]': 'ងទី', 'kcc[0:+2]': 'ជើងទី', 'ns+2': False, 'kcc[+3]': '២២២២', 'kcc[+3]t': 'K4', 'kcc[+2:+3]': 'ទី២២២២', 'kcc[+1:+3]': 'ងទី២២២២', 'kcc[0:+3]': 'ជើងទី២២២២'}, {'kcc': 'ង', 't': 'C', 'ns': False, 'kcc[-1]': 'ជើ', 'kcc[-1]t': 'K2', 'kcc[-1:0]': 'ជើង', 'ns-1': False, 'kcc[-2]': 'ក', 'kcc[-2]t': 'C', 'kcc[-2:-1]': 'កជើ', 'kcc[-2:0]': 'កជើង', 'kcc[-3]': 'ណែ', 'kcc[-3]t': 'K2', 'kcc[-3:0]': 'ណែកជើង', 'kcc[-3:-1]': 'ណែកជើ', 'kcc[-3:-2]': 'ណែក', 'kcc[+1]': 'ទី', 'kcc[+1]t': 'K2', 'kcc[+1:0]': 'ងទី', 'ns+1': False, 'kcc[+2]': '២២២២', 'kcc[+2]t': 'K4', 'kcc[+1:+2]': 'ទី២២២២', 'kcc[0:+2]': 'ងទី២២២២', 'ns+2': True, 'kcc[+3]': 'នឹ', 'kcc[+3]t': 'K2', 'kcc[+2:+3]': '២២២២នឹ', 'kcc[+1:+3]': 'ទី២២២២នឹ', 'kcc[0:+3]': 'ងទី២២២២នឹ'}, {'kcc': 'ទី', 't': 'K2', 'ns': False, 'kcc[-1]': 'ង', 'kcc[-1]t': 'C', 'kcc[-1:0]': 'ងទី', 'ns-1': False, 'kcc[-2]': 'ជើ', 'kcc[-2]t': 'K2', 'kcc[-2:-1]': 'ជើង', 'kcc[-2:0]': 'ជើងទី', 'kcc[-3]': 'ក', 'kcc[-3]t': 'C', 'kcc[-3:0]': 'កជើងទី', 'kcc[-3:-1]': 'កជើង', 'kcc[-3:-2]': 'កជើ', 'kcc[+1]': '២២២២', 'kcc[+1]t': 'K4', 'kcc[+1:0]': 'ទី២២២២', 'ns+1': True, 'kcc[+2]': 'នឹ', 'kcc[+2]t': 'K2', 'kcc[+1:+2]': '២២២២នឹ', 'kcc[0:+2]': 'ទី២២២២នឹ', 'ns+2': False, 'kcc[+3]': 'ង', 'kcc[+3]t': 'C', 'kcc[+2:+3]': 'នឹង', 'kcc[+1:+3]': '២២២២នឹង', 'kcc[0:+3]': 'ទី២២២២នឹង'}, {'kcc': '២២២២', 't': 'K4', 'ns': True, 'kcc[-1]': 'ទី', 'kcc[-1]t': 'K2', 'kcc[-1:0]': 'ទី២២២២', 'ns-1': False, 'kcc[-2]': 'ង', 'kcc[-2]t': 'C', 'kcc[-2:-1]': 'ងទី', 'kcc[-2:0]': 'ងទី២២២២', 'kcc[-3]': 'ជើ', 'kcc[-3]t': 'K2', 'kcc[-3:0]': 'ជើងទី២២២២', 'kcc[-3:-1]': 'ជើងទី', 'kcc[-3:-2]': 'ជើង', 'kcc[+1]': 'នឹ', 'kcc[+1]t': 'K2', 'kcc[+1:0]': '២២២២នឹ', 'ns+1': False, 'kcc[+2]': 'ង', 'kcc[+2]t': 'C', 'kcc[+1:+2]': 'នឹង', 'kcc[0:+2]': '២២២២នឹង', 'ns+2': False, 'kcc[+3]': 'ត្រូ', 'kcc[+3]t': 'K4', 'kcc[+2:+3]': 'ងត្រូ', 'kcc[+1:+3]': 'នឹងត្រូ', 'kcc[0:+3]': '២២២២នឹងត្រូ'}, {'kcc': 'នឹ', 't': 'K2', 'ns': False, 'kcc[-1]': '២២២២', 'kcc[-1]t': 'K4', 'kcc[-1:0]': '២២២២នឹ', 'ns-1': True, 'kcc[-2]': 'ទី', 'kcc[-2]t': 'K2', 'kcc[-2:-1]': 'ទី២២២២', 'kcc[-2:0]': 'ទី២២២២នឹ', 'kcc[-3]': 'ង', 'kcc[-3]t': 'C', 'kcc[-3:0]': 'ងទី២២២២នឹ', 'kcc[-3:-1]': 'ងទី២២២២', 'kcc[-3:-2]': 'ងទី', 'kcc[+1]': 'ង', 'kcc[+1]t': 'C', 'kcc[+1:0]': 'នឹង', 'ns+1': False, 'kcc[+2]': 'ត្រូ', 'kcc[+2]t': 'K4', 'kcc[+1:+2]': 'ងត្រូ', 'kcc[0:+2]': 'នឹងត្រូ', 'ns+2': False, 'kcc[+3]': 'វ', 'kcc[+3]t': 'C', 'kcc[+2:+3]': 'ត្រូវ', 'kcc[+1:+3]': 'ងត្រូវ', 'kcc[0:+3]': 'នឹងត្រូវ'}, {'kcc': 'ង', 't': 'C', 'ns': False, 'kcc[-1]': 'នឹ', 'kcc[-1]t': 'K2', 'kcc[-1:0]': 'នឹង', 'ns-1': False, 'kcc[-2]': '២២២២', 'kcc[-2]t': 'K4', 'kcc[-2:-1]': '២២២២នឹ', 'kcc[-2:0]': '២២២២នឹង', 'kcc[-3]': 'ទី', 'kcc[-3]t': 'K2', 'kcc[-3:0]': 'ទី២២២២នឹង', 'kcc[-3:-1]': 'ទី២២២២នឹ', 'kcc[-3:-2]': 'ទី២២២២', 'kcc[+1]': 'ត្រូ', 'kcc[+1]t': 'K4', 'kcc[+1:0]': 'ងត្រូ', 'ns+1': False, 'kcc[+2]': 'វ', 'kcc[+2]t': 'C', 'kcc[+1:+2]': 'ត្រូវ', 'kcc[0:+2]': 'ងត្រូវ', 'ns+2': False, 'kcc[+3]': 'ធ្វើ', 'kcc[+3]t': 'K4', 'kcc[+2:+3]': 'វធ្វើ', 'kcc[+1:+3]': 'ត្រូវធ្វើ', 'kcc[0:+3]': 'ងត្រូវធ្វើ'}, {'kcc': 'ត្រូ', 't': 'K4', 'ns': False, 'kcc[-1]': 'ង', 'kcc[-1]t': 'C', 'kcc[-1:0]': 'ងត្រូ', 'ns-1': False, 'kcc[-2]': 'នឹ', 'kcc[-2]t': 'K2', 'kcc[-2:-1]': 'នឹង', 'kcc[-2:0]': 'នឹងត្រូ', 'kcc[-3]': '២២២២', 'kcc[-3]t': 'K4', 'kcc[-3:0]': '២២២២នឹងត្រូ', 'kcc[-3:-1]': '២២២២នឹង', 'kcc[-3:-2]': '២២២២នឹ', 'kcc[+1]': 'វ', 'kcc[+1]t': 'C', 'kcc[+1:0]': 'ត្រូវ', 'ns+1': False, 'kcc[+2]': 'ធ្វើ', 'kcc[+2]t': 'K4', 'kcc[+1:+2]': 'វធ្វើ', 'kcc[0:+2]': 'ត្រូវធ្វើ', 'ns+2': False, 'kcc[+3]': 'ឡើ', 'kcc[+3]t': 'K2', 'kcc[+2:+3]': 'ធ្វើឡើ', 'kcc[+1:+3]': 'វធ្វើឡើ', 'kcc[0:+3]': 'ត្រូវធ្វើឡើ'}, {'kcc': 'វ', 't': 'C', 'ns': False, 'kcc[-1]': 'ត្រូ', 'kcc[-1]t': 'K4', 'kcc[-1:0]': 'ត្រូវ', 'ns-1': False, 'kcc[-2]': 'ង', 'kcc[-2]t': 'C', 'kcc[-2:-1]': 'ងត្រូ', 'kcc[-2:0]': 'ងត្រូវ', 'kcc[-3]': 'នឹ', 'kcc[-3]t': 'K2', 'kcc[-3:0]': 'នឹងត្រូវ', 'kcc[-3:-1]': 'នឹងត្រូ', 'kcc[-3:-2]': 'នឹង', 'kcc[+1]': 'ធ្វើ', 'kcc[+1]t': 'K4', 'kcc[+1:0]': 'វធ្វើ', 'ns+1': False, 'kcc[+2]': 'ឡើ', 'kcc[+2]t': 'K2', 'kcc[+1:+2]': 'ធ្វើឡើ', 'kcc[0:+2]': 'វធ្វើឡើ', 'ns+2': False, 'kcc[+3]': 'ង', 'kcc[+3]t': 'C', 'kcc[+2:+3]': 'ឡើង', 'kcc[+1:+3]': 'ធ្វើឡើង', 'kcc[0:+3]': 'វធ្វើឡើង'}, {'kcc': 'ធ្វើ', 't': 'K4', 'ns': False, 'kcc[-1]': 'វ', 'kcc[-1]t': 'C', 'kcc[-1:0]': 'វធ្វើ', 'ns-1': False, 'kcc[-2]': 'ត្រូ', 'kcc[-2]t': 'K4', 'kcc[-2:-1]': 'ត្រូវ', 'kcc[-2:0]': 'ត្រូវធ្វើ', 'kcc[-3]': 'ង', 'kcc[-3]t': 'C', 'kcc[-3:0]': 'ងត្រូវធ្វើ', 'kcc[-3:-1]': 'ងត្រូវ', 'kcc[-3:-2]': 'ងត្រូ', 'kcc[+1]': 'ឡើ', 'kcc[+1]t': 'K2', 'kcc[+1:0]': 'ធ្វើឡើ', 'ns+1': False, 'kcc[+2]': 'ង', 'kcc[+2]t': 'C', 'kcc[+1:+2]': 'ឡើង', 'kcc[0:+2]': 'ធ្វើឡើង', 'ns+2': False, 'kcc[+3]': 'ឯ', 'kcc[+3]t': 'C', 'kcc[+2:+3]': 'ងឯ', 'kcc[+1:+3]': 'ឡើងឯ', 'kcc[0:+3]': 'ធ្វើឡើងឯ'}, {'kcc': 'ឡើ', 't': 'K2', 'ns': False, 'kcc[-1]': 'ធ្វើ', 'kcc[-1]t': 'K4', 'kcc[-1:0]': 'ធ្វើឡើ', 'ns-1': False, 'kcc[-2]': 'វ', 'kcc[-2]t': 'C', 'kcc[-2:-1]': 'វធ្វើ', 'kcc[-2:0]': 'វធ្វើឡើ', 'kcc[-3]': 'ត្រូ', 'kcc[-3]t': 'K4', 'kcc[-3:0]': 'ត្រូវធ្វើឡើ', 'kcc[-3:-1]': 'ត្រូវធ្វើ', 'kcc[-3:-2]': 'ត្រូវ', 'kcc[+1]': 'ង', 'kcc[+1]t': 'C', 'kcc[+1:0]': 'ឡើង', 'ns+1': False, 'kcc[+2]': 'ឯ', 'kcc[+2]t': 'C', 'kcc[+1:+2]': 'ងឯ', 'kcc[0:+2]': 'ឡើងឯ', 'ns+2': False, 'kcc[+3]': 'ប្រ', 'kcc[+3]t': 'K3', 'kcc[+2:+3]': 'ឯប្រ', 'kcc[+1:+3]': 'ងឯប្រ', 'kcc[0:+3]': 'ឡើងឯប្រ'}, {'kcc': 'ង', 't': 'C', 'ns': False, 'kcc[-1]': 'ឡើ', 'kcc[-1]t': 'K2', 'kcc[-1:0]': 'ឡើង', 'ns-1': False, 'kcc[-2]': 'ធ្វើ', 'kcc[-2]t': 'K4', 'kcc[-2:-1]': 'ធ្វើឡើ', 'kcc[-2:0]': 'ធ្វើឡើង', 'kcc[-3]': 'វ', 'kcc[-3]t': 'C', 'kcc[-3:0]': 'វធ្វើឡើង', 'kcc[-3:-1]': 'វធ្វើឡើ', 'kcc[-3:-2]': 'វធ្វើ', 'kcc[+1]': 'ឯ', 'kcc[+1]t': 'C', 'kcc[+1:0]': 'ងឯ', 'ns+1': False, 'kcc[+2]': 'ប្រ', 'kcc[+2]t': 'K3', 'kcc[+1:+2]': 'ឯប្រ', 'kcc[0:+2]': 'ងឯប្រ', 'ns+2': False, 'kcc[+3]': 'ទេ', 'kcc[+3]t': 'K2', 'kcc[+2:+3]': 'ប្រទេ', 'kcc[+1:+3]': 'ឯប្រទេ', 'kcc[0:+3]': 'ងឯប្រទេ'}, {'kcc': 'ឯ', 't': 'C', 'ns': False, 'kcc[-1]': 'ង', 'kcc[-1]t': 'C', 'kcc[-1:0]': 'ងឯ', 'ns-1': False, 'kcc[-2]': 'ឡើ', 'kcc[-2]t': 'K2', 'kcc[-2:-1]': 'ឡើង', 'kcc[-2:0]': 'ឡើងឯ', 'kcc[-3]': 'ធ្វើ', 'kcc[-3]t': 'K4', 'kcc[-3:0]': 'ធ្វើឡើងឯ', 'kcc[-3:-1]': 'ធ្វើឡើង', 'kcc[-3:-2]': 'ធ្វើឡើ', 'kcc[+1]': 'ប្រ', 'kcc[+1]t': 'K3', 'kcc[+1:0]': 'ឯប្រ', 'ns+1': False, 'kcc[+2]': 'ទេ', 'kcc[+2]t': 'K2', 'kcc[+1:+2]': 'ប្រទេ', 'kcc[0:+2]': 'ឯប្រទេ', 'ns+2': False, 'kcc[+3]': 'ស', 'kcc[+3]t': 'C', 'kcc[+2:+3]': 'ទេស', 'kcc[+1:+3]': 'ប្រទេស', 'kcc[0:+3]': 'ឯប្រទេស'}, {'kcc': 'ប្រ', 't': 'K3', 'ns': False, 'kcc[-1]': 'ឯ', 'kcc[-1]t': 'C', 'kcc[-1:0]': 'ឯប្រ', 'ns-1': False, 'kcc[-2]': 'ង', 'kcc[-2]t': 'C', 'kcc[-2:-1]': 'ងឯ', 'kcc[-2:0]': 'ងឯប្រ', 'kcc[-3]': 'ឡើ', 'kcc[-3]t': 'K2', 'kcc[-3:0]': 'ឡើងឯប្រ', 'kcc[-3:-1]': 'ឡើងឯ', 'kcc[-3:-2]': 'ឡើង', 'kcc[+1]': 'ទេ', 'kcc[+1]t': 'K2', 'kcc[+1:0]': 'ប្រទេ', 'ns+1': False, 'kcc[+2]': 'ស', 'kcc[+2]t': 'C', 'kcc[+1:+2]': 'ទេស', 'kcc[0:+2]': 'ប្រទេស', 'ns+2': False, 'kcc[+3]': 'កា', 'kcc[+3]t': 'K2', 'kcc[+2:+3]': 'សកា', 'kcc[+1:+3]': 'ទេសកា', 'kcc[0:+3]': 'ប្រទេសកា'}, {'kcc': 'ទេ', 't': 'K2', 'ns': False, 'kcc[-1]': 'ប្រ', 'kcc[-1]t': 'K3', 'kcc[-1:0]': 'ប្រទេ', 'ns-1': False, 'kcc[-2]': 'ឯ', 'kcc[-2]t': 'C', 'kcc[-2:-1]': 'ឯប្រ', 'kcc[-2:0]': 'ឯប្រទេ', 'kcc[-3]': 'ង', 'kcc[-3]t': 'C', 'kcc[-3:0]': 'ងឯប្រទេ', 'kcc[-3:-1]': 'ងឯប្រ', 'kcc[-3:-2]': 'ងឯ', 'kcc[+1]': 'ស', 'kcc[+1]t': 'C', 'kcc[+1:0]': 'ទេស', 'ns+1': False, 'kcc[+2]': 'កា', 'kcc[+2]t': 'K2', 'kcc[+1:+2]': 'សកា', 'kcc[0:+2]': 'ទេសកា', 'ns+2': False, 'kcc[+3]': 'តា', 'kcc[+3]t': 'K2', 'kcc[+2:+3]': 'កាតា', 'kcc[+1:+3]': 'សកាតា', 'kcc[0:+3]': 'ទេសកាតា'}, {'kcc': 'ស', 't': 'C', 'ns': False, 'kcc[-1]': 'ទេ', 'kcc[-1]t': 'K2', 'kcc[-1:0]': 'ទេស', 'ns-1': False, 'kcc[-2]': 'ប្រ', 'kcc[-2]t': 'K3', 'kcc[-2:-1]': 'ប្រទេ', 'kcc[-2:0]': 'ប្រទេស', 'kcc[-3]': 'ឯ', 'kcc[-3]t': 'C', 'kcc[-3:0]': 'ឯប្រទេស', 'kcc[-3:-1]': 'ឯប្រទេ', 'kcc[-3:-2]': 'ឯប្រ', 'kcc[+1]': 'កា', 'kcc[+1]t': 'K2', 'kcc[+1:0]': 'សកា', 'ns+1': False, 'kcc[+2]': 'តា', 'kcc[+2]t': 'K2', 'kcc[+1:+2]': 'កាតា', 'kcc[0:+2]': 'សកាតា', 'ns+2': False, 'kcc[+3]': '៕', 'kcc[+3]t': 'NS', 'kcc[+2:+3]': 'តា៕', 'kcc[+1:+3]': 'កាតា៕', 'kcc[0:+3]': 'សកាតា៕'}, {'kcc': 'កា', 't': 'K2', 'ns': False, 'kcc[-1]': 'ស', 'kcc[-1]t': 'C', 'kcc[-1:0]': 'សកា', 'ns-1': False, 'kcc[-2]': 'ទេ', 'kcc[-2]t': 'K2', 'kcc[-2:-1]': 'ទេស', 'kcc[-2:0]': 'ទេសកា', 'kcc[-3]': 'ប្រ', 'kcc[-3]t': 'K3', 'kcc[-3:0]': 'ប្រទេសកា', 'kcc[-3:-1]': 'ប្រទេស', 'kcc[-3:-2]': 'ប្រទេ', 'kcc[+1]': 'តា', 'kcc[+1]t': 'K2', 'kcc[+1:0]': 'កាតា', 'ns+1': False, 'kcc[+2]': '៕', 'kcc[+2]t': 'NS', 'kcc[+1:+2]': 'តា៕', 'kcc[0:+2]': 'កាតា៕', 'ns+2': True}, {'kcc': 'តា', 't': 'K2', 'ns': False, 'kcc[-1]': 'កា', 'kcc[-1]t': 'K2', 'kcc[-1:0]': 'កាតា', 'ns-1': False, 'kcc[-2]': 'ស', 'kcc[-2]t': 'C', 'kcc[-2:-1]': 'សកា', 'kcc[-2:0]': 'សកាតា', 'kcc[-3]': 'ទេ', 'kcc[-3]t': 'K2', 'kcc[-3:0]': 'ទេសកាតា', 'kcc[-3:-1]': 'ទេសកា', 'kcc[-3:-2]': 'ទេស', 'kcc[+1]': '៕', 'kcc[+1]t': 'NS', 'kcc[+1:0]': 'តា៕', 'ns+1': True}, {'kcc': '៕', 't': 'NS', 'ns': True, 'kcc[-1]': 'តា', 'kcc[-1]t': 'K2', 'kcc[-1:0]': 'តា៕', 'ns-1': False, 'kcc[-2]': 'កា', 'kcc[-2]t': 'K2', 'kcc[-2:-1]': 'កាតា', 'kcc[-2:0]': 'កាតា៕', 'kcc[-3]': 'ស', 'kcc[-3]t': 'C', 'kcc[-3:0]': 'សកាតា៕', 'kcc[-3:-1]': 'សកាតា', 'kcc[-3:-2]': 'សកា', 'EOS': True}]\n",
            "\n",
            "predict seg: [['1', '0', '0', '1', '0', '1', '1', '1', '0', '1', '0', '1', '1', '0', '1', '1', '0', '0', '1', '0', '1']]\n"
          ],
          "name": "stdout"
        }
      ]
    },
    {
      "cell_type": "code",
      "metadata": {
        "id": "8Ky7R0dXWGPl",
        "colab": {
          "base_uri": "https://localhost:8080/"
        },
        "outputId": "7f074aed-da6f-45da-b5db-562c69bf127f"
      },
      "source": [
        "# Create KCC using phrase, but pass in the whole sentence to CRF\n",
        "def segment_kcc_phrase(sentence):\n",
        "  complete = \"\"\n",
        "  sentence = sentence.replace(u' ','')\n",
        "  kccs = seg_kcc(sentence)\n",
        "\n",
        "  #TODO should feed the whole sentence, not phrase, kcc already capture english spaces\n",
        "  features = create_kcc_features(kccs)\n",
        "  prediction = crf.predict([features])\n",
        "\n",
        "  for i, p in enumerate(prediction[0]):\n",
        "      if p == \"1\":\n",
        "          complete += \" \" + kccs[i]\n",
        "      else:\n",
        "          complete += kccs[i]\n",
        "  complete = complete.strip().replace(\"  \",\" \")\n",
        "  complete = complete.strip().replace(\"  \",\" \")\n",
        "  return complete\n",
        "  \n",
        "t = \"ចំណែកជើងទី២២២២ នឹងត្រូវធ្វើឡើងឯប្រទេសកាតា៕\"\n",
        "t_correct = \"ចំណែក ជើង ទី ២២២២ នឹង ត្រូវ ធ្វើឡើង ឯ ប្រទេស កាតា ៕ \"\n",
        "skcc = seg_kcc(t)\n",
        "print(\"len kcc:\", len(skcc), skcc)\n",
        "#featrues = create_kcc_features(skcc)\n",
        "print(\" seg:\", segment_kcc_phrase(t))\n",
        "print(\"corr:\", t_correct)\n",
        "t = \"យោងតាមប្រភពព័ត៌មានបានឱ្យដឹងថា កាលពីពេលថ្មីៗនេះក្រុមចក្រភពអង់គ្លេស Royal Marines ដែលមានមូលដ្ឋាននៅ Gibraltar បានរឹបអូសយកនាវាដឹកប្រេងឆៅរបស់អ៊ីរ៉ង់ដែលធ្វើដំណើរទៅកាន់រោងចក្រចម្រាញ់ប្រេងនៅក្នុងប្រទេសស៊ីរី ដោយក្រុងឡុងដ៍អះអាងថា ការរឹបអូសត្រូវបានគេសំដៅអនុវត្ត\"\n",
        "t_correct = \"យោង តាម ប្រភព ព័ត៌មាន បាន ឱ្យដឹង ថា កាលពី ពេល ថ្មី ៗ នេះ ក្រុម ចក្រភព អង់គ្លេស Royal Marines ដែល មាន មូលដ្ឋាន នៅ Gibraltar បាន រឹបអូស យក នាវា ដឹក ប្រេង ឆៅ របស់ អ៊ីរ៉ង់ ដែល ធ្វើដំណើរ ទៅកាន់ រោងចក្រ ចម្រាញ់ ប្រេង នៅ ក្នុង ប្រទេស ស៊ីរី ដោយ ក្រុង ឡុងដ៍ អះអាង ថា ការរឹបអូស ត្រូវបាន គេ សំដៅ អនុវត្ត \"\n",
        "print(\"\\n seg:\", segment_kcc_phrase(t).strip().replace('  ',' '))\n",
        "print(\"corr:\", t_correct)\n",
        "t= 'ថ្ងៃ​ទី០២ ខែមករា ឆ្នាំ​២០១៤ '\n",
        "t_correct = \"ថ្ងៃទី ០២ ខែមករា ឆ្នាំ ២០១៤\"\n",
        "print(\"\\n seg:\", segment_kcc_phrase(t))\n",
        "print(\"corr:\", t_correct)\n",
        "t = \"2019-07-12 03:39:34.540220\"\n",
        "t_correct = \"2019-07-12 03:39:34.540220\"\n",
        "print(\"\\n seg:\", segment_kcc_phrase(t))\n",
        "print(\"corr:\", t_correct)\n",
        "t = 'តើអ្នកប្រាប់ខ្ញុំបានទេថាពេលណាត្រូវចុះពីឡានក្រុង ? '\n",
        "t_correct = 'តើ អ្នក ប្រាប់ ខ្ញុំ បាន ទេ ថា ពេលណា ត្រូវ ចុះ ពី ឡានក្រុង ?'\n",
        "print(\"\\n seg:\", segment_kcc_phrase(t))\n",
        "print(\"corr:\", t_correct)"
      ],
      "execution_count": 62,
      "outputs": [
        {
          "output_type": "stream",
          "text": [
            "len kcc: 21 ['ចំ', 'ណែ', 'ក', 'ជើ', 'ង', 'ទី', '២២២២', 'នឹ', 'ង', 'ត្រូ', 'វ', 'ធ្វើ', 'ឡើ', 'ង', 'ឯ', 'ប្រ', 'ទេ', 'ស', 'កា', 'តា', '៕']\n",
            " seg: ចំណែក ជើង ទី ២២២២ នឹង ត្រូវ ធ្វើ ឡើង ឯ ប្រទេស កាតា ៕\n",
            "corr: ចំណែក ជើង ទី ២២២២ នឹង ត្រូវ ធ្វើឡើង ឯ ប្រទេស កាតា ៕ \n",
            "\n",
            " seg: យោង តាម ប្រភព ព័ត៌មាន បាន ឱ្យ ដឹង ថា កាល ពី ពេល ថ្មី ៗ នេះ ក្រុម ចក្រ ភព អង់គ្លេស RoyalMarines ដែល មាន មូលដ្ឋាន នៅ Gibraltar បាន រឹប អូស យក នាវា ដឹក ប្រេង ឆៅ របស់ អ៊ីរ៉ង់ ដែល ធ្វើ ដំណើរ ទៅ កាន់ រោង ចក្រ ចម្រាញ់ ប្រេង នៅ ក្នុង ប្រទេស ស៊ីរី ដោយ ក្រុង ឡុងដ៍ អះអាង ថា ការ រឹប អូស ត្រូវ បាន គេ សំដៅ អនុវត្ត\n",
            "corr: យោង តាម ប្រភព ព័ត៌មាន បាន ឱ្យដឹង ថា កាលពី ពេល ថ្មី ៗ នេះ ក្រុម ចក្រភព អង់គ្លេស Royal Marines ដែល មាន មូលដ្ឋាន នៅ Gibraltar បាន រឹបអូស យក នាវា ដឹក ប្រេង ឆៅ របស់ អ៊ីរ៉ង់ ដែល ធ្វើដំណើរ ទៅកាន់ រោងចក្រ ចម្រាញ់ ប្រេង នៅ ក្នុង ប្រទេស ស៊ីរី ដោយ ក្រុង ឡុងដ៍ អះអាង ថា ការរឹបអូស ត្រូវបាន គេ សំដៅ អនុវត្ត \n",
            "\n",
            " seg: ថ្ងៃ ​ ទី ០២ ខែ មករា ឆ្នាំ ​ ២០១៤\n",
            "corr: ថ្ងៃទី ០២ ខែមករា ឆ្នាំ ២០១៤\n",
            "\n",
            " seg: 2019-07-1203:39:34. 540220\n",
            "corr: 2019-07-12 03:39:34.540220\n",
            "\n",
            " seg: តើ អ្នក ប្រាប់ ខ្ញុំ បាន ទេ ថា ពេល ណា ត្រូវ ចុះ ពី ឡាន ក្រុង ?\n",
            "corr: តើ អ្នក ប្រាប់ ខ្ញុំ បាន ទេ ថា ពេលណា ត្រូវ ចុះ ពី ឡានក្រុង ?\n"
          ],
          "name": "stdout"
        }
      ]
    },
    {
      "cell_type": "markdown",
      "metadata": {
        "id": "xa4UInoQDjr4"
      },
      "source": [
        "### Searching text and fixing"
      ]
    },
    {
      "cell_type": "code",
      "metadata": {
        "id": "Us5mNkq4Z3Dw",
        "colab": {
          "base_uri": "https://localhost:8080/"
        },
        "outputId": "eac3d8c9-ad33-4756-97ad-e98dc8c3d990"
      },
      "source": [
        "#\" ឡុង \"=2 #\"ឡុងដ៍\" never seen\n",
        "#នៅក្នុង=79, \" ពេលណា\"=0\n",
        "#ធ្វើឡើងឯ\n",
        "found = []\n",
        "#s = \"ខេង\".strip()\n",
        "s = \"អ្នក\".strip()\n",
        "for i, text in enumerate(orig_text): #seg_text\n",
        "    #print(\"Document \" + str(doc_ids[i]) + \" num of sentences: \" + str(len(text)))\n",
        "    for sentence in text:\n",
        "        if s in sentence: found.append(sentence)\n",
        "print(\"total len of found:\", len(found))\n",
        "if (len(found)>0):\n",
        "  print(\"sample sentence #0: %s\" %(repr(found[0])))\n",
        "  for sen in found:\n",
        "    idx = sen.find(s)\n",
        "    sidx = idx - 15 if idx>15 else 0\n",
        "    eidx = idx + 15 if idx+15<len(sen) else len(sen)\n",
        "    print(\"start idx:\", sidx, eidx, \"len:\", len(sen))\n",
        "    print(\"Found s:\", repr(sen[sidx:eidx]))\n",
        "\n",
        "# names to fix\n",
        "t=\"\"\"\n",
        "ឡុង ប៊ុន ហោ\n",
        "ឡុងដ៍\n",
        "នៅក្នុង <= នៅ ក្នុង\n",
        "រោង ចក្រចម្រាញ់ < រោងចក្រ ចម្រាញ់\n",
        "ហុក ឡង ឌី -> ហុក ឡងឌី \n",
        "\"\"\""
      ],
      "execution_count": 64,
      "outputs": [
        {
          "output_type": "stream",
          "text": [
            "total len of found: 249\n",
            "sample sentence #0: 'អ្នកស្រុកបានប្រុងប្រៀបខ្លួនទប់ទល់នឹងសីតុណ្ហភាពដែលក្តៅរហូតដល់បំបែកកំណត់ត្រា។\\n'\n",
            "start idx: 0 15 len: 76\n",
            "Found s: 'អ្នកស្រុកបានប្រ'\n",
            "start idx: 6 36 len: 121\n",
            "Found s: 'ឌេតថីតអ៊ីឌីសិន អ្នកផ្គត់ផ្គង់ថ'\n",
            "start idx: 0 15 len: 172\n",
            "Found s: 'អ្នករាយការណ៍គឺថ'\n",
            "start idx: 0 20 len: 258\n",
            "Found s: 'គ្មានអ្នករាយការណ៍ណាប'\n",
            "start idx: 113 143 len: 219\n",
            "Found s: 'ឆ្នាំមុន ដែលថា អ្នកនាង Miller '\n",
            "start idx: 102 132 len: 173\n",
            "Found s: '្វែងរកកំហុសរបស់អ្នករាយការណ៍ព័ត'\n",
            "start idx: 35 64 len: 64\n",
            "Found s: 'ាប់បែកដៃពីស្ពានអ្នកថ្មើរជើង។\\n'\n",
            "start idx: 28 58 len: 98\n",
            "Found s: 'នត្រូវបានដុតដោយអ្នកគាំទ្រជឿជាក'\n",
            "start idx: 3 33 len: 126\n",
            "Found s: 'ើហឹង្សាដោយក្រុមអ្នកបំបែកខ្លួនម'\n",
            "start idx: 0 21 len: 154\n",
            "Found s: 'យោងតាមអ្នកនាំពាក្យរបស'\n",
            "start idx: 0 28 len: 201\n",
            "Found s: 'សមាជិកនៃក្រុមអ្នកកាន់សាសនាគ្'\n",
            "start idx: 0 24 len: 90\n",
            "Found s: 'ពីរនាក់នៃអ្នកប្រឆាំងបានថ'\n",
            "start idx: 0 15 len: 196\n",
            "Found s: 'អ្នកនាំពាក្យប៉ូ'\n",
            "start idx: 28 58 len: 84\n",
            "Found s: 'ាមួយយុវជន ដែលជាអ្នកមានទំនោរទៅល'\n",
            "start idx: 0 15 len: 112\n",
            "Found s: 'អ្នកចម្រៀងដ៏ល្ប'\n",
            "start idx: 88 118 len: 122\n",
            "Found s: 'ារស៊ើបអង្កេតដោយអ្នកធ្វើកោសលវិច'\n",
            "start idx: 36 66 len: 104\n",
            "Found s: '70s ក្រោយពេលជួបអ្នកលេងហ្គីតា អ'\n",
            "start idx: 0 19 len: 91\n",
            "Found s: 'សរុបអ្នកស្លាប់មាន17'\n",
            "start idx: 37 67 len: 93\n",
            "Found s: 'ាំងក្វាងចូវ ដែលអ្នករស់នៅ5,000ន'\n",
            "start idx: 0 15 len: 68\n",
            "Found s: 'អ្នកចាប់ខ្លួនទី'\n",
            "start idx: 0 15 len: 158\n",
            "Found s: 'អ្នកធ្វើដំណើរម្'\n",
            "start idx: 93 123 len: 141\n",
            "Found s: 'ើញសាកសពស្ត្រីជាអ្នកធ្វើដំណើរម្'\n",
            "start idx: 0 15 len: 129\n",
            "Found s: 'អ្នកនាំពាក្យ បា'\n",
            "start idx: 0 23 len: 88\n",
            "Found s: 'យោងទៅតាមអ្នកនាងអ៊ីវ៉ាហូ'\n",
            "start idx: 0 15 len: 163\n",
            "Found s: 'អ្នកធ្វើការនៅST'\n",
            "start idx: 8 38 len: 141\n",
            "Found s: 'ារឯករាជ្យការពារអ្នកកាសែត (CPJ)'\n",
            "start idx: 33 63 len: 163\n",
            "Found s: 'នការតក់ស្លុតដល់អ្នកគោរពបូជាសាស'\n",
            "start idx: 12 42 len: 163\n",
            "Found s: 'ានបង្ហាញឈ្មោះនៃអ្នកវាយប្រហារសក'\n",
            "start idx: 23 53 len: 124\n",
            "Found s: 'ំណោម១៤ប្រទេសដែលអ្នកធ្វើដំណើរឆ្'\n",
            "start idx: 0 15 len: 269\n",
            "Found s: 'អ្នកវិទ្យាសាស្ត'\n",
            "start idx: 106 136 len: 245\n",
            "Found s: 'yersថា\"ប្រសិនបើអ្នកបានអានកំណត់'\n",
            "start idx: 14 44 len: 121\n",
            "Found s: 'ូងរបស់ព្រេសលេជាអ្នកគ្រប់គ្រង ហ'\n",
            "start idx: 5 35 len: 91\n",
            "Found s: 'រាយការណ៍ថាក្រុមអ្នកដើរត្រេចចរប'\n",
            "start idx: 0 15 len: 80\n",
            "Found s: 'អ្នកសង្រ្គោះប្រ'\n",
            "start idx: 40 70 len: 114\n",
            "Found s: 'ភ្លៀងខ្យល់ទោះបីអ្នកភូមិព្យាយាម'\n",
            "start idx: 12 42 len: 183\n",
            "Found s: 'ភេឡូ បានក្លាយជាអ្នកដែលគេសំលឹងឃ'\n",
            "start idx: 0 19 len: 213\n",
            "Found s: 'អតីតអ្នកគ្រប់គ្រងឆេ'\n",
            "start idx: 8 38 len: 206\n",
            "Found s: 'ីតាលីដែលពីមុនជាអ្នកគ្រប់គ្រងរៀ'\n",
            "start idx: 65 95 len: 167\n",
            "Found s: 'លីពពី ដែលជាអតីតអ្នកបង្វឹកជនជាត'\n",
            "start idx: 13 43 len: 180\n",
            "Found s: 'ងប្រជាជនទូទៅនិងអ្នកធ្វើការខាងស'\n",
            "start idx: 42 72 len: 159\n",
            "Found s: 'ាងអ៊ីស្រាអែលនិងអ្នកដឹកនាំថ្មីប'\n",
            "start idx: 79 109 len: 201\n",
            "Found s: 'ែលប្រយុទ្ថជាមួយអ្នកចែកចាយគ្រឿង'\n",
            "start idx: 0 15 len: 122\n",
            "Found s: 'អ្នកដឹកនាំម៉ូដូ'\n",
            "start idx: 0 28 len: 95\n",
            "Found s: 'គាត់បានប្រាប់អ្នកទស្សនាថា វា'\n",
            "start idx: 74 104 len: 181\n",
            "Found s: 'ិយាយទៅកាន់ហ្វូងអ្នកគាំទ្ររាប់ព'\n",
            "start idx: 59 89 len: 185\n",
            "Found s: 'ា \"លោក លោកស្រី អ្នកនាង កញ្ញា ខ'\n",
            "start idx: 4 34 len: 241\n",
            "Found s: 'មហ៊ុនដានខូដែលជាអ្នកកំពុងតំណាងប'\n",
            "start idx: 0 15 len: 168\n",
            "Found s: 'អ្នកនយោបាយជាន់ខ'\n",
            "start idx: 26 56 len: 205\n",
            "Found s: '្សីដែលតំរង់ទៅរកអ្នកសារព័ត៌មានអ'\n",
            "start idx: 0 15 len: 151\n",
            "Found s: 'អ្នករាយការណ៏គាំ'\n",
            "start idx: 93 123 len: 260\n",
            "Found s: 'អាចពិបាកពីព្រោះអ្នកសារព័ត៌មាន\\u200b'\n",
            "start idx: 2 32 len: 81\n",
            "Found s: 'ថីនទទូចថាគាត់គឺអ្នកគាំទ្រដ៏ខ្ល'\n",
            "start idx: 7 37 len: 226\n",
            "Found s: 'សុន្ទរកថាទៅកាន់អ្នកផ្សាយទូរទស្'\n",
            "start idx: 11 41 len: 128\n",
            "Found s: '្វីមេឌាអនឡាញ.អកអ្នកសារព័ត៌មានដ'\n",
            "start idx: 0 29 len: 124\n",
            "Found s: 'ហារ៉ាប៊េ ដែលជាអ្នកចំណាត់ទី១០ត'\n",
            "start idx: 0 15 len: 246\n",
            "Found s: 'អ្នកតំណាងជាន់ខ្'\n",
            "start idx: 155 185 len: 330\n",
            "Found s: 'យខ្ញុំសង្ឈឹមលើ់អ្នកទាំងពីរ ហ្វ'\n",
            "start idx: 133 163 len: 283\n",
            "Found s: 'ឌិតខេហ្វូ ម៉ា; អ្នកគ្រប់គ្រងក្'\n",
            "start idx: 0 15 len: 82\n",
            "Found s: 'អ្នកនាំពាក្យបាន'\n",
            "start idx: 0 24 len: 83\n",
            "Found s: 'បួននាក់នៃអ្នកប្រឆាំងគឺមក'\n",
            "start idx: 0 15 len: 135\n",
            "Found s: 'អ្នកសកម្មប្រយុទ'\n",
            "start idx: 0 15 len: 66\n",
            "Found s: 'អ្នកសកម្មប្រយុទ'\n",
            "start idx: 43 73 len: 107\n",
            "Found s: 'ំបងមួយ\"និយាយដោយអ្នកនាំពាក្យសកម'\n",
            "start idx: 0 15 len: 147\n",
            "Found s: 'អ្នកស្រាវជ្រាវប'\n",
            "start idx: 0 18 len: 193\n",
            "Found s: 'ពួកអ្នកស្រាវជ្រាវន'\n",
            "start idx: 0 16 len: 122\n",
            "Found s: '\"អ្នកគ្រាប់បែកអត'\n",
            "start idx: 71 101 len: 152\n",
            "Found s: 'រកនៃការជ្រើសរើសអ្នកតំណាំងគណៈកម'\n",
            "start idx: 0 15 len: 105\n",
            "Found s: 'អ្នកអង្កេតភពអង្'\n",
            "start idx: 81 111 len: 129\n",
            "Found s: 'ជើង ដែលក្នុងនោះអ្នកទាំងអស់មានអ'\n",
            "start idx: 0 15 len: 125\n",
            "Found s: 'អ្នកស្រាវជ្រាវម'\n",
            "start idx: 35 65 len: 97\n",
            "Found s: 'គ្រាប់ធ្លុះកាត់អ្នកបើកម៉ូតូអាយ'\n",
            "start idx: 0 16 len: 103\n",
            "Found s: '\"អ្នកបើកបរមិនយកច'\n",
            "start idx: 11 41 len: 55\n",
            "Found s: 'យប្រហារទៅលើទាំងអ្នកបើកបរនិងអ្ន'\n",
            "start idx: 0 15 len: 115\n",
            "Found s: 'អ្នកវិទ្យាសាស្រ'\n",
            "start idx: 0 15 len: 126\n",
            "Found s: 'អ្នកវិទ្យាសាស្រ'\n",
            "start idx: 0 15 len: 77\n",
            "Found s: 'អ្នកវិទ្យាសាស្រ'\n",
            "start idx: 101 131 len: 135\n",
            "Found s: 'ស្គាល់ជាទូទៅដោយអ្នកវិទ្យាសាស្រ'\n",
            "start idx: 24 54 len: 94\n",
            "Found s: 'ងនៅក្នុងអ្វីដែលអ្នកអាចហៅថាការវ'\n",
            "start idx: 35 65 len: 71\n",
            "Found s: 'សំរាប់ភាពល្អអោយអ្នកដទៃ\" គាត់បន'\n",
            "start idx: 0 20 len: 141\n",
            "Found s: 'បណ្តាអ្នកនយោបាយនៅចក្'\n",
            "start idx: 139 169 len: 236\n",
            "Found s: '្រើន ស្គាល់អំពីអ្នកកាន់តែច្រើន'\n",
            "start idx: 0 15 len: 100\n",
            "Found s: 'អ្នកតំណាងបានប្រ'\n",
            "start idx: 30 60 len: 84\n",
            "Found s: 'ងត្រូវបានបាញ់ទៅអ្នកតំណាង ប៉ុន្'\n",
            "start idx: 0 15 len: 148\n",
            "Found s: 'អ្នកនាំពាក្យរបស'\n",
            "start idx: 5 35 len: 146\n",
            "Found s: 'ូអេនបាននិយាយថា អ្នកទីពីរត្រូវប'\n",
            "start idx: 0 15 len: 100\n",
            "Found s: 'អ្នកទេសចរនៅសណ្ឋ'\n",
            "start idx: 0 23 len: 100\n",
            "Found s: 'ហ្គ្រេជាអ្នកជំនាញច្បាប់'\n",
            "start idx: 45 75 len: 149\n",
            "Found s: 'កពីការដោះលែងនូវអ្នកជាប់គុកជនជា'\n",
            "start idx: 50 80 len: 82\n",
            "Found s: 'លោក ក្លា ធ្វើជាអ្នកដឹកនាំទូរទៅ'\n",
            "start idx: 5 35 len: 108\n",
            "Found s: 'ប៊ីអាយបានសាកសួរអ្នកស្នាក់នៅមីល'\n",
            "start idx: 42 72 len: 324\n",
            "Found s: 'សេររួមគ្នាជាមួយអ្នកនិពន្ធទីបីម'\n",
            "start idx: 48 78 len: 109\n",
            "Found s: 'ត្រូវបានចាត់ជា\"អ្នកប្រព្រឹត្តអ'\n",
            "start idx: 22 52 len: 148\n",
            "Found s: 'នខេត្តហ្គាស្នី អ្នកបើកបរយន្តហោ'\n",
            "start idx: 0 15 len: 72\n",
            "Found s: 'អ្នកចម្រៀងនិងអ្'\n",
            "start idx: 56 86 len: 103\n",
            "Found s: 'នទទួលជោគជ័យដោយ\"អ្នកជារបស់ខ្ញុំ'\n",
            "start idx: 0 15 len: 109\n",
            "Found s: 'អ្នកសម្ដែងជនជាត'\n",
            "start idx: 96 126 len: 174\n",
            "Found s: 'ចំណាប់ខ្មាំងដោយអ្នកសកម្មប្រយុទ'\n",
            "start idx: 16 46 len: 167\n",
            "Found s: ' គេនិយាយបន្តថា អ្នកមកទស្សនាទាំ'\n",
            "start idx: 117 147 len: 179\n",
            "Found s: ' ដែលនេះត្រូវបានអ្នករិះគន់ចាត់ទ'\n",
            "start idx: 0 15 len: 133\n",
            "Found s: 'អ្នករងរបួសភាគច្'\n",
            "start idx: 27 57 len: 149\n",
            "Found s: 'នាំ2005 ធ្វើអោយអ្នកគោរពបូជាសាស'\n",
            "start idx: 92 122 len: 149\n",
            "Found s: 'e Storey ជាអតីតអ្នកដឹកនាំក្រុម'\n",
            "start idx: 34 64 len: 97\n",
            "Found s: 'ខណៈសម្បត្តិរបស់អ្នកផ្លាស់ប្តូរ'\n",
            "start idx: 62 92 len: 154\n",
            "Found s: 'ាបន្តបន្ទាប់ ពីអ្នកដឹងព័ត៌មានផ'\n",
            "start idx: 54 84 len: 122\n",
            "Found s: 'លៀម ម៉ាកក្រេនិងអ្នកដឹកនាំគណបក្'\n",
            "start idx: 21 51 len: 241\n",
            "Found s: 'ឌូខានូវីខ ដែលជាអ្នកបានជួយទាមទា'\n",
            "start idx: 6 36 len: 152\n",
            "Found s: 'តិជាមួយនឹងចំនួនអ្នកចេញមកបោះឆ្ន'\n",
            "start idx: 0 15 len: 135\n",
            "Found s: 'អ្នកវិភាគខ្លះកត'\n",
            "start idx: 0 15 len: 228\n",
            "Found s: 'អ្នកបើកបរក្នុងក'\n",
            "start idx: 78 108 len: 172\n",
            "Found s: 'ដល់ ខេវិន ហាវិកអ្នកមានពិន្ទុនា'\n",
            "start idx: 205 235 len: 286\n",
            "Found s: 'ការរំជួលចិត្តពីអ្នកទស្សនា ក្នុ'\n",
            "start idx: 125 155 len: 199\n",
            "Found s: 'r ជាមួយនឹងក្រុមអ្នកស្ម័គ្រចិត្'\n",
            "start idx: 0 15 len: 238\n",
            "Found s: 'អ្នកគាំទ្រ បានប'\n",
            "start idx: 8 38 len: 112\n",
            "Found s: 'ាយថាគាត់តែងតែជាអ្នកគាំទ្រដល់BB'\n",
            "start idx: 0 16 len: 58\n",
            "Found s: '\"អ្នកក៏នៅតែបង់អោ'\n",
            "start idx: 128 158 len: 162\n",
            "Found s: 'យដោយប្រធានអធិកាអ្នកអង្កេតផាមម៉'\n",
            "start idx: 10 40 len: 81\n",
            "Found s: 'ានឈ្លោះគ្នាទៅលើអ្នកដែលគ្រប់គ្រ'\n",
            "start idx: 0 21 len: 190\n",
            "Found s: 'យោងតាមអ្នកវិទ្យាសាស្ត'\n",
            "start idx: 0 15 len: 252\n",
            "Found s: 'អ្នកស្រាវជ្រាវន'\n",
            "start idx: 75 105 len: 111\n",
            "Found s: 'ើយអាចសន្មតបានថាអ្នកក្រៅពីនោះក៏'\n",
            "start idx: 0 29 len: 177\n",
            "Found s: 'លើសពីនេះទៅទៀត អ្នកនិពន្ធនិយាយ'\n",
            "start idx: 0 20 len: 90\n",
            "Found s: 'ដំបូងអ្នកនិពន្ធទទួល1'\n",
            "start idx: 47 77 len: 248\n",
            "Found s: 'រូវបានបង្ហាញដោយអ្នកស្រាវជ្រាវន'\n",
            "start idx: 0 15 len: 199\n",
            "Found s: 'អ្នកនាំពាក្យម្ន'\n",
            "start idx: 25 55 len: 68\n",
            "Found s: 'ើងចេញពីបង្គន់\" អ្នកនាំពាក្យម្ន'\n",
            "start idx: 0 30 len: 133\n",
            "Found s: 'គាត់បាននិយាយថា អ្នកចក្រពត្តិនិ'\n",
            "start idx: 166 196 len: 236\n",
            "Found s: '់ឧក្រិដ្ឋជន និងអ្នកផ្តើមគំនិតន'\n",
            "start idx: 98 128 len: 221\n",
            "Found s: 'គរយ នៃឃាតកម្មលើអ្នកកាសែតនិងអ្ន'\n",
            "start idx: 31 61 len: 116\n",
            "Found s: 'ននាក់ស្លាប់របស់អ្នកកាសែត al-Ir'\n",
            "start idx: 0 15 len: 136\n",
            "Found s: 'អ្នកកាសែតនិងជំន'\n",
            "start idx: 0 15 len: 229\n",
            "Found s: 'អ្នកគាំទ្ររឿងកំ'\n",
            "start idx: 12 42 len: 204\n",
            "Found s: 'រុះដែលដឹកនាំដោយអ្នកអភិរក្សនិយម'\n",
            "start idx: 125 155 len: 255\n",
            "Found s: 'ន នីវវេនហ៊ុយសែ អ្នកតំណាងរបស់កម'\n",
            "start idx: 36 66 len: 256\n",
            "Found s: 'ើមផ្តល់នំបុ័ងទៅអ្នកទទួលជំនួយថ្'\n",
            "start idx: 66 96 len: 163\n",
            "Found s: '៍ ដែលបង្កអោយមានអ្នករងរបួសកើនឡើ'\n",
            "start idx: 226 256 len: 334\n",
            "Found s: 'ងៃនេះ ខណៈពេលដែលអ្នកដឹកនាំអេស៊ី'\n",
            "start idx: 47 77 len: 202\n",
            "Found s: 'ហុងកុង និងក្រុមអ្នកស្រាវជ្រាវ '\n",
            "start idx: 23 53 len: 332\n",
            "Found s: 'វេន ផ្លាត ដែលជាអ្នកស្រាវជ្រាវន'\n",
            "start idx: 2 32 len: 262\n",
            "Found s: 'ហ្គឺ វ៉េប ដែលជាអ្នកដឹកនាំស្រាវ'\n",
            "start idx: 0 30 len: 101\n",
            "Found s: 'ការបង់ប្រាក់ដោយអ្នកបង់ពន្ធជនជា'\n",
            "start idx: 142 172 len: 287\n",
            "Found s: 'ួយអំពីយុវវ័យពីរអ្នកដែលបានលោតចុ'\n",
            "start idx: 5 35 len: 111\n",
            "Found s: 'នរី លីនកូលដែលជាអ្នកនិពន្ធទីបីន'\n",
            "start idx: 0 26 len: 312\n",
            "Found s: '\"ក្នុងនាមជាអ្នកបោះពុម្ព Th'\n",
            "start idx: 59 89 len: 114\n",
            "Found s: 'ោះឆ្នោតរបស់យើង\"អ្នកប្រជែងអិនឌី'\n",
            "start idx: 32 62 len: 127\n",
            "Found s: 'ក្នុងតំបន់នេះ\" អ្នកច្បាប់ធីមស្'\n",
            "start idx: 92 122 len: 150\n",
            "Found s: 'ៅធម្មតាយឺតៗហើយ\"អ្នកនាំពាក្យតំប'\n",
            "start idx: 56 86 len: 107\n",
            "Found s: 'ល្អមួយនៃរបៀបដែលអ្នកអាចប្រើប្រា'\n",
            "start idx: 33 63 len: 117\n",
            "Found s: 'ាតាហដែលជាបក្សនៃអ្នកដឹកនាំជនជាត'\n",
            "start idx: 46 76 len: 102\n",
            "Found s: 'ឡេស្ទីនមួយហើយជាអ្នកត្រូវបានបោះ'\n",
            "start idx: 33 63 len: 130\n",
            "Found s: 'ច្រើនក្នុងចំណោមអ្នកលេងហ្គេមក្ម'\n",
            "start idx: 102 132 len: 386\n",
            "Found s: 'NBA និងបរិមាណនៃអ្នកលេងហ្គេមតាម'\n",
            "start idx: 15 45 len: 227\n",
            "Found s: 'ោះនៅក្នុងចិត្ត អ្នករាយការណ៍របស'\n",
            "start idx: 96 126 len: 175\n",
            "Found s: 'សម្បទានពន្ធ ដល់អ្នកទិញផ្ទះ បើស'\n",
            "start idx: 110 140 len: 159\n",
            "Found s: 'រុកជាន់គ្នារបស់អ្នកទិញផ្ទះដំបូ'\n",
            "start idx: 0 23 len: 130\n",
            "Found s: 'យោងទៅតាមអ្នកនាំពាក្យស្រ'\n",
            "start idx: 0 15 len: 174\n",
            "Found s: 'អ្នកនាំពាក្យស្ត'\n",
            "start idx: 0 18 len: 121\n",
            "Found s: 'សត អ្នករិះគន់ដ៏សកម'\n",
            "start idx: 144 174 len: 230\n",
            "Found s: 'ែរនោះ មិនមែនជា\"អ្នកសម្រេចចិត្ត'\n",
            "start idx: 108 138 len: 247\n",
            "Found s: 'យ បានដកហូតអាវុធអ្នកយាម បានរឹបអ'\n",
            "start idx: 92 122 len: 207\n",
            "Found s: 'រលើកលែងទោសចំពោះអ្នកស្រឡាញ់ភេទដ'\n",
            "start idx: 10 40 len: 105\n",
            "Found s: 'កា ដែលបានដេញចោលអ្នកស្រឡាញ់ភេទដ'\n",
            "start idx: 46 76 len: 160\n",
            "Found s: '្ទុះដែលកើតឡើងពីអ្នកបំផ្ទុះគ្រា'\n",
            "start idx: 0 15 len: 138\n",
            "Found s: 'អ្នកស្រាវជ្រាវន'\n",
            "start idx: 24 54 len: 113\n",
            "Found s: 'ង ដើម្បីផាកពិនីអ្នកបំពានច្បាប់'\n",
            "start idx: 83 113 len: 125\n",
            "Found s: 'រោយពីចរចារជាមួយអ្នកតំណាងតំរួតប'\n",
            "start idx: 0 16 len: 121\n",
            "Found s: '\"អ្នកលបបាញ់ម្នាក'\n",
            "start idx: 67 97 len: 105\n",
            "Found s: '្នាក់ក្នុងចំណោមអ្នកលបបាញ់របស់ព'\n",
            "start idx: 0 15 len: 89\n",
            "Found s: 'អ្នកនាំពាក្យអេប'\n",
            "start idx: 62 92 len: 224\n",
            "Found s: '្រក៏បាននាំយកនូវអ្នកប្រយុទ្ធក្ន'\n",
            "start idx: 38 68 len: 97\n",
            "Found s: 'ខូតខាតអាគារ ហើយអ្នកជីករ៉ែនិងក្'\n",
            "start idx: 273 301 len: 301\n",
            "Found s: 'ឹងគោលនយោបាយរបស់អ្នកទាំងពីរ។\\n'\n",
            "start idx: 18 48 len: 184\n",
            "Found s: 'នេះនិងការដោះលែងអ្នកដែលត្រូវបាន'\n",
            "start idx: 124 154 len: 187\n",
            "Found s: 'ៃរាល់វីឌីអូ ដែលអ្នកប្រើប្រាស់ប'\n",
            "start idx: 85 115 len: 289\n",
            "Found s: 'ដែលបង្កើតឡើងដោយអ្នកប្រើប្រាស់ '\n",
            "start idx: 206 236 len: 248\n",
            "Found s: 'ម ឃើញនូវអ្វីដែលអ្នកកំពុងបានមើល'\n",
            "start idx: 0 27 len: 186\n",
            "Found s: 'ទាហានម៉ារីន អ្នកពន្លត់អគ្គី'\n",
            "start idx: 0 15 len: 113\n",
            "Found s: 'អ្នកធ្វើដំណើរទា'\n",
            "start idx: 0 15 len: 156\n",
            "Found s: 'អ្នករងគ្រោះទាំង'\n",
            "start idx: 109 139 len: 160\n",
            "Found s: 'ម៉ោងក្នុងតំបន់ អ្នកបើកបរប្រហែល'\n",
            "start idx: 0 21 len: 135\n",
            "Found s: 'ឪពុកនៃអ្នករងគ្រោះម្នា'\n",
            "start idx: 114 144 len: 198\n",
            "Found s: 'កំសាន្ត ទោះបីជាអ្នកផ្សេងនិយាយថ'\n",
            "start idx: 2 32 len: 252\n",
            "Found s: 'រុមហ៊ុនឌែលដែលជាអ្នកប្រកួតប្រជែ'\n",
            "start idx: 28 58 len: 132\n",
            "Found s: 'ំហរម៉ាក អូអេសទៅអ្នកផ្សេង យើងនឹ'\n",
            "start idx: 0 15 len: 220\n",
            "Found s: 'អ្នកជំនាញផ្នែករ'\n",
            "start idx: 4 34 len: 240\n",
            "Found s: 'អេ ហូលតុន ដែលជាអ្នករដ្ឋបាលលើវិ'\n",
            "start idx: 12 42 len: 182\n",
            "Found s: 'ម៉ូរ៉េសជី ដែលជាអ្នកជួយឧបត្ថម្ភ'\n",
            "start idx: 38 68 len: 185\n",
            "Found s: 'ឹងត្រូវផ្តល់អោយអ្នករាយការណ៍និង'\n",
            "start idx: 0 21 len: 110\n",
            "Found s: 'យោងតាមអ្នកនាំពាក្យរបស'\n",
            "start idx: 131 160 len: 160\n",
            "Found s: '្ងន់ទៅៗ\" យោងតាមអ្នកនាំពាក្យ។\\n'\n",
            "start idx: 0 23 len: 157\n",
            "Found s: 'NOAAគឺជាអ្នកចូលរួមម្នាក'\n",
            "start idx: 134 164 len: 251\n",
            "Found s: 'រ្ដ៏ឈ្មោះទៅកាន់អ្នកកាសែតអន្ដរជ'\n",
            "start idx: 0 29 len: 199\n",
            "Found s: 'លីដវីនេនកូគឺជាអ្នករិះគន់ដ៏ខ្ល'\n",
            "start idx: 90 120 len: 260\n",
            "Found s: 'ូឡញ៉ូម210បន្ដិចអ្នកស៊ើបការណ៏រុ'\n",
            "start idx: 9 39 len: 165\n",
            "Found s: 'ូវបានសម្លាប់ហើយអ្នកដទៃត្រូវរងរ'\n",
            "start idx: 0 15 len: 78\n",
            "Found s: 'អ្នករងរបួសជាច្រ'\n",
            "start idx: 0 16 len: 107\n",
            "Found s: '\"អ្នកបាញ់ត្រូវបា'\n",
            "start idx: 7 37 len: 88\n",
            "Found s: 'ន័រក៏បាននិយាយថាអ្នកបាញ់គឺស្ត្រ'\n",
            "start idx: 0 15 len: 172\n",
            "Found s: 'អ្នកសរសេរបណ្ដាញ'\n",
            "start idx: 28 58 len: 73\n",
            "Found s: 'ន់ថាបានរិះគន់លើអ្នកកំពូលនៃកាសែ'\n",
            "start idx: 7 37 len: 81\n",
            "Found s: 'ករណីលើកដំបូងដែលអ្នកសរសេរត្រូវប'\n",
            "start idx: 0 20 len: 173\n",
            "Found s: 'ក្រុមអ្នកកាសែតចាស់ជា'\n",
            "start idx: 14 44 len: 77\n",
            "Found s: 'ចទឹក៣ម៉ែត្រ ហើយអ្នកជាប់គុក1,66'\n",
            "start idx: 0 15 len: 138\n",
            "Found s: 'អ្នកកាសែតទូរទស្'\n",
            "start idx: 0 15 len: 82\n",
            "Found s: 'អ្នកនាំពាក្យសំរ'\n",
            "start idx: 0 15 len: 431\n",
            "Found s: 'អ្នកនាំពាក្យមន្'\n",
            "start idx: 0 23 len: 237\n",
            "Found s: 'ដេរេកខាវអ្នកតំណាងអធិការ'\n",
            "start idx: 0 15 len: 131\n",
            "Found s: 'អ្នកនិពន្ធអាមេន'\n",
            "start idx: 0 15 len: 130\n",
            "Found s: 'អ្នកផ្សាយបារាំង'\n",
            "start idx: 0 15 len: 136\n",
            "Found s: 'អ្នករៀបផែនការសង'\n",
            "start idx: 12 42 len: 205\n",
            "Found s: 'មុននៅថមសិនគ្មានអ្នកសំខាន់បានផ្'\n",
            "start idx: 0 15 len: 142\n",
            "Found s: 'អ្នកជំនាញឧស្សាហ'\n",
            "start idx: 0 24 len: 136\n",
            "Found s: 'សាកសពរបស់អ្នកកាសែតជនជាតិ'\n",
            "start idx: 14 44 len: 169\n",
            "Found s: 'ាន បានអោយដឹងថា អ្នកកាសែតឈ្មោះ '\n",
            "start idx: 11 41 len: 145\n",
            "Found s: ' ប្អូនប្រុសរបស់អ្នកស្លាប់ បានប'\n",
            "start idx: 0 15 len: 107\n",
            "Found s: 'អ្នកស៊ើបអង្កេត '\n",
            "start idx: 0 15 len: 97\n",
            "Found s: 'អ្នកតំណាងនៃម៉ាគ'\n",
            "start idx: 18 48 len: 184\n",
            "Found s: '្រាអែលនឹងព្រមានអ្នកបើកបរនាវាថា'\n",
            "start idx: 3 33 len: 126\n",
            "Found s: 'ជាពលរដ្ឋនិយាយថាអ្នកពន្លត់អគ្គិ'\n",
            "start idx: 0 15 len: 183\n",
            "Found s: 'អ្នកនាំពាក្យPG&'\n",
            "start idx: 51 81 len: 189\n",
            "Found s: '្លូវការសាលា និងអ្នកជំនាញខាងបរិ'\n",
            "start idx: 107 137 len: 327\n",
            "Found s: 'ិតខាង។ មហាជននិងអ្នកនយោបាយរុស្ស'\n",
            "start idx: 0 15 len: 103\n",
            "Found s: 'អ្នកសរសេរប្លកដេ'\n",
            "start idx: 68 98 len: 277\n",
            "Found s: 'បស់រដូវយោងទៅតាមអ្នកសរសេររបស់រប'\n",
            "start idx: 0 15 len: 122\n",
            "Found s: 'អ្នកច្នៃប្រឌិតស'\n",
            "start idx: 0 15 len: 181\n",
            "Found s: 'អ្នកនាំពាក្យរបស'\n",
            "start idx: 138 168 len: 246\n",
            "Found s: 'នុងពិភពលោកហើយជាអ្នកផ្គត់ផ្គងចម'\n",
            "start idx: 0 27 len: 122\n",
            "Found s: 'យ៉ាងណាក៏ដោយ អ្នកដែលគាំទ្រនូ'\n",
            "start idx: 0 15 len: 248\n",
            "Found s: 'អ្នកសរសេរកាសែត '\n",
            "start idx: 38 68 len: 76\n",
            "Found s: 'ានមធ្យោបាយណាដែលអ្នកអាចបញ្ឈប់វា'\n",
            "start idx: 53 83 len: 117\n",
            "Found s: 'ារពិភាក្សាជាមួយអ្នកដែលព្យាយាមច'\n",
            "start idx: 60 90 len: 93\n",
            "Found s: 'លទៅវិបសាយយោងតាមអ្នកអានវិបសាយនោ'\n",
            "start idx: 8 38 len: 56\n",
            "Found s: 'ហេតុធម្មតាគ្មានអ្នករងរបួសរឺរងគ'\n",
            "start idx: 59 89 len: 98\n",
            "Found s: 'ោយសារមានកំហុសលើអ្នកចាំទីរបស់គី'\n",
            "start idx: 93 123 len: 172\n",
            "Found s: 'ែងចាំទីទំនេរ តែអ្នកប្រយុទ្ធទីល'\n",
            "start idx: 0 30 len: 103\n",
            "Found s: 'ជីមមី កាលឌឺវ៉ូតអ្នកគ្រប់គ្រងគី'\n",
            "start idx: 0 15 len: 234\n",
            "Found s: 'អ្នកគ្រប់គ្រងរប'\n",
            "start idx: 63 93 len: 96\n",
            "Found s: 'ោតដំបូងបាន70%លើអ្នកដំណាង595នាក'\n",
            "start idx: 72 102 len: 242\n",
            "Found s: 'ាវជាច្រើនទៅកាន់អ្នកជាប់ពាក់ព័ន'\n",
            "start idx: 158 188 len: 241\n",
            "Found s: '្រាប់ក្រុមមួយនៃអ្នកកាសែតរុស្សី'\n",
            "start idx: 58 88 len: 131\n",
            "Found s: 'ូវហៅមកវិនិច្ឆ័យអ្នកទាំងនោះដែលម'\n",
            "start idx: 114 144 len: 212\n",
            "Found s: 'ាដាក់ទណ្ឌកម្មលើអ្នកសរសេរដែលផ្ស'\n",
            "start idx: 0 15 len: 153\n",
            "Found s: 'អ្នកស្រុកជាច្រើ'\n",
            "start idx: 0 25 len: 171\n",
            "Found s: 'បើយោងទៅតាមអ្នកឧត្តុនិយម អ'\n",
            "start idx: 48 78 len: 101\n",
            "Found s: 'តក្រុងមួយដែលដឹកអ្នកទេសចរជនជាតិ'\n",
            "start idx: 7 37 len: 70\n",
            "Found s: '្រុងបានកំពុងដឹកអ្នកទេសចរទៅផ្ទះ'\n",
            "start idx: 0 18 len: 171\n",
            "Found s: 'ពូកអ្នកស្រាវជ្រាវន'\n",
            "start idx: 0 15 len: 194\n",
            "Found s: 'អ្នកបរបាញ់ឈ្មោះ'\n",
            "start idx: 0 18 len: 141\n",
            "Found s: 'ពូកអ្នកស្រាវជ្រាវព'\n",
            "start idx: 185 215 len: 230\n",
            "Found s: 'ស៊ីសកុំប៉ោន និងអ្នកលើកសាច់ដុំធ'\n"
          ],
          "name": "stdout"
        }
      ]
    },
    {
      "cell_type": "markdown",
      "metadata": {
        "id": "Qlgw6Fi3c8R7"
      },
      "source": [
        "### Final Training on Full Dataset\n",
        "After we satisfied with our approach, we can use the more dataset to train such as the 5K or 10K batch.\n",
        "\n",
        "To do that just change the batch size for 100 to 10K to load 10,000 articles. Note that training will take longer and you will need at least 24GB of RAM.\n",
        "\n",
        "In addition, once you don't need to measure the performance any more, you can train on the whole dataset (leaving 0% test set) so we have more training data to improve the model. Use this as your final model.\n",
        "\n"
      ]
    },
    {
      "cell_type": "markdown",
      "metadata": {
        "id": "sH9AHerQjt3V"
      },
      "source": [
        "## Data distribution"
      ]
    },
    {
      "cell_type": "markdown",
      "metadata": {
        "id": "WBCbZFnBZ0kM"
      },
      "source": [
        "### Categories"
      ]
    },
    {
      "cell_type": "code",
      "metadata": {
        "id": "1aEeNnUpNCgL",
        "colab": {
          "base_uri": "https://localhost:8080/",
          "height": 425
        },
        "outputId": "f735ac73-de5a-4331-dcd7-a63b2d005259"
      },
      "source": [
        "import pandas as pd\n",
        "meta = pd.read_csv(data_dir + '/meta.txt')\n",
        "meta.info()\n",
        "meta.head()"
      ],
      "execution_count": 65,
      "outputs": [
        {
          "output_type": "stream",
          "text": [
            "<class 'pandas.core.frame.DataFrame'>\n",
            "RangeIndex: 100 entries, 0 to 99\n",
            "Data columns (total 6 columns):\n",
            " #   Column     Non-Null Count  Dtype \n",
            "---  ------     --------------  ----- \n",
            " 0   index      100 non-null    int64 \n",
            " 1   docId      100 non-null    int64 \n",
            " 2   category   100 non-null    object\n",
            " 3   charCount  100 non-null    int64 \n",
            " 4   wordCount  100 non-null    int64 \n",
            " 5   url        100 non-null    object\n",
            "dtypes: int64(4), object(2)\n",
            "memory usage: 4.8+ KB\n"
          ],
          "name": "stdout"
        },
        {
          "output_type": "execute_result",
          "data": {
            "text/html": [
              "<div>\n",
              "<style scoped>\n",
              "    .dataframe tbody tr th:only-of-type {\n",
              "        vertical-align: middle;\n",
              "    }\n",
              "\n",
              "    .dataframe tbody tr th {\n",
              "        vertical-align: top;\n",
              "    }\n",
              "\n",
              "    .dataframe thead th {\n",
              "        text-align: right;\n",
              "    }\n",
              "</style>\n",
              "<table border=\"1\" class=\"dataframe\">\n",
              "  <thead>\n",
              "    <tr style=\"text-align: right;\">\n",
              "      <th></th>\n",
              "      <th>index</th>\n",
              "      <th>docId</th>\n",
              "      <th>category</th>\n",
              "      <th>charCount</th>\n",
              "      <th>wordCount</th>\n",
              "      <th>url</th>\n",
              "    </tr>\n",
              "  </thead>\n",
              "  <tbody>\n",
              "    <tr>\n",
              "      <th>0</th>\n",
              "      <td>1</td>\n",
              "      <td>250000</td>\n",
              "      <td>hoang</td>\n",
              "      <td>252</td>\n",
              "      <td>29</td>\n",
              "      <td>https://thmeythmey.com/?page=detail&amp;id=84061</td>\n",
              "    </tr>\n",
              "    <tr>\n",
              "      <th>1</th>\n",
              "      <td>2</td>\n",
              "      <td>250001</td>\n",
              "      <td>hoang</td>\n",
              "      <td>252</td>\n",
              "      <td>29</td>\n",
              "      <td>https://thmeythmey.com/?page=detail&amp;id=84061</td>\n",
              "    </tr>\n",
              "    <tr>\n",
              "      <th>2</th>\n",
              "      <td>3</td>\n",
              "      <td>250002</td>\n",
              "      <td>hoang</td>\n",
              "      <td>252</td>\n",
              "      <td>29</td>\n",
              "      <td>https://thmeythmey.com/?page=detail&amp;id=84061</td>\n",
              "    </tr>\n",
              "    <tr>\n",
              "      <th>3</th>\n",
              "      <td>4</td>\n",
              "      <td>250003</td>\n",
              "      <td>hoang</td>\n",
              "      <td>252</td>\n",
              "      <td>29</td>\n",
              "      <td>https://thmeythmey.com/?page=detail&amp;id=84061</td>\n",
              "    </tr>\n",
              "    <tr>\n",
              "      <th>4</th>\n",
              "      <td>5</td>\n",
              "      <td>250004</td>\n",
              "      <td>hoang</td>\n",
              "      <td>252</td>\n",
              "      <td>29</td>\n",
              "      <td>https://thmeythmey.com/?page=detail&amp;id=84061</td>\n",
              "    </tr>\n",
              "  </tbody>\n",
              "</table>\n",
              "</div>"
            ],
            "text/plain": [
              "   index   docId  ... wordCount                                           url\n",
              "0      1  250000  ...        29  https://thmeythmey.com/?page=detail&id=84061\n",
              "1      2  250001  ...        29  https://thmeythmey.com/?page=detail&id=84061\n",
              "2      3  250002  ...        29  https://thmeythmey.com/?page=detail&id=84061\n",
              "3      4  250003  ...        29  https://thmeythmey.com/?page=detail&id=84061\n",
              "4      5  250004  ...        29  https://thmeythmey.com/?page=detail&id=84061\n",
              "\n",
              "[5 rows x 6 columns]"
            ]
          },
          "metadata": {
            "tags": []
          },
          "execution_count": 65
        }
      ]
    },
    {
      "cell_type": "code",
      "metadata": {
        "id": "rn9sr3VQNFP-",
        "colab": {
          "base_uri": "https://localhost:8080/",
          "height": 221
        },
        "outputId": "39ae088e-e7a2-4e20-dc86-c4bc4835b240"
      },
      "source": [
        "from urllib.parse import urlparse\n",
        "domain = []\n",
        "for index, row in meta.iterrows():\n",
        "  parsed_uri = urlparse(row.url)\n",
        "  #domain.append('{uri.scheme}://{uri.netloc}/'.format(uri=parsed_uri))\n",
        "  domain.append('{uri.netloc}'.format(uri=parsed_uri).replace(\"www.\",\"\"))\n",
        "print(domain[0:3])\n",
        "meta[\"domain\"] = domain\n",
        "meta.head()\n"
      ],
      "execution_count": 66,
      "outputs": [
        {
          "output_type": "stream",
          "text": [
            "['thmeythmey.com', 'thmeythmey.com', 'thmeythmey.com']\n"
          ],
          "name": "stdout"
        },
        {
          "output_type": "execute_result",
          "data": {
            "text/html": [
              "<div>\n",
              "<style scoped>\n",
              "    .dataframe tbody tr th:only-of-type {\n",
              "        vertical-align: middle;\n",
              "    }\n",
              "\n",
              "    .dataframe tbody tr th {\n",
              "        vertical-align: top;\n",
              "    }\n",
              "\n",
              "    .dataframe thead th {\n",
              "        text-align: right;\n",
              "    }\n",
              "</style>\n",
              "<table border=\"1\" class=\"dataframe\">\n",
              "  <thead>\n",
              "    <tr style=\"text-align: right;\">\n",
              "      <th></th>\n",
              "      <th>index</th>\n",
              "      <th>docId</th>\n",
              "      <th>category</th>\n",
              "      <th>charCount</th>\n",
              "      <th>wordCount</th>\n",
              "      <th>url</th>\n",
              "      <th>domain</th>\n",
              "    </tr>\n",
              "  </thead>\n",
              "  <tbody>\n",
              "    <tr>\n",
              "      <th>0</th>\n",
              "      <td>1</td>\n",
              "      <td>250000</td>\n",
              "      <td>hoang</td>\n",
              "      <td>252</td>\n",
              "      <td>29</td>\n",
              "      <td>https://thmeythmey.com/?page=detail&amp;id=84061</td>\n",
              "      <td>thmeythmey.com</td>\n",
              "    </tr>\n",
              "    <tr>\n",
              "      <th>1</th>\n",
              "      <td>2</td>\n",
              "      <td>250001</td>\n",
              "      <td>hoang</td>\n",
              "      <td>252</td>\n",
              "      <td>29</td>\n",
              "      <td>https://thmeythmey.com/?page=detail&amp;id=84061</td>\n",
              "      <td>thmeythmey.com</td>\n",
              "    </tr>\n",
              "    <tr>\n",
              "      <th>2</th>\n",
              "      <td>3</td>\n",
              "      <td>250002</td>\n",
              "      <td>hoang</td>\n",
              "      <td>252</td>\n",
              "      <td>29</td>\n",
              "      <td>https://thmeythmey.com/?page=detail&amp;id=84061</td>\n",
              "      <td>thmeythmey.com</td>\n",
              "    </tr>\n",
              "    <tr>\n",
              "      <th>3</th>\n",
              "      <td>4</td>\n",
              "      <td>250003</td>\n",
              "      <td>hoang</td>\n",
              "      <td>252</td>\n",
              "      <td>29</td>\n",
              "      <td>https://thmeythmey.com/?page=detail&amp;id=84061</td>\n",
              "      <td>thmeythmey.com</td>\n",
              "    </tr>\n",
              "    <tr>\n",
              "      <th>4</th>\n",
              "      <td>5</td>\n",
              "      <td>250004</td>\n",
              "      <td>hoang</td>\n",
              "      <td>252</td>\n",
              "      <td>29</td>\n",
              "      <td>https://thmeythmey.com/?page=detail&amp;id=84061</td>\n",
              "      <td>thmeythmey.com</td>\n",
              "    </tr>\n",
              "  </tbody>\n",
              "</table>\n",
              "</div>"
            ],
            "text/plain": [
              "   index   docId  ...                                           url          domain\n",
              "0      1  250000  ...  https://thmeythmey.com/?page=detail&id=84061  thmeythmey.com\n",
              "1      2  250001  ...  https://thmeythmey.com/?page=detail&id=84061  thmeythmey.com\n",
              "2      3  250002  ...  https://thmeythmey.com/?page=detail&id=84061  thmeythmey.com\n",
              "3      4  250003  ...  https://thmeythmey.com/?page=detail&id=84061  thmeythmey.com\n",
              "4      5  250004  ...  https://thmeythmey.com/?page=detail&id=84061  thmeythmey.com\n",
              "\n",
              "[5 rows x 7 columns]"
            ]
          },
          "metadata": {
            "tags": []
          },
          "execution_count": 66
        }
      ]
    },
    {
      "cell_type": "code",
      "metadata": {
        "id": "I6RxsNwINSV3",
        "colab": {
          "base_uri": "https://localhost:8080/",
          "height": 287
        },
        "outputId": "f9ed5e6f-69e6-4259-c1df-a1b6996a7061"
      },
      "source": [
        "import matplotlib.pyplot as plt\n",
        "#meta.hist()\n",
        "cat = meta['category'][:800]\n",
        "cat.head()\n",
        "cat.value_counts().plot(kind='bar')\n",
        "plt.show()"
      ],
      "execution_count": 67,
      "outputs": [
        {
          "output_type": "display_data",
          "data": {
            "image/png": "[encoded data removed]",
            "text/plain": [
              "<Figure size 432x288 with 1 Axes>"
            ]
          },
          "metadata": {
            "tags": [],
            "needs_background": "light"
          }
        }
      ]
    },
    {
      "cell_type": "code",
      "metadata": {
        "id": "8aohpEXjNkKb",
        "colab": {
          "base_uri": "https://localhost:8080/",
          "height": 342
        },
        "outputId": "12b084f4-6b46-40cf-f793-f959223aa071"
      },
      "source": [
        "plt.figure(figsize=(12,4))\n",
        "meta['domain'].value_counts().plot(kind='bar')\n",
        "plt.show()"
      ],
      "execution_count": 68,
      "outputs": [
        {
          "output_type": "display_data",
          "data": {
            "image/png": "[encoded data removed]",
            "text/plain": [
              "<Figure size 864x288 with 1 Axes>"
            ]
          },
          "metadata": {
            "tags": [],
            "needs_background": "light"
          }
        }
      ]
    },
    {
      "cell_type": "markdown",
      "metadata": {
        "id": "s2ujCri7lUkV"
      },
      "source": [
        "### Word Distribution"
      ]
    },
    {
      "cell_type": "code",
      "metadata": {
        "id": "aoJVT7rFFGIy",
        "cellView": "both",
        "colab": {
          "base_uri": "https://localhost:8080/"
        },
        "outputId": "0c56f441-f41e-4eaf-d777-ebc511d3af31"
      },
      "source": [
        "#Word size distribution\n",
        "words = {}\n",
        "word_count = 0\n",
        "sentence_count = 0\n",
        "wordspref = {} # first character key - list of words begin with a letter\n",
        "wsize = [] # list of word size\n",
        "for i, text in enumerate(seg_text):\n",
        "    #print(\"Document \" + str(doc_ids[i]) + \" num of sentences: \" + str(len(text)))\n",
        "    for sentence in text:\n",
        "        sentence_count += 1\n",
        "        for phrase in sentence.split():\n",
        "          for word in phrase.split(' '):\n",
        "            word_count += 1\n",
        "            wsize.append(len(word))\n",
        "            words[word] = 1 if word not in words.keys() else words[word] + 1\n",
        "            pref = word[:1]\n",
        "            if pref in wordspref:\n",
        "              wlist = wordspref[pref]\n",
        "              wlist.add(word)\n",
        "              wordspref[pref] = wlist\n",
        "            else: wordspref[pref] = set(word)\n",
        "print(\"total number of articles:\", len(seg_text))\n",
        "print(\"total number of sentences:\", sentence_count, \" words:\", word_count)\n",
        "print(\"total number of distinct words:\", len(words))\n",
        "print(\"total number wordspref:\", len(wordspref))\n",
        "\n",
        "# for i, ws in enumerate(sorted(wordspref)):\n",
        "#     s = wordspref[ws]\n",
        "#     if i<10: print(\"key:\", ws, \"count:\", len(s))\n",
        "\n",
        "from collections import Counter\n",
        "d = Counter(words)\n",
        "print(\"Most frequent words:\", d.most_common()[0:10])\n",
        "\n",
        "# use first letter of the word to speed up lookup\n",
        "def checkKeyPrefixExist(key):\n",
        "  s = wordspref[key[0]]\n",
        "  return key in s\n",
        "\n",
        "print(\"test key exist: បាន ទ្បើង\", checkKeyPrefixExist('បាន'), checkKeyPrefixExist('ទ្បើង'))\n",
        "print('wlength:', len(wsize))\n"
      ],
      "execution_count": 69,
      "outputs": [
        {
          "output_type": "stream",
          "text": [
            "total number of articles: 100\n",
            "total number of sentences: 1000  words: 33349\n",
            "total number of distinct words: 3506\n",
            "total number wordspref: 114\n",
            "Most frequent words: [('បាន', 1188), ('។', 1001), ('ការ', 887), ('នៅ', 744), ('ដែល', 576), ('ក្នុង', 541), ('\"', 479), ('ជា', 466), ('ថា', 438), ('របស់', 408)]\n",
            "test key exist: បាន ទ្បើង True False\n",
            "wlength: 33349\n"
          ],
          "name": "stdout"
        }
      ]
    },
    {
      "cell_type": "code",
      "metadata": {
        "id": "TfklVG-lqHoo",
        "colab": {
          "base_uri": "https://localhost:8080/"
        },
        "outputId": "6d433473-66bb-481f-d7d8-42b2edf6a37a"
      },
      "source": [
        "# see list of long words\n",
        "for w in words:\n",
        "  if len(w)>=15: print(w, len(w)) "
      ],
      "execution_count": 70,
      "outputs": [
        {
          "output_type": "stream",
          "text": [
            "ម៉ាក់ស៊ីហ្គូរ៉ន 15\n",
            "ត្រេនស្នីស្ថ្រីន 16\n",
            "ភូលីដកូវស្កាយ៉ា 15\n",
            "FreeMediaOnline.org 19\n",
            "សេលីនូប្រូតេអ៊ីន 16\n",
            "វ៉ាហ្ស៊ីរីស្ថាន 15\n",
            "អាហ្វហ្គានីស្ថាន 16\n",
            "ហេដ្ឋារចនាសម្ព័ន្ធ 18\n",
            "ហ្វ្រាន់ស៊ីស្កូ 15\n",
            "មេនញ្ញូហ្វេឆឆឺរីង 17\n"
          ],
          "name": "stdout"
        }
      ]
    },
    {
      "cell_type": "code",
      "metadata": {
        "id": "ZQy9udNPbFoK",
        "colab": {
          "base_uri": "https://localhost:8080/",
          "height": 283
        },
        "outputId": "a918c134-0bc9-484a-9691-10fae109d747"
      },
      "source": [
        "plt.hist(wsize, bins=20)\n",
        "plt.xlabel(u'Character Count per Word',fontsize=14)\n",
        "plt.show()"
      ],
      "execution_count": 71,
      "outputs": [
        {
          "output_type": "display_data",
          "data": {
            "image/png": "[encoded data removed]",
            "text/plain": [
              "<Figure size 432x288 with 1 Axes>"
            ]
          },
          "metadata": {
            "tags": [],
            "needs_background": "light"
          }
        }
      ]
    },
    {
      "cell_type": "code",
      "metadata": {
        "id": "ceKeoDLjGheP"
      },
      "source": [
        "#@title Setup Khmer font for the graph (still not handling complex ligature like subscript)\n",
        "# get Khmer font for matplotlib\n",
        "from tempfile import NamedTemporaryFile\n",
        "import matplotlib.font_manager as fm\n",
        "import matplotlib.pyplot as plt\n",
        "github_url = 'https://github.com/danhhong/KohSantepheap/blob/master/Release/KohSantepheap-Regular.ttf'\n",
        "url = github_url + '?raw=true'  # You want the actual file, not some html\n",
        "from urllib.request import urlopen\n",
        "response = urlopen(url)\n",
        "f = NamedTemporaryFile(delete=False, suffix='.ttf')\n",
        "f.write(response.read())\n",
        "f.close()\n",
        "khmer_font_prop = fm.FontProperties(fname=f.name,size=12)"
      ],
      "execution_count": 72,
      "outputs": []
    },
    {
      "cell_type": "code",
      "metadata": {
        "id": "jRuIDEfgN1dX",
        "colab": {
          "base_uri": "https://localhost:8080/",
          "height": 303
        },
        "outputId": "3a4da5e3-225e-46e7-e289-c6c787430294"
      },
      "source": [
        "from __future__ import unicode_literals\n",
        "import matplotlib.pyplot as plt\n",
        "\n",
        "data = d.most_common()[0:20]  # [('។', 797), ('បាន', 730), ('និង', 569)\n",
        "print(\"Words:\", [d[0] for d in data])\n",
        "names = list(d[0] for d in data)\n",
        "values = list(d[1] for d in data)\n",
        "\n",
        "plt.figure(figsize=(16,4))\n",
        "plt.bar(range(len(data)),values,tick_label=names)\n",
        "ax = plt.gca()\n",
        "for label in ax.get_xticklabels():\n",
        "    label.set_fontproperties(khmer_font_prop)\n",
        "\n",
        "plt.xlabel(u'Word',fontsize=14)\n",
        "plt.ylabel(u'Count',fontsize=14)\n",
        "plt.show()"
      ],
      "execution_count": 73,
      "outputs": [
        {
          "output_type": "stream",
          "text": [
            "Words: ['បាន', '។', 'ការ', 'នៅ', 'ដែល', 'ក្នុង', '\"', 'ជា', 'ថា', 'របស់', 'និង', 'ពី', 'ត្រូវ', 'នៃ', 'អ្នក', 'មាន', 'មួយ', 'ទី', 'ទៅ', 'នេះ']\n"
          ],
          "name": "stdout"
        },
        {
          "output_type": "display_data",
          "data": {
            "image/png": "[encoded data removed]",
            "text/plain": [
              "<Figure size 1152x288 with 1 Axes>"
            ]
          },
          "metadata": {
            "tags": [],
            "needs_background": "light"
          }
        }
      ]
    }
  ]
}